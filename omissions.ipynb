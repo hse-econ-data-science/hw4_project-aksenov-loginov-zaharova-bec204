{
 "cells": [
  {
   "cell_type": "code",
   "execution_count": 33,
   "metadata": {},
   "outputs": [],
   "source": [
    "import pandas as pd\n",
    "import json"
   ]
  },
  {
   "cell_type": "code",
   "execution_count": 34,
   "metadata": {},
   "outputs": [
    {
     "data": {
      "text/html": [
       "<div>\n",
       "<style scoped>\n",
       "    .dataframe tbody tr th:only-of-type {\n",
       "        vertical-align: middle;\n",
       "    }\n",
       "\n",
       "    .dataframe tbody tr th {\n",
       "        vertical-align: top;\n",
       "    }\n",
       "\n",
       "    .dataframe thead th {\n",
       "        text-align: right;\n",
       "    }\n",
       "</style>\n",
       "<table border=\"1\" class=\"dataframe\">\n",
       "  <thead>\n",
       "    <tr style=\"text-align: right;\">\n",
       "      <th></th>\n",
       "      <th>Собственник</th>\n",
       "      <th>Цена аренды</th>\n",
       "      <th>Описание</th>\n",
       "      <th>Минимальное время до метро, мин</th>\n",
       "      <th>Общая площадь,  м²</th>\n",
       "      <th>Жилая площадь,  м²</th>\n",
       "      <th>Площадь кухни,  м²</th>\n",
       "      <th>Этаж квартиры</th>\n",
       "      <th>Этажей в доме</th>\n",
       "      <th>Год постройки</th>\n",
       "      <th>...</th>\n",
       "      <th>Можно с животными</th>\n",
       "      <th>Полный адрес</th>\n",
       "      <th>Улица</th>\n",
       "      <th>Район</th>\n",
       "      <th>Рекомендованная цена</th>\n",
       "      <th>Залог</th>\n",
       "      <th>Коммисия</th>\n",
       "      <th>Предоплата</th>\n",
       "      <th>Длительность съёма</th>\n",
       "      <th>Возможность торга</th>\n",
       "    </tr>\n",
       "  </thead>\n",
       "  <tbody>\n",
       "    <tr>\n",
       "      <th>0</th>\n",
       "      <td>Собственник</td>\n",
       "      <td>150000</td>\n",
       "      <td>Сдается в длительную аренду трехкомнатная квар...</td>\n",
       "      <td>8</td>\n",
       "      <td>0</td>\n",
       "      <td>0</td>\n",
       "      <td>0</td>\n",
       "      <td>0</td>\n",
       "      <td>0</td>\n",
       "      <td>0</td>\n",
       "      <td>...</td>\n",
       "      <td>Да</td>\n",
       "      <td>Москва САО р-н Хорошевский ул. Авиаконструктор...</td>\n",
       "      <td>ул. Авиаконструктора Микояна 14к2</td>\n",
       "      <td>САО</td>\n",
       "      <td>217000</td>\n",
       "      <td>150000</td>\n",
       "      <td>0</td>\n",
       "      <td>1</td>\n",
       "      <td>от года</td>\n",
       "      <td>0</td>\n",
       "    </tr>\n",
       "    <tr>\n",
       "      <th>1</th>\n",
       "      <td>ELEVEN REALTY</td>\n",
       "      <td>160000</td>\n",
       "      <td>Вашему вниманию предлагается квартира располож...</td>\n",
       "      <td>5</td>\n",
       "      <td>130</td>\n",
       "      <td>80</td>\n",
       "      <td>20</td>\n",
       "      <td>4</td>\n",
       "      <td>5</td>\n",
       "      <td>1903</td>\n",
       "      <td>...</td>\n",
       "      <td>Да</td>\n",
       "      <td>Москва ЦАО р-н Пресненский Большая Садовая ул....</td>\n",
       "      <td>Большая Садовая ул. 10</td>\n",
       "      <td>ЦАО</td>\n",
       "      <td>316000</td>\n",
       "      <td>160000</td>\n",
       "      <td>0</td>\n",
       "      <td>1</td>\n",
       "      <td>от года</td>\n",
       "      <td>0</td>\n",
       "    </tr>\n",
       "    <tr>\n",
       "      <th>2</th>\n",
       "      <td>Вероника Кудашова</td>\n",
       "      <td>160000</td>\n",
       "      <td>ЖК Шуваловский. Сдам элегантную трехкомнатную ...</td>\n",
       "      <td>3</td>\n",
       "      <td>110</td>\n",
       "      <td>60</td>\n",
       "      <td>14</td>\n",
       "      <td>6</td>\n",
       "      <td>15</td>\n",
       "      <td>2008</td>\n",
       "      <td>...</td>\n",
       "      <td>Да</td>\n",
       "      <td>Москва ЗАО р-н Раменки Мичуринский просп. 3</td>\n",
       "      <td>Мичуринский просп. 3</td>\n",
       "      <td>ЗАО</td>\n",
       "      <td>196000</td>\n",
       "      <td>160000</td>\n",
       "      <td>0</td>\n",
       "      <td>1</td>\n",
       "      <td>от года</td>\n",
       "      <td>0</td>\n",
       "    </tr>\n",
       "    <tr>\n",
       "      <th>3</th>\n",
       "      <td>ID 13539540</td>\n",
       "      <td>160000</td>\n",
       "      <td>Предлагается  в аренду большая,  светлая трехк...</td>\n",
       "      <td>15</td>\n",
       "      <td>150</td>\n",
       "      <td>110</td>\n",
       "      <td>30</td>\n",
       "      <td>3</td>\n",
       "      <td>6</td>\n",
       "      <td>1954</td>\n",
       "      <td>...</td>\n",
       "      <td>Да</td>\n",
       "      <td>Москва ЮЗАО р-н Академический ул. Кржижановско...</td>\n",
       "      <td>ул. Кржижановского 23К5</td>\n",
       "      <td>ЮЗАО</td>\n",
       "      <td>188000</td>\n",
       "      <td>160000</td>\n",
       "      <td>0</td>\n",
       "      <td>1</td>\n",
       "      <td>от года</td>\n",
       "      <td>0</td>\n",
       "    </tr>\n",
       "    <tr>\n",
       "      <th>4</th>\n",
       "      <td>Собственник</td>\n",
       "      <td>160000</td>\n",
       "      <td>Предлагается в аренду трехкомнатная квартира в...</td>\n",
       "      <td>10</td>\n",
       "      <td>105</td>\n",
       "      <td>0</td>\n",
       "      <td>0</td>\n",
       "      <td>15</td>\n",
       "      <td>29</td>\n",
       "      <td>2017</td>\n",
       "      <td>...</td>\n",
       "      <td>Да</td>\n",
       "      <td>Москва ЗАО р-н Раменки Мосфильмовская ул. 74Б</td>\n",
       "      <td>Мосфильмовская ул. 74Б</td>\n",
       "      <td>ЗАО</td>\n",
       "      <td>212000</td>\n",
       "      <td>0</td>\n",
       "      <td>0</td>\n",
       "      <td>2</td>\n",
       "      <td>от года</td>\n",
       "      <td>0</td>\n",
       "    </tr>\n",
       "  </tbody>\n",
       "</table>\n",
       "<p>5 rows × 30 columns</p>\n",
       "</div>"
      ],
      "text/plain": [
       "         Собственник  Цена аренды  \\\n",
       "0        Собственник       150000   \n",
       "1      ELEVEN REALTY       160000   \n",
       "2  Вероника Кудашова       160000   \n",
       "3        ID 13539540       160000   \n",
       "4        Собственник       160000   \n",
       "\n",
       "                                            Описание  \\\n",
       "0  Сдается в длительную аренду трехкомнатная квар...   \n",
       "1  Вашему вниманию предлагается квартира располож...   \n",
       "2  ЖК Шуваловский. Сдам элегантную трехкомнатную ...   \n",
       "3  Предлагается  в аренду большая,  светлая трехк...   \n",
       "4  Предлагается в аренду трехкомнатная квартира в...   \n",
       "\n",
       "   Минимальное время до метро, мин  Общая площадь,  м²  Жилая площадь,  м²  \\\n",
       "0                                8                   0                   0   \n",
       "1                                5                 130                  80   \n",
       "2                                3                 110                  60   \n",
       "3                               15                 150                 110   \n",
       "4                               10                 105                   0   \n",
       "\n",
       "   Площадь кухни,  м²  Этаж квартиры  Этажей в доме  Год постройки  ...  \\\n",
       "0                   0              0              0              0  ...   \n",
       "1                  20              4              5           1903  ...   \n",
       "2                  14              6             15           2008  ...   \n",
       "3                  30              3              6           1954  ...   \n",
       "4                   0             15             29           2017  ...   \n",
       "\n",
       "   Можно с животными                                       Полный адрес  \\\n",
       "0                 Да  Москва САО р-н Хорошевский ул. Авиаконструктор...   \n",
       "1                 Да  Москва ЦАО р-н Пресненский Большая Садовая ул....   \n",
       "2                 Да       Москва ЗАО р-н Раменки Мичуринский просп. 3    \n",
       "3                 Да  Москва ЮЗАО р-н Академический ул. Кржижановско...   \n",
       "4                 Да     Москва ЗАО р-н Раменки Мосфильмовская ул. 74Б    \n",
       "\n",
       "                               Улица  Район  Рекомендованная цена   Залог  \\\n",
       "0  ул. Авиаконструктора Микояна 14к2    САО                217000  150000   \n",
       "1             Большая Садовая ул. 10    ЦАО                316000  160000   \n",
       "2               Мичуринский просп. 3    ЗАО                196000  160000   \n",
       "3            ул. Кржижановского 23К5   ЮЗАО                188000  160000   \n",
       "4             Мосфильмовская ул. 74Б    ЗАО                212000       0   \n",
       "\n",
       "   Коммисия  Предоплата Длительность съёма Возможность торга  \n",
       "0         0           1            от года                 0  \n",
       "1         0           1            от года                 0  \n",
       "2         0           1            от года                 0  \n",
       "3         0           1            от года                 0  \n",
       "4         0           2            от года                 0  \n",
       "\n",
       "[5 rows x 30 columns]"
      ]
     },
     "execution_count": 34,
     "metadata": {},
     "output_type": "execute_result"
    }
   ],
   "source": [
    "# columns = ['цена аренды', ]\n",
    "\n",
    "y = []\n",
    "with open(\"data\\data_combined.json\", 'r', encoding='utf-8') as f:\n",
    "    y = json.load(f)\n",
    "\n",
    "a = []\n",
    "for elem in (y[list(y.keys())[i]][20] for i in range(len(list(y.keys())))):\n",
    "    if elem == 1:\n",
    "        a.append('Без ремонта')\n",
    "    elif elem == 2:\n",
    "        a.append('Косметический')\n",
    "    elif elem == 3:\n",
    "        a.append('Евроремонт')\n",
    "    elif elem == 4:\n",
    "        a.append('Дизайнерский')\n",
    "    else:\n",
    "        a.append(0)\n",
    "\n",
    "kids = []\n",
    "for elem in (y[list(y.keys())[i]][21] for i in range(len(list(y.keys())))):\n",
    "    if elem == 0:\n",
    "        kids.append(\"Нет\")\n",
    "    else:\n",
    "        kids.append('Да')\n",
    "\n",
    "pets = []\n",
    "for elem in (y[list(y.keys())[i]][22] for i in range(len(list(y.keys())))):\n",
    "    if elem == 0:\n",
    "        pets.append(\"Нет\")\n",
    "    else:\n",
    "        pets.append('Да')\n",
    "\n",
    "df = pd.DataFrame()\n",
    "\n",
    "\n",
    "df['Собственник'] = list(y[list(y.keys())[i]][1] for i in range(len(list(y.keys()))))\n",
    "df['Цена аренды'] = list(y[list(y.keys())[i]][0] for i in range(len(list(y.keys()))))\n",
    "df['Описание'] = list(y[list(y.keys())[i]][9] for i in range(len(list(y.keys()))))\n",
    "df['Минимальное время до метро, мин'] = list(y[list(y.keys())[i]][2] for i in range(len(list(y.keys()))))\n",
    "df['Общая площадь, \\xa0м²'] = list(y[list(y.keys())[i]][3] for i in range(len(list(y.keys()))))\n",
    "df['Жилая площадь, \\xa0м²'] = list(y[list(y.keys())[i]][4] for i in range(len(list(y.keys()))))\n",
    "df['Площадь кухни, \\xa0м²'] = list(y[list(y.keys())[i]][5] for i in range(len(list(y.keys()))))\n",
    "df['Этаж квартиры'] = list(y[list(y.keys())[i]][6] for i in range(len(list(y.keys()))))\n",
    "df['Этажей в доме'] = list(y[list(y.keys())[i]][7] for i in range(len(list(y.keys()))))\n",
    "df['Год постройки'] = list(y[list(y.keys())[i]][8] for i in range(len(list(y.keys()))))\n",
    "\n",
    "\n",
    "df['Холодильник'] = list(y[list(y.keys())[i]][10] for i in range(len(list(y.keys()))))\n",
    "df['Посудомоечная машина'] = list(y[list(y.keys())[i]][11] for i in range(len(list(y.keys()))))\n",
    "df['Мебель в комнатах'] = list(y[list(y.keys())[i]][13] for i in range(len(list(y.keys()))))\n",
    "df['Телевизор'] = list(y[list(y.keys())[i]][14] for i in range(len(list(y.keys()))))\n",
    "df['Интернет'] = list(y[list(y.keys())[i]][15] for i in range(len(list(y.keys()))))\n",
    "df['Кондиционер'] = list(y[list(y.keys())[i]][16] for i in range(len(list(y.keys()))))\n",
    "df['Душевая кабина'] = list(y[list(y.keys())[i]][17] for i in range(len(list(y.keys()))))\n",
    "df['Ванна'] = list(y[list(y.keys())[i]][18] for i in range(len(list(y.keys()))))\n",
    "\n",
    "\n",
    "\n",
    "\n",
    "df['Тип ремонта'] = a\n",
    "df['Можно с детьми'] = kids\n",
    "df['Можно с животными'] = pets\n",
    "df['Полный адрес'] = list(y[list(y.keys())[i]][25] for i in range(len(list(y.keys()))))\n",
    "df['Улица'] = list(y[list(y.keys())[i]][26] for i in range(len(list(y.keys()))))\n",
    "df['Район'] = list(y[list(y.keys())[i]][27] for i in range(len(list(y.keys()))))\n",
    "df['Рекомендованная цена'] = list(y[list(y.keys())[i]][28] for i in range(len(list(y.keys()))))\n",
    "df['Залог'] = list(y[list(y.keys())[i]][29] for i in range(len(list(y.keys()))))\n",
    "df['Коммисия'] = list(y[list(y.keys())[i]][30] for i in range(len(list(y.keys()))))\n",
    "df['Предоплата'] = list(y[list(y.keys())[i]][31] for i in range(len(list(y.keys()))))\n",
    "df['Длительность съёма'] = list(y[list(y.keys())[i]][32] for i in range(len(list(y.keys()))))\n",
    "df['Возможность торга'] = list(y[list(y.keys())[i]][33] for i in range(len(list(y.keys()))))\n",
    "\n",
    "\n",
    "\n",
    "\n",
    "\n",
    "df.style.hide_index()\n",
    "df.head()"
   ]
  },
  {
   "cell_type": "markdown",
   "metadata": {},
   "source": [
    "# Комментарии и предложения"
   ]
  },
  {
   "cell_type": "markdown",
   "metadata": {},
   "source": [
    "Основная идея: ничего не выкидывать (кроме случаев, когда пропусков больше половины).\n",
    "Определиться с гипотезами, которые будем проверять и на их основании \"резать\" таблицу - то есть оставлять строки только со значениями. Очевидно, что для проверки большинства гипотез не будут нужны все признаки, значит некоторыми (например, как раз с пропусками) можно пренебречь\n"
   ]
  },
  {
   "cell_type": "markdown",
   "metadata": {},
   "source": [
    "Предлагаю оставить детей, животных, торг: если 1 не стоит, то нет явного изъявления согласия, значит нельзя\n",
    "Если залог не указан - он не нужен. Аналогично с коммисией и предоплатой.\n",
    "Отсутствие рекомендованной цены можно обозначить как \"не указано\" (таких значений 198)"
   ]
  },
  {
   "cell_type": "markdown",
   "metadata": {},
   "source": [
    "Далее, "
   ]
  },
  {
   "cell_type": "code",
   "execution_count": 35,
   "metadata": {},
   "outputs": [
    {
     "data": {
      "text/plain": [
       "158"
      ]
     },
     "execution_count": 35,
     "metadata": {},
     "output_type": "execute_result"
    }
   ],
   "source": [
    "len(df[df['Тип ремонта']==0])"
   ]
  },
  {
   "cell_type": "markdown",
   "metadata": {},
   "source": [
    "Давайте оставим ремонт (и поставим \"нет данных\"), на его основе можно группировать что-нибудь + пропусков не очень много"
   ]
  },
  {
   "cell_type": "markdown",
   "metadata": {},
   "source": [
    "# Рассмотрим бытовую технику"
   ]
  },
  {
   "cell_type": "code",
   "execution_count": 36,
   "metadata": {},
   "outputs": [
    {
     "data": {
      "text/plain": [
       "809"
      ]
     },
     "execution_count": 36,
     "metadata": {},
     "output_type": "execute_result"
    }
   ],
   "source": [
    "q = (len(df[df['Холодильник']==0]), \n",
    "len(df[df['Мебель в комнатах']==0]),\n",
    "len(df[df['Телевизор']==0]),\n",
    "len(df[df['Интернет']==0]),\n",
    "len(df[df['Кондиционер']==0]),\n",
    "len(df[df['Душевая кабина']==0]),\n",
    "len(df[df['Ванна']==0]),\n",
    "len(df[df['Посудомоечная машина']==0]))\n",
    "\n",
    "max(q)"
   ]
  },
  {
   "cell_type": "markdown",
   "metadata": {},
   "source": [
    "Максимум меньше половины, можем всё оставить"
   ]
  },
  {
   "cell_type": "markdown",
   "metadata": {},
   "source": [
    "# Местоположение"
   ]
  },
  {
   "cell_type": "code",
   "execution_count": 37,
   "metadata": {},
   "outputs": [
    {
     "data": {
      "text/plain": [
       "130"
      ]
     },
     "execution_count": 37,
     "metadata": {},
     "output_type": "execute_result"
    }
   ],
   "source": [
    "len(df[df['Минимальное время до метро, мин']==0])"
   ]
  },
  {
   "cell_type": "markdown",
   "metadata": {},
   "source": [
    "Считаю, можно оставить."
   ]
  },
  {
   "cell_type": "code",
   "execution_count": 38,
   "metadata": {},
   "outputs": [
    {
     "data": {
      "text/plain": [
       "136"
      ]
     },
     "execution_count": 38,
     "metadata": {},
     "output_type": "execute_result"
    }
   ],
   "source": [
    "len(df[df['Общая площадь, \\xa0м²'] ==0])\n"
   ]
  },
  {
   "cell_type": "markdown",
   "metadata": {},
   "source": [
    "Отсутсвие общей площади чуть более критично, на мой взгляд. Можем вырезать совсем."
   ]
  },
  {
   "cell_type": "code",
   "execution_count": 39,
   "metadata": {},
   "outputs": [
    {
     "data": {
      "text/plain": [
       "488"
      ]
     },
     "execution_count": 39,
     "metadata": {},
     "output_type": "execute_result"
    }
   ],
   "source": [
    "len(df[df['Жилая площадь, \\xa0м²']==0])"
   ]
  },
  {
   "cell_type": "code",
   "execution_count": 40,
   "metadata": {},
   "outputs": [
    {
     "data": {
      "text/plain": [
       "516"
      ]
     },
     "execution_count": 40,
     "metadata": {},
     "output_type": "execute_result"
    }
   ],
   "source": [
    "len(df[df['Площадь кухни, \\xa0м²']==0])"
   ]
  },
  {
   "cell_type": "markdown",
   "metadata": {},
   "source": [
    "Это довольно большие значения. И информация не самая важная. Но если с оставшимися можно поработать (и у вас есть для них гипотеза), то стоит оставить"
   ]
  },
  {
   "cell_type": "code",
   "execution_count": 41,
   "metadata": {},
   "outputs": [
    {
     "data": {
      "text/plain": [
       "136"
      ]
     },
     "execution_count": 41,
     "metadata": {},
     "output_type": "execute_result"
    }
   ],
   "source": [
    "len(df[df['Этаж квартиры']==0])"
   ]
  },
  {
   "cell_type": "code",
   "execution_count": 42,
   "metadata": {},
   "outputs": [
    {
     "data": {
      "text/plain": [
       "136"
      ]
     },
     "execution_count": 42,
     "metadata": {},
     "output_type": "execute_result"
    }
   ],
   "source": [
    "len(df[df['Этажей в доме']==0])"
   ]
  },
  {
   "cell_type": "markdown",
   "metadata": {},
   "source": [
    "Если убрать эти, можно проверить гипотезу, в скольки этажных домах большинство трехкомнатных квартир (из доступных для аренды и известных нам по циану)"
   ]
  },
  {
   "cell_type": "code",
   "execution_count": 43,
   "metadata": {},
   "outputs": [
    {
     "data": {
      "text/plain": [
       "726"
      ]
     },
     "execution_count": 43,
     "metadata": {},
     "output_type": "execute_result"
    }
   ],
   "source": [
    "len(df[df['Год постройки']==0])"
   ]
  },
  {
   "cell_type": "markdown",
   "metadata": {},
   "source": [
    "в принципе, можно проверить гипотезу, аналогичную предыдущей. всё равно будет выборка из более 500 наблюдений - все формальные критерии соблюдены"
   ]
  },
  {
   "cell_type": "markdown",
   "metadata": {},
   "source": [
    "Рассчитаем количество пропусков и нулевых значений по каждому из признаков в процентах от всех наблюдений. Можно сказать, что количество пропусков точно не превышает полученные значения."
   ]
  },
  {
   "cell_type": "code",
   "execution_count": 44,
   "metadata": {},
   "outputs": [
    {
     "data": {
      "text/plain": [
       "Собственник                         0.000000\n",
       "Цена аренды                         0.000000\n",
       "Описание                            0.000000\n",
       "Минимальное время до метро, мин     8.689840\n",
       "Общая площадь,  м²                  9.090909\n",
       "Жилая площадь,  м²                 32.620321\n",
       "Площадь кухни,  м²                 34.491979\n",
       "Этаж квартиры                       9.090909\n",
       "Этажей в доме                       9.090909\n",
       "Год постройки                      48.529412\n",
       "Холодильник                        11.831551\n",
       "Посудомоечная машина               28.877005\n",
       "Мебель в комнатах                  15.574866\n",
       "Телевизор                          11.363636\n",
       "Интернет                           19.585561\n",
       "Кондиционер                        18.783422\n",
       "Душевая кабина                     35.895722\n",
       "Ванна                              54.077540\n",
       "Тип ремонта                        10.561497\n",
       "Можно с детьми                      0.000000\n",
       "Можно с животными                   0.000000\n",
       "Полный адрес                        0.000000\n",
       "Улица                               0.000000\n",
       "Район                               0.000000\n",
       "Рекомендованная цена               15.307487\n",
       "Залог                               5.080214\n",
       "Коммисия                           82.419786\n",
       "Предоплата                          2.473262\n",
       "Длительность съёма                  0.000000\n",
       "Возможность торга                  93.449198\n",
       "dtype: float64"
      ]
     },
     "execution_count": 44,
     "metadata": {},
     "output_type": "execute_result"
    }
   ],
   "source": [
    "df[df == 0].count(axis=0)/df.shape[0] * 100"
   ]
  },
  {
   "cell_type": "code",
   "execution_count": null,
   "metadata": {},
   "outputs": [],
   "source": []
  }
 ],
 "metadata": {
  "kernelspec": {
   "display_name": "Python 3",
   "language": "python",
   "name": "python3"
  },
  "language_info": {
   "codemirror_mode": {
    "name": "ipython",
    "version": 3
   },
   "file_extension": ".py",
   "mimetype": "text/x-python",
   "name": "python",
   "nbconvert_exporter": "python",
   "pygments_lexer": "ipython3",
   "version": "3.8.5"
  }
 },
 "nbformat": 4,
 "nbformat_minor": 5
}
