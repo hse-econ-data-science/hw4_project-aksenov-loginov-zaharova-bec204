{
 "cells": [
  {
   "cell_type": "markdown",
   "metadata": {},
   "source": [
    "# Шаг 1. Парсинг"
   ]
  },
  {
   "cell_type": "markdown",
   "metadata": {},
   "source": [
    "Импортируем все нужные нам библиотеки:"
   ]
  },
  {
   "cell_type": "code",
   "execution_count": 54,
   "metadata": {},
   "outputs": [],
   "source": [
    "import pandas as pd\n",
    "import numpy as np\n",
    "import requests\n",
    "from bs4 import BeautifulSoup\n",
    "from fake_useragent import UserAgent\n",
    "from tqdm.notebook import trange, tqdm\n",
    "import time\n",
    "import random\n",
    "import json\n",
    "from collections import defaultdict"
   ]
  },
  {
   "cell_type": "markdown",
   "metadata": {},
   "source": [
    "Мы будем парсить Циан, в частности, 3-комнатные квартиры в Москве, поэтому напишем функцию, которая будет собирать соответсвующие ссылки с сайта Циана:"
   ]
  },
  {
   "cell_type": "code",
   "execution_count": null,
   "metadata": {},
   "outputs": [],
   "source": [
    "def url_search(iterable):\n",
    "    urls = []\n",
    "    errors = []\n",
    "    for i in tqdm(sorted(iterable, key=lambda w: random.random())):\n",
    "        try:\n",
    "            url = f'https://www.cian.ru/cat.php?deal_type=rent&engine_version=2&offer_type=flat&p={i}&region=1&room3=1&type=4'\n",
    "            response = requests.get(url, headers={'User-Agent': UserAgent().chrome})\n",
    "            soup = BeautifulSoup(response.content)\n",
    "            print(response)\n",
    "            for item in soup.find('div', {'data-name': 'Offers'}).find_all('a'):\n",
    "                url = item.get('href')\n",
    "                if url != None and 'https://www.cian.ru/rent/flat/' in url:\n",
    "                    urls.append(url)\n",
    "            if i in errors:\n",
    "                errors.remove(i)\n",
    "            time.sleep(random.randint(1, 3))\n",
    "        except:\n",
    "            print('error')\n",
    "            errors.append(i)\n",
    "    if len(errors) > 0:\n",
    "        return urls.extend(url_search(errors)) \n",
    "    else:\n",
    "        return urls"
   ]
  },
  {
   "cell_type": "markdown",
   "metadata": {},
   "source": [
    "Применим её и получим нужные нам ссылки, которые сохраним в файл. Мы не будем парсить все 3-комнатные квартиры, а ограничимся лишь первыми 1500, которые расположены на первых 54 страницах:"
   ]
  },
  {
   "cell_type": "code",
   "execution_count": null,
   "metadata": {},
   "outputs": [],
   "source": [
    "urls = url_search(range(1, 55))\n",
    "with open('urls.json', 'w', encoding='utf8') as f:\n",
    "    json.dump(urls, f)"
   ]
  },
  {
   "cell_type": "markdown",
   "metadata": {},
   "source": [
    "Теперь необходимо запасрить полученные ссылки, для чего напишем функцию, которая будет собирать нужные нам данные по заданной ссылке:"
   ]
  },
  {
   "cell_type": "markdown",
   "metadata": {},
   "source": [
    "Структура искомого словаря:\n",
    "\n",
    "[стоимость, агенство недвижимости, время до ближайшего метро, общая площадь(метраж), жилая площадь(метраж), кухня(метраж), этаж, этажей в доме, год постройки, описание(текст), Холодильник(есть/нет), Посудомоечная машина(есть/нет), Стиральная машина(есть/нет), Мебель в комнатах(есть/нет), Мебель на кухне(есть/нет), Телевизор(есть/нет), Интернет(есть/нет), Кондиционер(есть/нет), Душевая кабина(есть/нет), Ванна(есть/нет), Тип ремонта(0 - не указан, 1 - без ремонта, 2 - косметический, 3 - Евро, 4 - Дизайнерский), окна на улицу(есть/нет), окна во двор(есть/нет), можно с детьми(есть/нет), можно с животными(есть/нет), адрес полный, адрес как улица + дом, район, рекомендованная цена, залог, комиссия(есть/нет), предоплата(за сколько месяцев), длительность, торг(есть/нет)]"
   ]
  },
  {
   "cell_type": "code",
   "execution_count": null,
   "metadata": {},
   "outputs": [],
   "source": [
    "def checkurl(urlgiven):\n",
    "    time.sleep(random.randint(30, 60))\n",
    "    try:    \n",
    "        url = urlgiven\n",
    "        response = requests.get(url, headers={'User-Agent': UserAgent().chrome})\n",
    "\n",
    "        tree = BeautifulSoup(response.content, 'html.parser')\n",
    "\n",
    "\n",
    "\n",
    "        try:\n",
    "            pricee = tree.find_all('span', {'class' : 'a10a3f92e9--price_value--1iPpd'}) #цена аренды\n",
    "            strpr = pricee[0].span.get('content')[:-7].split(' ')\n",
    "            k = 1\n",
    "            for i in strpr[::-1]:\n",
    "                price = int(i)*k\n",
    "                k *= 1000\n",
    "            #price\n",
    "        except:\n",
    "            price = 0\n",
    "\n",
    "\n",
    "\n",
    "        agency = ''\n",
    "        try:\n",
    "            agenc = tree.find_all('h2', {'class' : 'a10a3f92e9--title--2gUWg'}) #ищем агенство\n",
    "            agency = agenc[0].text\n",
    "        except:\n",
    "            agency = 'Собственник'\n",
    "        #agency\n",
    "\n",
    "\n",
    "\n",
    "        try:\n",
    "            sub = tree.find_all('span', {'class' : 'a10a3f92e9--underground_time--1fKft'}) #ищем минимальное время до метро\n",
    "            new = sub[0].text[4:].split(' ')\n",
    "            if new[-1] == 'пешком':\n",
    "                subtime = int(new[0])\n",
    "            else: \n",
    "                subtime = int(new[0]) * 2 #если стоит параметр на транспорте время домножается на 2, т.к. пешком обычно в 2 раза дольше\n",
    "        except:\n",
    "            subtime = 0\n",
    "\n",
    "\n",
    "\n",
    "        try:\n",
    "            total = 0\n",
    "            living = 0\n",
    "            kitchen = 0\n",
    "            floorst = 0\n",
    "            floormx = 0\n",
    "            built = 0\n",
    "            space = tree.find_all('div', {'class' : 'a10a3f92e9--info--3XiXi'}) #тут различные характеристики площади и состояния дома\n",
    "            for k in space:\n",
    "                i = k.text.split('\\xa0м²')\n",
    "                if i[-1] == 'Общая':\n",
    "                    total = int(i[0])\n",
    "                if i[-1] == 'Жилая':\n",
    "                    living = int(i[0])\n",
    "                if i[-1] == 'Кухня':\n",
    "                    kitchen = int(i[0])\n",
    "                if i[-1][-1] == 'ж':\n",
    "                    flor = i[0].split(' ')\n",
    "                    floorst = int(flor[0])\n",
    "                    floormx = int(flor[-1][:-4])\n",
    "                if i[-1][-1] == 'н':\n",
    "                    built = int(i[-1][:-8])\n",
    "        except:\n",
    "            total = 0\n",
    "            living = 0\n",
    "            kitchen = 0\n",
    "            floorst = 0\n",
    "            floormx = 0\n",
    "            built = 0\n",
    "\n",
    "\n",
    "\n",
    "        try:\n",
    "            descript = tree.find_all('p', {'class' : 'a10a3f92e9--description-text--3Sal4'}) #качаем описание\n",
    "            description = descript[0].text\n",
    "        except:\n",
    "            description = ''\n",
    "\n",
    "\n",
    "\n",
    "        try:\n",
    "            features = tree.find_all('ul', {'class' : 'a10a3f92e9--container--L-EIV'})[-1].text #тут поиск фурнитуры квартиры\n",
    "            fridge = 0 \n",
    "            dishwasher = 0\n",
    "            washmashine = 1\n",
    "            roomfurniture = 0\n",
    "            kitchenfurniture = 0\n",
    "            TV = 0\n",
    "            net = 0\n",
    "            condition = 0\n",
    "            dush = 0\n",
    "            vanna = 0\n",
    "            if 'Холодильник' in features:\n",
    "                fridge = 1\n",
    "            if 'Посудомоечная машина' in features:\n",
    "                dishwasher = 1\n",
    "            if 'Стиральная машина' in features:\n",
    "                washmashine = 1\n",
    "            if 'Мебель в комнатах' in features:\n",
    "                roomfurniture = 1\n",
    "            if 'Мебель на кухне' in features:\n",
    "                kitchenfurniture = 1\n",
    "            if 'Телевизор' in features:\n",
    "                TV = 1\n",
    "            if 'Интернет' in features:\n",
    "                net = 1\n",
    "            if 'Кондиционер' in features:\n",
    "                condition = 1\n",
    "            if 'Душевая кабина' in features:\n",
    "                dush = 1\n",
    "            if 'Ванна' in features:\n",
    "                vanna = 1\n",
    "        except:\n",
    "            fridge = 0 \n",
    "            dishwasher = 0\n",
    "            washmashine = 1\n",
    "            roomfurniture = 0\n",
    "            kitchenfurniture = 0\n",
    "            TV = 0\n",
    "            net = 0\n",
    "            condition = 0\n",
    "            dush = 0\n",
    "            vanna = 0\n",
    "\n",
    "\n",
    "\n",
    "        try:\n",
    "            renovation = tree.find_all('span', {'class' : 'a10a3f92e9--value--3Ftu5'}) #тут смотрим тип ремонта и куда выходят окна\n",
    "            renovationtext = ''#Тип ремонта: 0 - не указан, 1 - без ремонта, 2 - косметический, 3 - Евро, 4 - Дизайнерский\n",
    "            renovationtype = 0\n",
    "            streetwindow = 0\n",
    "            yardwindow = 0\n",
    "            for i in renovation:\n",
    "                renovationtext += i.text\n",
    "            if 'Без ремонта' in renovationtext:                                  \n",
    "                renovationtype = 1\n",
    "            if 'Косметический' in renovationtext:\n",
    "                renovationtype = 2\n",
    "            if 'Евроремонт' in renovationtext:\n",
    "                renovationtype = 3\n",
    "            if 'Дизайнерский' in renovationtext:\n",
    "                renovationtype = 4\n",
    "            if 'улицу' in renovationtext:\n",
    "                streetwindow = 1\n",
    "            if 'двор' in renovationtext:\n",
    "                yardwindow = 1\n",
    "        except:\n",
    "            renovationtype = 0\n",
    "            streetwindow = 0\n",
    "            yardwindow = 0\n",
    "\n",
    "\n",
    "\n",
    "        kids = 0\n",
    "        pets = 0\n",
    "        try:\n",
    "            kids = tree.find_all('li', {'class' : 'a10a3f92e9--item--21VpQ a10a3f92e9--kids--3mK0H'}) #проверка на детей\n",
    "            if kids[0].text == 'Можно с детьми':\n",
    "                kids = 1\n",
    "        except:\n",
    "            kids = 0\n",
    "\n",
    "\n",
    "\n",
    "        try:\n",
    "            pets = tree.find_all('li', {'class' : 'a10a3f92e9--item--21VpQ a10a3f92e9--pets--3gLzA'}) #проверка на животных\n",
    "            if pets[0].text == 'Можно с животными':\n",
    "                pets = 1\n",
    "        except:\n",
    "            pets = 0\n",
    "\n",
    "\n",
    "\n",
    "        fullplace = ''\n",
    "        streethouse = ''\n",
    "        district = ''\n",
    "        try:\n",
    "            place = tree.find_all('a', {'class' : 'a10a3f92e9--link--1t8n1 a10a3f92e9--address-item--1clHr'}) #ищем адрес(полный и улицу + дом отдельно + район)\n",
    "            for i in place:\n",
    "                fullplace += i.text\n",
    "                fullplace += ' '\n",
    "            streethouse = place[-2].text + ' ' + place[-1].text\n",
    "            district = place[1].text\n",
    "        except:\n",
    "            fullplace = ''\n",
    "            streethouse = ''\n",
    "            district = ''\n",
    "\n",
    "\n",
    "\n",
    "        recommendedprice = 0\n",
    "        try:\n",
    "            recp = tree.find_all('div', {'class' : 'a10a3f92e9--price--c1gyM'}) #смотрим рекоммендованую цену\n",
    "            recop = recp[0].text.split('\\xa0000\\xa0₽/мес.')\n",
    "            recommendedprice = int(recop[0]) * 1000\n",
    "        except:\n",
    "            recommendedprice = 0\n",
    "\n",
    "\n",
    "        try:\n",
    "            loan = tree.find_all('p', {'class' : 'a10a3f92e9--description--2xRVn'}) #тут инфа про залог, проживание и.т.д\n",
    "            loanuseful = loan[0].text.split(', ')\n",
    "            try:\n",
    "                reallone = int(loanuseful[0].split('\\xa0')[1]) * 1000 + int(loanuseful[0].split('\\xa0')[2])  #залог\n",
    "            except:\n",
    "                reallone = 0\n",
    "            try:\n",
    "                if loanuseful[1] == 'без\\xa0комиссии':  \n",
    "                    comission = 0\n",
    "                else: \n",
    "                    comission = 1\n",
    "            except:    \n",
    "                comission = 0\n",
    "            try:\n",
    "                prepay = int(loanuseful[2].split('\\xa0')[-2])\n",
    "            except:\n",
    "                prepay = 0\n",
    "            try:\n",
    "                latitude = loanuseful[3].replace('\\xa0', ' ') \n",
    "            except:\n",
    "                latitude = 0\n",
    "            try:\n",
    "                if loanuseful[4] != '':\n",
    "                    chaffer = 1\n",
    "            except:\n",
    "                chaffer = 0\n",
    "        except:\n",
    "            reallone = 0\n",
    "            comission = 0\n",
    "            prepay = 0\n",
    "            latitude = 0\n",
    "            chaffer = 0\n",
    "\n",
    "\n",
    "\n",
    "        ans = [price, agency, subtime, total, living, kitchen, floorst, floormx, built, description, fridge, dishwasher, \n",
    "               washmashine, roomfurniture, kitchenfurniture, TV, net, condition, dush, vanna, renovationtype, streetwindow, \n",
    "               yardwindow, kids, pets, fullplace, streethouse, district, recommendedprice, reallone, comission, prepay, \n",
    "               latitude, chaffer]\n",
    "        return({url : ans})\n",
    "    \n",
    "    \n",
    "    \n",
    "    except:\n",
    "        return({url : 'Долбан, её уже удалили'})"
   ]
  },
  {
   "cell_type": "markdown",
   "metadata": {},
   "source": [
    "Загрузим список нужных ссылок:"
   ]
  },
  {
   "cell_type": "code",
   "execution_count": null,
   "metadata": {},
   "outputs": [],
   "source": [
    "with open('urls.json') as f:\n",
    "    x = json.load(f)"
   ]
  },
  {
   "cell_type": "markdown",
   "metadata": {},
   "source": [
    "Запарсим их:"
   ]
  },
  {
   "cell_type": "code",
   "execution_count": null,
   "metadata": {},
   "outputs": [],
   "source": [
    "array_of_data = [ ]\n",
    "errors = [ ]\n",
    "los = 0\n",
    "pas = 0 \n",
    "for k in trange(len(x)):\n",
    "    i = x[k]\n",
    "    ret = checkurl(i)\n",
    "    if ret == {i : 'Долбан, её уже удалили'}:\n",
    "        los += 1\n",
    "    else:\n",
    "        pas += 1\n",
    "        array_of_data.append(ret)\n",
    "    print(los + pas, ' из ',  len(x), ' потерь ', los, end = '')\n",
    "    print(ret)\n",
    "    print('\\r', end = '')\n",
    "    if k % 10 == 0:\n",
    "        time.sleep(random.randint(50, 250))"
   ]
  },
  {
   "cell_type": "markdown",
   "metadata": {},
   "source": [
    "При пасринге периодически появляется капча, также парсинг мы проводим с разных компьютеров, поэтому необходимо очистить от капчи и объединить данные"
   ]
  },
  {
   "cell_type": "markdown",
   "metadata": {},
   "source": [
    "# Очитска данных от капчи"
   ]
  },
  {
   "cell_type": "markdown",
   "metadata": {},
   "source": [
    "Напишем функцию, убирающую нулевые строки в данных и возвращающую \"очищенный\" список данных и список убранных ссылок"
   ]
  },
  {
   "cell_type": "code",
   "execution_count": 16,
   "metadata": {},
   "outputs": [],
   "source": [
    "def clear_data(array_of_data): \n",
    "    captcha = [ ]\n",
    "    good_data = [ ]\n",
    "    for item in array_of_data:\n",
    "        for url in item:\n",
    "            if item[url] == [0, 'Собственник', 0, 0, 0, 0, 0, 0, 0, '', 0, 0, 1, 0, 0, 0, 0, 0, 0, 0, 0, 0, 0, 0, 0, '', '', '', 0, 0, 0, 0, 0, 0]:\n",
    "                captcha.append(url)\n",
    "            else:\n",
    "                good_data.append(item)\n",
    "    return good_data, captcha"
   ]
  },
  {
   "cell_type": "markdown",
   "metadata": {},
   "source": [
    "Используем её для собранных данных и сохраним полученный результат"
   ]
  },
  {
   "cell_type": "code",
   "execution_count": 6,
   "metadata": {},
   "outputs": [],
   "source": [
    "good_data = clear_data(array_of_data)[0]\n",
    "captcha = clear_data(array_of_data)[1]"
   ]
  },
  {
   "cell_type": "code",
   "execution_count": 7,
   "metadata": {},
   "outputs": [],
   "source": [
    "with open(\"Anton_data_1.json\", 'w', encoding='utf-8') as f:\n",
    "    json.dump(array_of_data, f, ensure_ascii=False, indent=4)"
   ]
  },
  {
   "cell_type": "markdown",
   "metadata": {},
   "source": [
    "Мы парсили в 10 сессий, поэтому последний этап выполнялся 10 раз"
   ]
  },
  {
   "cell_type": "markdown",
   "metadata": {},
   "source": [
    "# Объединение данных"
   ]
  },
  {
   "cell_type": "markdown",
   "metadata": {},
   "source": [
    "Откроем все собранные данные и объеденим их в один итоговый словарь, а также найдём ссылки, которые не удалось обработать"
   ]
  },
  {
   "cell_type": "code",
   "execution_count": 9,
   "metadata": {},
   "outputs": [],
   "source": [
    "data = [ ] # изначальные данные\n",
    "filtered_data = [ ] # очищенные от капчи данные\n",
    "captcha = [ ] # ссылки, которые не удалось обработать из-за капчи\n",
    "urls_done = set( ) # ссылки, которые удалось обработать\n",
    "final_data = { } # объединённые данные\n",
    "# извлечение 'грязных' данных из файлов\n",
    "with open(\"data\\Anton_data_1.json\", 'r', encoding='utf-8') as f:\n",
    "    data.append(json.load(f))\n",
    "with open(\"data\\Anton_data_2.json\", 'r', encoding='utf-8') as f:\n",
    "    data.append(json.load(f))\n",
    "with open(\"data\\Anton_data_3.json\", 'r', encoding='utf-8') as f:\n",
    "    data.append(json.load(f))\n",
    "with open(\"data\\Luka_data_1.json\", 'r', encoding='utf-8') as f:\n",
    "    data.append(json.load(f))\n",
    "with open(\"data\\Luka_data_2.json\", 'r', encoding='utf-8') as f:\n",
    "    data.append(json.load(f))\n",
    "with open(\"data\\Luka_data_3.json\", 'r', encoding='utf-8') as f:\n",
    "    data.append(json.load(f))\n",
    "with open(\"data\\Luka_data_4.json\", 'r', encoding='utf-8') as f:\n",
    "    data.append(json.load(f))\n",
    "with open(\"data\\Luka_data_5.json\", 'r', encoding='utf-8') as f:\n",
    "    data.append(json.load(f))\n",
    "with open(\"data\\Luka_data_6.json\", 'r', encoding='utf-8') as f:\n",
    "    data.append(json.load(f))\n",
    "with open(\"data\\Julia_data_1.json\", 'r', encoding='utf-8') as f:\n",
    "    data.append(json.load(f))\n",
    "# 'очистка' и объединение данных\n",
    "for item in data:\n",
    "    filtered_data.extend(clear_data(item)[0])\n",
    "    captcha.extend(clear_data(item)[1])\n",
    "# получение финального словаря\n",
    "for item in filtered_data:\n",
    "    for key in item:\n",
    "        final_data[key] = item[key] \n",
    "# убираем из капчи ссылки, котороые обработали\n",
    "urls_done = set(final_data.keys())\n",
    "captcha = set(captcha)\n",
    "captcha = captcha - urls_done\n",
    "captcha = list(captcha)\n",
    "# сохранение данных\n",
    "with open('data\\data_combined.json', 'w', encoding='utf8') as f:\n",
    "    json.dump(final_data, f, ensure_ascii=False, indent=4)"
   ]
  },
  {
   "cell_type": "code",
   "execution_count": 10,
   "metadata": {},
   "outputs": [],
   "source": [
    "# поиск оставшихся ссылок\n",
    "with open('urls.json', 'r') as f:\n",
    "    all_urls = set(json.load(f))\n",
    "unfinished_urls = all_urls - urls_done\n",
    "with open('unfinished_urls.json', 'w', encoding='utf8') as f:\n",
    "    json.dump(list(unfinished_urls), f)"
   ]
  },
  {
   "cell_type": "code",
   "execution_count": 11,
   "metadata": {},
   "outputs": [
    {
     "data": {
      "text/plain": [
       "{'https://www.cian.ru/rent/flat/257121750/',\n",
       " 'https://www.cian.ru/rent/flat/257803987/',\n",
       " 'https://www.cian.ru/rent/flat/257915650/'}"
      ]
     },
     "execution_count": 11,
     "metadata": {},
     "output_type": "execute_result"
    }
   ],
   "source": [
    "unfinished_urls # оставшиеся ссылки"
   ]
  },
  {
   "cell_type": "markdown",
   "metadata": {},
   "source": [
    "Проверяя данные ссылки в ручную, получим, что все эти объявления уже удалены с Циана."
   ]
  },
  {
   "cell_type": "code",
   "execution_count": 14,
   "metadata": {},
   "outputs": [
    {
     "data": {
      "text/plain": [
       "1496"
      ]
     },
     "execution_count": 14,
     "metadata": {},
     "output_type": "execute_result"
    }
   ],
   "source": [
    "len(final_data.keys())"
   ]
  },
  {
   "cell_type": "markdown",
   "metadata": {},
   "source": [
    "Итого мы обработали 1496 ссылок и объединили их в один словарь"
   ]
  },
  {
   "cell_type": "markdown",
   "metadata": {},
   "source": [
    "# Шаг 2. Предварительная обработка"
   ]
  },
  {
   "cell_type": "markdown",
   "metadata": {},
   "source": [
    "1. Сначала мы создали DataFrame на основе полученных данных:"
   ]
  },
  {
   "cell_type": "code",
   "execution_count": 165,
   "metadata": {
    "scrolled": true
   },
   "outputs": [
    {
     "data": {
      "text/html": [
       "<style  type=\"text/css\" >\n",
       "</style><table id=\"T_859767da_c615_11eb_93da_f07bcbf2f291\" ><thead>    <tr>        <th class=\"col_heading level0 col0\" >Агенство недвижимости</th>        <th class=\"col_heading level0 col1\" >Цена аренды</th>        <th class=\"col_heading level0 col2\" >Описание</th>        <th class=\"col_heading level0 col3\" >Минимальное время до метро, мин</th>        <th class=\"col_heading level0 col4\" >Общая площадь,  м²</th>        <th class=\"col_heading level0 col5\" >Жилая площадь,  м²</th>        <th class=\"col_heading level0 col6\" >Площадь кухни,  м²</th>        <th class=\"col_heading level0 col7\" >Этаж квартиры</th>        <th class=\"col_heading level0 col8\" >Этажей в доме</th>        <th class=\"col_heading level0 col9\" >Год постройки</th>        <th class=\"col_heading level0 col10\" >Холодильник</th>        <th class=\"col_heading level0 col11\" >Посудомоечная машина</th>        <th class=\"col_heading level0 col12\" >Мебель в комнатах</th>        <th class=\"col_heading level0 col13\" >Мебель на кухне</th>        <th class=\"col_heading level0 col14\" >Телевизор</th>        <th class=\"col_heading level0 col15\" >Интернет</th>        <th class=\"col_heading level0 col16\" >Кондиционер</th>        <th class=\"col_heading level0 col17\" >Душевая кабина</th>        <th class=\"col_heading level0 col18\" >Ванна</th>        <th class=\"col_heading level0 col19\" >Тип ремонта</th>        <th class=\"col_heading level0 col20\" >Окна на улицу</th>        <th class=\"col_heading level0 col21\" >Окна во двор</th>        <th class=\"col_heading level0 col22\" >Можно с детьми</th>        <th class=\"col_heading level0 col23\" >Можно с животными</th>        <th class=\"col_heading level0 col24\" >Полный адрес</th>        <th class=\"col_heading level0 col25\" >Улица</th>        <th class=\"col_heading level0 col26\" >Район</th>        <th class=\"col_heading level0 col27\" >Рекомендованная цена</th>        <th class=\"col_heading level0 col28\" >Залог</th>        <th class=\"col_heading level0 col29\" >Комиссия</th>        <th class=\"col_heading level0 col30\" >Предоплата(за сколько месяцев)</th>        <th class=\"col_heading level0 col31\" >Длительность съёма</th>        <th class=\"col_heading level0 col32\" >Возможность торга</th>    </tr></thead><tbody>\n",
       "                <tr>\n",
       "                                <td id=\"T_859767da_c615_11eb_93da_f07bcbf2f291row0_col0\" class=\"data row0 col0\" >Собственник</td>\n",
       "                        <td id=\"T_859767da_c615_11eb_93da_f07bcbf2f291row0_col1\" class=\"data row0 col1\" >150000</td>\n",
       "                        <td id=\"T_859767da_c615_11eb_93da_f07bcbf2f291row0_col2\" class=\"data row0 col2\" >Сдается в длительную аренду трехкомнатная квартира от собственника. \n",
       "\n",
       "Тихий зеленый район, развитая инфраструктура: в доме частный детский сад, в шаговой доступности школы (частная, общеобразовательная, университетская при МПГУ), аптеки, салоны красоты, в 3 минутах пешком (610 метров) ТЦ Авиапарк.\n",
       "Охраняемый ЖК, подземный паркинг (одно просторное машиноместо входит в стоимость аренды). 12 минут пешком до м. ЦСКА, 20 минут пешком до м. Аэропорт. \n",
       "\n",
       "Три комнаты: спальня с гардеробной, кабинет/детская, гостиная, совмещенная с кухней. Два санузла: туалет с раковиной в малом санузле и просторная душевая, туалет и раковина в основном. Две просторных лоджии: с выходом из кухни и из спальни. \n",
       "\n",
       "Современное оборудование: кондиционеры  и ЖК телевизоры во всех комнатах, на кухне индукционная плита, свч /духовая печь, посудомоечная машина, стиральная машина.</td>\n",
       "                        <td id=\"T_859767da_c615_11eb_93da_f07bcbf2f291row0_col3\" class=\"data row0 col3\" >8</td>\n",
       "                        <td id=\"T_859767da_c615_11eb_93da_f07bcbf2f291row0_col4\" class=\"data row0 col4\" >0</td>\n",
       "                        <td id=\"T_859767da_c615_11eb_93da_f07bcbf2f291row0_col5\" class=\"data row0 col5\" >0</td>\n",
       "                        <td id=\"T_859767da_c615_11eb_93da_f07bcbf2f291row0_col6\" class=\"data row0 col6\" >0</td>\n",
       "                        <td id=\"T_859767da_c615_11eb_93da_f07bcbf2f291row0_col7\" class=\"data row0 col7\" >0</td>\n",
       "                        <td id=\"T_859767da_c615_11eb_93da_f07bcbf2f291row0_col8\" class=\"data row0 col8\" >0</td>\n",
       "                        <td id=\"T_859767da_c615_11eb_93da_f07bcbf2f291row0_col9\" class=\"data row0 col9\" >0</td>\n",
       "                        <td id=\"T_859767da_c615_11eb_93da_f07bcbf2f291row0_col10\" class=\"data row0 col10\" >1</td>\n",
       "                        <td id=\"T_859767da_c615_11eb_93da_f07bcbf2f291row0_col11\" class=\"data row0 col11\" >1</td>\n",
       "                        <td id=\"T_859767da_c615_11eb_93da_f07bcbf2f291row0_col12\" class=\"data row0 col12\" >1</td>\n",
       "                        <td id=\"T_859767da_c615_11eb_93da_f07bcbf2f291row0_col13\" class=\"data row0 col13\" >1</td>\n",
       "                        <td id=\"T_859767da_c615_11eb_93da_f07bcbf2f291row0_col14\" class=\"data row0 col14\" >1</td>\n",
       "                        <td id=\"T_859767da_c615_11eb_93da_f07bcbf2f291row0_col15\" class=\"data row0 col15\" >1</td>\n",
       "                        <td id=\"T_859767da_c615_11eb_93da_f07bcbf2f291row0_col16\" class=\"data row0 col16\" >1</td>\n",
       "                        <td id=\"T_859767da_c615_11eb_93da_f07bcbf2f291row0_col17\" class=\"data row0 col17\" >1</td>\n",
       "                        <td id=\"T_859767da_c615_11eb_93da_f07bcbf2f291row0_col18\" class=\"data row0 col18\" >0</td>\n",
       "                        <td id=\"T_859767da_c615_11eb_93da_f07bcbf2f291row0_col19\" class=\"data row0 col19\" >4</td>\n",
       "                        <td id=\"T_859767da_c615_11eb_93da_f07bcbf2f291row0_col20\" class=\"data row0 col20\" >1</td>\n",
       "                        <td id=\"T_859767da_c615_11eb_93da_f07bcbf2f291row0_col21\" class=\"data row0 col21\" >1</td>\n",
       "                        <td id=\"T_859767da_c615_11eb_93da_f07bcbf2f291row0_col22\" class=\"data row0 col22\" >1</td>\n",
       "                        <td id=\"T_859767da_c615_11eb_93da_f07bcbf2f291row0_col23\" class=\"data row0 col23\" >0</td>\n",
       "                        <td id=\"T_859767da_c615_11eb_93da_f07bcbf2f291row0_col24\" class=\"data row0 col24\" >Москва САО р-н Хорошевский ул. Авиаконструктора Микояна 14к2 </td>\n",
       "                        <td id=\"T_859767da_c615_11eb_93da_f07bcbf2f291row0_col25\" class=\"data row0 col25\" >ул. Авиаконструктора Микояна 14к2</td>\n",
       "                        <td id=\"T_859767da_c615_11eb_93da_f07bcbf2f291row0_col26\" class=\"data row0 col26\" >САО</td>\n",
       "                        <td id=\"T_859767da_c615_11eb_93da_f07bcbf2f291row0_col27\" class=\"data row0 col27\" >217000</td>\n",
       "                        <td id=\"T_859767da_c615_11eb_93da_f07bcbf2f291row0_col28\" class=\"data row0 col28\" >150000</td>\n",
       "                        <td id=\"T_859767da_c615_11eb_93da_f07bcbf2f291row0_col29\" class=\"data row0 col29\" >0</td>\n",
       "                        <td id=\"T_859767da_c615_11eb_93da_f07bcbf2f291row0_col30\" class=\"data row0 col30\" >1</td>\n",
       "                        <td id=\"T_859767da_c615_11eb_93da_f07bcbf2f291row0_col31\" class=\"data row0 col31\" >от года</td>\n",
       "                        <td id=\"T_859767da_c615_11eb_93da_f07bcbf2f291row0_col32\" class=\"data row0 col32\" >0</td>\n",
       "            </tr>\n",
       "            <tr>\n",
       "                                <td id=\"T_859767da_c615_11eb_93da_f07bcbf2f291row1_col0\" class=\"data row1 col0\" >ELEVEN REALTY</td>\n",
       "                        <td id=\"T_859767da_c615_11eb_93da_f07bcbf2f291row1_col1\" class=\"data row1 col1\" >160000</td>\n",
       "                        <td id=\"T_859767da_c615_11eb_93da_f07bcbf2f291row1_col2\" class=\"data row1 col2\" >Вашему вниманию предлагается квартира расположенная в доме Булдакова. Окна выходят в тихий двор. В квартире имеется вся необходимая мебель и бытовая техника для комфортного проживания. \n",
       "Рассмотрим делительную аренду.</td>\n",
       "                        <td id=\"T_859767da_c615_11eb_93da_f07bcbf2f291row1_col3\" class=\"data row1 col3\" >5</td>\n",
       "                        <td id=\"T_859767da_c615_11eb_93da_f07bcbf2f291row1_col4\" class=\"data row1 col4\" >130</td>\n",
       "                        <td id=\"T_859767da_c615_11eb_93da_f07bcbf2f291row1_col5\" class=\"data row1 col5\" >80</td>\n",
       "                        <td id=\"T_859767da_c615_11eb_93da_f07bcbf2f291row1_col6\" class=\"data row1 col6\" >20</td>\n",
       "                        <td id=\"T_859767da_c615_11eb_93da_f07bcbf2f291row1_col7\" class=\"data row1 col7\" >4</td>\n",
       "                        <td id=\"T_859767da_c615_11eb_93da_f07bcbf2f291row1_col8\" class=\"data row1 col8\" >5</td>\n",
       "                        <td id=\"T_859767da_c615_11eb_93da_f07bcbf2f291row1_col9\" class=\"data row1 col9\" >1903</td>\n",
       "                        <td id=\"T_859767da_c615_11eb_93da_f07bcbf2f291row1_col10\" class=\"data row1 col10\" >1</td>\n",
       "                        <td id=\"T_859767da_c615_11eb_93da_f07bcbf2f291row1_col11\" class=\"data row1 col11\" >1</td>\n",
       "                        <td id=\"T_859767da_c615_11eb_93da_f07bcbf2f291row1_col12\" class=\"data row1 col12\" >1</td>\n",
       "                        <td id=\"T_859767da_c615_11eb_93da_f07bcbf2f291row1_col13\" class=\"data row1 col13\" >1</td>\n",
       "                        <td id=\"T_859767da_c615_11eb_93da_f07bcbf2f291row1_col14\" class=\"data row1 col14\" >1</td>\n",
       "                        <td id=\"T_859767da_c615_11eb_93da_f07bcbf2f291row1_col15\" class=\"data row1 col15\" >1</td>\n",
       "                        <td id=\"T_859767da_c615_11eb_93da_f07bcbf2f291row1_col16\" class=\"data row1 col16\" >1</td>\n",
       "                        <td id=\"T_859767da_c615_11eb_93da_f07bcbf2f291row1_col17\" class=\"data row1 col17\" >0</td>\n",
       "                        <td id=\"T_859767da_c615_11eb_93da_f07bcbf2f291row1_col18\" class=\"data row1 col18\" >1</td>\n",
       "                        <td id=\"T_859767da_c615_11eb_93da_f07bcbf2f291row1_col19\" class=\"data row1 col19\" >4</td>\n",
       "                        <td id=\"T_859767da_c615_11eb_93da_f07bcbf2f291row1_col20\" class=\"data row1 col20\" >0</td>\n",
       "                        <td id=\"T_859767da_c615_11eb_93da_f07bcbf2f291row1_col21\" class=\"data row1 col21\" >1</td>\n",
       "                        <td id=\"T_859767da_c615_11eb_93da_f07bcbf2f291row1_col22\" class=\"data row1 col22\" >1</td>\n",
       "                        <td id=\"T_859767da_c615_11eb_93da_f07bcbf2f291row1_col23\" class=\"data row1 col23\" >1</td>\n",
       "                        <td id=\"T_859767da_c615_11eb_93da_f07bcbf2f291row1_col24\" class=\"data row1 col24\" >Москва ЦАО р-н Пресненский Большая Садовая ул. 10 </td>\n",
       "                        <td id=\"T_859767da_c615_11eb_93da_f07bcbf2f291row1_col25\" class=\"data row1 col25\" >Большая Садовая ул. 10</td>\n",
       "                        <td id=\"T_859767da_c615_11eb_93da_f07bcbf2f291row1_col26\" class=\"data row1 col26\" >ЦАО</td>\n",
       "                        <td id=\"T_859767da_c615_11eb_93da_f07bcbf2f291row1_col27\" class=\"data row1 col27\" >316000</td>\n",
       "                        <td id=\"T_859767da_c615_11eb_93da_f07bcbf2f291row1_col28\" class=\"data row1 col28\" >160000</td>\n",
       "                        <td id=\"T_859767da_c615_11eb_93da_f07bcbf2f291row1_col29\" class=\"data row1 col29\" >0</td>\n",
       "                        <td id=\"T_859767da_c615_11eb_93da_f07bcbf2f291row1_col30\" class=\"data row1 col30\" >1</td>\n",
       "                        <td id=\"T_859767da_c615_11eb_93da_f07bcbf2f291row1_col31\" class=\"data row1 col31\" >от года</td>\n",
       "                        <td id=\"T_859767da_c615_11eb_93da_f07bcbf2f291row1_col32\" class=\"data row1 col32\" >0</td>\n",
       "            </tr>\n",
       "            <tr>\n",
       "                                <td id=\"T_859767da_c615_11eb_93da_f07bcbf2f291row2_col0\" class=\"data row2 col0\" >Вероника Кудашова</td>\n",
       "                        <td id=\"T_859767da_c615_11eb_93da_f07bcbf2f291row2_col1\" class=\"data row2 col1\" >160000</td>\n",
       "                        <td id=\"T_859767da_c615_11eb_93da_f07bcbf2f291row2_col2\" class=\"data row2 col2\" >ЖК Шуваловский. Сдам элегантную трехкомнатную квартиру - мастер-спальня с выходом на лоджию, детская с гардеробной, два санузла, большая гардеробная, кухня-столовая-гостиная с панорамным окном. В спальнях минимум мебели, кровати уже привезли. Кухня-гостиная с мебелью и техникой.\n",
       "Охраняемая территория, паркинг, детская площадка во дворе. Богатая инфраструктура района.</td>\n",
       "                        <td id=\"T_859767da_c615_11eb_93da_f07bcbf2f291row2_col3\" class=\"data row2 col3\" >3</td>\n",
       "                        <td id=\"T_859767da_c615_11eb_93da_f07bcbf2f291row2_col4\" class=\"data row2 col4\" >110</td>\n",
       "                        <td id=\"T_859767da_c615_11eb_93da_f07bcbf2f291row2_col5\" class=\"data row2 col5\" >60</td>\n",
       "                        <td id=\"T_859767da_c615_11eb_93da_f07bcbf2f291row2_col6\" class=\"data row2 col6\" >14</td>\n",
       "                        <td id=\"T_859767da_c615_11eb_93da_f07bcbf2f291row2_col7\" class=\"data row2 col7\" >6</td>\n",
       "                        <td id=\"T_859767da_c615_11eb_93da_f07bcbf2f291row2_col8\" class=\"data row2 col8\" >15</td>\n",
       "                        <td id=\"T_859767da_c615_11eb_93da_f07bcbf2f291row2_col9\" class=\"data row2 col9\" >2008</td>\n",
       "                        <td id=\"T_859767da_c615_11eb_93da_f07bcbf2f291row2_col10\" class=\"data row2 col10\" >1</td>\n",
       "                        <td id=\"T_859767da_c615_11eb_93da_f07bcbf2f291row2_col11\" class=\"data row2 col11\" >1</td>\n",
       "                        <td id=\"T_859767da_c615_11eb_93da_f07bcbf2f291row2_col12\" class=\"data row2 col12\" >1</td>\n",
       "                        <td id=\"T_859767da_c615_11eb_93da_f07bcbf2f291row2_col13\" class=\"data row2 col13\" >1</td>\n",
       "                        <td id=\"T_859767da_c615_11eb_93da_f07bcbf2f291row2_col14\" class=\"data row2 col14\" >1</td>\n",
       "                        <td id=\"T_859767da_c615_11eb_93da_f07bcbf2f291row2_col15\" class=\"data row2 col15\" >1</td>\n",
       "                        <td id=\"T_859767da_c615_11eb_93da_f07bcbf2f291row2_col16\" class=\"data row2 col16\" >1</td>\n",
       "                        <td id=\"T_859767da_c615_11eb_93da_f07bcbf2f291row2_col17\" class=\"data row2 col17\" >0</td>\n",
       "                        <td id=\"T_859767da_c615_11eb_93da_f07bcbf2f291row2_col18\" class=\"data row2 col18\" >1</td>\n",
       "                        <td id=\"T_859767da_c615_11eb_93da_f07bcbf2f291row2_col19\" class=\"data row2 col19\" >4</td>\n",
       "                        <td id=\"T_859767da_c615_11eb_93da_f07bcbf2f291row2_col20\" class=\"data row2 col20\" >1</td>\n",
       "                        <td id=\"T_859767da_c615_11eb_93da_f07bcbf2f291row2_col21\" class=\"data row2 col21\" >1</td>\n",
       "                        <td id=\"T_859767da_c615_11eb_93da_f07bcbf2f291row2_col22\" class=\"data row2 col22\" >1</td>\n",
       "                        <td id=\"T_859767da_c615_11eb_93da_f07bcbf2f291row2_col23\" class=\"data row2 col23\" >0</td>\n",
       "                        <td id=\"T_859767da_c615_11eb_93da_f07bcbf2f291row2_col24\" class=\"data row2 col24\" >Москва ЗАО р-н Раменки Мичуринский просп. 3 </td>\n",
       "                        <td id=\"T_859767da_c615_11eb_93da_f07bcbf2f291row2_col25\" class=\"data row2 col25\" >Мичуринский просп. 3</td>\n",
       "                        <td id=\"T_859767da_c615_11eb_93da_f07bcbf2f291row2_col26\" class=\"data row2 col26\" >ЗАО</td>\n",
       "                        <td id=\"T_859767da_c615_11eb_93da_f07bcbf2f291row2_col27\" class=\"data row2 col27\" >196000</td>\n",
       "                        <td id=\"T_859767da_c615_11eb_93da_f07bcbf2f291row2_col28\" class=\"data row2 col28\" >160000</td>\n",
       "                        <td id=\"T_859767da_c615_11eb_93da_f07bcbf2f291row2_col29\" class=\"data row2 col29\" >0</td>\n",
       "                        <td id=\"T_859767da_c615_11eb_93da_f07bcbf2f291row2_col30\" class=\"data row2 col30\" >1</td>\n",
       "                        <td id=\"T_859767da_c615_11eb_93da_f07bcbf2f291row2_col31\" class=\"data row2 col31\" >от года</td>\n",
       "                        <td id=\"T_859767da_c615_11eb_93da_f07bcbf2f291row2_col32\" class=\"data row2 col32\" >0</td>\n",
       "            </tr>\n",
       "            <tr>\n",
       "                                <td id=\"T_859767da_c615_11eb_93da_f07bcbf2f291row3_col0\" class=\"data row3 col0\" >ID 13539540</td>\n",
       "                        <td id=\"T_859767da_c615_11eb_93da_f07bcbf2f291row3_col1\" class=\"data row3 col1\" >160000</td>\n",
       "                        <td id=\"T_859767da_c615_11eb_93da_f07bcbf2f291row3_col2\" class=\"data row3 col2\" >Предлагается  в аренду большая,  светлая трехкомнатная квартира с высокими потолками и  дизайнерским ремонтом.  Планировка квартиры включает в себя: гостиную, совмещенную с кухней, две изолированные спальни, в каждой из которых есть оборудованная гардеробная комната.  Два  санузла. В одном санузле ванна, в другом - душевая кабина. При необходимости, мебель покупается под клиента.</td>\n",
       "                        <td id=\"T_859767da_c615_11eb_93da_f07bcbf2f291row3_col3\" class=\"data row3 col3\" >15</td>\n",
       "                        <td id=\"T_859767da_c615_11eb_93da_f07bcbf2f291row3_col4\" class=\"data row3 col4\" >150</td>\n",
       "                        <td id=\"T_859767da_c615_11eb_93da_f07bcbf2f291row3_col5\" class=\"data row3 col5\" >110</td>\n",
       "                        <td id=\"T_859767da_c615_11eb_93da_f07bcbf2f291row3_col6\" class=\"data row3 col6\" >30</td>\n",
       "                        <td id=\"T_859767da_c615_11eb_93da_f07bcbf2f291row3_col7\" class=\"data row3 col7\" >3</td>\n",
       "                        <td id=\"T_859767da_c615_11eb_93da_f07bcbf2f291row3_col8\" class=\"data row3 col8\" >6</td>\n",
       "                        <td id=\"T_859767da_c615_11eb_93da_f07bcbf2f291row3_col9\" class=\"data row3 col9\" >1954</td>\n",
       "                        <td id=\"T_859767da_c615_11eb_93da_f07bcbf2f291row3_col10\" class=\"data row3 col10\" >1</td>\n",
       "                        <td id=\"T_859767da_c615_11eb_93da_f07bcbf2f291row3_col11\" class=\"data row3 col11\" >1</td>\n",
       "                        <td id=\"T_859767da_c615_11eb_93da_f07bcbf2f291row3_col12\" class=\"data row3 col12\" >0</td>\n",
       "                        <td id=\"T_859767da_c615_11eb_93da_f07bcbf2f291row3_col13\" class=\"data row3 col13\" >1</td>\n",
       "                        <td id=\"T_859767da_c615_11eb_93da_f07bcbf2f291row3_col14\" class=\"data row3 col14\" >0</td>\n",
       "                        <td id=\"T_859767da_c615_11eb_93da_f07bcbf2f291row3_col15\" class=\"data row3 col15\" >1</td>\n",
       "                        <td id=\"T_859767da_c615_11eb_93da_f07bcbf2f291row3_col16\" class=\"data row3 col16\" >1</td>\n",
       "                        <td id=\"T_859767da_c615_11eb_93da_f07bcbf2f291row3_col17\" class=\"data row3 col17\" >1</td>\n",
       "                        <td id=\"T_859767da_c615_11eb_93da_f07bcbf2f291row3_col18\" class=\"data row3 col18\" >1</td>\n",
       "                        <td id=\"T_859767da_c615_11eb_93da_f07bcbf2f291row3_col19\" class=\"data row3 col19\" >4</td>\n",
       "                        <td id=\"T_859767da_c615_11eb_93da_f07bcbf2f291row3_col20\" class=\"data row3 col20\" >1</td>\n",
       "                        <td id=\"T_859767da_c615_11eb_93da_f07bcbf2f291row3_col21\" class=\"data row3 col21\" >1</td>\n",
       "                        <td id=\"T_859767da_c615_11eb_93da_f07bcbf2f291row3_col22\" class=\"data row3 col22\" >1</td>\n",
       "                        <td id=\"T_859767da_c615_11eb_93da_f07bcbf2f291row3_col23\" class=\"data row3 col23\" >0</td>\n",
       "                        <td id=\"T_859767da_c615_11eb_93da_f07bcbf2f291row3_col24\" class=\"data row3 col24\" >Москва ЮЗАО р-н Академический ул. Кржижановского 23К5 </td>\n",
       "                        <td id=\"T_859767da_c615_11eb_93da_f07bcbf2f291row3_col25\" class=\"data row3 col25\" >ул. Кржижановского 23К5</td>\n",
       "                        <td id=\"T_859767da_c615_11eb_93da_f07bcbf2f291row3_col26\" class=\"data row3 col26\" >ЮЗАО</td>\n",
       "                        <td id=\"T_859767da_c615_11eb_93da_f07bcbf2f291row3_col27\" class=\"data row3 col27\" >188000</td>\n",
       "                        <td id=\"T_859767da_c615_11eb_93da_f07bcbf2f291row3_col28\" class=\"data row3 col28\" >160000</td>\n",
       "                        <td id=\"T_859767da_c615_11eb_93da_f07bcbf2f291row3_col29\" class=\"data row3 col29\" >0</td>\n",
       "                        <td id=\"T_859767da_c615_11eb_93da_f07bcbf2f291row3_col30\" class=\"data row3 col30\" >1</td>\n",
       "                        <td id=\"T_859767da_c615_11eb_93da_f07bcbf2f291row3_col31\" class=\"data row3 col31\" >от года</td>\n",
       "                        <td id=\"T_859767da_c615_11eb_93da_f07bcbf2f291row3_col32\" class=\"data row3 col32\" >0</td>\n",
       "            </tr>\n",
       "            <tr>\n",
       "                                <td id=\"T_859767da_c615_11eb_93da_f07bcbf2f291row4_col0\" class=\"data row4 col0\" >Собственник</td>\n",
       "                        <td id=\"T_859767da_c615_11eb_93da_f07bcbf2f291row4_col1\" class=\"data row4 col1\" >160000</td>\n",
       "                        <td id=\"T_859767da_c615_11eb_93da_f07bcbf2f291row4_col2\" class=\"data row4 col2\" >Предлагается в аренду трехкомнатная квартира в элитном ЖК \"МОСФИЛЬМОВСКАЯ\". Замечательные видовые характеристики и функциональная планировка. Квартира оснащена всей необходимой техникой.Качественный ремонт. Машино-место на подземном паркинге входит в стоимость. СОБСТВЕННИК</td>\n",
       "                        <td id=\"T_859767da_c615_11eb_93da_f07bcbf2f291row4_col3\" class=\"data row4 col3\" >10</td>\n",
       "                        <td id=\"T_859767da_c615_11eb_93da_f07bcbf2f291row4_col4\" class=\"data row4 col4\" >105</td>\n",
       "                        <td id=\"T_859767da_c615_11eb_93da_f07bcbf2f291row4_col5\" class=\"data row4 col5\" >0</td>\n",
       "                        <td id=\"T_859767da_c615_11eb_93da_f07bcbf2f291row4_col6\" class=\"data row4 col6\" >0</td>\n",
       "                        <td id=\"T_859767da_c615_11eb_93da_f07bcbf2f291row4_col7\" class=\"data row4 col7\" >15</td>\n",
       "                        <td id=\"T_859767da_c615_11eb_93da_f07bcbf2f291row4_col8\" class=\"data row4 col8\" >29</td>\n",
       "                        <td id=\"T_859767da_c615_11eb_93da_f07bcbf2f291row4_col9\" class=\"data row4 col9\" >2017</td>\n",
       "                        <td id=\"T_859767da_c615_11eb_93da_f07bcbf2f291row4_col10\" class=\"data row4 col10\" >1</td>\n",
       "                        <td id=\"T_859767da_c615_11eb_93da_f07bcbf2f291row4_col11\" class=\"data row4 col11\" >1</td>\n",
       "                        <td id=\"T_859767da_c615_11eb_93da_f07bcbf2f291row4_col12\" class=\"data row4 col12\" >1</td>\n",
       "                        <td id=\"T_859767da_c615_11eb_93da_f07bcbf2f291row4_col13\" class=\"data row4 col13\" >1</td>\n",
       "                        <td id=\"T_859767da_c615_11eb_93da_f07bcbf2f291row4_col14\" class=\"data row4 col14\" >1</td>\n",
       "                        <td id=\"T_859767da_c615_11eb_93da_f07bcbf2f291row4_col15\" class=\"data row4 col15\" >1</td>\n",
       "                        <td id=\"T_859767da_c615_11eb_93da_f07bcbf2f291row4_col16\" class=\"data row4 col16\" >1</td>\n",
       "                        <td id=\"T_859767da_c615_11eb_93da_f07bcbf2f291row4_col17\" class=\"data row4 col17\" >1</td>\n",
       "                        <td id=\"T_859767da_c615_11eb_93da_f07bcbf2f291row4_col18\" class=\"data row4 col18\" >0</td>\n",
       "                        <td id=\"T_859767da_c615_11eb_93da_f07bcbf2f291row4_col19\" class=\"data row4 col19\" >3</td>\n",
       "                        <td id=\"T_859767da_c615_11eb_93da_f07bcbf2f291row4_col20\" class=\"data row4 col20\" >1</td>\n",
       "                        <td id=\"T_859767da_c615_11eb_93da_f07bcbf2f291row4_col21\" class=\"data row4 col21\" >1</td>\n",
       "                        <td id=\"T_859767da_c615_11eb_93da_f07bcbf2f291row4_col22\" class=\"data row4 col22\" >1</td>\n",
       "                        <td id=\"T_859767da_c615_11eb_93da_f07bcbf2f291row4_col23\" class=\"data row4 col23\" >0</td>\n",
       "                        <td id=\"T_859767da_c615_11eb_93da_f07bcbf2f291row4_col24\" class=\"data row4 col24\" >Москва ЗАО р-н Раменки Мосфильмовская ул. 74Б </td>\n",
       "                        <td id=\"T_859767da_c615_11eb_93da_f07bcbf2f291row4_col25\" class=\"data row4 col25\" >Мосфильмовская ул. 74Б</td>\n",
       "                        <td id=\"T_859767da_c615_11eb_93da_f07bcbf2f291row4_col26\" class=\"data row4 col26\" >ЗАО</td>\n",
       "                        <td id=\"T_859767da_c615_11eb_93da_f07bcbf2f291row4_col27\" class=\"data row4 col27\" >212000</td>\n",
       "                        <td id=\"T_859767da_c615_11eb_93da_f07bcbf2f291row4_col28\" class=\"data row4 col28\" >0</td>\n",
       "                        <td id=\"T_859767da_c615_11eb_93da_f07bcbf2f291row4_col29\" class=\"data row4 col29\" >0</td>\n",
       "                        <td id=\"T_859767da_c615_11eb_93da_f07bcbf2f291row4_col30\" class=\"data row4 col30\" >2</td>\n",
       "                        <td id=\"T_859767da_c615_11eb_93da_f07bcbf2f291row4_col31\" class=\"data row4 col31\" >от года</td>\n",
       "                        <td id=\"T_859767da_c615_11eb_93da_f07bcbf2f291row4_col32\" class=\"data row4 col32\" >0</td>\n",
       "            </tr>\n",
       "    </tbody></table>"
      ],
      "text/plain": [
       "<pandas.io.formats.style.Styler at 0x13f4cd4400>"
      ]
     },
     "execution_count": 165,
     "metadata": {},
     "output_type": "execute_result"
    }
   ],
   "source": [
    "import pandas as pd\n",
    "import json\n",
    "\n",
    "\n",
    "y = []\n",
    "with open(\"data\\data_combined.json\", 'r', encoding='utf-8') as f:\n",
    "    y = json.load(f)\n",
    "\n",
    "df = pd.DataFrame(y)\n",
    "df = df.T\n",
    " \n",
    "df.columns = ['Цена аренды', 'Агенство недвижимости', 'Минимальное время до метро, мин', 'Общая площадь,  м²', 'Жилая площадь,  м²', 'Площадь кухни,  м²', 'Этаж квартиры', 'Этажей в доме', \"Год постройки\", \"Описание\", \"Холодильник\", \"Посудомоечная машина\", \"Стиральная машина\", \"Мебель в комнатах\", \"Мебель на кухне\", \"Телевизор\", \"Интернет\", \"Кондиционер\", \"Душевая кабина\", \"Ванна\", \"Тип ремонта\", \"Окна на улицу\", \"Окна во двор\", \"Можно с детьми\", \"Можно с животными\", \"Полный адрес\", \"Улица\", \"Район\", \"Рекомендованная цена\", \"Залог\", \"Комиссия\", \"Предоплата(за сколько месяцев)\", \"Длительность съёма\", \"Возможность торга\"]\n",
    "df = df.reindex(columns = ['Агенство недвижимости', 'Цена аренды','Описание',\n",
    "       'Минимальное время до метро, мин', 'Общая площадь,  м²',\n",
    "       'Жилая площадь,  м²', 'Площадь кухни,  м²', 'Этаж квартиры',\n",
    "       'Этажей в доме', 'Год постройки', 'Холодильник', 'Посудомоечная машина', 'Стиральная машина',\n",
    "       'Мебель в комнатах',  'Мебель на кухне', 'Телевизор', 'Интернет', 'Кондиционер',\n",
    "       'Душевая кабина', 'Ванна', 'Тип ремонта', 'Окна на улицу', 'Окна во двор', 'Можно с детьми',\n",
    "       'Можно с животными', 'Полный адрес', 'Улица', 'Район',\n",
    "       'Рекомендованная цена', 'Залог', 'Комиссия', 'Предоплата(за сколько месяцев)',\n",
    "       'Длительность съёма', 'Возможность торга'])\n",
    "df = df.drop(columns=['Стиральная машина'])\n",
    "\n",
    "df.head().style.hide_index()"
   ]
  },
  {
   "cell_type": "markdown",
   "metadata": {},
   "source": [
    "Итого получили следующие колонки:"
   ]
  },
  {
   "cell_type": "code",
   "execution_count": 166,
   "metadata": {
    "scrolled": false
   },
   "outputs": [
    {
     "data": {
      "text/plain": [
       "Index(['Агенство недвижимости', 'Цена аренды', 'Описание',\n",
       "       'Минимальное время до метро, мин', 'Общая площадь,  м²',\n",
       "       'Жилая площадь,  м²', 'Площадь кухни,  м²', 'Этаж квартиры',\n",
       "       'Этажей в доме', 'Год постройки', 'Холодильник', 'Посудомоечная машина',\n",
       "       'Мебель в комнатах', 'Мебель на кухне', 'Телевизор', 'Интернет',\n",
       "       'Кондиционер', 'Душевая кабина', 'Ванна', 'Тип ремонта',\n",
       "       'Окна на улицу', 'Окна во двор', 'Можно с детьми', 'Можно с животными',\n",
       "       'Полный адрес', 'Улица', 'Район', 'Рекомендованная цена', 'Залог',\n",
       "       'Комиссия', 'Предоплата(за сколько месяцев)', 'Длительность съёма',\n",
       "       'Возможность торга'],\n",
       "      dtype='object')"
      ]
     },
     "execution_count": 166,
     "metadata": {},
     "output_type": "execute_result"
    }
   ],
   "source": [
    "df.columns"
   ]
  },
  {
   "cell_type": "markdown",
   "metadata": {},
   "source": [
    "2. Затем составили таблицу, в которой рассмотрели, сколько 0 мы получили по каждому из признаков в процентном соотношении:"
   ]
  },
  {
   "cell_type": "code",
   "execution_count": 167,
   "metadata": {},
   "outputs": [
    {
     "data": {
      "text/plain": [
       "Агенство недвижимости               0.000000\n",
       "Цена аренды                         0.000000\n",
       "Описание                            0.000000\n",
       "Минимальное время до метро, мин     8.689840\n",
       "Общая площадь,  м²                  9.090909\n",
       "Жилая площадь,  м²                 32.620321\n",
       "Площадь кухни,  м²                 34.491979\n",
       "Этаж квартиры                       9.090909\n",
       "Этажей в доме                       9.090909\n",
       "Год постройки                      48.529412\n",
       "Холодильник                        11.831551\n",
       "Посудомоечная машина               28.877005\n",
       "Мебель в комнатах                  15.574866\n",
       "Мебель на кухне                    11.363636\n",
       "Телевизор                          19.585561\n",
       "Интернет                           18.783422\n",
       "Кондиционер                        35.895722\n",
       "Душевая кабина                     54.077540\n",
       "Ванна                              32.687166\n",
       "Тип ремонта                        10.561497\n",
       "Окна на улицу                      50.735294\n",
       "Окна во двор                       33.622995\n",
       "Можно с детьми                     27.606952\n",
       "Можно с животными                  62.566845\n",
       "Полный адрес                        0.000000\n",
       "Улица                               0.000000\n",
       "Район                               0.000000\n",
       "Рекомендованная цена               15.307487\n",
       "Залог                               5.080214\n",
       "Комиссия                           82.419786\n",
       "Предоплата(за сколько месяцев)      2.473262\n",
       "Длительность съёма                  0.000000\n",
       "Возможность торга                  93.449198\n",
       "dtype: float64"
      ]
     },
     "execution_count": 167,
     "metadata": {},
     "output_type": "execute_result"
    }
   ],
   "source": [
    "df[df == 0].count(axis=0)/df.shape[0] * 100"
   ]
  },
  {
   "cell_type": "markdown",
   "metadata": {},
   "source": [
    "Очевидно, что по некоторым признакам их совсем нет. А по некоторым признакам 0 может означать отсутствие какой-либо возможности или запрет. Мы решили исходить из того, что если что-то прямо не разрешено в объявлении и, как следствие, не указано в нём, то оно именно отсутсвует или запрещено. Поэтому 0 в столбцах \"Возможность торга\", \"Предоплата\", \"Комиссия\", \"Залог\", \"Рекомендованная цена\" мы пометили как \"Отсутствует\". А в столбцах \"Можно с детьми\" и \"Можно с животными\" 0 - это \"Нет\""
   ]
  },
  {
   "cell_type": "code",
   "execution_count": 168,
   "metadata": {
    "scrolled": true
   },
   "outputs": [],
   "source": [
    "df.loc[df['Рекомендованная цена']== 0, 'Рекомендованная цена'] = 'Отсутствует'\n",
    "df.loc[df['Залог']== 0, 'Залог'] = 'Отсутствует'\n",
    "df.loc[df['Комиссия']== 0, 'Комиссия'] = 'Отсутствует'\n",
    "df.loc[df['Длительность съёма']== 0, 'Длительность съёма'] = 'Отсутствует'\n",
    "df.loc[df['Предоплата(за сколько месяцев)']== 0, 'Предоплата(за сколько месяцев)'] = 'Отсутствует'\n",
    "df.loc[df['Возможность торга']== 0, 'Возможность торга'] = 'Отсутствует'\n",
    "df.loc[df['Можно с животными']== 0, 'Можно с животными'] = 'Нет'\n",
    "df.loc[df['Можно с животными']== 1, 'Можно с животными'] = 'Да'\n",
    "df.loc[df['Можно с детьми']== 0, 'Можно с детьми'] = 'Нет'\n",
    "df.loc[df['Можно с детьми']== 1, 'Можно с детьми'] = 'Да'\n",
    "df.loc[df['Тип ремонта']== 0, 'Тип ремонта'] = 'Не указан'\n",
    "df.loc[df['Тип ремонта']== 1, 'Тип ремонта'] = 'Без ремонта'\n",
    "df.loc[df['Тип ремонта']== 2, 'Тип ремонта'] = 'Косметический'\n",
    "df.loc[df['Тип ремонта']== 3, 'Тип ремонта'] = 'Евроремонт'\n",
    "df.loc[df['Тип ремонта']== 4, 'Тип ремонта'] = 'Дизайнерский'\n",
    "df.loc[df['Окна на улицу']== 0, 'Окна на улицу'] = 'Нет'\n",
    "df.loc[df['Окна на улицу']== 1, 'Окна на улицу'] = 'Да'\n",
    "df.loc[df['Окна во двор']== 0, 'Окна во двор'] = 'Нет'\n",
    "df.loc[df['Окна во двор']== 1, 'Окна во двор'] = 'Да'"
   ]
  },
  {
   "cell_type": "code",
   "execution_count": 169,
   "metadata": {},
   "outputs": [
    {
     "data": {
      "text/html": [
       "<style  type=\"text/css\" >\n",
       "</style><table id=\"T_8625492d_c615_11eb_acad_f07bcbf2f291\" ><thead>    <tr>        <th class=\"col_heading level0 col0\" >Агенство недвижимости</th>        <th class=\"col_heading level0 col1\" >Цена аренды</th>        <th class=\"col_heading level0 col2\" >Описание</th>        <th class=\"col_heading level0 col3\" >Минимальное время до метро, мин</th>        <th class=\"col_heading level0 col4\" >Общая площадь,  м²</th>        <th class=\"col_heading level0 col5\" >Жилая площадь,  м²</th>        <th class=\"col_heading level0 col6\" >Площадь кухни,  м²</th>        <th class=\"col_heading level0 col7\" >Этаж квартиры</th>        <th class=\"col_heading level0 col8\" >Этажей в доме</th>        <th class=\"col_heading level0 col9\" >Год постройки</th>        <th class=\"col_heading level0 col10\" >Холодильник</th>        <th class=\"col_heading level0 col11\" >Посудомоечная машина</th>        <th class=\"col_heading level0 col12\" >Мебель в комнатах</th>        <th class=\"col_heading level0 col13\" >Мебель на кухне</th>        <th class=\"col_heading level0 col14\" >Телевизор</th>        <th class=\"col_heading level0 col15\" >Интернет</th>        <th class=\"col_heading level0 col16\" >Кондиционер</th>        <th class=\"col_heading level0 col17\" >Душевая кабина</th>        <th class=\"col_heading level0 col18\" >Ванна</th>        <th class=\"col_heading level0 col19\" >Тип ремонта</th>        <th class=\"col_heading level0 col20\" >Окна на улицу</th>        <th class=\"col_heading level0 col21\" >Окна во двор</th>        <th class=\"col_heading level0 col22\" >Можно с детьми</th>        <th class=\"col_heading level0 col23\" >Можно с животными</th>        <th class=\"col_heading level0 col24\" >Полный адрес</th>        <th class=\"col_heading level0 col25\" >Улица</th>        <th class=\"col_heading level0 col26\" >Район</th>        <th class=\"col_heading level0 col27\" >Рекомендованная цена</th>        <th class=\"col_heading level0 col28\" >Залог</th>        <th class=\"col_heading level0 col29\" >Комиссия</th>        <th class=\"col_heading level0 col30\" >Предоплата(за сколько месяцев)</th>        <th class=\"col_heading level0 col31\" >Длительность съёма</th>        <th class=\"col_heading level0 col32\" >Возможность торга</th>    </tr></thead><tbody>\n",
       "                <tr>\n",
       "                                <td id=\"T_8625492d_c615_11eb_acad_f07bcbf2f291row0_col0\" class=\"data row0 col0\" >Собственник</td>\n",
       "                        <td id=\"T_8625492d_c615_11eb_acad_f07bcbf2f291row0_col1\" class=\"data row0 col1\" >150000</td>\n",
       "                        <td id=\"T_8625492d_c615_11eb_acad_f07bcbf2f291row0_col2\" class=\"data row0 col2\" >Сдается в длительную аренду трехкомнатная квартира от собственника. \n",
       "\n",
       "Тихий зеленый район, развитая инфраструктура: в доме частный детский сад, в шаговой доступности школы (частная, общеобразовательная, университетская при МПГУ), аптеки, салоны красоты, в 3 минутах пешком (610 метров) ТЦ Авиапарк.\n",
       "Охраняемый ЖК, подземный паркинг (одно просторное машиноместо входит в стоимость аренды). 12 минут пешком до м. ЦСКА, 20 минут пешком до м. Аэропорт. \n",
       "\n",
       "Три комнаты: спальня с гардеробной, кабинет/детская, гостиная, совмещенная с кухней. Два санузла: туалет с раковиной в малом санузле и просторная душевая, туалет и раковина в основном. Две просторных лоджии: с выходом из кухни и из спальни. \n",
       "\n",
       "Современное оборудование: кондиционеры  и ЖК телевизоры во всех комнатах, на кухне индукционная плита, свч /духовая печь, посудомоечная машина, стиральная машина.</td>\n",
       "                        <td id=\"T_8625492d_c615_11eb_acad_f07bcbf2f291row0_col3\" class=\"data row0 col3\" >8</td>\n",
       "                        <td id=\"T_8625492d_c615_11eb_acad_f07bcbf2f291row0_col4\" class=\"data row0 col4\" >0</td>\n",
       "                        <td id=\"T_8625492d_c615_11eb_acad_f07bcbf2f291row0_col5\" class=\"data row0 col5\" >0</td>\n",
       "                        <td id=\"T_8625492d_c615_11eb_acad_f07bcbf2f291row0_col6\" class=\"data row0 col6\" >0</td>\n",
       "                        <td id=\"T_8625492d_c615_11eb_acad_f07bcbf2f291row0_col7\" class=\"data row0 col7\" >0</td>\n",
       "                        <td id=\"T_8625492d_c615_11eb_acad_f07bcbf2f291row0_col8\" class=\"data row0 col8\" >0</td>\n",
       "                        <td id=\"T_8625492d_c615_11eb_acad_f07bcbf2f291row0_col9\" class=\"data row0 col9\" >0</td>\n",
       "                        <td id=\"T_8625492d_c615_11eb_acad_f07bcbf2f291row0_col10\" class=\"data row0 col10\" >1</td>\n",
       "                        <td id=\"T_8625492d_c615_11eb_acad_f07bcbf2f291row0_col11\" class=\"data row0 col11\" >1</td>\n",
       "                        <td id=\"T_8625492d_c615_11eb_acad_f07bcbf2f291row0_col12\" class=\"data row0 col12\" >1</td>\n",
       "                        <td id=\"T_8625492d_c615_11eb_acad_f07bcbf2f291row0_col13\" class=\"data row0 col13\" >1</td>\n",
       "                        <td id=\"T_8625492d_c615_11eb_acad_f07bcbf2f291row0_col14\" class=\"data row0 col14\" >1</td>\n",
       "                        <td id=\"T_8625492d_c615_11eb_acad_f07bcbf2f291row0_col15\" class=\"data row0 col15\" >1</td>\n",
       "                        <td id=\"T_8625492d_c615_11eb_acad_f07bcbf2f291row0_col16\" class=\"data row0 col16\" >1</td>\n",
       "                        <td id=\"T_8625492d_c615_11eb_acad_f07bcbf2f291row0_col17\" class=\"data row0 col17\" >1</td>\n",
       "                        <td id=\"T_8625492d_c615_11eb_acad_f07bcbf2f291row0_col18\" class=\"data row0 col18\" >0</td>\n",
       "                        <td id=\"T_8625492d_c615_11eb_acad_f07bcbf2f291row0_col19\" class=\"data row0 col19\" >Дизайнерский</td>\n",
       "                        <td id=\"T_8625492d_c615_11eb_acad_f07bcbf2f291row0_col20\" class=\"data row0 col20\" >Да</td>\n",
       "                        <td id=\"T_8625492d_c615_11eb_acad_f07bcbf2f291row0_col21\" class=\"data row0 col21\" >Да</td>\n",
       "                        <td id=\"T_8625492d_c615_11eb_acad_f07bcbf2f291row0_col22\" class=\"data row0 col22\" >Да</td>\n",
       "                        <td id=\"T_8625492d_c615_11eb_acad_f07bcbf2f291row0_col23\" class=\"data row0 col23\" >Нет</td>\n",
       "                        <td id=\"T_8625492d_c615_11eb_acad_f07bcbf2f291row0_col24\" class=\"data row0 col24\" >Москва САО р-н Хорошевский ул. Авиаконструктора Микояна 14к2 </td>\n",
       "                        <td id=\"T_8625492d_c615_11eb_acad_f07bcbf2f291row0_col25\" class=\"data row0 col25\" >ул. Авиаконструктора Микояна 14к2</td>\n",
       "                        <td id=\"T_8625492d_c615_11eb_acad_f07bcbf2f291row0_col26\" class=\"data row0 col26\" >САО</td>\n",
       "                        <td id=\"T_8625492d_c615_11eb_acad_f07bcbf2f291row0_col27\" class=\"data row0 col27\" >217000</td>\n",
       "                        <td id=\"T_8625492d_c615_11eb_acad_f07bcbf2f291row0_col28\" class=\"data row0 col28\" >150000</td>\n",
       "                        <td id=\"T_8625492d_c615_11eb_acad_f07bcbf2f291row0_col29\" class=\"data row0 col29\" >Отсутствует</td>\n",
       "                        <td id=\"T_8625492d_c615_11eb_acad_f07bcbf2f291row0_col30\" class=\"data row0 col30\" >1</td>\n",
       "                        <td id=\"T_8625492d_c615_11eb_acad_f07bcbf2f291row0_col31\" class=\"data row0 col31\" >от года</td>\n",
       "                        <td id=\"T_8625492d_c615_11eb_acad_f07bcbf2f291row0_col32\" class=\"data row0 col32\" >Отсутствует</td>\n",
       "            </tr>\n",
       "            <tr>\n",
       "                                <td id=\"T_8625492d_c615_11eb_acad_f07bcbf2f291row1_col0\" class=\"data row1 col0\" >ELEVEN REALTY</td>\n",
       "                        <td id=\"T_8625492d_c615_11eb_acad_f07bcbf2f291row1_col1\" class=\"data row1 col1\" >160000</td>\n",
       "                        <td id=\"T_8625492d_c615_11eb_acad_f07bcbf2f291row1_col2\" class=\"data row1 col2\" >Вашему вниманию предлагается квартира расположенная в доме Булдакова. Окна выходят в тихий двор. В квартире имеется вся необходимая мебель и бытовая техника для комфортного проживания. \n",
       "Рассмотрим делительную аренду.</td>\n",
       "                        <td id=\"T_8625492d_c615_11eb_acad_f07bcbf2f291row1_col3\" class=\"data row1 col3\" >5</td>\n",
       "                        <td id=\"T_8625492d_c615_11eb_acad_f07bcbf2f291row1_col4\" class=\"data row1 col4\" >130</td>\n",
       "                        <td id=\"T_8625492d_c615_11eb_acad_f07bcbf2f291row1_col5\" class=\"data row1 col5\" >80</td>\n",
       "                        <td id=\"T_8625492d_c615_11eb_acad_f07bcbf2f291row1_col6\" class=\"data row1 col6\" >20</td>\n",
       "                        <td id=\"T_8625492d_c615_11eb_acad_f07bcbf2f291row1_col7\" class=\"data row1 col7\" >4</td>\n",
       "                        <td id=\"T_8625492d_c615_11eb_acad_f07bcbf2f291row1_col8\" class=\"data row1 col8\" >5</td>\n",
       "                        <td id=\"T_8625492d_c615_11eb_acad_f07bcbf2f291row1_col9\" class=\"data row1 col9\" >1903</td>\n",
       "                        <td id=\"T_8625492d_c615_11eb_acad_f07bcbf2f291row1_col10\" class=\"data row1 col10\" >1</td>\n",
       "                        <td id=\"T_8625492d_c615_11eb_acad_f07bcbf2f291row1_col11\" class=\"data row1 col11\" >1</td>\n",
       "                        <td id=\"T_8625492d_c615_11eb_acad_f07bcbf2f291row1_col12\" class=\"data row1 col12\" >1</td>\n",
       "                        <td id=\"T_8625492d_c615_11eb_acad_f07bcbf2f291row1_col13\" class=\"data row1 col13\" >1</td>\n",
       "                        <td id=\"T_8625492d_c615_11eb_acad_f07bcbf2f291row1_col14\" class=\"data row1 col14\" >1</td>\n",
       "                        <td id=\"T_8625492d_c615_11eb_acad_f07bcbf2f291row1_col15\" class=\"data row1 col15\" >1</td>\n",
       "                        <td id=\"T_8625492d_c615_11eb_acad_f07bcbf2f291row1_col16\" class=\"data row1 col16\" >1</td>\n",
       "                        <td id=\"T_8625492d_c615_11eb_acad_f07bcbf2f291row1_col17\" class=\"data row1 col17\" >0</td>\n",
       "                        <td id=\"T_8625492d_c615_11eb_acad_f07bcbf2f291row1_col18\" class=\"data row1 col18\" >1</td>\n",
       "                        <td id=\"T_8625492d_c615_11eb_acad_f07bcbf2f291row1_col19\" class=\"data row1 col19\" >Дизайнерский</td>\n",
       "                        <td id=\"T_8625492d_c615_11eb_acad_f07bcbf2f291row1_col20\" class=\"data row1 col20\" >Нет</td>\n",
       "                        <td id=\"T_8625492d_c615_11eb_acad_f07bcbf2f291row1_col21\" class=\"data row1 col21\" >Да</td>\n",
       "                        <td id=\"T_8625492d_c615_11eb_acad_f07bcbf2f291row1_col22\" class=\"data row1 col22\" >Да</td>\n",
       "                        <td id=\"T_8625492d_c615_11eb_acad_f07bcbf2f291row1_col23\" class=\"data row1 col23\" >Да</td>\n",
       "                        <td id=\"T_8625492d_c615_11eb_acad_f07bcbf2f291row1_col24\" class=\"data row1 col24\" >Москва ЦАО р-н Пресненский Большая Садовая ул. 10 </td>\n",
       "                        <td id=\"T_8625492d_c615_11eb_acad_f07bcbf2f291row1_col25\" class=\"data row1 col25\" >Большая Садовая ул. 10</td>\n",
       "                        <td id=\"T_8625492d_c615_11eb_acad_f07bcbf2f291row1_col26\" class=\"data row1 col26\" >ЦАО</td>\n",
       "                        <td id=\"T_8625492d_c615_11eb_acad_f07bcbf2f291row1_col27\" class=\"data row1 col27\" >316000</td>\n",
       "                        <td id=\"T_8625492d_c615_11eb_acad_f07bcbf2f291row1_col28\" class=\"data row1 col28\" >160000</td>\n",
       "                        <td id=\"T_8625492d_c615_11eb_acad_f07bcbf2f291row1_col29\" class=\"data row1 col29\" >Отсутствует</td>\n",
       "                        <td id=\"T_8625492d_c615_11eb_acad_f07bcbf2f291row1_col30\" class=\"data row1 col30\" >1</td>\n",
       "                        <td id=\"T_8625492d_c615_11eb_acad_f07bcbf2f291row1_col31\" class=\"data row1 col31\" >от года</td>\n",
       "                        <td id=\"T_8625492d_c615_11eb_acad_f07bcbf2f291row1_col32\" class=\"data row1 col32\" >Отсутствует</td>\n",
       "            </tr>\n",
       "            <tr>\n",
       "                                <td id=\"T_8625492d_c615_11eb_acad_f07bcbf2f291row2_col0\" class=\"data row2 col0\" >Вероника Кудашова</td>\n",
       "                        <td id=\"T_8625492d_c615_11eb_acad_f07bcbf2f291row2_col1\" class=\"data row2 col1\" >160000</td>\n",
       "                        <td id=\"T_8625492d_c615_11eb_acad_f07bcbf2f291row2_col2\" class=\"data row2 col2\" >ЖК Шуваловский. Сдам элегантную трехкомнатную квартиру - мастер-спальня с выходом на лоджию, детская с гардеробной, два санузла, большая гардеробная, кухня-столовая-гостиная с панорамным окном. В спальнях минимум мебели, кровати уже привезли. Кухня-гостиная с мебелью и техникой.\n",
       "Охраняемая территория, паркинг, детская площадка во дворе. Богатая инфраструктура района.</td>\n",
       "                        <td id=\"T_8625492d_c615_11eb_acad_f07bcbf2f291row2_col3\" class=\"data row2 col3\" >3</td>\n",
       "                        <td id=\"T_8625492d_c615_11eb_acad_f07bcbf2f291row2_col4\" class=\"data row2 col4\" >110</td>\n",
       "                        <td id=\"T_8625492d_c615_11eb_acad_f07bcbf2f291row2_col5\" class=\"data row2 col5\" >60</td>\n",
       "                        <td id=\"T_8625492d_c615_11eb_acad_f07bcbf2f291row2_col6\" class=\"data row2 col6\" >14</td>\n",
       "                        <td id=\"T_8625492d_c615_11eb_acad_f07bcbf2f291row2_col7\" class=\"data row2 col7\" >6</td>\n",
       "                        <td id=\"T_8625492d_c615_11eb_acad_f07bcbf2f291row2_col8\" class=\"data row2 col8\" >15</td>\n",
       "                        <td id=\"T_8625492d_c615_11eb_acad_f07bcbf2f291row2_col9\" class=\"data row2 col9\" >2008</td>\n",
       "                        <td id=\"T_8625492d_c615_11eb_acad_f07bcbf2f291row2_col10\" class=\"data row2 col10\" >1</td>\n",
       "                        <td id=\"T_8625492d_c615_11eb_acad_f07bcbf2f291row2_col11\" class=\"data row2 col11\" >1</td>\n",
       "                        <td id=\"T_8625492d_c615_11eb_acad_f07bcbf2f291row2_col12\" class=\"data row2 col12\" >1</td>\n",
       "                        <td id=\"T_8625492d_c615_11eb_acad_f07bcbf2f291row2_col13\" class=\"data row2 col13\" >1</td>\n",
       "                        <td id=\"T_8625492d_c615_11eb_acad_f07bcbf2f291row2_col14\" class=\"data row2 col14\" >1</td>\n",
       "                        <td id=\"T_8625492d_c615_11eb_acad_f07bcbf2f291row2_col15\" class=\"data row2 col15\" >1</td>\n",
       "                        <td id=\"T_8625492d_c615_11eb_acad_f07bcbf2f291row2_col16\" class=\"data row2 col16\" >1</td>\n",
       "                        <td id=\"T_8625492d_c615_11eb_acad_f07bcbf2f291row2_col17\" class=\"data row2 col17\" >0</td>\n",
       "                        <td id=\"T_8625492d_c615_11eb_acad_f07bcbf2f291row2_col18\" class=\"data row2 col18\" >1</td>\n",
       "                        <td id=\"T_8625492d_c615_11eb_acad_f07bcbf2f291row2_col19\" class=\"data row2 col19\" >Дизайнерский</td>\n",
       "                        <td id=\"T_8625492d_c615_11eb_acad_f07bcbf2f291row2_col20\" class=\"data row2 col20\" >Да</td>\n",
       "                        <td id=\"T_8625492d_c615_11eb_acad_f07bcbf2f291row2_col21\" class=\"data row2 col21\" >Да</td>\n",
       "                        <td id=\"T_8625492d_c615_11eb_acad_f07bcbf2f291row2_col22\" class=\"data row2 col22\" >Да</td>\n",
       "                        <td id=\"T_8625492d_c615_11eb_acad_f07bcbf2f291row2_col23\" class=\"data row2 col23\" >Нет</td>\n",
       "                        <td id=\"T_8625492d_c615_11eb_acad_f07bcbf2f291row2_col24\" class=\"data row2 col24\" >Москва ЗАО р-н Раменки Мичуринский просп. 3 </td>\n",
       "                        <td id=\"T_8625492d_c615_11eb_acad_f07bcbf2f291row2_col25\" class=\"data row2 col25\" >Мичуринский просп. 3</td>\n",
       "                        <td id=\"T_8625492d_c615_11eb_acad_f07bcbf2f291row2_col26\" class=\"data row2 col26\" >ЗАО</td>\n",
       "                        <td id=\"T_8625492d_c615_11eb_acad_f07bcbf2f291row2_col27\" class=\"data row2 col27\" >196000</td>\n",
       "                        <td id=\"T_8625492d_c615_11eb_acad_f07bcbf2f291row2_col28\" class=\"data row2 col28\" >160000</td>\n",
       "                        <td id=\"T_8625492d_c615_11eb_acad_f07bcbf2f291row2_col29\" class=\"data row2 col29\" >Отсутствует</td>\n",
       "                        <td id=\"T_8625492d_c615_11eb_acad_f07bcbf2f291row2_col30\" class=\"data row2 col30\" >1</td>\n",
       "                        <td id=\"T_8625492d_c615_11eb_acad_f07bcbf2f291row2_col31\" class=\"data row2 col31\" >от года</td>\n",
       "                        <td id=\"T_8625492d_c615_11eb_acad_f07bcbf2f291row2_col32\" class=\"data row2 col32\" >Отсутствует</td>\n",
       "            </tr>\n",
       "            <tr>\n",
       "                                <td id=\"T_8625492d_c615_11eb_acad_f07bcbf2f291row3_col0\" class=\"data row3 col0\" >ID 13539540</td>\n",
       "                        <td id=\"T_8625492d_c615_11eb_acad_f07bcbf2f291row3_col1\" class=\"data row3 col1\" >160000</td>\n",
       "                        <td id=\"T_8625492d_c615_11eb_acad_f07bcbf2f291row3_col2\" class=\"data row3 col2\" >Предлагается  в аренду большая,  светлая трехкомнатная квартира с высокими потолками и  дизайнерским ремонтом.  Планировка квартиры включает в себя: гостиную, совмещенную с кухней, две изолированные спальни, в каждой из которых есть оборудованная гардеробная комната.  Два  санузла. В одном санузле ванна, в другом - душевая кабина. При необходимости, мебель покупается под клиента.</td>\n",
       "                        <td id=\"T_8625492d_c615_11eb_acad_f07bcbf2f291row3_col3\" class=\"data row3 col3\" >15</td>\n",
       "                        <td id=\"T_8625492d_c615_11eb_acad_f07bcbf2f291row3_col4\" class=\"data row3 col4\" >150</td>\n",
       "                        <td id=\"T_8625492d_c615_11eb_acad_f07bcbf2f291row3_col5\" class=\"data row3 col5\" >110</td>\n",
       "                        <td id=\"T_8625492d_c615_11eb_acad_f07bcbf2f291row3_col6\" class=\"data row3 col6\" >30</td>\n",
       "                        <td id=\"T_8625492d_c615_11eb_acad_f07bcbf2f291row3_col7\" class=\"data row3 col7\" >3</td>\n",
       "                        <td id=\"T_8625492d_c615_11eb_acad_f07bcbf2f291row3_col8\" class=\"data row3 col8\" >6</td>\n",
       "                        <td id=\"T_8625492d_c615_11eb_acad_f07bcbf2f291row3_col9\" class=\"data row3 col9\" >1954</td>\n",
       "                        <td id=\"T_8625492d_c615_11eb_acad_f07bcbf2f291row3_col10\" class=\"data row3 col10\" >1</td>\n",
       "                        <td id=\"T_8625492d_c615_11eb_acad_f07bcbf2f291row3_col11\" class=\"data row3 col11\" >1</td>\n",
       "                        <td id=\"T_8625492d_c615_11eb_acad_f07bcbf2f291row3_col12\" class=\"data row3 col12\" >0</td>\n",
       "                        <td id=\"T_8625492d_c615_11eb_acad_f07bcbf2f291row3_col13\" class=\"data row3 col13\" >1</td>\n",
       "                        <td id=\"T_8625492d_c615_11eb_acad_f07bcbf2f291row3_col14\" class=\"data row3 col14\" >0</td>\n",
       "                        <td id=\"T_8625492d_c615_11eb_acad_f07bcbf2f291row3_col15\" class=\"data row3 col15\" >1</td>\n",
       "                        <td id=\"T_8625492d_c615_11eb_acad_f07bcbf2f291row3_col16\" class=\"data row3 col16\" >1</td>\n",
       "                        <td id=\"T_8625492d_c615_11eb_acad_f07bcbf2f291row3_col17\" class=\"data row3 col17\" >1</td>\n",
       "                        <td id=\"T_8625492d_c615_11eb_acad_f07bcbf2f291row3_col18\" class=\"data row3 col18\" >1</td>\n",
       "                        <td id=\"T_8625492d_c615_11eb_acad_f07bcbf2f291row3_col19\" class=\"data row3 col19\" >Дизайнерский</td>\n",
       "                        <td id=\"T_8625492d_c615_11eb_acad_f07bcbf2f291row3_col20\" class=\"data row3 col20\" >Да</td>\n",
       "                        <td id=\"T_8625492d_c615_11eb_acad_f07bcbf2f291row3_col21\" class=\"data row3 col21\" >Да</td>\n",
       "                        <td id=\"T_8625492d_c615_11eb_acad_f07bcbf2f291row3_col22\" class=\"data row3 col22\" >Да</td>\n",
       "                        <td id=\"T_8625492d_c615_11eb_acad_f07bcbf2f291row3_col23\" class=\"data row3 col23\" >Нет</td>\n",
       "                        <td id=\"T_8625492d_c615_11eb_acad_f07bcbf2f291row3_col24\" class=\"data row3 col24\" >Москва ЮЗАО р-н Академический ул. Кржижановского 23К5 </td>\n",
       "                        <td id=\"T_8625492d_c615_11eb_acad_f07bcbf2f291row3_col25\" class=\"data row3 col25\" >ул. Кржижановского 23К5</td>\n",
       "                        <td id=\"T_8625492d_c615_11eb_acad_f07bcbf2f291row3_col26\" class=\"data row3 col26\" >ЮЗАО</td>\n",
       "                        <td id=\"T_8625492d_c615_11eb_acad_f07bcbf2f291row3_col27\" class=\"data row3 col27\" >188000</td>\n",
       "                        <td id=\"T_8625492d_c615_11eb_acad_f07bcbf2f291row3_col28\" class=\"data row3 col28\" >160000</td>\n",
       "                        <td id=\"T_8625492d_c615_11eb_acad_f07bcbf2f291row3_col29\" class=\"data row3 col29\" >Отсутствует</td>\n",
       "                        <td id=\"T_8625492d_c615_11eb_acad_f07bcbf2f291row3_col30\" class=\"data row3 col30\" >1</td>\n",
       "                        <td id=\"T_8625492d_c615_11eb_acad_f07bcbf2f291row3_col31\" class=\"data row3 col31\" >от года</td>\n",
       "                        <td id=\"T_8625492d_c615_11eb_acad_f07bcbf2f291row3_col32\" class=\"data row3 col32\" >Отсутствует</td>\n",
       "            </tr>\n",
       "            <tr>\n",
       "                                <td id=\"T_8625492d_c615_11eb_acad_f07bcbf2f291row4_col0\" class=\"data row4 col0\" >Собственник</td>\n",
       "                        <td id=\"T_8625492d_c615_11eb_acad_f07bcbf2f291row4_col1\" class=\"data row4 col1\" >160000</td>\n",
       "                        <td id=\"T_8625492d_c615_11eb_acad_f07bcbf2f291row4_col2\" class=\"data row4 col2\" >Предлагается в аренду трехкомнатная квартира в элитном ЖК \"МОСФИЛЬМОВСКАЯ\". Замечательные видовые характеристики и функциональная планировка. Квартира оснащена всей необходимой техникой.Качественный ремонт. Машино-место на подземном паркинге входит в стоимость. СОБСТВЕННИК</td>\n",
       "                        <td id=\"T_8625492d_c615_11eb_acad_f07bcbf2f291row4_col3\" class=\"data row4 col3\" >10</td>\n",
       "                        <td id=\"T_8625492d_c615_11eb_acad_f07bcbf2f291row4_col4\" class=\"data row4 col4\" >105</td>\n",
       "                        <td id=\"T_8625492d_c615_11eb_acad_f07bcbf2f291row4_col5\" class=\"data row4 col5\" >0</td>\n",
       "                        <td id=\"T_8625492d_c615_11eb_acad_f07bcbf2f291row4_col6\" class=\"data row4 col6\" >0</td>\n",
       "                        <td id=\"T_8625492d_c615_11eb_acad_f07bcbf2f291row4_col7\" class=\"data row4 col7\" >15</td>\n",
       "                        <td id=\"T_8625492d_c615_11eb_acad_f07bcbf2f291row4_col8\" class=\"data row4 col8\" >29</td>\n",
       "                        <td id=\"T_8625492d_c615_11eb_acad_f07bcbf2f291row4_col9\" class=\"data row4 col9\" >2017</td>\n",
       "                        <td id=\"T_8625492d_c615_11eb_acad_f07bcbf2f291row4_col10\" class=\"data row4 col10\" >1</td>\n",
       "                        <td id=\"T_8625492d_c615_11eb_acad_f07bcbf2f291row4_col11\" class=\"data row4 col11\" >1</td>\n",
       "                        <td id=\"T_8625492d_c615_11eb_acad_f07bcbf2f291row4_col12\" class=\"data row4 col12\" >1</td>\n",
       "                        <td id=\"T_8625492d_c615_11eb_acad_f07bcbf2f291row4_col13\" class=\"data row4 col13\" >1</td>\n",
       "                        <td id=\"T_8625492d_c615_11eb_acad_f07bcbf2f291row4_col14\" class=\"data row4 col14\" >1</td>\n",
       "                        <td id=\"T_8625492d_c615_11eb_acad_f07bcbf2f291row4_col15\" class=\"data row4 col15\" >1</td>\n",
       "                        <td id=\"T_8625492d_c615_11eb_acad_f07bcbf2f291row4_col16\" class=\"data row4 col16\" >1</td>\n",
       "                        <td id=\"T_8625492d_c615_11eb_acad_f07bcbf2f291row4_col17\" class=\"data row4 col17\" >1</td>\n",
       "                        <td id=\"T_8625492d_c615_11eb_acad_f07bcbf2f291row4_col18\" class=\"data row4 col18\" >0</td>\n",
       "                        <td id=\"T_8625492d_c615_11eb_acad_f07bcbf2f291row4_col19\" class=\"data row4 col19\" >Евроремонт</td>\n",
       "                        <td id=\"T_8625492d_c615_11eb_acad_f07bcbf2f291row4_col20\" class=\"data row4 col20\" >Да</td>\n",
       "                        <td id=\"T_8625492d_c615_11eb_acad_f07bcbf2f291row4_col21\" class=\"data row4 col21\" >Да</td>\n",
       "                        <td id=\"T_8625492d_c615_11eb_acad_f07bcbf2f291row4_col22\" class=\"data row4 col22\" >Да</td>\n",
       "                        <td id=\"T_8625492d_c615_11eb_acad_f07bcbf2f291row4_col23\" class=\"data row4 col23\" >Нет</td>\n",
       "                        <td id=\"T_8625492d_c615_11eb_acad_f07bcbf2f291row4_col24\" class=\"data row4 col24\" >Москва ЗАО р-н Раменки Мосфильмовская ул. 74Б </td>\n",
       "                        <td id=\"T_8625492d_c615_11eb_acad_f07bcbf2f291row4_col25\" class=\"data row4 col25\" >Мосфильмовская ул. 74Б</td>\n",
       "                        <td id=\"T_8625492d_c615_11eb_acad_f07bcbf2f291row4_col26\" class=\"data row4 col26\" >ЗАО</td>\n",
       "                        <td id=\"T_8625492d_c615_11eb_acad_f07bcbf2f291row4_col27\" class=\"data row4 col27\" >212000</td>\n",
       "                        <td id=\"T_8625492d_c615_11eb_acad_f07bcbf2f291row4_col28\" class=\"data row4 col28\" >Отсутствует</td>\n",
       "                        <td id=\"T_8625492d_c615_11eb_acad_f07bcbf2f291row4_col29\" class=\"data row4 col29\" >Отсутствует</td>\n",
       "                        <td id=\"T_8625492d_c615_11eb_acad_f07bcbf2f291row4_col30\" class=\"data row4 col30\" >2</td>\n",
       "                        <td id=\"T_8625492d_c615_11eb_acad_f07bcbf2f291row4_col31\" class=\"data row4 col31\" >от года</td>\n",
       "                        <td id=\"T_8625492d_c615_11eb_acad_f07bcbf2f291row4_col32\" class=\"data row4 col32\" >Отсутствует</td>\n",
       "            </tr>\n",
       "    </tbody></table>"
      ],
      "text/plain": [
       "<pandas.io.formats.style.Styler at 0x13f3d9c520>"
      ]
     },
     "execution_count": 169,
     "metadata": {},
     "output_type": "execute_result"
    }
   ],
   "source": [
    "df.head().style.hide_index()"
   ]
  },
  {
   "cell_type": "markdown",
   "metadata": {},
   "source": [
    "Что до остальных пропусков, то нигде они не превышают 50%, а значит у нас остаётся более 500 строк с этими признаками непропущенными. Мы решили их оставить и обозначить нули как \"Нет данных\", потому что очевидно, что для проверки большинства возможных гипотез не понадобится смотреть на все столбцы. Следовательно, можно выдвигать и проверять гипотезы, рассматривая только строки с данными, комбинируя некоторые части таблицы и игнорируя остальные."
   ]
  },
  {
   "cell_type": "code",
   "execution_count": 170,
   "metadata": {},
   "outputs": [
    {
     "data": {
      "text/html": [
       "<style  type=\"text/css\" >\n",
       "</style><table id=\"T_865e5379_c615_11eb_8916_f07bcbf2f291\" ><thead>    <tr>        <th class=\"col_heading level0 col0\" >Агенство недвижимости</th>        <th class=\"col_heading level0 col1\" >Цена аренды</th>        <th class=\"col_heading level0 col2\" >Описание</th>        <th class=\"col_heading level0 col3\" >Минимальное время до метро, мин</th>        <th class=\"col_heading level0 col4\" >Общая площадь,  м²</th>        <th class=\"col_heading level0 col5\" >Жилая площадь,  м²</th>        <th class=\"col_heading level0 col6\" >Площадь кухни,  м²</th>        <th class=\"col_heading level0 col7\" >Этаж квартиры</th>        <th class=\"col_heading level0 col8\" >Этажей в доме</th>        <th class=\"col_heading level0 col9\" >Год постройки</th>        <th class=\"col_heading level0 col10\" >Холодильник</th>        <th class=\"col_heading level0 col11\" >Посудомоечная машина</th>        <th class=\"col_heading level0 col12\" >Мебель в комнатах</th>        <th class=\"col_heading level0 col13\" >Мебель на кухне</th>        <th class=\"col_heading level0 col14\" >Телевизор</th>        <th class=\"col_heading level0 col15\" >Интернет</th>        <th class=\"col_heading level0 col16\" >Кондиционер</th>        <th class=\"col_heading level0 col17\" >Душевая кабина</th>        <th class=\"col_heading level0 col18\" >Ванна</th>        <th class=\"col_heading level0 col19\" >Тип ремонта</th>        <th class=\"col_heading level0 col20\" >Окна на улицу</th>        <th class=\"col_heading level0 col21\" >Окна во двор</th>        <th class=\"col_heading level0 col22\" >Можно с детьми</th>        <th class=\"col_heading level0 col23\" >Можно с животными</th>        <th class=\"col_heading level0 col24\" >Полный адрес</th>        <th class=\"col_heading level0 col25\" >Улица</th>        <th class=\"col_heading level0 col26\" >Район</th>        <th class=\"col_heading level0 col27\" >Рекомендованная цена</th>        <th class=\"col_heading level0 col28\" >Залог</th>        <th class=\"col_heading level0 col29\" >Комиссия</th>        <th class=\"col_heading level0 col30\" >Предоплата(за сколько месяцев)</th>        <th class=\"col_heading level0 col31\" >Длительность съёма</th>        <th class=\"col_heading level0 col32\" >Возможность торга</th>    </tr></thead><tbody>\n",
       "                <tr>\n",
       "                                <td id=\"T_865e5379_c615_11eb_8916_f07bcbf2f291row0_col0\" class=\"data row0 col0\" >Собственник</td>\n",
       "                        <td id=\"T_865e5379_c615_11eb_8916_f07bcbf2f291row0_col1\" class=\"data row0 col1\" >150000</td>\n",
       "                        <td id=\"T_865e5379_c615_11eb_8916_f07bcbf2f291row0_col2\" class=\"data row0 col2\" >Сдается в длительную аренду трехкомнатная квартира от собственника. \n",
       "\n",
       "Тихий зеленый район, развитая инфраструктура: в доме частный детский сад, в шаговой доступности школы (частная, общеобразовательная, университетская при МПГУ), аптеки, салоны красоты, в 3 минутах пешком (610 метров) ТЦ Авиапарк.\n",
       "Охраняемый ЖК, подземный паркинг (одно просторное машиноместо входит в стоимость аренды). 12 минут пешком до м. ЦСКА, 20 минут пешком до м. Аэропорт. \n",
       "\n",
       "Три комнаты: спальня с гардеробной, кабинет/детская, гостиная, совмещенная с кухней. Два санузла: туалет с раковиной в малом санузле и просторная душевая, туалет и раковина в основном. Две просторных лоджии: с выходом из кухни и из спальни. \n",
       "\n",
       "Современное оборудование: кондиционеры  и ЖК телевизоры во всех комнатах, на кухне индукционная плита, свч /духовая печь, посудомоечная машина, стиральная машина.</td>\n",
       "                        <td id=\"T_865e5379_c615_11eb_8916_f07bcbf2f291row0_col3\" class=\"data row0 col3\" >8</td>\n",
       "                        <td id=\"T_865e5379_c615_11eb_8916_f07bcbf2f291row0_col4\" class=\"data row0 col4\" >Нет данных</td>\n",
       "                        <td id=\"T_865e5379_c615_11eb_8916_f07bcbf2f291row0_col5\" class=\"data row0 col5\" >Нет данных</td>\n",
       "                        <td id=\"T_865e5379_c615_11eb_8916_f07bcbf2f291row0_col6\" class=\"data row0 col6\" >Нет данных</td>\n",
       "                        <td id=\"T_865e5379_c615_11eb_8916_f07bcbf2f291row0_col7\" class=\"data row0 col7\" >Нет данных</td>\n",
       "                        <td id=\"T_865e5379_c615_11eb_8916_f07bcbf2f291row0_col8\" class=\"data row0 col8\" >Нет данных</td>\n",
       "                        <td id=\"T_865e5379_c615_11eb_8916_f07bcbf2f291row0_col9\" class=\"data row0 col9\" >Нет данных</td>\n",
       "                        <td id=\"T_865e5379_c615_11eb_8916_f07bcbf2f291row0_col10\" class=\"data row0 col10\" >1</td>\n",
       "                        <td id=\"T_865e5379_c615_11eb_8916_f07bcbf2f291row0_col11\" class=\"data row0 col11\" >1</td>\n",
       "                        <td id=\"T_865e5379_c615_11eb_8916_f07bcbf2f291row0_col12\" class=\"data row0 col12\" >1</td>\n",
       "                        <td id=\"T_865e5379_c615_11eb_8916_f07bcbf2f291row0_col13\" class=\"data row0 col13\" >1</td>\n",
       "                        <td id=\"T_865e5379_c615_11eb_8916_f07bcbf2f291row0_col14\" class=\"data row0 col14\" >1</td>\n",
       "                        <td id=\"T_865e5379_c615_11eb_8916_f07bcbf2f291row0_col15\" class=\"data row0 col15\" >1</td>\n",
       "                        <td id=\"T_865e5379_c615_11eb_8916_f07bcbf2f291row0_col16\" class=\"data row0 col16\" >1</td>\n",
       "                        <td id=\"T_865e5379_c615_11eb_8916_f07bcbf2f291row0_col17\" class=\"data row0 col17\" >1</td>\n",
       "                        <td id=\"T_865e5379_c615_11eb_8916_f07bcbf2f291row0_col18\" class=\"data row0 col18\" >Нет данных</td>\n",
       "                        <td id=\"T_865e5379_c615_11eb_8916_f07bcbf2f291row0_col19\" class=\"data row0 col19\" >Дизайнерский</td>\n",
       "                        <td id=\"T_865e5379_c615_11eb_8916_f07bcbf2f291row0_col20\" class=\"data row0 col20\" >Да</td>\n",
       "                        <td id=\"T_865e5379_c615_11eb_8916_f07bcbf2f291row0_col21\" class=\"data row0 col21\" >Да</td>\n",
       "                        <td id=\"T_865e5379_c615_11eb_8916_f07bcbf2f291row0_col22\" class=\"data row0 col22\" >Да</td>\n",
       "                        <td id=\"T_865e5379_c615_11eb_8916_f07bcbf2f291row0_col23\" class=\"data row0 col23\" >Нет</td>\n",
       "                        <td id=\"T_865e5379_c615_11eb_8916_f07bcbf2f291row0_col24\" class=\"data row0 col24\" >Москва САО р-н Хорошевский ул. Авиаконструктора Микояна 14к2 </td>\n",
       "                        <td id=\"T_865e5379_c615_11eb_8916_f07bcbf2f291row0_col25\" class=\"data row0 col25\" >ул. Авиаконструктора Микояна 14к2</td>\n",
       "                        <td id=\"T_865e5379_c615_11eb_8916_f07bcbf2f291row0_col26\" class=\"data row0 col26\" >САО</td>\n",
       "                        <td id=\"T_865e5379_c615_11eb_8916_f07bcbf2f291row0_col27\" class=\"data row0 col27\" >217000</td>\n",
       "                        <td id=\"T_865e5379_c615_11eb_8916_f07bcbf2f291row0_col28\" class=\"data row0 col28\" >150000</td>\n",
       "                        <td id=\"T_865e5379_c615_11eb_8916_f07bcbf2f291row0_col29\" class=\"data row0 col29\" >Отсутствует</td>\n",
       "                        <td id=\"T_865e5379_c615_11eb_8916_f07bcbf2f291row0_col30\" class=\"data row0 col30\" >1</td>\n",
       "                        <td id=\"T_865e5379_c615_11eb_8916_f07bcbf2f291row0_col31\" class=\"data row0 col31\" >от года</td>\n",
       "                        <td id=\"T_865e5379_c615_11eb_8916_f07bcbf2f291row0_col32\" class=\"data row0 col32\" >Отсутствует</td>\n",
       "            </tr>\n",
       "            <tr>\n",
       "                                <td id=\"T_865e5379_c615_11eb_8916_f07bcbf2f291row1_col0\" class=\"data row1 col0\" >ELEVEN REALTY</td>\n",
       "                        <td id=\"T_865e5379_c615_11eb_8916_f07bcbf2f291row1_col1\" class=\"data row1 col1\" >160000</td>\n",
       "                        <td id=\"T_865e5379_c615_11eb_8916_f07bcbf2f291row1_col2\" class=\"data row1 col2\" >Вашему вниманию предлагается квартира расположенная в доме Булдакова. Окна выходят в тихий двор. В квартире имеется вся необходимая мебель и бытовая техника для комфортного проживания. \n",
       "Рассмотрим делительную аренду.</td>\n",
       "                        <td id=\"T_865e5379_c615_11eb_8916_f07bcbf2f291row1_col3\" class=\"data row1 col3\" >5</td>\n",
       "                        <td id=\"T_865e5379_c615_11eb_8916_f07bcbf2f291row1_col4\" class=\"data row1 col4\" >130</td>\n",
       "                        <td id=\"T_865e5379_c615_11eb_8916_f07bcbf2f291row1_col5\" class=\"data row1 col5\" >80</td>\n",
       "                        <td id=\"T_865e5379_c615_11eb_8916_f07bcbf2f291row1_col6\" class=\"data row1 col6\" >20</td>\n",
       "                        <td id=\"T_865e5379_c615_11eb_8916_f07bcbf2f291row1_col7\" class=\"data row1 col7\" >4</td>\n",
       "                        <td id=\"T_865e5379_c615_11eb_8916_f07bcbf2f291row1_col8\" class=\"data row1 col8\" >5</td>\n",
       "                        <td id=\"T_865e5379_c615_11eb_8916_f07bcbf2f291row1_col9\" class=\"data row1 col9\" >1903</td>\n",
       "                        <td id=\"T_865e5379_c615_11eb_8916_f07bcbf2f291row1_col10\" class=\"data row1 col10\" >1</td>\n",
       "                        <td id=\"T_865e5379_c615_11eb_8916_f07bcbf2f291row1_col11\" class=\"data row1 col11\" >1</td>\n",
       "                        <td id=\"T_865e5379_c615_11eb_8916_f07bcbf2f291row1_col12\" class=\"data row1 col12\" >1</td>\n",
       "                        <td id=\"T_865e5379_c615_11eb_8916_f07bcbf2f291row1_col13\" class=\"data row1 col13\" >1</td>\n",
       "                        <td id=\"T_865e5379_c615_11eb_8916_f07bcbf2f291row1_col14\" class=\"data row1 col14\" >1</td>\n",
       "                        <td id=\"T_865e5379_c615_11eb_8916_f07bcbf2f291row1_col15\" class=\"data row1 col15\" >1</td>\n",
       "                        <td id=\"T_865e5379_c615_11eb_8916_f07bcbf2f291row1_col16\" class=\"data row1 col16\" >1</td>\n",
       "                        <td id=\"T_865e5379_c615_11eb_8916_f07bcbf2f291row1_col17\" class=\"data row1 col17\" >Нет данных</td>\n",
       "                        <td id=\"T_865e5379_c615_11eb_8916_f07bcbf2f291row1_col18\" class=\"data row1 col18\" >1</td>\n",
       "                        <td id=\"T_865e5379_c615_11eb_8916_f07bcbf2f291row1_col19\" class=\"data row1 col19\" >Дизайнерский</td>\n",
       "                        <td id=\"T_865e5379_c615_11eb_8916_f07bcbf2f291row1_col20\" class=\"data row1 col20\" >Нет</td>\n",
       "                        <td id=\"T_865e5379_c615_11eb_8916_f07bcbf2f291row1_col21\" class=\"data row1 col21\" >Да</td>\n",
       "                        <td id=\"T_865e5379_c615_11eb_8916_f07bcbf2f291row1_col22\" class=\"data row1 col22\" >Да</td>\n",
       "                        <td id=\"T_865e5379_c615_11eb_8916_f07bcbf2f291row1_col23\" class=\"data row1 col23\" >Да</td>\n",
       "                        <td id=\"T_865e5379_c615_11eb_8916_f07bcbf2f291row1_col24\" class=\"data row1 col24\" >Москва ЦАО р-н Пресненский Большая Садовая ул. 10 </td>\n",
       "                        <td id=\"T_865e5379_c615_11eb_8916_f07bcbf2f291row1_col25\" class=\"data row1 col25\" >Большая Садовая ул. 10</td>\n",
       "                        <td id=\"T_865e5379_c615_11eb_8916_f07bcbf2f291row1_col26\" class=\"data row1 col26\" >ЦАО</td>\n",
       "                        <td id=\"T_865e5379_c615_11eb_8916_f07bcbf2f291row1_col27\" class=\"data row1 col27\" >316000</td>\n",
       "                        <td id=\"T_865e5379_c615_11eb_8916_f07bcbf2f291row1_col28\" class=\"data row1 col28\" >160000</td>\n",
       "                        <td id=\"T_865e5379_c615_11eb_8916_f07bcbf2f291row1_col29\" class=\"data row1 col29\" >Отсутствует</td>\n",
       "                        <td id=\"T_865e5379_c615_11eb_8916_f07bcbf2f291row1_col30\" class=\"data row1 col30\" >1</td>\n",
       "                        <td id=\"T_865e5379_c615_11eb_8916_f07bcbf2f291row1_col31\" class=\"data row1 col31\" >от года</td>\n",
       "                        <td id=\"T_865e5379_c615_11eb_8916_f07bcbf2f291row1_col32\" class=\"data row1 col32\" >Отсутствует</td>\n",
       "            </tr>\n",
       "            <tr>\n",
       "                                <td id=\"T_865e5379_c615_11eb_8916_f07bcbf2f291row2_col0\" class=\"data row2 col0\" >Вероника Кудашова</td>\n",
       "                        <td id=\"T_865e5379_c615_11eb_8916_f07bcbf2f291row2_col1\" class=\"data row2 col1\" >160000</td>\n",
       "                        <td id=\"T_865e5379_c615_11eb_8916_f07bcbf2f291row2_col2\" class=\"data row2 col2\" >ЖК Шуваловский. Сдам элегантную трехкомнатную квартиру - мастер-спальня с выходом на лоджию, детская с гардеробной, два санузла, большая гардеробная, кухня-столовая-гостиная с панорамным окном. В спальнях минимум мебели, кровати уже привезли. Кухня-гостиная с мебелью и техникой.\n",
       "Охраняемая территория, паркинг, детская площадка во дворе. Богатая инфраструктура района.</td>\n",
       "                        <td id=\"T_865e5379_c615_11eb_8916_f07bcbf2f291row2_col3\" class=\"data row2 col3\" >3</td>\n",
       "                        <td id=\"T_865e5379_c615_11eb_8916_f07bcbf2f291row2_col4\" class=\"data row2 col4\" >110</td>\n",
       "                        <td id=\"T_865e5379_c615_11eb_8916_f07bcbf2f291row2_col5\" class=\"data row2 col5\" >60</td>\n",
       "                        <td id=\"T_865e5379_c615_11eb_8916_f07bcbf2f291row2_col6\" class=\"data row2 col6\" >14</td>\n",
       "                        <td id=\"T_865e5379_c615_11eb_8916_f07bcbf2f291row2_col7\" class=\"data row2 col7\" >6</td>\n",
       "                        <td id=\"T_865e5379_c615_11eb_8916_f07bcbf2f291row2_col8\" class=\"data row2 col8\" >15</td>\n",
       "                        <td id=\"T_865e5379_c615_11eb_8916_f07bcbf2f291row2_col9\" class=\"data row2 col9\" >2008</td>\n",
       "                        <td id=\"T_865e5379_c615_11eb_8916_f07bcbf2f291row2_col10\" class=\"data row2 col10\" >1</td>\n",
       "                        <td id=\"T_865e5379_c615_11eb_8916_f07bcbf2f291row2_col11\" class=\"data row2 col11\" >1</td>\n",
       "                        <td id=\"T_865e5379_c615_11eb_8916_f07bcbf2f291row2_col12\" class=\"data row2 col12\" >1</td>\n",
       "                        <td id=\"T_865e5379_c615_11eb_8916_f07bcbf2f291row2_col13\" class=\"data row2 col13\" >1</td>\n",
       "                        <td id=\"T_865e5379_c615_11eb_8916_f07bcbf2f291row2_col14\" class=\"data row2 col14\" >1</td>\n",
       "                        <td id=\"T_865e5379_c615_11eb_8916_f07bcbf2f291row2_col15\" class=\"data row2 col15\" >1</td>\n",
       "                        <td id=\"T_865e5379_c615_11eb_8916_f07bcbf2f291row2_col16\" class=\"data row2 col16\" >1</td>\n",
       "                        <td id=\"T_865e5379_c615_11eb_8916_f07bcbf2f291row2_col17\" class=\"data row2 col17\" >Нет данных</td>\n",
       "                        <td id=\"T_865e5379_c615_11eb_8916_f07bcbf2f291row2_col18\" class=\"data row2 col18\" >1</td>\n",
       "                        <td id=\"T_865e5379_c615_11eb_8916_f07bcbf2f291row2_col19\" class=\"data row2 col19\" >Дизайнерский</td>\n",
       "                        <td id=\"T_865e5379_c615_11eb_8916_f07bcbf2f291row2_col20\" class=\"data row2 col20\" >Да</td>\n",
       "                        <td id=\"T_865e5379_c615_11eb_8916_f07bcbf2f291row2_col21\" class=\"data row2 col21\" >Да</td>\n",
       "                        <td id=\"T_865e5379_c615_11eb_8916_f07bcbf2f291row2_col22\" class=\"data row2 col22\" >Да</td>\n",
       "                        <td id=\"T_865e5379_c615_11eb_8916_f07bcbf2f291row2_col23\" class=\"data row2 col23\" >Нет</td>\n",
       "                        <td id=\"T_865e5379_c615_11eb_8916_f07bcbf2f291row2_col24\" class=\"data row2 col24\" >Москва ЗАО р-н Раменки Мичуринский просп. 3 </td>\n",
       "                        <td id=\"T_865e5379_c615_11eb_8916_f07bcbf2f291row2_col25\" class=\"data row2 col25\" >Мичуринский просп. 3</td>\n",
       "                        <td id=\"T_865e5379_c615_11eb_8916_f07bcbf2f291row2_col26\" class=\"data row2 col26\" >ЗАО</td>\n",
       "                        <td id=\"T_865e5379_c615_11eb_8916_f07bcbf2f291row2_col27\" class=\"data row2 col27\" >196000</td>\n",
       "                        <td id=\"T_865e5379_c615_11eb_8916_f07bcbf2f291row2_col28\" class=\"data row2 col28\" >160000</td>\n",
       "                        <td id=\"T_865e5379_c615_11eb_8916_f07bcbf2f291row2_col29\" class=\"data row2 col29\" >Отсутствует</td>\n",
       "                        <td id=\"T_865e5379_c615_11eb_8916_f07bcbf2f291row2_col30\" class=\"data row2 col30\" >1</td>\n",
       "                        <td id=\"T_865e5379_c615_11eb_8916_f07bcbf2f291row2_col31\" class=\"data row2 col31\" >от года</td>\n",
       "                        <td id=\"T_865e5379_c615_11eb_8916_f07bcbf2f291row2_col32\" class=\"data row2 col32\" >Отсутствует</td>\n",
       "            </tr>\n",
       "            <tr>\n",
       "                                <td id=\"T_865e5379_c615_11eb_8916_f07bcbf2f291row3_col0\" class=\"data row3 col0\" >ID 13539540</td>\n",
       "                        <td id=\"T_865e5379_c615_11eb_8916_f07bcbf2f291row3_col1\" class=\"data row3 col1\" >160000</td>\n",
       "                        <td id=\"T_865e5379_c615_11eb_8916_f07bcbf2f291row3_col2\" class=\"data row3 col2\" >Предлагается  в аренду большая,  светлая трехкомнатная квартира с высокими потолками и  дизайнерским ремонтом.  Планировка квартиры включает в себя: гостиную, совмещенную с кухней, две изолированные спальни, в каждой из которых есть оборудованная гардеробная комната.  Два  санузла. В одном санузле ванна, в другом - душевая кабина. При необходимости, мебель покупается под клиента.</td>\n",
       "                        <td id=\"T_865e5379_c615_11eb_8916_f07bcbf2f291row3_col3\" class=\"data row3 col3\" >15</td>\n",
       "                        <td id=\"T_865e5379_c615_11eb_8916_f07bcbf2f291row3_col4\" class=\"data row3 col4\" >150</td>\n",
       "                        <td id=\"T_865e5379_c615_11eb_8916_f07bcbf2f291row3_col5\" class=\"data row3 col5\" >110</td>\n",
       "                        <td id=\"T_865e5379_c615_11eb_8916_f07bcbf2f291row3_col6\" class=\"data row3 col6\" >30</td>\n",
       "                        <td id=\"T_865e5379_c615_11eb_8916_f07bcbf2f291row3_col7\" class=\"data row3 col7\" >3</td>\n",
       "                        <td id=\"T_865e5379_c615_11eb_8916_f07bcbf2f291row3_col8\" class=\"data row3 col8\" >6</td>\n",
       "                        <td id=\"T_865e5379_c615_11eb_8916_f07bcbf2f291row3_col9\" class=\"data row3 col9\" >1954</td>\n",
       "                        <td id=\"T_865e5379_c615_11eb_8916_f07bcbf2f291row3_col10\" class=\"data row3 col10\" >1</td>\n",
       "                        <td id=\"T_865e5379_c615_11eb_8916_f07bcbf2f291row3_col11\" class=\"data row3 col11\" >1</td>\n",
       "                        <td id=\"T_865e5379_c615_11eb_8916_f07bcbf2f291row3_col12\" class=\"data row3 col12\" >Нет данных</td>\n",
       "                        <td id=\"T_865e5379_c615_11eb_8916_f07bcbf2f291row3_col13\" class=\"data row3 col13\" >1</td>\n",
       "                        <td id=\"T_865e5379_c615_11eb_8916_f07bcbf2f291row3_col14\" class=\"data row3 col14\" >Нет данных</td>\n",
       "                        <td id=\"T_865e5379_c615_11eb_8916_f07bcbf2f291row3_col15\" class=\"data row3 col15\" >1</td>\n",
       "                        <td id=\"T_865e5379_c615_11eb_8916_f07bcbf2f291row3_col16\" class=\"data row3 col16\" >1</td>\n",
       "                        <td id=\"T_865e5379_c615_11eb_8916_f07bcbf2f291row3_col17\" class=\"data row3 col17\" >1</td>\n",
       "                        <td id=\"T_865e5379_c615_11eb_8916_f07bcbf2f291row3_col18\" class=\"data row3 col18\" >1</td>\n",
       "                        <td id=\"T_865e5379_c615_11eb_8916_f07bcbf2f291row3_col19\" class=\"data row3 col19\" >Дизайнерский</td>\n",
       "                        <td id=\"T_865e5379_c615_11eb_8916_f07bcbf2f291row3_col20\" class=\"data row3 col20\" >Да</td>\n",
       "                        <td id=\"T_865e5379_c615_11eb_8916_f07bcbf2f291row3_col21\" class=\"data row3 col21\" >Да</td>\n",
       "                        <td id=\"T_865e5379_c615_11eb_8916_f07bcbf2f291row3_col22\" class=\"data row3 col22\" >Да</td>\n",
       "                        <td id=\"T_865e5379_c615_11eb_8916_f07bcbf2f291row3_col23\" class=\"data row3 col23\" >Нет</td>\n",
       "                        <td id=\"T_865e5379_c615_11eb_8916_f07bcbf2f291row3_col24\" class=\"data row3 col24\" >Москва ЮЗАО р-н Академический ул. Кржижановского 23К5 </td>\n",
       "                        <td id=\"T_865e5379_c615_11eb_8916_f07bcbf2f291row3_col25\" class=\"data row3 col25\" >ул. Кржижановского 23К5</td>\n",
       "                        <td id=\"T_865e5379_c615_11eb_8916_f07bcbf2f291row3_col26\" class=\"data row3 col26\" >ЮЗАО</td>\n",
       "                        <td id=\"T_865e5379_c615_11eb_8916_f07bcbf2f291row3_col27\" class=\"data row3 col27\" >188000</td>\n",
       "                        <td id=\"T_865e5379_c615_11eb_8916_f07bcbf2f291row3_col28\" class=\"data row3 col28\" >160000</td>\n",
       "                        <td id=\"T_865e5379_c615_11eb_8916_f07bcbf2f291row3_col29\" class=\"data row3 col29\" >Отсутствует</td>\n",
       "                        <td id=\"T_865e5379_c615_11eb_8916_f07bcbf2f291row3_col30\" class=\"data row3 col30\" >1</td>\n",
       "                        <td id=\"T_865e5379_c615_11eb_8916_f07bcbf2f291row3_col31\" class=\"data row3 col31\" >от года</td>\n",
       "                        <td id=\"T_865e5379_c615_11eb_8916_f07bcbf2f291row3_col32\" class=\"data row3 col32\" >Отсутствует</td>\n",
       "            </tr>\n",
       "            <tr>\n",
       "                                <td id=\"T_865e5379_c615_11eb_8916_f07bcbf2f291row4_col0\" class=\"data row4 col0\" >Собственник</td>\n",
       "                        <td id=\"T_865e5379_c615_11eb_8916_f07bcbf2f291row4_col1\" class=\"data row4 col1\" >160000</td>\n",
       "                        <td id=\"T_865e5379_c615_11eb_8916_f07bcbf2f291row4_col2\" class=\"data row4 col2\" >Предлагается в аренду трехкомнатная квартира в элитном ЖК \"МОСФИЛЬМОВСКАЯ\". Замечательные видовые характеристики и функциональная планировка. Квартира оснащена всей необходимой техникой.Качественный ремонт. Машино-место на подземном паркинге входит в стоимость. СОБСТВЕННИК</td>\n",
       "                        <td id=\"T_865e5379_c615_11eb_8916_f07bcbf2f291row4_col3\" class=\"data row4 col3\" >10</td>\n",
       "                        <td id=\"T_865e5379_c615_11eb_8916_f07bcbf2f291row4_col4\" class=\"data row4 col4\" >105</td>\n",
       "                        <td id=\"T_865e5379_c615_11eb_8916_f07bcbf2f291row4_col5\" class=\"data row4 col5\" >Нет данных</td>\n",
       "                        <td id=\"T_865e5379_c615_11eb_8916_f07bcbf2f291row4_col6\" class=\"data row4 col6\" >Нет данных</td>\n",
       "                        <td id=\"T_865e5379_c615_11eb_8916_f07bcbf2f291row4_col7\" class=\"data row4 col7\" >15</td>\n",
       "                        <td id=\"T_865e5379_c615_11eb_8916_f07bcbf2f291row4_col8\" class=\"data row4 col8\" >29</td>\n",
       "                        <td id=\"T_865e5379_c615_11eb_8916_f07bcbf2f291row4_col9\" class=\"data row4 col9\" >2017</td>\n",
       "                        <td id=\"T_865e5379_c615_11eb_8916_f07bcbf2f291row4_col10\" class=\"data row4 col10\" >1</td>\n",
       "                        <td id=\"T_865e5379_c615_11eb_8916_f07bcbf2f291row4_col11\" class=\"data row4 col11\" >1</td>\n",
       "                        <td id=\"T_865e5379_c615_11eb_8916_f07bcbf2f291row4_col12\" class=\"data row4 col12\" >1</td>\n",
       "                        <td id=\"T_865e5379_c615_11eb_8916_f07bcbf2f291row4_col13\" class=\"data row4 col13\" >1</td>\n",
       "                        <td id=\"T_865e5379_c615_11eb_8916_f07bcbf2f291row4_col14\" class=\"data row4 col14\" >1</td>\n",
       "                        <td id=\"T_865e5379_c615_11eb_8916_f07bcbf2f291row4_col15\" class=\"data row4 col15\" >1</td>\n",
       "                        <td id=\"T_865e5379_c615_11eb_8916_f07bcbf2f291row4_col16\" class=\"data row4 col16\" >1</td>\n",
       "                        <td id=\"T_865e5379_c615_11eb_8916_f07bcbf2f291row4_col17\" class=\"data row4 col17\" >1</td>\n",
       "                        <td id=\"T_865e5379_c615_11eb_8916_f07bcbf2f291row4_col18\" class=\"data row4 col18\" >Нет данных</td>\n",
       "                        <td id=\"T_865e5379_c615_11eb_8916_f07bcbf2f291row4_col19\" class=\"data row4 col19\" >Евроремонт</td>\n",
       "                        <td id=\"T_865e5379_c615_11eb_8916_f07bcbf2f291row4_col20\" class=\"data row4 col20\" >Да</td>\n",
       "                        <td id=\"T_865e5379_c615_11eb_8916_f07bcbf2f291row4_col21\" class=\"data row4 col21\" >Да</td>\n",
       "                        <td id=\"T_865e5379_c615_11eb_8916_f07bcbf2f291row4_col22\" class=\"data row4 col22\" >Да</td>\n",
       "                        <td id=\"T_865e5379_c615_11eb_8916_f07bcbf2f291row4_col23\" class=\"data row4 col23\" >Нет</td>\n",
       "                        <td id=\"T_865e5379_c615_11eb_8916_f07bcbf2f291row4_col24\" class=\"data row4 col24\" >Москва ЗАО р-н Раменки Мосфильмовская ул. 74Б </td>\n",
       "                        <td id=\"T_865e5379_c615_11eb_8916_f07bcbf2f291row4_col25\" class=\"data row4 col25\" >Мосфильмовская ул. 74Б</td>\n",
       "                        <td id=\"T_865e5379_c615_11eb_8916_f07bcbf2f291row4_col26\" class=\"data row4 col26\" >ЗАО</td>\n",
       "                        <td id=\"T_865e5379_c615_11eb_8916_f07bcbf2f291row4_col27\" class=\"data row4 col27\" >212000</td>\n",
       "                        <td id=\"T_865e5379_c615_11eb_8916_f07bcbf2f291row4_col28\" class=\"data row4 col28\" >Отсутствует</td>\n",
       "                        <td id=\"T_865e5379_c615_11eb_8916_f07bcbf2f291row4_col29\" class=\"data row4 col29\" >Отсутствует</td>\n",
       "                        <td id=\"T_865e5379_c615_11eb_8916_f07bcbf2f291row4_col30\" class=\"data row4 col30\" >2</td>\n",
       "                        <td id=\"T_865e5379_c615_11eb_8916_f07bcbf2f291row4_col31\" class=\"data row4 col31\" >от года</td>\n",
       "                        <td id=\"T_865e5379_c615_11eb_8916_f07bcbf2f291row4_col32\" class=\"data row4 col32\" >Отсутствует</td>\n",
       "            </tr>\n",
       "    </tbody></table>"
      ],
      "text/plain": [
       "<pandas.io.formats.style.Styler at 0x13f3cfac70>"
      ]
     },
     "execution_count": 170,
     "metadata": {},
     "output_type": "execute_result"
    }
   ],
   "source": [
    "for elem in list(df.columns):\n",
    "    df.loc[df[elem]==0, elem] = 'Нет данных'\n",
    "df.head().style.hide_index()\n"
   ]
  },
  {
   "cell_type": "markdown",
   "metadata": {},
   "source": [
    "# Шаг 3. Создание новых признаков"
   ]
  },
  {
   "cell_type": "markdown",
   "metadata": {},
   "source": [
    "Будем добавлять столбцы с новыми признаками в исходную таблицу"
   ]
  },
  {
   "cell_type": "markdown",
   "metadata": {},
   "source": [
    "1. Число слов и использование латиницы в описании "
   ]
  },
  {
   "cell_type": "code",
   "execution_count": 171,
   "metadata": {},
   "outputs": [],
   "source": [
    "import re\n",
    "symbols = []\n",
    "latin = []\n",
    "for elem in df['Описание']:\n",
    "    symbols.append(len(elem.split()))\n",
    "    low = re.search (r'([a-z])', elem)\n",
    "    up = re.search (r'([A-Z])', elem)\n",
    "    if (low or up) != None:\n",
    "        latin.append(1)\n",
    "    else:\n",
    "        latin.append(0)\n",
    "df['Число слов в описании '] = symbols\n",
    "df['Латиница используется в описании'] = latin"
   ]
  },
  {
   "cell_type": "markdown",
   "metadata": {},
   "source": [
    "2. Посчитаем, по скольким признакам в объявлении нет данных (в абсолютном и относительном значении)"
   ]
  },
  {
   "cell_type": "code",
   "execution_count": 172,
   "metadata": {},
   "outputs": [],
   "source": [
    "df1 = df.T\n",
    "no_data=[]\n",
    "for elem in list(df1.columns):\n",
    "    no_data.append(df1[elem].isin(['Нет данных']).sum())\n",
    "df['Количество незаполненных полей, шт.'] = no_data\n",
    "df['Количество незаполненных полей, %'] = list(i/len(df.columns)*100 for i in no_data)"
   ]
  },
  {
   "cell_type": "markdown",
   "metadata": {},
   "source": [
    "3. Добавим признак \"Цена аренды за 1 м²\""
   ]
  },
  {
   "cell_type": "markdown",
   "metadata": {},
   "source": [
    "Пройдёмся циклом по изначальному словарю и рассчитаем цену аренды на 1 м². Результат внесём в словарь с такой же структурой, как у основного."
   ]
  },
  {
   "cell_type": "code",
   "execution_count": 173,
   "metadata": {},
   "outputs": [],
   "source": [
    "price_for_meter = defaultdict(lambda: [])\n",
    "for key in y:\n",
    "    # обработка пропусков\n",
    "    if y[key][0] == 0 or y[key][3] == 0:\n",
    "        price_for_meter[key].append('Нет данных')\n",
    "    # расчёт показателя\n",
    "    else:\n",
    "        price_for_meter[key].append(y[key][0] / y[key][3])\n"
   ]
  },
  {
   "cell_type": "markdown",
   "metadata": {},
   "source": [
    "4. Добавим признак: качество жизни(QOL), для этого будем работать с изначальным словарем. Он будет рассчитываться как среднее арифметическое по всем имеющимся опциям + отнормированный ремонт. "
   ]
  },
  {
   "cell_type": "markdown",
   "metadata": {},
   "source": [
    "Вспомогательная ячейка кода!"
   ]
  },
  {
   "cell_type": "code",
   "execution_count": 174,
   "metadata": {},
   "outputs": [
    {
     "name": "stdout",
     "output_type": "stream",
     "text": [
      "[150000, 'Собственник', 8, 0, 0, 0, 0, 0, 0, 'Сдается в длительную аренду трехкомнатная квартира от собственника. \\n\\nТихий зеленый район, развитая инфраструктура: в доме частный детский сад, в шаговой доступности школы (частная, общеобразовательная, университетская при МПГУ), аптеки, салоны красоты, в 3 минутах пешком (610 метров) ТЦ Авиапарк.\\nОхраняемый ЖК, подземный паркинг (одно просторное машиноместо входит в стоимость аренды). 12 минут пешком до м. ЦСКА, 20 минут пешком до м. Аэропорт. \\n\\nТри комнаты: спальня с гардеробной, кабинет/детская, гостиная, совмещенная с кухней. Два санузла: туалет с раковиной в малом санузле и просторная душевая, туалет и раковина в основном. Две просторных лоджии: с выходом из кухни и из спальни. \\n\\nСовременное оборудование: кондиционеры  и ЖК телевизоры во всех комнатах, на кухне индукционная плита, свч /духовая печь, посудомоечная машина, стиральная машина.', 1, 1, 1, 1, 1, 1, 1, 1, 1, 0, 4, 1, 1, 1, 0, 'Москва САО р-н Хорошевский ул. Авиаконструктора Микояна 14к2 ', 'ул. Авиаконструктора Микояна 14к2', 'САО', 217000, 150000, 0, 1, 'от года', 0]\n",
      "0   Цена аренды\n",
      "1   Агенство недвижимости\n",
      "2   Минимальное время до метро, мин\n",
      "3   Общая площадь,  м²\n",
      "4   Жилая площадь,  м²\n",
      "5   Площадь кухни,  м²\n",
      "6   Этаж квартиры\n",
      "7   Этажей в доме\n",
      "8   Год постройки\n",
      "9   Описание\n",
      "10   Холодильник\n",
      "11   Посудомоечная машина\n",
      "12   Стиральная машина\n",
      "13   Мебель в комнатах\n",
      "14   Мебель на кухне\n",
      "15   Телевизор\n",
      "16   Интернет\n",
      "17   Кондиционер\n",
      "18   Душевая кабина\n",
      "19   Ванна\n",
      "20   Тип ремонта\n",
      "21   Окна на улицу\n",
      "22   Окна во двор\n",
      "23   Можно с детьми\n",
      "24   Можно с животными\n",
      "25   Полный адрес\n",
      "26   Улица\n",
      "27   Район\n",
      "28   Рекомендованная цена\n",
      "29   Залог\n",
      "30   Комиссия\n",
      "31   Предоплата(за сколько месяцев)\n",
      "32   Длительность съёма\n",
      "33   Возможность торга\n"
     ]
    }
   ],
   "source": [
    "print(y['https://www.cian.ru/rent/flat/257939094/'])\n",
    "count = 0\n",
    "a = ['Цена аренды', 'Агенство недвижимости', 'Минимальное время до метро, мин', 'Общая площадь,  м²', 'Жилая площадь,  м²', 'Площадь кухни,  м²', 'Этаж квартиры', 'Этажей в доме', \"Год постройки\", \"Описание\", \"Холодильник\", \"Посудомоечная машина\", \"Стиральная машина\", \"Мебель в комнатах\", \"Мебель на кухне\", \"Телевизор\", \"Интернет\", \"Кондиционер\", \"Душевая кабина\", \"Ванна\", \"Тип ремонта\", \"Окна на улицу\", \"Окна во двор\", \"Можно с детьми\", \"Можно с животными\", \"Полный адрес\", \"Улица\", \"Район\", \"Рекомендованная цена\", \"Залог\", \"Комиссия\", \"Предоплата(за сколько месяцев)\", \"Длительность съёма\", \"Возможность торга\"]\n",
    "for i in a:\n",
    "    print(count,  ' ', i)\n",
    "    count+=1\n",
    "    "
   ]
  },
  {
   "cell_type": "code",
   "execution_count": 175,
   "metadata": {},
   "outputs": [],
   "source": [
    "QOL = defaultdict(lambda: [])\n",
    "for key in y:\n",
    "    QOL[key].append(((y[key][10] + y[key][11] + y[key][13] + y[key][14] + y[key][15] + y[key][16] + y[key][17] + y[key][18] + y[key][19]) / 9 + y[key][20] / 4) / 2)"
   ]
  },
  {
   "cell_type": "markdown",
   "metadata": {},
   "source": [
    "5. Лояльность собственника. Рассчитывается как среднее арифметическое из критериев: можно с животными, можно с детьми, торг."
   ]
  },
  {
   "cell_type": "code",
   "execution_count": 177,
   "metadata": {},
   "outputs": [],
   "source": [
    "Isloyal = defaultdict(lambda: [])\n",
    "for key in y:\n",
    "    Isloyal[key].append((y[key][23] + y[key][24] + y[key][33]) / 3)"
   ]
  },
  {
   "cell_type": "markdown",
   "metadata": {},
   "source": [
    "6. Присвоим ранг \"престижности\" района на основании данных сайта https://1kvartiravmoskve.ru/rejting-luchshix-rajonov-moskvy-dlya-prozhivaniya-2020/, где наиболее престижному району соответствует 1, а наименее - 10"
   ]
  },
  {
   "cell_type": "markdown",
   "metadata": {},
   "source": [
    "Всего в таблице встречаются следующие районы:"
   ]
  },
  {
   "cell_type": "code",
   "execution_count": 178,
   "metadata": {},
   "outputs": [
    {
     "data": {
      "text/plain": [
       "{'ВАО',\n",
       " 'ЗАО',\n",
       " 'ЗелАО',\n",
       " 'НАО (Новомосковский)',\n",
       " 'САО',\n",
       " 'СВАО',\n",
       " 'СЗАО',\n",
       " 'ЦАО',\n",
       " 'ЮАО',\n",
       " 'ЮВАО',\n",
       " 'ЮЗАО'}"
      ]
     },
     "execution_count": 178,
     "metadata": {},
     "output_type": "execute_result"
    }
   ],
   "source": [
    "set(df['Район'])"
   ]
  },
  {
   "cell_type": "code",
   "execution_count": 179,
   "metadata": {},
   "outputs": [],
   "source": [
    "a = [0]*len(df.T.columns)\n",
    "df['Престижность района'] = a\n",
    "df.loc[df['Район'] == 'ЗАО', 'Престижность района'] = 1\n",
    "df.loc[df['Район'] == 'ЮЗАО', 'Престижность района'] = 2\n",
    "df.loc[df['Район'] == 'СЗАО', 'Престижность района'] = 3\n",
    "df.loc[df['Район'] == 'САО', 'Престижность района'] = 4\n",
    "df.loc[df['Район'] == 'СВАО', 'Престижность района'] = 5\n",
    "df.loc[df['Район'] == 'ЮАО', 'Престижность района'] = 6\n",
    "df.loc[df['Район'] == 'ЮВАО', 'Престижность района'] = 7\n",
    "df.loc[df['Район'] == 'ВАО', 'Престижность района'] = 8\n",
    "df.loc[df['Район'] == 'ЦАО', 'Престижность района'] = 9\n",
    "df.loc[df['Район'] == 'ЗелАО', 'Престижность района'] = 10\n",
    "df.loc[df['Район'] == 'НАО (Новомосковский)', 'Престижность района'] = 10"
   ]
  },
  {
   "cell_type": "markdown",
   "metadata": {},
   "source": [
    "7. Добавим признаки \"Цена аренды за 1 м²\", \"QOL\" и \"Лояльность собственника\" в датасет"
   ]
  },
  {
   "cell_type": "code",
   "execution_count": 180,
   "metadata": {},
   "outputs": [],
   "source": [
    "# делаем датафреймы из словарей\n",
    "price_for_meter_df = pd.DataFrame(price_for_meter).T\n",
    "price_for_meter_df.columns = ['Цена аренды за 1 м²']\n",
    "QOL_df = pd.DataFrame(QOL).T\n",
    "QOL_df.columns = ['Качество жизни']\n",
    "Isloyal_df = pd.DataFrame(Isloyal).T\n",
    "Isloyal_df.columns = ['Лояльность собственника']\n",
    "# Добавляем данные в таблицу\n",
    "df = df.join(price_for_meter_df)\n",
    "df = df.join(QOL_df)\n",
    "df = df.join(Isloyal_df)"
   ]
  },
  {
   "cell_type": "markdown",
   "metadata": {},
   "source": [
    "После добавления новых признаков датафрейм принимает следующий вид:"
   ]
  },
  {
   "cell_type": "code",
   "execution_count": 184,
   "metadata": {},
   "outputs": [
    {
     "data": {
      "text/html": [
       "<div>\n",
       "<style scoped>\n",
       "    .dataframe tbody tr th:only-of-type {\n",
       "        vertical-align: middle;\n",
       "    }\n",
       "\n",
       "    .dataframe tbody tr th {\n",
       "        vertical-align: top;\n",
       "    }\n",
       "\n",
       "    .dataframe thead th {\n",
       "        text-align: right;\n",
       "    }\n",
       "</style>\n",
       "<table border=\"1\" class=\"dataframe\">\n",
       "  <thead>\n",
       "    <tr style=\"text-align: right;\">\n",
       "      <th></th>\n",
       "      <th>Агенство недвижимости</th>\n",
       "      <th>Цена аренды</th>\n",
       "      <th>Описание</th>\n",
       "      <th>Минимальное время до метро, мин</th>\n",
       "      <th>Общая площадь,  м²</th>\n",
       "      <th>Жилая площадь,  м²</th>\n",
       "      <th>Площадь кухни,  м²</th>\n",
       "      <th>Этаж квартиры</th>\n",
       "      <th>Этажей в доме</th>\n",
       "      <th>Год постройки</th>\n",
       "      <th>...</th>\n",
       "      <th>Длительность съёма</th>\n",
       "      <th>Возможность торга</th>\n",
       "      <th>Число слов в описании</th>\n",
       "      <th>Латиница используется в описании</th>\n",
       "      <th>Количество незаполненных полей, шт.</th>\n",
       "      <th>Количество незаполненных полей, %</th>\n",
       "      <th>Престижность района</th>\n",
       "      <th>Цена аренды за 1 м²</th>\n",
       "      <th>Качество жизни</th>\n",
       "      <th>Лояльность собственника</th>\n",
       "    </tr>\n",
       "  </thead>\n",
       "  <tbody>\n",
       "    <tr>\n",
       "      <th>https://www.cian.ru/rent/flat/257939094/</th>\n",
       "      <td>Собственник</td>\n",
       "      <td>150000</td>\n",
       "      <td>Сдается в длительную аренду трехкомнатная квар...</td>\n",
       "      <td>8</td>\n",
       "      <td>Нет данных</td>\n",
       "      <td>Нет данных</td>\n",
       "      <td>Нет данных</td>\n",
       "      <td>Нет данных</td>\n",
       "      <td>Нет данных</td>\n",
       "      <td>Нет данных</td>\n",
       "      <td>...</td>\n",
       "      <td>от года</td>\n",
       "      <td>Отсутствует</td>\n",
       "      <td>117</td>\n",
       "      <td>0</td>\n",
       "      <td>7</td>\n",
       "      <td>19.444444</td>\n",
       "      <td>4</td>\n",
       "      <td>Нет данных</td>\n",
       "      <td>0.944444</td>\n",
       "      <td>0.333333</td>\n",
       "    </tr>\n",
       "    <tr>\n",
       "      <th>https://www.cian.ru/rent/flat/257932614/</th>\n",
       "      <td>ELEVEN REALTY</td>\n",
       "      <td>160000</td>\n",
       "      <td>Вашему вниманию предлагается квартира располож...</td>\n",
       "      <td>5</td>\n",
       "      <td>130</td>\n",
       "      <td>80</td>\n",
       "      <td>20</td>\n",
       "      <td>4</td>\n",
       "      <td>5</td>\n",
       "      <td>1903</td>\n",
       "      <td>...</td>\n",
       "      <td>от года</td>\n",
       "      <td>Отсутствует</td>\n",
       "      <td>28</td>\n",
       "      <td>0</td>\n",
       "      <td>1</td>\n",
       "      <td>2.777778</td>\n",
       "      <td>9</td>\n",
       "      <td>1230.77</td>\n",
       "      <td>0.944444</td>\n",
       "      <td>0.666667</td>\n",
       "    </tr>\n",
       "    <tr>\n",
       "      <th>https://www.cian.ru/rent/flat/257657963/</th>\n",
       "      <td>Вероника Кудашова</td>\n",
       "      <td>160000</td>\n",
       "      <td>ЖК Шуваловский. Сдам элегантную трехкомнатную ...</td>\n",
       "      <td>3</td>\n",
       "      <td>110</td>\n",
       "      <td>60</td>\n",
       "      <td>14</td>\n",
       "      <td>6</td>\n",
       "      <td>15</td>\n",
       "      <td>2008</td>\n",
       "      <td>...</td>\n",
       "      <td>от года</td>\n",
       "      <td>Отсутствует</td>\n",
       "      <td>45</td>\n",
       "      <td>0</td>\n",
       "      <td>1</td>\n",
       "      <td>2.777778</td>\n",
       "      <td>1</td>\n",
       "      <td>1454.55</td>\n",
       "      <td>0.944444</td>\n",
       "      <td>0.333333</td>\n",
       "    </tr>\n",
       "    <tr>\n",
       "      <th>https://www.cian.ru/rent/flat/245900199/</th>\n",
       "      <td>ID 13539540</td>\n",
       "      <td>160000</td>\n",
       "      <td>Предлагается  в аренду большая,  светлая трехк...</td>\n",
       "      <td>15</td>\n",
       "      <td>150</td>\n",
       "      <td>110</td>\n",
       "      <td>30</td>\n",
       "      <td>3</td>\n",
       "      <td>6</td>\n",
       "      <td>1954</td>\n",
       "      <td>...</td>\n",
       "      <td>от года</td>\n",
       "      <td>Отсутствует</td>\n",
       "      <td>50</td>\n",
       "      <td>0</td>\n",
       "      <td>2</td>\n",
       "      <td>5.555556</td>\n",
       "      <td>2</td>\n",
       "      <td>1066.67</td>\n",
       "      <td>0.888889</td>\n",
       "      <td>0.333333</td>\n",
       "    </tr>\n",
       "    <tr>\n",
       "      <th>https://www.cian.ru/rent/flat/254004100/</th>\n",
       "      <td>Собственник</td>\n",
       "      <td>160000</td>\n",
       "      <td>Предлагается в аренду трехкомнатная квартира в...</td>\n",
       "      <td>10</td>\n",
       "      <td>105</td>\n",
       "      <td>Нет данных</td>\n",
       "      <td>Нет данных</td>\n",
       "      <td>15</td>\n",
       "      <td>29</td>\n",
       "      <td>2017</td>\n",
       "      <td>...</td>\n",
       "      <td>от года</td>\n",
       "      <td>Отсутствует</td>\n",
       "      <td>29</td>\n",
       "      <td>0</td>\n",
       "      <td>3</td>\n",
       "      <td>8.333333</td>\n",
       "      <td>1</td>\n",
       "      <td>1523.81</td>\n",
       "      <td>0.819444</td>\n",
       "      <td>0.333333</td>\n",
       "    </tr>\n",
       "    <tr>\n",
       "      <th>...</th>\n",
       "      <td>...</td>\n",
       "      <td>...</td>\n",
       "      <td>...</td>\n",
       "      <td>...</td>\n",
       "      <td>...</td>\n",
       "      <td>...</td>\n",
       "      <td>...</td>\n",
       "      <td>...</td>\n",
       "      <td>...</td>\n",
       "      <td>...</td>\n",
       "      <td>...</td>\n",
       "      <td>...</td>\n",
       "      <td>...</td>\n",
       "      <td>...</td>\n",
       "      <td>...</td>\n",
       "      <td>...</td>\n",
       "      <td>...</td>\n",
       "      <td>...</td>\n",
       "      <td>...</td>\n",
       "      <td>...</td>\n",
       "      <td>...</td>\n",
       "    </tr>\n",
       "    <tr>\n",
       "      <th>https://www.cian.ru/rent/flat/238195763/</th>\n",
       "      <td>Penny Lane Realty</td>\n",
       "      <td>150000</td>\n",
       "      <td>Лот 11849. БЕЗ КОМИССИИ. \\nВ историческом цент...</td>\n",
       "      <td>Нет данных</td>\n",
       "      <td>92</td>\n",
       "      <td>59</td>\n",
       "      <td>9</td>\n",
       "      <td>4</td>\n",
       "      <td>14</td>\n",
       "      <td>1956</td>\n",
       "      <td>...</td>\n",
       "      <td>от года</td>\n",
       "      <td>Отсутствует</td>\n",
       "      <td>112</td>\n",
       "      <td>0</td>\n",
       "      <td>3</td>\n",
       "      <td>8.333333</td>\n",
       "      <td>9</td>\n",
       "      <td>1630.43</td>\n",
       "      <td>0.763889</td>\n",
       "      <td>0.000000</td>\n",
       "    </tr>\n",
       "    <tr>\n",
       "      <th>https://www.cian.ru/rent/flat/253649639/</th>\n",
       "      <td>Savills</td>\n",
       "      <td>150000</td>\n",
       "      <td>ID 21201  Дом бизнес-класса в пешей доступност...</td>\n",
       "      <td>6</td>\n",
       "      <td>141</td>\n",
       "      <td>84</td>\n",
       "      <td>18</td>\n",
       "      <td>3</td>\n",
       "      <td>13</td>\n",
       "      <td>Нет данных</td>\n",
       "      <td>...</td>\n",
       "      <td>от года</td>\n",
       "      <td>Отсутствует</td>\n",
       "      <td>108</td>\n",
       "      <td>1</td>\n",
       "      <td>2</td>\n",
       "      <td>5.555556</td>\n",
       "      <td>9</td>\n",
       "      <td>1063.83</td>\n",
       "      <td>0.819444</td>\n",
       "      <td>0.333333</td>\n",
       "    </tr>\n",
       "    <tr>\n",
       "      <th>https://www.cian.ru/rent/flat/257261867/</th>\n",
       "      <td>Apple Real Estate</td>\n",
       "      <td>1000000</td>\n",
       "      <td>Лот 105545. Ольга Метелёва.\\n\\nБонус агенту 50...</td>\n",
       "      <td>5</td>\n",
       "      <td>118</td>\n",
       "      <td>Нет данных</td>\n",
       "      <td>10</td>\n",
       "      <td>10</td>\n",
       "      <td>13</td>\n",
       "      <td>Нет данных</td>\n",
       "      <td>...</td>\n",
       "      <td>от года</td>\n",
       "      <td>Отсутствует</td>\n",
       "      <td>139</td>\n",
       "      <td>1</td>\n",
       "      <td>2</td>\n",
       "      <td>5.555556</td>\n",
       "      <td>9</td>\n",
       "      <td>8474.58</td>\n",
       "      <td>1.000000</td>\n",
       "      <td>0.000000</td>\n",
       "    </tr>\n",
       "    <tr>\n",
       "      <th>https://www.cian.ru/rent/flat/256000982/</th>\n",
       "      <td>Chase R.E.S.</td>\n",
       "      <td>310000</td>\n",
       "      <td>Оксана Белова. БЕЗ КОМИССИИ ДЛЯ АРЕНДАТОРА. АГ...</td>\n",
       "      <td>10</td>\n",
       "      <td>160</td>\n",
       "      <td>110</td>\n",
       "      <td>30</td>\n",
       "      <td>22</td>\n",
       "      <td>57</td>\n",
       "      <td>2004</td>\n",
       "      <td>...</td>\n",
       "      <td>от года</td>\n",
       "      <td>Отсутствует</td>\n",
       "      <td>103</td>\n",
       "      <td>0</td>\n",
       "      <td>5</td>\n",
       "      <td>13.888889</td>\n",
       "      <td>4</td>\n",
       "      <td>1937.5</td>\n",
       "      <td>0.222222</td>\n",
       "      <td>0.333333</td>\n",
       "    </tr>\n",
       "    <tr>\n",
       "      <th>https://www.cian.ru/rent/flat/251590324/</th>\n",
       "      <td>Chase R.E.S.</td>\n",
       "      <td>350000</td>\n",
       "      <td>ЖК ТРИУМФ ПАЛАС. Современный жилой комплекс пр...</td>\n",
       "      <td>10</td>\n",
       "      <td>262</td>\n",
       "      <td>132</td>\n",
       "      <td>21</td>\n",
       "      <td>22</td>\n",
       "      <td>57</td>\n",
       "      <td>2004</td>\n",
       "      <td>...</td>\n",
       "      <td>от года</td>\n",
       "      <td>Отсутствует</td>\n",
       "      <td>107</td>\n",
       "      <td>0</td>\n",
       "      <td>5</td>\n",
       "      <td>13.888889</td>\n",
       "      <td>4</td>\n",
       "      <td>1335.88</td>\n",
       "      <td>0.722222</td>\n",
       "      <td>0.666667</td>\n",
       "    </tr>\n",
       "  </tbody>\n",
       "</table>\n",
       "<p>1496 rows × 41 columns</p>\n",
       "</div>"
      ],
      "text/plain": [
       "                                         Агенство недвижимости Цена аренды  \\\n",
       "https://www.cian.ru/rent/flat/257939094/           Собственник      150000   \n",
       "https://www.cian.ru/rent/flat/257932614/         ELEVEN REALTY      160000   \n",
       "https://www.cian.ru/rent/flat/257657963/     Вероника Кудашова      160000   \n",
       "https://www.cian.ru/rent/flat/245900199/           ID 13539540      160000   \n",
       "https://www.cian.ru/rent/flat/254004100/           Собственник      160000   \n",
       "...                                                        ...         ...   \n",
       "https://www.cian.ru/rent/flat/238195763/     Penny Lane Realty      150000   \n",
       "https://www.cian.ru/rent/flat/253649639/               Savills      150000   \n",
       "https://www.cian.ru/rent/flat/257261867/     Apple Real Estate     1000000   \n",
       "https://www.cian.ru/rent/flat/256000982/          Chase R.E.S.      310000   \n",
       "https://www.cian.ru/rent/flat/251590324/          Chase R.E.S.      350000   \n",
       "\n",
       "                                                                                   Описание  \\\n",
       "https://www.cian.ru/rent/flat/257939094/  Сдается в длительную аренду трехкомнатная квар...   \n",
       "https://www.cian.ru/rent/flat/257932614/  Вашему вниманию предлагается квартира располож...   \n",
       "https://www.cian.ru/rent/flat/257657963/  ЖК Шуваловский. Сдам элегантную трехкомнатную ...   \n",
       "https://www.cian.ru/rent/flat/245900199/  Предлагается  в аренду большая,  светлая трехк...   \n",
       "https://www.cian.ru/rent/flat/254004100/  Предлагается в аренду трехкомнатная квартира в...   \n",
       "...                                                                                     ...   \n",
       "https://www.cian.ru/rent/flat/238195763/  Лот 11849. БЕЗ КОМИССИИ. \\nВ историческом цент...   \n",
       "https://www.cian.ru/rent/flat/253649639/  ID 21201  Дом бизнес-класса в пешей доступност...   \n",
       "https://www.cian.ru/rent/flat/257261867/  Лот 105545. Ольга Метелёва.\\n\\nБонус агенту 50...   \n",
       "https://www.cian.ru/rent/flat/256000982/  Оксана Белова. БЕЗ КОМИССИИ ДЛЯ АРЕНДАТОРА. АГ...   \n",
       "https://www.cian.ru/rent/flat/251590324/  ЖК ТРИУМФ ПАЛАС. Современный жилой комплекс пр...   \n",
       "\n",
       "                                         Минимальное время до метро, мин  \\\n",
       "https://www.cian.ru/rent/flat/257939094/                               8   \n",
       "https://www.cian.ru/rent/flat/257932614/                               5   \n",
       "https://www.cian.ru/rent/flat/257657963/                               3   \n",
       "https://www.cian.ru/rent/flat/245900199/                              15   \n",
       "https://www.cian.ru/rent/flat/254004100/                              10   \n",
       "...                                                                  ...   \n",
       "https://www.cian.ru/rent/flat/238195763/                      Нет данных   \n",
       "https://www.cian.ru/rent/flat/253649639/                               6   \n",
       "https://www.cian.ru/rent/flat/257261867/                               5   \n",
       "https://www.cian.ru/rent/flat/256000982/                              10   \n",
       "https://www.cian.ru/rent/flat/251590324/                              10   \n",
       "\n",
       "                                         Общая площадь,  м²  \\\n",
       "https://www.cian.ru/rent/flat/257939094/         Нет данных   \n",
       "https://www.cian.ru/rent/flat/257932614/                130   \n",
       "https://www.cian.ru/rent/flat/257657963/                110   \n",
       "https://www.cian.ru/rent/flat/245900199/                150   \n",
       "https://www.cian.ru/rent/flat/254004100/                105   \n",
       "...                                                     ...   \n",
       "https://www.cian.ru/rent/flat/238195763/                 92   \n",
       "https://www.cian.ru/rent/flat/253649639/                141   \n",
       "https://www.cian.ru/rent/flat/257261867/                118   \n",
       "https://www.cian.ru/rent/flat/256000982/                160   \n",
       "https://www.cian.ru/rent/flat/251590324/                262   \n",
       "\n",
       "                                         Жилая площадь,  м²  \\\n",
       "https://www.cian.ru/rent/flat/257939094/         Нет данных   \n",
       "https://www.cian.ru/rent/flat/257932614/                 80   \n",
       "https://www.cian.ru/rent/flat/257657963/                 60   \n",
       "https://www.cian.ru/rent/flat/245900199/                110   \n",
       "https://www.cian.ru/rent/flat/254004100/         Нет данных   \n",
       "...                                                     ...   \n",
       "https://www.cian.ru/rent/flat/238195763/                 59   \n",
       "https://www.cian.ru/rent/flat/253649639/                 84   \n",
       "https://www.cian.ru/rent/flat/257261867/         Нет данных   \n",
       "https://www.cian.ru/rent/flat/256000982/                110   \n",
       "https://www.cian.ru/rent/flat/251590324/                132   \n",
       "\n",
       "                                         Площадь кухни,  м² Этаж квартиры  \\\n",
       "https://www.cian.ru/rent/flat/257939094/         Нет данных    Нет данных   \n",
       "https://www.cian.ru/rent/flat/257932614/                 20             4   \n",
       "https://www.cian.ru/rent/flat/257657963/                 14             6   \n",
       "https://www.cian.ru/rent/flat/245900199/                 30             3   \n",
       "https://www.cian.ru/rent/flat/254004100/         Нет данных            15   \n",
       "...                                                     ...           ...   \n",
       "https://www.cian.ru/rent/flat/238195763/                  9             4   \n",
       "https://www.cian.ru/rent/flat/253649639/                 18             3   \n",
       "https://www.cian.ru/rent/flat/257261867/                 10            10   \n",
       "https://www.cian.ru/rent/flat/256000982/                 30            22   \n",
       "https://www.cian.ru/rent/flat/251590324/                 21            22   \n",
       "\n",
       "                                         Этажей в доме Год постройки  ...  \\\n",
       "https://www.cian.ru/rent/flat/257939094/    Нет данных    Нет данных  ...   \n",
       "https://www.cian.ru/rent/flat/257932614/             5          1903  ...   \n",
       "https://www.cian.ru/rent/flat/257657963/            15          2008  ...   \n",
       "https://www.cian.ru/rent/flat/245900199/             6          1954  ...   \n",
       "https://www.cian.ru/rent/flat/254004100/            29          2017  ...   \n",
       "...                                                ...           ...  ...   \n",
       "https://www.cian.ru/rent/flat/238195763/            14          1956  ...   \n",
       "https://www.cian.ru/rent/flat/253649639/            13    Нет данных  ...   \n",
       "https://www.cian.ru/rent/flat/257261867/            13    Нет данных  ...   \n",
       "https://www.cian.ru/rent/flat/256000982/            57          2004  ...   \n",
       "https://www.cian.ru/rent/flat/251590324/            57          2004  ...   \n",
       "\n",
       "                                         Длительность съёма Возможность торга  \\\n",
       "https://www.cian.ru/rent/flat/257939094/            от года       Отсутствует   \n",
       "https://www.cian.ru/rent/flat/257932614/            от года       Отсутствует   \n",
       "https://www.cian.ru/rent/flat/257657963/            от года       Отсутствует   \n",
       "https://www.cian.ru/rent/flat/245900199/            от года       Отсутствует   \n",
       "https://www.cian.ru/rent/flat/254004100/            от года       Отсутствует   \n",
       "...                                                     ...               ...   \n",
       "https://www.cian.ru/rent/flat/238195763/            от года       Отсутствует   \n",
       "https://www.cian.ru/rent/flat/253649639/            от года       Отсутствует   \n",
       "https://www.cian.ru/rent/flat/257261867/            от года       Отсутствует   \n",
       "https://www.cian.ru/rent/flat/256000982/            от года       Отсутствует   \n",
       "https://www.cian.ru/rent/flat/251590324/            от года       Отсутствует   \n",
       "\n",
       "                                         Число слов в описании   \\\n",
       "https://www.cian.ru/rent/flat/257939094/                    117   \n",
       "https://www.cian.ru/rent/flat/257932614/                     28   \n",
       "https://www.cian.ru/rent/flat/257657963/                     45   \n",
       "https://www.cian.ru/rent/flat/245900199/                     50   \n",
       "https://www.cian.ru/rent/flat/254004100/                     29   \n",
       "...                                                         ...   \n",
       "https://www.cian.ru/rent/flat/238195763/                    112   \n",
       "https://www.cian.ru/rent/flat/253649639/                    108   \n",
       "https://www.cian.ru/rent/flat/257261867/                    139   \n",
       "https://www.cian.ru/rent/flat/256000982/                    103   \n",
       "https://www.cian.ru/rent/flat/251590324/                    107   \n",
       "\n",
       "                                         Латиница используется в описании  \\\n",
       "https://www.cian.ru/rent/flat/257939094/                                0   \n",
       "https://www.cian.ru/rent/flat/257932614/                                0   \n",
       "https://www.cian.ru/rent/flat/257657963/                                0   \n",
       "https://www.cian.ru/rent/flat/245900199/                                0   \n",
       "https://www.cian.ru/rent/flat/254004100/                                0   \n",
       "...                                                                   ...   \n",
       "https://www.cian.ru/rent/flat/238195763/                                0   \n",
       "https://www.cian.ru/rent/flat/253649639/                                1   \n",
       "https://www.cian.ru/rent/flat/257261867/                                1   \n",
       "https://www.cian.ru/rent/flat/256000982/                                0   \n",
       "https://www.cian.ru/rent/flat/251590324/                                0   \n",
       "\n",
       "                                         Количество незаполненных полей, шт.  \\\n",
       "https://www.cian.ru/rent/flat/257939094/                                   7   \n",
       "https://www.cian.ru/rent/flat/257932614/                                   1   \n",
       "https://www.cian.ru/rent/flat/257657963/                                   1   \n",
       "https://www.cian.ru/rent/flat/245900199/                                   2   \n",
       "https://www.cian.ru/rent/flat/254004100/                                   3   \n",
       "...                                                                      ...   \n",
       "https://www.cian.ru/rent/flat/238195763/                                   3   \n",
       "https://www.cian.ru/rent/flat/253649639/                                   2   \n",
       "https://www.cian.ru/rent/flat/257261867/                                   2   \n",
       "https://www.cian.ru/rent/flat/256000982/                                   5   \n",
       "https://www.cian.ru/rent/flat/251590324/                                   5   \n",
       "\n",
       "                                         Количество незаполненных полей, %  \\\n",
       "https://www.cian.ru/rent/flat/257939094/                         19.444444   \n",
       "https://www.cian.ru/rent/flat/257932614/                          2.777778   \n",
       "https://www.cian.ru/rent/flat/257657963/                          2.777778   \n",
       "https://www.cian.ru/rent/flat/245900199/                          5.555556   \n",
       "https://www.cian.ru/rent/flat/254004100/                          8.333333   \n",
       "...                                                                    ...   \n",
       "https://www.cian.ru/rent/flat/238195763/                          8.333333   \n",
       "https://www.cian.ru/rent/flat/253649639/                          5.555556   \n",
       "https://www.cian.ru/rent/flat/257261867/                          5.555556   \n",
       "https://www.cian.ru/rent/flat/256000982/                         13.888889   \n",
       "https://www.cian.ru/rent/flat/251590324/                         13.888889   \n",
       "\n",
       "                                         Престижность района  \\\n",
       "https://www.cian.ru/rent/flat/257939094/                   4   \n",
       "https://www.cian.ru/rent/flat/257932614/                   9   \n",
       "https://www.cian.ru/rent/flat/257657963/                   1   \n",
       "https://www.cian.ru/rent/flat/245900199/                   2   \n",
       "https://www.cian.ru/rent/flat/254004100/                   1   \n",
       "...                                                      ...   \n",
       "https://www.cian.ru/rent/flat/238195763/                   9   \n",
       "https://www.cian.ru/rent/flat/253649639/                   9   \n",
       "https://www.cian.ru/rent/flat/257261867/                   9   \n",
       "https://www.cian.ru/rent/flat/256000982/                   4   \n",
       "https://www.cian.ru/rent/flat/251590324/                   4   \n",
       "\n",
       "                                         Цена аренды за 1 м² Качество жизни  \\\n",
       "https://www.cian.ru/rent/flat/257939094/          Нет данных       0.944444   \n",
       "https://www.cian.ru/rent/flat/257932614/             1230.77       0.944444   \n",
       "https://www.cian.ru/rent/flat/257657963/             1454.55       0.944444   \n",
       "https://www.cian.ru/rent/flat/245900199/             1066.67       0.888889   \n",
       "https://www.cian.ru/rent/flat/254004100/             1523.81       0.819444   \n",
       "...                                                      ...            ...   \n",
       "https://www.cian.ru/rent/flat/238195763/             1630.43       0.763889   \n",
       "https://www.cian.ru/rent/flat/253649639/             1063.83       0.819444   \n",
       "https://www.cian.ru/rent/flat/257261867/             8474.58       1.000000   \n",
       "https://www.cian.ru/rent/flat/256000982/              1937.5       0.222222   \n",
       "https://www.cian.ru/rent/flat/251590324/             1335.88       0.722222   \n",
       "\n",
       "                                         Лояльность собственника  \n",
       "https://www.cian.ru/rent/flat/257939094/                0.333333  \n",
       "https://www.cian.ru/rent/flat/257932614/                0.666667  \n",
       "https://www.cian.ru/rent/flat/257657963/                0.333333  \n",
       "https://www.cian.ru/rent/flat/245900199/                0.333333  \n",
       "https://www.cian.ru/rent/flat/254004100/                0.333333  \n",
       "...                                                          ...  \n",
       "https://www.cian.ru/rent/flat/238195763/                0.000000  \n",
       "https://www.cian.ru/rent/flat/253649639/                0.333333  \n",
       "https://www.cian.ru/rent/flat/257261867/                0.000000  \n",
       "https://www.cian.ru/rent/flat/256000982/                0.333333  \n",
       "https://www.cian.ru/rent/flat/251590324/                0.666667  \n",
       "\n",
       "[1496 rows x 41 columns]"
      ]
     },
     "execution_count": 184,
     "metadata": {},
     "output_type": "execute_result"
    }
   ],
   "source": [
    "df"
   ]
  },
  {
   "cell_type": "markdown",
   "metadata": {},
   "source": [
    "# Шаги 4 и 5. Визуализация и работа c pandas"
   ]
  },
  {
   "cell_type": "markdown",
   "metadata": {},
   "source": [
    "1. Анализ характеристик дома и места квартиры в нём"
   ]
  },
  {
   "cell_type": "code",
   "execution_count": 189,
   "metadata": {},
   "outputs": [],
   "source": [
    "import matplotlib\n",
    "import matplotlib.pyplot as plt\n",
    "import seaborn as sns"
   ]
  },
  {
   "cell_type": "code",
   "execution_count": 190,
   "metadata": {},
   "outputs": [],
   "source": [
    "df1 = df[df['Год постройки'] != 'Нет данных']\n",
    "df2 = df1[df1['Этаж квартиры'] != 'Нет данных']\n",
    "df3 = df2[df2['Этажей в доме'] != 'Нет данных']"
   ]
  },
  {
   "cell_type": "code",
   "execution_count": 193,
   "metadata": {},
   "outputs": [
    {
     "data": {
      "text/html": [
       "        <script type=\"text/javascript\">\n",
       "        window.PlotlyConfig = {MathJaxConfig: 'local'};\n",
       "        if (window.MathJax) {MathJax.Hub.Config({SVG: {font: \"STIX-Web\"}});}\n",
       "        if (typeof require !== 'undefined') {\n",
       "        require.undef(\"plotly\");\n",
       "        requirejs.config({\n",
       "            paths: {\n",
       "                'plotly': ['https://cdn.plot.ly/plotly-latest.min']\n",
       "            }\n",
       "        });\n",
       "        require(['plotly'], function(Plotly) {\n",
       "            window._Plotly = Plotly;\n",
       "        });\n",
       "        }\n",
       "        </script>\n",
       "        "
      ]
     },
     "metadata": {},
     "output_type": "display_data"
    },
    {
     "data": {
      "application/vnd.plotly.v1+json": {
       "config": {
        "linkText": "Export to plot.ly",
        "plotlyServerURL": "https://plot.ly",
        "showLink": true
       },
       "data": [
        {
         "histfunc": "count",
         "histnorm": "",
         "marker": {
          "color": "rgba(255, 153, 51, 1.0)",
          "line": {
           "color": "#4D5663",
           "width": 1.3
          }
         },
         "name": "Год постройки",
         "opacity": 0.8,
         "orientation": "v",
         "type": "histogram",
         "x": [
          1903,
          2008,
          1954,
          2017,
          1933,
          1950,
          2019,
          1940,
          1997,
          1998,
          1985,
          2015,
          1960,
          2007,
          2018,
          1997,
          1997,
          2006,
          2019,
          1917,
          1957,
          2006,
          1939,
          1959,
          1910,
          1957,
          2010,
          2005,
          1904,
          2019,
          2018,
          2011,
          2002,
          2008,
          2006,
          1917,
          2019,
          1903,
          2018,
          1997,
          1978,
          1956,
          2008,
          2015,
          1959,
          1996,
          1962,
          1940,
          2008,
          2016,
          1976,
          2007,
          1976,
          1976,
          1997,
          1995,
          1974,
          1999,
          1966,
          2016,
          2002,
          1951,
          2013,
          1939,
          1998,
          1969,
          2014,
          2008,
          2005,
          2003,
          2017,
          2008,
          2010,
          2004,
          2010,
          2017,
          1905,
          2009,
          2017,
          1983,
          2017,
          2002,
          1914,
          2006,
          1940,
          1950,
          2013,
          2008,
          1998,
          2005,
          1998,
          2008,
          2008,
          1999,
          1914,
          2006,
          2004,
          2001,
          2003,
          1914,
          2003,
          2001,
          2007,
          1910,
          1973,
          2013,
          2012,
          2011,
          1998,
          1954,
          2005,
          1913,
          2017,
          2009,
          2010,
          2008,
          2009,
          1953,
          1985,
          2008,
          2006,
          1954,
          2015,
          1981,
          2000,
          2008,
          2008,
          1969,
          2000,
          2008,
          1903,
          1867,
          2016,
          2010,
          1912,
          2012,
          2006,
          2015,
          2010,
          2008,
          2011,
          2009,
          2010,
          2010,
          2011,
          2017,
          2008,
          2009,
          2011,
          2010,
          2010,
          1956,
          1954,
          2019,
          2002,
          1985,
          2006,
          2018,
          1963,
          2008,
          2002,
          2018,
          1965,
          1967,
          2019,
          1953,
          2020,
          2000,
          1999,
          1994,
          2016,
          2001,
          2002,
          1986,
          2008,
          1998,
          1997,
          2002,
          1917,
          2002,
          2008,
          2010,
          1958,
          2003,
          2012,
          1978,
          2012,
          2019,
          1958,
          2016,
          1988,
          2013,
          2005,
          2018,
          2017,
          1913,
          2002,
          1899,
          1965,
          2014,
          2019,
          1960,
          1968,
          1968,
          1982,
          1968,
          1958,
          1954,
          1954,
          1969,
          1993,
          1969,
          2010,
          2008,
          2013,
          2001,
          2011,
          1928,
          1998,
          1970,
          2005,
          1914,
          2001,
          1967,
          1810,
          2001,
          2018,
          2004,
          1991,
          1980,
          2020,
          2019,
          1983,
          1933,
          2015,
          2008,
          2018,
          1903,
          2010,
          2016,
          2010,
          1970,
          2006,
          2009,
          2006,
          2006,
          2010,
          1940,
          2003,
          2008,
          1956,
          1914,
          1898,
          2010,
          2002,
          2009,
          2011,
          2006,
          1968,
          1987,
          1958,
          2017,
          2002,
          2010,
          2019,
          1956,
          1905,
          1972,
          2000,
          2017,
          2008,
          2003,
          2005,
          1929,
          1917,
          2004,
          2004,
          1905,
          2003,
          2001,
          2008,
          2004,
          1914,
          2006,
          1990,
          2010,
          2005,
          2005,
          2003,
          1998,
          1998,
          1968,
          1974,
          1963,
          1991,
          1997,
          1966,
          1967,
          2005,
          1993,
          1982,
          1992,
          1976,
          1960,
          2003,
          2002,
          1987,
          2003,
          1999,
          2005,
          1993,
          2018,
          2019,
          1988,
          2019,
          1957,
          1939,
          2007,
          1959,
          2021,
          2004,
          1955,
          2010,
          2008,
          2003,
          2007,
          1991,
          2002,
          2008,
          1935,
          1991,
          2008,
          2003,
          2015,
          1956,
          1985,
          2008,
          1980,
          1912,
          1981,
          2008,
          2008,
          1997,
          2005,
          2003,
          1955,
          1914,
          2000,
          2012,
          2003,
          2001,
          1961,
          2008,
          1917,
          2008,
          2008,
          2008,
          2007,
          2007,
          2000,
          1914,
          1940,
          2001,
          1958,
          2006,
          1990,
          2005,
          1969,
          2002,
          2011,
          2009,
          1899,
          1998,
          2001,
          1960,
          2000,
          2014,
          2008,
          1938,
          1939,
          2010,
          2012,
          2007,
          1953,
          2003,
          2010,
          1964,
          2009,
          2008,
          1914,
          2018,
          1954,
          1955,
          2004,
          2004,
          2005,
          1956,
          1998,
          2018,
          2008,
          2011,
          2011,
          2008,
          2008,
          1962,
          2001,
          1996,
          2004,
          1960,
          1961,
          2017,
          2020,
          2006,
          1997,
          1978,
          2004,
          1976,
          1917,
          2019,
          1997,
          2006,
          1981,
          2011,
          2011,
          2003,
          2009,
          2008,
          2003,
          1998,
          2018,
          2009,
          2003,
          2009,
          2006,
          2018,
          1962,
          2000,
          1994,
          2008,
          1876,
          2005,
          1975,
          1955,
          1987,
          1957,
          1964,
          1970,
          1962,
          2019,
          1975,
          1933,
          1953,
          2007,
          2016,
          2007,
          1902,
          2009,
          2001,
          1992,
          1974,
          1981,
          1980,
          1972,
          1984,
          1967,
          1994,
          1972,
          1965,
          1975,
          2001,
          1989,
          2019,
          1970,
          1998,
          2013,
          2014,
          2011,
          2019,
          2007,
          2018,
          2008,
          2016,
          2006,
          2010,
          2006,
          1958,
          2010,
          2002,
          2007,
          2011,
          2008,
          2013,
          2010,
          2006,
          1956,
          1999,
          2016,
          2008,
          2002,
          2008,
          2001,
          2003,
          2006,
          2007,
          1902,
          2015,
          1969,
          1913,
          2005,
          2005,
          2015,
          2008,
          2017,
          1938,
          2016,
          1955,
          1972,
          1996,
          2004,
          2016,
          2005,
          2016,
          2008,
          2001,
          2009,
          2004,
          2005,
          2005,
          1928,
          2011,
          2006,
          2006,
          1957,
          1999,
          2007,
          1997,
          2008,
          1898,
          1998,
          2000,
          2012,
          2020,
          1870,
          1967,
          2005,
          1909,
          2005,
          2005,
          2007,
          2003,
          2008,
          2006,
          2001,
          2017,
          1988,
          2010,
          1955,
          1958,
          2012,
          1917,
          2008,
          1956,
          1999,
          1986,
          1985,
          1965,
          1975,
          1938,
          2003,
          1953,
          2000,
          2017,
          1974,
          1962,
          2015,
          1977,
          1960,
          1910,
          1935,
          1913,
          2020,
          1908,
          2004,
          1997,
          1927,
          1970,
          2005,
          1941,
          2009,
          2010,
          2019,
          2008,
          2005,
          2006,
          2002,
          2009,
          2000,
          2001,
          2006,
          2000,
          1996,
          1987,
          2020,
          2006,
          1999,
          1958,
          2002,
          2000,
          2013,
          2010,
          2010,
          2010,
          2009,
          2010,
          2006,
          2010,
          1950,
          2006,
          2004,
          1956,
          2019,
          2011,
          1977,
          1997,
          1979,
          1988,
          2000,
          2010,
          1978,
          2009,
          1905,
          2013,
          2009,
          2008,
          1956,
          1911,
          2005,
          2010,
          1974,
          2008,
          2002,
          1998,
          2016,
          2001,
          2001,
          2017,
          1957,
          1966,
          1998,
          1997,
          2001,
          1950,
          2014,
          1930,
          2016,
          2008,
          2008,
          2019,
          1997,
          1978,
          1985,
          2006,
          1999,
          2001,
          2010,
          1992,
          1914,
          1930,
          2020,
          2016,
          2011,
          1996,
          1972,
          2017,
          2010,
          2006,
          2018,
          1996,
          2006,
          2001,
          1940,
          1927,
          2004,
          1975,
          1955,
          1972,
          1999,
          1955,
          2006,
          1976,
          1996,
          2018,
          2002,
          2006,
          2015,
          2003,
          1976,
          1938,
          2016,
          1997,
          1912,
          2013,
          2011,
          1978,
          2013,
          1974,
          2007,
          1971,
          1870,
          2003,
          1974,
          1972,
          1978,
          1971,
          1976,
          2005,
          2015,
          1984,
          2008,
          1971,
          1988,
          1928,
          1962,
          1981,
          1941,
          1969,
          2008,
          1981,
          2004,
          2002,
          1914,
          1902,
          2003,
          2004,
          1909,
          2007,
          2014,
          1890,
          1997,
          2015,
          2015,
          2010,
          2010,
          2017,
          2017,
          2010,
          2006,
          1983,
          2004,
          2008,
          2010,
          2007,
          2008,
          2003,
          1971,
          2006,
          2003,
          2006,
          2009,
          1912,
          2000,
          2016,
          2003,
          2009,
          2000,
          2008,
          2010,
          1956,
          2004,
          2004
         ]
        }
       ],
       "layout": {
        "barmode": "overlay",
        "legend": {
         "bgcolor": "#F5F6F9",
         "font": {
          "color": "#4D5663"
         }
        },
        "paper_bgcolor": "#F5F6F9",
        "plot_bgcolor": "#F5F6F9",
        "template": {
         "data": {
          "bar": [
           {
            "error_x": {
             "color": "#2a3f5f"
            },
            "error_y": {
             "color": "#2a3f5f"
            },
            "marker": {
             "line": {
              "color": "#E5ECF6",
              "width": 0.5
             }
            },
            "type": "bar"
           }
          ],
          "barpolar": [
           {
            "marker": {
             "line": {
              "color": "#E5ECF6",
              "width": 0.5
             }
            },
            "type": "barpolar"
           }
          ],
          "carpet": [
           {
            "aaxis": {
             "endlinecolor": "#2a3f5f",
             "gridcolor": "white",
             "linecolor": "white",
             "minorgridcolor": "white",
             "startlinecolor": "#2a3f5f"
            },
            "baxis": {
             "endlinecolor": "#2a3f5f",
             "gridcolor": "white",
             "linecolor": "white",
             "minorgridcolor": "white",
             "startlinecolor": "#2a3f5f"
            },
            "type": "carpet"
           }
          ],
          "choropleth": [
           {
            "colorbar": {
             "outlinewidth": 0,
             "ticks": ""
            },
            "type": "choropleth"
           }
          ],
          "contour": [
           {
            "colorbar": {
             "outlinewidth": 0,
             "ticks": ""
            },
            "colorscale": [
             [
              0,
              "#0d0887"
             ],
             [
              0.1111111111111111,
              "#46039f"
             ],
             [
              0.2222222222222222,
              "#7201a8"
             ],
             [
              0.3333333333333333,
              "#9c179e"
             ],
             [
              0.4444444444444444,
              "#bd3786"
             ],
             [
              0.5555555555555556,
              "#d8576b"
             ],
             [
              0.6666666666666666,
              "#ed7953"
             ],
             [
              0.7777777777777778,
              "#fb9f3a"
             ],
             [
              0.8888888888888888,
              "#fdca26"
             ],
             [
              1,
              "#f0f921"
             ]
            ],
            "type": "contour"
           }
          ],
          "contourcarpet": [
           {
            "colorbar": {
             "outlinewidth": 0,
             "ticks": ""
            },
            "type": "contourcarpet"
           }
          ],
          "heatmap": [
           {
            "colorbar": {
             "outlinewidth": 0,
             "ticks": ""
            },
            "colorscale": [
             [
              0,
              "#0d0887"
             ],
             [
              0.1111111111111111,
              "#46039f"
             ],
             [
              0.2222222222222222,
              "#7201a8"
             ],
             [
              0.3333333333333333,
              "#9c179e"
             ],
             [
              0.4444444444444444,
              "#bd3786"
             ],
             [
              0.5555555555555556,
              "#d8576b"
             ],
             [
              0.6666666666666666,
              "#ed7953"
             ],
             [
              0.7777777777777778,
              "#fb9f3a"
             ],
             [
              0.8888888888888888,
              "#fdca26"
             ],
             [
              1,
              "#f0f921"
             ]
            ],
            "type": "heatmap"
           }
          ],
          "heatmapgl": [
           {
            "colorbar": {
             "outlinewidth": 0,
             "ticks": ""
            },
            "colorscale": [
             [
              0,
              "#0d0887"
             ],
             [
              0.1111111111111111,
              "#46039f"
             ],
             [
              0.2222222222222222,
              "#7201a8"
             ],
             [
              0.3333333333333333,
              "#9c179e"
             ],
             [
              0.4444444444444444,
              "#bd3786"
             ],
             [
              0.5555555555555556,
              "#d8576b"
             ],
             [
              0.6666666666666666,
              "#ed7953"
             ],
             [
              0.7777777777777778,
              "#fb9f3a"
             ],
             [
              0.8888888888888888,
              "#fdca26"
             ],
             [
              1,
              "#f0f921"
             ]
            ],
            "type": "heatmapgl"
           }
          ],
          "histogram": [
           {
            "marker": {
             "colorbar": {
              "outlinewidth": 0,
              "ticks": ""
             }
            },
            "type": "histogram"
           }
          ],
          "histogram2d": [
           {
            "colorbar": {
             "outlinewidth": 0,
             "ticks": ""
            },
            "colorscale": [
             [
              0,
              "#0d0887"
             ],
             [
              0.1111111111111111,
              "#46039f"
             ],
             [
              0.2222222222222222,
              "#7201a8"
             ],
             [
              0.3333333333333333,
              "#9c179e"
             ],
             [
              0.4444444444444444,
              "#bd3786"
             ],
             [
              0.5555555555555556,
              "#d8576b"
             ],
             [
              0.6666666666666666,
              "#ed7953"
             ],
             [
              0.7777777777777778,
              "#fb9f3a"
             ],
             [
              0.8888888888888888,
              "#fdca26"
             ],
             [
              1,
              "#f0f921"
             ]
            ],
            "type": "histogram2d"
           }
          ],
          "histogram2dcontour": [
           {
            "colorbar": {
             "outlinewidth": 0,
             "ticks": ""
            },
            "colorscale": [
             [
              0,
              "#0d0887"
             ],
             [
              0.1111111111111111,
              "#46039f"
             ],
             [
              0.2222222222222222,
              "#7201a8"
             ],
             [
              0.3333333333333333,
              "#9c179e"
             ],
             [
              0.4444444444444444,
              "#bd3786"
             ],
             [
              0.5555555555555556,
              "#d8576b"
             ],
             [
              0.6666666666666666,
              "#ed7953"
             ],
             [
              0.7777777777777778,
              "#fb9f3a"
             ],
             [
              0.8888888888888888,
              "#fdca26"
             ],
             [
              1,
              "#f0f921"
             ]
            ],
            "type": "histogram2dcontour"
           }
          ],
          "mesh3d": [
           {
            "colorbar": {
             "outlinewidth": 0,
             "ticks": ""
            },
            "type": "mesh3d"
           }
          ],
          "parcoords": [
           {
            "line": {
             "colorbar": {
              "outlinewidth": 0,
              "ticks": ""
             }
            },
            "type": "parcoords"
           }
          ],
          "pie": [
           {
            "automargin": true,
            "type": "pie"
           }
          ],
          "scatter": [
           {
            "marker": {
             "colorbar": {
              "outlinewidth": 0,
              "ticks": ""
             }
            },
            "type": "scatter"
           }
          ],
          "scatter3d": [
           {
            "line": {
             "colorbar": {
              "outlinewidth": 0,
              "ticks": ""
             }
            },
            "marker": {
             "colorbar": {
              "outlinewidth": 0,
              "ticks": ""
             }
            },
            "type": "scatter3d"
           }
          ],
          "scattercarpet": [
           {
            "marker": {
             "colorbar": {
              "outlinewidth": 0,
              "ticks": ""
             }
            },
            "type": "scattercarpet"
           }
          ],
          "scattergeo": [
           {
            "marker": {
             "colorbar": {
              "outlinewidth": 0,
              "ticks": ""
             }
            },
            "type": "scattergeo"
           }
          ],
          "scattergl": [
           {
            "marker": {
             "colorbar": {
              "outlinewidth": 0,
              "ticks": ""
             }
            },
            "type": "scattergl"
           }
          ],
          "scattermapbox": [
           {
            "marker": {
             "colorbar": {
              "outlinewidth": 0,
              "ticks": ""
             }
            },
            "type": "scattermapbox"
           }
          ],
          "scatterpolar": [
           {
            "marker": {
             "colorbar": {
              "outlinewidth": 0,
              "ticks": ""
             }
            },
            "type": "scatterpolar"
           }
          ],
          "scatterpolargl": [
           {
            "marker": {
             "colorbar": {
              "outlinewidth": 0,
              "ticks": ""
             }
            },
            "type": "scatterpolargl"
           }
          ],
          "scatterternary": [
           {
            "marker": {
             "colorbar": {
              "outlinewidth": 0,
              "ticks": ""
             }
            },
            "type": "scatterternary"
           }
          ],
          "surface": [
           {
            "colorbar": {
             "outlinewidth": 0,
             "ticks": ""
            },
            "colorscale": [
             [
              0,
              "#0d0887"
             ],
             [
              0.1111111111111111,
              "#46039f"
             ],
             [
              0.2222222222222222,
              "#7201a8"
             ],
             [
              0.3333333333333333,
              "#9c179e"
             ],
             [
              0.4444444444444444,
              "#bd3786"
             ],
             [
              0.5555555555555556,
              "#d8576b"
             ],
             [
              0.6666666666666666,
              "#ed7953"
             ],
             [
              0.7777777777777778,
              "#fb9f3a"
             ],
             [
              0.8888888888888888,
              "#fdca26"
             ],
             [
              1,
              "#f0f921"
             ]
            ],
            "type": "surface"
           }
          ],
          "table": [
           {
            "cells": {
             "fill": {
              "color": "#EBF0F8"
             },
             "line": {
              "color": "white"
             }
            },
            "header": {
             "fill": {
              "color": "#C8D4E3"
             },
             "line": {
              "color": "white"
             }
            },
            "type": "table"
           }
          ]
         },
         "layout": {
          "annotationdefaults": {
           "arrowcolor": "#2a3f5f",
           "arrowhead": 0,
           "arrowwidth": 1
          },
          "autotypenumbers": "strict",
          "coloraxis": {
           "colorbar": {
            "outlinewidth": 0,
            "ticks": ""
           }
          },
          "colorscale": {
           "diverging": [
            [
             0,
             "#8e0152"
            ],
            [
             0.1,
             "#c51b7d"
            ],
            [
             0.2,
             "#de77ae"
            ],
            [
             0.3,
             "#f1b6da"
            ],
            [
             0.4,
             "#fde0ef"
            ],
            [
             0.5,
             "#f7f7f7"
            ],
            [
             0.6,
             "#e6f5d0"
            ],
            [
             0.7,
             "#b8e186"
            ],
            [
             0.8,
             "#7fbc41"
            ],
            [
             0.9,
             "#4d9221"
            ],
            [
             1,
             "#276419"
            ]
           ],
           "sequential": [
            [
             0,
             "#0d0887"
            ],
            [
             0.1111111111111111,
             "#46039f"
            ],
            [
             0.2222222222222222,
             "#7201a8"
            ],
            [
             0.3333333333333333,
             "#9c179e"
            ],
            [
             0.4444444444444444,
             "#bd3786"
            ],
            [
             0.5555555555555556,
             "#d8576b"
            ],
            [
             0.6666666666666666,
             "#ed7953"
            ],
            [
             0.7777777777777778,
             "#fb9f3a"
            ],
            [
             0.8888888888888888,
             "#fdca26"
            ],
            [
             1,
             "#f0f921"
            ]
           ],
           "sequentialminus": [
            [
             0,
             "#0d0887"
            ],
            [
             0.1111111111111111,
             "#46039f"
            ],
            [
             0.2222222222222222,
             "#7201a8"
            ],
            [
             0.3333333333333333,
             "#9c179e"
            ],
            [
             0.4444444444444444,
             "#bd3786"
            ],
            [
             0.5555555555555556,
             "#d8576b"
            ],
            [
             0.6666666666666666,
             "#ed7953"
            ],
            [
             0.7777777777777778,
             "#fb9f3a"
            ],
            [
             0.8888888888888888,
             "#fdca26"
            ],
            [
             1,
             "#f0f921"
            ]
           ]
          },
          "colorway": [
           "#636efa",
           "#EF553B",
           "#00cc96",
           "#ab63fa",
           "#FFA15A",
           "#19d3f3",
           "#FF6692",
           "#B6E880",
           "#FF97FF",
           "#FECB52"
          ],
          "font": {
           "color": "#2a3f5f"
          },
          "geo": {
           "bgcolor": "white",
           "lakecolor": "white",
           "landcolor": "#E5ECF6",
           "showlakes": true,
           "showland": true,
           "subunitcolor": "white"
          },
          "hoverlabel": {
           "align": "left"
          },
          "hovermode": "closest",
          "mapbox": {
           "style": "light"
          },
          "paper_bgcolor": "white",
          "plot_bgcolor": "#E5ECF6",
          "polar": {
           "angularaxis": {
            "gridcolor": "white",
            "linecolor": "white",
            "ticks": ""
           },
           "bgcolor": "#E5ECF6",
           "radialaxis": {
            "gridcolor": "white",
            "linecolor": "white",
            "ticks": ""
           }
          },
          "scene": {
           "xaxis": {
            "backgroundcolor": "#E5ECF6",
            "gridcolor": "white",
            "gridwidth": 2,
            "linecolor": "white",
            "showbackground": true,
            "ticks": "",
            "zerolinecolor": "white"
           },
           "yaxis": {
            "backgroundcolor": "#E5ECF6",
            "gridcolor": "white",
            "gridwidth": 2,
            "linecolor": "white",
            "showbackground": true,
            "ticks": "",
            "zerolinecolor": "white"
           },
           "zaxis": {
            "backgroundcolor": "#E5ECF6",
            "gridcolor": "white",
            "gridwidth": 2,
            "linecolor": "white",
            "showbackground": true,
            "ticks": "",
            "zerolinecolor": "white"
           }
          },
          "shapedefaults": {
           "line": {
            "color": "#2a3f5f"
           }
          },
          "ternary": {
           "aaxis": {
            "gridcolor": "white",
            "linecolor": "white",
            "ticks": ""
           },
           "baxis": {
            "gridcolor": "white",
            "linecolor": "white",
            "ticks": ""
           },
           "bgcolor": "#E5ECF6",
           "caxis": {
            "gridcolor": "white",
            "linecolor": "white",
            "ticks": ""
           }
          },
          "title": {
           "x": 0.05
          },
          "xaxis": {
           "automargin": true,
           "gridcolor": "white",
           "linecolor": "white",
           "ticks": "",
           "title": {
            "standoff": 15
           },
           "zerolinecolor": "white",
           "zerolinewidth": 2
          },
          "yaxis": {
           "automargin": true,
           "gridcolor": "white",
           "linecolor": "white",
           "ticks": "",
           "title": {
            "standoff": 15
           },
           "zerolinecolor": "white",
           "zerolinewidth": 2
          }
         }
        },
        "title": {
         "font": {
          "color": "#4D5663"
         },
         "text": "Распределение квартир по году постройки дома"
        },
        "xaxis": {
         "gridcolor": "#E1E5ED",
         "showgrid": true,
         "tickfont": {
          "color": "#4D5663"
         },
         "title": {
          "font": {
           "color": "#4D5663"
          },
          "text": "Год постройки"
         },
         "zerolinecolor": "#E1E5ED"
        },
        "yaxis": {
         "gridcolor": "#E1E5ED",
         "showgrid": true,
         "tickfont": {
          "color": "#4D5663"
         },
         "title": {
          "font": {
           "color": "#4D5663"
          },
          "text": "Количество квартир"
         },
         "zerolinecolor": "#E1E5ED"
        }
       }
      },
      "text/html": [
       "<div>                            <div id=\"cf39663b-59c2-4f4d-bd9a-bde293b96ccd\" class=\"plotly-graph-div\" style=\"height:525px; width:100%;\"></div>            <script type=\"text/javascript\">                require([\"plotly\"], function(Plotly) {                    window.PLOTLYENV=window.PLOTLYENV || {};\n",
       "                    window.PLOTLYENV.BASE_URL='https://plot.ly';                                    if (document.getElementById(\"cf39663b-59c2-4f4d-bd9a-bde293b96ccd\")) {                    Plotly.newPlot(                        \"cf39663b-59c2-4f4d-bd9a-bde293b96ccd\",                        [{\"histfunc\": \"count\", \"histnorm\": \"\", \"marker\": {\"color\": \"rgba(255, 153, 51, 1.0)\", \"line\": {\"color\": \"#4D5663\", \"width\": 1.3}}, \"name\": \"\\u0413\\u043e\\u0434 \\u043f\\u043e\\u0441\\u0442\\u0440\\u043e\\u0439\\u043a\\u0438\", \"opacity\": 0.8, \"orientation\": \"v\", \"type\": \"histogram\", \"x\": [1903, 2008, 1954, 2017, 1933, 1950, 2019, 1940, 1997, 1998, 1985, 2015, 1960, 2007, 2018, 1997, 1997, 2006, 2019, 1917, 1957, 2006, 1939, 1959, 1910, 1957, 2010, 2005, 1904, 2019, 2018, 2011, 2002, 2008, 2006, 1917, 2019, 1903, 2018, 1997, 1978, 1956, 2008, 2015, 1959, 1996, 1962, 1940, 2008, 2016, 1976, 2007, 1976, 1976, 1997, 1995, 1974, 1999, 1966, 2016, 2002, 1951, 2013, 1939, 1998, 1969, 2014, 2008, 2005, 2003, 2017, 2008, 2010, 2004, 2010, 2017, 1905, 2009, 2017, 1983, 2017, 2002, 1914, 2006, 1940, 1950, 2013, 2008, 1998, 2005, 1998, 2008, 2008, 1999, 1914, 2006, 2004, 2001, 2003, 1914, 2003, 2001, 2007, 1910, 1973, 2013, 2012, 2011, 1998, 1954, 2005, 1913, 2017, 2009, 2010, 2008, 2009, 1953, 1985, 2008, 2006, 1954, 2015, 1981, 2000, 2008, 2008, 1969, 2000, 2008, 1903, 1867, 2016, 2010, 1912, 2012, 2006, 2015, 2010, 2008, 2011, 2009, 2010, 2010, 2011, 2017, 2008, 2009, 2011, 2010, 2010, 1956, 1954, 2019, 2002, 1985, 2006, 2018, 1963, 2008, 2002, 2018, 1965, 1967, 2019, 1953, 2020, 2000, 1999, 1994, 2016, 2001, 2002, 1986, 2008, 1998, 1997, 2002, 1917, 2002, 2008, 2010, 1958, 2003, 2012, 1978, 2012, 2019, 1958, 2016, 1988, 2013, 2005, 2018, 2017, 1913, 2002, 1899, 1965, 2014, 2019, 1960, 1968, 1968, 1982, 1968, 1958, 1954, 1954, 1969, 1993, 1969, 2010, 2008, 2013, 2001, 2011, 1928, 1998, 1970, 2005, 1914, 2001, 1967, 1810, 2001, 2018, 2004, 1991, 1980, 2020, 2019, 1983, 1933, 2015, 2008, 2018, 1903, 2010, 2016, 2010, 1970, 2006, 2009, 2006, 2006, 2010, 1940, 2003, 2008, 1956, 1914, 1898, 2010, 2002, 2009, 2011, 2006, 1968, 1987, 1958, 2017, 2002, 2010, 2019, 1956, 1905, 1972, 2000, 2017, 2008, 2003, 2005, 1929, 1917, 2004, 2004, 1905, 2003, 2001, 2008, 2004, 1914, 2006, 1990, 2010, 2005, 2005, 2003, 1998, 1998, 1968, 1974, 1963, 1991, 1997, 1966, 1967, 2005, 1993, 1982, 1992, 1976, 1960, 2003, 2002, 1987, 2003, 1999, 2005, 1993, 2018, 2019, 1988, 2019, 1957, 1939, 2007, 1959, 2021, 2004, 1955, 2010, 2008, 2003, 2007, 1991, 2002, 2008, 1935, 1991, 2008, 2003, 2015, 1956, 1985, 2008, 1980, 1912, 1981, 2008, 2008, 1997, 2005, 2003, 1955, 1914, 2000, 2012, 2003, 2001, 1961, 2008, 1917, 2008, 2008, 2008, 2007, 2007, 2000, 1914, 1940, 2001, 1958, 2006, 1990, 2005, 1969, 2002, 2011, 2009, 1899, 1998, 2001, 1960, 2000, 2014, 2008, 1938, 1939, 2010, 2012, 2007, 1953, 2003, 2010, 1964, 2009, 2008, 1914, 2018, 1954, 1955, 2004, 2004, 2005, 1956, 1998, 2018, 2008, 2011, 2011, 2008, 2008, 1962, 2001, 1996, 2004, 1960, 1961, 2017, 2020, 2006, 1997, 1978, 2004, 1976, 1917, 2019, 1997, 2006, 1981, 2011, 2011, 2003, 2009, 2008, 2003, 1998, 2018, 2009, 2003, 2009, 2006, 2018, 1962, 2000, 1994, 2008, 1876, 2005, 1975, 1955, 1987, 1957, 1964, 1970, 1962, 2019, 1975, 1933, 1953, 2007, 2016, 2007, 1902, 2009, 2001, 1992, 1974, 1981, 1980, 1972, 1984, 1967, 1994, 1972, 1965, 1975, 2001, 1989, 2019, 1970, 1998, 2013, 2014, 2011, 2019, 2007, 2018, 2008, 2016, 2006, 2010, 2006, 1958, 2010, 2002, 2007, 2011, 2008, 2013, 2010, 2006, 1956, 1999, 2016, 2008, 2002, 2008, 2001, 2003, 2006, 2007, 1902, 2015, 1969, 1913, 2005, 2005, 2015, 2008, 2017, 1938, 2016, 1955, 1972, 1996, 2004, 2016, 2005, 2016, 2008, 2001, 2009, 2004, 2005, 2005, 1928, 2011, 2006, 2006, 1957, 1999, 2007, 1997, 2008, 1898, 1998, 2000, 2012, 2020, 1870, 1967, 2005, 1909, 2005, 2005, 2007, 2003, 2008, 2006, 2001, 2017, 1988, 2010, 1955, 1958, 2012, 1917, 2008, 1956, 1999, 1986, 1985, 1965, 1975, 1938, 2003, 1953, 2000, 2017, 1974, 1962, 2015, 1977, 1960, 1910, 1935, 1913, 2020, 1908, 2004, 1997, 1927, 1970, 2005, 1941, 2009, 2010, 2019, 2008, 2005, 2006, 2002, 2009, 2000, 2001, 2006, 2000, 1996, 1987, 2020, 2006, 1999, 1958, 2002, 2000, 2013, 2010, 2010, 2010, 2009, 2010, 2006, 2010, 1950, 2006, 2004, 1956, 2019, 2011, 1977, 1997, 1979, 1988, 2000, 2010, 1978, 2009, 1905, 2013, 2009, 2008, 1956, 1911, 2005, 2010, 1974, 2008, 2002, 1998, 2016, 2001, 2001, 2017, 1957, 1966, 1998, 1997, 2001, 1950, 2014, 1930, 2016, 2008, 2008, 2019, 1997, 1978, 1985, 2006, 1999, 2001, 2010, 1992, 1914, 1930, 2020, 2016, 2011, 1996, 1972, 2017, 2010, 2006, 2018, 1996, 2006, 2001, 1940, 1927, 2004, 1975, 1955, 1972, 1999, 1955, 2006, 1976, 1996, 2018, 2002, 2006, 2015, 2003, 1976, 1938, 2016, 1997, 1912, 2013, 2011, 1978, 2013, 1974, 2007, 1971, 1870, 2003, 1974, 1972, 1978, 1971, 1976, 2005, 2015, 1984, 2008, 1971, 1988, 1928, 1962, 1981, 1941, 1969, 2008, 1981, 2004, 2002, 1914, 1902, 2003, 2004, 1909, 2007, 2014, 1890, 1997, 2015, 2015, 2010, 2010, 2017, 2017, 2010, 2006, 1983, 2004, 2008, 2010, 2007, 2008, 2003, 1971, 2006, 2003, 2006, 2009, 1912, 2000, 2016, 2003, 2009, 2000, 2008, 2010, 1956, 2004, 2004]}],                        {\"barmode\": \"overlay\", \"legend\": {\"bgcolor\": \"#F5F6F9\", \"font\": {\"color\": \"#4D5663\"}}, \"paper_bgcolor\": \"#F5F6F9\", \"plot_bgcolor\": \"#F5F6F9\", \"template\": {\"data\": {\"bar\": [{\"error_x\": {\"color\": \"#2a3f5f\"}, \"error_y\": {\"color\": \"#2a3f5f\"}, \"marker\": {\"line\": {\"color\": \"#E5ECF6\", \"width\": 0.5}}, \"type\": \"bar\"}], \"barpolar\": [{\"marker\": {\"line\": {\"color\": \"#E5ECF6\", \"width\": 0.5}}, \"type\": \"barpolar\"}], \"carpet\": [{\"aaxis\": {\"endlinecolor\": \"#2a3f5f\", \"gridcolor\": \"white\", \"linecolor\": \"white\", \"minorgridcolor\": \"white\", \"startlinecolor\": \"#2a3f5f\"}, \"baxis\": {\"endlinecolor\": \"#2a3f5f\", \"gridcolor\": \"white\", \"linecolor\": \"white\", \"minorgridcolor\": \"white\", \"startlinecolor\": \"#2a3f5f\"}, \"type\": \"carpet\"}], \"choropleth\": [{\"colorbar\": {\"outlinewidth\": 0, \"ticks\": \"\"}, \"type\": \"choropleth\"}], \"contour\": [{\"colorbar\": {\"outlinewidth\": 0, \"ticks\": \"\"}, \"colorscale\": [[0.0, \"#0d0887\"], [0.1111111111111111, \"#46039f\"], [0.2222222222222222, \"#7201a8\"], [0.3333333333333333, \"#9c179e\"], [0.4444444444444444, \"#bd3786\"], [0.5555555555555556, \"#d8576b\"], [0.6666666666666666, \"#ed7953\"], [0.7777777777777778, \"#fb9f3a\"], [0.8888888888888888, \"#fdca26\"], [1.0, \"#f0f921\"]], \"type\": \"contour\"}], \"contourcarpet\": [{\"colorbar\": {\"outlinewidth\": 0, \"ticks\": \"\"}, \"type\": \"contourcarpet\"}], \"heatmap\": [{\"colorbar\": {\"outlinewidth\": 0, \"ticks\": \"\"}, \"colorscale\": [[0.0, \"#0d0887\"], [0.1111111111111111, \"#46039f\"], [0.2222222222222222, \"#7201a8\"], [0.3333333333333333, \"#9c179e\"], [0.4444444444444444, \"#bd3786\"], [0.5555555555555556, \"#d8576b\"], [0.6666666666666666, \"#ed7953\"], [0.7777777777777778, \"#fb9f3a\"], [0.8888888888888888, \"#fdca26\"], [1.0, \"#f0f921\"]], \"type\": \"heatmap\"}], \"heatmapgl\": [{\"colorbar\": {\"outlinewidth\": 0, \"ticks\": \"\"}, \"colorscale\": [[0.0, \"#0d0887\"], [0.1111111111111111, \"#46039f\"], [0.2222222222222222, \"#7201a8\"], [0.3333333333333333, \"#9c179e\"], [0.4444444444444444, \"#bd3786\"], [0.5555555555555556, \"#d8576b\"], [0.6666666666666666, \"#ed7953\"], [0.7777777777777778, \"#fb9f3a\"], [0.8888888888888888, \"#fdca26\"], [1.0, \"#f0f921\"]], \"type\": \"heatmapgl\"}], \"histogram\": [{\"marker\": {\"colorbar\": {\"outlinewidth\": 0, \"ticks\": \"\"}}, \"type\": \"histogram\"}], \"histogram2d\": [{\"colorbar\": {\"outlinewidth\": 0, \"ticks\": \"\"}, \"colorscale\": [[0.0, \"#0d0887\"], [0.1111111111111111, \"#46039f\"], [0.2222222222222222, \"#7201a8\"], [0.3333333333333333, \"#9c179e\"], [0.4444444444444444, \"#bd3786\"], [0.5555555555555556, \"#d8576b\"], [0.6666666666666666, \"#ed7953\"], [0.7777777777777778, \"#fb9f3a\"], [0.8888888888888888, \"#fdca26\"], [1.0, \"#f0f921\"]], \"type\": \"histogram2d\"}], \"histogram2dcontour\": [{\"colorbar\": {\"outlinewidth\": 0, \"ticks\": \"\"}, \"colorscale\": [[0.0, \"#0d0887\"], [0.1111111111111111, \"#46039f\"], [0.2222222222222222, \"#7201a8\"], [0.3333333333333333, \"#9c179e\"], [0.4444444444444444, \"#bd3786\"], [0.5555555555555556, \"#d8576b\"], [0.6666666666666666, \"#ed7953\"], [0.7777777777777778, \"#fb9f3a\"], [0.8888888888888888, \"#fdca26\"], [1.0, \"#f0f921\"]], \"type\": \"histogram2dcontour\"}], \"mesh3d\": [{\"colorbar\": {\"outlinewidth\": 0, \"ticks\": \"\"}, \"type\": \"mesh3d\"}], \"parcoords\": [{\"line\": {\"colorbar\": {\"outlinewidth\": 0, \"ticks\": \"\"}}, \"type\": \"parcoords\"}], \"pie\": [{\"automargin\": true, \"type\": \"pie\"}], \"scatter\": [{\"marker\": {\"colorbar\": {\"outlinewidth\": 0, \"ticks\": \"\"}}, \"type\": \"scatter\"}], \"scatter3d\": [{\"line\": {\"colorbar\": {\"outlinewidth\": 0, \"ticks\": \"\"}}, \"marker\": {\"colorbar\": {\"outlinewidth\": 0, \"ticks\": \"\"}}, \"type\": \"scatter3d\"}], \"scattercarpet\": [{\"marker\": {\"colorbar\": {\"outlinewidth\": 0, \"ticks\": \"\"}}, \"type\": \"scattercarpet\"}], \"scattergeo\": [{\"marker\": {\"colorbar\": {\"outlinewidth\": 0, \"ticks\": \"\"}}, \"type\": \"scattergeo\"}], \"scattergl\": [{\"marker\": {\"colorbar\": {\"outlinewidth\": 0, \"ticks\": \"\"}}, \"type\": \"scattergl\"}], \"scattermapbox\": [{\"marker\": {\"colorbar\": {\"outlinewidth\": 0, \"ticks\": \"\"}}, \"type\": \"scattermapbox\"}], \"scatterpolar\": [{\"marker\": {\"colorbar\": {\"outlinewidth\": 0, \"ticks\": \"\"}}, \"type\": \"scatterpolar\"}], \"scatterpolargl\": [{\"marker\": {\"colorbar\": {\"outlinewidth\": 0, \"ticks\": \"\"}}, \"type\": \"scatterpolargl\"}], \"scatterternary\": [{\"marker\": {\"colorbar\": {\"outlinewidth\": 0, \"ticks\": \"\"}}, \"type\": \"scatterternary\"}], \"surface\": [{\"colorbar\": {\"outlinewidth\": 0, \"ticks\": \"\"}, \"colorscale\": [[0.0, \"#0d0887\"], [0.1111111111111111, \"#46039f\"], [0.2222222222222222, \"#7201a8\"], [0.3333333333333333, \"#9c179e\"], [0.4444444444444444, \"#bd3786\"], [0.5555555555555556, \"#d8576b\"], [0.6666666666666666, \"#ed7953\"], [0.7777777777777778, \"#fb9f3a\"], [0.8888888888888888, \"#fdca26\"], [1.0, \"#f0f921\"]], \"type\": \"surface\"}], \"table\": [{\"cells\": {\"fill\": {\"color\": \"#EBF0F8\"}, \"line\": {\"color\": \"white\"}}, \"header\": {\"fill\": {\"color\": \"#C8D4E3\"}, \"line\": {\"color\": \"white\"}}, \"type\": \"table\"}]}, \"layout\": {\"annotationdefaults\": {\"arrowcolor\": \"#2a3f5f\", \"arrowhead\": 0, \"arrowwidth\": 1}, \"autotypenumbers\": \"strict\", \"coloraxis\": {\"colorbar\": {\"outlinewidth\": 0, \"ticks\": \"\"}}, \"colorscale\": {\"diverging\": [[0, \"#8e0152\"], [0.1, \"#c51b7d\"], [0.2, \"#de77ae\"], [0.3, \"#f1b6da\"], [0.4, \"#fde0ef\"], [0.5, \"#f7f7f7\"], [0.6, \"#e6f5d0\"], [0.7, \"#b8e186\"], [0.8, \"#7fbc41\"], [0.9, \"#4d9221\"], [1, \"#276419\"]], \"sequential\": [[0.0, \"#0d0887\"], [0.1111111111111111, \"#46039f\"], [0.2222222222222222, \"#7201a8\"], [0.3333333333333333, \"#9c179e\"], [0.4444444444444444, \"#bd3786\"], [0.5555555555555556, \"#d8576b\"], [0.6666666666666666, \"#ed7953\"], [0.7777777777777778, \"#fb9f3a\"], [0.8888888888888888, \"#fdca26\"], [1.0, \"#f0f921\"]], \"sequentialminus\": [[0.0, \"#0d0887\"], [0.1111111111111111, \"#46039f\"], [0.2222222222222222, \"#7201a8\"], [0.3333333333333333, \"#9c179e\"], [0.4444444444444444, \"#bd3786\"], [0.5555555555555556, \"#d8576b\"], [0.6666666666666666, \"#ed7953\"], [0.7777777777777778, \"#fb9f3a\"], [0.8888888888888888, \"#fdca26\"], [1.0, \"#f0f921\"]]}, \"colorway\": [\"#636efa\", \"#EF553B\", \"#00cc96\", \"#ab63fa\", \"#FFA15A\", \"#19d3f3\", \"#FF6692\", \"#B6E880\", \"#FF97FF\", \"#FECB52\"], \"font\": {\"color\": \"#2a3f5f\"}, \"geo\": {\"bgcolor\": \"white\", \"lakecolor\": \"white\", \"landcolor\": \"#E5ECF6\", \"showlakes\": true, \"showland\": true, \"subunitcolor\": \"white\"}, \"hoverlabel\": {\"align\": \"left\"}, \"hovermode\": \"closest\", \"mapbox\": {\"style\": \"light\"}, \"paper_bgcolor\": \"white\", \"plot_bgcolor\": \"#E5ECF6\", \"polar\": {\"angularaxis\": {\"gridcolor\": \"white\", \"linecolor\": \"white\", \"ticks\": \"\"}, \"bgcolor\": \"#E5ECF6\", \"radialaxis\": {\"gridcolor\": \"white\", \"linecolor\": \"white\", \"ticks\": \"\"}}, \"scene\": {\"xaxis\": {\"backgroundcolor\": \"#E5ECF6\", \"gridcolor\": \"white\", \"gridwidth\": 2, \"linecolor\": \"white\", \"showbackground\": true, \"ticks\": \"\", \"zerolinecolor\": \"white\"}, \"yaxis\": {\"backgroundcolor\": \"#E5ECF6\", \"gridcolor\": \"white\", \"gridwidth\": 2, \"linecolor\": \"white\", \"showbackground\": true, \"ticks\": \"\", \"zerolinecolor\": \"white\"}, \"zaxis\": {\"backgroundcolor\": \"#E5ECF6\", \"gridcolor\": \"white\", \"gridwidth\": 2, \"linecolor\": \"white\", \"showbackground\": true, \"ticks\": \"\", \"zerolinecolor\": \"white\"}}, \"shapedefaults\": {\"line\": {\"color\": \"#2a3f5f\"}}, \"ternary\": {\"aaxis\": {\"gridcolor\": \"white\", \"linecolor\": \"white\", \"ticks\": \"\"}, \"baxis\": {\"gridcolor\": \"white\", \"linecolor\": \"white\", \"ticks\": \"\"}, \"bgcolor\": \"#E5ECF6\", \"caxis\": {\"gridcolor\": \"white\", \"linecolor\": \"white\", \"ticks\": \"\"}}, \"title\": {\"x\": 0.05}, \"xaxis\": {\"automargin\": true, \"gridcolor\": \"white\", \"linecolor\": \"white\", \"ticks\": \"\", \"title\": {\"standoff\": 15}, \"zerolinecolor\": \"white\", \"zerolinewidth\": 2}, \"yaxis\": {\"automargin\": true, \"gridcolor\": \"white\", \"linecolor\": \"white\", \"ticks\": \"\", \"title\": {\"standoff\": 15}, \"zerolinecolor\": \"white\", \"zerolinewidth\": 2}}}, \"title\": {\"font\": {\"color\": \"#4D5663\"}, \"text\": \"\\u0420\\u0430\\u0441\\u043f\\u0440\\u0435\\u0434\\u0435\\u043b\\u0435\\u043d\\u0438\\u0435 \\u043a\\u0432\\u0430\\u0440\\u0442\\u0438\\u0440 \\u043f\\u043e \\u0433\\u043e\\u0434\\u0443 \\u043f\\u043e\\u0441\\u0442\\u0440\\u043e\\u0439\\u043a\\u0438 \\u0434\\u043e\\u043c\\u0430\"}, \"xaxis\": {\"gridcolor\": \"#E1E5ED\", \"showgrid\": true, \"tickfont\": {\"color\": \"#4D5663\"}, \"title\": {\"font\": {\"color\": \"#4D5663\"}, \"text\": \"\\u0413\\u043e\\u0434 \\u043f\\u043e\\u0441\\u0442\\u0440\\u043e\\u0439\\u043a\\u0438\"}, \"zerolinecolor\": \"#E1E5ED\"}, \"yaxis\": {\"gridcolor\": \"#E1E5ED\", \"showgrid\": true, \"tickfont\": {\"color\": \"#4D5663\"}, \"title\": {\"font\": {\"color\": \"#4D5663\"}, \"text\": \"\\u041a\\u043e\\u043b\\u0438\\u0447\\u0435\\u0441\\u0442\\u0432\\u043e \\u043a\\u0432\\u0430\\u0440\\u0442\\u0438\\u0440\"}, \"zerolinecolor\": \"#E1E5ED\"}},                        {\"showLink\": true, \"linkText\": \"Export to plot.ly\", \"plotlyServerURL\": \"https://plot.ly\", \"responsive\": true}                    ).then(function(){\n",
       "                            \n",
       "var gd = document.getElementById('cf39663b-59c2-4f4d-bd9a-bde293b96ccd');\n",
       "var x = new MutationObserver(function (mutations, observer) {{\n",
       "        var display = window.getComputedStyle(gd).display;\n",
       "        if (!display || display === 'none') {{\n",
       "            console.log([gd, 'removed!']);\n",
       "            Plotly.purge(gd);\n",
       "            observer.disconnect();\n",
       "        }}\n",
       "}});\n",
       "\n",
       "// Listen for the removal of the full notebook cells\n",
       "var notebookContainer = gd.closest('#notebook-container');\n",
       "if (notebookContainer) {{\n",
       "    x.observe(notebookContainer, {childList: true});\n",
       "}}\n",
       "\n",
       "// Listen for the clearing of the current output cell\n",
       "var outputEl = gd.closest('.output');\n",
       "if (outputEl) {{\n",
       "    x.observe(outputEl, {childList: true});\n",
       "}}\n",
       "\n",
       "                        })                };                });            </script>        </div>"
      ]
     },
     "metadata": {},
     "output_type": "display_data"
    },
    {
     "data": {
      "application/vnd.plotly.v1+json": {
       "config": {
        "linkText": "Export to plot.ly",
        "plotlyServerURL": "https://plot.ly",
        "showLink": true
       },
       "data": [
        {
         "histfunc": "count",
         "histnorm": "",
         "marker": {
          "color": "rgba(255, 153, 51, 1.0)",
          "line": {
           "color": "#4D5663",
           "width": 1.3
          }
         },
         "name": "Этаж квартиры",
         "opacity": 0.8,
         "orientation": "v",
         "type": "histogram",
         "x": [
          4,
          6,
          3,
          15,
          8,
          5,
          6,
          2,
          5,
          5,
          4,
          9,
          1,
          24,
          2,
          5,
          7,
          4,
          5,
          3,
          8,
          12,
          2,
          5,
          5,
          2,
          4,
          8,
          3,
          6,
          12,
          10,
          2,
          16,
          3,
          3,
          18,
          3,
          5,
          4,
          9,
          9,
          17,
          2,
          8,
          5,
          7,
          3,
          7,
          2,
          7,
          7,
          8,
          7,
          8,
          17,
          8,
          6,
          2,
          3,
          10,
          7,
          4,
          3,
          5,
          3,
          5,
          2,
          18,
          3,
          53,
          25,
          24,
          3,
          23,
          10,
          4,
          23,
          6,
          7,
          14,
          10,
          3,
          8,
          2,
          8,
          10,
          6,
          14,
          11,
          8,
          13,
          3,
          4,
          3,
          6,
          13,
          6,
          7,
          3,
          10,
          14,
          20,
          5,
          8,
          45,
          13,
          11,
          14,
          3,
          3,
          3,
          35,
          2,
          8,
          3,
          3,
          7,
          9,
          37,
          6,
          5,
          7,
          8,
          2,
          25,
          3,
          14,
          2,
          11,
          4,
          4,
          10,
          6,
          7,
          29,
          4,
          4,
          25,
          6,
          3,
          3,
          19,
          19,
          48,
          52,
          2,
          35,
          43,
          8,
          31,
          3,
          2,
          3,
          4,
          14,
          3,
          11,
          2,
          5,
          2,
          14,
          3,
          14,
          26,
          5,
          26,
          4,
          7,
          16,
          8,
          7,
          1,
          7,
          6,
          14,
          5,
          22,
          4,
          13,
          27,
          8,
          2,
          14,
          11,
          10,
          10,
          43,
          3,
          12,
          12,
          4,
          3,
          36,
          43,
          7,
          6,
          7,
          7,
          16,
          24,
          1,
          5,
          9,
          6,
          13,
          6,
          8,
          3,
          7,
          7,
          14,
          11,
          4,
          3,
          3,
          12,
          6,
          6,
          2,
          1,
          6,
          17,
          14,
          2,
          6,
          3,
          17,
          3,
          4,
          4,
          12,
          7,
          7,
          9,
          13,
          7,
          3,
          19,
          10,
          39,
          9,
          8,
          3,
          22,
          3,
          2,
          4,
          2,
          2,
          8,
          6,
          6,
          23,
          22,
          3,
          31,
          3,
          14,
          5,
          4,
          78,
          9,
          5,
          8,
          5,
          2,
          6,
          8,
          26,
          14,
          9,
          18,
          3,
          5,
          2,
          2,
          4,
          9,
          3,
          25,
          10,
          4,
          29,
          4,
          23,
          11,
          20,
          5,
          2,
          2,
          2,
          1,
          3,
          4,
          7,
          3,
          6,
          17,
          9,
          4,
          10,
          7,
          3,
          14,
          10,
          10,
          7,
          12,
          5,
          17,
          9,
          1,
          11,
          2,
          6,
          5,
          20,
          2,
          3,
          6,
          2,
          18,
          6,
          10,
          6,
          5,
          10,
          7,
          1,
          3,
          17,
          12,
          24,
          3,
          12,
          9,
          5,
          4,
          8,
          14,
          25,
          14,
          3,
          8,
          8,
          7,
          2,
          10,
          10,
          3,
          2,
          8,
          5,
          8,
          21,
          3,
          24,
          3,
          4,
          4,
          7,
          6,
          4,
          31,
          5,
          9,
          7,
          22,
          9,
          3,
          7,
          2,
          3,
          3,
          5,
          5,
          8,
          6,
          2,
          11,
          37,
          6,
          2,
          11,
          16,
          8,
          3,
          21,
          5,
          6,
          11,
          8,
          2,
          23,
          22,
          8,
          6,
          3,
          5,
          11,
          34,
          20,
          9,
          9,
          7,
          10,
          9,
          4,
          5,
          15,
          11,
          18,
          5,
          16,
          7,
          13,
          2,
          11,
          5,
          29,
          10,
          25,
          9,
          2,
          3,
          2,
          3,
          5,
          3,
          2,
          2,
          3,
          9,
          3,
          3,
          7,
          2,
          14,
          3,
          2,
          14,
          3,
          8,
          2,
          1,
          9,
          3,
          6,
          11,
          5,
          7,
          5,
          11,
          4,
          2,
          14,
          2,
          5,
          7,
          1,
          9,
          9,
          4,
          1,
          1,
          6,
          5,
          4,
          14,
          7,
          10,
          10,
          4,
          3,
          7,
          25,
          40,
          5,
          6,
          10,
          43,
          5,
          41,
          10,
          2,
          12,
          14,
          10,
          10,
          25,
          15,
          9,
          12,
          8,
          8,
          7,
          6,
          9,
          3,
          7,
          8,
          22,
          5,
          5,
          33,
          4,
          7,
          10,
          3,
          24,
          13,
          72,
          3,
          12,
          6,
          6,
          3,
          17,
          43,
          2,
          26,
          7,
          12,
          3,
          3,
          2,
          3,
          7,
          22,
          29,
          11,
          5,
          8,
          5,
          3,
          5,
          6,
          2,
          2,
          12,
          20,
          2,
          21,
          3,
          2,
          20,
          2,
          4,
          5,
          11,
          13,
          3,
          35,
          6,
          18,
          2,
          2,
          12,
          3,
          24,
          5,
          14,
          7,
          12,
          2,
          8,
          1,
          2,
          7,
          9,
          35,
          7,
          5,
          15,
          13,
          3,
          6,
          4,
          3,
          24,
          5,
          38,
          5,
          5,
          7,
          3,
          9,
          12,
          8,
          11,
          6,
          24,
          9,
          17,
          5,
          4,
          3,
          10,
          4,
          2,
          7,
          5,
          22,
          4,
          4,
          13,
          7,
          47,
          40,
          66,
          27,
          2,
          5,
          2,
          16,
          8,
          7,
          27,
          3,
          50,
          31,
          7,
          7,
          5,
          6,
          15,
          3,
          5,
          3,
          2,
          11,
          5,
          10,
          8,
          3,
          3,
          11,
          6,
          8,
          4,
          9,
          5,
          3,
          7,
          10,
          8,
          5,
          8,
          8,
          7,
          5,
          3,
          3,
          2,
          3,
          22,
          14,
          4,
          16,
          14,
          29,
          4,
          6,
          65,
          8,
          3,
          3,
          37,
          28,
          5,
          5,
          12,
          56,
          12,
          15,
          5,
          2,
          1,
          9,
          2,
          4,
          5,
          2,
          7,
          3,
          10,
          6,
          6,
          8,
          7,
          40,
          10,
          4,
          7,
          7,
          13,
          6,
          11,
          5,
          2,
          45,
          58,
          7,
          11,
          8,
          11,
          3,
          2,
          7,
          1,
          8,
          7,
          6,
          8,
          21,
          1,
          2,
          11,
          3,
          6,
          7,
          2,
          7,
          5,
          3,
          12,
          7,
          9,
          9,
          7,
          5,
          5,
          11,
          2,
          3,
          9,
          4,
          7,
          33,
          33,
          40,
          40,
          10,
          10,
          26,
          3,
          7,
          12,
          14,
          19,
          19,
          18,
          5,
          9,
          10,
          10,
          3,
          5,
          7,
          13,
          34,
          6,
          2,
          14,
          24,
          11,
          4,
          22,
          22
         ]
        }
       ],
       "layout": {
        "barmode": "overlay",
        "legend": {
         "bgcolor": "#F5F6F9",
         "font": {
          "color": "#4D5663"
         }
        },
        "paper_bgcolor": "#F5F6F9",
        "plot_bgcolor": "#F5F6F9",
        "template": {
         "data": {
          "bar": [
           {
            "error_x": {
             "color": "#2a3f5f"
            },
            "error_y": {
             "color": "#2a3f5f"
            },
            "marker": {
             "line": {
              "color": "#E5ECF6",
              "width": 0.5
             }
            },
            "type": "bar"
           }
          ],
          "barpolar": [
           {
            "marker": {
             "line": {
              "color": "#E5ECF6",
              "width": 0.5
             }
            },
            "type": "barpolar"
           }
          ],
          "carpet": [
           {
            "aaxis": {
             "endlinecolor": "#2a3f5f",
             "gridcolor": "white",
             "linecolor": "white",
             "minorgridcolor": "white",
             "startlinecolor": "#2a3f5f"
            },
            "baxis": {
             "endlinecolor": "#2a3f5f",
             "gridcolor": "white",
             "linecolor": "white",
             "minorgridcolor": "white",
             "startlinecolor": "#2a3f5f"
            },
            "type": "carpet"
           }
          ],
          "choropleth": [
           {
            "colorbar": {
             "outlinewidth": 0,
             "ticks": ""
            },
            "type": "choropleth"
           }
          ],
          "contour": [
           {
            "colorbar": {
             "outlinewidth": 0,
             "ticks": ""
            },
            "colorscale": [
             [
              0,
              "#0d0887"
             ],
             [
              0.1111111111111111,
              "#46039f"
             ],
             [
              0.2222222222222222,
              "#7201a8"
             ],
             [
              0.3333333333333333,
              "#9c179e"
             ],
             [
              0.4444444444444444,
              "#bd3786"
             ],
             [
              0.5555555555555556,
              "#d8576b"
             ],
             [
              0.6666666666666666,
              "#ed7953"
             ],
             [
              0.7777777777777778,
              "#fb9f3a"
             ],
             [
              0.8888888888888888,
              "#fdca26"
             ],
             [
              1,
              "#f0f921"
             ]
            ],
            "type": "contour"
           }
          ],
          "contourcarpet": [
           {
            "colorbar": {
             "outlinewidth": 0,
             "ticks": ""
            },
            "type": "contourcarpet"
           }
          ],
          "heatmap": [
           {
            "colorbar": {
             "outlinewidth": 0,
             "ticks": ""
            },
            "colorscale": [
             [
              0,
              "#0d0887"
             ],
             [
              0.1111111111111111,
              "#46039f"
             ],
             [
              0.2222222222222222,
              "#7201a8"
             ],
             [
              0.3333333333333333,
              "#9c179e"
             ],
             [
              0.4444444444444444,
              "#bd3786"
             ],
             [
              0.5555555555555556,
              "#d8576b"
             ],
             [
              0.6666666666666666,
              "#ed7953"
             ],
             [
              0.7777777777777778,
              "#fb9f3a"
             ],
             [
              0.8888888888888888,
              "#fdca26"
             ],
             [
              1,
              "#f0f921"
             ]
            ],
            "type": "heatmap"
           }
          ],
          "heatmapgl": [
           {
            "colorbar": {
             "outlinewidth": 0,
             "ticks": ""
            },
            "colorscale": [
             [
              0,
              "#0d0887"
             ],
             [
              0.1111111111111111,
              "#46039f"
             ],
             [
              0.2222222222222222,
              "#7201a8"
             ],
             [
              0.3333333333333333,
              "#9c179e"
             ],
             [
              0.4444444444444444,
              "#bd3786"
             ],
             [
              0.5555555555555556,
              "#d8576b"
             ],
             [
              0.6666666666666666,
              "#ed7953"
             ],
             [
              0.7777777777777778,
              "#fb9f3a"
             ],
             [
              0.8888888888888888,
              "#fdca26"
             ],
             [
              1,
              "#f0f921"
             ]
            ],
            "type": "heatmapgl"
           }
          ],
          "histogram": [
           {
            "marker": {
             "colorbar": {
              "outlinewidth": 0,
              "ticks": ""
             }
            },
            "type": "histogram"
           }
          ],
          "histogram2d": [
           {
            "colorbar": {
             "outlinewidth": 0,
             "ticks": ""
            },
            "colorscale": [
             [
              0,
              "#0d0887"
             ],
             [
              0.1111111111111111,
              "#46039f"
             ],
             [
              0.2222222222222222,
              "#7201a8"
             ],
             [
              0.3333333333333333,
              "#9c179e"
             ],
             [
              0.4444444444444444,
              "#bd3786"
             ],
             [
              0.5555555555555556,
              "#d8576b"
             ],
             [
              0.6666666666666666,
              "#ed7953"
             ],
             [
              0.7777777777777778,
              "#fb9f3a"
             ],
             [
              0.8888888888888888,
              "#fdca26"
             ],
             [
              1,
              "#f0f921"
             ]
            ],
            "type": "histogram2d"
           }
          ],
          "histogram2dcontour": [
           {
            "colorbar": {
             "outlinewidth": 0,
             "ticks": ""
            },
            "colorscale": [
             [
              0,
              "#0d0887"
             ],
             [
              0.1111111111111111,
              "#46039f"
             ],
             [
              0.2222222222222222,
              "#7201a8"
             ],
             [
              0.3333333333333333,
              "#9c179e"
             ],
             [
              0.4444444444444444,
              "#bd3786"
             ],
             [
              0.5555555555555556,
              "#d8576b"
             ],
             [
              0.6666666666666666,
              "#ed7953"
             ],
             [
              0.7777777777777778,
              "#fb9f3a"
             ],
             [
              0.8888888888888888,
              "#fdca26"
             ],
             [
              1,
              "#f0f921"
             ]
            ],
            "type": "histogram2dcontour"
           }
          ],
          "mesh3d": [
           {
            "colorbar": {
             "outlinewidth": 0,
             "ticks": ""
            },
            "type": "mesh3d"
           }
          ],
          "parcoords": [
           {
            "line": {
             "colorbar": {
              "outlinewidth": 0,
              "ticks": ""
             }
            },
            "type": "parcoords"
           }
          ],
          "pie": [
           {
            "automargin": true,
            "type": "pie"
           }
          ],
          "scatter": [
           {
            "marker": {
             "colorbar": {
              "outlinewidth": 0,
              "ticks": ""
             }
            },
            "type": "scatter"
           }
          ],
          "scatter3d": [
           {
            "line": {
             "colorbar": {
              "outlinewidth": 0,
              "ticks": ""
             }
            },
            "marker": {
             "colorbar": {
              "outlinewidth": 0,
              "ticks": ""
             }
            },
            "type": "scatter3d"
           }
          ],
          "scattercarpet": [
           {
            "marker": {
             "colorbar": {
              "outlinewidth": 0,
              "ticks": ""
             }
            },
            "type": "scattercarpet"
           }
          ],
          "scattergeo": [
           {
            "marker": {
             "colorbar": {
              "outlinewidth": 0,
              "ticks": ""
             }
            },
            "type": "scattergeo"
           }
          ],
          "scattergl": [
           {
            "marker": {
             "colorbar": {
              "outlinewidth": 0,
              "ticks": ""
             }
            },
            "type": "scattergl"
           }
          ],
          "scattermapbox": [
           {
            "marker": {
             "colorbar": {
              "outlinewidth": 0,
              "ticks": ""
             }
            },
            "type": "scattermapbox"
           }
          ],
          "scatterpolar": [
           {
            "marker": {
             "colorbar": {
              "outlinewidth": 0,
              "ticks": ""
             }
            },
            "type": "scatterpolar"
           }
          ],
          "scatterpolargl": [
           {
            "marker": {
             "colorbar": {
              "outlinewidth": 0,
              "ticks": ""
             }
            },
            "type": "scatterpolargl"
           }
          ],
          "scatterternary": [
           {
            "marker": {
             "colorbar": {
              "outlinewidth": 0,
              "ticks": ""
             }
            },
            "type": "scatterternary"
           }
          ],
          "surface": [
           {
            "colorbar": {
             "outlinewidth": 0,
             "ticks": ""
            },
            "colorscale": [
             [
              0,
              "#0d0887"
             ],
             [
              0.1111111111111111,
              "#46039f"
             ],
             [
              0.2222222222222222,
              "#7201a8"
             ],
             [
              0.3333333333333333,
              "#9c179e"
             ],
             [
              0.4444444444444444,
              "#bd3786"
             ],
             [
              0.5555555555555556,
              "#d8576b"
             ],
             [
              0.6666666666666666,
              "#ed7953"
             ],
             [
              0.7777777777777778,
              "#fb9f3a"
             ],
             [
              0.8888888888888888,
              "#fdca26"
             ],
             [
              1,
              "#f0f921"
             ]
            ],
            "type": "surface"
           }
          ],
          "table": [
           {
            "cells": {
             "fill": {
              "color": "#EBF0F8"
             },
             "line": {
              "color": "white"
             }
            },
            "header": {
             "fill": {
              "color": "#C8D4E3"
             },
             "line": {
              "color": "white"
             }
            },
            "type": "table"
           }
          ]
         },
         "layout": {
          "annotationdefaults": {
           "arrowcolor": "#2a3f5f",
           "arrowhead": 0,
           "arrowwidth": 1
          },
          "autotypenumbers": "strict",
          "coloraxis": {
           "colorbar": {
            "outlinewidth": 0,
            "ticks": ""
           }
          },
          "colorscale": {
           "diverging": [
            [
             0,
             "#8e0152"
            ],
            [
             0.1,
             "#c51b7d"
            ],
            [
             0.2,
             "#de77ae"
            ],
            [
             0.3,
             "#f1b6da"
            ],
            [
             0.4,
             "#fde0ef"
            ],
            [
             0.5,
             "#f7f7f7"
            ],
            [
             0.6,
             "#e6f5d0"
            ],
            [
             0.7,
             "#b8e186"
            ],
            [
             0.8,
             "#7fbc41"
            ],
            [
             0.9,
             "#4d9221"
            ],
            [
             1,
             "#276419"
            ]
           ],
           "sequential": [
            [
             0,
             "#0d0887"
            ],
            [
             0.1111111111111111,
             "#46039f"
            ],
            [
             0.2222222222222222,
             "#7201a8"
            ],
            [
             0.3333333333333333,
             "#9c179e"
            ],
            [
             0.4444444444444444,
             "#bd3786"
            ],
            [
             0.5555555555555556,
             "#d8576b"
            ],
            [
             0.6666666666666666,
             "#ed7953"
            ],
            [
             0.7777777777777778,
             "#fb9f3a"
            ],
            [
             0.8888888888888888,
             "#fdca26"
            ],
            [
             1,
             "#f0f921"
            ]
           ],
           "sequentialminus": [
            [
             0,
             "#0d0887"
            ],
            [
             0.1111111111111111,
             "#46039f"
            ],
            [
             0.2222222222222222,
             "#7201a8"
            ],
            [
             0.3333333333333333,
             "#9c179e"
            ],
            [
             0.4444444444444444,
             "#bd3786"
            ],
            [
             0.5555555555555556,
             "#d8576b"
            ],
            [
             0.6666666666666666,
             "#ed7953"
            ],
            [
             0.7777777777777778,
             "#fb9f3a"
            ],
            [
             0.8888888888888888,
             "#fdca26"
            ],
            [
             1,
             "#f0f921"
            ]
           ]
          },
          "colorway": [
           "#636efa",
           "#EF553B",
           "#00cc96",
           "#ab63fa",
           "#FFA15A",
           "#19d3f3",
           "#FF6692",
           "#B6E880",
           "#FF97FF",
           "#FECB52"
          ],
          "font": {
           "color": "#2a3f5f"
          },
          "geo": {
           "bgcolor": "white",
           "lakecolor": "white",
           "landcolor": "#E5ECF6",
           "showlakes": true,
           "showland": true,
           "subunitcolor": "white"
          },
          "hoverlabel": {
           "align": "left"
          },
          "hovermode": "closest",
          "mapbox": {
           "style": "light"
          },
          "paper_bgcolor": "white",
          "plot_bgcolor": "#E5ECF6",
          "polar": {
           "angularaxis": {
            "gridcolor": "white",
            "linecolor": "white",
            "ticks": ""
           },
           "bgcolor": "#E5ECF6",
           "radialaxis": {
            "gridcolor": "white",
            "linecolor": "white",
            "ticks": ""
           }
          },
          "scene": {
           "xaxis": {
            "backgroundcolor": "#E5ECF6",
            "gridcolor": "white",
            "gridwidth": 2,
            "linecolor": "white",
            "showbackground": true,
            "ticks": "",
            "zerolinecolor": "white"
           },
           "yaxis": {
            "backgroundcolor": "#E5ECF6",
            "gridcolor": "white",
            "gridwidth": 2,
            "linecolor": "white",
            "showbackground": true,
            "ticks": "",
            "zerolinecolor": "white"
           },
           "zaxis": {
            "backgroundcolor": "#E5ECF6",
            "gridcolor": "white",
            "gridwidth": 2,
            "linecolor": "white",
            "showbackground": true,
            "ticks": "",
            "zerolinecolor": "white"
           }
          },
          "shapedefaults": {
           "line": {
            "color": "#2a3f5f"
           }
          },
          "ternary": {
           "aaxis": {
            "gridcolor": "white",
            "linecolor": "white",
            "ticks": ""
           },
           "baxis": {
            "gridcolor": "white",
            "linecolor": "white",
            "ticks": ""
           },
           "bgcolor": "#E5ECF6",
           "caxis": {
            "gridcolor": "white",
            "linecolor": "white",
            "ticks": ""
           }
          },
          "title": {
           "x": 0.05
          },
          "xaxis": {
           "automargin": true,
           "gridcolor": "white",
           "linecolor": "white",
           "ticks": "",
           "title": {
            "standoff": 15
           },
           "zerolinecolor": "white",
           "zerolinewidth": 2
          },
          "yaxis": {
           "automargin": true,
           "gridcolor": "white",
           "linecolor": "white",
           "ticks": "",
           "title": {
            "standoff": 15
           },
           "zerolinecolor": "white",
           "zerolinewidth": 2
          }
         }
        },
        "title": {
         "font": {
          "color": "#4D5663"
         },
         "text": "Распределение квартир по этажу"
        },
        "xaxis": {
         "gridcolor": "#E1E5ED",
         "showgrid": true,
         "tickfont": {
          "color": "#4D5663"
         },
         "title": {
          "font": {
           "color": "#4D5663"
          },
          "text": "Этаж квартиры"
         },
         "zerolinecolor": "#E1E5ED"
        },
        "yaxis": {
         "gridcolor": "#E1E5ED",
         "showgrid": true,
         "tickfont": {
          "color": "#4D5663"
         },
         "title": {
          "font": {
           "color": "#4D5663"
          },
          "text": "Количество квартир"
         },
         "zerolinecolor": "#E1E5ED"
        }
       }
      },
      "text/html": [
       "<div>                            <div id=\"f55cce49-3b33-4858-8457-3b72dfd510c7\" class=\"plotly-graph-div\" style=\"height:525px; width:100%;\"></div>            <script type=\"text/javascript\">                require([\"plotly\"], function(Plotly) {                    window.PLOTLYENV=window.PLOTLYENV || {};\n",
       "                    window.PLOTLYENV.BASE_URL='https://plot.ly';                                    if (document.getElementById(\"f55cce49-3b33-4858-8457-3b72dfd510c7\")) {                    Plotly.newPlot(                        \"f55cce49-3b33-4858-8457-3b72dfd510c7\",                        [{\"histfunc\": \"count\", \"histnorm\": \"\", \"marker\": {\"color\": \"rgba(255, 153, 51, 1.0)\", \"line\": {\"color\": \"#4D5663\", \"width\": 1.3}}, \"name\": \"\\u042d\\u0442\\u0430\\u0436 \\u043a\\u0432\\u0430\\u0440\\u0442\\u0438\\u0440\\u044b\", \"opacity\": 0.8, \"orientation\": \"v\", \"type\": \"histogram\", \"x\": [4, 6, 3, 15, 8, 5, 6, 2, 5, 5, 4, 9, 1, 24, 2, 5, 7, 4, 5, 3, 8, 12, 2, 5, 5, 2, 4, 8, 3, 6, 12, 10, 2, 16, 3, 3, 18, 3, 5, 4, 9, 9, 17, 2, 8, 5, 7, 3, 7, 2, 7, 7, 8, 7, 8, 17, 8, 6, 2, 3, 10, 7, 4, 3, 5, 3, 5, 2, 18, 3, 53, 25, 24, 3, 23, 10, 4, 23, 6, 7, 14, 10, 3, 8, 2, 8, 10, 6, 14, 11, 8, 13, 3, 4, 3, 6, 13, 6, 7, 3, 10, 14, 20, 5, 8, 45, 13, 11, 14, 3, 3, 3, 35, 2, 8, 3, 3, 7, 9, 37, 6, 5, 7, 8, 2, 25, 3, 14, 2, 11, 4, 4, 10, 6, 7, 29, 4, 4, 25, 6, 3, 3, 19, 19, 48, 52, 2, 35, 43, 8, 31, 3, 2, 3, 4, 14, 3, 11, 2, 5, 2, 14, 3, 14, 26, 5, 26, 4, 7, 16, 8, 7, 1, 7, 6, 14, 5, 22, 4, 13, 27, 8, 2, 14, 11, 10, 10, 43, 3, 12, 12, 4, 3, 36, 43, 7, 6, 7, 7, 16, 24, 1, 5, 9, 6, 13, 6, 8, 3, 7, 7, 14, 11, 4, 3, 3, 12, 6, 6, 2, 1, 6, 17, 14, 2, 6, 3, 17, 3, 4, 4, 12, 7, 7, 9, 13, 7, 3, 19, 10, 39, 9, 8, 3, 22, 3, 2, 4, 2, 2, 8, 6, 6, 23, 22, 3, 31, 3, 14, 5, 4, 78, 9, 5, 8, 5, 2, 6, 8, 26, 14, 9, 18, 3, 5, 2, 2, 4, 9, 3, 25, 10, 4, 29, 4, 23, 11, 20, 5, 2, 2, 2, 1, 3, 4, 7, 3, 6, 17, 9, 4, 10, 7, 3, 14, 10, 10, 7, 12, 5, 17, 9, 1, 11, 2, 6, 5, 20, 2, 3, 6, 2, 18, 6, 10, 6, 5, 10, 7, 1, 3, 17, 12, 24, 3, 12, 9, 5, 4, 8, 14, 25, 14, 3, 8, 8, 7, 2, 10, 10, 3, 2, 8, 5, 8, 21, 3, 24, 3, 4, 4, 7, 6, 4, 31, 5, 9, 7, 22, 9, 3, 7, 2, 3, 3, 5, 5, 8, 6, 2, 11, 37, 6, 2, 11, 16, 8, 3, 21, 5, 6, 11, 8, 2, 23, 22, 8, 6, 3, 5, 11, 34, 20, 9, 9, 7, 10, 9, 4, 5, 15, 11, 18, 5, 16, 7, 13, 2, 11, 5, 29, 10, 25, 9, 2, 3, 2, 3, 5, 3, 2, 2, 3, 9, 3, 3, 7, 2, 14, 3, 2, 14, 3, 8, 2, 1, 9, 3, 6, 11, 5, 7, 5, 11, 4, 2, 14, 2, 5, 7, 1, 9, 9, 4, 1, 1, 6, 5, 4, 14, 7, 10, 10, 4, 3, 7, 25, 40, 5, 6, 10, 43, 5, 41, 10, 2, 12, 14, 10, 10, 25, 15, 9, 12, 8, 8, 7, 6, 9, 3, 7, 8, 22, 5, 5, 33, 4, 7, 10, 3, 24, 13, 72, 3, 12, 6, 6, 3, 17, 43, 2, 26, 7, 12, 3, 3, 2, 3, 7, 22, 29, 11, 5, 8, 5, 3, 5, 6, 2, 2, 12, 20, 2, 21, 3, 2, 20, 2, 4, 5, 11, 13, 3, 35, 6, 18, 2, 2, 12, 3, 24, 5, 14, 7, 12, 2, 8, 1, 2, 7, 9, 35, 7, 5, 15, 13, 3, 6, 4, 3, 24, 5, 38, 5, 5, 7, 3, 9, 12, 8, 11, 6, 24, 9, 17, 5, 4, 3, 10, 4, 2, 7, 5, 22, 4, 4, 13, 7, 47, 40, 66, 27, 2, 5, 2, 16, 8, 7, 27, 3, 50, 31, 7, 7, 5, 6, 15, 3, 5, 3, 2, 11, 5, 10, 8, 3, 3, 11, 6, 8, 4, 9, 5, 3, 7, 10, 8, 5, 8, 8, 7, 5, 3, 3, 2, 3, 22, 14, 4, 16, 14, 29, 4, 6, 65, 8, 3, 3, 37, 28, 5, 5, 12, 56, 12, 15, 5, 2, 1, 9, 2, 4, 5, 2, 7, 3, 10, 6, 6, 8, 7, 40, 10, 4, 7, 7, 13, 6, 11, 5, 2, 45, 58, 7, 11, 8, 11, 3, 2, 7, 1, 8, 7, 6, 8, 21, 1, 2, 11, 3, 6, 7, 2, 7, 5, 3, 12, 7, 9, 9, 7, 5, 5, 11, 2, 3, 9, 4, 7, 33, 33, 40, 40, 10, 10, 26, 3, 7, 12, 14, 19, 19, 18, 5, 9, 10, 10, 3, 5, 7, 13, 34, 6, 2, 14, 24, 11, 4, 22, 22]}],                        {\"barmode\": \"overlay\", \"legend\": {\"bgcolor\": \"#F5F6F9\", \"font\": {\"color\": \"#4D5663\"}}, \"paper_bgcolor\": \"#F5F6F9\", \"plot_bgcolor\": \"#F5F6F9\", \"template\": {\"data\": {\"bar\": [{\"error_x\": {\"color\": \"#2a3f5f\"}, \"error_y\": {\"color\": \"#2a3f5f\"}, \"marker\": {\"line\": {\"color\": \"#E5ECF6\", \"width\": 0.5}}, \"type\": \"bar\"}], \"barpolar\": [{\"marker\": {\"line\": {\"color\": \"#E5ECF6\", \"width\": 0.5}}, \"type\": \"barpolar\"}], \"carpet\": [{\"aaxis\": {\"endlinecolor\": \"#2a3f5f\", \"gridcolor\": \"white\", \"linecolor\": \"white\", \"minorgridcolor\": \"white\", \"startlinecolor\": \"#2a3f5f\"}, \"baxis\": {\"endlinecolor\": \"#2a3f5f\", \"gridcolor\": \"white\", \"linecolor\": \"white\", \"minorgridcolor\": \"white\", \"startlinecolor\": \"#2a3f5f\"}, \"type\": \"carpet\"}], \"choropleth\": [{\"colorbar\": {\"outlinewidth\": 0, \"ticks\": \"\"}, \"type\": \"choropleth\"}], \"contour\": [{\"colorbar\": {\"outlinewidth\": 0, \"ticks\": \"\"}, \"colorscale\": [[0.0, \"#0d0887\"], [0.1111111111111111, \"#46039f\"], [0.2222222222222222, \"#7201a8\"], [0.3333333333333333, \"#9c179e\"], [0.4444444444444444, \"#bd3786\"], [0.5555555555555556, \"#d8576b\"], [0.6666666666666666, \"#ed7953\"], [0.7777777777777778, \"#fb9f3a\"], [0.8888888888888888, \"#fdca26\"], [1.0, \"#f0f921\"]], \"type\": \"contour\"}], \"contourcarpet\": [{\"colorbar\": {\"outlinewidth\": 0, \"ticks\": \"\"}, \"type\": \"contourcarpet\"}], \"heatmap\": [{\"colorbar\": {\"outlinewidth\": 0, \"ticks\": \"\"}, \"colorscale\": [[0.0, \"#0d0887\"], [0.1111111111111111, \"#46039f\"], [0.2222222222222222, \"#7201a8\"], [0.3333333333333333, \"#9c179e\"], [0.4444444444444444, \"#bd3786\"], [0.5555555555555556, \"#d8576b\"], [0.6666666666666666, \"#ed7953\"], [0.7777777777777778, \"#fb9f3a\"], [0.8888888888888888, \"#fdca26\"], [1.0, \"#f0f921\"]], \"type\": \"heatmap\"}], \"heatmapgl\": [{\"colorbar\": {\"outlinewidth\": 0, \"ticks\": \"\"}, \"colorscale\": [[0.0, \"#0d0887\"], [0.1111111111111111, \"#46039f\"], [0.2222222222222222, \"#7201a8\"], [0.3333333333333333, \"#9c179e\"], [0.4444444444444444, \"#bd3786\"], [0.5555555555555556, \"#d8576b\"], [0.6666666666666666, \"#ed7953\"], [0.7777777777777778, \"#fb9f3a\"], [0.8888888888888888, \"#fdca26\"], [1.0, \"#f0f921\"]], \"type\": \"heatmapgl\"}], \"histogram\": [{\"marker\": {\"colorbar\": {\"outlinewidth\": 0, \"ticks\": \"\"}}, \"type\": \"histogram\"}], \"histogram2d\": [{\"colorbar\": {\"outlinewidth\": 0, \"ticks\": \"\"}, \"colorscale\": [[0.0, \"#0d0887\"], [0.1111111111111111, \"#46039f\"], [0.2222222222222222, \"#7201a8\"], [0.3333333333333333, \"#9c179e\"], [0.4444444444444444, \"#bd3786\"], [0.5555555555555556, \"#d8576b\"], [0.6666666666666666, \"#ed7953\"], [0.7777777777777778, \"#fb9f3a\"], [0.8888888888888888, \"#fdca26\"], [1.0, \"#f0f921\"]], \"type\": \"histogram2d\"}], \"histogram2dcontour\": [{\"colorbar\": {\"outlinewidth\": 0, \"ticks\": \"\"}, \"colorscale\": [[0.0, \"#0d0887\"], [0.1111111111111111, \"#46039f\"], [0.2222222222222222, \"#7201a8\"], [0.3333333333333333, \"#9c179e\"], [0.4444444444444444, \"#bd3786\"], [0.5555555555555556, \"#d8576b\"], [0.6666666666666666, \"#ed7953\"], [0.7777777777777778, \"#fb9f3a\"], [0.8888888888888888, \"#fdca26\"], [1.0, \"#f0f921\"]], \"type\": \"histogram2dcontour\"}], \"mesh3d\": [{\"colorbar\": {\"outlinewidth\": 0, \"ticks\": \"\"}, \"type\": \"mesh3d\"}], \"parcoords\": [{\"line\": {\"colorbar\": {\"outlinewidth\": 0, \"ticks\": \"\"}}, \"type\": \"parcoords\"}], \"pie\": [{\"automargin\": true, \"type\": \"pie\"}], \"scatter\": [{\"marker\": {\"colorbar\": {\"outlinewidth\": 0, \"ticks\": \"\"}}, \"type\": \"scatter\"}], \"scatter3d\": [{\"line\": {\"colorbar\": {\"outlinewidth\": 0, \"ticks\": \"\"}}, \"marker\": {\"colorbar\": {\"outlinewidth\": 0, \"ticks\": \"\"}}, \"type\": \"scatter3d\"}], \"scattercarpet\": [{\"marker\": {\"colorbar\": {\"outlinewidth\": 0, \"ticks\": \"\"}}, \"type\": \"scattercarpet\"}], \"scattergeo\": [{\"marker\": {\"colorbar\": {\"outlinewidth\": 0, \"ticks\": \"\"}}, \"type\": \"scattergeo\"}], \"scattergl\": [{\"marker\": {\"colorbar\": {\"outlinewidth\": 0, \"ticks\": \"\"}}, \"type\": \"scattergl\"}], \"scattermapbox\": [{\"marker\": {\"colorbar\": {\"outlinewidth\": 0, \"ticks\": \"\"}}, \"type\": \"scattermapbox\"}], \"scatterpolar\": [{\"marker\": {\"colorbar\": {\"outlinewidth\": 0, \"ticks\": \"\"}}, \"type\": \"scatterpolar\"}], \"scatterpolargl\": [{\"marker\": {\"colorbar\": {\"outlinewidth\": 0, \"ticks\": \"\"}}, \"type\": \"scatterpolargl\"}], \"scatterternary\": [{\"marker\": {\"colorbar\": {\"outlinewidth\": 0, \"ticks\": \"\"}}, \"type\": \"scatterternary\"}], \"surface\": [{\"colorbar\": {\"outlinewidth\": 0, \"ticks\": \"\"}, \"colorscale\": [[0.0, \"#0d0887\"], [0.1111111111111111, \"#46039f\"], [0.2222222222222222, \"#7201a8\"], [0.3333333333333333, \"#9c179e\"], [0.4444444444444444, \"#bd3786\"], [0.5555555555555556, \"#d8576b\"], [0.6666666666666666, \"#ed7953\"], [0.7777777777777778, \"#fb9f3a\"], [0.8888888888888888, \"#fdca26\"], [1.0, \"#f0f921\"]], \"type\": \"surface\"}], \"table\": [{\"cells\": {\"fill\": {\"color\": \"#EBF0F8\"}, \"line\": {\"color\": \"white\"}}, \"header\": {\"fill\": {\"color\": \"#C8D4E3\"}, \"line\": {\"color\": \"white\"}}, \"type\": \"table\"}]}, \"layout\": {\"annotationdefaults\": {\"arrowcolor\": \"#2a3f5f\", \"arrowhead\": 0, \"arrowwidth\": 1}, \"autotypenumbers\": \"strict\", \"coloraxis\": {\"colorbar\": {\"outlinewidth\": 0, \"ticks\": \"\"}}, \"colorscale\": {\"diverging\": [[0, \"#8e0152\"], [0.1, \"#c51b7d\"], [0.2, \"#de77ae\"], [0.3, \"#f1b6da\"], [0.4, \"#fde0ef\"], [0.5, \"#f7f7f7\"], [0.6, \"#e6f5d0\"], [0.7, \"#b8e186\"], [0.8, \"#7fbc41\"], [0.9, \"#4d9221\"], [1, \"#276419\"]], \"sequential\": [[0.0, \"#0d0887\"], [0.1111111111111111, \"#46039f\"], [0.2222222222222222, \"#7201a8\"], [0.3333333333333333, \"#9c179e\"], [0.4444444444444444, \"#bd3786\"], [0.5555555555555556, \"#d8576b\"], [0.6666666666666666, \"#ed7953\"], [0.7777777777777778, \"#fb9f3a\"], [0.8888888888888888, \"#fdca26\"], [1.0, \"#f0f921\"]], \"sequentialminus\": [[0.0, \"#0d0887\"], [0.1111111111111111, \"#46039f\"], [0.2222222222222222, \"#7201a8\"], [0.3333333333333333, \"#9c179e\"], [0.4444444444444444, \"#bd3786\"], [0.5555555555555556, \"#d8576b\"], [0.6666666666666666, \"#ed7953\"], [0.7777777777777778, \"#fb9f3a\"], [0.8888888888888888, \"#fdca26\"], [1.0, \"#f0f921\"]]}, \"colorway\": [\"#636efa\", \"#EF553B\", \"#00cc96\", \"#ab63fa\", \"#FFA15A\", \"#19d3f3\", \"#FF6692\", \"#B6E880\", \"#FF97FF\", \"#FECB52\"], \"font\": {\"color\": \"#2a3f5f\"}, \"geo\": {\"bgcolor\": \"white\", \"lakecolor\": \"white\", \"landcolor\": \"#E5ECF6\", \"showlakes\": true, \"showland\": true, \"subunitcolor\": \"white\"}, \"hoverlabel\": {\"align\": \"left\"}, \"hovermode\": \"closest\", \"mapbox\": {\"style\": \"light\"}, \"paper_bgcolor\": \"white\", \"plot_bgcolor\": \"#E5ECF6\", \"polar\": {\"angularaxis\": {\"gridcolor\": \"white\", \"linecolor\": \"white\", \"ticks\": \"\"}, \"bgcolor\": \"#E5ECF6\", \"radialaxis\": {\"gridcolor\": \"white\", \"linecolor\": \"white\", \"ticks\": \"\"}}, \"scene\": {\"xaxis\": {\"backgroundcolor\": \"#E5ECF6\", \"gridcolor\": \"white\", \"gridwidth\": 2, \"linecolor\": \"white\", \"showbackground\": true, \"ticks\": \"\", \"zerolinecolor\": \"white\"}, \"yaxis\": {\"backgroundcolor\": \"#E5ECF6\", \"gridcolor\": \"white\", \"gridwidth\": 2, \"linecolor\": \"white\", \"showbackground\": true, \"ticks\": \"\", \"zerolinecolor\": \"white\"}, \"zaxis\": {\"backgroundcolor\": \"#E5ECF6\", \"gridcolor\": \"white\", \"gridwidth\": 2, \"linecolor\": \"white\", \"showbackground\": true, \"ticks\": \"\", \"zerolinecolor\": \"white\"}}, \"shapedefaults\": {\"line\": {\"color\": \"#2a3f5f\"}}, \"ternary\": {\"aaxis\": {\"gridcolor\": \"white\", \"linecolor\": \"white\", \"ticks\": \"\"}, \"baxis\": {\"gridcolor\": \"white\", \"linecolor\": \"white\", \"ticks\": \"\"}, \"bgcolor\": \"#E5ECF6\", \"caxis\": {\"gridcolor\": \"white\", \"linecolor\": \"white\", \"ticks\": \"\"}}, \"title\": {\"x\": 0.05}, \"xaxis\": {\"automargin\": true, \"gridcolor\": \"white\", \"linecolor\": \"white\", \"ticks\": \"\", \"title\": {\"standoff\": 15}, \"zerolinecolor\": \"white\", \"zerolinewidth\": 2}, \"yaxis\": {\"automargin\": true, \"gridcolor\": \"white\", \"linecolor\": \"white\", \"ticks\": \"\", \"title\": {\"standoff\": 15}, \"zerolinecolor\": \"white\", \"zerolinewidth\": 2}}}, \"title\": {\"font\": {\"color\": \"#4D5663\"}, \"text\": \"\\u0420\\u0430\\u0441\\u043f\\u0440\\u0435\\u0434\\u0435\\u043b\\u0435\\u043d\\u0438\\u0435 \\u043a\\u0432\\u0430\\u0440\\u0442\\u0438\\u0440 \\u043f\\u043e \\u044d\\u0442\\u0430\\u0436\\u0443\"}, \"xaxis\": {\"gridcolor\": \"#E1E5ED\", \"showgrid\": true, \"tickfont\": {\"color\": \"#4D5663\"}, \"title\": {\"font\": {\"color\": \"#4D5663\"}, \"text\": \"\\u042d\\u0442\\u0430\\u0436 \\u043a\\u0432\\u0430\\u0440\\u0442\\u0438\\u0440\\u044b\"}, \"zerolinecolor\": \"#E1E5ED\"}, \"yaxis\": {\"gridcolor\": \"#E1E5ED\", \"showgrid\": true, \"tickfont\": {\"color\": \"#4D5663\"}, \"title\": {\"font\": {\"color\": \"#4D5663\"}, \"text\": \"\\u041a\\u043e\\u043b\\u0438\\u0447\\u0435\\u0441\\u0442\\u0432\\u043e \\u043a\\u0432\\u0430\\u0440\\u0442\\u0438\\u0440\"}, \"zerolinecolor\": \"#E1E5ED\"}},                        {\"showLink\": true, \"linkText\": \"Export to plot.ly\", \"plotlyServerURL\": \"https://plot.ly\", \"responsive\": true}                    ).then(function(){\n",
       "                            \n",
       "var gd = document.getElementById('f55cce49-3b33-4858-8457-3b72dfd510c7');\n",
       "var x = new MutationObserver(function (mutations, observer) {{\n",
       "        var display = window.getComputedStyle(gd).display;\n",
       "        if (!display || display === 'none') {{\n",
       "            console.log([gd, 'removed!']);\n",
       "            Plotly.purge(gd);\n",
       "            observer.disconnect();\n",
       "        }}\n",
       "}});\n",
       "\n",
       "// Listen for the removal of the full notebook cells\n",
       "var notebookContainer = gd.closest('#notebook-container');\n",
       "if (notebookContainer) {{\n",
       "    x.observe(notebookContainer, {childList: true});\n",
       "}}\n",
       "\n",
       "// Listen for the clearing of the current output cell\n",
       "var outputEl = gd.closest('.output');\n",
       "if (outputEl) {{\n",
       "    x.observe(outputEl, {childList: true});\n",
       "}}\n",
       "\n",
       "                        })                };                });            </script>        </div>"
      ]
     },
     "metadata": {},
     "output_type": "display_data"
    },
    {
     "data": {
      "application/vnd.plotly.v1+json": {
       "config": {
        "linkText": "Export to plot.ly",
        "plotlyServerURL": "https://plot.ly",
        "showLink": true
       },
       "data": [
        {
         "histfunc": "count",
         "histnorm": "",
         "marker": {
          "color": "rgba(255, 153, 51, 1.0)",
          "line": {
           "color": "#4D5663",
           "width": 1.3
          }
         },
         "name": "Этажей в доме",
         "opacity": 0.8,
         "orientation": "v",
         "type": "histogram",
         "x": [
          5,
          15,
          6,
          29,
          12,
          8,
          13,
          8,
          7,
          6,
          16,
          38,
          5,
          44,
          19,
          7,
          7,
          9,
          16,
          4,
          8,
          14,
          5,
          8,
          8,
          5,
          22,
          17,
          6,
          51,
          23,
          32,
          15,
          24,
          3,
          4,
          21,
          6,
          37,
          25,
          12,
          9,
          44,
          26,
          8,
          14,
          8,
          9,
          23,
          16,
          16,
          33,
          16,
          9,
          17,
          18,
          9,
          17,
          10,
          23,
          17,
          7,
          25,
          5,
          10,
          9,
          11,
          11,
          22,
          5,
          95,
          44,
          75,
          6,
          75,
          34,
          5,
          23,
          13,
          14,
          39,
          17,
          6,
          16,
          7,
          9,
          17,
          16,
          19,
          12,
          14,
          18,
          31,
          9,
          6,
          21,
          22,
          7,
          14,
          6,
          14,
          22,
          23,
          6,
          16,
          75,
          22,
          35,
          17,
          5,
          17,
          5,
          47,
          5,
          22,
          22,
          3,
          11,
          10,
          44,
          14,
          5,
          26,
          16,
          9,
          34,
          31,
          15,
          10,
          22,
          4,
          4,
          18,
          7,
          7,
          30,
          17,
          5,
          75,
          10,
          10,
          11,
          75,
          75,
          73,
          95,
          6,
          65,
          73,
          15,
          75,
          5,
          8,
          10,
          7,
          22,
          8,
          23,
          5,
          16,
          5,
          16,
          5,
          24,
          26,
          8,
          30,
          25,
          17,
          22,
          15,
          16,
          3,
          18,
          11,
          17,
          8,
          23,
          6,
          17,
          34,
          22,
          5,
          20,
          30,
          12,
          22,
          53,
          5,
          33,
          14,
          19,
          25,
          36,
          47,
          8,
          14,
          7,
          9,
          17,
          26,
          5,
          14,
          9,
          12,
          14,
          8,
          9,
          5,
          9,
          14,
          14,
          27,
          31,
          13,
          7,
          53,
          9,
          17,
          10,
          5,
          6,
          26,
          24,
          4,
          6,
          44,
          21,
          11,
          16,
          8,
          25,
          14,
          8,
          38,
          34,
          16,
          6,
          75,
          13,
          75,
          9,
          16,
          10,
          22,
          8,
          7,
          7,
          13,
          11,
          10,
          7,
          8,
          27,
          23,
          11,
          31,
          6,
          24,
          16,
          8,
          95,
          12,
          16,
          28,
          13,
          5,
          15,
          22,
          29,
          31,
          48,
          22,
          5,
          5,
          16,
          8,
          6,
          49,
          7,
          34,
          44,
          5,
          32,
          8,
          27,
          12,
          22,
          12,
          6,
          9,
          9,
          9,
          5,
          18,
          17,
          5,
          9,
          22,
          14,
          16,
          14,
          9,
          5,
          22,
          17,
          17,
          18,
          17,
          20,
          22,
          25,
          21,
          16,
          21,
          8,
          6,
          23,
          9,
          12,
          9,
          7,
          19,
          22,
          16,
          23,
          22,
          17,
          23,
          6,
          11,
          32,
          17,
          38,
          8,
          22,
          26,
          5,
          6,
          16,
          20,
          32,
          14,
          7,
          18,
          10,
          7,
          9,
          22,
          19,
          7,
          8,
          26,
          6,
          10,
          24,
          31,
          39,
          11,
          16,
          5,
          7,
          7,
          5,
          47,
          5,
          17,
          9,
          25,
          53,
          11,
          7,
          5,
          7,
          8,
          19,
          21,
          19,
          11,
          5,
          32,
          43,
          33,
          26,
          15,
          40,
          8,
          25,
          26,
          6,
          18,
          11,
          9,
          23,
          31,
          22,
          10,
          19,
          44,
          16,
          37,
          35,
          23,
          11,
          9,
          17,
          12,
          25,
          8,
          8,
          29,
          21,
          33,
          7,
          16,
          14,
          16,
          6,
          21,
          7,
          31,
          16,
          53,
          53,
          13,
          6,
          15,
          6,
          7,
          44,
          7,
          13,
          5,
          18,
          44,
          5,
          22,
          17,
          20,
          4,
          5,
          16,
          5,
          9,
          5,
          5,
          9,
          5,
          14,
          14,
          5,
          10,
          10,
          15,
          10,
          5,
          17,
          12,
          22,
          9,
          12,
          9,
          9,
          17,
          10,
          14,
          9,
          12,
          9,
          16,
          22,
          11,
          12,
          6,
          13,
          10,
          53,
          79,
          7,
          29,
          11,
          85,
          8,
          75,
          18,
          8,
          40,
          30,
          27,
          40,
          34,
          19,
          17,
          57,
          10,
          11,
          8,
          11,
          20,
          8,
          16,
          19,
          57,
          11,
          6,
          38,
          9,
          8,
          20,
          6,
          38,
          16,
          95,
          5,
          17,
          12,
          12,
          14,
          21,
          85,
          6,
          32,
          10,
          14,
          6,
          5,
          6,
          7,
          7,
          66,
          33,
          18,
          9,
          19,
          10,
          6,
          8,
          7,
          4,
          5,
          22,
          39,
          5,
          24,
          12,
          6,
          23,
          6,
          11,
          24,
          35,
          15,
          15,
          47,
          17,
          19,
          7,
          8,
          22,
          4,
          44,
          13,
          17,
          17,
          22,
          7,
          10,
          5,
          17,
          7,
          17,
          47,
          14,
          9,
          21,
          16,
          8,
          8,
          7,
          5,
          26,
          5,
          47,
          8,
          5,
          9,
          7,
          9,
          25,
          22,
          21,
          34,
          25,
          16,
          19,
          24,
          11,
          4,
          32,
          6,
          8,
          18,
          16,
          23,
          23,
          8,
          24,
          9,
          75,
          75,
          75,
          75,
          14,
          7,
          13,
          37,
          9,
          15,
          27,
          5,
          79,
          36,
          16,
          17,
          9,
          17,
          17,
          15,
          9,
          11,
          5,
          11,
          7,
          35,
          10,
          9,
          8,
          37,
          12,
          10,
          9,
          25,
          12,
          10,
          23,
          39,
          8,
          5,
          19,
          10,
          9,
          7,
          6,
          5,
          7,
          8,
          31,
          25,
          22,
          16,
          22,
          32,
          23,
          18,
          75,
          14,
          4,
          6,
          41,
          85,
          23,
          12,
          14,
          63,
          24,
          57,
          18,
          14,
          7,
          13,
          8,
          6,
          30,
          9,
          14,
          9,
          15,
          12,
          57,
          12,
          17,
          44,
          17,
          57,
          15,
          17,
          16,
          10,
          18,
          9,
          5,
          75,
          73,
          9,
          11,
          9,
          35,
          10,
          5,
          17,
          9,
          9,
          9,
          9,
          9,
          22,
          17,
          9,
          35,
          10,
          17,
          7,
          9,
          12,
          7,
          9,
          19,
          16,
          21,
          12,
          8,
          6,
          23,
          16,
          6,
          23,
          13,
          5,
          17,
          38,
          38,
          75,
          75,
          39,
          39,
          37,
          6,
          11,
          18,
          16,
          75,
          35,
          31,
          23,
          9,
          32,
          18,
          16,
          25,
          7,
          22,
          85,
          14,
          4,
          17,
          44,
          40,
          14,
          57,
          57
         ]
        }
       ],
       "layout": {
        "barmode": "overlay",
        "legend": {
         "bgcolor": "#F5F6F9",
         "font": {
          "color": "#4D5663"
         }
        },
        "paper_bgcolor": "#F5F6F9",
        "plot_bgcolor": "#F5F6F9",
        "template": {
         "data": {
          "bar": [
           {
            "error_x": {
             "color": "#2a3f5f"
            },
            "error_y": {
             "color": "#2a3f5f"
            },
            "marker": {
             "line": {
              "color": "#E5ECF6",
              "width": 0.5
             }
            },
            "type": "bar"
           }
          ],
          "barpolar": [
           {
            "marker": {
             "line": {
              "color": "#E5ECF6",
              "width": 0.5
             }
            },
            "type": "barpolar"
           }
          ],
          "carpet": [
           {
            "aaxis": {
             "endlinecolor": "#2a3f5f",
             "gridcolor": "white",
             "linecolor": "white",
             "minorgridcolor": "white",
             "startlinecolor": "#2a3f5f"
            },
            "baxis": {
             "endlinecolor": "#2a3f5f",
             "gridcolor": "white",
             "linecolor": "white",
             "minorgridcolor": "white",
             "startlinecolor": "#2a3f5f"
            },
            "type": "carpet"
           }
          ],
          "choropleth": [
           {
            "colorbar": {
             "outlinewidth": 0,
             "ticks": ""
            },
            "type": "choropleth"
           }
          ],
          "contour": [
           {
            "colorbar": {
             "outlinewidth": 0,
             "ticks": ""
            },
            "colorscale": [
             [
              0,
              "#0d0887"
             ],
             [
              0.1111111111111111,
              "#46039f"
             ],
             [
              0.2222222222222222,
              "#7201a8"
             ],
             [
              0.3333333333333333,
              "#9c179e"
             ],
             [
              0.4444444444444444,
              "#bd3786"
             ],
             [
              0.5555555555555556,
              "#d8576b"
             ],
             [
              0.6666666666666666,
              "#ed7953"
             ],
             [
              0.7777777777777778,
              "#fb9f3a"
             ],
             [
              0.8888888888888888,
              "#fdca26"
             ],
             [
              1,
              "#f0f921"
             ]
            ],
            "type": "contour"
           }
          ],
          "contourcarpet": [
           {
            "colorbar": {
             "outlinewidth": 0,
             "ticks": ""
            },
            "type": "contourcarpet"
           }
          ],
          "heatmap": [
           {
            "colorbar": {
             "outlinewidth": 0,
             "ticks": ""
            },
            "colorscale": [
             [
              0,
              "#0d0887"
             ],
             [
              0.1111111111111111,
              "#46039f"
             ],
             [
              0.2222222222222222,
              "#7201a8"
             ],
             [
              0.3333333333333333,
              "#9c179e"
             ],
             [
              0.4444444444444444,
              "#bd3786"
             ],
             [
              0.5555555555555556,
              "#d8576b"
             ],
             [
              0.6666666666666666,
              "#ed7953"
             ],
             [
              0.7777777777777778,
              "#fb9f3a"
             ],
             [
              0.8888888888888888,
              "#fdca26"
             ],
             [
              1,
              "#f0f921"
             ]
            ],
            "type": "heatmap"
           }
          ],
          "heatmapgl": [
           {
            "colorbar": {
             "outlinewidth": 0,
             "ticks": ""
            },
            "colorscale": [
             [
              0,
              "#0d0887"
             ],
             [
              0.1111111111111111,
              "#46039f"
             ],
             [
              0.2222222222222222,
              "#7201a8"
             ],
             [
              0.3333333333333333,
              "#9c179e"
             ],
             [
              0.4444444444444444,
              "#bd3786"
             ],
             [
              0.5555555555555556,
              "#d8576b"
             ],
             [
              0.6666666666666666,
              "#ed7953"
             ],
             [
              0.7777777777777778,
              "#fb9f3a"
             ],
             [
              0.8888888888888888,
              "#fdca26"
             ],
             [
              1,
              "#f0f921"
             ]
            ],
            "type": "heatmapgl"
           }
          ],
          "histogram": [
           {
            "marker": {
             "colorbar": {
              "outlinewidth": 0,
              "ticks": ""
             }
            },
            "type": "histogram"
           }
          ],
          "histogram2d": [
           {
            "colorbar": {
             "outlinewidth": 0,
             "ticks": ""
            },
            "colorscale": [
             [
              0,
              "#0d0887"
             ],
             [
              0.1111111111111111,
              "#46039f"
             ],
             [
              0.2222222222222222,
              "#7201a8"
             ],
             [
              0.3333333333333333,
              "#9c179e"
             ],
             [
              0.4444444444444444,
              "#bd3786"
             ],
             [
              0.5555555555555556,
              "#d8576b"
             ],
             [
              0.6666666666666666,
              "#ed7953"
             ],
             [
              0.7777777777777778,
              "#fb9f3a"
             ],
             [
              0.8888888888888888,
              "#fdca26"
             ],
             [
              1,
              "#f0f921"
             ]
            ],
            "type": "histogram2d"
           }
          ],
          "histogram2dcontour": [
           {
            "colorbar": {
             "outlinewidth": 0,
             "ticks": ""
            },
            "colorscale": [
             [
              0,
              "#0d0887"
             ],
             [
              0.1111111111111111,
              "#46039f"
             ],
             [
              0.2222222222222222,
              "#7201a8"
             ],
             [
              0.3333333333333333,
              "#9c179e"
             ],
             [
              0.4444444444444444,
              "#bd3786"
             ],
             [
              0.5555555555555556,
              "#d8576b"
             ],
             [
              0.6666666666666666,
              "#ed7953"
             ],
             [
              0.7777777777777778,
              "#fb9f3a"
             ],
             [
              0.8888888888888888,
              "#fdca26"
             ],
             [
              1,
              "#f0f921"
             ]
            ],
            "type": "histogram2dcontour"
           }
          ],
          "mesh3d": [
           {
            "colorbar": {
             "outlinewidth": 0,
             "ticks": ""
            },
            "type": "mesh3d"
           }
          ],
          "parcoords": [
           {
            "line": {
             "colorbar": {
              "outlinewidth": 0,
              "ticks": ""
             }
            },
            "type": "parcoords"
           }
          ],
          "pie": [
           {
            "automargin": true,
            "type": "pie"
           }
          ],
          "scatter": [
           {
            "marker": {
             "colorbar": {
              "outlinewidth": 0,
              "ticks": ""
             }
            },
            "type": "scatter"
           }
          ],
          "scatter3d": [
           {
            "line": {
             "colorbar": {
              "outlinewidth": 0,
              "ticks": ""
             }
            },
            "marker": {
             "colorbar": {
              "outlinewidth": 0,
              "ticks": ""
             }
            },
            "type": "scatter3d"
           }
          ],
          "scattercarpet": [
           {
            "marker": {
             "colorbar": {
              "outlinewidth": 0,
              "ticks": ""
             }
            },
            "type": "scattercarpet"
           }
          ],
          "scattergeo": [
           {
            "marker": {
             "colorbar": {
              "outlinewidth": 0,
              "ticks": ""
             }
            },
            "type": "scattergeo"
           }
          ],
          "scattergl": [
           {
            "marker": {
             "colorbar": {
              "outlinewidth": 0,
              "ticks": ""
             }
            },
            "type": "scattergl"
           }
          ],
          "scattermapbox": [
           {
            "marker": {
             "colorbar": {
              "outlinewidth": 0,
              "ticks": ""
             }
            },
            "type": "scattermapbox"
           }
          ],
          "scatterpolar": [
           {
            "marker": {
             "colorbar": {
              "outlinewidth": 0,
              "ticks": ""
             }
            },
            "type": "scatterpolar"
           }
          ],
          "scatterpolargl": [
           {
            "marker": {
             "colorbar": {
              "outlinewidth": 0,
              "ticks": ""
             }
            },
            "type": "scatterpolargl"
           }
          ],
          "scatterternary": [
           {
            "marker": {
             "colorbar": {
              "outlinewidth": 0,
              "ticks": ""
             }
            },
            "type": "scatterternary"
           }
          ],
          "surface": [
           {
            "colorbar": {
             "outlinewidth": 0,
             "ticks": ""
            },
            "colorscale": [
             [
              0,
              "#0d0887"
             ],
             [
              0.1111111111111111,
              "#46039f"
             ],
             [
              0.2222222222222222,
              "#7201a8"
             ],
             [
              0.3333333333333333,
              "#9c179e"
             ],
             [
              0.4444444444444444,
              "#bd3786"
             ],
             [
              0.5555555555555556,
              "#d8576b"
             ],
             [
              0.6666666666666666,
              "#ed7953"
             ],
             [
              0.7777777777777778,
              "#fb9f3a"
             ],
             [
              0.8888888888888888,
              "#fdca26"
             ],
             [
              1,
              "#f0f921"
             ]
            ],
            "type": "surface"
           }
          ],
          "table": [
           {
            "cells": {
             "fill": {
              "color": "#EBF0F8"
             },
             "line": {
              "color": "white"
             }
            },
            "header": {
             "fill": {
              "color": "#C8D4E3"
             },
             "line": {
              "color": "white"
             }
            },
            "type": "table"
           }
          ]
         },
         "layout": {
          "annotationdefaults": {
           "arrowcolor": "#2a3f5f",
           "arrowhead": 0,
           "arrowwidth": 1
          },
          "autotypenumbers": "strict",
          "coloraxis": {
           "colorbar": {
            "outlinewidth": 0,
            "ticks": ""
           }
          },
          "colorscale": {
           "diverging": [
            [
             0,
             "#8e0152"
            ],
            [
             0.1,
             "#c51b7d"
            ],
            [
             0.2,
             "#de77ae"
            ],
            [
             0.3,
             "#f1b6da"
            ],
            [
             0.4,
             "#fde0ef"
            ],
            [
             0.5,
             "#f7f7f7"
            ],
            [
             0.6,
             "#e6f5d0"
            ],
            [
             0.7,
             "#b8e186"
            ],
            [
             0.8,
             "#7fbc41"
            ],
            [
             0.9,
             "#4d9221"
            ],
            [
             1,
             "#276419"
            ]
           ],
           "sequential": [
            [
             0,
             "#0d0887"
            ],
            [
             0.1111111111111111,
             "#46039f"
            ],
            [
             0.2222222222222222,
             "#7201a8"
            ],
            [
             0.3333333333333333,
             "#9c179e"
            ],
            [
             0.4444444444444444,
             "#bd3786"
            ],
            [
             0.5555555555555556,
             "#d8576b"
            ],
            [
             0.6666666666666666,
             "#ed7953"
            ],
            [
             0.7777777777777778,
             "#fb9f3a"
            ],
            [
             0.8888888888888888,
             "#fdca26"
            ],
            [
             1,
             "#f0f921"
            ]
           ],
           "sequentialminus": [
            [
             0,
             "#0d0887"
            ],
            [
             0.1111111111111111,
             "#46039f"
            ],
            [
             0.2222222222222222,
             "#7201a8"
            ],
            [
             0.3333333333333333,
             "#9c179e"
            ],
            [
             0.4444444444444444,
             "#bd3786"
            ],
            [
             0.5555555555555556,
             "#d8576b"
            ],
            [
             0.6666666666666666,
             "#ed7953"
            ],
            [
             0.7777777777777778,
             "#fb9f3a"
            ],
            [
             0.8888888888888888,
             "#fdca26"
            ],
            [
             1,
             "#f0f921"
            ]
           ]
          },
          "colorway": [
           "#636efa",
           "#EF553B",
           "#00cc96",
           "#ab63fa",
           "#FFA15A",
           "#19d3f3",
           "#FF6692",
           "#B6E880",
           "#FF97FF",
           "#FECB52"
          ],
          "font": {
           "color": "#2a3f5f"
          },
          "geo": {
           "bgcolor": "white",
           "lakecolor": "white",
           "landcolor": "#E5ECF6",
           "showlakes": true,
           "showland": true,
           "subunitcolor": "white"
          },
          "hoverlabel": {
           "align": "left"
          },
          "hovermode": "closest",
          "mapbox": {
           "style": "light"
          },
          "paper_bgcolor": "white",
          "plot_bgcolor": "#E5ECF6",
          "polar": {
           "angularaxis": {
            "gridcolor": "white",
            "linecolor": "white",
            "ticks": ""
           },
           "bgcolor": "#E5ECF6",
           "radialaxis": {
            "gridcolor": "white",
            "linecolor": "white",
            "ticks": ""
           }
          },
          "scene": {
           "xaxis": {
            "backgroundcolor": "#E5ECF6",
            "gridcolor": "white",
            "gridwidth": 2,
            "linecolor": "white",
            "showbackground": true,
            "ticks": "",
            "zerolinecolor": "white"
           },
           "yaxis": {
            "backgroundcolor": "#E5ECF6",
            "gridcolor": "white",
            "gridwidth": 2,
            "linecolor": "white",
            "showbackground": true,
            "ticks": "",
            "zerolinecolor": "white"
           },
           "zaxis": {
            "backgroundcolor": "#E5ECF6",
            "gridcolor": "white",
            "gridwidth": 2,
            "linecolor": "white",
            "showbackground": true,
            "ticks": "",
            "zerolinecolor": "white"
           }
          },
          "shapedefaults": {
           "line": {
            "color": "#2a3f5f"
           }
          },
          "ternary": {
           "aaxis": {
            "gridcolor": "white",
            "linecolor": "white",
            "ticks": ""
           },
           "baxis": {
            "gridcolor": "white",
            "linecolor": "white",
            "ticks": ""
           },
           "bgcolor": "#E5ECF6",
           "caxis": {
            "gridcolor": "white",
            "linecolor": "white",
            "ticks": ""
           }
          },
          "title": {
           "x": 0.05
          },
          "xaxis": {
           "automargin": true,
           "gridcolor": "white",
           "linecolor": "white",
           "ticks": "",
           "title": {
            "standoff": 15
           },
           "zerolinecolor": "white",
           "zerolinewidth": 2
          },
          "yaxis": {
           "automargin": true,
           "gridcolor": "white",
           "linecolor": "white",
           "ticks": "",
           "title": {
            "standoff": 15
           },
           "zerolinecolor": "white",
           "zerolinewidth": 2
          }
         }
        },
        "title": {
         "font": {
          "color": "#4D5663"
         },
         "text": "Распределение квартир по количеству этажей в доме"
        },
        "xaxis": {
         "gridcolor": "#E1E5ED",
         "showgrid": true,
         "tickfont": {
          "color": "#4D5663"
         },
         "title": {
          "font": {
           "color": "#4D5663"
          },
          "text": "Этажей в доме"
         },
         "zerolinecolor": "#E1E5ED"
        },
        "yaxis": {
         "gridcolor": "#E1E5ED",
         "showgrid": true,
         "tickfont": {
          "color": "#4D5663"
         },
         "title": {
          "font": {
           "color": "#4D5663"
          },
          "text": "Количество квартир"
         },
         "zerolinecolor": "#E1E5ED"
        }
       }
      },
      "text/html": [
       "<div>                            <div id=\"fabd79f6-9b15-4292-8ed6-3e7819dd9d3d\" class=\"plotly-graph-div\" style=\"height:525px; width:100%;\"></div>            <script type=\"text/javascript\">                require([\"plotly\"], function(Plotly) {                    window.PLOTLYENV=window.PLOTLYENV || {};\n",
       "                    window.PLOTLYENV.BASE_URL='https://plot.ly';                                    if (document.getElementById(\"fabd79f6-9b15-4292-8ed6-3e7819dd9d3d\")) {                    Plotly.newPlot(                        \"fabd79f6-9b15-4292-8ed6-3e7819dd9d3d\",                        [{\"histfunc\": \"count\", \"histnorm\": \"\", \"marker\": {\"color\": \"rgba(255, 153, 51, 1.0)\", \"line\": {\"color\": \"#4D5663\", \"width\": 1.3}}, \"name\": \"\\u042d\\u0442\\u0430\\u0436\\u0435\\u0439 \\u0432 \\u0434\\u043e\\u043c\\u0435\", \"opacity\": 0.8, \"orientation\": \"v\", \"type\": \"histogram\", \"x\": [5, 15, 6, 29, 12, 8, 13, 8, 7, 6, 16, 38, 5, 44, 19, 7, 7, 9, 16, 4, 8, 14, 5, 8, 8, 5, 22, 17, 6, 51, 23, 32, 15, 24, 3, 4, 21, 6, 37, 25, 12, 9, 44, 26, 8, 14, 8, 9, 23, 16, 16, 33, 16, 9, 17, 18, 9, 17, 10, 23, 17, 7, 25, 5, 10, 9, 11, 11, 22, 5, 95, 44, 75, 6, 75, 34, 5, 23, 13, 14, 39, 17, 6, 16, 7, 9, 17, 16, 19, 12, 14, 18, 31, 9, 6, 21, 22, 7, 14, 6, 14, 22, 23, 6, 16, 75, 22, 35, 17, 5, 17, 5, 47, 5, 22, 22, 3, 11, 10, 44, 14, 5, 26, 16, 9, 34, 31, 15, 10, 22, 4, 4, 18, 7, 7, 30, 17, 5, 75, 10, 10, 11, 75, 75, 73, 95, 6, 65, 73, 15, 75, 5, 8, 10, 7, 22, 8, 23, 5, 16, 5, 16, 5, 24, 26, 8, 30, 25, 17, 22, 15, 16, 3, 18, 11, 17, 8, 23, 6, 17, 34, 22, 5, 20, 30, 12, 22, 53, 5, 33, 14, 19, 25, 36, 47, 8, 14, 7, 9, 17, 26, 5, 14, 9, 12, 14, 8, 9, 5, 9, 14, 14, 27, 31, 13, 7, 53, 9, 17, 10, 5, 6, 26, 24, 4, 6, 44, 21, 11, 16, 8, 25, 14, 8, 38, 34, 16, 6, 75, 13, 75, 9, 16, 10, 22, 8, 7, 7, 13, 11, 10, 7, 8, 27, 23, 11, 31, 6, 24, 16, 8, 95, 12, 16, 28, 13, 5, 15, 22, 29, 31, 48, 22, 5, 5, 16, 8, 6, 49, 7, 34, 44, 5, 32, 8, 27, 12, 22, 12, 6, 9, 9, 9, 5, 18, 17, 5, 9, 22, 14, 16, 14, 9, 5, 22, 17, 17, 18, 17, 20, 22, 25, 21, 16, 21, 8, 6, 23, 9, 12, 9, 7, 19, 22, 16, 23, 22, 17, 23, 6, 11, 32, 17, 38, 8, 22, 26, 5, 6, 16, 20, 32, 14, 7, 18, 10, 7, 9, 22, 19, 7, 8, 26, 6, 10, 24, 31, 39, 11, 16, 5, 7, 7, 5, 47, 5, 17, 9, 25, 53, 11, 7, 5, 7, 8, 19, 21, 19, 11, 5, 32, 43, 33, 26, 15, 40, 8, 25, 26, 6, 18, 11, 9, 23, 31, 22, 10, 19, 44, 16, 37, 35, 23, 11, 9, 17, 12, 25, 8, 8, 29, 21, 33, 7, 16, 14, 16, 6, 21, 7, 31, 16, 53, 53, 13, 6, 15, 6, 7, 44, 7, 13, 5, 18, 44, 5, 22, 17, 20, 4, 5, 16, 5, 9, 5, 5, 9, 5, 14, 14, 5, 10, 10, 15, 10, 5, 17, 12, 22, 9, 12, 9, 9, 17, 10, 14, 9, 12, 9, 16, 22, 11, 12, 6, 13, 10, 53, 79, 7, 29, 11, 85, 8, 75, 18, 8, 40, 30, 27, 40, 34, 19, 17, 57, 10, 11, 8, 11, 20, 8, 16, 19, 57, 11, 6, 38, 9, 8, 20, 6, 38, 16, 95, 5, 17, 12, 12, 14, 21, 85, 6, 32, 10, 14, 6, 5, 6, 7, 7, 66, 33, 18, 9, 19, 10, 6, 8, 7, 4, 5, 22, 39, 5, 24, 12, 6, 23, 6, 11, 24, 35, 15, 15, 47, 17, 19, 7, 8, 22, 4, 44, 13, 17, 17, 22, 7, 10, 5, 17, 7, 17, 47, 14, 9, 21, 16, 8, 8, 7, 5, 26, 5, 47, 8, 5, 9, 7, 9, 25, 22, 21, 34, 25, 16, 19, 24, 11, 4, 32, 6, 8, 18, 16, 23, 23, 8, 24, 9, 75, 75, 75, 75, 14, 7, 13, 37, 9, 15, 27, 5, 79, 36, 16, 17, 9, 17, 17, 15, 9, 11, 5, 11, 7, 35, 10, 9, 8, 37, 12, 10, 9, 25, 12, 10, 23, 39, 8, 5, 19, 10, 9, 7, 6, 5, 7, 8, 31, 25, 22, 16, 22, 32, 23, 18, 75, 14, 4, 6, 41, 85, 23, 12, 14, 63, 24, 57, 18, 14, 7, 13, 8, 6, 30, 9, 14, 9, 15, 12, 57, 12, 17, 44, 17, 57, 15, 17, 16, 10, 18, 9, 5, 75, 73, 9, 11, 9, 35, 10, 5, 17, 9, 9, 9, 9, 9, 22, 17, 9, 35, 10, 17, 7, 9, 12, 7, 9, 19, 16, 21, 12, 8, 6, 23, 16, 6, 23, 13, 5, 17, 38, 38, 75, 75, 39, 39, 37, 6, 11, 18, 16, 75, 35, 31, 23, 9, 32, 18, 16, 25, 7, 22, 85, 14, 4, 17, 44, 40, 14, 57, 57]}],                        {\"barmode\": \"overlay\", \"legend\": {\"bgcolor\": \"#F5F6F9\", \"font\": {\"color\": \"#4D5663\"}}, \"paper_bgcolor\": \"#F5F6F9\", \"plot_bgcolor\": \"#F5F6F9\", \"template\": {\"data\": {\"bar\": [{\"error_x\": {\"color\": \"#2a3f5f\"}, \"error_y\": {\"color\": \"#2a3f5f\"}, \"marker\": {\"line\": {\"color\": \"#E5ECF6\", \"width\": 0.5}}, \"type\": \"bar\"}], \"barpolar\": [{\"marker\": {\"line\": {\"color\": \"#E5ECF6\", \"width\": 0.5}}, \"type\": \"barpolar\"}], \"carpet\": [{\"aaxis\": {\"endlinecolor\": \"#2a3f5f\", \"gridcolor\": \"white\", \"linecolor\": \"white\", \"minorgridcolor\": \"white\", \"startlinecolor\": \"#2a3f5f\"}, \"baxis\": {\"endlinecolor\": \"#2a3f5f\", \"gridcolor\": \"white\", \"linecolor\": \"white\", \"minorgridcolor\": \"white\", \"startlinecolor\": \"#2a3f5f\"}, \"type\": \"carpet\"}], \"choropleth\": [{\"colorbar\": {\"outlinewidth\": 0, \"ticks\": \"\"}, \"type\": \"choropleth\"}], \"contour\": [{\"colorbar\": {\"outlinewidth\": 0, \"ticks\": \"\"}, \"colorscale\": [[0.0, \"#0d0887\"], [0.1111111111111111, \"#46039f\"], [0.2222222222222222, \"#7201a8\"], [0.3333333333333333, \"#9c179e\"], [0.4444444444444444, \"#bd3786\"], [0.5555555555555556, \"#d8576b\"], [0.6666666666666666, \"#ed7953\"], [0.7777777777777778, \"#fb9f3a\"], [0.8888888888888888, \"#fdca26\"], [1.0, \"#f0f921\"]], \"type\": \"contour\"}], \"contourcarpet\": [{\"colorbar\": {\"outlinewidth\": 0, \"ticks\": \"\"}, \"type\": \"contourcarpet\"}], \"heatmap\": [{\"colorbar\": {\"outlinewidth\": 0, \"ticks\": \"\"}, \"colorscale\": [[0.0, \"#0d0887\"], [0.1111111111111111, \"#46039f\"], [0.2222222222222222, \"#7201a8\"], [0.3333333333333333, \"#9c179e\"], [0.4444444444444444, \"#bd3786\"], [0.5555555555555556, \"#d8576b\"], [0.6666666666666666, \"#ed7953\"], [0.7777777777777778, \"#fb9f3a\"], [0.8888888888888888, \"#fdca26\"], [1.0, \"#f0f921\"]], \"type\": \"heatmap\"}], \"heatmapgl\": [{\"colorbar\": {\"outlinewidth\": 0, \"ticks\": \"\"}, \"colorscale\": [[0.0, \"#0d0887\"], [0.1111111111111111, \"#46039f\"], [0.2222222222222222, \"#7201a8\"], [0.3333333333333333, \"#9c179e\"], [0.4444444444444444, \"#bd3786\"], [0.5555555555555556, \"#d8576b\"], [0.6666666666666666, \"#ed7953\"], [0.7777777777777778, \"#fb9f3a\"], [0.8888888888888888, \"#fdca26\"], [1.0, \"#f0f921\"]], \"type\": \"heatmapgl\"}], \"histogram\": [{\"marker\": {\"colorbar\": {\"outlinewidth\": 0, \"ticks\": \"\"}}, \"type\": \"histogram\"}], \"histogram2d\": [{\"colorbar\": {\"outlinewidth\": 0, \"ticks\": \"\"}, \"colorscale\": [[0.0, \"#0d0887\"], [0.1111111111111111, \"#46039f\"], [0.2222222222222222, \"#7201a8\"], [0.3333333333333333, \"#9c179e\"], [0.4444444444444444, \"#bd3786\"], [0.5555555555555556, \"#d8576b\"], [0.6666666666666666, \"#ed7953\"], [0.7777777777777778, \"#fb9f3a\"], [0.8888888888888888, \"#fdca26\"], [1.0, \"#f0f921\"]], \"type\": \"histogram2d\"}], \"histogram2dcontour\": [{\"colorbar\": {\"outlinewidth\": 0, \"ticks\": \"\"}, \"colorscale\": [[0.0, \"#0d0887\"], [0.1111111111111111, \"#46039f\"], [0.2222222222222222, \"#7201a8\"], [0.3333333333333333, \"#9c179e\"], [0.4444444444444444, \"#bd3786\"], [0.5555555555555556, \"#d8576b\"], [0.6666666666666666, \"#ed7953\"], [0.7777777777777778, \"#fb9f3a\"], [0.8888888888888888, \"#fdca26\"], [1.0, \"#f0f921\"]], \"type\": \"histogram2dcontour\"}], \"mesh3d\": [{\"colorbar\": {\"outlinewidth\": 0, \"ticks\": \"\"}, \"type\": \"mesh3d\"}], \"parcoords\": [{\"line\": {\"colorbar\": {\"outlinewidth\": 0, \"ticks\": \"\"}}, \"type\": \"parcoords\"}], \"pie\": [{\"automargin\": true, \"type\": \"pie\"}], \"scatter\": [{\"marker\": {\"colorbar\": {\"outlinewidth\": 0, \"ticks\": \"\"}}, \"type\": \"scatter\"}], \"scatter3d\": [{\"line\": {\"colorbar\": {\"outlinewidth\": 0, \"ticks\": \"\"}}, \"marker\": {\"colorbar\": {\"outlinewidth\": 0, \"ticks\": \"\"}}, \"type\": \"scatter3d\"}], \"scattercarpet\": [{\"marker\": {\"colorbar\": {\"outlinewidth\": 0, \"ticks\": \"\"}}, \"type\": \"scattercarpet\"}], \"scattergeo\": [{\"marker\": {\"colorbar\": {\"outlinewidth\": 0, \"ticks\": \"\"}}, \"type\": \"scattergeo\"}], \"scattergl\": [{\"marker\": {\"colorbar\": {\"outlinewidth\": 0, \"ticks\": \"\"}}, \"type\": \"scattergl\"}], \"scattermapbox\": [{\"marker\": {\"colorbar\": {\"outlinewidth\": 0, \"ticks\": \"\"}}, \"type\": \"scattermapbox\"}], \"scatterpolar\": [{\"marker\": {\"colorbar\": {\"outlinewidth\": 0, \"ticks\": \"\"}}, \"type\": \"scatterpolar\"}], \"scatterpolargl\": [{\"marker\": {\"colorbar\": {\"outlinewidth\": 0, \"ticks\": \"\"}}, \"type\": \"scatterpolargl\"}], \"scatterternary\": [{\"marker\": {\"colorbar\": {\"outlinewidth\": 0, \"ticks\": \"\"}}, \"type\": \"scatterternary\"}], \"surface\": [{\"colorbar\": {\"outlinewidth\": 0, \"ticks\": \"\"}, \"colorscale\": [[0.0, \"#0d0887\"], [0.1111111111111111, \"#46039f\"], [0.2222222222222222, \"#7201a8\"], [0.3333333333333333, \"#9c179e\"], [0.4444444444444444, \"#bd3786\"], [0.5555555555555556, \"#d8576b\"], [0.6666666666666666, \"#ed7953\"], [0.7777777777777778, \"#fb9f3a\"], [0.8888888888888888, \"#fdca26\"], [1.0, \"#f0f921\"]], \"type\": \"surface\"}], \"table\": [{\"cells\": {\"fill\": {\"color\": \"#EBF0F8\"}, \"line\": {\"color\": \"white\"}}, \"header\": {\"fill\": {\"color\": \"#C8D4E3\"}, \"line\": {\"color\": \"white\"}}, \"type\": \"table\"}]}, \"layout\": {\"annotationdefaults\": {\"arrowcolor\": \"#2a3f5f\", \"arrowhead\": 0, \"arrowwidth\": 1}, \"autotypenumbers\": \"strict\", \"coloraxis\": {\"colorbar\": {\"outlinewidth\": 0, \"ticks\": \"\"}}, \"colorscale\": {\"diverging\": [[0, \"#8e0152\"], [0.1, \"#c51b7d\"], [0.2, \"#de77ae\"], [0.3, \"#f1b6da\"], [0.4, \"#fde0ef\"], [0.5, \"#f7f7f7\"], [0.6, \"#e6f5d0\"], [0.7, \"#b8e186\"], [0.8, \"#7fbc41\"], [0.9, \"#4d9221\"], [1, \"#276419\"]], \"sequential\": [[0.0, \"#0d0887\"], [0.1111111111111111, \"#46039f\"], [0.2222222222222222, \"#7201a8\"], [0.3333333333333333, \"#9c179e\"], [0.4444444444444444, \"#bd3786\"], [0.5555555555555556, \"#d8576b\"], [0.6666666666666666, \"#ed7953\"], [0.7777777777777778, \"#fb9f3a\"], [0.8888888888888888, \"#fdca26\"], [1.0, \"#f0f921\"]], \"sequentialminus\": [[0.0, \"#0d0887\"], [0.1111111111111111, \"#46039f\"], [0.2222222222222222, \"#7201a8\"], [0.3333333333333333, \"#9c179e\"], [0.4444444444444444, \"#bd3786\"], [0.5555555555555556, \"#d8576b\"], [0.6666666666666666, \"#ed7953\"], [0.7777777777777778, \"#fb9f3a\"], [0.8888888888888888, \"#fdca26\"], [1.0, \"#f0f921\"]]}, \"colorway\": [\"#636efa\", \"#EF553B\", \"#00cc96\", \"#ab63fa\", \"#FFA15A\", \"#19d3f3\", \"#FF6692\", \"#B6E880\", \"#FF97FF\", \"#FECB52\"], \"font\": {\"color\": \"#2a3f5f\"}, \"geo\": {\"bgcolor\": \"white\", \"lakecolor\": \"white\", \"landcolor\": \"#E5ECF6\", \"showlakes\": true, \"showland\": true, \"subunitcolor\": \"white\"}, \"hoverlabel\": {\"align\": \"left\"}, \"hovermode\": \"closest\", \"mapbox\": {\"style\": \"light\"}, \"paper_bgcolor\": \"white\", \"plot_bgcolor\": \"#E5ECF6\", \"polar\": {\"angularaxis\": {\"gridcolor\": \"white\", \"linecolor\": \"white\", \"ticks\": \"\"}, \"bgcolor\": \"#E5ECF6\", \"radialaxis\": {\"gridcolor\": \"white\", \"linecolor\": \"white\", \"ticks\": \"\"}}, \"scene\": {\"xaxis\": {\"backgroundcolor\": \"#E5ECF6\", \"gridcolor\": \"white\", \"gridwidth\": 2, \"linecolor\": \"white\", \"showbackground\": true, \"ticks\": \"\", \"zerolinecolor\": \"white\"}, \"yaxis\": {\"backgroundcolor\": \"#E5ECF6\", \"gridcolor\": \"white\", \"gridwidth\": 2, \"linecolor\": \"white\", \"showbackground\": true, \"ticks\": \"\", \"zerolinecolor\": \"white\"}, \"zaxis\": {\"backgroundcolor\": \"#E5ECF6\", \"gridcolor\": \"white\", \"gridwidth\": 2, \"linecolor\": \"white\", \"showbackground\": true, \"ticks\": \"\", \"zerolinecolor\": \"white\"}}, \"shapedefaults\": {\"line\": {\"color\": \"#2a3f5f\"}}, \"ternary\": {\"aaxis\": {\"gridcolor\": \"white\", \"linecolor\": \"white\", \"ticks\": \"\"}, \"baxis\": {\"gridcolor\": \"white\", \"linecolor\": \"white\", \"ticks\": \"\"}, \"bgcolor\": \"#E5ECF6\", \"caxis\": {\"gridcolor\": \"white\", \"linecolor\": \"white\", \"ticks\": \"\"}}, \"title\": {\"x\": 0.05}, \"xaxis\": {\"automargin\": true, \"gridcolor\": \"white\", \"linecolor\": \"white\", \"ticks\": \"\", \"title\": {\"standoff\": 15}, \"zerolinecolor\": \"white\", \"zerolinewidth\": 2}, \"yaxis\": {\"automargin\": true, \"gridcolor\": \"white\", \"linecolor\": \"white\", \"ticks\": \"\", \"title\": {\"standoff\": 15}, \"zerolinecolor\": \"white\", \"zerolinewidth\": 2}}}, \"title\": {\"font\": {\"color\": \"#4D5663\"}, \"text\": \"\\u0420\\u0430\\u0441\\u043f\\u0440\\u0435\\u0434\\u0435\\u043b\\u0435\\u043d\\u0438\\u0435 \\u043a\\u0432\\u0430\\u0440\\u0442\\u0438\\u0440 \\u043f\\u043e \\u043a\\u043e\\u043b\\u0438\\u0447\\u0435\\u0441\\u0442\\u0432\\u0443 \\u044d\\u0442\\u0430\\u0436\\u0435\\u0439 \\u0432 \\u0434\\u043e\\u043c\\u0435\"}, \"xaxis\": {\"gridcolor\": \"#E1E5ED\", \"showgrid\": true, \"tickfont\": {\"color\": \"#4D5663\"}, \"title\": {\"font\": {\"color\": \"#4D5663\"}, \"text\": \"\\u042d\\u0442\\u0430\\u0436\\u0435\\u0439 \\u0432 \\u0434\\u043e\\u043c\\u0435\"}, \"zerolinecolor\": \"#E1E5ED\"}, \"yaxis\": {\"gridcolor\": \"#E1E5ED\", \"showgrid\": true, \"tickfont\": {\"color\": \"#4D5663\"}, \"title\": {\"font\": {\"color\": \"#4D5663\"}, \"text\": \"\\u041a\\u043e\\u043b\\u0438\\u0447\\u0435\\u0441\\u0442\\u0432\\u043e \\u043a\\u0432\\u0430\\u0440\\u0442\\u0438\\u0440\"}, \"zerolinecolor\": \"#E1E5ED\"}},                        {\"showLink\": true, \"linkText\": \"Export to plot.ly\", \"plotlyServerURL\": \"https://plot.ly\", \"responsive\": true}                    ).then(function(){\n",
       "                            \n",
       "var gd = document.getElementById('fabd79f6-9b15-4292-8ed6-3e7819dd9d3d');\n",
       "var x = new MutationObserver(function (mutations, observer) {{\n",
       "        var display = window.getComputedStyle(gd).display;\n",
       "        if (!display || display === 'none') {{\n",
       "            console.log([gd, 'removed!']);\n",
       "            Plotly.purge(gd);\n",
       "            observer.disconnect();\n",
       "        }}\n",
       "}});\n",
       "\n",
       "// Listen for the removal of the full notebook cells\n",
       "var notebookContainer = gd.closest('#notebook-container');\n",
       "if (notebookContainer) {{\n",
       "    x.observe(notebookContainer, {childList: true});\n",
       "}}\n",
       "\n",
       "// Listen for the clearing of the current output cell\n",
       "var outputEl = gd.closest('.output');\n",
       "if (outputEl) {{\n",
       "    x.observe(outputEl, {childList: true});\n",
       "}}\n",
       "\n",
       "                        })                };                });            </script>        </div>"
      ]
     },
     "metadata": {},
     "output_type": "display_data"
    },
    {
     "data": {
      "image/png": "[encoded data removed]",
      "text/plain": [
       "<Figure size 432x432 with 3 Axes>"
      ]
     },
     "metadata": {
      "needs_background": "light"
     },
     "output_type": "display_data"
    }
   ],
   "source": [
    "from plotly.offline import iplot\n",
    "import cufflinks as cf\n",
    "cf.go_offline()\n",
    "cf.set_config_file(offline=False, world_readable = True)\n",
    "\n",
    "plot = df3['Год постройки'].iplot(kind = 'hist', xTitle = 'Год постройки', yTitle = 'Количество квартир', title = 'Распределение квартир по году постройки дома', )\n",
    "plt.show()\n",
    "\n",
    "\n",
    "plot = df3[\"Этаж квартиры\"].iplot(kind = 'hist', xTitle = \"Этаж квартиры\", yTitle = 'Количество квартир', title = 'Распределение квартир по этажу')\n",
    "plt.show()\n",
    "\n",
    "plot = df3[\"Этажей в доме\"].iplot(kind = 'hist', xTitle = \"Этажей в доме\", yTitle = 'Количество квартир', title = 'Распределение квартир по количеству этажей в доме')\n",
    "plt.show()\n",
    "\n",
    "sns_plot = sns.jointplot(x = 'Этаж квартиры', y = 'Этажей в доме', data = df3[['Этаж квартиры', 'Этажей в доме']], kind = 'hex')\n",
    "plt.show()"
   ]
  },
  {
   "cell_type": "markdown",
   "metadata": {},
   "source": [
    "Напрашивается гипотеза, что большинство квартир находится в пяти-девятиэтажных домах 2005-2009 гг. постройки, на втром или третьем этаже. Докажем её с помощью методов pandas."
   ]
  },
  {
   "cell_type": "code",
   "execution_count": 194,
   "metadata": {},
   "outputs": [
    {
     "name": "stdout",
     "output_type": "stream",
     "text": [
      "2008 - самый частый год постройки\n",
      "9 - самое частое количество этажей в доме\n",
      "3 - самый частый этаж квартиры\n"
     ]
    }
   ],
   "source": [
    "from collections import Counter\n",
    "\n",
    "year = Counter(df3['Год постройки']).most_common(1)[0][0]\n",
    "print(str(year)+' - самый частый год постройки')\n",
    "\n",
    "floorst = Counter(df3['Этажей в доме']).most_common(1)[0][0]\n",
    "print(str(floorst)+' - самое частое количество этажей в доме')\n",
    "\n",
    "floormx = Counter(df3['Этаж квартиры']).most_common(1)[0][0]\n",
    "print(str(floormx)+' - самый частый этаж квартиры')"
   ]
  },
  {
   "cell_type": "markdown",
   "metadata": {},
   "source": [
    "Таким образом, самое частое предложение - это квартира на третьем этаже девятиэтажного дома 2008 г. постройки."
   ]
  },
  {
   "cell_type": "code",
   "execution_count": null,
   "metadata": {},
   "outputs": [],
   "source": []
  }
 ],
 "metadata": {
  "kernelspec": {
   "display_name": "Python 3",
   "language": "python",
   "name": "python3"
  },
  "language_info": {
   "codemirror_mode": {
    "name": "ipython",
    "version": 3
   },
   "file_extension": ".py",
   "mimetype": "text/x-python",
   "name": "python",
   "nbconvert_exporter": "python",
   "pygments_lexer": "ipython3",
   "version": "3.8.5"
  }
 },
 "nbformat": 4,
 "nbformat_minor": 5
}
