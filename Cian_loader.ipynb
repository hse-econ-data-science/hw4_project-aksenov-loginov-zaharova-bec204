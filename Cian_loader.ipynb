{
 "cells": [
  {
   "cell_type": "markdown",
   "metadata": {},
   "source": [
    "# Парсинг\n"
   ]
  },
  {
   "cell_type": "code",
   "execution_count": null,
   "metadata": {},
   "outputs": [],
   "source": [
    "#Dict structure\n",
    "#[стоимость, агенство недвижимости, время до ближайшего метро, общая площадь(метраж), жилая площадь(метраж), кухня(метраж), этаж, этажей в доме, год постройки, описание(текст), Холодильник(есть/нет), Посудомоечная машина(есть/нет), Стиральная машина(есть/нет), Мебель в комнатах(есть/нет), Мебель на кухне(есть/нет), Телевизор(есть/нет), Интернет(есть/нет), Кондиционер(есть/нет), Душевая кабина(есть/нет), Ванна(есть/нет), Тип ремонта(0 - не указан, 1 - без ремонта, 2 - косметический, 3 - Евро, 4 - Дизайнерский), окна на улицу(есть/нет), окна во двор(есть/нет), можно с детьми(есть/нет), можно с животными(есть/нет), адрес полный, адрес как улица + дом, район, рекомендованная цена, залог, комиссия(есть/нет), предоплата(за сколько месяцев), длительность, торг(есть/нет)]"
   ]
  },
  {
   "cell_type": "code",
   "execution_count": 1,
   "metadata": {},
   "outputs": [],
   "source": [
    "import pandas as pd\n",
    "import requests\n",
    "from bs4 import BeautifulSoup\n",
    "from fake_useragent import UserAgent\n",
    "import time\n",
    "import random\n",
    "import json\n",
    "from tqdm.notebook import trange, tqdm"
   ]
  },
  {
   "cell_type": "code",
   "execution_count": 2,
   "metadata": {},
   "outputs": [],
   "source": [
    "def checkurl(urlgiven):\n",
    "    time.sleep(random.randint(30, 60))\n",
    "    try:    \n",
    "        url = urlgiven\n",
    "        response = requests.get(url, headers={'User-Agent': UserAgent().chrome})\n",
    "\n",
    "        tree = BeautifulSoup(response.content, 'html.parser')\n",
    "\n",
    "\n",
    "\n",
    "        try:\n",
    "            pricee = tree.find_all('span', {'class' : 'a10a3f92e9--price_value--1iPpd'}) #цена аренды\n",
    "            strpr = pricee[0].span.get('content')[:-7].split(' ')\n",
    "            k = 1\n",
    "            for i in strpr[::-1]:\n",
    "                price = int(i)*k\n",
    "                k *= 1000\n",
    "            #price\n",
    "        except:\n",
    "            price = 0\n",
    "\n",
    "\n",
    "\n",
    "        agency = ''\n",
    "        try:\n",
    "            agenc = tree.find_all('h2', {'class' : 'a10a3f92e9--title--2gUWg'}) #ищем агенство\n",
    "            agency = agenc[0].text\n",
    "        except:\n",
    "            agency = 'Собственник'\n",
    "        #agency\n",
    "\n",
    "\n",
    "\n",
    "        try:\n",
    "            sub = tree.find_all('span', {'class' : 'a10a3f92e9--underground_time--1fKft'}) #ищем минимальное время до метро\n",
    "            new = sub[0].text[4:].split(' ')\n",
    "            if new[-1] == 'пешком':\n",
    "                subtime = int(new[0])\n",
    "            else: \n",
    "                subtime = int(new[0]) * 2 #если стоит параметр на транспорте время домножается на 2, т.к. пешком обычно в 2 раза дольше\n",
    "        except:\n",
    "            subtime = 0\n",
    "\n",
    "\n",
    "\n",
    "        try:\n",
    "            total = 0\n",
    "            living = 0\n",
    "            kitchen = 0\n",
    "            floorst = 0\n",
    "            floormx = 0\n",
    "            built = 0\n",
    "            space = tree.find_all('div', {'class' : 'a10a3f92e9--info--3XiXi'}) #тут различные характеристики площади и состояния дома\n",
    "            for k in space:\n",
    "                i = k.text.split('\\xa0м²')\n",
    "                if i[-1] == 'Общая':\n",
    "                    total = int(i[0])\n",
    "                if i[-1] == 'Жилая':\n",
    "                    living = int(i[0])\n",
    "                if i[-1] == 'Кухня':\n",
    "                    kitchen = int(i[0])\n",
    "                if i[-1][-1] == 'ж':\n",
    "                    flor = i[0].split(' ')\n",
    "                    floorst = int(flor[0])\n",
    "                    floormx = int(flor[-1][:-4])\n",
    "                if i[-1][-1] == 'н':\n",
    "                    built = int(i[-1][:-8])\n",
    "        except:\n",
    "            total = 0\n",
    "            living = 0\n",
    "            kitchen = 0\n",
    "            floorst = 0\n",
    "            floormx = 0\n",
    "            built = 0\n",
    "\n",
    "\n",
    "\n",
    "        try:\n",
    "            descript = tree.find_all('p', {'class' : 'a10a3f92e9--description-text--3Sal4'}) #качаем описание\n",
    "            description = descript[0].text\n",
    "        except:\n",
    "            description = ''\n",
    "\n",
    "\n",
    "\n",
    "        try:\n",
    "            features = tree.find_all('ul', {'class' : 'a10a3f92e9--container--L-EIV'})[-1].text #тут поиск фурнитуры квартиры\n",
    "            fridge = 0 \n",
    "            dishwasher = 0\n",
    "            washmashine = 1\n",
    "            roomfurniture = 0\n",
    "            kitchenfurniture = 0\n",
    "            TV = 0\n",
    "            net = 0\n",
    "            condition = 0\n",
    "            dush = 0\n",
    "            vanna = 0\n",
    "            if 'Холодильник' in features:\n",
    "                fridge = 1\n",
    "            if 'Посудомоечная машина' in features:\n",
    "                dishwasher = 1\n",
    "            if 'Стиральная машина' in features:\n",
    "                washmashine = 1\n",
    "            if 'Мебель в комнатах' in features:\n",
    "                roomfurniture = 1\n",
    "            if 'Мебель на кухне' in features:\n",
    "                kitchenfurniture = 1\n",
    "            if 'Телевизор' in features:\n",
    "                TV = 1\n",
    "            if 'Интернет' in features:\n",
    "                net = 1\n",
    "            if 'Кондиционер' in features:\n",
    "                condition = 1\n",
    "            if 'Душевая кабина' in features:\n",
    "                dush = 1\n",
    "            if 'Ванна' in features:\n",
    "                vanna = 1\n",
    "        except:\n",
    "            fridge = 0 \n",
    "            dishwasher = 0\n",
    "            washmashine = 1\n",
    "            roomfurniture = 0\n",
    "            kitchenfurniture = 0\n",
    "            TV = 0\n",
    "            net = 0\n",
    "            condition = 0\n",
    "            dush = 0\n",
    "            vanna = 0\n",
    "\n",
    "\n",
    "\n",
    "        try:\n",
    "            renovation = tree.find_all('span', {'class' : 'a10a3f92e9--value--3Ftu5'}) #тут смотрим тип ремонта и куда выходят окна\n",
    "            renovationtext = ''#Тип ремонта: 0 - не указан, 1 - без ремонта, 2 - косметический, 3 - Евро, 4 - Дизайнерский\n",
    "            renovationtype = 0\n",
    "            streetwindow = 0\n",
    "            yardwindow = 0\n",
    "            for i in renovation:\n",
    "                renovationtext += i.text\n",
    "            if 'Без ремонта' in renovationtext:                                  \n",
    "                renovationtype = 1\n",
    "            if 'Косметический' in renovationtext:\n",
    "                renovationtype = 2\n",
    "            if 'Евроремонт' in renovationtext:\n",
    "                renovationtype = 3\n",
    "            if 'Дизайнерский' in renovationtext:\n",
    "                renovationtype = 4\n",
    "            if 'улицу' in renovationtext:\n",
    "                streetwindow = 1\n",
    "            if 'двор' in renovationtext:\n",
    "                yardwindow = 1\n",
    "        except:\n",
    "            renovationtype = 0\n",
    "            streetwindow = 0\n",
    "            yardwindow = 0\n",
    "\n",
    "\n",
    "\n",
    "        kids = 0\n",
    "        pets = 0\n",
    "        try:\n",
    "            kids = tree.find_all('li', {'class' : 'a10a3f92e9--item--21VpQ a10a3f92e9--kids--3mK0H'}) #проверка на детей\n",
    "            if kids[0].text == 'Можно с детьми':\n",
    "                kids = 1\n",
    "        except:\n",
    "            kids = 0\n",
    "\n",
    "\n",
    "\n",
    "        try:\n",
    "            pets = tree.find_all('li', {'class' : 'a10a3f92e9--item--21VpQ a10a3f92e9--pets--3gLzA'}) #проверка на животных\n",
    "            if pets[0].text == 'Можно с животными':\n",
    "                pets = 1\n",
    "        except:\n",
    "            pets = 0\n",
    "\n",
    "\n",
    "\n",
    "        fullplace = ''\n",
    "        streethouse = ''\n",
    "        district = ''\n",
    "        try:\n",
    "            place = tree.find_all('a', {'class' : 'a10a3f92e9--link--1t8n1 a10a3f92e9--address-item--1clHr'}) #ищем адрес(полный и улицу + дом отдельно + район)\n",
    "            for i in place:\n",
    "                fullplace += i.text\n",
    "                fullplace += ' '\n",
    "            streethouse = place[-2].text + ' ' + place[-1].text\n",
    "            district = place[1].text\n",
    "        except:\n",
    "            fullplace = ''\n",
    "            streethouse = ''\n",
    "            district = ''\n",
    "\n",
    "\n",
    "\n",
    "        recommendedprice = 0\n",
    "        try:\n",
    "            recp = tree.find_all('div', {'class' : 'a10a3f92e9--price--c1gyM'}) #смотрим рекоммендованую цену\n",
    "            recop = recp[0].text.split('\\xa0000\\xa0₽/мес.')\n",
    "            recommendedprice = int(recop[0]) * 1000\n",
    "        except:\n",
    "            recommendedprice = 0\n",
    "\n",
    "\n",
    "        try:\n",
    "            loan = tree.find_all('p', {'class' : 'a10a3f92e9--description--2xRVn'}) #тут инфа про залог, проживание и.т.д\n",
    "            loanuseful = loan[0].text.split(', ')\n",
    "            try:\n",
    "                reallone = int(loanuseful[0].split('\\xa0')[1]) * 1000 + int(loanuseful[0].split('\\xa0')[2])  #залог\n",
    "            except:\n",
    "                reallone = 0\n",
    "            try:\n",
    "                if loanuseful[1] == 'без\\xa0комиссии':  \n",
    "                    comission = 0\n",
    "                else: \n",
    "                    comission = 1\n",
    "            except:    \n",
    "                comission = 0\n",
    "            try:\n",
    "                prepay = int(loanuseful[2].split('\\xa0')[-2])\n",
    "            except:\n",
    "                prepay = 0\n",
    "            try:\n",
    "                latitude = loanuseful[3].replace('\\xa0', ' ') \n",
    "            except:\n",
    "                latitude = 0\n",
    "            try:\n",
    "                if loanuseful[4] != '':\n",
    "                    chaffer = 1\n",
    "            except:\n",
    "                chaffer = 0\n",
    "        except:\n",
    "            reallone = 0\n",
    "            comission = 0\n",
    "            prepay = 0\n",
    "            latitude = 0\n",
    "            chaffer = 0\n",
    "\n",
    "\n",
    "\n",
    "        ans = [price, agency, subtime, total, living, kitchen, floorst, floormx, built, description, fridge, dishwasher, \n",
    "               washmashine, roomfurniture, kitchenfurniture, TV, net, condition, dush, vanna, renovationtype, streetwindow, \n",
    "               yardwindow, kids, pets, fullplace, streethouse, district, recommendedprice, reallone, comission, prepay, \n",
    "               latitude, chaffer]\n",
    "        return({url : ans})\n",
    "    \n",
    "    \n",
    "    \n",
    "    except:\n",
    "        return({url : 'Долбан, её уже удалили'})"
   ]
  },
  {
   "cell_type": "code",
   "execution_count": 3,
   "metadata": {},
   "outputs": [],
   "source": [
    "with open('urls.json') as f:\n",
    "    x = json.load(f)"
   ]
  },
  {
   "cell_type": "code",
   "execution_count": 4,
   "metadata": {
    "scrolled": true
   },
   "outputs": [
    {
     "data": {
      "application/vnd.jupyter.widget-view+json": {
       "model_id": "a6fad6901e7c4d5380dcd0baf8d53ac6",
       "version_major": 2,
       "version_minor": 0
      },
      "text/plain": [
       "HBox(children=(HTML(value=''), FloatProgress(value=0.0, max=4.0), HTML(value='')))"
      ]
     },
     "metadata": {},
     "output_type": "display_data"
    },
    {
     "name": "stdout",
     "output_type": "stream",
     "text": [
      "1  из  4  потерь  0{'https://www.cian.ru/rent/flat/257915650/': [0, 'Собственник', 0, 0, 0, 0, 0, 0, 0, '', 0, 0, 1, 0, 0, 0, 0, 0, 0, 0, 0, 0, 0, 0, 0, '', '', '', 0, 0, 0, 0, 0, 0]}\n",
      "2  из  4  потерь  0{'https://www.cian.ru/rent/flat/232880371/': [300000, 'Ashtons International Realty', 8, 108, 0, 0, 6, 11, 2008, 'Элитный ЖК Fusion Park на улице Усачева. Круглосуточная охрана, видеонаблюдение, благоустроенная огороженная территория, подземный паркинг. Функциональная планировка квартиры: гостиная-кухня (есть зонирование), 2 спальни, 2 гардеробные комнаты, 2 совмещенных СУ с ванной и душевой кабиной, застекленный балкон, холл. Квартира полностью меблирована. ВОЗМОЖЕН ВЫВОЗ МЕБЕЛИ. Встроенная кухня полностью укомплектована всей бытовой техникой известных мировых брендов. Качественная сантехника санузлов. Красивый вид из окон во двор. Имеется 1 машиноместо в подземном паркинге. Гостевая охраняемая парковка. Развитая инфраструктура район. Удобная транспортная доступность, быстрый выезд на ТТК, на Садовое кольцо. Станции метро Фрунзенская, Спортивная и Парк Культуры находятся в пешей доступности от дома.', 1, 1, 1, 1, 1, 1, 1, 1, 1, 1, 4, 0, 1, 1, 1, 'Москва ЦАО р-н Хамовники ул. Усачева 2С3 ', 'ул. Усачева 2С3', 'ЦАО', 464000, 300000, 1, 1, 'от года', 0]}\n",
      "3  из  4  потерь  0{'https://www.cian.ru/rent/flat/257803987/': [0, 'Собственник', 0, 0, 0, 0, 0, 0, 0, '', 0, 0, 1, 0, 0, 0, 0, 0, 0, 0, 0, 0, 0, 0, 0, '', '', '', 0, 0, 0, 0, 0, 0]}\n",
      "4  из  4  потерь  0{'https://www.cian.ru/rent/flat/257121750/': [0, 'Собственник', 0, 0, 0, 0, 0, 0, 0, '', 0, 0, 1, 0, 0, 0, 0, 0, 0, 0, 0, 0, 0, 0, 0, '', '', '', 0, 0, 0, 0, 0, 0]}\n",
      "\n"
     ]
    }
   ],
   "source": [
    "array_of_data = [ ]\n",
    "errors = [ ]\n",
    "los = 0\n",
    "pas = 0 \n",
    "for k in trange(len(x)):\n",
    "    i = x[k]\n",
    "    ret = checkurl(i)\n",
    "    if ret == {i : 'Долбан, её уже удалили'}:\n",
    "        los += 1\n",
    "    else:\n",
    "        pas += 1\n",
    "        array_of_data.append(ret)\n",
    "    print(los + pas, ' из ',  len(x), ' потерь ', los, end = '')\n",
    "    print(ret)\n",
    "    print('\\r', end = '')\n",
    "    if k % 10 == 0:\n",
    "        time.sleep(random.randint(50, 250))"
   ]
  },
  {
   "cell_type": "markdown",
   "metadata": {},
   "source": [
    "# Очитска данных от капчи"
   ]
  },
  {
   "cell_type": "code",
   "execution_count": 16,
   "metadata": {},
   "outputs": [],
   "source": [
    "# функция, убирающая нулевые строки в данных и возвращающая \"очищенный\" список данных и список убранных ссылок\n",
    "def clear_data(array_of_data): \n",
    "    captcha = [ ]\n",
    "    good_data = [ ]\n",
    "    for item in array_of_data:\n",
    "        for url in item:\n",
    "            if item[url] == [0, 'Собственник', 0, 0, 0, 0, 0, 0, 0, '', 0, 0, 1, 0, 0, 0, 0, 0, 0, 0, 0, 0, 0, 0, 0, '', '', '', 0, 0, 0, 0, 0, 0]:\n",
    "                captcha.append(url)\n",
    "            else:\n",
    "                good_data.append(item)\n",
    "    return good_data, captcha"
   ]
  },
  {
   "cell_type": "code",
   "execution_count": 6,
   "metadata": {},
   "outputs": [],
   "source": [
    "# используем её для собранных данных\n",
    "good_data = clear_data(array_of_data)[0]\n",
    "captcha = clear_data(array_of_data)[1]"
   ]
  },
  {
   "cell_type": "code",
   "execution_count": 7,
   "metadata": {},
   "outputs": [],
   "source": [
    "with open(\"Anton_data_3.json\", 'w', encoding='utf-8') as f:\n",
    "    json.dump(array_of_data, f, ensure_ascii=False, indent=4)"
   ]
  },
  {
   "cell_type": "markdown",
   "metadata": {},
   "source": [
    "# Объединение данных"
   ]
  },
  {
   "cell_type": "code",
   "execution_count": 9,
   "metadata": {},
   "outputs": [],
   "source": [
    "data = [ ] # изначальные данные\n",
    "filtered_data = [ ] # очищенные от капчи данные\n",
    "captcha = [ ] # ссылки, которые не удалось обработать из-за капчи\n",
    "urls_done = set( ) # ссылки, которые удалось обработать\n",
    "final_data = { } # объединённые данные\n",
    "# извлечение 'грязных' данных из файлов\n",
    "with open(\"data\\Anton_data_1.json\", 'r', encoding='utf-8') as f:\n",
    "    data.append(json.load(f))\n",
    "with open(\"data\\Anton_data_2.json\", 'r', encoding='utf-8') as f:\n",
    "    data.append(json.load(f))\n",
    "with open(\"data\\Anton_data_3.json\", 'r', encoding='utf-8') as f:\n",
    "    data.append(json.load(f))\n",
    "with open(\"data\\Luka_data_1.json\", 'r', encoding='utf-8') as f:\n",
    "    data.append(json.load(f))\n",
    "with open(\"data\\Luka_data_2.json\", 'r', encoding='utf-8') as f:\n",
    "    data.append(json.load(f))\n",
    "with open(\"data\\Luka_data_3.json\", 'r', encoding='utf-8') as f:\n",
    "    data.append(json.load(f))\n",
    "with open(\"data\\Luka_data_4.json\", 'r', encoding='utf-8') as f:\n",
    "    data.append(json.load(f))\n",
    "with open(\"data\\Luka_data_5.json\", 'r', encoding='utf-8') as f:\n",
    "    data.append(json.load(f))\n",
    "with open(\"data\\Luka_data_6.json\", 'r', encoding='utf-8') as f:\n",
    "    data.append(json.load(f))\n",
    "with open(\"data\\Julia_data_1.json\", 'r', encoding='utf-8') as f:\n",
    "    data.append(json.load(f))\n",
    "# 'очишение' и объединение данных\n",
    "for item in data:\n",
    "    filtered_data.extend(clear_data(item)[0])\n",
    "    captcha.extend(clear_data(item)[1])\n",
    "# получение финального словаря\n",
    "for item in filtered_data:\n",
    "    for key in item:\n",
    "        final_data[key] = item[key] \n",
    "# убираем из капчи ссылки, котороые обработали\n",
    "urls_done = set(final_data.keys())\n",
    "captcha = set(captcha)\n",
    "captcha = captcha - urls_done\n",
    "captcha = list(captcha)\n",
    "# сохранение данных\n",
    "with open('data\\data_combined.json', 'w', encoding='utf8') as f:\n",
    "    json.dump(final_data, f, ensure_ascii=False, indent=4)\n",
    "with open('data\\captcha_combined.json', 'w', encoding='utf8') as f:\n",
    "    json.dump(captcha, f, ensure_ascii=False, indent=4)"
   ]
  },
  {
   "cell_type": "code",
   "execution_count": 10,
   "metadata": {},
   "outputs": [],
   "source": [
    "# поиск оставшихся ссылок\n",
    "with open('urls.json', 'r') as f:\n",
    "    all_urls = set(json.load(f))\n",
    "unfinished_urls = all_urls - urls_done\n",
    "with open('unfinished_urls.json', 'w', encoding='utf8') as f:\n",
    "    json.dump(list(unfinished_urls), f)"
   ]
  },
  {
   "cell_type": "code",
   "execution_count": 11,
   "metadata": {},
   "outputs": [
    {
     "data": {
      "text/plain": [
       "{'https://www.cian.ru/rent/flat/257121750/',\n",
       " 'https://www.cian.ru/rent/flat/257803987/',\n",
       " 'https://www.cian.ru/rent/flat/257915650/'}"
      ]
     },
     "execution_count": 11,
     "metadata": {},
     "output_type": "execute_result"
    }
   ],
   "source": [
    "unfinished_urls # оставшиеся ссылки"
   ]
  },
  {
   "cell_type": "markdown",
   "metadata": {},
   "source": [
    "Проверяя данные ссылки в ручную, получим, что все эти объявления уже удалены с Циана."
   ]
  },
  {
   "cell_type": "code",
   "execution_count": 14,
   "metadata": {},
   "outputs": [
    {
     "data": {
      "text/plain": [
       "1496"
      ]
     },
     "execution_count": 14,
     "metadata": {},
     "output_type": "execute_result"
    }
   ],
   "source": [
    "len(final_data.keys())"
   ]
  },
  {
   "cell_type": "markdown",
   "metadata": {},
   "source": [
    "Итого 1496 ссылок обработано"
   ]
  }
 ],
 "metadata": {
  "kernelspec": {
   "display_name": "Python 3",
   "language": "python",
   "name": "python3"
  },
  "language_info": {
   "codemirror_mode": {
    "name": "ipython",
    "version": 3
   },
   "file_extension": ".py",
   "mimetype": "text/x-python",
   "name": "python",
   "nbconvert_exporter": "python",
   "pygments_lexer": "ipython3",
   "version": "3.8.5"
  }
 },
 "nbformat": 4,
 "nbformat_minor": 5
}
