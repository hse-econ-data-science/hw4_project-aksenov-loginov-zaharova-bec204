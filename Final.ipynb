{
 "cells": [
  {
   "cell_type": "markdown",
<<<<<<< HEAD
<<<<<<< HEAD
   "id": "d102a34d",
=======
   "id": "5a542cf8",
>>>>>>> parent of a440497 (Merge branch 'main' of https://github.com/hse-econ-data-science/hw4_project-aksenov-loginov-zaharova-bec204 into main)
=======
   "id": "5a542cf8",
>>>>>>> parent of a440497 (Merge branch 'main' of https://github.com/hse-econ-data-science/hw4_project-aksenov-loginov-zaharova-bec204 into main)
   "metadata": {},
   "source": [
    "# Шаг 1. Парсинг"
   ]
  },
  {
   "cell_type": "markdown",
<<<<<<< HEAD
<<<<<<< HEAD
   "id": "159a1ad2",
=======
   "id": "10e1fc2b",
>>>>>>> parent of a440497 (Merge branch 'main' of https://github.com/hse-econ-data-science/hw4_project-aksenov-loginov-zaharova-bec204 into main)
=======
   "id": "10e1fc2b",
>>>>>>> parent of a440497 (Merge branch 'main' of https://github.com/hse-econ-data-science/hw4_project-aksenov-loginov-zaharova-bec204 into main)
   "metadata": {},
   "source": [
    "Импортируем все нужные нам библиотеки:"
   ]
  },
  {
   "cell_type": "code",
   "execution_count": 5,
<<<<<<< HEAD
<<<<<<< HEAD
   "id": "fe1aaf8a",
=======
   "id": "3e72197b",
>>>>>>> parent of a440497 (Merge branch 'main' of https://github.com/hse-econ-data-science/hw4_project-aksenov-loginov-zaharova-bec204 into main)
=======
   "id": "3e72197b",
>>>>>>> parent of a440497 (Merge branch 'main' of https://github.com/hse-econ-data-science/hw4_project-aksenov-loginov-zaharova-bec204 into main)
   "metadata": {},
   "outputs": [
    {
     "ename": "ModuleNotFoundError",
     "evalue": "No module named 'tqdm'",
     "output_type": "error",
     "traceback": [
      "\u001b[1;31m---------------------------------------------------------------------------\u001b[0m",
      "\u001b[1;31mModuleNotFoundError\u001b[0m                       Traceback (most recent call last)",
      "\u001b[1;32m<ipython-input-5-1d169173bb2d>\u001b[0m in \u001b[0;36m<module>\u001b[1;34m\u001b[0m\n\u001b[0;32m      3\u001b[0m \u001b[1;32mfrom\u001b[0m \u001b[0mbs4\u001b[0m \u001b[1;32mimport\u001b[0m \u001b[0mBeautifulSoup\u001b[0m\u001b[1;33m\u001b[0m\u001b[1;33m\u001b[0m\u001b[0m\n\u001b[0;32m      4\u001b[0m \u001b[1;32mfrom\u001b[0m \u001b[0mfake_useragent\u001b[0m \u001b[1;32mimport\u001b[0m \u001b[0mUserAgent\u001b[0m\u001b[1;33m\u001b[0m\u001b[1;33m\u001b[0m\u001b[0m\n\u001b[1;32m----> 5\u001b[1;33m \u001b[1;32mfrom\u001b[0m \u001b[0mtqdm\u001b[0m\u001b[1;33m.\u001b[0m\u001b[0mnotebook\u001b[0m \u001b[1;32mimport\u001b[0m \u001b[0mtrange\u001b[0m\u001b[1;33m,\u001b[0m \u001b[0mtqdm\u001b[0m\u001b[1;33m\u001b[0m\u001b[1;33m\u001b[0m\u001b[0m\n\u001b[0m\u001b[0;32m      6\u001b[0m \u001b[1;32mimport\u001b[0m \u001b[0mtime\u001b[0m\u001b[1;33m\u001b[0m\u001b[1;33m\u001b[0m\u001b[0m\n\u001b[0;32m      7\u001b[0m \u001b[1;32mimport\u001b[0m \u001b[0mrandom\u001b[0m\u001b[1;33m\u001b[0m\u001b[1;33m\u001b[0m\u001b[0m\n",
      "\u001b[1;31mModuleNotFoundError\u001b[0m: No module named 'tqdm'"
     ]
    }
   ],
   "source": [
    "import pandas as pd\n",
    "import requests\n",
    "from bs4 import BeautifulSoup\n",
    "from fake_useragent import UserAgent\n",
    "from tqdm.notebook import trange, tqdm\n",
    "import time\n",
    "import random\n",
    "import json"
   ]
  },
  {
   "cell_type": "markdown",
<<<<<<< HEAD
<<<<<<< HEAD
   "id": "7f316f30",
=======
   "id": "bfcc9598",
>>>>>>> parent of a440497 (Merge branch 'main' of https://github.com/hse-econ-data-science/hw4_project-aksenov-loginov-zaharova-bec204 into main)
=======
   "id": "bfcc9598",
>>>>>>> parent of a440497 (Merge branch 'main' of https://github.com/hse-econ-data-science/hw4_project-aksenov-loginov-zaharova-bec204 into main)
   "metadata": {},
   "source": [
    "Мы будем парсить Циан, в частности, 3-комнатные квартиры в Москве, поэтому напишем функцию, которая будет собирать соответсвующие ссылки с сайта Циана:"
   ]
  },
  {
   "cell_type": "code",
   "execution_count": null,
<<<<<<< HEAD
<<<<<<< HEAD
   "id": "c5a823f3",
=======
   "id": "b4c74150",
>>>>>>> parent of a440497 (Merge branch 'main' of https://github.com/hse-econ-data-science/hw4_project-aksenov-loginov-zaharova-bec204 into main)
=======
   "id": "b4c74150",
>>>>>>> parent of a440497 (Merge branch 'main' of https://github.com/hse-econ-data-science/hw4_project-aksenov-loginov-zaharova-bec204 into main)
   "metadata": {},
   "outputs": [],
   "source": [
    "def url_search(iterable):\n",
    "    urls = []\n",
    "    errors = []\n",
    "    for i in tqdm(sorted(iterable, key=lambda w: random.random())):\n",
    "        try:\n",
    "            url = f'https://www.cian.ru/cat.php?deal_type=rent&engine_version=2&offer_type=flat&p={i}&region=1&room3=1&type=4'\n",
    "            response = requests.get(url, headers={'User-Agent': UserAgent().chrome})\n",
    "            soup = BeautifulSoup(response.content)\n",
    "            print(response)\n",
    "            for item in soup.find('div', {'data-name': 'Offers'}).find_all('a'):\n",
    "                url = item.get('href')\n",
    "                if url != None and 'https://www.cian.ru/rent/flat/' in url:\n",
    "                    urls.append(url)\n",
    "            if i in errors:\n",
    "                errors.remove(i)\n",
    "            time.sleep(random.randint(1, 3))\n",
    "        except:\n",
    "            print('error')\n",
    "            errors.append(i)\n",
    "    if len(errors) > 0:\n",
    "        return urls.extend(url_search(errors)) \n",
    "    else:\n",
    "        return urls"
   ]
  },
  {
   "cell_type": "markdown",
<<<<<<< HEAD
<<<<<<< HEAD
   "id": "20bd39ff",
=======
   "id": "2f2b7130",
>>>>>>> parent of a440497 (Merge branch 'main' of https://github.com/hse-econ-data-science/hw4_project-aksenov-loginov-zaharova-bec204 into main)
=======
   "id": "2f2b7130",
>>>>>>> parent of a440497 (Merge branch 'main' of https://github.com/hse-econ-data-science/hw4_project-aksenov-loginov-zaharova-bec204 into main)
   "metadata": {},
   "source": [
    "Применим её и получим нужные нам ссылки, которые сохраним в файл. Мы не будем парсить все 3-комнатные квартиры, а ограничимся лишь первыми 1500, которые расположены на первых 54 страницах:"
   ]
  },
  {
   "cell_type": "code",
   "execution_count": null,
<<<<<<< HEAD
<<<<<<< HEAD
   "id": "922142bb",
=======
   "id": "f7093768",
>>>>>>> parent of a440497 (Merge branch 'main' of https://github.com/hse-econ-data-science/hw4_project-aksenov-loginov-zaharova-bec204 into main)
=======
   "id": "f7093768",
>>>>>>> parent of a440497 (Merge branch 'main' of https://github.com/hse-econ-data-science/hw4_project-aksenov-loginov-zaharova-bec204 into main)
   "metadata": {},
   "outputs": [],
   "source": [
    "urls = url_search(range(1, 55))\n",
    "with open('urls.json', 'w', encoding='utf8') as f:\n",
    "    json.dump(urls, f)"
   ]
  },
  {
   "cell_type": "markdown",
<<<<<<< HEAD
<<<<<<< HEAD
   "id": "2814f218",
=======
   "id": "efec34be",
>>>>>>> parent of a440497 (Merge branch 'main' of https://github.com/hse-econ-data-science/hw4_project-aksenov-loginov-zaharova-bec204 into main)
=======
   "id": "efec34be",
>>>>>>> parent of a440497 (Merge branch 'main' of https://github.com/hse-econ-data-science/hw4_project-aksenov-loginov-zaharova-bec204 into main)
   "metadata": {},
   "source": [
    "Теперь необходимо запасрить полученные ссылки, для чего напишем функцию, которая будет собирать нужные нам данные по заданной ссылке:"
   ]
  },
  {
   "cell_type": "markdown",
<<<<<<< HEAD
<<<<<<< HEAD
   "id": "33c5e9e7",
=======
   "id": "10bb3d1c",
>>>>>>> parent of a440497 (Merge branch 'main' of https://github.com/hse-econ-data-science/hw4_project-aksenov-loginov-zaharova-bec204 into main)
=======
   "id": "10bb3d1c",
>>>>>>> parent of a440497 (Merge branch 'main' of https://github.com/hse-econ-data-science/hw4_project-aksenov-loginov-zaharova-bec204 into main)
   "metadata": {},
   "source": [
    "Структура искомого словаря:\n",
    "\n",
    "[стоимость, агенство недвижимости, время до ближайшего метро, общая площадь(метраж), жилая площадь(метраж), кухня(метраж), этаж, этажей в доме, год постройки, описание(текст), Холодильник(есть/нет), Посудомоечная машина(есть/нет), Стиральная машина(есть/нет), Мебель в комнатах(есть/нет), Мебель на кухне(есть/нет), Телевизор(есть/нет), Интернет(есть/нет), Кондиционер(есть/нет), Душевая кабина(есть/нет), Ванна(есть/нет), Тип ремонта(0 - не указан, 1 - без ремонта, 2 - косметический, 3 - Евро, 4 - Дизайнерский), окна на улицу(есть/нет), окна во двор(есть/нет), можно с детьми(есть/нет), можно с животными(есть/нет), адрес полный, адрес как улица + дом, район, рекомендованная цена, залог, комиссия(есть/нет), предоплата(за сколько месяцев), длительность, торг(есть/нет)]"
   ]
  },
  {
   "cell_type": "code",
   "execution_count": null,
<<<<<<< HEAD
<<<<<<< HEAD
   "id": "df2d1a93",
=======
   "id": "00204ca2",
>>>>>>> parent of a440497 (Merge branch 'main' of https://github.com/hse-econ-data-science/hw4_project-aksenov-loginov-zaharova-bec204 into main)
=======
   "id": "00204ca2",
>>>>>>> parent of a440497 (Merge branch 'main' of https://github.com/hse-econ-data-science/hw4_project-aksenov-loginov-zaharova-bec204 into main)
   "metadata": {},
   "outputs": [],
   "source": [
    "def checkurl(urlgiven):\n",
    "    time.sleep(random.randint(30, 60))\n",
    "    try:    \n",
    "        url = urlgiven\n",
    "        response = requests.get(url, headers={'User-Agent': UserAgent().chrome})\n",
    "\n",
    "        tree = BeautifulSoup(response.content, 'html.parser')\n",
    "\n",
    "\n",
    "\n",
    "        try:\n",
    "            pricee = tree.find_all('span', {'class' : 'a10a3f92e9--price_value--1iPpd'}) #цена аренды\n",
    "            strpr = pricee[0].span.get('content')[:-7].split(' ')\n",
    "            k = 1\n",
    "            for i in strpr[::-1]:\n",
    "                price = int(i)*k\n",
    "                k *= 1000\n",
    "            #price\n",
    "        except:\n",
    "            price = 0\n",
    "\n",
    "\n",
    "\n",
    "        agency = ''\n",
    "        try:\n",
    "            agenc = tree.find_all('h2', {'class' : 'a10a3f92e9--title--2gUWg'}) #ищем агенство\n",
    "            agency = agenc[0].text\n",
    "        except:\n",
    "            agency = 'Собственник'\n",
    "        #agency\n",
    "\n",
    "\n",
    "\n",
    "        try:\n",
    "            sub = tree.find_all('span', {'class' : 'a10a3f92e9--underground_time--1fKft'}) #ищем минимальное время до метро\n",
    "            new = sub[0].text[4:].split(' ')\n",
    "            if new[-1] == 'пешком':\n",
    "                subtime = int(new[0])\n",
    "            else: \n",
    "                subtime = int(new[0]) * 2 #если стоит параметр на транспорте время домножается на 2, т.к. пешком обычно в 2 раза дольше\n",
    "        except:\n",
    "            subtime = 0\n",
    "\n",
    "\n",
    "\n",
    "        try:\n",
    "            total = 0\n",
    "            living = 0\n",
    "            kitchen = 0\n",
    "            floorst = 0\n",
    "            floormx = 0\n",
    "            built = 0\n",
    "            space = tree.find_all('div', {'class' : 'a10a3f92e9--info--3XiXi'}) #тут различные характеристики площади и состояния дома\n",
    "            for k in space:\n",
    "                i = k.text.split('\\xa0м²')\n",
    "                if i[-1] == 'Общая':\n",
    "                    total = int(i[0])\n",
    "                if i[-1] == 'Жилая':\n",
    "                    living = int(i[0])\n",
    "                if i[-1] == 'Кухня':\n",
    "                    kitchen = int(i[0])\n",
    "                if i[-1][-1] == 'ж':\n",
    "                    flor = i[0].split(' ')\n",
    "                    floorst = int(flor[0])\n",
    "                    floormx = int(flor[-1][:-4])\n",
    "                if i[-1][-1] == 'н':\n",
    "                    built = int(i[-1][:-8])\n",
    "        except:\n",
    "            total = 0\n",
    "            living = 0\n",
    "            kitchen = 0\n",
    "            floorst = 0\n",
    "            floormx = 0\n",
    "            built = 0\n",
    "\n",
    "\n",
    "\n",
    "        try:\n",
    "            descript = tree.find_all('p', {'class' : 'a10a3f92e9--description-text--3Sal4'}) #качаем описание\n",
    "            description = descript[0].text\n",
    "        except:\n",
    "            description = ''\n",
    "\n",
    "\n",
    "\n",
    "        try:\n",
    "            features = tree.find_all('ul', {'class' : 'a10a3f92e9--container--L-EIV'})[-1].text #тут поиск фурнитуры квартиры\n",
    "            fridge = 0 \n",
    "            dishwasher = 0\n",
    "            washmashine = 1\n",
    "            roomfurniture = 0\n",
    "            kitchenfurniture = 0\n",
    "            TV = 0\n",
    "            net = 0\n",
    "            condition = 0\n",
    "            dush = 0\n",
    "            vanna = 0\n",
    "            if 'Холодильник' in features:\n",
    "                fridge = 1\n",
    "            if 'Посудомоечная машина' in features:\n",
    "                dishwasher = 1\n",
    "            if 'Стиральная машина' in features:\n",
    "                washmashine = 1\n",
    "            if 'Мебель в комнатах' in features:\n",
    "                roomfurniture = 1\n",
    "            if 'Мебель на кухне' in features:\n",
    "                kitchenfurniture = 1\n",
    "            if 'Телевизор' in features:\n",
    "                TV = 1\n",
    "            if 'Интернет' in features:\n",
    "                net = 1\n",
    "            if 'Кондиционер' in features:\n",
    "                condition = 1\n",
    "            if 'Душевая кабина' in features:\n",
    "                dush = 1\n",
    "            if 'Ванна' in features:\n",
    "                vanna = 1\n",
    "        except:\n",
    "            fridge = 0 \n",
    "            dishwasher = 0\n",
    "            washmashine = 1\n",
    "            roomfurniture = 0\n",
    "            kitchenfurniture = 0\n",
    "            TV = 0\n",
    "            net = 0\n",
    "            condition = 0\n",
    "            dush = 0\n",
    "            vanna = 0\n",
    "\n",
    "\n",
    "\n",
    "        try:\n",
    "            renovation = tree.find_all('span', {'class' : 'a10a3f92e9--value--3Ftu5'}) #тут смотрим тип ремонта и куда выходят окна\n",
    "            renovationtext = ''#Тип ремонта: 0 - не указан, 1 - без ремонта, 2 - косметический, 3 - Евро, 4 - Дизайнерский\n",
    "            renovationtype = 0\n",
    "            streetwindow = 0\n",
    "            yardwindow = 0\n",
    "            for i in renovation:\n",
    "                renovationtext += i.text\n",
    "            if 'Без ремонта' in renovationtext:                                  \n",
    "                renovationtype = 1\n",
    "            if 'Косметический' in renovationtext:\n",
    "                renovationtype = 2\n",
    "            if 'Евроремонт' in renovationtext:\n",
    "                renovationtype = 3\n",
    "            if 'Дизайнерский' in renovationtext:\n",
    "                renovationtype = 4\n",
    "            if 'улицу' in renovationtext:\n",
    "                streetwindow = 1\n",
    "            if 'двор' in renovationtext:\n",
    "                yardwindow = 1\n",
    "        except:\n",
    "            renovationtype = 0\n",
    "            streetwindow = 0\n",
    "            yardwindow = 0\n",
    "\n",
    "\n",
    "\n",
    "        kids = 0\n",
    "        pets = 0\n",
    "        try:\n",
    "            kids = tree.find_all('li', {'class' : 'a10a3f92e9--item--21VpQ a10a3f92e9--kids--3mK0H'}) #проверка на детей\n",
    "            if kids[0].text == 'Можно с детьми':\n",
    "                kids = 1\n",
    "        except:\n",
    "            kids = 0\n",
    "\n",
    "\n",
    "\n",
    "        try:\n",
    "            pets = tree.find_all('li', {'class' : 'a10a3f92e9--item--21VpQ a10a3f92e9--pets--3gLzA'}) #проверка на животных\n",
    "            if pets[0].text == 'Можно с животными':\n",
    "                pets = 1\n",
    "        except:\n",
    "            pets = 0\n",
    "\n",
    "\n",
    "\n",
    "        fullplace = ''\n",
    "        streethouse = ''\n",
    "        district = ''\n",
    "        try:\n",
    "            place = tree.find_all('a', {'class' : 'a10a3f92e9--link--1t8n1 a10a3f92e9--address-item--1clHr'}) #ищем адрес(полный и улицу + дом отдельно + район)\n",
    "            for i in place:\n",
    "                fullplace += i.text\n",
    "                fullplace += ' '\n",
    "            streethouse = place[-2].text + ' ' + place[-1].text\n",
    "            district = place[1].text\n",
    "        except:\n",
    "            fullplace = ''\n",
    "            streethouse = ''\n",
    "            district = ''\n",
    "\n",
    "\n",
    "\n",
    "        recommendedprice = 0\n",
    "        try:\n",
    "            recp = tree.find_all('div', {'class' : 'a10a3f92e9--price--c1gyM'}) #смотрим рекоммендованую цену\n",
    "            recop = recp[0].text.split('\\xa0000\\xa0₽/мес.')\n",
    "            recommendedprice = int(recop[0]) * 1000\n",
    "        except:\n",
    "            recommendedprice = 0\n",
    "\n",
    "\n",
    "        try:\n",
    "            loan = tree.find_all('p', {'class' : 'a10a3f92e9--description--2xRVn'}) #тут инфа про залог, проживание и.т.д\n",
    "            loanuseful = loan[0].text.split(', ')\n",
    "            try:\n",
    "                reallone = int(loanuseful[0].split('\\xa0')[1]) * 1000 + int(loanuseful[0].split('\\xa0')[2])  #залог\n",
    "            except:\n",
    "                reallone = 0\n",
    "            try:\n",
    "                if loanuseful[1] == 'без\\xa0комиссии':  \n",
    "                    comission = 0\n",
    "                else: \n",
    "                    comission = 1\n",
    "            except:    \n",
    "                comission = 0\n",
    "            try:\n",
    "                prepay = int(loanuseful[2].split('\\xa0')[-2])\n",
    "            except:\n",
    "                prepay = 0\n",
    "            try:\n",
    "                latitude = loanuseful[3].replace('\\xa0', ' ') \n",
    "            except:\n",
    "                latitude = 0\n",
    "            try:\n",
    "                if loanuseful[4] != '':\n",
    "                    chaffer = 1\n",
    "            except:\n",
    "                chaffer = 0\n",
    "        except:\n",
    "            reallone = 0\n",
    "            comission = 0\n",
    "            prepay = 0\n",
    "            latitude = 0\n",
    "            chaffer = 0\n",
    "\n",
    "\n",
    "\n",
    "        ans = [price, agency, subtime, total, living, kitchen, floorst, floormx, built, description, fridge, dishwasher, \n",
    "               washmashine, roomfurniture, kitchenfurniture, TV, net, condition, dush, vanna, renovationtype, streetwindow, \n",
    "               yardwindow, kids, pets, fullplace, streethouse, district, recommendedprice, reallone, comission, prepay, \n",
    "               latitude, chaffer]\n",
    "        return({url : ans})\n",
    "    \n",
    "    \n",
    "    \n",
    "    except:\n",
    "        return({url : 'Долбан, её уже удалили'})"
   ]
  },
  {
   "cell_type": "markdown",
<<<<<<< HEAD
<<<<<<< HEAD
   "id": "eb81fc3a",
=======
   "id": "05e89ca5",
>>>>>>> parent of a440497 (Merge branch 'main' of https://github.com/hse-econ-data-science/hw4_project-aksenov-loginov-zaharova-bec204 into main)
=======
   "id": "05e89ca5",
>>>>>>> parent of a440497 (Merge branch 'main' of https://github.com/hse-econ-data-science/hw4_project-aksenov-loginov-zaharova-bec204 into main)
   "metadata": {},
   "source": [
    "Загрузим список нужных ссылок:"
   ]
  },
  {
   "cell_type": "code",
   "execution_count": null,
<<<<<<< HEAD
<<<<<<< HEAD
   "id": "72b263ad",
=======
   "id": "69742ba1",
>>>>>>> parent of a440497 (Merge branch 'main' of https://github.com/hse-econ-data-science/hw4_project-aksenov-loginov-zaharova-bec204 into main)
=======
   "id": "69742ba1",
>>>>>>> parent of a440497 (Merge branch 'main' of https://github.com/hse-econ-data-science/hw4_project-aksenov-loginov-zaharova-bec204 into main)
   "metadata": {},
   "outputs": [],
   "source": [
    "with open('urls.json') as f:\n",
    "    x = json.load(f)"
   ]
  },
  {
   "cell_type": "markdown",
<<<<<<< HEAD
<<<<<<< HEAD
   "id": "bba770a3",
=======
   "id": "c762d41b",
>>>>>>> parent of a440497 (Merge branch 'main' of https://github.com/hse-econ-data-science/hw4_project-aksenov-loginov-zaharova-bec204 into main)
=======
   "id": "c762d41b",
>>>>>>> parent of a440497 (Merge branch 'main' of https://github.com/hse-econ-data-science/hw4_project-aksenov-loginov-zaharova-bec204 into main)
   "metadata": {},
   "source": [
    "Запарсим их:"
   ]
  },
  {
   "cell_type": "code",
   "execution_count": null,
<<<<<<< HEAD
<<<<<<< HEAD
   "id": "5dc9aa50",
=======
   "id": "77e7e195",
>>>>>>> parent of a440497 (Merge branch 'main' of https://github.com/hse-econ-data-science/hw4_project-aksenov-loginov-zaharova-bec204 into main)
=======
   "id": "77e7e195",
>>>>>>> parent of a440497 (Merge branch 'main' of https://github.com/hse-econ-data-science/hw4_project-aksenov-loginov-zaharova-bec204 into main)
   "metadata": {},
   "outputs": [],
   "source": [
    "array_of_data = [ ]\n",
    "errors = [ ]\n",
    "los = 0\n",
    "pas = 0 \n",
    "for k in trange(len(x)):\n",
    "    i = x[k]\n",
    "    ret = checkurl(i)\n",
    "    if ret == {i : 'Долбан, её уже удалили'}:\n",
    "        los += 1\n",
    "    else:\n",
    "        pas += 1\n",
    "        array_of_data.append(ret)\n",
    "    print(los + pas, ' из ',  len(x), ' потерь ', los, end = '')\n",
    "    print(ret)\n",
    "    print('\\r', end = '')\n",
    "    if k % 10 == 0:\n",
    "        time.sleep(random.randint(50, 250))"
   ]
  },
  {
   "cell_type": "markdown",
<<<<<<< HEAD
<<<<<<< HEAD
   "id": "77706f62",
=======
   "id": "8e603055",
>>>>>>> parent of a440497 (Merge branch 'main' of https://github.com/hse-econ-data-science/hw4_project-aksenov-loginov-zaharova-bec204 into main)
=======
   "id": "8e603055",
>>>>>>> parent of a440497 (Merge branch 'main' of https://github.com/hse-econ-data-science/hw4_project-aksenov-loginov-zaharova-bec204 into main)
   "metadata": {},
   "source": [
    "При пасринге периодически появляется капча, также парсинг мы проводим с разных компьютеров, поэтому необходимо очистить от капчи и объединить данные"
   ]
  },
  {
   "cell_type": "markdown",
<<<<<<< HEAD
<<<<<<< HEAD
   "id": "ac7ac86a",
=======
   "id": "57e911af",
>>>>>>> parent of a440497 (Merge branch 'main' of https://github.com/hse-econ-data-science/hw4_project-aksenov-loginov-zaharova-bec204 into main)
=======
   "id": "57e911af",
>>>>>>> parent of a440497 (Merge branch 'main' of https://github.com/hse-econ-data-science/hw4_project-aksenov-loginov-zaharova-bec204 into main)
   "metadata": {},
   "source": [
    "# Очитска данных от капчи"
   ]
  },
  {
   "cell_type": "markdown",
<<<<<<< HEAD
<<<<<<< HEAD
   "id": "9f4a2af6",
=======
   "id": "a6328816",
>>>>>>> parent of a440497 (Merge branch 'main' of https://github.com/hse-econ-data-science/hw4_project-aksenov-loginov-zaharova-bec204 into main)
=======
   "id": "a6328816",
>>>>>>> parent of a440497 (Merge branch 'main' of https://github.com/hse-econ-data-science/hw4_project-aksenov-loginov-zaharova-bec204 into main)
   "metadata": {},
   "source": [
    "Напишем функцию, убирающую нулевые строки в данных и возвращающую \"очищенный\" список данных и список убранных ссылок"
   ]
  },
  {
   "cell_type": "code",
   "execution_count": 16,
<<<<<<< HEAD
<<<<<<< HEAD
   "id": "863742fe",
=======
   "id": "a53a371e",
>>>>>>> parent of a440497 (Merge branch 'main' of https://github.com/hse-econ-data-science/hw4_project-aksenov-loginov-zaharova-bec204 into main)
=======
   "id": "a53a371e",
>>>>>>> parent of a440497 (Merge branch 'main' of https://github.com/hse-econ-data-science/hw4_project-aksenov-loginov-zaharova-bec204 into main)
   "metadata": {},
   "outputs": [],
   "source": [
    "def clear_data(array_of_data): \n",
    "    captcha = [ ]\n",
    "    good_data = [ ]\n",
    "    for item in array_of_data:\n",
    "        for url in item:\n",
    "            if item[url] == [0, 'Собственник', 0, 0, 0, 0, 0, 0, 0, '', 0, 0, 1, 0, 0, 0, 0, 0, 0, 0, 0, 0, 0, 0, 0, '', '', '', 0, 0, 0, 0, 0, 0]:\n",
    "                captcha.append(url)\n",
    "            else:\n",
    "                good_data.append(item)\n",
    "    return good_data, captcha"
   ]
  },
  {
   "cell_type": "markdown",
<<<<<<< HEAD
<<<<<<< HEAD
   "id": "72192ee6",
=======
   "id": "8f176066",
>>>>>>> parent of a440497 (Merge branch 'main' of https://github.com/hse-econ-data-science/hw4_project-aksenov-loginov-zaharova-bec204 into main)
=======
   "id": "8f176066",
>>>>>>> parent of a440497 (Merge branch 'main' of https://github.com/hse-econ-data-science/hw4_project-aksenov-loginov-zaharova-bec204 into main)
   "metadata": {},
   "source": [
    "Используем её для собранных данных и сохраним полученный результат"
   ]
  },
  {
   "cell_type": "code",
   "execution_count": 6,
<<<<<<< HEAD
<<<<<<< HEAD
   "id": "0c4eb7ad",
=======
   "id": "d5e17dea",
>>>>>>> parent of a440497 (Merge branch 'main' of https://github.com/hse-econ-data-science/hw4_project-aksenov-loginov-zaharova-bec204 into main)
=======
   "id": "d5e17dea",
>>>>>>> parent of a440497 (Merge branch 'main' of https://github.com/hse-econ-data-science/hw4_project-aksenov-loginov-zaharova-bec204 into main)
   "metadata": {},
   "outputs": [],
   "source": [
    "good_data = clear_data(array_of_data)[0]\n",
    "captcha = clear_data(array_of_data)[1]"
   ]
  },
  {
   "cell_type": "code",
   "execution_count": 7,
<<<<<<< HEAD
<<<<<<< HEAD
   "id": "bf9c5fc8",
=======
   "id": "d626af5d",
>>>>>>> parent of a440497 (Merge branch 'main' of https://github.com/hse-econ-data-science/hw4_project-aksenov-loginov-zaharova-bec204 into main)
=======
   "id": "d626af5d",
>>>>>>> parent of a440497 (Merge branch 'main' of https://github.com/hse-econ-data-science/hw4_project-aksenov-loginov-zaharova-bec204 into main)
   "metadata": {},
   "outputs": [],
   "source": [
    "with open(\"Anton_data_1.json\", 'w', encoding='utf-8') as f:\n",
    "    json.dump(array_of_data, f, ensure_ascii=False, indent=4)"
   ]
  },
  {
   "cell_type": "markdown",
<<<<<<< HEAD
<<<<<<< HEAD
   "id": "a6f62028",
=======
   "id": "4a29d068",
>>>>>>> parent of a440497 (Merge branch 'main' of https://github.com/hse-econ-data-science/hw4_project-aksenov-loginov-zaharova-bec204 into main)
=======
   "id": "4a29d068",
>>>>>>> parent of a440497 (Merge branch 'main' of https://github.com/hse-econ-data-science/hw4_project-aksenov-loginov-zaharova-bec204 into main)
   "metadata": {},
   "source": [
    "Мы парсили в 10 сессий, поэтому последний этап выполнялся 10 раз"
   ]
  },
  {
   "cell_type": "markdown",
<<<<<<< HEAD
<<<<<<< HEAD
   "id": "5607c336",
=======
   "id": "bebe9e9e",
>>>>>>> parent of a440497 (Merge branch 'main' of https://github.com/hse-econ-data-science/hw4_project-aksenov-loginov-zaharova-bec204 into main)
=======
   "id": "bebe9e9e",
>>>>>>> parent of a440497 (Merge branch 'main' of https://github.com/hse-econ-data-science/hw4_project-aksenov-loginov-zaharova-bec204 into main)
   "metadata": {},
   "source": [
    "# Объединение данных"
   ]
  },
  {
   "cell_type": "markdown",
<<<<<<< HEAD
<<<<<<< HEAD
   "id": "6b0f84e1",
=======
   "id": "546adfdf",
>>>>>>> parent of a440497 (Merge branch 'main' of https://github.com/hse-econ-data-science/hw4_project-aksenov-loginov-zaharova-bec204 into main)
=======
   "id": "546adfdf",
>>>>>>> parent of a440497 (Merge branch 'main' of https://github.com/hse-econ-data-science/hw4_project-aksenov-loginov-zaharova-bec204 into main)
   "metadata": {},
   "source": [
    "Откроем все собранные данные и объеденим их в один итоговый словарь, а также найдём ссылки, которые не удалось обработать"
   ]
  },
  {
   "cell_type": "code",
   "execution_count": 9,
<<<<<<< HEAD
<<<<<<< HEAD
   "id": "368b71f7",
=======
   "id": "9ec848ef",
>>>>>>> parent of a440497 (Merge branch 'main' of https://github.com/hse-econ-data-science/hw4_project-aksenov-loginov-zaharova-bec204 into main)
=======
   "id": "9ec848ef",
>>>>>>> parent of a440497 (Merge branch 'main' of https://github.com/hse-econ-data-science/hw4_project-aksenov-loginov-zaharova-bec204 into main)
   "metadata": {},
   "outputs": [],
   "source": [
    "data = [ ] # изначальные данные\n",
    "filtered_data = [ ] # очищенные от капчи данные\n",
    "captcha = [ ] # ссылки, которые не удалось обработать из-за капчи\n",
    "urls_done = set( ) # ссылки, которые удалось обработать\n",
    "final_data = { } # объединённые данные\n",
    "# извлечение 'грязных' данных из файлов\n",
    "with open(\"data\\Anton_data_1.json\", 'r', encoding='utf-8') as f:\n",
    "    data.append(json.load(f))\n",
    "with open(\"data\\Anton_data_2.json\", 'r', encoding='utf-8') as f:\n",
    "    data.append(json.load(f))\n",
    "with open(\"data\\Anton_data_3.json\", 'r', encoding='utf-8') as f:\n",
    "    data.append(json.load(f))\n",
    "with open(\"data\\Luka_data_1.json\", 'r', encoding='utf-8') as f:\n",
    "    data.append(json.load(f))\n",
    "with open(\"data\\Luka_data_2.json\", 'r', encoding='utf-8') as f:\n",
    "    data.append(json.load(f))\n",
    "with open(\"data\\Luka_data_3.json\", 'r', encoding='utf-8') as f:\n",
    "    data.append(json.load(f))\n",
    "with open(\"data\\Luka_data_4.json\", 'r', encoding='utf-8') as f:\n",
    "    data.append(json.load(f))\n",
    "with open(\"data\\Luka_data_5.json\", 'r', encoding='utf-8') as f:\n",
    "    data.append(json.load(f))\n",
    "with open(\"data\\Luka_data_6.json\", 'r', encoding='utf-8') as f:\n",
    "    data.append(json.load(f))\n",
    "with open(\"data\\Julia_data_1.json\", 'r', encoding='utf-8') as f:\n",
    "    data.append(json.load(f))\n",
    "# 'очистка' и объединение данных\n",
    "for item in data:\n",
    "    filtered_data.extend(clear_data(item)[0])\n",
    "    captcha.extend(clear_data(item)[1])\n",
    "# получение финального словаря\n",
    "for item in filtered_data:\n",
    "    for key in item:\n",
    "        final_data[key] = item[key] \n",
    "# убираем из капчи ссылки, котороые обработали\n",
    "urls_done = set(final_data.keys())\n",
    "captcha = set(captcha)\n",
    "captcha = captcha - urls_done\n",
    "captcha = list(captcha)\n",
    "# сохранение данных\n",
    "with open('data\\data_combined.json', 'w', encoding='utf8') as f:\n",
    "    json.dump(final_data, f, ensure_ascii=False, indent=4)"
   ]
  },
  {
   "cell_type": "code",
   "execution_count": 10,
<<<<<<< HEAD
<<<<<<< HEAD
   "id": "5d60d211",
=======
   "id": "27cdf031",
>>>>>>> parent of a440497 (Merge branch 'main' of https://github.com/hse-econ-data-science/hw4_project-aksenov-loginov-zaharova-bec204 into main)
=======
   "id": "27cdf031",
>>>>>>> parent of a440497 (Merge branch 'main' of https://github.com/hse-econ-data-science/hw4_project-aksenov-loginov-zaharova-bec204 into main)
   "metadata": {},
   "outputs": [],
   "source": [
    "# поиск оставшихся ссылок\n",
    "with open('urls.json', 'r') as f:\n",
    "    all_urls = set(json.load(f))\n",
    "unfinished_urls = all_urls - urls_done\n",
    "with open('unfinished_urls.json', 'w', encoding='utf8') as f:\n",
    "    json.dump(list(unfinished_urls), f)"
   ]
  },
  {
   "cell_type": "code",
   "execution_count": 11,
<<<<<<< HEAD
<<<<<<< HEAD
   "id": "b01774c6",
=======
   "id": "7da0cd2a",
>>>>>>> parent of a440497 (Merge branch 'main' of https://github.com/hse-econ-data-science/hw4_project-aksenov-loginov-zaharova-bec204 into main)
=======
   "id": "7da0cd2a",
>>>>>>> parent of a440497 (Merge branch 'main' of https://github.com/hse-econ-data-science/hw4_project-aksenov-loginov-zaharova-bec204 into main)
   "metadata": {},
   "outputs": [
    {
     "data": {
      "text/plain": [
       "{'https://www.cian.ru/rent/flat/257121750/',\n",
       " 'https://www.cian.ru/rent/flat/257803987/',\n",
       " 'https://www.cian.ru/rent/flat/257915650/'}"
      ]
     },
     "execution_count": 11,
     "metadata": {},
     "output_type": "execute_result"
    }
   ],
   "source": [
    "unfinished_urls # оставшиеся ссылки"
   ]
  },
  {
   "cell_type": "markdown",
<<<<<<< HEAD
<<<<<<< HEAD
   "id": "b5deb31e",
=======
   "id": "b90327e5",
>>>>>>> parent of a440497 (Merge branch 'main' of https://github.com/hse-econ-data-science/hw4_project-aksenov-loginov-zaharova-bec204 into main)
=======
   "id": "b90327e5",
>>>>>>> parent of a440497 (Merge branch 'main' of https://github.com/hse-econ-data-science/hw4_project-aksenov-loginov-zaharova-bec204 into main)
   "metadata": {},
   "source": [
    "Проверяя данные ссылки в ручную, получим, что все эти объявления уже удалены с Циана."
   ]
  },
  {
   "cell_type": "code",
   "execution_count": 14,
<<<<<<< HEAD
<<<<<<< HEAD
   "id": "22c75871",
=======
   "id": "7cb87a1f",
>>>>>>> parent of a440497 (Merge branch 'main' of https://github.com/hse-econ-data-science/hw4_project-aksenov-loginov-zaharova-bec204 into main)
=======
   "id": "7cb87a1f",
>>>>>>> parent of a440497 (Merge branch 'main' of https://github.com/hse-econ-data-science/hw4_project-aksenov-loginov-zaharova-bec204 into main)
   "metadata": {},
   "outputs": [
    {
     "data": {
      "text/plain": [
       "1496"
      ]
     },
     "execution_count": 14,
     "metadata": {},
     "output_type": "execute_result"
    }
   ],
   "source": [
    "len(final_data.keys())"
   ]
  },
  {
   "cell_type": "markdown",
<<<<<<< HEAD
<<<<<<< HEAD
   "id": "92ed951d",
=======
   "id": "e833ae96",
>>>>>>> parent of a440497 (Merge branch 'main' of https://github.com/hse-econ-data-science/hw4_project-aksenov-loginov-zaharova-bec204 into main)
=======
   "id": "e833ae96",
>>>>>>> parent of a440497 (Merge branch 'main' of https://github.com/hse-econ-data-science/hw4_project-aksenov-loginov-zaharova-bec204 into main)
   "metadata": {},
   "source": [
    "Итого мы обработали 1496 ссылок и объединили их в один словарь"
   ]
  },
  {
   "cell_type": "markdown",
<<<<<<< HEAD
<<<<<<< HEAD
   "id": "1b5f2fd1",
=======
   "id": "0cef352d",
>>>>>>> parent of a440497 (Merge branch 'main' of https://github.com/hse-econ-data-science/hw4_project-aksenov-loginov-zaharova-bec204 into main)
=======
   "id": "0cef352d",
>>>>>>> parent of a440497 (Merge branch 'main' of https://github.com/hse-econ-data-science/hw4_project-aksenov-loginov-zaharova-bec204 into main)
   "metadata": {},
   "source": [
    "# Шаг 2. Предварительная обработка"
   ]
  },
  {
   "cell_type": "markdown",
<<<<<<< HEAD
<<<<<<< HEAD
   "id": "5fd4f379",
=======
   "id": "e11fbe16",
>>>>>>> parent of a440497 (Merge branch 'main' of https://github.com/hse-econ-data-science/hw4_project-aksenov-loginov-zaharova-bec204 into main)
=======
   "id": "e11fbe16",
>>>>>>> parent of a440497 (Merge branch 'main' of https://github.com/hse-econ-data-science/hw4_project-aksenov-loginov-zaharova-bec204 into main)
   "metadata": {},
   "source": [
    "1. Сначала мы создали DataFrame на основе полученных данных:"
   ]
  },
  {
   "cell_type": "code",
<<<<<<< HEAD
<<<<<<< HEAD
   "execution_count": 1,
   "id": "1d4db5aa",
=======
   "execution_count": 6,
   "id": "adc219e1",
>>>>>>> parent of a440497 (Merge branch 'main' of https://github.com/hse-econ-data-science/hw4_project-aksenov-loginov-zaharova-bec204 into main)
=======
   "execution_count": 6,
   "id": "adc219e1",
>>>>>>> parent of a440497 (Merge branch 'main' of https://github.com/hse-econ-data-science/hw4_project-aksenov-loginov-zaharova-bec204 into main)
   "metadata": {
    "scrolled": true
   },
   "outputs": [
    {
     "data": {
      "text/html": [
       "<style  type=\"text/css\" >\n",
<<<<<<< HEAD
<<<<<<< HEAD
       "</style><table id=\"T_2d9aa_\" ><thead>    <tr>        <th class=\"col_heading level0 col0\" >Агенство недвижимости</th>        <th class=\"col_heading level0 col1\" >Цена аренды</th>        <th class=\"col_heading level0 col2\" >Описание</th>        <th class=\"col_heading level0 col3\" >Минимальное время до метро, мин</th>        <th class=\"col_heading level0 col4\" >Общая площадь,  м²</th>        <th class=\"col_heading level0 col5\" >Жилая площадь,  м²</th>        <th class=\"col_heading level0 col6\" >Площадь кухни,  м²</th>        <th class=\"col_heading level0 col7\" >Этаж квартиры</th>        <th class=\"col_heading level0 col8\" >Этажей в доме</th>        <th class=\"col_heading level0 col9\" >Год постройки</th>        <th class=\"col_heading level0 col10\" >Холодильник</th>        <th class=\"col_heading level0 col11\" >Посудомоечная машина</th>        <th class=\"col_heading level0 col12\" >Мебель в комнатах</th>        <th class=\"col_heading level0 col13\" >Мебель на кухне</th>        <th class=\"col_heading level0 col14\" >Телевизор</th>        <th class=\"col_heading level0 col15\" >Интернет</th>        <th class=\"col_heading level0 col16\" >Кондиционер</th>        <th class=\"col_heading level0 col17\" >Душевая кабина</th>        <th class=\"col_heading level0 col18\" >Ванна</th>        <th class=\"col_heading level0 col19\" >Тип ремонта</th>        <th class=\"col_heading level0 col20\" >Окна на улицу</th>        <th class=\"col_heading level0 col21\" >Окна во двор</th>        <th class=\"col_heading level0 col22\" >Можно с детьми</th>        <th class=\"col_heading level0 col23\" >Можно с животными</th>        <th class=\"col_heading level0 col24\" >Полный адрес</th>        <th class=\"col_heading level0 col25\" >Улица</th>        <th class=\"col_heading level0 col26\" >Район</th>        <th class=\"col_heading level0 col27\" >Рекомендованная цена</th>        <th class=\"col_heading level0 col28\" >Залог</th>        <th class=\"col_heading level0 col29\" >Комиссия</th>        <th class=\"col_heading level0 col30\" >Предоплата(за сколько месяцев)</th>        <th class=\"col_heading level0 col31\" >Длительность съёма</th>        <th class=\"col_heading level0 col32\" >Возможность торга</th>    </tr></thead><tbody>\n",
       "                <tr>\n",
       "                                <td id=\"T_2d9aa_row0_col0\" class=\"data row0 col0\" >Собственник</td>\n",
       "                        <td id=\"T_2d9aa_row0_col1\" class=\"data row0 col1\" >150000</td>\n",
       "                        <td id=\"T_2d9aa_row0_col2\" class=\"data row0 col2\" >Сдается в длительную аренду трехкомнатная квартира от собственника. \n",
=======
=======
>>>>>>> parent of a440497 (Merge branch 'main' of https://github.com/hse-econ-data-science/hw4_project-aksenov-loginov-zaharova-bec204 into main)
       "</style><table id=\"T_8da84_\" ><thead>    <tr>        <th class=\"col_heading level0 col0\" >Агенство недвижимости</th>        <th class=\"col_heading level0 col1\" >Цена аренды</th>        <th class=\"col_heading level0 col2\" >Описание</th>        <th class=\"col_heading level0 col3\" >Минимальное время до метро, мин</th>        <th class=\"col_heading level0 col4\" >Общая площадь,  м²</th>        <th class=\"col_heading level0 col5\" >Жилая площадь,  м²</th>        <th class=\"col_heading level0 col6\" >Площадь кухни,  м²</th>        <th class=\"col_heading level0 col7\" >Этаж квартиры</th>        <th class=\"col_heading level0 col8\" >Этажей в доме</th>        <th class=\"col_heading level0 col9\" >Год постройки</th>        <th class=\"col_heading level0 col10\" >Холодильник</th>        <th class=\"col_heading level0 col11\" >Посудомоечная машина</th>        <th class=\"col_heading level0 col12\" >Мебель в комнатах</th>        <th class=\"col_heading level0 col13\" >Мебель на кухне</th>        <th class=\"col_heading level0 col14\" >Телевизор</th>        <th class=\"col_heading level0 col15\" >Интернет</th>        <th class=\"col_heading level0 col16\" >Кондиционер</th>        <th class=\"col_heading level0 col17\" >Душевая кабина</th>        <th class=\"col_heading level0 col18\" >Ванна</th>        <th class=\"col_heading level0 col19\" >Тип ремонта</th>        <th class=\"col_heading level0 col20\" >Окна на улицу</th>        <th class=\"col_heading level0 col21\" >Окна во двор</th>        <th class=\"col_heading level0 col22\" >Можно с детьми</th>        <th class=\"col_heading level0 col23\" >Можно с животными</th>        <th class=\"col_heading level0 col24\" >Полный адрес</th>        <th class=\"col_heading level0 col25\" >Улица</th>        <th class=\"col_heading level0 col26\" >Район</th>        <th class=\"col_heading level0 col27\" >Рекомендованная цена</th>        <th class=\"col_heading level0 col28\" >Залог</th>        <th class=\"col_heading level0 col29\" >Комиссия</th>        <th class=\"col_heading level0 col30\" >Предоплата(за сколько месяцев)</th>        <th class=\"col_heading level0 col31\" >Длительность съёма</th>        <th class=\"col_heading level0 col32\" >Возможность торга</th>    </tr></thead><tbody>\n",
       "                <tr>\n",
       "                                <td id=\"T_8da84_row0_col0\" class=\"data row0 col0\" >Собственник</td>\n",
       "                        <td id=\"T_8da84_row0_col1\" class=\"data row0 col1\" >150000</td>\n",
       "                        <td id=\"T_8da84_row0_col2\" class=\"data row0 col2\" >Сдается в длительную аренду трехкомнатная квартира от собственника. \n",
<<<<<<< HEAD
>>>>>>> parent of a440497 (Merge branch 'main' of https://github.com/hse-econ-data-science/hw4_project-aksenov-loginov-zaharova-bec204 into main)
=======
>>>>>>> parent of a440497 (Merge branch 'main' of https://github.com/hse-econ-data-science/hw4_project-aksenov-loginov-zaharova-bec204 into main)
       "\n",
       "Тихий зеленый район, развитая инфраструктура: в доме частный детский сад, в шаговой доступности школы (частная, общеобразовательная, университетская при МПГУ), аптеки, салоны красоты, в 3 минутах пешком (610 метров) ТЦ Авиапарк.\n",
       "Охраняемый ЖК, подземный паркинг (одно просторное машиноместо входит в стоимость аренды). 12 минут пешком до м. ЦСКА, 20 минут пешком до м. Аэропорт. \n",
       "\n",
       "Три комнаты: спальня с гардеробной, кабинет/детская, гостиная, совмещенная с кухней. Два санузла: туалет с раковиной в малом санузле и просторная душевая, туалет и раковина в основном. Две просторных лоджии: с выходом из кухни и из спальни. \n",
       "\n",
       "Современное оборудование: кондиционеры  и ЖК телевизоры во всех комнатах, на кухне индукционная плита, свч /духовая печь, посудомоечная машина, стиральная машина.</td>\n",
<<<<<<< HEAD
<<<<<<< HEAD
       "                        <td id=\"T_2d9aa_row0_col3\" class=\"data row0 col3\" >8</td>\n",
       "                        <td id=\"T_2d9aa_row0_col4\" class=\"data row0 col4\" >0</td>\n",
       "                        <td id=\"T_2d9aa_row0_col5\" class=\"data row0 col5\" >0</td>\n",
       "                        <td id=\"T_2d9aa_row0_col6\" class=\"data row0 col6\" >0</td>\n",
       "                        <td id=\"T_2d9aa_row0_col7\" class=\"data row0 col7\" >0</td>\n",
       "                        <td id=\"T_2d9aa_row0_col8\" class=\"data row0 col8\" >0</td>\n",
       "                        <td id=\"T_2d9aa_row0_col9\" class=\"data row0 col9\" >0</td>\n",
       "                        <td id=\"T_2d9aa_row0_col10\" class=\"data row0 col10\" >1</td>\n",
       "                        <td id=\"T_2d9aa_row0_col11\" class=\"data row0 col11\" >1</td>\n",
       "                        <td id=\"T_2d9aa_row0_col12\" class=\"data row0 col12\" >1</td>\n",
       "                        <td id=\"T_2d9aa_row0_col13\" class=\"data row0 col13\" >1</td>\n",
       "                        <td id=\"T_2d9aa_row0_col14\" class=\"data row0 col14\" >1</td>\n",
       "                        <td id=\"T_2d9aa_row0_col15\" class=\"data row0 col15\" >1</td>\n",
       "                        <td id=\"T_2d9aa_row0_col16\" class=\"data row0 col16\" >1</td>\n",
       "                        <td id=\"T_2d9aa_row0_col17\" class=\"data row0 col17\" >1</td>\n",
       "                        <td id=\"T_2d9aa_row0_col18\" class=\"data row0 col18\" >0</td>\n",
       "                        <td id=\"T_2d9aa_row0_col19\" class=\"data row0 col19\" >4</td>\n",
       "                        <td id=\"T_2d9aa_row0_col20\" class=\"data row0 col20\" >1</td>\n",
       "                        <td id=\"T_2d9aa_row0_col21\" class=\"data row0 col21\" >1</td>\n",
       "                        <td id=\"T_2d9aa_row0_col22\" class=\"data row0 col22\" >1</td>\n",
       "                        <td id=\"T_2d9aa_row0_col23\" class=\"data row0 col23\" >0</td>\n",
       "                        <td id=\"T_2d9aa_row0_col24\" class=\"data row0 col24\" >Москва САО р-н Хорошевский ул. Авиаконструктора Микояна 14к2 </td>\n",
       "                        <td id=\"T_2d9aa_row0_col25\" class=\"data row0 col25\" >ул. Авиаконструктора Микояна 14к2</td>\n",
       "                        <td id=\"T_2d9aa_row0_col26\" class=\"data row0 col26\" >САО</td>\n",
       "                        <td id=\"T_2d9aa_row0_col27\" class=\"data row0 col27\" >217000</td>\n",
       "                        <td id=\"T_2d9aa_row0_col28\" class=\"data row0 col28\" >150000</td>\n",
       "                        <td id=\"T_2d9aa_row0_col29\" class=\"data row0 col29\" >0</td>\n",
       "                        <td id=\"T_2d9aa_row0_col30\" class=\"data row0 col30\" >1</td>\n",
       "                        <td id=\"T_2d9aa_row0_col31\" class=\"data row0 col31\" >от года</td>\n",
       "                        <td id=\"T_2d9aa_row0_col32\" class=\"data row0 col32\" >0</td>\n",
       "            </tr>\n",
       "            <tr>\n",
       "                                <td id=\"T_2d9aa_row1_col0\" class=\"data row1 col0\" >ELEVEN REALTY</td>\n",
       "                        <td id=\"T_2d9aa_row1_col1\" class=\"data row1 col1\" >160000</td>\n",
       "                        <td id=\"T_2d9aa_row1_col2\" class=\"data row1 col2\" >Вашему вниманию предлагается квартира расположенная в доме Булдакова. Окна выходят в тихий двор. В квартире имеется вся необходимая мебель и бытовая техника для комфортного проживания. \n",
       "Рассмотрим делительную аренду.</td>\n",
       "                        <td id=\"T_2d9aa_row1_col3\" class=\"data row1 col3\" >5</td>\n",
       "                        <td id=\"T_2d9aa_row1_col4\" class=\"data row1 col4\" >130</td>\n",
       "                        <td id=\"T_2d9aa_row1_col5\" class=\"data row1 col5\" >80</td>\n",
       "                        <td id=\"T_2d9aa_row1_col6\" class=\"data row1 col6\" >20</td>\n",
       "                        <td id=\"T_2d9aa_row1_col7\" class=\"data row1 col7\" >4</td>\n",
       "                        <td id=\"T_2d9aa_row1_col8\" class=\"data row1 col8\" >5</td>\n",
       "                        <td id=\"T_2d9aa_row1_col9\" class=\"data row1 col9\" >1903</td>\n",
       "                        <td id=\"T_2d9aa_row1_col10\" class=\"data row1 col10\" >1</td>\n",
       "                        <td id=\"T_2d9aa_row1_col11\" class=\"data row1 col11\" >1</td>\n",
       "                        <td id=\"T_2d9aa_row1_col12\" class=\"data row1 col12\" >1</td>\n",
       "                        <td id=\"T_2d9aa_row1_col13\" class=\"data row1 col13\" >1</td>\n",
       "                        <td id=\"T_2d9aa_row1_col14\" class=\"data row1 col14\" >1</td>\n",
       "                        <td id=\"T_2d9aa_row1_col15\" class=\"data row1 col15\" >1</td>\n",
       "                        <td id=\"T_2d9aa_row1_col16\" class=\"data row1 col16\" >1</td>\n",
       "                        <td id=\"T_2d9aa_row1_col17\" class=\"data row1 col17\" >0</td>\n",
       "                        <td id=\"T_2d9aa_row1_col18\" class=\"data row1 col18\" >1</td>\n",
       "                        <td id=\"T_2d9aa_row1_col19\" class=\"data row1 col19\" >4</td>\n",
       "                        <td id=\"T_2d9aa_row1_col20\" class=\"data row1 col20\" >0</td>\n",
       "                        <td id=\"T_2d9aa_row1_col21\" class=\"data row1 col21\" >1</td>\n",
       "                        <td id=\"T_2d9aa_row1_col22\" class=\"data row1 col22\" >1</td>\n",
       "                        <td id=\"T_2d9aa_row1_col23\" class=\"data row1 col23\" >1</td>\n",
       "                        <td id=\"T_2d9aa_row1_col24\" class=\"data row1 col24\" >Москва ЦАО р-н Пресненский Большая Садовая ул. 10 </td>\n",
       "                        <td id=\"T_2d9aa_row1_col25\" class=\"data row1 col25\" >Большая Садовая ул. 10</td>\n",
       "                        <td id=\"T_2d9aa_row1_col26\" class=\"data row1 col26\" >ЦАО</td>\n",
       "                        <td id=\"T_2d9aa_row1_col27\" class=\"data row1 col27\" >316000</td>\n",
       "                        <td id=\"T_2d9aa_row1_col28\" class=\"data row1 col28\" >160000</td>\n",
       "                        <td id=\"T_2d9aa_row1_col29\" class=\"data row1 col29\" >0</td>\n",
       "                        <td id=\"T_2d9aa_row1_col30\" class=\"data row1 col30\" >1</td>\n",
       "                        <td id=\"T_2d9aa_row1_col31\" class=\"data row1 col31\" >от года</td>\n",
       "                        <td id=\"T_2d9aa_row1_col32\" class=\"data row1 col32\" >0</td>\n",
       "            </tr>\n",
       "            <tr>\n",
       "                                <td id=\"T_2d9aa_row2_col0\" class=\"data row2 col0\" >Вероника Кудашова</td>\n",
       "                        <td id=\"T_2d9aa_row2_col1\" class=\"data row2 col1\" >160000</td>\n",
       "                        <td id=\"T_2d9aa_row2_col2\" class=\"data row2 col2\" >ЖК Шуваловский. Сдам элегантную трехкомнатную квартиру - мастер-спальня с выходом на лоджию, детская с гардеробной, два санузла, большая гардеробная, кухня-столовая-гостиная с панорамным окном. В спальнях минимум мебели, кровати уже привезли. Кухня-гостиная с мебелью и техникой.\n",
       "Охраняемая территория, паркинг, детская площадка во дворе. Богатая инфраструктура района.</td>\n",
       "                        <td id=\"T_2d9aa_row2_col3\" class=\"data row2 col3\" >3</td>\n",
       "                        <td id=\"T_2d9aa_row2_col4\" class=\"data row2 col4\" >110</td>\n",
       "                        <td id=\"T_2d9aa_row2_col5\" class=\"data row2 col5\" >60</td>\n",
       "                        <td id=\"T_2d9aa_row2_col6\" class=\"data row2 col6\" >14</td>\n",
       "                        <td id=\"T_2d9aa_row2_col7\" class=\"data row2 col7\" >6</td>\n",
       "                        <td id=\"T_2d9aa_row2_col8\" class=\"data row2 col8\" >15</td>\n",
       "                        <td id=\"T_2d9aa_row2_col9\" class=\"data row2 col9\" >2008</td>\n",
       "                        <td id=\"T_2d9aa_row2_col10\" class=\"data row2 col10\" >1</td>\n",
       "                        <td id=\"T_2d9aa_row2_col11\" class=\"data row2 col11\" >1</td>\n",
       "                        <td id=\"T_2d9aa_row2_col12\" class=\"data row2 col12\" >1</td>\n",
       "                        <td id=\"T_2d9aa_row2_col13\" class=\"data row2 col13\" >1</td>\n",
       "                        <td id=\"T_2d9aa_row2_col14\" class=\"data row2 col14\" >1</td>\n",
       "                        <td id=\"T_2d9aa_row2_col15\" class=\"data row2 col15\" >1</td>\n",
       "                        <td id=\"T_2d9aa_row2_col16\" class=\"data row2 col16\" >1</td>\n",
       "                        <td id=\"T_2d9aa_row2_col17\" class=\"data row2 col17\" >0</td>\n",
       "                        <td id=\"T_2d9aa_row2_col18\" class=\"data row2 col18\" >1</td>\n",
       "                        <td id=\"T_2d9aa_row2_col19\" class=\"data row2 col19\" >4</td>\n",
       "                        <td id=\"T_2d9aa_row2_col20\" class=\"data row2 col20\" >1</td>\n",
       "                        <td id=\"T_2d9aa_row2_col21\" class=\"data row2 col21\" >1</td>\n",
       "                        <td id=\"T_2d9aa_row2_col22\" class=\"data row2 col22\" >1</td>\n",
       "                        <td id=\"T_2d9aa_row2_col23\" class=\"data row2 col23\" >0</td>\n",
       "                        <td id=\"T_2d9aa_row2_col24\" class=\"data row2 col24\" >Москва ЗАО р-н Раменки Мичуринский просп. 3 </td>\n",
       "                        <td id=\"T_2d9aa_row2_col25\" class=\"data row2 col25\" >Мичуринский просп. 3</td>\n",
       "                        <td id=\"T_2d9aa_row2_col26\" class=\"data row2 col26\" >ЗАО</td>\n",
       "                        <td id=\"T_2d9aa_row2_col27\" class=\"data row2 col27\" >196000</td>\n",
       "                        <td id=\"T_2d9aa_row2_col28\" class=\"data row2 col28\" >160000</td>\n",
       "                        <td id=\"T_2d9aa_row2_col29\" class=\"data row2 col29\" >0</td>\n",
       "                        <td id=\"T_2d9aa_row2_col30\" class=\"data row2 col30\" >1</td>\n",
       "                        <td id=\"T_2d9aa_row2_col31\" class=\"data row2 col31\" >от года</td>\n",
       "                        <td id=\"T_2d9aa_row2_col32\" class=\"data row2 col32\" >0</td>\n",
       "            </tr>\n",
       "            <tr>\n",
       "                                <td id=\"T_2d9aa_row3_col0\" class=\"data row3 col0\" >ID 13539540</td>\n",
       "                        <td id=\"T_2d9aa_row3_col1\" class=\"data row3 col1\" >160000</td>\n",
       "                        <td id=\"T_2d9aa_row3_col2\" class=\"data row3 col2\" >Предлагается  в аренду большая,  светлая трехкомнатная квартира с высокими потолками и  дизайнерским ремонтом.  Планировка квартиры включает в себя: гостиную, совмещенную с кухней, две изолированные спальни, в каждой из которых есть оборудованная гардеробная комната.  Два  санузла. В одном санузле ванна, в другом - душевая кабина. При необходимости, мебель покупается под клиента.</td>\n",
       "                        <td id=\"T_2d9aa_row3_col3\" class=\"data row3 col3\" >15</td>\n",
       "                        <td id=\"T_2d9aa_row3_col4\" class=\"data row3 col4\" >150</td>\n",
       "                        <td id=\"T_2d9aa_row3_col5\" class=\"data row3 col5\" >110</td>\n",
       "                        <td id=\"T_2d9aa_row3_col6\" class=\"data row3 col6\" >30</td>\n",
       "                        <td id=\"T_2d9aa_row3_col7\" class=\"data row3 col7\" >3</td>\n",
       "                        <td id=\"T_2d9aa_row3_col8\" class=\"data row3 col8\" >6</td>\n",
       "                        <td id=\"T_2d9aa_row3_col9\" class=\"data row3 col9\" >1954</td>\n",
       "                        <td id=\"T_2d9aa_row3_col10\" class=\"data row3 col10\" >1</td>\n",
       "                        <td id=\"T_2d9aa_row3_col11\" class=\"data row3 col11\" >1</td>\n",
       "                        <td id=\"T_2d9aa_row3_col12\" class=\"data row3 col12\" >0</td>\n",
       "                        <td id=\"T_2d9aa_row3_col13\" class=\"data row3 col13\" >1</td>\n",
       "                        <td id=\"T_2d9aa_row3_col14\" class=\"data row3 col14\" >0</td>\n",
       "                        <td id=\"T_2d9aa_row3_col15\" class=\"data row3 col15\" >1</td>\n",
       "                        <td id=\"T_2d9aa_row3_col16\" class=\"data row3 col16\" >1</td>\n",
       "                        <td id=\"T_2d9aa_row3_col17\" class=\"data row3 col17\" >1</td>\n",
       "                        <td id=\"T_2d9aa_row3_col18\" class=\"data row3 col18\" >1</td>\n",
       "                        <td id=\"T_2d9aa_row3_col19\" class=\"data row3 col19\" >4</td>\n",
       "                        <td id=\"T_2d9aa_row3_col20\" class=\"data row3 col20\" >1</td>\n",
       "                        <td id=\"T_2d9aa_row3_col21\" class=\"data row3 col21\" >1</td>\n",
       "                        <td id=\"T_2d9aa_row3_col22\" class=\"data row3 col22\" >1</td>\n",
       "                        <td id=\"T_2d9aa_row3_col23\" class=\"data row3 col23\" >0</td>\n",
       "                        <td id=\"T_2d9aa_row3_col24\" class=\"data row3 col24\" >Москва ЮЗАО р-н Академический ул. Кржижановского 23К5 </td>\n",
       "                        <td id=\"T_2d9aa_row3_col25\" class=\"data row3 col25\" >ул. Кржижановского 23К5</td>\n",
       "                        <td id=\"T_2d9aa_row3_col26\" class=\"data row3 col26\" >ЮЗАО</td>\n",
       "                        <td id=\"T_2d9aa_row3_col27\" class=\"data row3 col27\" >188000</td>\n",
       "                        <td id=\"T_2d9aa_row3_col28\" class=\"data row3 col28\" >160000</td>\n",
       "                        <td id=\"T_2d9aa_row3_col29\" class=\"data row3 col29\" >0</td>\n",
       "                        <td id=\"T_2d9aa_row3_col30\" class=\"data row3 col30\" >1</td>\n",
       "                        <td id=\"T_2d9aa_row3_col31\" class=\"data row3 col31\" >от года</td>\n",
       "                        <td id=\"T_2d9aa_row3_col32\" class=\"data row3 col32\" >0</td>\n",
       "            </tr>\n",
       "            <tr>\n",
       "                                <td id=\"T_2d9aa_row4_col0\" class=\"data row4 col0\" >Собственник</td>\n",
       "                        <td id=\"T_2d9aa_row4_col1\" class=\"data row4 col1\" >160000</td>\n",
       "                        <td id=\"T_2d9aa_row4_col2\" class=\"data row4 col2\" >Предлагается в аренду трехкомнатная квартира в элитном ЖК \"МОСФИЛЬМОВСКАЯ\". Замечательные видовые характеристики и функциональная планировка. Квартира оснащена всей необходимой техникой.Качественный ремонт. Машино-место на подземном паркинге входит в стоимость. СОБСТВЕННИК</td>\n",
       "                        <td id=\"T_2d9aa_row4_col3\" class=\"data row4 col3\" >10</td>\n",
       "                        <td id=\"T_2d9aa_row4_col4\" class=\"data row4 col4\" >105</td>\n",
       "                        <td id=\"T_2d9aa_row4_col5\" class=\"data row4 col5\" >0</td>\n",
       "                        <td id=\"T_2d9aa_row4_col6\" class=\"data row4 col6\" >0</td>\n",
       "                        <td id=\"T_2d9aa_row4_col7\" class=\"data row4 col7\" >15</td>\n",
       "                        <td id=\"T_2d9aa_row4_col8\" class=\"data row4 col8\" >29</td>\n",
       "                        <td id=\"T_2d9aa_row4_col9\" class=\"data row4 col9\" >2017</td>\n",
       "                        <td id=\"T_2d9aa_row4_col10\" class=\"data row4 col10\" >1</td>\n",
       "                        <td id=\"T_2d9aa_row4_col11\" class=\"data row4 col11\" >1</td>\n",
       "                        <td id=\"T_2d9aa_row4_col12\" class=\"data row4 col12\" >1</td>\n",
       "                        <td id=\"T_2d9aa_row4_col13\" class=\"data row4 col13\" >1</td>\n",
       "                        <td id=\"T_2d9aa_row4_col14\" class=\"data row4 col14\" >1</td>\n",
       "                        <td id=\"T_2d9aa_row4_col15\" class=\"data row4 col15\" >1</td>\n",
       "                        <td id=\"T_2d9aa_row4_col16\" class=\"data row4 col16\" >1</td>\n",
       "                        <td id=\"T_2d9aa_row4_col17\" class=\"data row4 col17\" >1</td>\n",
       "                        <td id=\"T_2d9aa_row4_col18\" class=\"data row4 col18\" >0</td>\n",
       "                        <td id=\"T_2d9aa_row4_col19\" class=\"data row4 col19\" >3</td>\n",
       "                        <td id=\"T_2d9aa_row4_col20\" class=\"data row4 col20\" >1</td>\n",
       "                        <td id=\"T_2d9aa_row4_col21\" class=\"data row4 col21\" >1</td>\n",
       "                        <td id=\"T_2d9aa_row4_col22\" class=\"data row4 col22\" >1</td>\n",
       "                        <td id=\"T_2d9aa_row4_col23\" class=\"data row4 col23\" >0</td>\n",
       "                        <td id=\"T_2d9aa_row4_col24\" class=\"data row4 col24\" >Москва ЗАО р-н Раменки Мосфильмовская ул. 74Б </td>\n",
       "                        <td id=\"T_2d9aa_row4_col25\" class=\"data row4 col25\" >Мосфильмовская ул. 74Б</td>\n",
       "                        <td id=\"T_2d9aa_row4_col26\" class=\"data row4 col26\" >ЗАО</td>\n",
       "                        <td id=\"T_2d9aa_row4_col27\" class=\"data row4 col27\" >212000</td>\n",
       "                        <td id=\"T_2d9aa_row4_col28\" class=\"data row4 col28\" >0</td>\n",
       "                        <td id=\"T_2d9aa_row4_col29\" class=\"data row4 col29\" >0</td>\n",
       "                        <td id=\"T_2d9aa_row4_col30\" class=\"data row4 col30\" >2</td>\n",
       "                        <td id=\"T_2d9aa_row4_col31\" class=\"data row4 col31\" >от года</td>\n",
       "                        <td id=\"T_2d9aa_row4_col32\" class=\"data row4 col32\" >0</td>\n",
=======
=======
>>>>>>> parent of a440497 (Merge branch 'main' of https://github.com/hse-econ-data-science/hw4_project-aksenov-loginov-zaharova-bec204 into main)
       "                        <td id=\"T_8da84_row0_col3\" class=\"data row0 col3\" >8</td>\n",
       "                        <td id=\"T_8da84_row0_col4\" class=\"data row0 col4\" >0</td>\n",
       "                        <td id=\"T_8da84_row0_col5\" class=\"data row0 col5\" >0</td>\n",
       "                        <td id=\"T_8da84_row0_col6\" class=\"data row0 col6\" >0</td>\n",
       "                        <td id=\"T_8da84_row0_col7\" class=\"data row0 col7\" >0</td>\n",
       "                        <td id=\"T_8da84_row0_col8\" class=\"data row0 col8\" >0</td>\n",
       "                        <td id=\"T_8da84_row0_col9\" class=\"data row0 col9\" >0</td>\n",
       "                        <td id=\"T_8da84_row0_col10\" class=\"data row0 col10\" >1</td>\n",
       "                        <td id=\"T_8da84_row0_col11\" class=\"data row0 col11\" >1</td>\n",
       "                        <td id=\"T_8da84_row0_col12\" class=\"data row0 col12\" >1</td>\n",
       "                        <td id=\"T_8da84_row0_col13\" class=\"data row0 col13\" >1</td>\n",
       "                        <td id=\"T_8da84_row0_col14\" class=\"data row0 col14\" >1</td>\n",
       "                        <td id=\"T_8da84_row0_col15\" class=\"data row0 col15\" >1</td>\n",
       "                        <td id=\"T_8da84_row0_col16\" class=\"data row0 col16\" >1</td>\n",
       "                        <td id=\"T_8da84_row0_col17\" class=\"data row0 col17\" >1</td>\n",
       "                        <td id=\"T_8da84_row0_col18\" class=\"data row0 col18\" >0</td>\n",
       "                        <td id=\"T_8da84_row0_col19\" class=\"data row0 col19\" >4</td>\n",
       "                        <td id=\"T_8da84_row0_col20\" class=\"data row0 col20\" >1</td>\n",
       "                        <td id=\"T_8da84_row0_col21\" class=\"data row0 col21\" >1</td>\n",
       "                        <td id=\"T_8da84_row0_col22\" class=\"data row0 col22\" >1</td>\n",
       "                        <td id=\"T_8da84_row0_col23\" class=\"data row0 col23\" >0</td>\n",
       "                        <td id=\"T_8da84_row0_col24\" class=\"data row0 col24\" >Москва САО р-н Хорошевский ул. Авиаконструктора Микояна 14к2 </td>\n",
       "                        <td id=\"T_8da84_row0_col25\" class=\"data row0 col25\" >ул. Авиаконструктора Микояна 14к2</td>\n",
       "                        <td id=\"T_8da84_row0_col26\" class=\"data row0 col26\" >САО</td>\n",
       "                        <td id=\"T_8da84_row0_col27\" class=\"data row0 col27\" >217000</td>\n",
       "                        <td id=\"T_8da84_row0_col28\" class=\"data row0 col28\" >150000</td>\n",
       "                        <td id=\"T_8da84_row0_col29\" class=\"data row0 col29\" >0</td>\n",
       "                        <td id=\"T_8da84_row0_col30\" class=\"data row0 col30\" >1</td>\n",
       "                        <td id=\"T_8da84_row0_col31\" class=\"data row0 col31\" >от года</td>\n",
       "                        <td id=\"T_8da84_row0_col32\" class=\"data row0 col32\" >0</td>\n",
       "            </tr>\n",
       "            <tr>\n",
       "                                <td id=\"T_8da84_row1_col0\" class=\"data row1 col0\" >ELEVEN REALTY</td>\n",
       "                        <td id=\"T_8da84_row1_col1\" class=\"data row1 col1\" >160000</td>\n",
       "                        <td id=\"T_8da84_row1_col2\" class=\"data row1 col2\" >Вашему вниманию предлагается квартира расположенная в доме Булдакова. Окна выходят в тихий двор. В квартире имеется вся необходимая мебель и бытовая техника для комфортного проживания. \n",
       "Рассмотрим делительную аренду.</td>\n",
       "                        <td id=\"T_8da84_row1_col3\" class=\"data row1 col3\" >5</td>\n",
       "                        <td id=\"T_8da84_row1_col4\" class=\"data row1 col4\" >130</td>\n",
       "                        <td id=\"T_8da84_row1_col5\" class=\"data row1 col5\" >80</td>\n",
       "                        <td id=\"T_8da84_row1_col6\" class=\"data row1 col6\" >20</td>\n",
       "                        <td id=\"T_8da84_row1_col7\" class=\"data row1 col7\" >4</td>\n",
       "                        <td id=\"T_8da84_row1_col8\" class=\"data row1 col8\" >5</td>\n",
       "                        <td id=\"T_8da84_row1_col9\" class=\"data row1 col9\" >1903</td>\n",
       "                        <td id=\"T_8da84_row1_col10\" class=\"data row1 col10\" >1</td>\n",
       "                        <td id=\"T_8da84_row1_col11\" class=\"data row1 col11\" >1</td>\n",
       "                        <td id=\"T_8da84_row1_col12\" class=\"data row1 col12\" >1</td>\n",
       "                        <td id=\"T_8da84_row1_col13\" class=\"data row1 col13\" >1</td>\n",
       "                        <td id=\"T_8da84_row1_col14\" class=\"data row1 col14\" >1</td>\n",
       "                        <td id=\"T_8da84_row1_col15\" class=\"data row1 col15\" >1</td>\n",
       "                        <td id=\"T_8da84_row1_col16\" class=\"data row1 col16\" >1</td>\n",
       "                        <td id=\"T_8da84_row1_col17\" class=\"data row1 col17\" >0</td>\n",
       "                        <td id=\"T_8da84_row1_col18\" class=\"data row1 col18\" >1</td>\n",
       "                        <td id=\"T_8da84_row1_col19\" class=\"data row1 col19\" >4</td>\n",
       "                        <td id=\"T_8da84_row1_col20\" class=\"data row1 col20\" >0</td>\n",
       "                        <td id=\"T_8da84_row1_col21\" class=\"data row1 col21\" >1</td>\n",
       "                        <td id=\"T_8da84_row1_col22\" class=\"data row1 col22\" >1</td>\n",
       "                        <td id=\"T_8da84_row1_col23\" class=\"data row1 col23\" >1</td>\n",
       "                        <td id=\"T_8da84_row1_col24\" class=\"data row1 col24\" >Москва ЦАО р-н Пресненский Большая Садовая ул. 10 </td>\n",
       "                        <td id=\"T_8da84_row1_col25\" class=\"data row1 col25\" >Большая Садовая ул. 10</td>\n",
       "                        <td id=\"T_8da84_row1_col26\" class=\"data row1 col26\" >ЦАО</td>\n",
       "                        <td id=\"T_8da84_row1_col27\" class=\"data row1 col27\" >316000</td>\n",
       "                        <td id=\"T_8da84_row1_col28\" class=\"data row1 col28\" >160000</td>\n",
       "                        <td id=\"T_8da84_row1_col29\" class=\"data row1 col29\" >0</td>\n",
       "                        <td id=\"T_8da84_row1_col30\" class=\"data row1 col30\" >1</td>\n",
       "                        <td id=\"T_8da84_row1_col31\" class=\"data row1 col31\" >от года</td>\n",
       "                        <td id=\"T_8da84_row1_col32\" class=\"data row1 col32\" >0</td>\n",
       "            </tr>\n",
       "            <tr>\n",
       "                                <td id=\"T_8da84_row2_col0\" class=\"data row2 col0\" >Вероника Кудашова</td>\n",
       "                        <td id=\"T_8da84_row2_col1\" class=\"data row2 col1\" >160000</td>\n",
       "                        <td id=\"T_8da84_row2_col2\" class=\"data row2 col2\" >ЖК Шуваловский. Сдам элегантную трехкомнатную квартиру - мастер-спальня с выходом на лоджию, детская с гардеробной, два санузла, большая гардеробная, кухня-столовая-гостиная с панорамным окном. В спальнях минимум мебели, кровати уже привезли. Кухня-гостиная с мебелью и техникой.\n",
       "Охраняемая территория, паркинг, детская площадка во дворе. Богатая инфраструктура района.</td>\n",
       "                        <td id=\"T_8da84_row2_col3\" class=\"data row2 col3\" >3</td>\n",
       "                        <td id=\"T_8da84_row2_col4\" class=\"data row2 col4\" >110</td>\n",
       "                        <td id=\"T_8da84_row2_col5\" class=\"data row2 col5\" >60</td>\n",
       "                        <td id=\"T_8da84_row2_col6\" class=\"data row2 col6\" >14</td>\n",
       "                        <td id=\"T_8da84_row2_col7\" class=\"data row2 col7\" >6</td>\n",
       "                        <td id=\"T_8da84_row2_col8\" class=\"data row2 col8\" >15</td>\n",
       "                        <td id=\"T_8da84_row2_col9\" class=\"data row2 col9\" >2008</td>\n",
       "                        <td id=\"T_8da84_row2_col10\" class=\"data row2 col10\" >1</td>\n",
       "                        <td id=\"T_8da84_row2_col11\" class=\"data row2 col11\" >1</td>\n",
       "                        <td id=\"T_8da84_row2_col12\" class=\"data row2 col12\" >1</td>\n",
       "                        <td id=\"T_8da84_row2_col13\" class=\"data row2 col13\" >1</td>\n",
       "                        <td id=\"T_8da84_row2_col14\" class=\"data row2 col14\" >1</td>\n",
       "                        <td id=\"T_8da84_row2_col15\" class=\"data row2 col15\" >1</td>\n",
       "                        <td id=\"T_8da84_row2_col16\" class=\"data row2 col16\" >1</td>\n",
       "                        <td id=\"T_8da84_row2_col17\" class=\"data row2 col17\" >0</td>\n",
       "                        <td id=\"T_8da84_row2_col18\" class=\"data row2 col18\" >1</td>\n",
       "                        <td id=\"T_8da84_row2_col19\" class=\"data row2 col19\" >4</td>\n",
       "                        <td id=\"T_8da84_row2_col20\" class=\"data row2 col20\" >1</td>\n",
       "                        <td id=\"T_8da84_row2_col21\" class=\"data row2 col21\" >1</td>\n",
       "                        <td id=\"T_8da84_row2_col22\" class=\"data row2 col22\" >1</td>\n",
       "                        <td id=\"T_8da84_row2_col23\" class=\"data row2 col23\" >0</td>\n",
       "                        <td id=\"T_8da84_row2_col24\" class=\"data row2 col24\" >Москва ЗАО р-н Раменки Мичуринский просп. 3 </td>\n",
       "                        <td id=\"T_8da84_row2_col25\" class=\"data row2 col25\" >Мичуринский просп. 3</td>\n",
       "                        <td id=\"T_8da84_row2_col26\" class=\"data row2 col26\" >ЗАО</td>\n",
       "                        <td id=\"T_8da84_row2_col27\" class=\"data row2 col27\" >196000</td>\n",
       "                        <td id=\"T_8da84_row2_col28\" class=\"data row2 col28\" >160000</td>\n",
       "                        <td id=\"T_8da84_row2_col29\" class=\"data row2 col29\" >0</td>\n",
       "                        <td id=\"T_8da84_row2_col30\" class=\"data row2 col30\" >1</td>\n",
       "                        <td id=\"T_8da84_row2_col31\" class=\"data row2 col31\" >от года</td>\n",
       "                        <td id=\"T_8da84_row2_col32\" class=\"data row2 col32\" >0</td>\n",
       "            </tr>\n",
       "            <tr>\n",
       "                                <td id=\"T_8da84_row3_col0\" class=\"data row3 col0\" >ID 13539540</td>\n",
       "                        <td id=\"T_8da84_row3_col1\" class=\"data row3 col1\" >160000</td>\n",
       "                        <td id=\"T_8da84_row3_col2\" class=\"data row3 col2\" >Предлагается  в аренду большая,  светлая трехкомнатная квартира с высокими потолками и  дизайнерским ремонтом.  Планировка квартиры включает в себя: гостиную, совмещенную с кухней, две изолированные спальни, в каждой из которых есть оборудованная гардеробная комната.  Два  санузла. В одном санузле ванна, в другом - душевая кабина. При необходимости, мебель покупается под клиента.</td>\n",
       "                        <td id=\"T_8da84_row3_col3\" class=\"data row3 col3\" >15</td>\n",
       "                        <td id=\"T_8da84_row3_col4\" class=\"data row3 col4\" >150</td>\n",
       "                        <td id=\"T_8da84_row3_col5\" class=\"data row3 col5\" >110</td>\n",
       "                        <td id=\"T_8da84_row3_col6\" class=\"data row3 col6\" >30</td>\n",
       "                        <td id=\"T_8da84_row3_col7\" class=\"data row3 col7\" >3</td>\n",
       "                        <td id=\"T_8da84_row3_col8\" class=\"data row3 col8\" >6</td>\n",
       "                        <td id=\"T_8da84_row3_col9\" class=\"data row3 col9\" >1954</td>\n",
       "                        <td id=\"T_8da84_row3_col10\" class=\"data row3 col10\" >1</td>\n",
       "                        <td id=\"T_8da84_row3_col11\" class=\"data row3 col11\" >1</td>\n",
       "                        <td id=\"T_8da84_row3_col12\" class=\"data row3 col12\" >0</td>\n",
       "                        <td id=\"T_8da84_row3_col13\" class=\"data row3 col13\" >1</td>\n",
       "                        <td id=\"T_8da84_row3_col14\" class=\"data row3 col14\" >0</td>\n",
       "                        <td id=\"T_8da84_row3_col15\" class=\"data row3 col15\" >1</td>\n",
       "                        <td id=\"T_8da84_row3_col16\" class=\"data row3 col16\" >1</td>\n",
       "                        <td id=\"T_8da84_row3_col17\" class=\"data row3 col17\" >1</td>\n",
       "                        <td id=\"T_8da84_row3_col18\" class=\"data row3 col18\" >1</td>\n",
       "                        <td id=\"T_8da84_row3_col19\" class=\"data row3 col19\" >4</td>\n",
       "                        <td id=\"T_8da84_row3_col20\" class=\"data row3 col20\" >1</td>\n",
       "                        <td id=\"T_8da84_row3_col21\" class=\"data row3 col21\" >1</td>\n",
       "                        <td id=\"T_8da84_row3_col22\" class=\"data row3 col22\" >1</td>\n",
       "                        <td id=\"T_8da84_row3_col23\" class=\"data row3 col23\" >0</td>\n",
       "                        <td id=\"T_8da84_row3_col24\" class=\"data row3 col24\" >Москва ЮЗАО р-н Академический ул. Кржижановского 23К5 </td>\n",
       "                        <td id=\"T_8da84_row3_col25\" class=\"data row3 col25\" >ул. Кржижановского 23К5</td>\n",
       "                        <td id=\"T_8da84_row3_col26\" class=\"data row3 col26\" >ЮЗАО</td>\n",
       "                        <td id=\"T_8da84_row3_col27\" class=\"data row3 col27\" >188000</td>\n",
       "                        <td id=\"T_8da84_row3_col28\" class=\"data row3 col28\" >160000</td>\n",
       "                        <td id=\"T_8da84_row3_col29\" class=\"data row3 col29\" >0</td>\n",
       "                        <td id=\"T_8da84_row3_col30\" class=\"data row3 col30\" >1</td>\n",
       "                        <td id=\"T_8da84_row3_col31\" class=\"data row3 col31\" >от года</td>\n",
       "                        <td id=\"T_8da84_row3_col32\" class=\"data row3 col32\" >0</td>\n",
       "            </tr>\n",
       "            <tr>\n",
       "                                <td id=\"T_8da84_row4_col0\" class=\"data row4 col0\" >Собственник</td>\n",
       "                        <td id=\"T_8da84_row4_col1\" class=\"data row4 col1\" >160000</td>\n",
       "                        <td id=\"T_8da84_row4_col2\" class=\"data row4 col2\" >Предлагается в аренду трехкомнатная квартира в элитном ЖК \"МОСФИЛЬМОВСКАЯ\". Замечательные видовые характеристики и функциональная планировка. Квартира оснащена всей необходимой техникой.Качественный ремонт. Машино-место на подземном паркинге входит в стоимость. СОБСТВЕННИК</td>\n",
       "                        <td id=\"T_8da84_row4_col3\" class=\"data row4 col3\" >10</td>\n",
       "                        <td id=\"T_8da84_row4_col4\" class=\"data row4 col4\" >105</td>\n",
       "                        <td id=\"T_8da84_row4_col5\" class=\"data row4 col5\" >0</td>\n",
       "                        <td id=\"T_8da84_row4_col6\" class=\"data row4 col6\" >0</td>\n",
       "                        <td id=\"T_8da84_row4_col7\" class=\"data row4 col7\" >15</td>\n",
       "                        <td id=\"T_8da84_row4_col8\" class=\"data row4 col8\" >29</td>\n",
       "                        <td id=\"T_8da84_row4_col9\" class=\"data row4 col9\" >2017</td>\n",
       "                        <td id=\"T_8da84_row4_col10\" class=\"data row4 col10\" >1</td>\n",
       "                        <td id=\"T_8da84_row4_col11\" class=\"data row4 col11\" >1</td>\n",
       "                        <td id=\"T_8da84_row4_col12\" class=\"data row4 col12\" >1</td>\n",
       "                        <td id=\"T_8da84_row4_col13\" class=\"data row4 col13\" >1</td>\n",
       "                        <td id=\"T_8da84_row4_col14\" class=\"data row4 col14\" >1</td>\n",
       "                        <td id=\"T_8da84_row4_col15\" class=\"data row4 col15\" >1</td>\n",
       "                        <td id=\"T_8da84_row4_col16\" class=\"data row4 col16\" >1</td>\n",
       "                        <td id=\"T_8da84_row4_col17\" class=\"data row4 col17\" >1</td>\n",
       "                        <td id=\"T_8da84_row4_col18\" class=\"data row4 col18\" >0</td>\n",
       "                        <td id=\"T_8da84_row4_col19\" class=\"data row4 col19\" >3</td>\n",
       "                        <td id=\"T_8da84_row4_col20\" class=\"data row4 col20\" >1</td>\n",
       "                        <td id=\"T_8da84_row4_col21\" class=\"data row4 col21\" >1</td>\n",
       "                        <td id=\"T_8da84_row4_col22\" class=\"data row4 col22\" >1</td>\n",
       "                        <td id=\"T_8da84_row4_col23\" class=\"data row4 col23\" >0</td>\n",
       "                        <td id=\"T_8da84_row4_col24\" class=\"data row4 col24\" >Москва ЗАО р-н Раменки Мосфильмовская ул. 74Б </td>\n",
       "                        <td id=\"T_8da84_row4_col25\" class=\"data row4 col25\" >Мосфильмовская ул. 74Б</td>\n",
       "                        <td id=\"T_8da84_row4_col26\" class=\"data row4 col26\" >ЗАО</td>\n",
       "                        <td id=\"T_8da84_row4_col27\" class=\"data row4 col27\" >212000</td>\n",
       "                        <td id=\"T_8da84_row4_col28\" class=\"data row4 col28\" >0</td>\n",
       "                        <td id=\"T_8da84_row4_col29\" class=\"data row4 col29\" >0</td>\n",
       "                        <td id=\"T_8da84_row4_col30\" class=\"data row4 col30\" >2</td>\n",
       "                        <td id=\"T_8da84_row4_col31\" class=\"data row4 col31\" >от года</td>\n",
       "                        <td id=\"T_8da84_row4_col32\" class=\"data row4 col32\" >0</td>\n",
<<<<<<< HEAD
>>>>>>> parent of a440497 (Merge branch 'main' of https://github.com/hse-econ-data-science/hw4_project-aksenov-loginov-zaharova-bec204 into main)
=======
>>>>>>> parent of a440497 (Merge branch 'main' of https://github.com/hse-econ-data-science/hw4_project-aksenov-loginov-zaharova-bec204 into main)
       "            </tr>\n",
       "    </tbody></table>"
      ],
      "text/plain": [
<<<<<<< HEAD
<<<<<<< HEAD
       "<pandas.io.formats.style.Styler at 0xa3eff40>"
      ]
     },
     "execution_count": 1,
=======
=======
>>>>>>> parent of a440497 (Merge branch 'main' of https://github.com/hse-econ-data-science/hw4_project-aksenov-loginov-zaharova-bec204 into main)
       "<pandas.io.formats.style.Styler at 0x25a11777ee0>"
      ]
     },
     "execution_count": 6,
<<<<<<< HEAD
>>>>>>> parent of a440497 (Merge branch 'main' of https://github.com/hse-econ-data-science/hw4_project-aksenov-loginov-zaharova-bec204 into main)
=======
>>>>>>> parent of a440497 (Merge branch 'main' of https://github.com/hse-econ-data-science/hw4_project-aksenov-loginov-zaharova-bec204 into main)
     "metadata": {},
     "output_type": "execute_result"
    }
   ],
   "source": [
    "import pandas as pd\n",
    "import json\n",
    "\n",
    "\n",
    "y = []\n",
    "with open(\"data\\data_combined.json\", 'r', encoding='utf-8') as f:\n",
    "    y = json.load(f)\n",
    "\n",
    "df = pd.DataFrame(y)\n",
    "df = df.T\n",
    " \n",
    "df.columns = ['Цена аренды', 'Агенство недвижимости', 'Минимальное время до метро, мин', 'Общая площадь,  м²', 'Жилая площадь,  м²', 'Площадь кухни,  м²', 'Этаж квартиры', 'Этажей в доме', \"Год постройки\", \"Описание\", \"Холодильник\", \"Посудомоечная машина\", \"Стиральная машина\", \"Мебель в комнатах\", \"Мебель на кухне\", \"Телевизор\", \"Интернет\", \"Кондиционер\", \"Душевая кабина\", \"Ванна\", \"Тип ремонта\", \"Окна на улицу\", \"Окна во двор\", \"Можно с детьми\", \"Можно с животными\", \"Полный адрес\", \"Улица\", \"Район\", \"Рекомендованная цена\", \"Залог\", \"Комиссия\", \"Предоплата(за сколько месяцев)\", \"Длительность съёма\", \"Возможность торга\"]\n",
    "df = df.reindex(columns = ['Агенство недвижимости', 'Цена аренды','Описание',\n",
    "       'Минимальное время до метро, мин', 'Общая площадь,  м²',\n",
    "       'Жилая площадь,  м²', 'Площадь кухни,  м²', 'Этаж квартиры',\n",
    "       'Этажей в доме', 'Год постройки', 'Холодильник', 'Посудомоечная машина', 'Стиральная машина',\n",
    "       'Мебель в комнатах',  'Мебель на кухне', 'Телевизор', 'Интернет', 'Кондиционер',\n",
    "       'Душевая кабина', 'Ванна', 'Тип ремонта', 'Окна на улицу', 'Окна во двор', 'Можно с детьми',\n",
    "       'Можно с животными', 'Полный адрес', 'Улица', 'Район',\n",
    "       'Рекомендованная цена', 'Залог', 'Комиссия', 'Предоплата(за сколько месяцев)',\n",
    "       'Длительность съёма', 'Возможность торга'])\n",
    "df = df.drop(columns=['Стиральная машина'])\n",
    "\n",
    "df.head().style.hide_index()"
   ]
  },
  {
   "cell_type": "markdown",
<<<<<<< HEAD
<<<<<<< HEAD
   "id": "34f57dbf",
=======
   "id": "fe3be0cc",
>>>>>>> parent of a440497 (Merge branch 'main' of https://github.com/hse-econ-data-science/hw4_project-aksenov-loginov-zaharova-bec204 into main)
=======
   "id": "fe3be0cc",
>>>>>>> parent of a440497 (Merge branch 'main' of https://github.com/hse-econ-data-science/hw4_project-aksenov-loginov-zaharova-bec204 into main)
   "metadata": {},
   "source": [
    "Итого получили следующие колонки:"
   ]
  },
  {
   "cell_type": "code",
<<<<<<< HEAD
<<<<<<< HEAD
   "execution_count": 2,
   "id": "720848d1",
=======
   "execution_count": 136,
   "id": "5b586aa9",
>>>>>>> parent of a440497 (Merge branch 'main' of https://github.com/hse-econ-data-science/hw4_project-aksenov-loginov-zaharova-bec204 into main)
=======
   "execution_count": 136,
   "id": "5b586aa9",
>>>>>>> parent of a440497 (Merge branch 'main' of https://github.com/hse-econ-data-science/hw4_project-aksenov-loginov-zaharova-bec204 into main)
   "metadata": {
    "scrolled": false
   },
   "outputs": [
    {
     "data": {
      "text/plain": [
       "Index(['Агенство недвижимости', 'Цена аренды', 'Описание',\n",
       "       'Минимальное время до метро, мин', 'Общая площадь,  м²',\n",
       "       'Жилая площадь,  м²', 'Площадь кухни,  м²', 'Этаж квартиры',\n",
       "       'Этажей в доме', 'Год постройки', 'Холодильник', 'Посудомоечная машина',\n",
       "       'Мебель в комнатах', 'Мебель на кухне', 'Телевизор', 'Интернет',\n",
       "       'Кондиционер', 'Душевая кабина', 'Ванна', 'Тип ремонта',\n",
       "       'Окна на улицу', 'Окна во двор', 'Можно с детьми', 'Можно с животными',\n",
       "       'Полный адрес', 'Улица', 'Район', 'Рекомендованная цена', 'Залог',\n",
       "       'Комиссия', 'Предоплата(за сколько месяцев)', 'Длительность съёма',\n",
       "       'Возможность торга'],\n",
       "      dtype='object')"
      ]
     },
<<<<<<< HEAD
<<<<<<< HEAD
     "execution_count": 2,
=======
     "execution_count": 136,
>>>>>>> parent of a440497 (Merge branch 'main' of https://github.com/hse-econ-data-science/hw4_project-aksenov-loginov-zaharova-bec204 into main)
=======
     "execution_count": 136,
>>>>>>> parent of a440497 (Merge branch 'main' of https://github.com/hse-econ-data-science/hw4_project-aksenov-loginov-zaharova-bec204 into main)
     "metadata": {},
     "output_type": "execute_result"
    }
   ],
   "source": [
    "df.columns"
   ]
  },
  {
   "cell_type": "markdown",
<<<<<<< HEAD
<<<<<<< HEAD
   "id": "b263c606",
=======
   "id": "1e176f9e",
>>>>>>> parent of a440497 (Merge branch 'main' of https://github.com/hse-econ-data-science/hw4_project-aksenov-loginov-zaharova-bec204 into main)
=======
   "id": "1e176f9e",
>>>>>>> parent of a440497 (Merge branch 'main' of https://github.com/hse-econ-data-science/hw4_project-aksenov-loginov-zaharova-bec204 into main)
   "metadata": {},
   "source": [
    "2. Затем составили таблицу, в которой рассмотрели, сколько 0 мы получили по каждому из признаков в процентном соотношении:"
   ]
  },
  {
   "cell_type": "code",
   "execution_count": 137,
<<<<<<< HEAD
<<<<<<< HEAD
   "id": "35004158",
=======
   "id": "81efa2f8",
>>>>>>> parent of a440497 (Merge branch 'main' of https://github.com/hse-econ-data-science/hw4_project-aksenov-loginov-zaharova-bec204 into main)
=======
   "id": "81efa2f8",
>>>>>>> parent of a440497 (Merge branch 'main' of https://github.com/hse-econ-data-science/hw4_project-aksenov-loginov-zaharova-bec204 into main)
   "metadata": {},
   "outputs": [
    {
     "data": {
      "text/plain": [
       "Агенство недвижимости               0.000000\n",
       "Цена аренды                         0.000000\n",
       "Описание                            0.000000\n",
       "Минимальное время до метро, мин     8.689840\n",
       "Общая площадь,  м²                  9.090909\n",
       "Жилая площадь,  м²                 32.620321\n",
       "Площадь кухни,  м²                 34.491979\n",
       "Этаж квартиры                       9.090909\n",
       "Этажей в доме                       9.090909\n",
       "Год постройки                      48.529412\n",
       "Холодильник                        11.831551\n",
       "Посудомоечная машина               28.877005\n",
       "Мебель в комнатах                  15.574866\n",
       "Мебель на кухне                    11.363636\n",
       "Телевизор                          19.585561\n",
       "Интернет                           18.783422\n",
       "Кондиционер                        35.895722\n",
       "Душевая кабина                     54.077540\n",
       "Ванна                              32.687166\n",
       "Тип ремонта                        10.561497\n",
       "Окна на улицу                      50.735294\n",
       "Окна во двор                       33.622995\n",
       "Можно с детьми                     27.606952\n",
       "Можно с животными                  62.566845\n",
       "Полный адрес                        0.000000\n",
       "Улица                               0.000000\n",
       "Район                               0.000000\n",
       "Рекомендованная цена               15.307487\n",
       "Залог                               5.080214\n",
       "Комиссия                           82.419786\n",
       "Предоплата(за сколько месяцев)      2.473262\n",
       "Длительность съёма                  0.000000\n",
       "Возможность торга                  93.449198\n",
       "dtype: float64"
      ]
     },
     "execution_count": 137,
     "metadata": {},
     "output_type": "execute_result"
    }
   ],
   "source": [
    "df[df == 0].count(axis=0)/df.shape[0] * 100"
   ]
  },
  {
   "cell_type": "markdown",
<<<<<<< HEAD
<<<<<<< HEAD
   "id": "308a5448",
=======
   "id": "c5a005ad",
>>>>>>> parent of a440497 (Merge branch 'main' of https://github.com/hse-econ-data-science/hw4_project-aksenov-loginov-zaharova-bec204 into main)
=======
   "id": "c5a005ad",
>>>>>>> parent of a440497 (Merge branch 'main' of https://github.com/hse-econ-data-science/hw4_project-aksenov-loginov-zaharova-bec204 into main)
   "metadata": {},
   "source": [
    "Очевидно, что по некоторым признакам их совсем нет. А по некоторым признакам 0 может означать отсутствие какой-либо возможности или запрет. Мы решили исходить из того, что если что-то прямо не разрешено в объявлении и, как следствие, не указано в нём, то оно именно отсутсвует или запрещено. Поэтому 0 в столбцах \"Возможность торга\", \"Предоплата\", \"Комиссия\", \"Залог\", \"Рекомендованная цена\" мы пометили как \"Отсутствует\". А в столбцах \"Можно с детьми\" и \"Можно с животными\" 0 - это \"Нет\""
   ]
  },
  {
   "cell_type": "code",
<<<<<<< HEAD
<<<<<<< HEAD
   "execution_count": 3,
   "id": "f4ca1011",
=======
   "execution_count": 138,
   "id": "9b18bf27",
>>>>>>> parent of a440497 (Merge branch 'main' of https://github.com/hse-econ-data-science/hw4_project-aksenov-loginov-zaharova-bec204 into main)
=======
   "execution_count": 138,
   "id": "9b18bf27",
>>>>>>> parent of a440497 (Merge branch 'main' of https://github.com/hse-econ-data-science/hw4_project-aksenov-loginov-zaharova-bec204 into main)
   "metadata": {
    "scrolled": true
   },
   "outputs": [],
   "source": [
    "df.loc[df['Рекомендованная цена']== 0, 'Рекомендованная цена'] = 'Отсутствует'\n",
    "df.loc[df['Залог']== 0, 'Залог'] = 'Отсутствует'\n",
    "df.loc[df['Комиссия']== 0, 'Комиссия'] = 'Отсутствует'\n",
    "df.loc[df['Длительность съёма']== 0, 'Длительность съёма'] = 'Отсутствует'\n",
    "df.loc[df['Предоплата(за сколько месяцев)']== 0, 'Предоплата (за сколько месяцев)'] = 'Отсутствует'\n",
    "df.loc[df['Возможность торга']== 0, 'Возможность торга'] = 'Отсутствует'\n",
    "df.loc[df['Можно с животными']== 0, 'Можно с животными'] = 'Нет'\n",
    "df.loc[df['Можно с животными']== 1, 'Можно с животными'] = 'Да'\n",
    "df.loc[df['Можно с детьми']== 0, 'Можно с детьми'] = 'Нет'\n",
    "df.loc[df['Можно с детьми']== 1, 'Можно с детьми'] = 'Да'\n",
    "df.loc[df['Тип ремонта']== 0, 'Тип ремонта'] = 'Не указан'\n",
    "df.loc[df['Тип ремонта']== 1, 'Тип ремонта'] = 'Без ремонта'\n",
    "df.loc[df['Тип ремонта']== 2, 'Тип ремонта'] = 'Косметический'\n",
    "df.loc[df['Тип ремонта']== 3, 'Тип ремонта'] = 'Евроремонт'\n",
    "df.loc[df['Тип ремонта']== 4, 'Тип ремонта'] = 'Дизайнерский'\n",
    "df.loc[df['Окна на улицу']== 0, 'Окна на улицу'] = 'Нет'\n",
    "df.loc[df['Окна на улицу']== 1, 'Окна на улицу'] = 'Да'\n",
    "df.loc[df['Окна во двор']== 0, 'Окна во двор'] = 'Нет'\n",
    "df.loc[df['Окна во двор']== 1, 'Окна во двор'] = 'Да'"
   ]
  },
  {
   "cell_type": "code",
<<<<<<< HEAD
<<<<<<< HEAD
   "execution_count": 4,
   "id": "2d805367",
=======
   "execution_count": 139,
   "id": "78dce8ca",
>>>>>>> parent of a440497 (Merge branch 'main' of https://github.com/hse-econ-data-science/hw4_project-aksenov-loginov-zaharova-bec204 into main)
=======
   "execution_count": 139,
   "id": "78dce8ca",
>>>>>>> parent of a440497 (Merge branch 'main' of https://github.com/hse-econ-data-science/hw4_project-aksenov-loginov-zaharova-bec204 into main)
   "metadata": {},
   "outputs": [
    {
     "data": {
      "text/html": [
       "<style  type=\"text/css\" >\n",
<<<<<<< HEAD
<<<<<<< HEAD
       "</style><table id=\"T_ea210_\" ><thead>    <tr>        <th class=\"col_heading level0 col0\" >Агенство недвижимости</th>        <th class=\"col_heading level0 col1\" >Цена аренды</th>        <th class=\"col_heading level0 col2\" >Описание</th>        <th class=\"col_heading level0 col3\" >Минимальное время до метро, мин</th>        <th class=\"col_heading level0 col4\" >Общая площадь,  м²</th>        <th class=\"col_heading level0 col5\" >Жилая площадь,  м²</th>        <th class=\"col_heading level0 col6\" >Площадь кухни,  м²</th>        <th class=\"col_heading level0 col7\" >Этаж квартиры</th>        <th class=\"col_heading level0 col8\" >Этажей в доме</th>        <th class=\"col_heading level0 col9\" >Год постройки</th>        <th class=\"col_heading level0 col10\" >Холодильник</th>        <th class=\"col_heading level0 col11\" >Посудомоечная машина</th>        <th class=\"col_heading level0 col12\" >Мебель в комнатах</th>        <th class=\"col_heading level0 col13\" >Мебель на кухне</th>        <th class=\"col_heading level0 col14\" >Телевизор</th>        <th class=\"col_heading level0 col15\" >Интернет</th>        <th class=\"col_heading level0 col16\" >Кондиционер</th>        <th class=\"col_heading level0 col17\" >Душевая кабина</th>        <th class=\"col_heading level0 col18\" >Ванна</th>        <th class=\"col_heading level0 col19\" >Тип ремонта</th>        <th class=\"col_heading level0 col20\" >Окна на улицу</th>        <th class=\"col_heading level0 col21\" >Окна во двор</th>        <th class=\"col_heading level0 col22\" >Можно с детьми</th>        <th class=\"col_heading level0 col23\" >Можно с животными</th>        <th class=\"col_heading level0 col24\" >Полный адрес</th>        <th class=\"col_heading level0 col25\" >Улица</th>        <th class=\"col_heading level0 col26\" >Район</th>        <th class=\"col_heading level0 col27\" >Рекомендованная цена</th>        <th class=\"col_heading level0 col28\" >Залог</th>        <th class=\"col_heading level0 col29\" >Комиссия</th>        <th class=\"col_heading level0 col30\" >Предоплата(за сколько месяцев)</th>        <th class=\"col_heading level0 col31\" >Длительность съёма</th>        <th class=\"col_heading level0 col32\" >Возможность торга</th>        <th class=\"col_heading level0 col33\" >Предоплата (за сколько месяцев)</th>    </tr></thead><tbody>\n",
       "                <tr>\n",
       "                                <td id=\"T_ea210_row0_col0\" class=\"data row0 col0\" >Собственник</td>\n",
       "                        <td id=\"T_ea210_row0_col1\" class=\"data row0 col1\" >150000</td>\n",
       "                        <td id=\"T_ea210_row0_col2\" class=\"data row0 col2\" >Сдается в длительную аренду трехкомнатная квартира от собственника. \n",
=======
=======
>>>>>>> parent of a440497 (Merge branch 'main' of https://github.com/hse-econ-data-science/hw4_project-aksenov-loginov-zaharova-bec204 into main)
       "</style><table id=\"T_6074340c_c54f_11eb_a78e_f07bcbf2f291\" ><thead>    <tr>        <th class=\"col_heading level0 col0\" >Агенство недвижимости</th>        <th class=\"col_heading level0 col1\" >Цена аренды</th>        <th class=\"col_heading level0 col2\" >Описание</th>        <th class=\"col_heading level0 col3\" >Минимальное время до метро, мин</th>        <th class=\"col_heading level0 col4\" >Общая площадь,  м²</th>        <th class=\"col_heading level0 col5\" >Жилая площадь,  м²</th>        <th class=\"col_heading level0 col6\" >Площадь кухни,  м²</th>        <th class=\"col_heading level0 col7\" >Этаж квартиры</th>        <th class=\"col_heading level0 col8\" >Этажей в доме</th>        <th class=\"col_heading level0 col9\" >Год постройки</th>        <th class=\"col_heading level0 col10\" >Холодильник</th>        <th class=\"col_heading level0 col11\" >Посудомоечная машина</th>        <th class=\"col_heading level0 col12\" >Мебель в комнатах</th>        <th class=\"col_heading level0 col13\" >Мебель на кухне</th>        <th class=\"col_heading level0 col14\" >Телевизор</th>        <th class=\"col_heading level0 col15\" >Интернет</th>        <th class=\"col_heading level0 col16\" >Кондиционер</th>        <th class=\"col_heading level0 col17\" >Душевая кабина</th>        <th class=\"col_heading level0 col18\" >Ванна</th>        <th class=\"col_heading level0 col19\" >Тип ремонта</th>        <th class=\"col_heading level0 col20\" >Окна на улицу</th>        <th class=\"col_heading level0 col21\" >Окна во двор</th>        <th class=\"col_heading level0 col22\" >Можно с детьми</th>        <th class=\"col_heading level0 col23\" >Можно с животными</th>        <th class=\"col_heading level0 col24\" >Полный адрес</th>        <th class=\"col_heading level0 col25\" >Улица</th>        <th class=\"col_heading level0 col26\" >Район</th>        <th class=\"col_heading level0 col27\" >Рекомендованная цена</th>        <th class=\"col_heading level0 col28\" >Залог</th>        <th class=\"col_heading level0 col29\" >Комиссия</th>        <th class=\"col_heading level0 col30\" >Предоплата(за сколько месяцев)</th>        <th class=\"col_heading level0 col31\" >Длительность съёма</th>        <th class=\"col_heading level0 col32\" >Возможность торга</th>        <th class=\"col_heading level0 col33\" >Предоплата (за сколько месяцев)</th>    </tr></thead><tbody>\n",
       "                <tr>\n",
       "                                <td id=\"T_6074340c_c54f_11eb_a78e_f07bcbf2f291row0_col0\" class=\"data row0 col0\" >Собственник</td>\n",
       "                        <td id=\"T_6074340c_c54f_11eb_a78e_f07bcbf2f291row0_col1\" class=\"data row0 col1\" >150000</td>\n",
       "                        <td id=\"T_6074340c_c54f_11eb_a78e_f07bcbf2f291row0_col2\" class=\"data row0 col2\" >Сдается в длительную аренду трехкомнатная квартира от собственника. \n",
<<<<<<< HEAD
>>>>>>> parent of a440497 (Merge branch 'main' of https://github.com/hse-econ-data-science/hw4_project-aksenov-loginov-zaharova-bec204 into main)
=======
>>>>>>> parent of a440497 (Merge branch 'main' of https://github.com/hse-econ-data-science/hw4_project-aksenov-loginov-zaharova-bec204 into main)
       "\n",
       "Тихий зеленый район, развитая инфраструктура: в доме частный детский сад, в шаговой доступности школы (частная, общеобразовательная, университетская при МПГУ), аптеки, салоны красоты, в 3 минутах пешком (610 метров) ТЦ Авиапарк.\n",
       "Охраняемый ЖК, подземный паркинг (одно просторное машиноместо входит в стоимость аренды). 12 минут пешком до м. ЦСКА, 20 минут пешком до м. Аэропорт. \n",
       "\n",
       "Три комнаты: спальня с гардеробной, кабинет/детская, гостиная, совмещенная с кухней. Два санузла: туалет с раковиной в малом санузле и просторная душевая, туалет и раковина в основном. Две просторных лоджии: с выходом из кухни и из спальни. \n",
       "\n",
       "Современное оборудование: кондиционеры  и ЖК телевизоры во всех комнатах, на кухне индукционная плита, свч /духовая печь, посудомоечная машина, стиральная машина.</td>\n",
<<<<<<< HEAD
<<<<<<< HEAD
       "                        <td id=\"T_ea210_row0_col3\" class=\"data row0 col3\" >8</td>\n",
       "                        <td id=\"T_ea210_row0_col4\" class=\"data row0 col4\" >0</td>\n",
       "                        <td id=\"T_ea210_row0_col5\" class=\"data row0 col5\" >0</td>\n",
       "                        <td id=\"T_ea210_row0_col6\" class=\"data row0 col6\" >0</td>\n",
       "                        <td id=\"T_ea210_row0_col7\" class=\"data row0 col7\" >0</td>\n",
       "                        <td id=\"T_ea210_row0_col8\" class=\"data row0 col8\" >0</td>\n",
       "                        <td id=\"T_ea210_row0_col9\" class=\"data row0 col9\" >0</td>\n",
       "                        <td id=\"T_ea210_row0_col10\" class=\"data row0 col10\" >1</td>\n",
       "                        <td id=\"T_ea210_row0_col11\" class=\"data row0 col11\" >1</td>\n",
       "                        <td id=\"T_ea210_row0_col12\" class=\"data row0 col12\" >1</td>\n",
       "                        <td id=\"T_ea210_row0_col13\" class=\"data row0 col13\" >1</td>\n",
       "                        <td id=\"T_ea210_row0_col14\" class=\"data row0 col14\" >1</td>\n",
       "                        <td id=\"T_ea210_row0_col15\" class=\"data row0 col15\" >1</td>\n",
       "                        <td id=\"T_ea210_row0_col16\" class=\"data row0 col16\" >1</td>\n",
       "                        <td id=\"T_ea210_row0_col17\" class=\"data row0 col17\" >1</td>\n",
       "                        <td id=\"T_ea210_row0_col18\" class=\"data row0 col18\" >0</td>\n",
       "                        <td id=\"T_ea210_row0_col19\" class=\"data row0 col19\" >Дизайнерский</td>\n",
       "                        <td id=\"T_ea210_row0_col20\" class=\"data row0 col20\" >Да</td>\n",
       "                        <td id=\"T_ea210_row0_col21\" class=\"data row0 col21\" >Да</td>\n",
       "                        <td id=\"T_ea210_row0_col22\" class=\"data row0 col22\" >Да</td>\n",
       "                        <td id=\"T_ea210_row0_col23\" class=\"data row0 col23\" >Нет</td>\n",
       "                        <td id=\"T_ea210_row0_col24\" class=\"data row0 col24\" >Москва САО р-н Хорошевский ул. Авиаконструктора Микояна 14к2 </td>\n",
       "                        <td id=\"T_ea210_row0_col25\" class=\"data row0 col25\" >ул. Авиаконструктора Микояна 14к2</td>\n",
       "                        <td id=\"T_ea210_row0_col26\" class=\"data row0 col26\" >САО</td>\n",
       "                        <td id=\"T_ea210_row0_col27\" class=\"data row0 col27\" >217000</td>\n",
       "                        <td id=\"T_ea210_row0_col28\" class=\"data row0 col28\" >150000</td>\n",
       "                        <td id=\"T_ea210_row0_col29\" class=\"data row0 col29\" >Отсутствует</td>\n",
       "                        <td id=\"T_ea210_row0_col30\" class=\"data row0 col30\" >1</td>\n",
       "                        <td id=\"T_ea210_row0_col31\" class=\"data row0 col31\" >от года</td>\n",
       "                        <td id=\"T_ea210_row0_col32\" class=\"data row0 col32\" >Отсутствует</td>\n",
       "                        <td id=\"T_ea210_row0_col33\" class=\"data row0 col33\" >nan</td>\n",
       "            </tr>\n",
       "            <tr>\n",
       "                                <td id=\"T_ea210_row1_col0\" class=\"data row1 col0\" >ELEVEN REALTY</td>\n",
       "                        <td id=\"T_ea210_row1_col1\" class=\"data row1 col1\" >160000</td>\n",
       "                        <td id=\"T_ea210_row1_col2\" class=\"data row1 col2\" >Вашему вниманию предлагается квартира расположенная в доме Булдакова. Окна выходят в тихий двор. В квартире имеется вся необходимая мебель и бытовая техника для комфортного проживания. \n",
       "Рассмотрим делительную аренду.</td>\n",
       "                        <td id=\"T_ea210_row1_col3\" class=\"data row1 col3\" >5</td>\n",
       "                        <td id=\"T_ea210_row1_col4\" class=\"data row1 col4\" >130</td>\n",
       "                        <td id=\"T_ea210_row1_col5\" class=\"data row1 col5\" >80</td>\n",
       "                        <td id=\"T_ea210_row1_col6\" class=\"data row1 col6\" >20</td>\n",
       "                        <td id=\"T_ea210_row1_col7\" class=\"data row1 col7\" >4</td>\n",
       "                        <td id=\"T_ea210_row1_col8\" class=\"data row1 col8\" >5</td>\n",
       "                        <td id=\"T_ea210_row1_col9\" class=\"data row1 col9\" >1903</td>\n",
       "                        <td id=\"T_ea210_row1_col10\" class=\"data row1 col10\" >1</td>\n",
       "                        <td id=\"T_ea210_row1_col11\" class=\"data row1 col11\" >1</td>\n",
       "                        <td id=\"T_ea210_row1_col12\" class=\"data row1 col12\" >1</td>\n",
       "                        <td id=\"T_ea210_row1_col13\" class=\"data row1 col13\" >1</td>\n",
       "                        <td id=\"T_ea210_row1_col14\" class=\"data row1 col14\" >1</td>\n",
       "                        <td id=\"T_ea210_row1_col15\" class=\"data row1 col15\" >1</td>\n",
       "                        <td id=\"T_ea210_row1_col16\" class=\"data row1 col16\" >1</td>\n",
       "                        <td id=\"T_ea210_row1_col17\" class=\"data row1 col17\" >0</td>\n",
       "                        <td id=\"T_ea210_row1_col18\" class=\"data row1 col18\" >1</td>\n",
       "                        <td id=\"T_ea210_row1_col19\" class=\"data row1 col19\" >Дизайнерский</td>\n",
       "                        <td id=\"T_ea210_row1_col20\" class=\"data row1 col20\" >Нет</td>\n",
       "                        <td id=\"T_ea210_row1_col21\" class=\"data row1 col21\" >Да</td>\n",
       "                        <td id=\"T_ea210_row1_col22\" class=\"data row1 col22\" >Да</td>\n",
       "                        <td id=\"T_ea210_row1_col23\" class=\"data row1 col23\" >Да</td>\n",
       "                        <td id=\"T_ea210_row1_col24\" class=\"data row1 col24\" >Москва ЦАО р-н Пресненский Большая Садовая ул. 10 </td>\n",
       "                        <td id=\"T_ea210_row1_col25\" class=\"data row1 col25\" >Большая Садовая ул. 10</td>\n",
       "                        <td id=\"T_ea210_row1_col26\" class=\"data row1 col26\" >ЦАО</td>\n",
       "                        <td id=\"T_ea210_row1_col27\" class=\"data row1 col27\" >316000</td>\n",
       "                        <td id=\"T_ea210_row1_col28\" class=\"data row1 col28\" >160000</td>\n",
       "                        <td id=\"T_ea210_row1_col29\" class=\"data row1 col29\" >Отсутствует</td>\n",
       "                        <td id=\"T_ea210_row1_col30\" class=\"data row1 col30\" >1</td>\n",
       "                        <td id=\"T_ea210_row1_col31\" class=\"data row1 col31\" >от года</td>\n",
       "                        <td id=\"T_ea210_row1_col32\" class=\"data row1 col32\" >Отсутствует</td>\n",
       "                        <td id=\"T_ea210_row1_col33\" class=\"data row1 col33\" >nan</td>\n",
       "            </tr>\n",
       "            <tr>\n",
       "                                <td id=\"T_ea210_row2_col0\" class=\"data row2 col0\" >Вероника Кудашова</td>\n",
       "                        <td id=\"T_ea210_row2_col1\" class=\"data row2 col1\" >160000</td>\n",
       "                        <td id=\"T_ea210_row2_col2\" class=\"data row2 col2\" >ЖК Шуваловский. Сдам элегантную трехкомнатную квартиру - мастер-спальня с выходом на лоджию, детская с гардеробной, два санузла, большая гардеробная, кухня-столовая-гостиная с панорамным окном. В спальнях минимум мебели, кровати уже привезли. Кухня-гостиная с мебелью и техникой.\n",
       "Охраняемая территория, паркинг, детская площадка во дворе. Богатая инфраструктура района.</td>\n",
       "                        <td id=\"T_ea210_row2_col3\" class=\"data row2 col3\" >3</td>\n",
       "                        <td id=\"T_ea210_row2_col4\" class=\"data row2 col4\" >110</td>\n",
       "                        <td id=\"T_ea210_row2_col5\" class=\"data row2 col5\" >60</td>\n",
       "                        <td id=\"T_ea210_row2_col6\" class=\"data row2 col6\" >14</td>\n",
       "                        <td id=\"T_ea210_row2_col7\" class=\"data row2 col7\" >6</td>\n",
       "                        <td id=\"T_ea210_row2_col8\" class=\"data row2 col8\" >15</td>\n",
       "                        <td id=\"T_ea210_row2_col9\" class=\"data row2 col9\" >2008</td>\n",
       "                        <td id=\"T_ea210_row2_col10\" class=\"data row2 col10\" >1</td>\n",
       "                        <td id=\"T_ea210_row2_col11\" class=\"data row2 col11\" >1</td>\n",
       "                        <td id=\"T_ea210_row2_col12\" class=\"data row2 col12\" >1</td>\n",
       "                        <td id=\"T_ea210_row2_col13\" class=\"data row2 col13\" >1</td>\n",
       "                        <td id=\"T_ea210_row2_col14\" class=\"data row2 col14\" >1</td>\n",
       "                        <td id=\"T_ea210_row2_col15\" class=\"data row2 col15\" >1</td>\n",
       "                        <td id=\"T_ea210_row2_col16\" class=\"data row2 col16\" >1</td>\n",
       "                        <td id=\"T_ea210_row2_col17\" class=\"data row2 col17\" >0</td>\n",
       "                        <td id=\"T_ea210_row2_col18\" class=\"data row2 col18\" >1</td>\n",
       "                        <td id=\"T_ea210_row2_col19\" class=\"data row2 col19\" >Дизайнерский</td>\n",
       "                        <td id=\"T_ea210_row2_col20\" class=\"data row2 col20\" >Да</td>\n",
       "                        <td id=\"T_ea210_row2_col21\" class=\"data row2 col21\" >Да</td>\n",
       "                        <td id=\"T_ea210_row2_col22\" class=\"data row2 col22\" >Да</td>\n",
       "                        <td id=\"T_ea210_row2_col23\" class=\"data row2 col23\" >Нет</td>\n",
       "                        <td id=\"T_ea210_row2_col24\" class=\"data row2 col24\" >Москва ЗАО р-н Раменки Мичуринский просп. 3 </td>\n",
       "                        <td id=\"T_ea210_row2_col25\" class=\"data row2 col25\" >Мичуринский просп. 3</td>\n",
       "                        <td id=\"T_ea210_row2_col26\" class=\"data row2 col26\" >ЗАО</td>\n",
       "                        <td id=\"T_ea210_row2_col27\" class=\"data row2 col27\" >196000</td>\n",
       "                        <td id=\"T_ea210_row2_col28\" class=\"data row2 col28\" >160000</td>\n",
       "                        <td id=\"T_ea210_row2_col29\" class=\"data row2 col29\" >Отсутствует</td>\n",
       "                        <td id=\"T_ea210_row2_col30\" class=\"data row2 col30\" >1</td>\n",
       "                        <td id=\"T_ea210_row2_col31\" class=\"data row2 col31\" >от года</td>\n",
       "                        <td id=\"T_ea210_row2_col32\" class=\"data row2 col32\" >Отсутствует</td>\n",
       "                        <td id=\"T_ea210_row2_col33\" class=\"data row2 col33\" >nan</td>\n",
       "            </tr>\n",
       "            <tr>\n",
       "                                <td id=\"T_ea210_row3_col0\" class=\"data row3 col0\" >ID 13539540</td>\n",
       "                        <td id=\"T_ea210_row3_col1\" class=\"data row3 col1\" >160000</td>\n",
       "                        <td id=\"T_ea210_row3_col2\" class=\"data row3 col2\" >Предлагается  в аренду большая,  светлая трехкомнатная квартира с высокими потолками и  дизайнерским ремонтом.  Планировка квартиры включает в себя: гостиную, совмещенную с кухней, две изолированные спальни, в каждой из которых есть оборудованная гардеробная комната.  Два  санузла. В одном санузле ванна, в другом - душевая кабина. При необходимости, мебель покупается под клиента.</td>\n",
       "                        <td id=\"T_ea210_row3_col3\" class=\"data row3 col3\" >15</td>\n",
       "                        <td id=\"T_ea210_row3_col4\" class=\"data row3 col4\" >150</td>\n",
       "                        <td id=\"T_ea210_row3_col5\" class=\"data row3 col5\" >110</td>\n",
       "                        <td id=\"T_ea210_row3_col6\" class=\"data row3 col6\" >30</td>\n",
       "                        <td id=\"T_ea210_row3_col7\" class=\"data row3 col7\" >3</td>\n",
       "                        <td id=\"T_ea210_row3_col8\" class=\"data row3 col8\" >6</td>\n",
       "                        <td id=\"T_ea210_row3_col9\" class=\"data row3 col9\" >1954</td>\n",
       "                        <td id=\"T_ea210_row3_col10\" class=\"data row3 col10\" >1</td>\n",
       "                        <td id=\"T_ea210_row3_col11\" class=\"data row3 col11\" >1</td>\n",
       "                        <td id=\"T_ea210_row3_col12\" class=\"data row3 col12\" >0</td>\n",
       "                        <td id=\"T_ea210_row3_col13\" class=\"data row3 col13\" >1</td>\n",
       "                        <td id=\"T_ea210_row3_col14\" class=\"data row3 col14\" >0</td>\n",
       "                        <td id=\"T_ea210_row3_col15\" class=\"data row3 col15\" >1</td>\n",
       "                        <td id=\"T_ea210_row3_col16\" class=\"data row3 col16\" >1</td>\n",
       "                        <td id=\"T_ea210_row3_col17\" class=\"data row3 col17\" >1</td>\n",
       "                        <td id=\"T_ea210_row3_col18\" class=\"data row3 col18\" >1</td>\n",
       "                        <td id=\"T_ea210_row3_col19\" class=\"data row3 col19\" >Дизайнерский</td>\n",
       "                        <td id=\"T_ea210_row3_col20\" class=\"data row3 col20\" >Да</td>\n",
       "                        <td id=\"T_ea210_row3_col21\" class=\"data row3 col21\" >Да</td>\n",
       "                        <td id=\"T_ea210_row3_col22\" class=\"data row3 col22\" >Да</td>\n",
       "                        <td id=\"T_ea210_row3_col23\" class=\"data row3 col23\" >Нет</td>\n",
       "                        <td id=\"T_ea210_row3_col24\" class=\"data row3 col24\" >Москва ЮЗАО р-н Академический ул. Кржижановского 23К5 </td>\n",
       "                        <td id=\"T_ea210_row3_col25\" class=\"data row3 col25\" >ул. Кржижановского 23К5</td>\n",
       "                        <td id=\"T_ea210_row3_col26\" class=\"data row3 col26\" >ЮЗАО</td>\n",
       "                        <td id=\"T_ea210_row3_col27\" class=\"data row3 col27\" >188000</td>\n",
       "                        <td id=\"T_ea210_row3_col28\" class=\"data row3 col28\" >160000</td>\n",
       "                        <td id=\"T_ea210_row3_col29\" class=\"data row3 col29\" >Отсутствует</td>\n",
       "                        <td id=\"T_ea210_row3_col30\" class=\"data row3 col30\" >1</td>\n",
       "                        <td id=\"T_ea210_row3_col31\" class=\"data row3 col31\" >от года</td>\n",
       "                        <td id=\"T_ea210_row3_col32\" class=\"data row3 col32\" >Отсутствует</td>\n",
       "                        <td id=\"T_ea210_row3_col33\" class=\"data row3 col33\" >nan</td>\n",
       "            </tr>\n",
       "            <tr>\n",
       "                                <td id=\"T_ea210_row4_col0\" class=\"data row4 col0\" >Собственник</td>\n",
       "                        <td id=\"T_ea210_row4_col1\" class=\"data row4 col1\" >160000</td>\n",
       "                        <td id=\"T_ea210_row4_col2\" class=\"data row4 col2\" >Предлагается в аренду трехкомнатная квартира в элитном ЖК \"МОСФИЛЬМОВСКАЯ\". Замечательные видовые характеристики и функциональная планировка. Квартира оснащена всей необходимой техникой.Качественный ремонт. Машино-место на подземном паркинге входит в стоимость. СОБСТВЕННИК</td>\n",
       "                        <td id=\"T_ea210_row4_col3\" class=\"data row4 col3\" >10</td>\n",
       "                        <td id=\"T_ea210_row4_col4\" class=\"data row4 col4\" >105</td>\n",
       "                        <td id=\"T_ea210_row4_col5\" class=\"data row4 col5\" >0</td>\n",
       "                        <td id=\"T_ea210_row4_col6\" class=\"data row4 col6\" >0</td>\n",
       "                        <td id=\"T_ea210_row4_col7\" class=\"data row4 col7\" >15</td>\n",
       "                        <td id=\"T_ea210_row4_col8\" class=\"data row4 col8\" >29</td>\n",
       "                        <td id=\"T_ea210_row4_col9\" class=\"data row4 col9\" >2017</td>\n",
       "                        <td id=\"T_ea210_row4_col10\" class=\"data row4 col10\" >1</td>\n",
       "                        <td id=\"T_ea210_row4_col11\" class=\"data row4 col11\" >1</td>\n",
       "                        <td id=\"T_ea210_row4_col12\" class=\"data row4 col12\" >1</td>\n",
       "                        <td id=\"T_ea210_row4_col13\" class=\"data row4 col13\" >1</td>\n",
       "                        <td id=\"T_ea210_row4_col14\" class=\"data row4 col14\" >1</td>\n",
       "                        <td id=\"T_ea210_row4_col15\" class=\"data row4 col15\" >1</td>\n",
       "                        <td id=\"T_ea210_row4_col16\" class=\"data row4 col16\" >1</td>\n",
       "                        <td id=\"T_ea210_row4_col17\" class=\"data row4 col17\" >1</td>\n",
       "                        <td id=\"T_ea210_row4_col18\" class=\"data row4 col18\" >0</td>\n",
       "                        <td id=\"T_ea210_row4_col19\" class=\"data row4 col19\" >Евроремонт</td>\n",
       "                        <td id=\"T_ea210_row4_col20\" class=\"data row4 col20\" >Да</td>\n",
       "                        <td id=\"T_ea210_row4_col21\" class=\"data row4 col21\" >Да</td>\n",
       "                        <td id=\"T_ea210_row4_col22\" class=\"data row4 col22\" >Да</td>\n",
       "                        <td id=\"T_ea210_row4_col23\" class=\"data row4 col23\" >Нет</td>\n",
       "                        <td id=\"T_ea210_row4_col24\" class=\"data row4 col24\" >Москва ЗАО р-н Раменки Мосфильмовская ул. 74Б </td>\n",
       "                        <td id=\"T_ea210_row4_col25\" class=\"data row4 col25\" >Мосфильмовская ул. 74Б</td>\n",
       "                        <td id=\"T_ea210_row4_col26\" class=\"data row4 col26\" >ЗАО</td>\n",
       "                        <td id=\"T_ea210_row4_col27\" class=\"data row4 col27\" >212000</td>\n",
       "                        <td id=\"T_ea210_row4_col28\" class=\"data row4 col28\" >Отсутствует</td>\n",
       "                        <td id=\"T_ea210_row4_col29\" class=\"data row4 col29\" >Отсутствует</td>\n",
       "                        <td id=\"T_ea210_row4_col30\" class=\"data row4 col30\" >2</td>\n",
       "                        <td id=\"T_ea210_row4_col31\" class=\"data row4 col31\" >от года</td>\n",
       "                        <td id=\"T_ea210_row4_col32\" class=\"data row4 col32\" >Отсутствует</td>\n",
       "                        <td id=\"T_ea210_row4_col33\" class=\"data row4 col33\" >nan</td>\n",
=======
=======
>>>>>>> parent of a440497 (Merge branch 'main' of https://github.com/hse-econ-data-science/hw4_project-aksenov-loginov-zaharova-bec204 into main)
       "                        <td id=\"T_6074340c_c54f_11eb_a78e_f07bcbf2f291row0_col3\" class=\"data row0 col3\" >8</td>\n",
       "                        <td id=\"T_6074340c_c54f_11eb_a78e_f07bcbf2f291row0_col4\" class=\"data row0 col4\" >0</td>\n",
       "                        <td id=\"T_6074340c_c54f_11eb_a78e_f07bcbf2f291row0_col5\" class=\"data row0 col5\" >0</td>\n",
       "                        <td id=\"T_6074340c_c54f_11eb_a78e_f07bcbf2f291row0_col6\" class=\"data row0 col6\" >0</td>\n",
       "                        <td id=\"T_6074340c_c54f_11eb_a78e_f07bcbf2f291row0_col7\" class=\"data row0 col7\" >0</td>\n",
       "                        <td id=\"T_6074340c_c54f_11eb_a78e_f07bcbf2f291row0_col8\" class=\"data row0 col8\" >0</td>\n",
       "                        <td id=\"T_6074340c_c54f_11eb_a78e_f07bcbf2f291row0_col9\" class=\"data row0 col9\" >0</td>\n",
       "                        <td id=\"T_6074340c_c54f_11eb_a78e_f07bcbf2f291row0_col10\" class=\"data row0 col10\" >1</td>\n",
       "                        <td id=\"T_6074340c_c54f_11eb_a78e_f07bcbf2f291row0_col11\" class=\"data row0 col11\" >1</td>\n",
       "                        <td id=\"T_6074340c_c54f_11eb_a78e_f07bcbf2f291row0_col12\" class=\"data row0 col12\" >1</td>\n",
       "                        <td id=\"T_6074340c_c54f_11eb_a78e_f07bcbf2f291row0_col13\" class=\"data row0 col13\" >1</td>\n",
       "                        <td id=\"T_6074340c_c54f_11eb_a78e_f07bcbf2f291row0_col14\" class=\"data row0 col14\" >1</td>\n",
       "                        <td id=\"T_6074340c_c54f_11eb_a78e_f07bcbf2f291row0_col15\" class=\"data row0 col15\" >1</td>\n",
       "                        <td id=\"T_6074340c_c54f_11eb_a78e_f07bcbf2f291row0_col16\" class=\"data row0 col16\" >1</td>\n",
       "                        <td id=\"T_6074340c_c54f_11eb_a78e_f07bcbf2f291row0_col17\" class=\"data row0 col17\" >1</td>\n",
       "                        <td id=\"T_6074340c_c54f_11eb_a78e_f07bcbf2f291row0_col18\" class=\"data row0 col18\" >0</td>\n",
       "                        <td id=\"T_6074340c_c54f_11eb_a78e_f07bcbf2f291row0_col19\" class=\"data row0 col19\" >Дизайнерский</td>\n",
       "                        <td id=\"T_6074340c_c54f_11eb_a78e_f07bcbf2f291row0_col20\" class=\"data row0 col20\" >Да</td>\n",
       "                        <td id=\"T_6074340c_c54f_11eb_a78e_f07bcbf2f291row0_col21\" class=\"data row0 col21\" >Да</td>\n",
       "                        <td id=\"T_6074340c_c54f_11eb_a78e_f07bcbf2f291row0_col22\" class=\"data row0 col22\" >Да</td>\n",
       "                        <td id=\"T_6074340c_c54f_11eb_a78e_f07bcbf2f291row0_col23\" class=\"data row0 col23\" >Нет</td>\n",
       "                        <td id=\"T_6074340c_c54f_11eb_a78e_f07bcbf2f291row0_col24\" class=\"data row0 col24\" >Москва САО р-н Хорошевский ул. Авиаконструктора Микояна 14к2 </td>\n",
       "                        <td id=\"T_6074340c_c54f_11eb_a78e_f07bcbf2f291row0_col25\" class=\"data row0 col25\" >ул. Авиаконструктора Микояна 14к2</td>\n",
       "                        <td id=\"T_6074340c_c54f_11eb_a78e_f07bcbf2f291row0_col26\" class=\"data row0 col26\" >САО</td>\n",
       "                        <td id=\"T_6074340c_c54f_11eb_a78e_f07bcbf2f291row0_col27\" class=\"data row0 col27\" >217000</td>\n",
       "                        <td id=\"T_6074340c_c54f_11eb_a78e_f07bcbf2f291row0_col28\" class=\"data row0 col28\" >150000</td>\n",
       "                        <td id=\"T_6074340c_c54f_11eb_a78e_f07bcbf2f291row0_col29\" class=\"data row0 col29\" >Отсутствует</td>\n",
       "                        <td id=\"T_6074340c_c54f_11eb_a78e_f07bcbf2f291row0_col30\" class=\"data row0 col30\" >1</td>\n",
       "                        <td id=\"T_6074340c_c54f_11eb_a78e_f07bcbf2f291row0_col31\" class=\"data row0 col31\" >от года</td>\n",
       "                        <td id=\"T_6074340c_c54f_11eb_a78e_f07bcbf2f291row0_col32\" class=\"data row0 col32\" >Отсутствует</td>\n",
       "                        <td id=\"T_6074340c_c54f_11eb_a78e_f07bcbf2f291row0_col33\" class=\"data row0 col33\" >nan</td>\n",
       "            </tr>\n",
       "            <tr>\n",
       "                                <td id=\"T_6074340c_c54f_11eb_a78e_f07bcbf2f291row1_col0\" class=\"data row1 col0\" >ELEVEN REALTY</td>\n",
       "                        <td id=\"T_6074340c_c54f_11eb_a78e_f07bcbf2f291row1_col1\" class=\"data row1 col1\" >160000</td>\n",
       "                        <td id=\"T_6074340c_c54f_11eb_a78e_f07bcbf2f291row1_col2\" class=\"data row1 col2\" >Вашему вниманию предлагается квартира расположенная в доме Булдакова. Окна выходят в тихий двор. В квартире имеется вся необходимая мебель и бытовая техника для комфортного проживания. \n",
       "Рассмотрим делительную аренду.</td>\n",
       "                        <td id=\"T_6074340c_c54f_11eb_a78e_f07bcbf2f291row1_col3\" class=\"data row1 col3\" >5</td>\n",
       "                        <td id=\"T_6074340c_c54f_11eb_a78e_f07bcbf2f291row1_col4\" class=\"data row1 col4\" >130</td>\n",
       "                        <td id=\"T_6074340c_c54f_11eb_a78e_f07bcbf2f291row1_col5\" class=\"data row1 col5\" >80</td>\n",
       "                        <td id=\"T_6074340c_c54f_11eb_a78e_f07bcbf2f291row1_col6\" class=\"data row1 col6\" >20</td>\n",
       "                        <td id=\"T_6074340c_c54f_11eb_a78e_f07bcbf2f291row1_col7\" class=\"data row1 col7\" >4</td>\n",
       "                        <td id=\"T_6074340c_c54f_11eb_a78e_f07bcbf2f291row1_col8\" class=\"data row1 col8\" >5</td>\n",
       "                        <td id=\"T_6074340c_c54f_11eb_a78e_f07bcbf2f291row1_col9\" class=\"data row1 col9\" >1903</td>\n",
       "                        <td id=\"T_6074340c_c54f_11eb_a78e_f07bcbf2f291row1_col10\" class=\"data row1 col10\" >1</td>\n",
       "                        <td id=\"T_6074340c_c54f_11eb_a78e_f07bcbf2f291row1_col11\" class=\"data row1 col11\" >1</td>\n",
       "                        <td id=\"T_6074340c_c54f_11eb_a78e_f07bcbf2f291row1_col12\" class=\"data row1 col12\" >1</td>\n",
       "                        <td id=\"T_6074340c_c54f_11eb_a78e_f07bcbf2f291row1_col13\" class=\"data row1 col13\" >1</td>\n",
       "                        <td id=\"T_6074340c_c54f_11eb_a78e_f07bcbf2f291row1_col14\" class=\"data row1 col14\" >1</td>\n",
       "                        <td id=\"T_6074340c_c54f_11eb_a78e_f07bcbf2f291row1_col15\" class=\"data row1 col15\" >1</td>\n",
       "                        <td id=\"T_6074340c_c54f_11eb_a78e_f07bcbf2f291row1_col16\" class=\"data row1 col16\" >1</td>\n",
       "                        <td id=\"T_6074340c_c54f_11eb_a78e_f07bcbf2f291row1_col17\" class=\"data row1 col17\" >0</td>\n",
       "                        <td id=\"T_6074340c_c54f_11eb_a78e_f07bcbf2f291row1_col18\" class=\"data row1 col18\" >1</td>\n",
       "                        <td id=\"T_6074340c_c54f_11eb_a78e_f07bcbf2f291row1_col19\" class=\"data row1 col19\" >Дизайнерский</td>\n",
       "                        <td id=\"T_6074340c_c54f_11eb_a78e_f07bcbf2f291row1_col20\" class=\"data row1 col20\" >Нет</td>\n",
       "                        <td id=\"T_6074340c_c54f_11eb_a78e_f07bcbf2f291row1_col21\" class=\"data row1 col21\" >Да</td>\n",
       "                        <td id=\"T_6074340c_c54f_11eb_a78e_f07bcbf2f291row1_col22\" class=\"data row1 col22\" >Да</td>\n",
       "                        <td id=\"T_6074340c_c54f_11eb_a78e_f07bcbf2f291row1_col23\" class=\"data row1 col23\" >Да</td>\n",
       "                        <td id=\"T_6074340c_c54f_11eb_a78e_f07bcbf2f291row1_col24\" class=\"data row1 col24\" >Москва ЦАО р-н Пресненский Большая Садовая ул. 10 </td>\n",
       "                        <td id=\"T_6074340c_c54f_11eb_a78e_f07bcbf2f291row1_col25\" class=\"data row1 col25\" >Большая Садовая ул. 10</td>\n",
       "                        <td id=\"T_6074340c_c54f_11eb_a78e_f07bcbf2f291row1_col26\" class=\"data row1 col26\" >ЦАО</td>\n",
       "                        <td id=\"T_6074340c_c54f_11eb_a78e_f07bcbf2f291row1_col27\" class=\"data row1 col27\" >316000</td>\n",
       "                        <td id=\"T_6074340c_c54f_11eb_a78e_f07bcbf2f291row1_col28\" class=\"data row1 col28\" >160000</td>\n",
       "                        <td id=\"T_6074340c_c54f_11eb_a78e_f07bcbf2f291row1_col29\" class=\"data row1 col29\" >Отсутствует</td>\n",
       "                        <td id=\"T_6074340c_c54f_11eb_a78e_f07bcbf2f291row1_col30\" class=\"data row1 col30\" >1</td>\n",
       "                        <td id=\"T_6074340c_c54f_11eb_a78e_f07bcbf2f291row1_col31\" class=\"data row1 col31\" >от года</td>\n",
       "                        <td id=\"T_6074340c_c54f_11eb_a78e_f07bcbf2f291row1_col32\" class=\"data row1 col32\" >Отсутствует</td>\n",
       "                        <td id=\"T_6074340c_c54f_11eb_a78e_f07bcbf2f291row1_col33\" class=\"data row1 col33\" >nan</td>\n",
       "            </tr>\n",
       "            <tr>\n",
       "                                <td id=\"T_6074340c_c54f_11eb_a78e_f07bcbf2f291row2_col0\" class=\"data row2 col0\" >Вероника Кудашова</td>\n",
       "                        <td id=\"T_6074340c_c54f_11eb_a78e_f07bcbf2f291row2_col1\" class=\"data row2 col1\" >160000</td>\n",
       "                        <td id=\"T_6074340c_c54f_11eb_a78e_f07bcbf2f291row2_col2\" class=\"data row2 col2\" >ЖК Шуваловский. Сдам элегантную трехкомнатную квартиру - мастер-спальня с выходом на лоджию, детская с гардеробной, два санузла, большая гардеробная, кухня-столовая-гостиная с панорамным окном. В спальнях минимум мебели, кровати уже привезли. Кухня-гостиная с мебелью и техникой.\n",
       "Охраняемая территория, паркинг, детская площадка во дворе. Богатая инфраструктура района.</td>\n",
       "                        <td id=\"T_6074340c_c54f_11eb_a78e_f07bcbf2f291row2_col3\" class=\"data row2 col3\" >3</td>\n",
       "                        <td id=\"T_6074340c_c54f_11eb_a78e_f07bcbf2f291row2_col4\" class=\"data row2 col4\" >110</td>\n",
       "                        <td id=\"T_6074340c_c54f_11eb_a78e_f07bcbf2f291row2_col5\" class=\"data row2 col5\" >60</td>\n",
       "                        <td id=\"T_6074340c_c54f_11eb_a78e_f07bcbf2f291row2_col6\" class=\"data row2 col6\" >14</td>\n",
       "                        <td id=\"T_6074340c_c54f_11eb_a78e_f07bcbf2f291row2_col7\" class=\"data row2 col7\" >6</td>\n",
       "                        <td id=\"T_6074340c_c54f_11eb_a78e_f07bcbf2f291row2_col8\" class=\"data row2 col8\" >15</td>\n",
       "                        <td id=\"T_6074340c_c54f_11eb_a78e_f07bcbf2f291row2_col9\" class=\"data row2 col9\" >2008</td>\n",
       "                        <td id=\"T_6074340c_c54f_11eb_a78e_f07bcbf2f291row2_col10\" class=\"data row2 col10\" >1</td>\n",
       "                        <td id=\"T_6074340c_c54f_11eb_a78e_f07bcbf2f291row2_col11\" class=\"data row2 col11\" >1</td>\n",
       "                        <td id=\"T_6074340c_c54f_11eb_a78e_f07bcbf2f291row2_col12\" class=\"data row2 col12\" >1</td>\n",
       "                        <td id=\"T_6074340c_c54f_11eb_a78e_f07bcbf2f291row2_col13\" class=\"data row2 col13\" >1</td>\n",
       "                        <td id=\"T_6074340c_c54f_11eb_a78e_f07bcbf2f291row2_col14\" class=\"data row2 col14\" >1</td>\n",
       "                        <td id=\"T_6074340c_c54f_11eb_a78e_f07bcbf2f291row2_col15\" class=\"data row2 col15\" >1</td>\n",
       "                        <td id=\"T_6074340c_c54f_11eb_a78e_f07bcbf2f291row2_col16\" class=\"data row2 col16\" >1</td>\n",
       "                        <td id=\"T_6074340c_c54f_11eb_a78e_f07bcbf2f291row2_col17\" class=\"data row2 col17\" >0</td>\n",
       "                        <td id=\"T_6074340c_c54f_11eb_a78e_f07bcbf2f291row2_col18\" class=\"data row2 col18\" >1</td>\n",
       "                        <td id=\"T_6074340c_c54f_11eb_a78e_f07bcbf2f291row2_col19\" class=\"data row2 col19\" >Дизайнерский</td>\n",
       "                        <td id=\"T_6074340c_c54f_11eb_a78e_f07bcbf2f291row2_col20\" class=\"data row2 col20\" >Да</td>\n",
       "                        <td id=\"T_6074340c_c54f_11eb_a78e_f07bcbf2f291row2_col21\" class=\"data row2 col21\" >Да</td>\n",
       "                        <td id=\"T_6074340c_c54f_11eb_a78e_f07bcbf2f291row2_col22\" class=\"data row2 col22\" >Да</td>\n",
       "                        <td id=\"T_6074340c_c54f_11eb_a78e_f07bcbf2f291row2_col23\" class=\"data row2 col23\" >Нет</td>\n",
       "                        <td id=\"T_6074340c_c54f_11eb_a78e_f07bcbf2f291row2_col24\" class=\"data row2 col24\" >Москва ЗАО р-н Раменки Мичуринский просп. 3 </td>\n",
       "                        <td id=\"T_6074340c_c54f_11eb_a78e_f07bcbf2f291row2_col25\" class=\"data row2 col25\" >Мичуринский просп. 3</td>\n",
       "                        <td id=\"T_6074340c_c54f_11eb_a78e_f07bcbf2f291row2_col26\" class=\"data row2 col26\" >ЗАО</td>\n",
       "                        <td id=\"T_6074340c_c54f_11eb_a78e_f07bcbf2f291row2_col27\" class=\"data row2 col27\" >196000</td>\n",
       "                        <td id=\"T_6074340c_c54f_11eb_a78e_f07bcbf2f291row2_col28\" class=\"data row2 col28\" >160000</td>\n",
       "                        <td id=\"T_6074340c_c54f_11eb_a78e_f07bcbf2f291row2_col29\" class=\"data row2 col29\" >Отсутствует</td>\n",
       "                        <td id=\"T_6074340c_c54f_11eb_a78e_f07bcbf2f291row2_col30\" class=\"data row2 col30\" >1</td>\n",
       "                        <td id=\"T_6074340c_c54f_11eb_a78e_f07bcbf2f291row2_col31\" class=\"data row2 col31\" >от года</td>\n",
       "                        <td id=\"T_6074340c_c54f_11eb_a78e_f07bcbf2f291row2_col32\" class=\"data row2 col32\" >Отсутствует</td>\n",
       "                        <td id=\"T_6074340c_c54f_11eb_a78e_f07bcbf2f291row2_col33\" class=\"data row2 col33\" >nan</td>\n",
       "            </tr>\n",
       "            <tr>\n",
       "                                <td id=\"T_6074340c_c54f_11eb_a78e_f07bcbf2f291row3_col0\" class=\"data row3 col0\" >ID 13539540</td>\n",
       "                        <td id=\"T_6074340c_c54f_11eb_a78e_f07bcbf2f291row3_col1\" class=\"data row3 col1\" >160000</td>\n",
       "                        <td id=\"T_6074340c_c54f_11eb_a78e_f07bcbf2f291row3_col2\" class=\"data row3 col2\" >Предлагается  в аренду большая,  светлая трехкомнатная квартира с высокими потолками и  дизайнерским ремонтом.  Планировка квартиры включает в себя: гостиную, совмещенную с кухней, две изолированные спальни, в каждой из которых есть оборудованная гардеробная комната.  Два  санузла. В одном санузле ванна, в другом - душевая кабина. При необходимости, мебель покупается под клиента.</td>\n",
       "                        <td id=\"T_6074340c_c54f_11eb_a78e_f07bcbf2f291row3_col3\" class=\"data row3 col3\" >15</td>\n",
       "                        <td id=\"T_6074340c_c54f_11eb_a78e_f07bcbf2f291row3_col4\" class=\"data row3 col4\" >150</td>\n",
       "                        <td id=\"T_6074340c_c54f_11eb_a78e_f07bcbf2f291row3_col5\" class=\"data row3 col5\" >110</td>\n",
       "                        <td id=\"T_6074340c_c54f_11eb_a78e_f07bcbf2f291row3_col6\" class=\"data row3 col6\" >30</td>\n",
       "                        <td id=\"T_6074340c_c54f_11eb_a78e_f07bcbf2f291row3_col7\" class=\"data row3 col7\" >3</td>\n",
       "                        <td id=\"T_6074340c_c54f_11eb_a78e_f07bcbf2f291row3_col8\" class=\"data row3 col8\" >6</td>\n",
       "                        <td id=\"T_6074340c_c54f_11eb_a78e_f07bcbf2f291row3_col9\" class=\"data row3 col9\" >1954</td>\n",
       "                        <td id=\"T_6074340c_c54f_11eb_a78e_f07bcbf2f291row3_col10\" class=\"data row3 col10\" >1</td>\n",
       "                        <td id=\"T_6074340c_c54f_11eb_a78e_f07bcbf2f291row3_col11\" class=\"data row3 col11\" >1</td>\n",
       "                        <td id=\"T_6074340c_c54f_11eb_a78e_f07bcbf2f291row3_col12\" class=\"data row3 col12\" >0</td>\n",
       "                        <td id=\"T_6074340c_c54f_11eb_a78e_f07bcbf2f291row3_col13\" class=\"data row3 col13\" >1</td>\n",
       "                        <td id=\"T_6074340c_c54f_11eb_a78e_f07bcbf2f291row3_col14\" class=\"data row3 col14\" >0</td>\n",
       "                        <td id=\"T_6074340c_c54f_11eb_a78e_f07bcbf2f291row3_col15\" class=\"data row3 col15\" >1</td>\n",
       "                        <td id=\"T_6074340c_c54f_11eb_a78e_f07bcbf2f291row3_col16\" class=\"data row3 col16\" >1</td>\n",
       "                        <td id=\"T_6074340c_c54f_11eb_a78e_f07bcbf2f291row3_col17\" class=\"data row3 col17\" >1</td>\n",
       "                        <td id=\"T_6074340c_c54f_11eb_a78e_f07bcbf2f291row3_col18\" class=\"data row3 col18\" >1</td>\n",
       "                        <td id=\"T_6074340c_c54f_11eb_a78e_f07bcbf2f291row3_col19\" class=\"data row3 col19\" >Дизайнерский</td>\n",
       "                        <td id=\"T_6074340c_c54f_11eb_a78e_f07bcbf2f291row3_col20\" class=\"data row3 col20\" >Да</td>\n",
       "                        <td id=\"T_6074340c_c54f_11eb_a78e_f07bcbf2f291row3_col21\" class=\"data row3 col21\" >Да</td>\n",
       "                        <td id=\"T_6074340c_c54f_11eb_a78e_f07bcbf2f291row3_col22\" class=\"data row3 col22\" >Да</td>\n",
       "                        <td id=\"T_6074340c_c54f_11eb_a78e_f07bcbf2f291row3_col23\" class=\"data row3 col23\" >Нет</td>\n",
       "                        <td id=\"T_6074340c_c54f_11eb_a78e_f07bcbf2f291row3_col24\" class=\"data row3 col24\" >Москва ЮЗАО р-н Академический ул. Кржижановского 23К5 </td>\n",
       "                        <td id=\"T_6074340c_c54f_11eb_a78e_f07bcbf2f291row3_col25\" class=\"data row3 col25\" >ул. Кржижановского 23К5</td>\n",
       "                        <td id=\"T_6074340c_c54f_11eb_a78e_f07bcbf2f291row3_col26\" class=\"data row3 col26\" >ЮЗАО</td>\n",
       "                        <td id=\"T_6074340c_c54f_11eb_a78e_f07bcbf2f291row3_col27\" class=\"data row3 col27\" >188000</td>\n",
       "                        <td id=\"T_6074340c_c54f_11eb_a78e_f07bcbf2f291row3_col28\" class=\"data row3 col28\" >160000</td>\n",
       "                        <td id=\"T_6074340c_c54f_11eb_a78e_f07bcbf2f291row3_col29\" class=\"data row3 col29\" >Отсутствует</td>\n",
       "                        <td id=\"T_6074340c_c54f_11eb_a78e_f07bcbf2f291row3_col30\" class=\"data row3 col30\" >1</td>\n",
       "                        <td id=\"T_6074340c_c54f_11eb_a78e_f07bcbf2f291row3_col31\" class=\"data row3 col31\" >от года</td>\n",
       "                        <td id=\"T_6074340c_c54f_11eb_a78e_f07bcbf2f291row3_col32\" class=\"data row3 col32\" >Отсутствует</td>\n",
       "                        <td id=\"T_6074340c_c54f_11eb_a78e_f07bcbf2f291row3_col33\" class=\"data row3 col33\" >nan</td>\n",
       "            </tr>\n",
       "            <tr>\n",
       "                                <td id=\"T_6074340c_c54f_11eb_a78e_f07bcbf2f291row4_col0\" class=\"data row4 col0\" >Собственник</td>\n",
       "                        <td id=\"T_6074340c_c54f_11eb_a78e_f07bcbf2f291row4_col1\" class=\"data row4 col1\" >160000</td>\n",
       "                        <td id=\"T_6074340c_c54f_11eb_a78e_f07bcbf2f291row4_col2\" class=\"data row4 col2\" >Предлагается в аренду трехкомнатная квартира в элитном ЖК \"МОСФИЛЬМОВСКАЯ\". Замечательные видовые характеристики и функциональная планировка. Квартира оснащена всей необходимой техникой.Качественный ремонт. Машино-место на подземном паркинге входит в стоимость. СОБСТВЕННИК</td>\n",
       "                        <td id=\"T_6074340c_c54f_11eb_a78e_f07bcbf2f291row4_col3\" class=\"data row4 col3\" >10</td>\n",
       "                        <td id=\"T_6074340c_c54f_11eb_a78e_f07bcbf2f291row4_col4\" class=\"data row4 col4\" >105</td>\n",
       "                        <td id=\"T_6074340c_c54f_11eb_a78e_f07bcbf2f291row4_col5\" class=\"data row4 col5\" >0</td>\n",
       "                        <td id=\"T_6074340c_c54f_11eb_a78e_f07bcbf2f291row4_col6\" class=\"data row4 col6\" >0</td>\n",
       "                        <td id=\"T_6074340c_c54f_11eb_a78e_f07bcbf2f291row4_col7\" class=\"data row4 col7\" >15</td>\n",
       "                        <td id=\"T_6074340c_c54f_11eb_a78e_f07bcbf2f291row4_col8\" class=\"data row4 col8\" >29</td>\n",
       "                        <td id=\"T_6074340c_c54f_11eb_a78e_f07bcbf2f291row4_col9\" class=\"data row4 col9\" >2017</td>\n",
       "                        <td id=\"T_6074340c_c54f_11eb_a78e_f07bcbf2f291row4_col10\" class=\"data row4 col10\" >1</td>\n",
       "                        <td id=\"T_6074340c_c54f_11eb_a78e_f07bcbf2f291row4_col11\" class=\"data row4 col11\" >1</td>\n",
       "                        <td id=\"T_6074340c_c54f_11eb_a78e_f07bcbf2f291row4_col12\" class=\"data row4 col12\" >1</td>\n",
       "                        <td id=\"T_6074340c_c54f_11eb_a78e_f07bcbf2f291row4_col13\" class=\"data row4 col13\" >1</td>\n",
       "                        <td id=\"T_6074340c_c54f_11eb_a78e_f07bcbf2f291row4_col14\" class=\"data row4 col14\" >1</td>\n",
       "                        <td id=\"T_6074340c_c54f_11eb_a78e_f07bcbf2f291row4_col15\" class=\"data row4 col15\" >1</td>\n",
       "                        <td id=\"T_6074340c_c54f_11eb_a78e_f07bcbf2f291row4_col16\" class=\"data row4 col16\" >1</td>\n",
       "                        <td id=\"T_6074340c_c54f_11eb_a78e_f07bcbf2f291row4_col17\" class=\"data row4 col17\" >1</td>\n",
       "                        <td id=\"T_6074340c_c54f_11eb_a78e_f07bcbf2f291row4_col18\" class=\"data row4 col18\" >0</td>\n",
       "                        <td id=\"T_6074340c_c54f_11eb_a78e_f07bcbf2f291row4_col19\" class=\"data row4 col19\" >Евроремонт</td>\n",
       "                        <td id=\"T_6074340c_c54f_11eb_a78e_f07bcbf2f291row4_col20\" class=\"data row4 col20\" >Да</td>\n",
       "                        <td id=\"T_6074340c_c54f_11eb_a78e_f07bcbf2f291row4_col21\" class=\"data row4 col21\" >Да</td>\n",
       "                        <td id=\"T_6074340c_c54f_11eb_a78e_f07bcbf2f291row4_col22\" class=\"data row4 col22\" >Да</td>\n",
       "                        <td id=\"T_6074340c_c54f_11eb_a78e_f07bcbf2f291row4_col23\" class=\"data row4 col23\" >Нет</td>\n",
       "                        <td id=\"T_6074340c_c54f_11eb_a78e_f07bcbf2f291row4_col24\" class=\"data row4 col24\" >Москва ЗАО р-н Раменки Мосфильмовская ул. 74Б </td>\n",
       "                        <td id=\"T_6074340c_c54f_11eb_a78e_f07bcbf2f291row4_col25\" class=\"data row4 col25\" >Мосфильмовская ул. 74Б</td>\n",
       "                        <td id=\"T_6074340c_c54f_11eb_a78e_f07bcbf2f291row4_col26\" class=\"data row4 col26\" >ЗАО</td>\n",
       "                        <td id=\"T_6074340c_c54f_11eb_a78e_f07bcbf2f291row4_col27\" class=\"data row4 col27\" >212000</td>\n",
       "                        <td id=\"T_6074340c_c54f_11eb_a78e_f07bcbf2f291row4_col28\" class=\"data row4 col28\" >Отсутствует</td>\n",
       "                        <td id=\"T_6074340c_c54f_11eb_a78e_f07bcbf2f291row4_col29\" class=\"data row4 col29\" >Отсутствует</td>\n",
       "                        <td id=\"T_6074340c_c54f_11eb_a78e_f07bcbf2f291row4_col30\" class=\"data row4 col30\" >2</td>\n",
       "                        <td id=\"T_6074340c_c54f_11eb_a78e_f07bcbf2f291row4_col31\" class=\"data row4 col31\" >от года</td>\n",
       "                        <td id=\"T_6074340c_c54f_11eb_a78e_f07bcbf2f291row4_col32\" class=\"data row4 col32\" >Отсутствует</td>\n",
       "                        <td id=\"T_6074340c_c54f_11eb_a78e_f07bcbf2f291row4_col33\" class=\"data row4 col33\" >nan</td>\n",
<<<<<<< HEAD
>>>>>>> parent of a440497 (Merge branch 'main' of https://github.com/hse-econ-data-science/hw4_project-aksenov-loginov-zaharova-bec204 into main)
=======
>>>>>>> parent of a440497 (Merge branch 'main' of https://github.com/hse-econ-data-science/hw4_project-aksenov-loginov-zaharova-bec204 into main)
       "            </tr>\n",
       "    </tbody></table>"
      ],
      "text/plain": [
<<<<<<< HEAD
<<<<<<< HEAD
       "<pandas.io.formats.style.Styler at 0xb456760>"
      ]
     },
     "execution_count": 4,
=======
=======
>>>>>>> parent of a440497 (Merge branch 'main' of https://github.com/hse-econ-data-science/hw4_project-aksenov-loginov-zaharova-bec204 into main)
       "<pandas.io.formats.style.Styler at 0x88d1a15130>"
      ]
     },
     "execution_count": 139,
<<<<<<< HEAD
>>>>>>> parent of a440497 (Merge branch 'main' of https://github.com/hse-econ-data-science/hw4_project-aksenov-loginov-zaharova-bec204 into main)
=======
>>>>>>> parent of a440497 (Merge branch 'main' of https://github.com/hse-econ-data-science/hw4_project-aksenov-loginov-zaharova-bec204 into main)
     "metadata": {},
     "output_type": "execute_result"
    }
   ],
   "source": [
    "df.head().style.hide_index()"
   ]
  },
  {
   "cell_type": "markdown",
<<<<<<< HEAD
<<<<<<< HEAD
   "id": "e7e3adc8",
=======
   "id": "820c4e3c",
>>>>>>> parent of a440497 (Merge branch 'main' of https://github.com/hse-econ-data-science/hw4_project-aksenov-loginov-zaharova-bec204 into main)
=======
   "id": "820c4e3c",
>>>>>>> parent of a440497 (Merge branch 'main' of https://github.com/hse-econ-data-science/hw4_project-aksenov-loginov-zaharova-bec204 into main)
   "metadata": {},
   "source": [
    "Что до остальных пропусков, то нигде они не превышают 50%, а значит у нас остаётся более 500 строк с этими признаками непропущенными. Мы решили их оставить и обозначить нули как \"Нет данных\", потому что очевидно, что для проверки большинства возможных гипотез не понадобится смотреть на все столбцы. Следовательно, можно выдвигать и проверять гипотезы, рассматривая только строки с данными, комбинируя некоторые части таблицы и игнорируя остальные."
   ]
  },
  {
   "cell_type": "code",
<<<<<<< HEAD
<<<<<<< HEAD
   "execution_count": 5,
   "id": "ba6f3160",
=======
   "execution_count": 119,
   "id": "a614dc59",
>>>>>>> parent of a440497 (Merge branch 'main' of https://github.com/hse-econ-data-science/hw4_project-aksenov-loginov-zaharova-bec204 into main)
=======
   "execution_count": 119,
   "id": "a614dc59",
>>>>>>> parent of a440497 (Merge branch 'main' of https://github.com/hse-econ-data-science/hw4_project-aksenov-loginov-zaharova-bec204 into main)
   "metadata": {},
   "outputs": [
    {
     "data": {
      "text/html": [
       "<style  type=\"text/css\" >\n",
<<<<<<< HEAD
<<<<<<< HEAD
       "</style><table id=\"T_d048f_\" ><thead>    <tr>        <th class=\"col_heading level0 col0\" >Агенство недвижимости</th>        <th class=\"col_heading level0 col1\" >Цена аренды</th>        <th class=\"col_heading level0 col2\" >Описание</th>        <th class=\"col_heading level0 col3\" >Минимальное время до метро, мин</th>        <th class=\"col_heading level0 col4\" >Общая площадь,  м²</th>        <th class=\"col_heading level0 col5\" >Жилая площадь,  м²</th>        <th class=\"col_heading level0 col6\" >Площадь кухни,  м²</th>        <th class=\"col_heading level0 col7\" >Этаж квартиры</th>        <th class=\"col_heading level0 col8\" >Этажей в доме</th>        <th class=\"col_heading level0 col9\" >Год постройки</th>        <th class=\"col_heading level0 col10\" >Холодильник</th>        <th class=\"col_heading level0 col11\" >Посудомоечная машина</th>        <th class=\"col_heading level0 col12\" >Мебель в комнатах</th>        <th class=\"col_heading level0 col13\" >Мебель на кухне</th>        <th class=\"col_heading level0 col14\" >Телевизор</th>        <th class=\"col_heading level0 col15\" >Интернет</th>        <th class=\"col_heading level0 col16\" >Кондиционер</th>        <th class=\"col_heading level0 col17\" >Душевая кабина</th>        <th class=\"col_heading level0 col18\" >Ванна</th>        <th class=\"col_heading level0 col19\" >Тип ремонта</th>        <th class=\"col_heading level0 col20\" >Окна на улицу</th>        <th class=\"col_heading level0 col21\" >Окна во двор</th>        <th class=\"col_heading level0 col22\" >Можно с детьми</th>        <th class=\"col_heading level0 col23\" >Можно с животными</th>        <th class=\"col_heading level0 col24\" >Полный адрес</th>        <th class=\"col_heading level0 col25\" >Улица</th>        <th class=\"col_heading level0 col26\" >Район</th>        <th class=\"col_heading level0 col27\" >Рекомендованная цена</th>        <th class=\"col_heading level0 col28\" >Залог</th>        <th class=\"col_heading level0 col29\" >Комиссия</th>        <th class=\"col_heading level0 col30\" >Предоплата(за сколько месяцев)</th>        <th class=\"col_heading level0 col31\" >Длительность съёма</th>        <th class=\"col_heading level0 col32\" >Возможность торга</th>        <th class=\"col_heading level0 col33\" >Предоплата (за сколько месяцев)</th>    </tr></thead><tbody>\n",
       "                <tr>\n",
       "                                <td id=\"T_d048f_row0_col0\" class=\"data row0 col0\" >Собственник</td>\n",
       "                        <td id=\"T_d048f_row0_col1\" class=\"data row0 col1\" >150000</td>\n",
       "                        <td id=\"T_d048f_row0_col2\" class=\"data row0 col2\" >Сдается в длительную аренду трехкомнатная квартира от собственника. \n",
=======
=======
>>>>>>> parent of a440497 (Merge branch 'main' of https://github.com/hse-econ-data-science/hw4_project-aksenov-loginov-zaharova-bec204 into main)
       "</style><table id=\"T_8182f20b_c54e_11eb_9463_f07bcbf2f291\" ><thead>    <tr>        <th class=\"col_heading level0 col0\" >Агенство недвижимости</th>        <th class=\"col_heading level0 col1\" >Цена аренды</th>        <th class=\"col_heading level0 col2\" >Описание</th>        <th class=\"col_heading level0 col3\" >Минимальное время до метро, мин</th>        <th class=\"col_heading level0 col4\" >Общая площадь,  м²</th>        <th class=\"col_heading level0 col5\" >Жилая площадь,  м²</th>        <th class=\"col_heading level0 col6\" >Площадь кухни,  м²</th>        <th class=\"col_heading level0 col7\" >Этаж квартиры</th>        <th class=\"col_heading level0 col8\" >Этажей в доме</th>        <th class=\"col_heading level0 col9\" >Год постройки</th>        <th class=\"col_heading level0 col10\" >Холодильник</th>        <th class=\"col_heading level0 col11\" >Посудомоечная машина</th>        <th class=\"col_heading level0 col12\" >Мебель в комнатах</th>        <th class=\"col_heading level0 col13\" >Мебель на кухне</th>        <th class=\"col_heading level0 col14\" >Телевизор</th>        <th class=\"col_heading level0 col15\" >Интернет</th>        <th class=\"col_heading level0 col16\" >Кондиционер</th>        <th class=\"col_heading level0 col17\" >Душевая кабина</th>        <th class=\"col_heading level0 col18\" >Ванна</th>        <th class=\"col_heading level0 col19\" >Тип ремонта</th>        <th class=\"col_heading level0 col20\" >Окна на улицу</th>        <th class=\"col_heading level0 col21\" >Окна во двор</th>        <th class=\"col_heading level0 col22\" >Можно с детьми</th>        <th class=\"col_heading level0 col23\" >Можно с животными</th>        <th class=\"col_heading level0 col24\" >Полный адрес</th>        <th class=\"col_heading level0 col25\" >Улица</th>        <th class=\"col_heading level0 col26\" >Район</th>        <th class=\"col_heading level0 col27\" >Рекомендованная цена</th>        <th class=\"col_heading level0 col28\" >Залог</th>        <th class=\"col_heading level0 col29\" >Комиссия</th>        <th class=\"col_heading level0 col30\" >Предоплата(за сколько месяцев)</th>        <th class=\"col_heading level0 col31\" >Длительность съёма</th>        <th class=\"col_heading level0 col32\" >Возможность торга</th>        <th class=\"col_heading level0 col33\" >Предоплата (за сколько месяцев)</th>    </tr></thead><tbody>\n",
       "                <tr>\n",
       "                                <td id=\"T_8182f20b_c54e_11eb_9463_f07bcbf2f291row0_col0\" class=\"data row0 col0\" >Собственник</td>\n",
       "                        <td id=\"T_8182f20b_c54e_11eb_9463_f07bcbf2f291row0_col1\" class=\"data row0 col1\" >150000</td>\n",
       "                        <td id=\"T_8182f20b_c54e_11eb_9463_f07bcbf2f291row0_col2\" class=\"data row0 col2\" >Сдается в длительную аренду трехкомнатная квартира от собственника. \n",
<<<<<<< HEAD
>>>>>>> parent of a440497 (Merge branch 'main' of https://github.com/hse-econ-data-science/hw4_project-aksenov-loginov-zaharova-bec204 into main)
=======
>>>>>>> parent of a440497 (Merge branch 'main' of https://github.com/hse-econ-data-science/hw4_project-aksenov-loginov-zaharova-bec204 into main)
       "\n",
       "Тихий зеленый район, развитая инфраструктура: в доме частный детский сад, в шаговой доступности школы (частная, общеобразовательная, университетская при МПГУ), аптеки, салоны красоты, в 3 минутах пешком (610 метров) ТЦ Авиапарк.\n",
       "Охраняемый ЖК, подземный паркинг (одно просторное машиноместо входит в стоимость аренды). 12 минут пешком до м. ЦСКА, 20 минут пешком до м. Аэропорт. \n",
       "\n",
       "Три комнаты: спальня с гардеробной, кабинет/детская, гостиная, совмещенная с кухней. Два санузла: туалет с раковиной в малом санузле и просторная душевая, туалет и раковина в основном. Две просторных лоджии: с выходом из кухни и из спальни. \n",
       "\n",
       "Современное оборудование: кондиционеры  и ЖК телевизоры во всех комнатах, на кухне индукционная плита, свч /духовая печь, посудомоечная машина, стиральная машина.</td>\n",
<<<<<<< HEAD
<<<<<<< HEAD
       "                        <td id=\"T_d048f_row0_col3\" class=\"data row0 col3\" >8</td>\n",
       "                        <td id=\"T_d048f_row0_col4\" class=\"data row0 col4\" >Нет данных</td>\n",
       "                        <td id=\"T_d048f_row0_col5\" class=\"data row0 col5\" >Нет данных</td>\n",
       "                        <td id=\"T_d048f_row0_col6\" class=\"data row0 col6\" >Нет данных</td>\n",
       "                        <td id=\"T_d048f_row0_col7\" class=\"data row0 col7\" >Нет данных</td>\n",
       "                        <td id=\"T_d048f_row0_col8\" class=\"data row0 col8\" >Нет данных</td>\n",
       "                        <td id=\"T_d048f_row0_col9\" class=\"data row0 col9\" >Нет данных</td>\n",
       "                        <td id=\"T_d048f_row0_col10\" class=\"data row0 col10\" >1</td>\n",
       "                        <td id=\"T_d048f_row0_col11\" class=\"data row0 col11\" >1</td>\n",
       "                        <td id=\"T_d048f_row0_col12\" class=\"data row0 col12\" >1</td>\n",
       "                        <td id=\"T_d048f_row0_col13\" class=\"data row0 col13\" >1</td>\n",
       "                        <td id=\"T_d048f_row0_col14\" class=\"data row0 col14\" >1</td>\n",
       "                        <td id=\"T_d048f_row0_col15\" class=\"data row0 col15\" >1</td>\n",
       "                        <td id=\"T_d048f_row0_col16\" class=\"data row0 col16\" >1</td>\n",
       "                        <td id=\"T_d048f_row0_col17\" class=\"data row0 col17\" >1</td>\n",
       "                        <td id=\"T_d048f_row0_col18\" class=\"data row0 col18\" >Нет данных</td>\n",
       "                        <td id=\"T_d048f_row0_col19\" class=\"data row0 col19\" >Дизайнерский</td>\n",
       "                        <td id=\"T_d048f_row0_col20\" class=\"data row0 col20\" >Да</td>\n",
       "                        <td id=\"T_d048f_row0_col21\" class=\"data row0 col21\" >Да</td>\n",
       "                        <td id=\"T_d048f_row0_col22\" class=\"data row0 col22\" >Да</td>\n",
       "                        <td id=\"T_d048f_row0_col23\" class=\"data row0 col23\" >Нет</td>\n",
       "                        <td id=\"T_d048f_row0_col24\" class=\"data row0 col24\" >Москва САО р-н Хорошевский ул. Авиаконструктора Микояна 14к2 </td>\n",
       "                        <td id=\"T_d048f_row0_col25\" class=\"data row0 col25\" >ул. Авиаконструктора Микояна 14к2</td>\n",
       "                        <td id=\"T_d048f_row0_col26\" class=\"data row0 col26\" >САО</td>\n",
       "                        <td id=\"T_d048f_row0_col27\" class=\"data row0 col27\" >217000</td>\n",
       "                        <td id=\"T_d048f_row0_col28\" class=\"data row0 col28\" >150000</td>\n",
       "                        <td id=\"T_d048f_row0_col29\" class=\"data row0 col29\" >Отсутствует</td>\n",
       "                        <td id=\"T_d048f_row0_col30\" class=\"data row0 col30\" >1</td>\n",
       "                        <td id=\"T_d048f_row0_col31\" class=\"data row0 col31\" >от года</td>\n",
       "                        <td id=\"T_d048f_row0_col32\" class=\"data row0 col32\" >Отсутствует</td>\n",
       "                        <td id=\"T_d048f_row0_col33\" class=\"data row0 col33\" >nan</td>\n",
       "            </tr>\n",
       "            <tr>\n",
       "                                <td id=\"T_d048f_row1_col0\" class=\"data row1 col0\" >ELEVEN REALTY</td>\n",
       "                        <td id=\"T_d048f_row1_col1\" class=\"data row1 col1\" >160000</td>\n",
       "                        <td id=\"T_d048f_row1_col2\" class=\"data row1 col2\" >Вашему вниманию предлагается квартира расположенная в доме Булдакова. Окна выходят в тихий двор. В квартире имеется вся необходимая мебель и бытовая техника для комфортного проживания. \n",
       "Рассмотрим делительную аренду.</td>\n",
       "                        <td id=\"T_d048f_row1_col3\" class=\"data row1 col3\" >5</td>\n",
       "                        <td id=\"T_d048f_row1_col4\" class=\"data row1 col4\" >130</td>\n",
       "                        <td id=\"T_d048f_row1_col5\" class=\"data row1 col5\" >80</td>\n",
       "                        <td id=\"T_d048f_row1_col6\" class=\"data row1 col6\" >20</td>\n",
       "                        <td id=\"T_d048f_row1_col7\" class=\"data row1 col7\" >4</td>\n",
       "                        <td id=\"T_d048f_row1_col8\" class=\"data row1 col8\" >5</td>\n",
       "                        <td id=\"T_d048f_row1_col9\" class=\"data row1 col9\" >1903</td>\n",
       "                        <td id=\"T_d048f_row1_col10\" class=\"data row1 col10\" >1</td>\n",
       "                        <td id=\"T_d048f_row1_col11\" class=\"data row1 col11\" >1</td>\n",
       "                        <td id=\"T_d048f_row1_col12\" class=\"data row1 col12\" >1</td>\n",
       "                        <td id=\"T_d048f_row1_col13\" class=\"data row1 col13\" >1</td>\n",
       "                        <td id=\"T_d048f_row1_col14\" class=\"data row1 col14\" >1</td>\n",
       "                        <td id=\"T_d048f_row1_col15\" class=\"data row1 col15\" >1</td>\n",
       "                        <td id=\"T_d048f_row1_col16\" class=\"data row1 col16\" >1</td>\n",
       "                        <td id=\"T_d048f_row1_col17\" class=\"data row1 col17\" >Нет данных</td>\n",
       "                        <td id=\"T_d048f_row1_col18\" class=\"data row1 col18\" >1</td>\n",
       "                        <td id=\"T_d048f_row1_col19\" class=\"data row1 col19\" >Дизайнерский</td>\n",
       "                        <td id=\"T_d048f_row1_col20\" class=\"data row1 col20\" >Нет</td>\n",
       "                        <td id=\"T_d048f_row1_col21\" class=\"data row1 col21\" >Да</td>\n",
       "                        <td id=\"T_d048f_row1_col22\" class=\"data row1 col22\" >Да</td>\n",
       "                        <td id=\"T_d048f_row1_col23\" class=\"data row1 col23\" >Да</td>\n",
       "                        <td id=\"T_d048f_row1_col24\" class=\"data row1 col24\" >Москва ЦАО р-н Пресненский Большая Садовая ул. 10 </td>\n",
       "                        <td id=\"T_d048f_row1_col25\" class=\"data row1 col25\" >Большая Садовая ул. 10</td>\n",
       "                        <td id=\"T_d048f_row1_col26\" class=\"data row1 col26\" >ЦАО</td>\n",
       "                        <td id=\"T_d048f_row1_col27\" class=\"data row1 col27\" >316000</td>\n",
       "                        <td id=\"T_d048f_row1_col28\" class=\"data row1 col28\" >160000</td>\n",
       "                        <td id=\"T_d048f_row1_col29\" class=\"data row1 col29\" >Отсутствует</td>\n",
       "                        <td id=\"T_d048f_row1_col30\" class=\"data row1 col30\" >1</td>\n",
       "                        <td id=\"T_d048f_row1_col31\" class=\"data row1 col31\" >от года</td>\n",
       "                        <td id=\"T_d048f_row1_col32\" class=\"data row1 col32\" >Отсутствует</td>\n",
       "                        <td id=\"T_d048f_row1_col33\" class=\"data row1 col33\" >nan</td>\n",
       "            </tr>\n",
       "            <tr>\n",
       "                                <td id=\"T_d048f_row2_col0\" class=\"data row2 col0\" >Вероника Кудашова</td>\n",
       "                        <td id=\"T_d048f_row2_col1\" class=\"data row2 col1\" >160000</td>\n",
       "                        <td id=\"T_d048f_row2_col2\" class=\"data row2 col2\" >ЖК Шуваловский. Сдам элегантную трехкомнатную квартиру - мастер-спальня с выходом на лоджию, детская с гардеробной, два санузла, большая гардеробная, кухня-столовая-гостиная с панорамным окном. В спальнях минимум мебели, кровати уже привезли. Кухня-гостиная с мебелью и техникой.\n",
       "Охраняемая территория, паркинг, детская площадка во дворе. Богатая инфраструктура района.</td>\n",
       "                        <td id=\"T_d048f_row2_col3\" class=\"data row2 col3\" >3</td>\n",
       "                        <td id=\"T_d048f_row2_col4\" class=\"data row2 col4\" >110</td>\n",
       "                        <td id=\"T_d048f_row2_col5\" class=\"data row2 col5\" >60</td>\n",
       "                        <td id=\"T_d048f_row2_col6\" class=\"data row2 col6\" >14</td>\n",
       "                        <td id=\"T_d048f_row2_col7\" class=\"data row2 col7\" >6</td>\n",
       "                        <td id=\"T_d048f_row2_col8\" class=\"data row2 col8\" >15</td>\n",
       "                        <td id=\"T_d048f_row2_col9\" class=\"data row2 col9\" >2008</td>\n",
       "                        <td id=\"T_d048f_row2_col10\" class=\"data row2 col10\" >1</td>\n",
       "                        <td id=\"T_d048f_row2_col11\" class=\"data row2 col11\" >1</td>\n",
       "                        <td id=\"T_d048f_row2_col12\" class=\"data row2 col12\" >1</td>\n",
       "                        <td id=\"T_d048f_row2_col13\" class=\"data row2 col13\" >1</td>\n",
       "                        <td id=\"T_d048f_row2_col14\" class=\"data row2 col14\" >1</td>\n",
       "                        <td id=\"T_d048f_row2_col15\" class=\"data row2 col15\" >1</td>\n",
       "                        <td id=\"T_d048f_row2_col16\" class=\"data row2 col16\" >1</td>\n",
       "                        <td id=\"T_d048f_row2_col17\" class=\"data row2 col17\" >Нет данных</td>\n",
       "                        <td id=\"T_d048f_row2_col18\" class=\"data row2 col18\" >1</td>\n",
       "                        <td id=\"T_d048f_row2_col19\" class=\"data row2 col19\" >Дизайнерский</td>\n",
       "                        <td id=\"T_d048f_row2_col20\" class=\"data row2 col20\" >Да</td>\n",
       "                        <td id=\"T_d048f_row2_col21\" class=\"data row2 col21\" >Да</td>\n",
       "                        <td id=\"T_d048f_row2_col22\" class=\"data row2 col22\" >Да</td>\n",
       "                        <td id=\"T_d048f_row2_col23\" class=\"data row2 col23\" >Нет</td>\n",
       "                        <td id=\"T_d048f_row2_col24\" class=\"data row2 col24\" >Москва ЗАО р-н Раменки Мичуринский просп. 3 </td>\n",
       "                        <td id=\"T_d048f_row2_col25\" class=\"data row2 col25\" >Мичуринский просп. 3</td>\n",
       "                        <td id=\"T_d048f_row2_col26\" class=\"data row2 col26\" >ЗАО</td>\n",
       "                        <td id=\"T_d048f_row2_col27\" class=\"data row2 col27\" >196000</td>\n",
       "                        <td id=\"T_d048f_row2_col28\" class=\"data row2 col28\" >160000</td>\n",
       "                        <td id=\"T_d048f_row2_col29\" class=\"data row2 col29\" >Отсутствует</td>\n",
       "                        <td id=\"T_d048f_row2_col30\" class=\"data row2 col30\" >1</td>\n",
       "                        <td id=\"T_d048f_row2_col31\" class=\"data row2 col31\" >от года</td>\n",
       "                        <td id=\"T_d048f_row2_col32\" class=\"data row2 col32\" >Отсутствует</td>\n",
       "                        <td id=\"T_d048f_row2_col33\" class=\"data row2 col33\" >nan</td>\n",
       "            </tr>\n",
       "            <tr>\n",
       "                                <td id=\"T_d048f_row3_col0\" class=\"data row3 col0\" >ID 13539540</td>\n",
       "                        <td id=\"T_d048f_row3_col1\" class=\"data row3 col1\" >160000</td>\n",
       "                        <td id=\"T_d048f_row3_col2\" class=\"data row3 col2\" >Предлагается  в аренду большая,  светлая трехкомнатная квартира с высокими потолками и  дизайнерским ремонтом.  Планировка квартиры включает в себя: гостиную, совмещенную с кухней, две изолированные спальни, в каждой из которых есть оборудованная гардеробная комната.  Два  санузла. В одном санузле ванна, в другом - душевая кабина. При необходимости, мебель покупается под клиента.</td>\n",
       "                        <td id=\"T_d048f_row3_col3\" class=\"data row3 col3\" >15</td>\n",
       "                        <td id=\"T_d048f_row3_col4\" class=\"data row3 col4\" >150</td>\n",
       "                        <td id=\"T_d048f_row3_col5\" class=\"data row3 col5\" >110</td>\n",
       "                        <td id=\"T_d048f_row3_col6\" class=\"data row3 col6\" >30</td>\n",
       "                        <td id=\"T_d048f_row3_col7\" class=\"data row3 col7\" >3</td>\n",
       "                        <td id=\"T_d048f_row3_col8\" class=\"data row3 col8\" >6</td>\n",
       "                        <td id=\"T_d048f_row3_col9\" class=\"data row3 col9\" >1954</td>\n",
       "                        <td id=\"T_d048f_row3_col10\" class=\"data row3 col10\" >1</td>\n",
       "                        <td id=\"T_d048f_row3_col11\" class=\"data row3 col11\" >1</td>\n",
       "                        <td id=\"T_d048f_row3_col12\" class=\"data row3 col12\" >Нет данных</td>\n",
       "                        <td id=\"T_d048f_row3_col13\" class=\"data row3 col13\" >1</td>\n",
       "                        <td id=\"T_d048f_row3_col14\" class=\"data row3 col14\" >Нет данных</td>\n",
       "                        <td id=\"T_d048f_row3_col15\" class=\"data row3 col15\" >1</td>\n",
       "                        <td id=\"T_d048f_row3_col16\" class=\"data row3 col16\" >1</td>\n",
       "                        <td id=\"T_d048f_row3_col17\" class=\"data row3 col17\" >1</td>\n",
       "                        <td id=\"T_d048f_row3_col18\" class=\"data row3 col18\" >1</td>\n",
       "                        <td id=\"T_d048f_row3_col19\" class=\"data row3 col19\" >Дизайнерский</td>\n",
       "                        <td id=\"T_d048f_row3_col20\" class=\"data row3 col20\" >Да</td>\n",
       "                        <td id=\"T_d048f_row3_col21\" class=\"data row3 col21\" >Да</td>\n",
       "                        <td id=\"T_d048f_row3_col22\" class=\"data row3 col22\" >Да</td>\n",
       "                        <td id=\"T_d048f_row3_col23\" class=\"data row3 col23\" >Нет</td>\n",
       "                        <td id=\"T_d048f_row3_col24\" class=\"data row3 col24\" >Москва ЮЗАО р-н Академический ул. Кржижановского 23К5 </td>\n",
       "                        <td id=\"T_d048f_row3_col25\" class=\"data row3 col25\" >ул. Кржижановского 23К5</td>\n",
       "                        <td id=\"T_d048f_row3_col26\" class=\"data row3 col26\" >ЮЗАО</td>\n",
       "                        <td id=\"T_d048f_row3_col27\" class=\"data row3 col27\" >188000</td>\n",
       "                        <td id=\"T_d048f_row3_col28\" class=\"data row3 col28\" >160000</td>\n",
       "                        <td id=\"T_d048f_row3_col29\" class=\"data row3 col29\" >Отсутствует</td>\n",
       "                        <td id=\"T_d048f_row3_col30\" class=\"data row3 col30\" >1</td>\n",
       "                        <td id=\"T_d048f_row3_col31\" class=\"data row3 col31\" >от года</td>\n",
       "                        <td id=\"T_d048f_row3_col32\" class=\"data row3 col32\" >Отсутствует</td>\n",
       "                        <td id=\"T_d048f_row3_col33\" class=\"data row3 col33\" >nan</td>\n",
       "            </tr>\n",
       "            <tr>\n",
       "                                <td id=\"T_d048f_row4_col0\" class=\"data row4 col0\" >Собственник</td>\n",
       "                        <td id=\"T_d048f_row4_col1\" class=\"data row4 col1\" >160000</td>\n",
       "                        <td id=\"T_d048f_row4_col2\" class=\"data row4 col2\" >Предлагается в аренду трехкомнатная квартира в элитном ЖК \"МОСФИЛЬМОВСКАЯ\". Замечательные видовые характеристики и функциональная планировка. Квартира оснащена всей необходимой техникой.Качественный ремонт. Машино-место на подземном паркинге входит в стоимость. СОБСТВЕННИК</td>\n",
       "                        <td id=\"T_d048f_row4_col3\" class=\"data row4 col3\" >10</td>\n",
       "                        <td id=\"T_d048f_row4_col4\" class=\"data row4 col4\" >105</td>\n",
       "                        <td id=\"T_d048f_row4_col5\" class=\"data row4 col5\" >Нет данных</td>\n",
       "                        <td id=\"T_d048f_row4_col6\" class=\"data row4 col6\" >Нет данных</td>\n",
       "                        <td id=\"T_d048f_row4_col7\" class=\"data row4 col7\" >15</td>\n",
       "                        <td id=\"T_d048f_row4_col8\" class=\"data row4 col8\" >29</td>\n",
       "                        <td id=\"T_d048f_row4_col9\" class=\"data row4 col9\" >2017</td>\n",
       "                        <td id=\"T_d048f_row4_col10\" class=\"data row4 col10\" >1</td>\n",
       "                        <td id=\"T_d048f_row4_col11\" class=\"data row4 col11\" >1</td>\n",
       "                        <td id=\"T_d048f_row4_col12\" class=\"data row4 col12\" >1</td>\n",
       "                        <td id=\"T_d048f_row4_col13\" class=\"data row4 col13\" >1</td>\n",
       "                        <td id=\"T_d048f_row4_col14\" class=\"data row4 col14\" >1</td>\n",
       "                        <td id=\"T_d048f_row4_col15\" class=\"data row4 col15\" >1</td>\n",
       "                        <td id=\"T_d048f_row4_col16\" class=\"data row4 col16\" >1</td>\n",
       "                        <td id=\"T_d048f_row4_col17\" class=\"data row4 col17\" >1</td>\n",
       "                        <td id=\"T_d048f_row4_col18\" class=\"data row4 col18\" >Нет данных</td>\n",
       "                        <td id=\"T_d048f_row4_col19\" class=\"data row4 col19\" >Евроремонт</td>\n",
       "                        <td id=\"T_d048f_row4_col20\" class=\"data row4 col20\" >Да</td>\n",
       "                        <td id=\"T_d048f_row4_col21\" class=\"data row4 col21\" >Да</td>\n",
       "                        <td id=\"T_d048f_row4_col22\" class=\"data row4 col22\" >Да</td>\n",
       "                        <td id=\"T_d048f_row4_col23\" class=\"data row4 col23\" >Нет</td>\n",
       "                        <td id=\"T_d048f_row4_col24\" class=\"data row4 col24\" >Москва ЗАО р-н Раменки Мосфильмовская ул. 74Б </td>\n",
       "                        <td id=\"T_d048f_row4_col25\" class=\"data row4 col25\" >Мосфильмовская ул. 74Б</td>\n",
       "                        <td id=\"T_d048f_row4_col26\" class=\"data row4 col26\" >ЗАО</td>\n",
       "                        <td id=\"T_d048f_row4_col27\" class=\"data row4 col27\" >212000</td>\n",
       "                        <td id=\"T_d048f_row4_col28\" class=\"data row4 col28\" >Отсутствует</td>\n",
       "                        <td id=\"T_d048f_row4_col29\" class=\"data row4 col29\" >Отсутствует</td>\n",
       "                        <td id=\"T_d048f_row4_col30\" class=\"data row4 col30\" >2</td>\n",
       "                        <td id=\"T_d048f_row4_col31\" class=\"data row4 col31\" >от года</td>\n",
       "                        <td id=\"T_d048f_row4_col32\" class=\"data row4 col32\" >Отсутствует</td>\n",
       "                        <td id=\"T_d048f_row4_col33\" class=\"data row4 col33\" >nan</td>\n",
=======
=======
>>>>>>> parent of a440497 (Merge branch 'main' of https://github.com/hse-econ-data-science/hw4_project-aksenov-loginov-zaharova-bec204 into main)
       "                        <td id=\"T_8182f20b_c54e_11eb_9463_f07bcbf2f291row0_col3\" class=\"data row0 col3\" >8</td>\n",
       "                        <td id=\"T_8182f20b_c54e_11eb_9463_f07bcbf2f291row0_col4\" class=\"data row0 col4\" >Нет данных</td>\n",
       "                        <td id=\"T_8182f20b_c54e_11eb_9463_f07bcbf2f291row0_col5\" class=\"data row0 col5\" >Нет данных</td>\n",
       "                        <td id=\"T_8182f20b_c54e_11eb_9463_f07bcbf2f291row0_col6\" class=\"data row0 col6\" >Нет данных</td>\n",
       "                        <td id=\"T_8182f20b_c54e_11eb_9463_f07bcbf2f291row0_col7\" class=\"data row0 col7\" >Нет данных</td>\n",
       "                        <td id=\"T_8182f20b_c54e_11eb_9463_f07bcbf2f291row0_col8\" class=\"data row0 col8\" >Нет данных</td>\n",
       "                        <td id=\"T_8182f20b_c54e_11eb_9463_f07bcbf2f291row0_col9\" class=\"data row0 col9\" >Нет данных</td>\n",
       "                        <td id=\"T_8182f20b_c54e_11eb_9463_f07bcbf2f291row0_col10\" class=\"data row0 col10\" >1</td>\n",
       "                        <td id=\"T_8182f20b_c54e_11eb_9463_f07bcbf2f291row0_col11\" class=\"data row0 col11\" >1</td>\n",
       "                        <td id=\"T_8182f20b_c54e_11eb_9463_f07bcbf2f291row0_col12\" class=\"data row0 col12\" >1</td>\n",
       "                        <td id=\"T_8182f20b_c54e_11eb_9463_f07bcbf2f291row0_col13\" class=\"data row0 col13\" >1</td>\n",
       "                        <td id=\"T_8182f20b_c54e_11eb_9463_f07bcbf2f291row0_col14\" class=\"data row0 col14\" >1</td>\n",
       "                        <td id=\"T_8182f20b_c54e_11eb_9463_f07bcbf2f291row0_col15\" class=\"data row0 col15\" >1</td>\n",
       "                        <td id=\"T_8182f20b_c54e_11eb_9463_f07bcbf2f291row0_col16\" class=\"data row0 col16\" >1</td>\n",
       "                        <td id=\"T_8182f20b_c54e_11eb_9463_f07bcbf2f291row0_col17\" class=\"data row0 col17\" >1</td>\n",
       "                        <td id=\"T_8182f20b_c54e_11eb_9463_f07bcbf2f291row0_col18\" class=\"data row0 col18\" >Нет данных</td>\n",
       "                        <td id=\"T_8182f20b_c54e_11eb_9463_f07bcbf2f291row0_col19\" class=\"data row0 col19\" >Дизайнерский</td>\n",
       "                        <td id=\"T_8182f20b_c54e_11eb_9463_f07bcbf2f291row0_col20\" class=\"data row0 col20\" >Да</td>\n",
       "                        <td id=\"T_8182f20b_c54e_11eb_9463_f07bcbf2f291row0_col21\" class=\"data row0 col21\" >Да</td>\n",
       "                        <td id=\"T_8182f20b_c54e_11eb_9463_f07bcbf2f291row0_col22\" class=\"data row0 col22\" >Да</td>\n",
       "                        <td id=\"T_8182f20b_c54e_11eb_9463_f07bcbf2f291row0_col23\" class=\"data row0 col23\" >Нет</td>\n",
       "                        <td id=\"T_8182f20b_c54e_11eb_9463_f07bcbf2f291row0_col24\" class=\"data row0 col24\" >Москва САО р-н Хорошевский ул. Авиаконструктора Микояна 14к2 </td>\n",
       "                        <td id=\"T_8182f20b_c54e_11eb_9463_f07bcbf2f291row0_col25\" class=\"data row0 col25\" >ул. Авиаконструктора Микояна 14к2</td>\n",
       "                        <td id=\"T_8182f20b_c54e_11eb_9463_f07bcbf2f291row0_col26\" class=\"data row0 col26\" >САО</td>\n",
       "                        <td id=\"T_8182f20b_c54e_11eb_9463_f07bcbf2f291row0_col27\" class=\"data row0 col27\" >217000</td>\n",
       "                        <td id=\"T_8182f20b_c54e_11eb_9463_f07bcbf2f291row0_col28\" class=\"data row0 col28\" >150000</td>\n",
       "                        <td id=\"T_8182f20b_c54e_11eb_9463_f07bcbf2f291row0_col29\" class=\"data row0 col29\" >Отсутствует</td>\n",
       "                        <td id=\"T_8182f20b_c54e_11eb_9463_f07bcbf2f291row0_col30\" class=\"data row0 col30\" >1</td>\n",
       "                        <td id=\"T_8182f20b_c54e_11eb_9463_f07bcbf2f291row0_col31\" class=\"data row0 col31\" >от года</td>\n",
       "                        <td id=\"T_8182f20b_c54e_11eb_9463_f07bcbf2f291row0_col32\" class=\"data row0 col32\" >Отсутствует</td>\n",
       "                        <td id=\"T_8182f20b_c54e_11eb_9463_f07bcbf2f291row0_col33\" class=\"data row0 col33\" >nan</td>\n",
       "            </tr>\n",
       "            <tr>\n",
       "                                <td id=\"T_8182f20b_c54e_11eb_9463_f07bcbf2f291row1_col0\" class=\"data row1 col0\" >ELEVEN REALTY</td>\n",
       "                        <td id=\"T_8182f20b_c54e_11eb_9463_f07bcbf2f291row1_col1\" class=\"data row1 col1\" >160000</td>\n",
       "                        <td id=\"T_8182f20b_c54e_11eb_9463_f07bcbf2f291row1_col2\" class=\"data row1 col2\" >Вашему вниманию предлагается квартира расположенная в доме Булдакова. Окна выходят в тихий двор. В квартире имеется вся необходимая мебель и бытовая техника для комфортного проживания. \n",
       "Рассмотрим делительную аренду.</td>\n",
       "                        <td id=\"T_8182f20b_c54e_11eb_9463_f07bcbf2f291row1_col3\" class=\"data row1 col3\" >5</td>\n",
       "                        <td id=\"T_8182f20b_c54e_11eb_9463_f07bcbf2f291row1_col4\" class=\"data row1 col4\" >130</td>\n",
       "                        <td id=\"T_8182f20b_c54e_11eb_9463_f07bcbf2f291row1_col5\" class=\"data row1 col5\" >80</td>\n",
       "                        <td id=\"T_8182f20b_c54e_11eb_9463_f07bcbf2f291row1_col6\" class=\"data row1 col6\" >20</td>\n",
       "                        <td id=\"T_8182f20b_c54e_11eb_9463_f07bcbf2f291row1_col7\" class=\"data row1 col7\" >4</td>\n",
       "                        <td id=\"T_8182f20b_c54e_11eb_9463_f07bcbf2f291row1_col8\" class=\"data row1 col8\" >5</td>\n",
       "                        <td id=\"T_8182f20b_c54e_11eb_9463_f07bcbf2f291row1_col9\" class=\"data row1 col9\" >1903</td>\n",
       "                        <td id=\"T_8182f20b_c54e_11eb_9463_f07bcbf2f291row1_col10\" class=\"data row1 col10\" >1</td>\n",
       "                        <td id=\"T_8182f20b_c54e_11eb_9463_f07bcbf2f291row1_col11\" class=\"data row1 col11\" >1</td>\n",
       "                        <td id=\"T_8182f20b_c54e_11eb_9463_f07bcbf2f291row1_col12\" class=\"data row1 col12\" >1</td>\n",
       "                        <td id=\"T_8182f20b_c54e_11eb_9463_f07bcbf2f291row1_col13\" class=\"data row1 col13\" >1</td>\n",
       "                        <td id=\"T_8182f20b_c54e_11eb_9463_f07bcbf2f291row1_col14\" class=\"data row1 col14\" >1</td>\n",
       "                        <td id=\"T_8182f20b_c54e_11eb_9463_f07bcbf2f291row1_col15\" class=\"data row1 col15\" >1</td>\n",
       "                        <td id=\"T_8182f20b_c54e_11eb_9463_f07bcbf2f291row1_col16\" class=\"data row1 col16\" >1</td>\n",
       "                        <td id=\"T_8182f20b_c54e_11eb_9463_f07bcbf2f291row1_col17\" class=\"data row1 col17\" >Нет данных</td>\n",
       "                        <td id=\"T_8182f20b_c54e_11eb_9463_f07bcbf2f291row1_col18\" class=\"data row1 col18\" >1</td>\n",
       "                        <td id=\"T_8182f20b_c54e_11eb_9463_f07bcbf2f291row1_col19\" class=\"data row1 col19\" >Дизайнерский</td>\n",
       "                        <td id=\"T_8182f20b_c54e_11eb_9463_f07bcbf2f291row1_col20\" class=\"data row1 col20\" >Нет</td>\n",
       "                        <td id=\"T_8182f20b_c54e_11eb_9463_f07bcbf2f291row1_col21\" class=\"data row1 col21\" >Да</td>\n",
       "                        <td id=\"T_8182f20b_c54e_11eb_9463_f07bcbf2f291row1_col22\" class=\"data row1 col22\" >Да</td>\n",
       "                        <td id=\"T_8182f20b_c54e_11eb_9463_f07bcbf2f291row1_col23\" class=\"data row1 col23\" >Да</td>\n",
       "                        <td id=\"T_8182f20b_c54e_11eb_9463_f07bcbf2f291row1_col24\" class=\"data row1 col24\" >Москва ЦАО р-н Пресненский Большая Садовая ул. 10 </td>\n",
       "                        <td id=\"T_8182f20b_c54e_11eb_9463_f07bcbf2f291row1_col25\" class=\"data row1 col25\" >Большая Садовая ул. 10</td>\n",
       "                        <td id=\"T_8182f20b_c54e_11eb_9463_f07bcbf2f291row1_col26\" class=\"data row1 col26\" >ЦАО</td>\n",
       "                        <td id=\"T_8182f20b_c54e_11eb_9463_f07bcbf2f291row1_col27\" class=\"data row1 col27\" >316000</td>\n",
       "                        <td id=\"T_8182f20b_c54e_11eb_9463_f07bcbf2f291row1_col28\" class=\"data row1 col28\" >160000</td>\n",
       "                        <td id=\"T_8182f20b_c54e_11eb_9463_f07bcbf2f291row1_col29\" class=\"data row1 col29\" >Отсутствует</td>\n",
       "                        <td id=\"T_8182f20b_c54e_11eb_9463_f07bcbf2f291row1_col30\" class=\"data row1 col30\" >1</td>\n",
       "                        <td id=\"T_8182f20b_c54e_11eb_9463_f07bcbf2f291row1_col31\" class=\"data row1 col31\" >от года</td>\n",
       "                        <td id=\"T_8182f20b_c54e_11eb_9463_f07bcbf2f291row1_col32\" class=\"data row1 col32\" >Отсутствует</td>\n",
       "                        <td id=\"T_8182f20b_c54e_11eb_9463_f07bcbf2f291row1_col33\" class=\"data row1 col33\" >nan</td>\n",
       "            </tr>\n",
       "            <tr>\n",
       "                                <td id=\"T_8182f20b_c54e_11eb_9463_f07bcbf2f291row2_col0\" class=\"data row2 col0\" >Вероника Кудашова</td>\n",
       "                        <td id=\"T_8182f20b_c54e_11eb_9463_f07bcbf2f291row2_col1\" class=\"data row2 col1\" >160000</td>\n",
       "                        <td id=\"T_8182f20b_c54e_11eb_9463_f07bcbf2f291row2_col2\" class=\"data row2 col2\" >ЖК Шуваловский. Сдам элегантную трехкомнатную квартиру - мастер-спальня с выходом на лоджию, детская с гардеробной, два санузла, большая гардеробная, кухня-столовая-гостиная с панорамным окном. В спальнях минимум мебели, кровати уже привезли. Кухня-гостиная с мебелью и техникой.\n",
       "Охраняемая территория, паркинг, детская площадка во дворе. Богатая инфраструктура района.</td>\n",
       "                        <td id=\"T_8182f20b_c54e_11eb_9463_f07bcbf2f291row2_col3\" class=\"data row2 col3\" >3</td>\n",
       "                        <td id=\"T_8182f20b_c54e_11eb_9463_f07bcbf2f291row2_col4\" class=\"data row2 col4\" >110</td>\n",
       "                        <td id=\"T_8182f20b_c54e_11eb_9463_f07bcbf2f291row2_col5\" class=\"data row2 col5\" >60</td>\n",
       "                        <td id=\"T_8182f20b_c54e_11eb_9463_f07bcbf2f291row2_col6\" class=\"data row2 col6\" >14</td>\n",
       "                        <td id=\"T_8182f20b_c54e_11eb_9463_f07bcbf2f291row2_col7\" class=\"data row2 col7\" >6</td>\n",
       "                        <td id=\"T_8182f20b_c54e_11eb_9463_f07bcbf2f291row2_col8\" class=\"data row2 col8\" >15</td>\n",
       "                        <td id=\"T_8182f20b_c54e_11eb_9463_f07bcbf2f291row2_col9\" class=\"data row2 col9\" >2008</td>\n",
       "                        <td id=\"T_8182f20b_c54e_11eb_9463_f07bcbf2f291row2_col10\" class=\"data row2 col10\" >1</td>\n",
       "                        <td id=\"T_8182f20b_c54e_11eb_9463_f07bcbf2f291row2_col11\" class=\"data row2 col11\" >1</td>\n",
       "                        <td id=\"T_8182f20b_c54e_11eb_9463_f07bcbf2f291row2_col12\" class=\"data row2 col12\" >1</td>\n",
       "                        <td id=\"T_8182f20b_c54e_11eb_9463_f07bcbf2f291row2_col13\" class=\"data row2 col13\" >1</td>\n",
       "                        <td id=\"T_8182f20b_c54e_11eb_9463_f07bcbf2f291row2_col14\" class=\"data row2 col14\" >1</td>\n",
       "                        <td id=\"T_8182f20b_c54e_11eb_9463_f07bcbf2f291row2_col15\" class=\"data row2 col15\" >1</td>\n",
       "                        <td id=\"T_8182f20b_c54e_11eb_9463_f07bcbf2f291row2_col16\" class=\"data row2 col16\" >1</td>\n",
       "                        <td id=\"T_8182f20b_c54e_11eb_9463_f07bcbf2f291row2_col17\" class=\"data row2 col17\" >Нет данных</td>\n",
       "                        <td id=\"T_8182f20b_c54e_11eb_9463_f07bcbf2f291row2_col18\" class=\"data row2 col18\" >1</td>\n",
       "                        <td id=\"T_8182f20b_c54e_11eb_9463_f07bcbf2f291row2_col19\" class=\"data row2 col19\" >Дизайнерский</td>\n",
       "                        <td id=\"T_8182f20b_c54e_11eb_9463_f07bcbf2f291row2_col20\" class=\"data row2 col20\" >Да</td>\n",
       "                        <td id=\"T_8182f20b_c54e_11eb_9463_f07bcbf2f291row2_col21\" class=\"data row2 col21\" >Да</td>\n",
       "                        <td id=\"T_8182f20b_c54e_11eb_9463_f07bcbf2f291row2_col22\" class=\"data row2 col22\" >Да</td>\n",
       "                        <td id=\"T_8182f20b_c54e_11eb_9463_f07bcbf2f291row2_col23\" class=\"data row2 col23\" >Нет</td>\n",
       "                        <td id=\"T_8182f20b_c54e_11eb_9463_f07bcbf2f291row2_col24\" class=\"data row2 col24\" >Москва ЗАО р-н Раменки Мичуринский просп. 3 </td>\n",
       "                        <td id=\"T_8182f20b_c54e_11eb_9463_f07bcbf2f291row2_col25\" class=\"data row2 col25\" >Мичуринский просп. 3</td>\n",
       "                        <td id=\"T_8182f20b_c54e_11eb_9463_f07bcbf2f291row2_col26\" class=\"data row2 col26\" >ЗАО</td>\n",
       "                        <td id=\"T_8182f20b_c54e_11eb_9463_f07bcbf2f291row2_col27\" class=\"data row2 col27\" >196000</td>\n",
       "                        <td id=\"T_8182f20b_c54e_11eb_9463_f07bcbf2f291row2_col28\" class=\"data row2 col28\" >160000</td>\n",
       "                        <td id=\"T_8182f20b_c54e_11eb_9463_f07bcbf2f291row2_col29\" class=\"data row2 col29\" >Отсутствует</td>\n",
       "                        <td id=\"T_8182f20b_c54e_11eb_9463_f07bcbf2f291row2_col30\" class=\"data row2 col30\" >1</td>\n",
       "                        <td id=\"T_8182f20b_c54e_11eb_9463_f07bcbf2f291row2_col31\" class=\"data row2 col31\" >от года</td>\n",
       "                        <td id=\"T_8182f20b_c54e_11eb_9463_f07bcbf2f291row2_col32\" class=\"data row2 col32\" >Отсутствует</td>\n",
       "                        <td id=\"T_8182f20b_c54e_11eb_9463_f07bcbf2f291row2_col33\" class=\"data row2 col33\" >nan</td>\n",
       "            </tr>\n",
       "            <tr>\n",
       "                                <td id=\"T_8182f20b_c54e_11eb_9463_f07bcbf2f291row3_col0\" class=\"data row3 col0\" >ID 13539540</td>\n",
       "                        <td id=\"T_8182f20b_c54e_11eb_9463_f07bcbf2f291row3_col1\" class=\"data row3 col1\" >160000</td>\n",
       "                        <td id=\"T_8182f20b_c54e_11eb_9463_f07bcbf2f291row3_col2\" class=\"data row3 col2\" >Предлагается  в аренду большая,  светлая трехкомнатная квартира с высокими потолками и  дизайнерским ремонтом.  Планировка квартиры включает в себя: гостиную, совмещенную с кухней, две изолированные спальни, в каждой из которых есть оборудованная гардеробная комната.  Два  санузла. В одном санузле ванна, в другом - душевая кабина. При необходимости, мебель покупается под клиента.</td>\n",
       "                        <td id=\"T_8182f20b_c54e_11eb_9463_f07bcbf2f291row3_col3\" class=\"data row3 col3\" >15</td>\n",
       "                        <td id=\"T_8182f20b_c54e_11eb_9463_f07bcbf2f291row3_col4\" class=\"data row3 col4\" >150</td>\n",
       "                        <td id=\"T_8182f20b_c54e_11eb_9463_f07bcbf2f291row3_col5\" class=\"data row3 col5\" >110</td>\n",
       "                        <td id=\"T_8182f20b_c54e_11eb_9463_f07bcbf2f291row3_col6\" class=\"data row3 col6\" >30</td>\n",
       "                        <td id=\"T_8182f20b_c54e_11eb_9463_f07bcbf2f291row3_col7\" class=\"data row3 col7\" >3</td>\n",
       "                        <td id=\"T_8182f20b_c54e_11eb_9463_f07bcbf2f291row3_col8\" class=\"data row3 col8\" >6</td>\n",
       "                        <td id=\"T_8182f20b_c54e_11eb_9463_f07bcbf2f291row3_col9\" class=\"data row3 col9\" >1954</td>\n",
       "                        <td id=\"T_8182f20b_c54e_11eb_9463_f07bcbf2f291row3_col10\" class=\"data row3 col10\" >1</td>\n",
       "                        <td id=\"T_8182f20b_c54e_11eb_9463_f07bcbf2f291row3_col11\" class=\"data row3 col11\" >1</td>\n",
       "                        <td id=\"T_8182f20b_c54e_11eb_9463_f07bcbf2f291row3_col12\" class=\"data row3 col12\" >Нет данных</td>\n",
       "                        <td id=\"T_8182f20b_c54e_11eb_9463_f07bcbf2f291row3_col13\" class=\"data row3 col13\" >1</td>\n",
       "                        <td id=\"T_8182f20b_c54e_11eb_9463_f07bcbf2f291row3_col14\" class=\"data row3 col14\" >Нет данных</td>\n",
       "                        <td id=\"T_8182f20b_c54e_11eb_9463_f07bcbf2f291row3_col15\" class=\"data row3 col15\" >1</td>\n",
       "                        <td id=\"T_8182f20b_c54e_11eb_9463_f07bcbf2f291row3_col16\" class=\"data row3 col16\" >1</td>\n",
       "                        <td id=\"T_8182f20b_c54e_11eb_9463_f07bcbf2f291row3_col17\" class=\"data row3 col17\" >1</td>\n",
       "                        <td id=\"T_8182f20b_c54e_11eb_9463_f07bcbf2f291row3_col18\" class=\"data row3 col18\" >1</td>\n",
       "                        <td id=\"T_8182f20b_c54e_11eb_9463_f07bcbf2f291row3_col19\" class=\"data row3 col19\" >Дизайнерский</td>\n",
       "                        <td id=\"T_8182f20b_c54e_11eb_9463_f07bcbf2f291row3_col20\" class=\"data row3 col20\" >Да</td>\n",
       "                        <td id=\"T_8182f20b_c54e_11eb_9463_f07bcbf2f291row3_col21\" class=\"data row3 col21\" >Да</td>\n",
       "                        <td id=\"T_8182f20b_c54e_11eb_9463_f07bcbf2f291row3_col22\" class=\"data row3 col22\" >Да</td>\n",
       "                        <td id=\"T_8182f20b_c54e_11eb_9463_f07bcbf2f291row3_col23\" class=\"data row3 col23\" >Нет</td>\n",
       "                        <td id=\"T_8182f20b_c54e_11eb_9463_f07bcbf2f291row3_col24\" class=\"data row3 col24\" >Москва ЮЗАО р-н Академический ул. Кржижановского 23К5 </td>\n",
       "                        <td id=\"T_8182f20b_c54e_11eb_9463_f07bcbf2f291row3_col25\" class=\"data row3 col25\" >ул. Кржижановского 23К5</td>\n",
       "                        <td id=\"T_8182f20b_c54e_11eb_9463_f07bcbf2f291row3_col26\" class=\"data row3 col26\" >ЮЗАО</td>\n",
       "                        <td id=\"T_8182f20b_c54e_11eb_9463_f07bcbf2f291row3_col27\" class=\"data row3 col27\" >188000</td>\n",
       "                        <td id=\"T_8182f20b_c54e_11eb_9463_f07bcbf2f291row3_col28\" class=\"data row3 col28\" >160000</td>\n",
       "                        <td id=\"T_8182f20b_c54e_11eb_9463_f07bcbf2f291row3_col29\" class=\"data row3 col29\" >Отсутствует</td>\n",
       "                        <td id=\"T_8182f20b_c54e_11eb_9463_f07bcbf2f291row3_col30\" class=\"data row3 col30\" >1</td>\n",
       "                        <td id=\"T_8182f20b_c54e_11eb_9463_f07bcbf2f291row3_col31\" class=\"data row3 col31\" >от года</td>\n",
       "                        <td id=\"T_8182f20b_c54e_11eb_9463_f07bcbf2f291row3_col32\" class=\"data row3 col32\" >Отсутствует</td>\n",
       "                        <td id=\"T_8182f20b_c54e_11eb_9463_f07bcbf2f291row3_col33\" class=\"data row3 col33\" >nan</td>\n",
       "            </tr>\n",
       "            <tr>\n",
       "                                <td id=\"T_8182f20b_c54e_11eb_9463_f07bcbf2f291row4_col0\" class=\"data row4 col0\" >Собственник</td>\n",
       "                        <td id=\"T_8182f20b_c54e_11eb_9463_f07bcbf2f291row4_col1\" class=\"data row4 col1\" >160000</td>\n",
       "                        <td id=\"T_8182f20b_c54e_11eb_9463_f07bcbf2f291row4_col2\" class=\"data row4 col2\" >Предлагается в аренду трехкомнатная квартира в элитном ЖК \"МОСФИЛЬМОВСКАЯ\". Замечательные видовые характеристики и функциональная планировка. Квартира оснащена всей необходимой техникой.Качественный ремонт. Машино-место на подземном паркинге входит в стоимость. СОБСТВЕННИК</td>\n",
       "                        <td id=\"T_8182f20b_c54e_11eb_9463_f07bcbf2f291row4_col3\" class=\"data row4 col3\" >10</td>\n",
       "                        <td id=\"T_8182f20b_c54e_11eb_9463_f07bcbf2f291row4_col4\" class=\"data row4 col4\" >105</td>\n",
       "                        <td id=\"T_8182f20b_c54e_11eb_9463_f07bcbf2f291row4_col5\" class=\"data row4 col5\" >Нет данных</td>\n",
       "                        <td id=\"T_8182f20b_c54e_11eb_9463_f07bcbf2f291row4_col6\" class=\"data row4 col6\" >Нет данных</td>\n",
       "                        <td id=\"T_8182f20b_c54e_11eb_9463_f07bcbf2f291row4_col7\" class=\"data row4 col7\" >15</td>\n",
       "                        <td id=\"T_8182f20b_c54e_11eb_9463_f07bcbf2f291row4_col8\" class=\"data row4 col8\" >29</td>\n",
       "                        <td id=\"T_8182f20b_c54e_11eb_9463_f07bcbf2f291row4_col9\" class=\"data row4 col9\" >2017</td>\n",
       "                        <td id=\"T_8182f20b_c54e_11eb_9463_f07bcbf2f291row4_col10\" class=\"data row4 col10\" >1</td>\n",
       "                        <td id=\"T_8182f20b_c54e_11eb_9463_f07bcbf2f291row4_col11\" class=\"data row4 col11\" >1</td>\n",
       "                        <td id=\"T_8182f20b_c54e_11eb_9463_f07bcbf2f291row4_col12\" class=\"data row4 col12\" >1</td>\n",
       "                        <td id=\"T_8182f20b_c54e_11eb_9463_f07bcbf2f291row4_col13\" class=\"data row4 col13\" >1</td>\n",
       "                        <td id=\"T_8182f20b_c54e_11eb_9463_f07bcbf2f291row4_col14\" class=\"data row4 col14\" >1</td>\n",
       "                        <td id=\"T_8182f20b_c54e_11eb_9463_f07bcbf2f291row4_col15\" class=\"data row4 col15\" >1</td>\n",
       "                        <td id=\"T_8182f20b_c54e_11eb_9463_f07bcbf2f291row4_col16\" class=\"data row4 col16\" >1</td>\n",
       "                        <td id=\"T_8182f20b_c54e_11eb_9463_f07bcbf2f291row4_col17\" class=\"data row4 col17\" >1</td>\n",
       "                        <td id=\"T_8182f20b_c54e_11eb_9463_f07bcbf2f291row4_col18\" class=\"data row4 col18\" >Нет данных</td>\n",
       "                        <td id=\"T_8182f20b_c54e_11eb_9463_f07bcbf2f291row4_col19\" class=\"data row4 col19\" >Евроремонт</td>\n",
       "                        <td id=\"T_8182f20b_c54e_11eb_9463_f07bcbf2f291row4_col20\" class=\"data row4 col20\" >Да</td>\n",
       "                        <td id=\"T_8182f20b_c54e_11eb_9463_f07bcbf2f291row4_col21\" class=\"data row4 col21\" >Да</td>\n",
       "                        <td id=\"T_8182f20b_c54e_11eb_9463_f07bcbf2f291row4_col22\" class=\"data row4 col22\" >Да</td>\n",
       "                        <td id=\"T_8182f20b_c54e_11eb_9463_f07bcbf2f291row4_col23\" class=\"data row4 col23\" >Нет</td>\n",
       "                        <td id=\"T_8182f20b_c54e_11eb_9463_f07bcbf2f291row4_col24\" class=\"data row4 col24\" >Москва ЗАО р-н Раменки Мосфильмовская ул. 74Б </td>\n",
       "                        <td id=\"T_8182f20b_c54e_11eb_9463_f07bcbf2f291row4_col25\" class=\"data row4 col25\" >Мосфильмовская ул. 74Б</td>\n",
       "                        <td id=\"T_8182f20b_c54e_11eb_9463_f07bcbf2f291row4_col26\" class=\"data row4 col26\" >ЗАО</td>\n",
       "                        <td id=\"T_8182f20b_c54e_11eb_9463_f07bcbf2f291row4_col27\" class=\"data row4 col27\" >212000</td>\n",
       "                        <td id=\"T_8182f20b_c54e_11eb_9463_f07bcbf2f291row4_col28\" class=\"data row4 col28\" >Отсутствует</td>\n",
       "                        <td id=\"T_8182f20b_c54e_11eb_9463_f07bcbf2f291row4_col29\" class=\"data row4 col29\" >Отсутствует</td>\n",
       "                        <td id=\"T_8182f20b_c54e_11eb_9463_f07bcbf2f291row4_col30\" class=\"data row4 col30\" >2</td>\n",
       "                        <td id=\"T_8182f20b_c54e_11eb_9463_f07bcbf2f291row4_col31\" class=\"data row4 col31\" >от года</td>\n",
       "                        <td id=\"T_8182f20b_c54e_11eb_9463_f07bcbf2f291row4_col32\" class=\"data row4 col32\" >Отсутствует</td>\n",
       "                        <td id=\"T_8182f20b_c54e_11eb_9463_f07bcbf2f291row4_col33\" class=\"data row4 col33\" >nan</td>\n",
<<<<<<< HEAD
>>>>>>> parent of a440497 (Merge branch 'main' of https://github.com/hse-econ-data-science/hw4_project-aksenov-loginov-zaharova-bec204 into main)
=======
>>>>>>> parent of a440497 (Merge branch 'main' of https://github.com/hse-econ-data-science/hw4_project-aksenov-loginov-zaharova-bec204 into main)
       "            </tr>\n",
       "    </tbody></table>"
      ],
      "text/plain": [
<<<<<<< HEAD
<<<<<<< HEAD
       "<pandas.io.formats.style.Styler at 0xb456e20>"
      ]
     },
     "execution_count": 5,
=======
=======
>>>>>>> parent of a440497 (Merge branch 'main' of https://github.com/hse-econ-data-science/hw4_project-aksenov-loginov-zaharova-bec204 into main)
       "<pandas.io.formats.style.Styler at 0x88cf835a30>"
      ]
     },
     "execution_count": 119,
<<<<<<< HEAD
>>>>>>> parent of a440497 (Merge branch 'main' of https://github.com/hse-econ-data-science/hw4_project-aksenov-loginov-zaharova-bec204 into main)
=======
>>>>>>> parent of a440497 (Merge branch 'main' of https://github.com/hse-econ-data-science/hw4_project-aksenov-loginov-zaharova-bec204 into main)
     "metadata": {},
     "output_type": "execute_result"
    }
   ],
   "source": [
    "for elem in list(df.columns):\n",
    "    df.loc[df[elem]==0, elem] = 'Нет данных'\n",
    "df.head().style.hide_index()\n"
   ]
  },
  {
   "cell_type": "markdown",
<<<<<<< HEAD
<<<<<<< HEAD
   "id": "11966839",
=======
   "id": "1d95c4cb",
>>>>>>> parent of a440497 (Merge branch 'main' of https://github.com/hse-econ-data-science/hw4_project-aksenov-loginov-zaharova-bec204 into main)
=======
   "id": "1d95c4cb",
>>>>>>> parent of a440497 (Merge branch 'main' of https://github.com/hse-econ-data-science/hw4_project-aksenov-loginov-zaharova-bec204 into main)
   "metadata": {},
   "source": [
    "# Шаг 3. Создание новых признаков"
   ]
  },
  {
   "cell_type": "markdown",
<<<<<<< HEAD
<<<<<<< HEAD
   "id": "9d405487",
=======
   "id": "9edbceb5",
>>>>>>> parent of a440497 (Merge branch 'main' of https://github.com/hse-econ-data-science/hw4_project-aksenov-loginov-zaharova-bec204 into main)
=======
   "id": "9edbceb5",
>>>>>>> parent of a440497 (Merge branch 'main' of https://github.com/hse-econ-data-science/hw4_project-aksenov-loginov-zaharova-bec204 into main)
   "metadata": {},
   "source": [
    "Будем добавлять столбцы с новыми признаками в исходную таблицу"
   ]
  },
  {
   "cell_type": "markdown",
<<<<<<< HEAD
<<<<<<< HEAD
   "id": "9c063259",
=======
   "id": "7eca3fcc",
>>>>>>> parent of a440497 (Merge branch 'main' of https://github.com/hse-econ-data-science/hw4_project-aksenov-loginov-zaharova-bec204 into main)
=======
   "id": "7eca3fcc",
>>>>>>> parent of a440497 (Merge branch 'main' of https://github.com/hse-econ-data-science/hw4_project-aksenov-loginov-zaharova-bec204 into main)
   "metadata": {},
   "source": [
    "1. Число символов (без учёта пробелов) и использование латиницы в описании "
   ]
  },
  {
   "cell_type": "code",
<<<<<<< HEAD
<<<<<<< HEAD
   "execution_count": 91,
   "id": "d036f864",
=======
   "execution_count": 120,
   "id": "4857e755",
>>>>>>> parent of a440497 (Merge branch 'main' of https://github.com/hse-econ-data-science/hw4_project-aksenov-loginov-zaharova-bec204 into main)
=======
   "execution_count": 120,
   "id": "4857e755",
>>>>>>> parent of a440497 (Merge branch 'main' of https://github.com/hse-econ-data-science/hw4_project-aksenov-loginov-zaharova-bec204 into main)
   "metadata": {},
   "outputs": [],
   "source": [
    "import re\n",
    "symbols = []\n",
    "latin = []\n",
    "for elem in df['Описание']:\n",
    "    symbols.append(len(elem.split()))\n",
    "    low = re.search (r'([a-z])', elem)\n",
    "    up = re.search (r'([A-Z])', elem)\n",
    "    if (low or up) != None:\n",
    "        latin.append(1)\n",
    "    else:\n",
    "        latin.append(0)\n",
<<<<<<< HEAD
<<<<<<< HEAD
    "df['Число слов в описании'] = symbols\n",
=======
    "df['Число символов в описании (без учёта проблела)'] = symbols\n",
>>>>>>> parent of a440497 (Merge branch 'main' of https://github.com/hse-econ-data-science/hw4_project-aksenov-loginov-zaharova-bec204 into main)
=======
    "df['Число символов в описании (без учёта проблела)'] = symbols\n",
>>>>>>> parent of a440497 (Merge branch 'main' of https://github.com/hse-econ-data-science/hw4_project-aksenov-loginov-zaharova-bec204 into main)
    "df['Латиница используется в описании'] = latin"
   ]
  },
  {
   "cell_type": "markdown",
<<<<<<< HEAD
<<<<<<< HEAD
   "id": "6b9768c6",
=======
   "id": "9a77554d",
>>>>>>> parent of a440497 (Merge branch 'main' of https://github.com/hse-econ-data-science/hw4_project-aksenov-loginov-zaharova-bec204 into main)
=======
   "id": "9a77554d",
>>>>>>> parent of a440497 (Merge branch 'main' of https://github.com/hse-econ-data-science/hw4_project-aksenov-loginov-zaharova-bec204 into main)
   "metadata": {},
   "source": [
    "2. Посчитаем, по скольким признакам в объявлении нет данных (в абсолютном и относительном значении)"
   ]
  },
  {
<<<<<<< HEAD
<<<<<<< HEAD
   "cell_type": "code",
   "execution_count": 205,
   "id": "8e9232dc",
   "metadata": {},
   "outputs": [
    {
     "data": {
      "text/plain": [
       "5726"
      ]
     },
     "execution_count": 205,
     "metadata": {},
     "output_type": "execute_result"
    }
   ],
   "source": [
    "df1 = df.T\n",
    "no_data=[]\n",
    "for elem in list(df1.columns):\n",
    "    no_data.append(df1[elem].isin(['Нет данных']).sum())\n",
    "df['Количество незаполненных полей, шт.'] = no_data"
   ]
  },
  {
   "cell_type": "markdown",
   "id": "d31c4825",
=======
   "cell_type": "markdown",
   "id": "d0babe11",
>>>>>>> parent of a440497 (Merge branch 'main' of https://github.com/hse-econ-data-science/hw4_project-aksenov-loginov-zaharova-bec204 into main)
=======
   "cell_type": "markdown",
   "id": "d0babe11",
>>>>>>> parent of a440497 (Merge branch 'main' of https://github.com/hse-econ-data-science/hw4_project-aksenov-loginov-zaharova-bec204 into main)
   "metadata": {},
   "source": [
    "3. Добавим признак \"Цена аренды за 1 м²\""
   ]
  },
  {
   "cell_type": "markdown",
<<<<<<< HEAD
<<<<<<< HEAD
   "id": "7cf7f96f",
=======
   "id": "7c16c391",
>>>>>>> parent of a440497 (Merge branch 'main' of https://github.com/hse-econ-data-science/hw4_project-aksenov-loginov-zaharova-bec204 into main)
=======
   "id": "7c16c391",
>>>>>>> parent of a440497 (Merge branch 'main' of https://github.com/hse-econ-data-science/hw4_project-aksenov-loginov-zaharova-bec204 into main)
   "metadata": {},
   "source": [
    "4. Добавим признак: качество жизни(QOL), для этого будем работать с изначальным словарем. Он будет рассчитываться как среднее арифметическое по всем имеющимся опциям + отнормированный ремонт. "
   ]
  },
  {
   "cell_type": "markdown",
<<<<<<< HEAD
<<<<<<< HEAD
   "id": "f03ef5cc",
=======
   "id": "cbaf2522",
>>>>>>> parent of a440497 (Merge branch 'main' of https://github.com/hse-econ-data-science/hw4_project-aksenov-loginov-zaharova-bec204 into main)
=======
   "id": "cbaf2522",
>>>>>>> parent of a440497 (Merge branch 'main' of https://github.com/hse-econ-data-science/hw4_project-aksenov-loginov-zaharova-bec204 into main)
   "metadata": {},
   "source": [
    "Вспомогательная ячейка кода!"
   ]
  },
  {
   "cell_type": "code",
   "execution_count": 27,
<<<<<<< HEAD
<<<<<<< HEAD
   "id": "9cc12c2c",
=======
   "id": "c883af49",
>>>>>>> parent of a440497 (Merge branch 'main' of https://github.com/hse-econ-data-science/hw4_project-aksenov-loginov-zaharova-bec204 into main)
=======
   "id": "c883af49",
>>>>>>> parent of a440497 (Merge branch 'main' of https://github.com/hse-econ-data-science/hw4_project-aksenov-loginov-zaharova-bec204 into main)
   "metadata": {},
   "outputs": [
    {
     "name": "stdout",
     "output_type": "stream",
     "text": [
      "[150000, 'Собственник', 8, 0, 0, 0, 0, 0, 0, 'Сдается в длительную аренду трехкомнатная квартира от собственника. \\n\\nТихий зеленый район, развитая инфраструктура: в доме частный детский сад, в шаговой доступности школы (частная, общеобразовательная, университетская при МПГУ), аптеки, салоны красоты, в 3 минутах пешком (610 метров) ТЦ Авиапарк.\\nОхраняемый ЖК, подземный паркинг (одно просторное машиноместо входит в стоимость аренды). 12 минут пешком до м. ЦСКА, 20 минут пешком до м. Аэропорт. \\n\\nТри комнаты: спальня с гардеробной, кабинет/детская, гостиная, совмещенная с кухней. Два санузла: туалет с раковиной в малом санузле и просторная душевая, туалет и раковина в основном. Две просторных лоджии: с выходом из кухни и из спальни. \\n\\nСовременное оборудование: кондиционеры  и ЖК телевизоры во всех комнатах, на кухне индукционная плита, свч /духовая печь, посудомоечная машина, стиральная машина.', 1, 1, 1, 1, 1, 1, 1, 1, 1, 0, 4, 1, 1, 1, 0, 'Москва САО р-н Хорошевский ул. Авиаконструктора Микояна 14к2 ', 'ул. Авиаконструктора Микояна 14к2', 'САО', 217000, 150000, 0, 1, 'от года', 0]\n",
      "0   Цена аренды\n",
      "1   Агенство недвижимости\n",
      "2   Минимальное время до метро, мин\n",
      "3   Общая площадь,  м²\n",
      "4   Жилая площадь,  м²\n",
      "5   Площадь кухни,  м²\n",
      "6   Этаж квартиры\n",
      "7   Этажей в доме\n",
      "8   Год постройки\n",
      "9   Описание\n",
      "10   Холодильник\n",
      "11   Посудомоечная машина\n",
      "12   Стиральная машина\n",
      "13   Мебель в комнатах\n",
      "14   Мебель на кухне\n",
      "15   Телевизор\n",
      "16   Интернет\n",
      "17   Кондиционер\n",
      "18   Душевая кабина\n",
      "19   Ванна\n",
      "20   Тип ремонта\n",
      "21   Окна на улицу\n",
      "22   Окна во двор\n",
      "23   Можно с детьми\n",
      "24   Можно с животными\n",
      "25   Полный адрес\n",
      "26   Улица\n",
      "27   Район\n",
      "28   Рекомендованная цена\n",
      "29   Залог\n",
      "30   Комиссия\n",
      "31   Предоплата(за сколько месяцев)\n",
      "32   Длительность съёма\n",
      "33   Возможность торга\n"
     ]
    }
   ],
   "source": [
    "print(y['https://www.cian.ru/rent/flat/257939094/'])\n",
    "count = 0\n",
    "a = ['Цена аренды', 'Агенство недвижимости', 'Минимальное время до метро, мин', 'Общая площадь,  м²', 'Жилая площадь,  м²', 'Площадь кухни,  м²', 'Этаж квартиры', 'Этажей в доме', \"Год постройки\", \"Описание\", \"Холодильник\", \"Посудомоечная машина\", \"Стиральная машина\", \"Мебель в комнатах\", \"Мебель на кухне\", \"Телевизор\", \"Интернет\", \"Кондиционер\", \"Душевая кабина\", \"Ванна\", \"Тип ремонта\", \"Окна на улицу\", \"Окна во двор\", \"Можно с детьми\", \"Можно с животными\", \"Полный адрес\", \"Улица\", \"Район\", \"Рекомендованная цена\", \"Залог\", \"Комиссия\", \"Предоплата(за сколько месяцев)\", \"Длительность съёма\", \"Возможность торга\"]\n",
    "for i in a:\n",
    "    print(count,  ' ', i)\n",
    "    count+=1\n",
    "    "
   ]
  },
  {
   "cell_type": "code",
   "execution_count": 29,
<<<<<<< HEAD
<<<<<<< HEAD
   "id": "f47989c5",
=======
   "id": "86b9832b",
>>>>>>> parent of a440497 (Merge branch 'main' of https://github.com/hse-econ-data-science/hw4_project-aksenov-loginov-zaharova-bec204 into main)
=======
   "id": "86b9832b",
>>>>>>> parent of a440497 (Merge branch 'main' of https://github.com/hse-econ-data-science/hw4_project-aksenov-loginov-zaharova-bec204 into main)
   "metadata": {},
   "outputs": [],
   "source": [
    "QOL = []\n",
    "for i in y:\n",
    "    QOL.append(((y[i][10] + y[i][11] + y[i][13] + y[i][14] + y[i][15] + y[i][16] + y[i][17] + y[i][18] + + y[i][19]) / 9 + y[i][20] / 4) / 2)"
   ]
  },
  {
   "cell_type": "code",
   "execution_count": 31,
<<<<<<< HEAD
<<<<<<< HEAD
   "id": "04b54501",
=======
   "id": "834d1710",
>>>>>>> parent of a440497 (Merge branch 'main' of https://github.com/hse-econ-data-science/hw4_project-aksenov-loginov-zaharova-bec204 into main)
=======
   "id": "834d1710",
>>>>>>> parent of a440497 (Merge branch 'main' of https://github.com/hse-econ-data-science/hw4_project-aksenov-loginov-zaharova-bec204 into main)
   "metadata": {},
   "outputs": [
    {
     "name": "stdout",
     "output_type": "stream",
     "text": [
      "0.8194444444444444\n",
      "0.7328338532382651\n"
     ]
    }
   ],
   "source": [
    "QOLar = np.array(QOL)\n",
    "print(np.median(QOLar))\n",
    "print(np.mean(QOLar))"
   ]
  },
  {
   "cell_type": "markdown",
<<<<<<< HEAD
<<<<<<< HEAD
   "id": "f078ee54",
=======
   "id": "7da056c3",
>>>>>>> parent of a440497 (Merge branch 'main' of https://github.com/hse-econ-data-science/hw4_project-aksenov-loginov-zaharova-bec204 into main)
=======
   "id": "7da056c3",
>>>>>>> parent of a440497 (Merge branch 'main' of https://github.com/hse-econ-data-science/hw4_project-aksenov-loginov-zaharova-bec204 into main)
   "metadata": {},
   "source": [
    "5. Лояльность собственника. Рассчитывается как среднее арифметическое из критериев: можно с животными, можно с детьми, торг."
   ]
  },
  {
   "cell_type": "code",
   "execution_count": 35,
<<<<<<< HEAD
<<<<<<< HEAD
   "id": "9be26e01",
=======
   "id": "52f83923",
>>>>>>> parent of a440497 (Merge branch 'main' of https://github.com/hse-econ-data-science/hw4_project-aksenov-loginov-zaharova-bec204 into main)
=======
   "id": "52f83923",
>>>>>>> parent of a440497 (Merge branch 'main' of https://github.com/hse-econ-data-science/hw4_project-aksenov-loginov-zaharova-bec204 into main)
   "metadata": {},
   "outputs": [],
   "source": [
    "Isloyal = []\n",
    "for i in y:\n",
    "    Isloyal.append((y[i][23] + y[i][24] + y[i][33]) / 3)"
   ]
  },
  {
   "cell_type": "code",
   "execution_count": 44,
<<<<<<< HEAD
<<<<<<< HEAD
   "id": "321700f8",
=======
   "id": "904afe42",
>>>>>>> parent of a440497 (Merge branch 'main' of https://github.com/hse-econ-data-science/hw4_project-aksenov-loginov-zaharova-bec204 into main)
=======
   "id": "904afe42",
>>>>>>> parent of a440497 (Merge branch 'main' of https://github.com/hse-econ-data-science/hw4_project-aksenov-loginov-zaharova-bec204 into main)
   "metadata": {},
   "outputs": [
    {
     "name": "stdout",
     "output_type": "stream",
     "text": [
      "1.0\n",
      "1.1637700534759359\n"
     ]
    }
   ],
   "source": [
    "Isloyalar = np.array(Isloyal)\n",
    "print(np.median(Isloyalar))\n",
    "print(np.mean(Isloyalar))"
   ]
  },
  {
   "cell_type": "markdown",
<<<<<<< HEAD
<<<<<<< HEAD
   "id": "3ff9e1a4",
   "metadata": {},
   "source": [
    "6. Присвоим ранг \"престижности\" района на основании данных сайта https://1kvartiravmoskve.ru/rejting-luchshix-rajonov-moskvy-dlya-prozhivaniya-2020/, где наиболее престижному району соответствует 1, а наименее - 10"
   ]
  },
  {
   "cell_type": "markdown",
   "id": "3499ff28",
   "metadata": {},
   "source": [
    "Всего в таблице встречаются следующие районы:"
=======
=======
>>>>>>> parent of a440497 (Merge branch 'main' of https://github.com/hse-econ-data-science/hw4_project-aksenov-loginov-zaharova-bec204 into main)
   "id": "43ceef59",
   "metadata": {},
   "source": [
    "# Шаг 4. Визуализация"
<<<<<<< HEAD
>>>>>>> parent of a440497 (Merge branch 'main' of https://github.com/hse-econ-data-science/hw4_project-aksenov-loginov-zaharova-bec204 into main)
=======
>>>>>>> parent of a440497 (Merge branch 'main' of https://github.com/hse-econ-data-science/hw4_project-aksenov-loginov-zaharova-bec204 into main)
   ]
  },
  {
   "cell_type": "code",
   "execution_count": null,
<<<<<<< HEAD
<<<<<<< HEAD
   "id": "f41ba46a",
   "metadata": {},
   "outputs": [],
   "source": [
    "set(df['Район'])"
   ]
  },
  {
   "cell_type": "code",
   "execution_count": 13,
   "id": "0e89e584",
   "metadata": {},
   "outputs": [],
   "source": [
    "df.loc[df['Район'] == 'ЗАО', 'Престижность района'] = 1\n",
    "df.loc[df['Район'] == 'ЮЗАО', 'Престижность района'] = 2\n",
    "df.loc[df['Район'] == 'СЗАО', 'Престижность района'] = 3\n",
    "df.loc[df['Район'] == 'САО', 'Престижность района'] = 4\n",
    "df.loc[df['Район'] == 'СВАО', 'Престижность района'] = 5\n",
    "df.loc[df['Район'] == 'ЮАО', 'Престижность района'] = 6\n",
    "df.loc[df['Район'] == 'ЮВАО', 'Престижность района'] = 7\n",
    "df.loc[df['Район'] == 'ВАО', 'Престижность района'] = 8\n",
    "df.loc[df['Район'] == 'ЦАО', 'Престижность района'] = 9\n",
    "df.loc[df['Район'] == 'ЗелАО', 'Престижность района'] = 10\n",
    "df.loc[df['Район'] == 'НАО (Новомосковский)', 'Престижность района'] = 10"
   ]
  },
  {
   "cell_type": "markdown",
   "id": "65c01486",
   "metadata": {},
   "source": [
    "# Шаги 4 и 5. Визуализация и работа c pandas"
   ]
  },
  {
   "cell_type": "markdown",
   "id": "ddfac478",
   "metadata": {},
   "source": [
    "1. Анализ характеристик дома и места квартиры в нём"
   ]
  },
  {
   "cell_type": "code",
   "execution_count": 9,
   "id": "eb6cd3a4",
   "metadata": {},
   "outputs": [],
   "source": [
    "import matplotlib\n",
    "import matplotlib.pyplot as plt\n",
    "import seaborn as sns"
   ]
  },
  {
   "cell_type": "code",
   "execution_count": 155,
   "id": "b48af169",
   "metadata": {},
   "outputs": [],
   "source": [
    "df1 = df[df['Год постройки'] != 'Нет данных']\n",
    "df2 = df1[df1['Этаж квартиры'] != 'Нет данных']\n",
    "df3 = df2[df2['Этажей в доме'] != 'Нет данных']"
   ]
  },
  {
   "cell_type": "code",
   "execution_count": 156,
   "id": "78257722",
   "metadata": {},
   "outputs": [
    {
     "data": {
      "text/html": [
       "        <script type=\"text/javascript\">\n",
       "        window.PlotlyConfig = {MathJaxConfig: 'local'};\n",
       "        if (window.MathJax) {MathJax.Hub.Config({SVG: {font: \"STIX-Web\"}});}\n",
       "        if (typeof require !== 'undefined') {\n",
       "        require.undef(\"plotly\");\n",
       "        requirejs.config({\n",
       "            paths: {\n",
       "                'plotly': ['https://cdn.plot.ly/plotly-latest.min']\n",
       "            }\n",
       "        });\n",
       "        require(['plotly'], function(Plotly) {\n",
       "            window._Plotly = Plotly;\n",
       "        });\n",
       "        }\n",
       "        </script>\n",
       "        "
      ]
     },
     "metadata": {},
     "output_type": "display_data"
    },
    {
     "data": {
      "application/vnd.plotly.v1+json": {
       "config": {
        "linkText": "Export to plot.ly",
        "plotlyServerURL": "https://plot.ly",
        "showLink": true
       },
       "data": [
        {
         "histfunc": "count",
         "histnorm": "",
         "marker": {
          "color": "rgba(255, 153, 51, 1.0)",
          "line": {
           "color": "#4D5663",
           "width": 1.3
          }
         },
         "name": "Год постройки",
         "opacity": 0.8,
         "orientation": "v",
         "type": "histogram",
         "x": [
          1903,
          2008,
          1954,
          2017,
          1933,
          1950,
          2019,
          1940,
          1997,
          1998,
          1985,
          2015,
          1960,
          2007,
          2018,
          1997,
          1997,
          2006,
          2019,
          1917,
          1957,
          2006,
          1939,
          1959,
          1910,
          1957,
          2010,
          2005,
          1904,
          2019,
          2018,
          2011,
          2002,
          2008,
          2006,
          1917,
          2019,
          1903,
          2018,
          1997,
          1978,
          1956,
          2008,
          2015,
          1959,
          1996,
          1962,
          1940,
          2008,
          2016,
          1976,
          2007,
          1976,
          1976,
          1997,
          1995,
          1974,
          1999,
          1966,
          2016,
          2002,
          1951,
          2013,
          1939,
          1998,
          1969,
          2014,
          2008,
          2005,
          2003,
          2017,
          2008,
          2010,
          2004,
          2010,
          2017,
          1905,
          2009,
          2017,
          1983,
          2017,
          2002,
          1914,
          2006,
          1940,
          1950,
          2013,
          2008,
          1998,
          2005,
          1998,
          2008,
          2008,
          1999,
          1914,
          2006,
          2004,
          2001,
          2003,
          1914,
          2003,
          2001,
          2007,
          1910,
          1973,
          2013,
          2012,
          2011,
          1998,
          1954,
          2005,
          1913,
          2017,
          2009,
          2010,
          2008,
          2009,
          1953,
          1985,
          2008,
          2006,
          1954,
          2015,
          1981,
          2000,
          2008,
          2008,
          1969,
          2000,
          2008,
          1903,
          1867,
          2016,
          2010,
          1912,
          2012,
          2006,
          2015,
          2010,
          2008,
          2011,
          2009,
          2010,
          2010,
          2011,
          2017,
          2008,
          2009,
          2011,
          2010,
          2010,
          1956,
          1954,
          2019,
          2002,
          1985,
          2006,
          2018,
          1963,
          2008,
          2002,
          2018,
          1965,
          1967,
          2019,
          1953,
          2020,
          2000,
          1999,
          1994,
          2016,
          2001,
          2002,
          1986,
          2008,
          1998,
          1997,
          2002,
          1917,
          2002,
          2008,
          2010,
          1958,
          2003,
          2012,
          1978,
          2012,
          2019,
          1958,
          2016,
          1988,
          2013,
          2005,
          2018,
          2017,
          1913,
          2002,
          1899,
          1965,
          2014,
          2019,
          1960,
          1968,
          1968,
          1982,
          1968,
          1958,
          1954,
          1954,
          1969,
          1993,
          1969,
          2010,
          2008,
          2013,
          2001,
          2011,
          1928,
          1998,
          1970,
          2005,
          1914,
          2001,
          1967,
          1810,
          2001,
          2018,
          2004,
          1991,
          1980,
          2020,
          2019,
          1983,
          1933,
          2015,
          2008,
          2018,
          1903,
          2010,
          2016,
          2010,
          1970,
          2006,
          2009,
          2006,
          2006,
          2010,
          1940,
          2003,
          2008,
          1956,
          1914,
          1898,
          2010,
          2002,
          2009,
          2011,
          2006,
          1968,
          1987,
          1958,
          2017,
          2002,
          2010,
          2019,
          1956,
          1905,
          1972,
          2000,
          2017,
          2008,
          2003,
          2005,
          1929,
          1917,
          2004,
          2004,
          1905,
          2003,
          2001,
          2008,
          2004,
          1914,
          2006,
          1990,
          2010,
          2005,
          2005,
          2003,
          1998,
          1998,
          1968,
          1974,
          1963,
          1991,
          1997,
          1966,
          1967,
          2005,
          1993,
          1982,
          1992,
          1976,
          1960,
          2003,
          2002,
          1987,
          2003,
          1999,
          2005,
          1993,
          2018,
          2019,
          1988,
          2019,
          1957,
          1939,
          2007,
          1959,
          2021,
          2004,
          1955,
          2010,
          2008,
          2003,
          2007,
          1991,
          2002,
          2008,
          1935,
          1991,
          2008,
          2003,
          2015,
          1956,
          1985,
          2008,
          1980,
          1912,
          1981,
          2008,
          2008,
          1997,
          2005,
          2003,
          1955,
          1914,
          2000,
          2012,
          2003,
          2001,
          1961,
          2008,
          1917,
          2008,
          2008,
          2008,
          2007,
          2007,
          2000,
          1914,
          1940,
          2001,
          1958,
          2006,
          1990,
          2005,
          1969,
          2002,
          2011,
          2009,
          1899,
          1998,
          2001,
          1960,
          2000,
          2014,
          2008,
          1938,
          1939,
          2010,
          2012,
          2007,
          1953,
          2003,
          2010,
          1964,
          2009,
          2008,
          1914,
          2018,
          1954,
          1955,
          2004,
          2004,
          2005,
          1956,
          1998,
          2018,
          2008,
          2011,
          2011,
          2008,
          2008,
          1962,
          2001,
          1996,
          2004,
          1960,
          1961,
          2017,
          2020,
          2006,
          1997,
          1978,
          2004,
          1976,
          1917,
          2019,
          1997,
          2006,
          1981,
          2011,
          2011,
          2003,
          2009,
          2008,
          2003,
          1998,
          2018,
          2009,
          2003,
          2009,
          2006,
          2018,
          1962,
          2000,
          1994,
          2008,
          1876,
          2005,
          1975,
          1955,
          1987,
          1957,
          1964,
          1970,
          1962,
          2019,
          1975,
          1933,
          1953,
          2007,
          2016,
          2007,
          1902,
          2009,
          2001,
          1992,
          1974,
          1981,
          1980,
          1972,
          1984,
          1967,
          1994,
          1972,
          1965,
          1975,
          2001,
          1989,
          2019,
          1970,
          1998,
          2013,
          2014,
          2011,
          2019,
          2007,
          2018,
          2008,
          2016,
          2006,
          2010,
          2006,
          1958,
          2010,
          2002,
          2007,
          2011,
          2008,
          2013,
          2010,
          2006,
          1956,
          1999,
          2016,
          2008,
          2002,
          2008,
          2001,
          2003,
          2006,
          2007,
          1902,
          2015,
          1969,
          1913,
          2005,
          2005,
          2015,
          2008,
          2017,
          1938,
          2016,
          1955,
          1972,
          1996,
          2004,
          2016,
          2005,
          2016,
          2008,
          2001,
          2009,
          2004,
          2005,
          2005,
          1928,
          2011,
          2006,
          2006,
          1957,
          1999,
          2007,
          1997,
          2008,
          1898,
          1998,
          2000,
          2012,
          2020,
          1870,
          1967,
          2005,
          1909,
          2005,
          2005,
          2007,
          2003,
          2008,
          2006,
          2001,
          2017,
          1988,
          2010,
          1955,
          1958,
          2012,
          1917,
          2008,
          1956,
          1999,
          1986,
          1985,
          1965,
          1975,
          1938,
          2003,
          1953,
          2000,
          2017,
          1974,
          1962,
          2015,
          1977,
          1960,
          1910,
          1935,
          1913,
          2020,
          1908,
          2004,
          1997,
          1927,
          1970,
          2005,
          1941,
          2009,
          2010,
          2019,
          2008,
          2005,
          2006,
          2002,
          2009,
          2000,
          2001,
          2006,
          2000,
          1996,
          1987,
          2020,
          2006,
          1999,
          1958,
          2002,
          2000,
          2013,
          2010,
          2010,
          2010,
          2009,
          2010,
          2006,
          2010,
          1950,
          2006,
          2004,
          1956,
          2019,
          2011,
          1977,
          1997,
          1979,
          1988,
          2000,
          2010,
          1978,
          2009,
          1905,
          2013,
          2009,
          2008,
          1956,
          1911,
          2005,
          2010,
          1974,
          2008,
          2002,
          1998,
          2016,
          2001,
          2001,
          2017,
          1957,
          1966,
          1998,
          1997,
          2001,
          1950,
          2014,
          1930,
          2016,
          2008,
          2008,
          2019,
          1997,
          1978,
          1985,
          2006,
          1999,
          2001,
          2010,
          1992,
          1914,
          1930,
          2020,
          2016,
          2011,
          1996,
          1972,
          2017,
          2010,
          2006,
          2018,
          1996,
          2006,
          2001,
          1940,
          1927,
          2004,
          1975,
          1955,
          1972,
          1999,
          1955,
          2006,
          1976,
          1996,
          2018,
          2002,
          2006,
          2015,
          2003,
          1976,
          1938,
          2016,
          1997,
          1912,
          2013,
          2011,
          1978,
          2013,
          1974,
          2007,
          1971,
          1870,
          2003,
          1974,
          1972,
          1978,
          1971,
          1976,
          2005,
          2015,
          1984,
          2008,
          1971,
          1988,
          1928,
          1962,
          1981,
          1941,
          1969,
          2008,
          1981,
          2004,
          2002,
          1914,
          1902,
          2003,
          2004,
          1909,
          2007,
          2014,
          1890,
          1997,
          2015,
          2015,
          2010,
          2010,
          2017,
          2017,
          2010,
          2006,
          1983,
          2004,
          2008,
          2010,
          2007,
          2008,
          2003,
          1971,
          2006,
          2003,
          2006,
          2009,
          1912,
          2000,
          2016,
          2003,
          2009,
          2000,
          2008,
          2010,
          1956,
          2004,
          2004
         ]
        }
       ],
       "layout": {
        "barmode": "overlay",
        "legend": {
         "bgcolor": "#F5F6F9",
         "font": {
          "color": "#4D5663"
         }
        },
        "paper_bgcolor": "#F5F6F9",
        "plot_bgcolor": "#F5F6F9",
        "template": {
         "data": {
          "bar": [
           {
            "error_x": {
             "color": "#2a3f5f"
            },
            "error_y": {
             "color": "#2a3f5f"
            },
            "marker": {
             "line": {
              "color": "#E5ECF6",
              "width": 0.5
             }
            },
            "type": "bar"
           }
          ],
          "barpolar": [
           {
            "marker": {
             "line": {
              "color": "#E5ECF6",
              "width": 0.5
             }
            },
            "type": "barpolar"
           }
          ],
          "carpet": [
           {
            "aaxis": {
             "endlinecolor": "#2a3f5f",
             "gridcolor": "white",
             "linecolor": "white",
             "minorgridcolor": "white",
             "startlinecolor": "#2a3f5f"
            },
            "baxis": {
             "endlinecolor": "#2a3f5f",
             "gridcolor": "white",
             "linecolor": "white",
             "minorgridcolor": "white",
             "startlinecolor": "#2a3f5f"
            },
            "type": "carpet"
           }
          ],
          "choropleth": [
           {
            "colorbar": {
             "outlinewidth": 0,
             "ticks": ""
            },
            "type": "choropleth"
           }
          ],
          "contour": [
           {
            "colorbar": {
             "outlinewidth": 0,
             "ticks": ""
            },
            "colorscale": [
             [
              0,
              "#0d0887"
             ],
             [
              0.1111111111111111,
              "#46039f"
             ],
             [
              0.2222222222222222,
              "#7201a8"
             ],
             [
              0.3333333333333333,
              "#9c179e"
             ],
             [
              0.4444444444444444,
              "#bd3786"
             ],
             [
              0.5555555555555556,
              "#d8576b"
             ],
             [
              0.6666666666666666,
              "#ed7953"
             ],
             [
              0.7777777777777778,
              "#fb9f3a"
             ],
             [
              0.8888888888888888,
              "#fdca26"
             ],
             [
              1,
              "#f0f921"
             ]
            ],
            "type": "contour"
           }
          ],
          "contourcarpet": [
           {
            "colorbar": {
             "outlinewidth": 0,
             "ticks": ""
            },
            "type": "contourcarpet"
           }
          ],
          "heatmap": [
           {
            "colorbar": {
             "outlinewidth": 0,
             "ticks": ""
            },
            "colorscale": [
             [
              0,
              "#0d0887"
             ],
             [
              0.1111111111111111,
              "#46039f"
             ],
             [
              0.2222222222222222,
              "#7201a8"
             ],
             [
              0.3333333333333333,
              "#9c179e"
             ],
             [
              0.4444444444444444,
              "#bd3786"
             ],
             [
              0.5555555555555556,
              "#d8576b"
             ],
             [
              0.6666666666666666,
              "#ed7953"
             ],
             [
              0.7777777777777778,
              "#fb9f3a"
             ],
             [
              0.8888888888888888,
              "#fdca26"
             ],
             [
              1,
              "#f0f921"
             ]
            ],
            "type": "heatmap"
           }
          ],
          "heatmapgl": [
           {
            "colorbar": {
             "outlinewidth": 0,
             "ticks": ""
            },
            "colorscale": [
             [
              0,
              "#0d0887"
             ],
             [
              0.1111111111111111,
              "#46039f"
             ],
             [
              0.2222222222222222,
              "#7201a8"
             ],
             [
              0.3333333333333333,
              "#9c179e"
             ],
             [
              0.4444444444444444,
              "#bd3786"
             ],
             [
              0.5555555555555556,
              "#d8576b"
             ],
             [
              0.6666666666666666,
              "#ed7953"
             ],
             [
              0.7777777777777778,
              "#fb9f3a"
             ],
             [
              0.8888888888888888,
              "#fdca26"
             ],
             [
              1,
              "#f0f921"
             ]
            ],
            "type": "heatmapgl"
           }
          ],
          "histogram": [
           {
            "marker": {
             "colorbar": {
              "outlinewidth": 0,
              "ticks": ""
             }
            },
            "type": "histogram"
           }
          ],
          "histogram2d": [
           {
            "colorbar": {
             "outlinewidth": 0,
             "ticks": ""
            },
            "colorscale": [
             [
              0,
              "#0d0887"
             ],
             [
              0.1111111111111111,
              "#46039f"
             ],
             [
              0.2222222222222222,
              "#7201a8"
             ],
             [
              0.3333333333333333,
              "#9c179e"
             ],
             [
              0.4444444444444444,
              "#bd3786"
             ],
             [
              0.5555555555555556,
              "#d8576b"
             ],
             [
              0.6666666666666666,
              "#ed7953"
             ],
             [
              0.7777777777777778,
              "#fb9f3a"
             ],
             [
              0.8888888888888888,
              "#fdca26"
             ],
             [
              1,
              "#f0f921"
             ]
            ],
            "type": "histogram2d"
           }
          ],
          "histogram2dcontour": [
           {
            "colorbar": {
             "outlinewidth": 0,
             "ticks": ""
            },
            "colorscale": [
             [
              0,
              "#0d0887"
             ],
             [
              0.1111111111111111,
              "#46039f"
             ],
             [
              0.2222222222222222,
              "#7201a8"
             ],
             [
              0.3333333333333333,
              "#9c179e"
             ],
             [
              0.4444444444444444,
              "#bd3786"
             ],
             [
              0.5555555555555556,
              "#d8576b"
             ],
             [
              0.6666666666666666,
              "#ed7953"
             ],
             [
              0.7777777777777778,
              "#fb9f3a"
             ],
             [
              0.8888888888888888,
              "#fdca26"
             ],
             [
              1,
              "#f0f921"
             ]
            ],
            "type": "histogram2dcontour"
           }
          ],
          "mesh3d": [
           {
            "colorbar": {
             "outlinewidth": 0,
             "ticks": ""
            },
            "type": "mesh3d"
           }
          ],
          "parcoords": [
           {
            "line": {
             "colorbar": {
              "outlinewidth": 0,
              "ticks": ""
             }
            },
            "type": "parcoords"
           }
          ],
          "pie": [
           {
            "automargin": true,
            "type": "pie"
           }
          ],
          "scatter": [
           {
            "marker": {
             "colorbar": {
              "outlinewidth": 0,
              "ticks": ""
             }
            },
            "type": "scatter"
           }
          ],
          "scatter3d": [
           {
            "line": {
             "colorbar": {
              "outlinewidth": 0,
              "ticks": ""
             }
            },
            "marker": {
             "colorbar": {
              "outlinewidth": 0,
              "ticks": ""
             }
            },
            "type": "scatter3d"
           }
          ],
          "scattercarpet": [
           {
            "marker": {
             "colorbar": {
              "outlinewidth": 0,
              "ticks": ""
             }
            },
            "type": "scattercarpet"
           }
          ],
          "scattergeo": [
           {
            "marker": {
             "colorbar": {
              "outlinewidth": 0,
              "ticks": ""
             }
            },
            "type": "scattergeo"
           }
          ],
          "scattergl": [
           {
            "marker": {
             "colorbar": {
              "outlinewidth": 0,
              "ticks": ""
             }
            },
            "type": "scattergl"
           }
          ],
          "scattermapbox": [
           {
            "marker": {
             "colorbar": {
              "outlinewidth": 0,
              "ticks": ""
             }
            },
            "type": "scattermapbox"
           }
          ],
          "scatterpolar": [
           {
            "marker": {
             "colorbar": {
              "outlinewidth": 0,
              "ticks": ""
             }
            },
            "type": "scatterpolar"
           }
          ],
          "scatterpolargl": [
           {
            "marker": {
             "colorbar": {
              "outlinewidth": 0,
              "ticks": ""
             }
            },
            "type": "scatterpolargl"
           }
          ],
          "scatterternary": [
           {
            "marker": {
             "colorbar": {
              "outlinewidth": 0,
              "ticks": ""
             }
            },
            "type": "scatterternary"
           }
          ],
          "surface": [
           {
            "colorbar": {
             "outlinewidth": 0,
             "ticks": ""
            },
            "colorscale": [
             [
              0,
              "#0d0887"
             ],
             [
              0.1111111111111111,
              "#46039f"
             ],
             [
              0.2222222222222222,
              "#7201a8"
             ],
             [
              0.3333333333333333,
              "#9c179e"
             ],
             [
              0.4444444444444444,
              "#bd3786"
             ],
             [
              0.5555555555555556,
              "#d8576b"
             ],
             [
              0.6666666666666666,
              "#ed7953"
             ],
             [
              0.7777777777777778,
              "#fb9f3a"
             ],
             [
              0.8888888888888888,
              "#fdca26"
             ],
             [
              1,
              "#f0f921"
             ]
            ],
            "type": "surface"
           }
          ],
          "table": [
           {
            "cells": {
             "fill": {
              "color": "#EBF0F8"
             },
             "line": {
              "color": "white"
             }
            },
            "header": {
             "fill": {
              "color": "#C8D4E3"
             },
             "line": {
              "color": "white"
             }
            },
            "type": "table"
           }
          ]
         },
         "layout": {
          "annotationdefaults": {
           "arrowcolor": "#2a3f5f",
           "arrowhead": 0,
           "arrowwidth": 1
          },
          "autotypenumbers": "strict",
          "coloraxis": {
           "colorbar": {
            "outlinewidth": 0,
            "ticks": ""
           }
          },
          "colorscale": {
           "diverging": [
            [
             0,
             "#8e0152"
            ],
            [
             0.1,
             "#c51b7d"
            ],
            [
             0.2,
             "#de77ae"
            ],
            [
             0.3,
             "#f1b6da"
            ],
            [
             0.4,
             "#fde0ef"
            ],
            [
             0.5,
             "#f7f7f7"
            ],
            [
             0.6,
             "#e6f5d0"
            ],
            [
             0.7,
             "#b8e186"
            ],
            [
             0.8,
             "#7fbc41"
            ],
            [
             0.9,
             "#4d9221"
            ],
            [
             1,
             "#276419"
            ]
           ],
           "sequential": [
            [
             0,
             "#0d0887"
            ],
            [
             0.1111111111111111,
             "#46039f"
            ],
            [
             0.2222222222222222,
             "#7201a8"
            ],
            [
             0.3333333333333333,
             "#9c179e"
            ],
            [
             0.4444444444444444,
             "#bd3786"
            ],
            [
             0.5555555555555556,
             "#d8576b"
            ],
            [
             0.6666666666666666,
             "#ed7953"
            ],
            [
             0.7777777777777778,
             "#fb9f3a"
            ],
            [
             0.8888888888888888,
             "#fdca26"
            ],
            [
             1,
             "#f0f921"
            ]
           ],
           "sequentialminus": [
            [
             0,
             "#0d0887"
            ],
            [
             0.1111111111111111,
             "#46039f"
            ],
            [
             0.2222222222222222,
             "#7201a8"
            ],
            [
             0.3333333333333333,
             "#9c179e"
            ],
            [
             0.4444444444444444,
             "#bd3786"
            ],
            [
             0.5555555555555556,
             "#d8576b"
            ],
            [
             0.6666666666666666,
             "#ed7953"
            ],
            [
             0.7777777777777778,
             "#fb9f3a"
            ],
            [
             0.8888888888888888,
             "#fdca26"
            ],
            [
             1,
             "#f0f921"
            ]
           ]
          },
          "colorway": [
           "#636efa",
           "#EF553B",
           "#00cc96",
           "#ab63fa",
           "#FFA15A",
           "#19d3f3",
           "#FF6692",
           "#B6E880",
           "#FF97FF",
           "#FECB52"
          ],
          "font": {
           "color": "#2a3f5f"
          },
          "geo": {
           "bgcolor": "white",
           "lakecolor": "white",
           "landcolor": "#E5ECF6",
           "showlakes": true,
           "showland": true,
           "subunitcolor": "white"
          },
          "hoverlabel": {
           "align": "left"
          },
          "hovermode": "closest",
          "mapbox": {
           "style": "light"
          },
          "paper_bgcolor": "white",
          "plot_bgcolor": "#E5ECF6",
          "polar": {
           "angularaxis": {
            "gridcolor": "white",
            "linecolor": "white",
            "ticks": ""
           },
           "bgcolor": "#E5ECF6",
           "radialaxis": {
            "gridcolor": "white",
            "linecolor": "white",
            "ticks": ""
           }
          },
          "scene": {
           "xaxis": {
            "backgroundcolor": "#E5ECF6",
            "gridcolor": "white",
            "gridwidth": 2,
            "linecolor": "white",
            "showbackground": true,
            "ticks": "",
            "zerolinecolor": "white"
           },
           "yaxis": {
            "backgroundcolor": "#E5ECF6",
            "gridcolor": "white",
            "gridwidth": 2,
            "linecolor": "white",
            "showbackground": true,
            "ticks": "",
            "zerolinecolor": "white"
           },
           "zaxis": {
            "backgroundcolor": "#E5ECF6",
            "gridcolor": "white",
            "gridwidth": 2,
            "linecolor": "white",
            "showbackground": true,
            "ticks": "",
            "zerolinecolor": "white"
           }
          },
          "shapedefaults": {
           "line": {
            "color": "#2a3f5f"
           }
          },
          "ternary": {
           "aaxis": {
            "gridcolor": "white",
            "linecolor": "white",
            "ticks": ""
           },
           "baxis": {
            "gridcolor": "white",
            "linecolor": "white",
            "ticks": ""
           },
           "bgcolor": "#E5ECF6",
           "caxis": {
            "gridcolor": "white",
            "linecolor": "white",
            "ticks": ""
           }
          },
          "title": {
           "x": 0.05
          },
          "xaxis": {
           "automargin": true,
           "gridcolor": "white",
           "linecolor": "white",
           "ticks": "",
           "title": {
            "standoff": 15
           },
           "zerolinecolor": "white",
           "zerolinewidth": 2
          },
          "yaxis": {
           "automargin": true,
           "gridcolor": "white",
           "linecolor": "white",
           "ticks": "",
           "title": {
            "standoff": 15
           },
           "zerolinecolor": "white",
           "zerolinewidth": 2
          }
         }
        },
        "title": {
         "font": {
          "color": "#4D5663"
         },
         "text": "Распределение квартир по году постройки дома"
        },
        "xaxis": {
         "gridcolor": "#E1E5ED",
         "showgrid": true,
         "tickfont": {
          "color": "#4D5663"
         },
         "title": {
          "font": {
           "color": "#4D5663"
          },
          "text": "Год постройки"
         },
         "zerolinecolor": "#E1E5ED"
        },
        "yaxis": {
         "gridcolor": "#E1E5ED",
         "showgrid": true,
         "tickfont": {
          "color": "#4D5663"
         },
         "title": {
          "font": {
           "color": "#4D5663"
          },
          "text": "Количество квартир"
         },
         "zerolinecolor": "#E1E5ED"
        }
       }
      },
      "text/html": [
       "<div>                            <div id=\"25fe00b6-ce72-49fa-a87b-2d204eb6604f\" class=\"plotly-graph-div\" style=\"height:525px; width:100%;\"></div>            <script type=\"text/javascript\">                require([\"plotly\"], function(Plotly) {                    window.PLOTLYENV=window.PLOTLYENV || {};\n",
       "                    window.PLOTLYENV.BASE_URL='https://plot.ly';                                    if (document.getElementById(\"25fe00b6-ce72-49fa-a87b-2d204eb6604f\")) {                    Plotly.newPlot(                        \"25fe00b6-ce72-49fa-a87b-2d204eb6604f\",                        [{\"histfunc\": \"count\", \"histnorm\": \"\", \"marker\": {\"color\": \"rgba(255, 153, 51, 1.0)\", \"line\": {\"color\": \"#4D5663\", \"width\": 1.3}}, \"name\": \"\\u0413\\u043e\\u0434 \\u043f\\u043e\\u0441\\u0442\\u0440\\u043e\\u0439\\u043a\\u0438\", \"opacity\": 0.8, \"orientation\": \"v\", \"type\": \"histogram\", \"x\": [1903, 2008, 1954, 2017, 1933, 1950, 2019, 1940, 1997, 1998, 1985, 2015, 1960, 2007, 2018, 1997, 1997, 2006, 2019, 1917, 1957, 2006, 1939, 1959, 1910, 1957, 2010, 2005, 1904, 2019, 2018, 2011, 2002, 2008, 2006, 1917, 2019, 1903, 2018, 1997, 1978, 1956, 2008, 2015, 1959, 1996, 1962, 1940, 2008, 2016, 1976, 2007, 1976, 1976, 1997, 1995, 1974, 1999, 1966, 2016, 2002, 1951, 2013, 1939, 1998, 1969, 2014, 2008, 2005, 2003, 2017, 2008, 2010, 2004, 2010, 2017, 1905, 2009, 2017, 1983, 2017, 2002, 1914, 2006, 1940, 1950, 2013, 2008, 1998, 2005, 1998, 2008, 2008, 1999, 1914, 2006, 2004, 2001, 2003, 1914, 2003, 2001, 2007, 1910, 1973, 2013, 2012, 2011, 1998, 1954, 2005, 1913, 2017, 2009, 2010, 2008, 2009, 1953, 1985, 2008, 2006, 1954, 2015, 1981, 2000, 2008, 2008, 1969, 2000, 2008, 1903, 1867, 2016, 2010, 1912, 2012, 2006, 2015, 2010, 2008, 2011, 2009, 2010, 2010, 2011, 2017, 2008, 2009, 2011, 2010, 2010, 1956, 1954, 2019, 2002, 1985, 2006, 2018, 1963, 2008, 2002, 2018, 1965, 1967, 2019, 1953, 2020, 2000, 1999, 1994, 2016, 2001, 2002, 1986, 2008, 1998, 1997, 2002, 1917, 2002, 2008, 2010, 1958, 2003, 2012, 1978, 2012, 2019, 1958, 2016, 1988, 2013, 2005, 2018, 2017, 1913, 2002, 1899, 1965, 2014, 2019, 1960, 1968, 1968, 1982, 1968, 1958, 1954, 1954, 1969, 1993, 1969, 2010, 2008, 2013, 2001, 2011, 1928, 1998, 1970, 2005, 1914, 2001, 1967, 1810, 2001, 2018, 2004, 1991, 1980, 2020, 2019, 1983, 1933, 2015, 2008, 2018, 1903, 2010, 2016, 2010, 1970, 2006, 2009, 2006, 2006, 2010, 1940, 2003, 2008, 1956, 1914, 1898, 2010, 2002, 2009, 2011, 2006, 1968, 1987, 1958, 2017, 2002, 2010, 2019, 1956, 1905, 1972, 2000, 2017, 2008, 2003, 2005, 1929, 1917, 2004, 2004, 1905, 2003, 2001, 2008, 2004, 1914, 2006, 1990, 2010, 2005, 2005, 2003, 1998, 1998, 1968, 1974, 1963, 1991, 1997, 1966, 1967, 2005, 1993, 1982, 1992, 1976, 1960, 2003, 2002, 1987, 2003, 1999, 2005, 1993, 2018, 2019, 1988, 2019, 1957, 1939, 2007, 1959, 2021, 2004, 1955, 2010, 2008, 2003, 2007, 1991, 2002, 2008, 1935, 1991, 2008, 2003, 2015, 1956, 1985, 2008, 1980, 1912, 1981, 2008, 2008, 1997, 2005, 2003, 1955, 1914, 2000, 2012, 2003, 2001, 1961, 2008, 1917, 2008, 2008, 2008, 2007, 2007, 2000, 1914, 1940, 2001, 1958, 2006, 1990, 2005, 1969, 2002, 2011, 2009, 1899, 1998, 2001, 1960, 2000, 2014, 2008, 1938, 1939, 2010, 2012, 2007, 1953, 2003, 2010, 1964, 2009, 2008, 1914, 2018, 1954, 1955, 2004, 2004, 2005, 1956, 1998, 2018, 2008, 2011, 2011, 2008, 2008, 1962, 2001, 1996, 2004, 1960, 1961, 2017, 2020, 2006, 1997, 1978, 2004, 1976, 1917, 2019, 1997, 2006, 1981, 2011, 2011, 2003, 2009, 2008, 2003, 1998, 2018, 2009, 2003, 2009, 2006, 2018, 1962, 2000, 1994, 2008, 1876, 2005, 1975, 1955, 1987, 1957, 1964, 1970, 1962, 2019, 1975, 1933, 1953, 2007, 2016, 2007, 1902, 2009, 2001, 1992, 1974, 1981, 1980, 1972, 1984, 1967, 1994, 1972, 1965, 1975, 2001, 1989, 2019, 1970, 1998, 2013, 2014, 2011, 2019, 2007, 2018, 2008, 2016, 2006, 2010, 2006, 1958, 2010, 2002, 2007, 2011, 2008, 2013, 2010, 2006, 1956, 1999, 2016, 2008, 2002, 2008, 2001, 2003, 2006, 2007, 1902, 2015, 1969, 1913, 2005, 2005, 2015, 2008, 2017, 1938, 2016, 1955, 1972, 1996, 2004, 2016, 2005, 2016, 2008, 2001, 2009, 2004, 2005, 2005, 1928, 2011, 2006, 2006, 1957, 1999, 2007, 1997, 2008, 1898, 1998, 2000, 2012, 2020, 1870, 1967, 2005, 1909, 2005, 2005, 2007, 2003, 2008, 2006, 2001, 2017, 1988, 2010, 1955, 1958, 2012, 1917, 2008, 1956, 1999, 1986, 1985, 1965, 1975, 1938, 2003, 1953, 2000, 2017, 1974, 1962, 2015, 1977, 1960, 1910, 1935, 1913, 2020, 1908, 2004, 1997, 1927, 1970, 2005, 1941, 2009, 2010, 2019, 2008, 2005, 2006, 2002, 2009, 2000, 2001, 2006, 2000, 1996, 1987, 2020, 2006, 1999, 1958, 2002, 2000, 2013, 2010, 2010, 2010, 2009, 2010, 2006, 2010, 1950, 2006, 2004, 1956, 2019, 2011, 1977, 1997, 1979, 1988, 2000, 2010, 1978, 2009, 1905, 2013, 2009, 2008, 1956, 1911, 2005, 2010, 1974, 2008, 2002, 1998, 2016, 2001, 2001, 2017, 1957, 1966, 1998, 1997, 2001, 1950, 2014, 1930, 2016, 2008, 2008, 2019, 1997, 1978, 1985, 2006, 1999, 2001, 2010, 1992, 1914, 1930, 2020, 2016, 2011, 1996, 1972, 2017, 2010, 2006, 2018, 1996, 2006, 2001, 1940, 1927, 2004, 1975, 1955, 1972, 1999, 1955, 2006, 1976, 1996, 2018, 2002, 2006, 2015, 2003, 1976, 1938, 2016, 1997, 1912, 2013, 2011, 1978, 2013, 1974, 2007, 1971, 1870, 2003, 1974, 1972, 1978, 1971, 1976, 2005, 2015, 1984, 2008, 1971, 1988, 1928, 1962, 1981, 1941, 1969, 2008, 1981, 2004, 2002, 1914, 1902, 2003, 2004, 1909, 2007, 2014, 1890, 1997, 2015, 2015, 2010, 2010, 2017, 2017, 2010, 2006, 1983, 2004, 2008, 2010, 2007, 2008, 2003, 1971, 2006, 2003, 2006, 2009, 1912, 2000, 2016, 2003, 2009, 2000, 2008, 2010, 1956, 2004, 2004]}],                        {\"barmode\": \"overlay\", \"legend\": {\"bgcolor\": \"#F5F6F9\", \"font\": {\"color\": \"#4D5663\"}}, \"paper_bgcolor\": \"#F5F6F9\", \"plot_bgcolor\": \"#F5F6F9\", \"template\": {\"data\": {\"bar\": [{\"error_x\": {\"color\": \"#2a3f5f\"}, \"error_y\": {\"color\": \"#2a3f5f\"}, \"marker\": {\"line\": {\"color\": \"#E5ECF6\", \"width\": 0.5}}, \"type\": \"bar\"}], \"barpolar\": [{\"marker\": {\"line\": {\"color\": \"#E5ECF6\", \"width\": 0.5}}, \"type\": \"barpolar\"}], \"carpet\": [{\"aaxis\": {\"endlinecolor\": \"#2a3f5f\", \"gridcolor\": \"white\", \"linecolor\": \"white\", \"minorgridcolor\": \"white\", \"startlinecolor\": \"#2a3f5f\"}, \"baxis\": {\"endlinecolor\": \"#2a3f5f\", \"gridcolor\": \"white\", \"linecolor\": \"white\", \"minorgridcolor\": \"white\", \"startlinecolor\": \"#2a3f5f\"}, \"type\": \"carpet\"}], \"choropleth\": [{\"colorbar\": {\"outlinewidth\": 0, \"ticks\": \"\"}, \"type\": \"choropleth\"}], \"contour\": [{\"colorbar\": {\"outlinewidth\": 0, \"ticks\": \"\"}, \"colorscale\": [[0.0, \"#0d0887\"], [0.1111111111111111, \"#46039f\"], [0.2222222222222222, \"#7201a8\"], [0.3333333333333333, \"#9c179e\"], [0.4444444444444444, \"#bd3786\"], [0.5555555555555556, \"#d8576b\"], [0.6666666666666666, \"#ed7953\"], [0.7777777777777778, \"#fb9f3a\"], [0.8888888888888888, \"#fdca26\"], [1.0, \"#f0f921\"]], \"type\": \"contour\"}], \"contourcarpet\": [{\"colorbar\": {\"outlinewidth\": 0, \"ticks\": \"\"}, \"type\": \"contourcarpet\"}], \"heatmap\": [{\"colorbar\": {\"outlinewidth\": 0, \"ticks\": \"\"}, \"colorscale\": [[0.0, \"#0d0887\"], [0.1111111111111111, \"#46039f\"], [0.2222222222222222, \"#7201a8\"], [0.3333333333333333, \"#9c179e\"], [0.4444444444444444, \"#bd3786\"], [0.5555555555555556, \"#d8576b\"], [0.6666666666666666, \"#ed7953\"], [0.7777777777777778, \"#fb9f3a\"], [0.8888888888888888, \"#fdca26\"], [1.0, \"#f0f921\"]], \"type\": \"heatmap\"}], \"heatmapgl\": [{\"colorbar\": {\"outlinewidth\": 0, \"ticks\": \"\"}, \"colorscale\": [[0.0, \"#0d0887\"], [0.1111111111111111, \"#46039f\"], [0.2222222222222222, \"#7201a8\"], [0.3333333333333333, \"#9c179e\"], [0.4444444444444444, \"#bd3786\"], [0.5555555555555556, \"#d8576b\"], [0.6666666666666666, \"#ed7953\"], [0.7777777777777778, \"#fb9f3a\"], [0.8888888888888888, \"#fdca26\"], [1.0, \"#f0f921\"]], \"type\": \"heatmapgl\"}], \"histogram\": [{\"marker\": {\"colorbar\": {\"outlinewidth\": 0, \"ticks\": \"\"}}, \"type\": \"histogram\"}], \"histogram2d\": [{\"colorbar\": {\"outlinewidth\": 0, \"ticks\": \"\"}, \"colorscale\": [[0.0, \"#0d0887\"], [0.1111111111111111, \"#46039f\"], [0.2222222222222222, \"#7201a8\"], [0.3333333333333333, \"#9c179e\"], [0.4444444444444444, \"#bd3786\"], [0.5555555555555556, \"#d8576b\"], [0.6666666666666666, \"#ed7953\"], [0.7777777777777778, \"#fb9f3a\"], [0.8888888888888888, \"#fdca26\"], [1.0, \"#f0f921\"]], \"type\": \"histogram2d\"}], \"histogram2dcontour\": [{\"colorbar\": {\"outlinewidth\": 0, \"ticks\": \"\"}, \"colorscale\": [[0.0, \"#0d0887\"], [0.1111111111111111, \"#46039f\"], [0.2222222222222222, \"#7201a8\"], [0.3333333333333333, \"#9c179e\"], [0.4444444444444444, \"#bd3786\"], [0.5555555555555556, \"#d8576b\"], [0.6666666666666666, \"#ed7953\"], [0.7777777777777778, \"#fb9f3a\"], [0.8888888888888888, \"#fdca26\"], [1.0, \"#f0f921\"]], \"type\": \"histogram2dcontour\"}], \"mesh3d\": [{\"colorbar\": {\"outlinewidth\": 0, \"ticks\": \"\"}, \"type\": \"mesh3d\"}], \"parcoords\": [{\"line\": {\"colorbar\": {\"outlinewidth\": 0, \"ticks\": \"\"}}, \"type\": \"parcoords\"}], \"pie\": [{\"automargin\": true, \"type\": \"pie\"}], \"scatter\": [{\"marker\": {\"colorbar\": {\"outlinewidth\": 0, \"ticks\": \"\"}}, \"type\": \"scatter\"}], \"scatter3d\": [{\"line\": {\"colorbar\": {\"outlinewidth\": 0, \"ticks\": \"\"}}, \"marker\": {\"colorbar\": {\"outlinewidth\": 0, \"ticks\": \"\"}}, \"type\": \"scatter3d\"}], \"scattercarpet\": [{\"marker\": {\"colorbar\": {\"outlinewidth\": 0, \"ticks\": \"\"}}, \"type\": \"scattercarpet\"}], \"scattergeo\": [{\"marker\": {\"colorbar\": {\"outlinewidth\": 0, \"ticks\": \"\"}}, \"type\": \"scattergeo\"}], \"scattergl\": [{\"marker\": {\"colorbar\": {\"outlinewidth\": 0, \"ticks\": \"\"}}, \"type\": \"scattergl\"}], \"scattermapbox\": [{\"marker\": {\"colorbar\": {\"outlinewidth\": 0, \"ticks\": \"\"}}, \"type\": \"scattermapbox\"}], \"scatterpolar\": [{\"marker\": {\"colorbar\": {\"outlinewidth\": 0, \"ticks\": \"\"}}, \"type\": \"scatterpolar\"}], \"scatterpolargl\": [{\"marker\": {\"colorbar\": {\"outlinewidth\": 0, \"ticks\": \"\"}}, \"type\": \"scatterpolargl\"}], \"scatterternary\": [{\"marker\": {\"colorbar\": {\"outlinewidth\": 0, \"ticks\": \"\"}}, \"type\": \"scatterternary\"}], \"surface\": [{\"colorbar\": {\"outlinewidth\": 0, \"ticks\": \"\"}, \"colorscale\": [[0.0, \"#0d0887\"], [0.1111111111111111, \"#46039f\"], [0.2222222222222222, \"#7201a8\"], [0.3333333333333333, \"#9c179e\"], [0.4444444444444444, \"#bd3786\"], [0.5555555555555556, \"#d8576b\"], [0.6666666666666666, \"#ed7953\"], [0.7777777777777778, \"#fb9f3a\"], [0.8888888888888888, \"#fdca26\"], [1.0, \"#f0f921\"]], \"type\": \"surface\"}], \"table\": [{\"cells\": {\"fill\": {\"color\": \"#EBF0F8\"}, \"line\": {\"color\": \"white\"}}, \"header\": {\"fill\": {\"color\": \"#C8D4E3\"}, \"line\": {\"color\": \"white\"}}, \"type\": \"table\"}]}, \"layout\": {\"annotationdefaults\": {\"arrowcolor\": \"#2a3f5f\", \"arrowhead\": 0, \"arrowwidth\": 1}, \"autotypenumbers\": \"strict\", \"coloraxis\": {\"colorbar\": {\"outlinewidth\": 0, \"ticks\": \"\"}}, \"colorscale\": {\"diverging\": [[0, \"#8e0152\"], [0.1, \"#c51b7d\"], [0.2, \"#de77ae\"], [0.3, \"#f1b6da\"], [0.4, \"#fde0ef\"], [0.5, \"#f7f7f7\"], [0.6, \"#e6f5d0\"], [0.7, \"#b8e186\"], [0.8, \"#7fbc41\"], [0.9, \"#4d9221\"], [1, \"#276419\"]], \"sequential\": [[0.0, \"#0d0887\"], [0.1111111111111111, \"#46039f\"], [0.2222222222222222, \"#7201a8\"], [0.3333333333333333, \"#9c179e\"], [0.4444444444444444, \"#bd3786\"], [0.5555555555555556, \"#d8576b\"], [0.6666666666666666, \"#ed7953\"], [0.7777777777777778, \"#fb9f3a\"], [0.8888888888888888, \"#fdca26\"], [1.0, \"#f0f921\"]], \"sequentialminus\": [[0.0, \"#0d0887\"], [0.1111111111111111, \"#46039f\"], [0.2222222222222222, \"#7201a8\"], [0.3333333333333333, \"#9c179e\"], [0.4444444444444444, \"#bd3786\"], [0.5555555555555556, \"#d8576b\"], [0.6666666666666666, \"#ed7953\"], [0.7777777777777778, \"#fb9f3a\"], [0.8888888888888888, \"#fdca26\"], [1.0, \"#f0f921\"]]}, \"colorway\": [\"#636efa\", \"#EF553B\", \"#00cc96\", \"#ab63fa\", \"#FFA15A\", \"#19d3f3\", \"#FF6692\", \"#B6E880\", \"#FF97FF\", \"#FECB52\"], \"font\": {\"color\": \"#2a3f5f\"}, \"geo\": {\"bgcolor\": \"white\", \"lakecolor\": \"white\", \"landcolor\": \"#E5ECF6\", \"showlakes\": true, \"showland\": true, \"subunitcolor\": \"white\"}, \"hoverlabel\": {\"align\": \"left\"}, \"hovermode\": \"closest\", \"mapbox\": {\"style\": \"light\"}, \"paper_bgcolor\": \"white\", \"plot_bgcolor\": \"#E5ECF6\", \"polar\": {\"angularaxis\": {\"gridcolor\": \"white\", \"linecolor\": \"white\", \"ticks\": \"\"}, \"bgcolor\": \"#E5ECF6\", \"radialaxis\": {\"gridcolor\": \"white\", \"linecolor\": \"white\", \"ticks\": \"\"}}, \"scene\": {\"xaxis\": {\"backgroundcolor\": \"#E5ECF6\", \"gridcolor\": \"white\", \"gridwidth\": 2, \"linecolor\": \"white\", \"showbackground\": true, \"ticks\": \"\", \"zerolinecolor\": \"white\"}, \"yaxis\": {\"backgroundcolor\": \"#E5ECF6\", \"gridcolor\": \"white\", \"gridwidth\": 2, \"linecolor\": \"white\", \"showbackground\": true, \"ticks\": \"\", \"zerolinecolor\": \"white\"}, \"zaxis\": {\"backgroundcolor\": \"#E5ECF6\", \"gridcolor\": \"white\", \"gridwidth\": 2, \"linecolor\": \"white\", \"showbackground\": true, \"ticks\": \"\", \"zerolinecolor\": \"white\"}}, \"shapedefaults\": {\"line\": {\"color\": \"#2a3f5f\"}}, \"ternary\": {\"aaxis\": {\"gridcolor\": \"white\", \"linecolor\": \"white\", \"ticks\": \"\"}, \"baxis\": {\"gridcolor\": \"white\", \"linecolor\": \"white\", \"ticks\": \"\"}, \"bgcolor\": \"#E5ECF6\", \"caxis\": {\"gridcolor\": \"white\", \"linecolor\": \"white\", \"ticks\": \"\"}}, \"title\": {\"x\": 0.05}, \"xaxis\": {\"automargin\": true, \"gridcolor\": \"white\", \"linecolor\": \"white\", \"ticks\": \"\", \"title\": {\"standoff\": 15}, \"zerolinecolor\": \"white\", \"zerolinewidth\": 2}, \"yaxis\": {\"automargin\": true, \"gridcolor\": \"white\", \"linecolor\": \"white\", \"ticks\": \"\", \"title\": {\"standoff\": 15}, \"zerolinecolor\": \"white\", \"zerolinewidth\": 2}}}, \"title\": {\"font\": {\"color\": \"#4D5663\"}, \"text\": \"\\u0420\\u0430\\u0441\\u043f\\u0440\\u0435\\u0434\\u0435\\u043b\\u0435\\u043d\\u0438\\u0435 \\u043a\\u0432\\u0430\\u0440\\u0442\\u0438\\u0440 \\u043f\\u043e \\u0433\\u043e\\u0434\\u0443 \\u043f\\u043e\\u0441\\u0442\\u0440\\u043e\\u0439\\u043a\\u0438 \\u0434\\u043e\\u043c\\u0430\"}, \"xaxis\": {\"gridcolor\": \"#E1E5ED\", \"showgrid\": true, \"tickfont\": {\"color\": \"#4D5663\"}, \"title\": {\"font\": {\"color\": \"#4D5663\"}, \"text\": \"\\u0413\\u043e\\u0434 \\u043f\\u043e\\u0441\\u0442\\u0440\\u043e\\u0439\\u043a\\u0438\"}, \"zerolinecolor\": \"#E1E5ED\"}, \"yaxis\": {\"gridcolor\": \"#E1E5ED\", \"showgrid\": true, \"tickfont\": {\"color\": \"#4D5663\"}, \"title\": {\"font\": {\"color\": \"#4D5663\"}, \"text\": \"\\u041a\\u043e\\u043b\\u0438\\u0447\\u0435\\u0441\\u0442\\u0432\\u043e \\u043a\\u0432\\u0430\\u0440\\u0442\\u0438\\u0440\"}, \"zerolinecolor\": \"#E1E5ED\"}},                        {\"showLink\": true, \"linkText\": \"Export to plot.ly\", \"plotlyServerURL\": \"https://plot.ly\", \"responsive\": true}                    ).then(function(){\n",
       "                            \n",
       "var gd = document.getElementById('25fe00b6-ce72-49fa-a87b-2d204eb6604f');\n",
       "var x = new MutationObserver(function (mutations, observer) {{\n",
       "        var display = window.getComputedStyle(gd).display;\n",
       "        if (!display || display === 'none') {{\n",
       "            console.log([gd, 'removed!']);\n",
       "            Plotly.purge(gd);\n",
       "            observer.disconnect();\n",
       "        }}\n",
       "}});\n",
       "\n",
       "// Listen for the removal of the full notebook cells\n",
       "var notebookContainer = gd.closest('#notebook-container');\n",
       "if (notebookContainer) {{\n",
       "    x.observe(notebookContainer, {childList: true});\n",
       "}}\n",
       "\n",
       "// Listen for the clearing of the current output cell\n",
       "var outputEl = gd.closest('.output');\n",
       "if (outputEl) {{\n",
       "    x.observe(outputEl, {childList: true});\n",
       "}}\n",
       "\n",
       "                        })                };                });            </script>        </div>"
      ]
     },
     "metadata": {},
     "output_type": "display_data"
    },
    {
     "data": {
      "application/vnd.plotly.v1+json": {
       "config": {
        "linkText": "Export to plot.ly",
        "plotlyServerURL": "https://plot.ly",
        "showLink": true
       },
       "data": [
        {
         "histfunc": "count",
         "histnorm": "",
         "marker": {
          "color": "rgba(255, 153, 51, 1.0)",
          "line": {
           "color": "#4D5663",
           "width": 1.3
          }
         },
         "name": "Этаж квартиры",
         "opacity": 0.8,
         "orientation": "v",
         "type": "histogram",
         "x": [
          4,
          6,
          3,
          15,
          8,
          5,
          6,
          2,
          5,
          5,
          4,
          9,
          1,
          24,
          2,
          5,
          7,
          4,
          5,
          3,
          8,
          12,
          2,
          5,
          5,
          2,
          4,
          8,
          3,
          6,
          12,
          10,
          2,
          16,
          3,
          3,
          18,
          3,
          5,
          4,
          9,
          9,
          17,
          2,
          8,
          5,
          7,
          3,
          7,
          2,
          7,
          7,
          8,
          7,
          8,
          17,
          8,
          6,
          2,
          3,
          10,
          7,
          4,
          3,
          5,
          3,
          5,
          2,
          18,
          3,
          53,
          25,
          24,
          3,
          23,
          10,
          4,
          23,
          6,
          7,
          14,
          10,
          3,
          8,
          2,
          8,
          10,
          6,
          14,
          11,
          8,
          13,
          3,
          4,
          3,
          6,
          13,
          6,
          7,
          3,
          10,
          14,
          20,
          5,
          8,
          45,
          13,
          11,
          14,
          3,
          3,
          3,
          35,
          2,
          8,
          3,
          3,
          7,
          9,
          37,
          6,
          5,
          7,
          8,
          2,
          25,
          3,
          14,
          2,
          11,
          4,
          4,
          10,
          6,
          7,
          29,
          4,
          4,
          25,
          6,
          3,
          3,
          19,
          19,
          48,
          52,
          2,
          35,
          43,
          8,
          31,
          3,
          2,
          3,
          4,
          14,
          3,
          11,
          2,
          5,
          2,
          14,
          3,
          14,
          26,
          5,
          26,
          4,
          7,
          16,
          8,
          7,
          1,
          7,
          6,
          14,
          5,
          22,
          4,
          13,
          27,
          8,
          2,
          14,
          11,
          10,
          10,
          43,
          3,
          12,
          12,
          4,
          3,
          36,
          43,
          7,
          6,
          7,
          7,
          16,
          24,
          1,
          5,
          9,
          6,
          13,
          6,
          8,
          3,
          7,
          7,
          14,
          11,
          4,
          3,
          3,
          12,
          6,
          6,
          2,
          1,
          6,
          17,
          14,
          2,
          6,
          3,
          17,
          3,
          4,
          4,
          12,
          7,
          7,
          9,
          13,
          7,
          3,
          19,
          10,
          39,
          9,
          8,
          3,
          22,
          3,
          2,
          4,
          2,
          2,
          8,
          6,
          6,
          23,
          22,
          3,
          31,
          3,
          14,
          5,
          4,
          78,
          9,
          5,
          8,
          5,
          2,
          6,
          8,
          26,
          14,
          9,
          18,
          3,
          5,
          2,
          2,
          4,
          9,
          3,
          25,
          10,
          4,
          29,
          4,
          23,
          11,
          20,
          5,
          2,
          2,
          2,
          1,
          3,
          4,
          7,
          3,
          6,
          17,
          9,
          4,
          10,
          7,
          3,
          14,
          10,
          10,
          7,
          12,
          5,
          17,
          9,
          1,
          11,
          2,
          6,
          5,
          20,
          2,
          3,
          6,
          2,
          18,
          6,
          10,
          6,
          5,
          10,
          7,
          1,
          3,
          17,
          12,
          24,
          3,
          12,
          9,
          5,
          4,
          8,
          14,
          25,
          14,
          3,
          8,
          8,
          7,
          2,
          10,
          10,
          3,
          2,
          8,
          5,
          8,
          21,
          3,
          24,
          3,
          4,
          4,
          7,
          6,
          4,
          31,
          5,
          9,
          7,
          22,
          9,
          3,
          7,
          2,
          3,
          3,
          5,
          5,
          8,
          6,
          2,
          11,
          37,
          6,
          2,
          11,
          16,
          8,
          3,
          21,
          5,
          6,
          11,
          8,
          2,
          23,
          22,
          8,
          6,
          3,
          5,
          11,
          34,
          20,
          9,
          9,
          7,
          10,
          9,
          4,
          5,
          15,
          11,
          18,
          5,
          16,
          7,
          13,
          2,
          11,
          5,
          29,
          10,
          25,
          9,
          2,
          3,
          2,
          3,
          5,
          3,
          2,
          2,
          3,
          9,
          3,
          3,
          7,
          2,
          14,
          3,
          2,
          14,
          3,
          8,
          2,
          1,
          9,
          3,
          6,
          11,
          5,
          7,
          5,
          11,
          4,
          2,
          14,
          2,
          5,
          7,
          1,
          9,
          9,
          4,
          1,
          1,
          6,
          5,
          4,
          14,
          7,
          10,
          10,
          4,
          3,
          7,
          25,
          40,
          5,
          6,
          10,
          43,
          5,
          41,
          10,
          2,
          12,
          14,
          10,
          10,
          25,
          15,
          9,
          12,
          8,
          8,
          7,
          6,
          9,
          3,
          7,
          8,
          22,
          5,
          5,
          33,
          4,
          7,
          10,
          3,
          24,
          13,
          72,
          3,
          12,
          6,
          6,
          3,
          17,
          43,
          2,
          26,
          7,
          12,
          3,
          3,
          2,
          3,
          7,
          22,
          29,
          11,
          5,
          8,
          5,
          3,
          5,
          6,
          2,
          2,
          12,
          20,
          2,
          21,
          3,
          2,
          20,
          2,
          4,
          5,
          11,
          13,
          3,
          35,
          6,
          18,
          2,
          2,
          12,
          3,
          24,
          5,
          14,
          7,
          12,
          2,
          8,
          1,
          2,
          7,
          9,
          35,
          7,
          5,
          15,
          13,
          3,
          6,
          4,
          3,
          24,
          5,
          38,
          5,
          5,
          7,
          3,
          9,
          12,
          8,
          11,
          6,
          24,
          9,
          17,
          5,
          4,
          3,
          10,
          4,
          2,
          7,
          5,
          22,
          4,
          4,
          13,
          7,
          47,
          40,
          66,
          27,
          2,
          5,
          2,
          16,
          8,
          7,
          27,
          3,
          50,
          31,
          7,
          7,
          5,
          6,
          15,
          3,
          5,
          3,
          2,
          11,
          5,
          10,
          8,
          3,
          3,
          11,
          6,
          8,
          4,
          9,
          5,
          3,
          7,
          10,
          8,
          5,
          8,
          8,
          7,
          5,
          3,
          3,
          2,
          3,
          22,
          14,
          4,
          16,
          14,
          29,
          4,
          6,
          65,
          8,
          3,
          3,
          37,
          28,
          5,
          5,
          12,
          56,
          12,
          15,
          5,
          2,
          1,
          9,
          2,
          4,
          5,
          2,
          7,
          3,
          10,
          6,
          6,
          8,
          7,
          40,
          10,
          4,
          7,
          7,
          13,
          6,
          11,
          5,
          2,
          45,
          58,
          7,
          11,
          8,
          11,
          3,
          2,
          7,
          1,
          8,
          7,
          6,
          8,
          21,
          1,
          2,
          11,
          3,
          6,
          7,
          2,
          7,
          5,
          3,
          12,
          7,
          9,
          9,
          7,
          5,
          5,
          11,
          2,
          3,
          9,
          4,
          7,
          33,
          33,
          40,
          40,
          10,
          10,
          26,
          3,
          7,
          12,
          14,
          19,
          19,
          18,
          5,
          9,
          10,
          10,
          3,
          5,
          7,
          13,
          34,
          6,
          2,
          14,
          24,
          11,
          4,
          22,
          22
         ]
        }
       ],
       "layout": {
        "barmode": "overlay",
        "legend": {
         "bgcolor": "#F5F6F9",
         "font": {
          "color": "#4D5663"
         }
        },
        "paper_bgcolor": "#F5F6F9",
        "plot_bgcolor": "#F5F6F9",
        "template": {
         "data": {
          "bar": [
           {
            "error_x": {
             "color": "#2a3f5f"
            },
            "error_y": {
             "color": "#2a3f5f"
            },
            "marker": {
             "line": {
              "color": "#E5ECF6",
              "width": 0.5
             }
            },
            "type": "bar"
           }
          ],
          "barpolar": [
           {
            "marker": {
             "line": {
              "color": "#E5ECF6",
              "width": 0.5
             }
            },
            "type": "barpolar"
           }
          ],
          "carpet": [
           {
            "aaxis": {
             "endlinecolor": "#2a3f5f",
             "gridcolor": "white",
             "linecolor": "white",
             "minorgridcolor": "white",
             "startlinecolor": "#2a3f5f"
            },
            "baxis": {
             "endlinecolor": "#2a3f5f",
             "gridcolor": "white",
             "linecolor": "white",
             "minorgridcolor": "white",
             "startlinecolor": "#2a3f5f"
            },
            "type": "carpet"
           }
          ],
          "choropleth": [
           {
            "colorbar": {
             "outlinewidth": 0,
             "ticks": ""
            },
            "type": "choropleth"
           }
          ],
          "contour": [
           {
            "colorbar": {
             "outlinewidth": 0,
             "ticks": ""
            },
            "colorscale": [
             [
              0,
              "#0d0887"
             ],
             [
              0.1111111111111111,
              "#46039f"
             ],
             [
              0.2222222222222222,
              "#7201a8"
             ],
             [
              0.3333333333333333,
              "#9c179e"
             ],
             [
              0.4444444444444444,
              "#bd3786"
             ],
             [
              0.5555555555555556,
              "#d8576b"
             ],
             [
              0.6666666666666666,
              "#ed7953"
             ],
             [
              0.7777777777777778,
              "#fb9f3a"
             ],
             [
              0.8888888888888888,
              "#fdca26"
             ],
             [
              1,
              "#f0f921"
             ]
            ],
            "type": "contour"
           }
          ],
          "contourcarpet": [
           {
            "colorbar": {
             "outlinewidth": 0,
             "ticks": ""
            },
            "type": "contourcarpet"
           }
          ],
          "heatmap": [
           {
            "colorbar": {
             "outlinewidth": 0,
             "ticks": ""
            },
            "colorscale": [
             [
              0,
              "#0d0887"
             ],
             [
              0.1111111111111111,
              "#46039f"
             ],
             [
              0.2222222222222222,
              "#7201a8"
             ],
             [
              0.3333333333333333,
              "#9c179e"
             ],
             [
              0.4444444444444444,
              "#bd3786"
             ],
             [
              0.5555555555555556,
              "#d8576b"
             ],
             [
              0.6666666666666666,
              "#ed7953"
             ],
             [
              0.7777777777777778,
              "#fb9f3a"
             ],
             [
              0.8888888888888888,
              "#fdca26"
             ],
             [
              1,
              "#f0f921"
             ]
            ],
            "type": "heatmap"
           }
          ],
          "heatmapgl": [
           {
            "colorbar": {
             "outlinewidth": 0,
             "ticks": ""
            },
            "colorscale": [
             [
              0,
              "#0d0887"
             ],
             [
              0.1111111111111111,
              "#46039f"
             ],
             [
              0.2222222222222222,
              "#7201a8"
             ],
             [
              0.3333333333333333,
              "#9c179e"
             ],
             [
              0.4444444444444444,
              "#bd3786"
             ],
             [
              0.5555555555555556,
              "#d8576b"
             ],
             [
              0.6666666666666666,
              "#ed7953"
             ],
             [
              0.7777777777777778,
              "#fb9f3a"
             ],
             [
              0.8888888888888888,
              "#fdca26"
             ],
             [
              1,
              "#f0f921"
             ]
            ],
            "type": "heatmapgl"
           }
          ],
          "histogram": [
           {
            "marker": {
             "colorbar": {
              "outlinewidth": 0,
              "ticks": ""
             }
            },
            "type": "histogram"
           }
          ],
          "histogram2d": [
           {
            "colorbar": {
             "outlinewidth": 0,
             "ticks": ""
            },
            "colorscale": [
             [
              0,
              "#0d0887"
             ],
             [
              0.1111111111111111,
              "#46039f"
             ],
             [
              0.2222222222222222,
              "#7201a8"
             ],
             [
              0.3333333333333333,
              "#9c179e"
             ],
             [
              0.4444444444444444,
              "#bd3786"
             ],
             [
              0.5555555555555556,
              "#d8576b"
             ],
             [
              0.6666666666666666,
              "#ed7953"
             ],
             [
              0.7777777777777778,
              "#fb9f3a"
             ],
             [
              0.8888888888888888,
              "#fdca26"
             ],
             [
              1,
              "#f0f921"
             ]
            ],
            "type": "histogram2d"
           }
          ],
          "histogram2dcontour": [
           {
            "colorbar": {
             "outlinewidth": 0,
             "ticks": ""
            },
            "colorscale": [
             [
              0,
              "#0d0887"
             ],
             [
              0.1111111111111111,
              "#46039f"
             ],
             [
              0.2222222222222222,
              "#7201a8"
             ],
             [
              0.3333333333333333,
              "#9c179e"
             ],
             [
              0.4444444444444444,
              "#bd3786"
             ],
             [
              0.5555555555555556,
              "#d8576b"
             ],
             [
              0.6666666666666666,
              "#ed7953"
             ],
             [
              0.7777777777777778,
              "#fb9f3a"
             ],
             [
              0.8888888888888888,
              "#fdca26"
             ],
             [
              1,
              "#f0f921"
             ]
            ],
            "type": "histogram2dcontour"
           }
          ],
          "mesh3d": [
           {
            "colorbar": {
             "outlinewidth": 0,
             "ticks": ""
            },
            "type": "mesh3d"
           }
          ],
          "parcoords": [
           {
            "line": {
             "colorbar": {
              "outlinewidth": 0,
              "ticks": ""
             }
            },
            "type": "parcoords"
           }
          ],
          "pie": [
           {
            "automargin": true,
            "type": "pie"
           }
          ],
          "scatter": [
           {
            "marker": {
             "colorbar": {
              "outlinewidth": 0,
              "ticks": ""
             }
            },
            "type": "scatter"
           }
          ],
          "scatter3d": [
           {
            "line": {
             "colorbar": {
              "outlinewidth": 0,
              "ticks": ""
             }
            },
            "marker": {
             "colorbar": {
              "outlinewidth": 0,
              "ticks": ""
             }
            },
            "type": "scatter3d"
           }
          ],
          "scattercarpet": [
           {
            "marker": {
             "colorbar": {
              "outlinewidth": 0,
              "ticks": ""
             }
            },
            "type": "scattercarpet"
           }
          ],
          "scattergeo": [
           {
            "marker": {
             "colorbar": {
              "outlinewidth": 0,
              "ticks": ""
             }
            },
            "type": "scattergeo"
           }
          ],
          "scattergl": [
           {
            "marker": {
             "colorbar": {
              "outlinewidth": 0,
              "ticks": ""
             }
            },
            "type": "scattergl"
           }
          ],
          "scattermapbox": [
           {
            "marker": {
             "colorbar": {
              "outlinewidth": 0,
              "ticks": ""
             }
            },
            "type": "scattermapbox"
           }
          ],
          "scatterpolar": [
           {
            "marker": {
             "colorbar": {
              "outlinewidth": 0,
              "ticks": ""
             }
            },
            "type": "scatterpolar"
           }
          ],
          "scatterpolargl": [
           {
            "marker": {
             "colorbar": {
              "outlinewidth": 0,
              "ticks": ""
             }
            },
            "type": "scatterpolargl"
           }
          ],
          "scatterternary": [
           {
            "marker": {
             "colorbar": {
              "outlinewidth": 0,
              "ticks": ""
             }
            },
            "type": "scatterternary"
           }
          ],
          "surface": [
           {
            "colorbar": {
             "outlinewidth": 0,
             "ticks": ""
            },
            "colorscale": [
             [
              0,
              "#0d0887"
             ],
             [
              0.1111111111111111,
              "#46039f"
             ],
             [
              0.2222222222222222,
              "#7201a8"
             ],
             [
              0.3333333333333333,
              "#9c179e"
             ],
             [
              0.4444444444444444,
              "#bd3786"
             ],
             [
              0.5555555555555556,
              "#d8576b"
             ],
             [
              0.6666666666666666,
              "#ed7953"
             ],
             [
              0.7777777777777778,
              "#fb9f3a"
             ],
             [
              0.8888888888888888,
              "#fdca26"
             ],
             [
              1,
              "#f0f921"
             ]
            ],
            "type": "surface"
           }
          ],
          "table": [
           {
            "cells": {
             "fill": {
              "color": "#EBF0F8"
             },
             "line": {
              "color": "white"
             }
            },
            "header": {
             "fill": {
              "color": "#C8D4E3"
             },
             "line": {
              "color": "white"
             }
            },
            "type": "table"
           }
          ]
         },
         "layout": {
          "annotationdefaults": {
           "arrowcolor": "#2a3f5f",
           "arrowhead": 0,
           "arrowwidth": 1
          },
          "autotypenumbers": "strict",
          "coloraxis": {
           "colorbar": {
            "outlinewidth": 0,
            "ticks": ""
           }
          },
          "colorscale": {
           "diverging": [
            [
             0,
             "#8e0152"
            ],
            [
             0.1,
             "#c51b7d"
            ],
            [
             0.2,
             "#de77ae"
            ],
            [
             0.3,
             "#f1b6da"
            ],
            [
             0.4,
             "#fde0ef"
            ],
            [
             0.5,
             "#f7f7f7"
            ],
            [
             0.6,
             "#e6f5d0"
            ],
            [
             0.7,
             "#b8e186"
            ],
            [
             0.8,
             "#7fbc41"
            ],
            [
             0.9,
             "#4d9221"
            ],
            [
             1,
             "#276419"
            ]
           ],
           "sequential": [
            [
             0,
             "#0d0887"
            ],
            [
             0.1111111111111111,
             "#46039f"
            ],
            [
             0.2222222222222222,
             "#7201a8"
            ],
            [
             0.3333333333333333,
             "#9c179e"
            ],
            [
             0.4444444444444444,
             "#bd3786"
            ],
            [
             0.5555555555555556,
             "#d8576b"
            ],
            [
             0.6666666666666666,
             "#ed7953"
            ],
            [
             0.7777777777777778,
             "#fb9f3a"
            ],
            [
             0.8888888888888888,
             "#fdca26"
            ],
            [
             1,
             "#f0f921"
            ]
           ],
           "sequentialminus": [
            [
             0,
             "#0d0887"
            ],
            [
             0.1111111111111111,
             "#46039f"
            ],
            [
             0.2222222222222222,
             "#7201a8"
            ],
            [
             0.3333333333333333,
             "#9c179e"
            ],
            [
             0.4444444444444444,
             "#bd3786"
            ],
            [
             0.5555555555555556,
             "#d8576b"
            ],
            [
             0.6666666666666666,
             "#ed7953"
            ],
            [
             0.7777777777777778,
             "#fb9f3a"
            ],
            [
             0.8888888888888888,
             "#fdca26"
            ],
            [
             1,
             "#f0f921"
            ]
           ]
          },
          "colorway": [
           "#636efa",
           "#EF553B",
           "#00cc96",
           "#ab63fa",
           "#FFA15A",
           "#19d3f3",
           "#FF6692",
           "#B6E880",
           "#FF97FF",
           "#FECB52"
          ],
          "font": {
           "color": "#2a3f5f"
          },
          "geo": {
           "bgcolor": "white",
           "lakecolor": "white",
           "landcolor": "#E5ECF6",
           "showlakes": true,
           "showland": true,
           "subunitcolor": "white"
          },
          "hoverlabel": {
           "align": "left"
          },
          "hovermode": "closest",
          "mapbox": {
           "style": "light"
          },
          "paper_bgcolor": "white",
          "plot_bgcolor": "#E5ECF6",
          "polar": {
           "angularaxis": {
            "gridcolor": "white",
            "linecolor": "white",
            "ticks": ""
           },
           "bgcolor": "#E5ECF6",
           "radialaxis": {
            "gridcolor": "white",
            "linecolor": "white",
            "ticks": ""
           }
          },
          "scene": {
           "xaxis": {
            "backgroundcolor": "#E5ECF6",
            "gridcolor": "white",
            "gridwidth": 2,
            "linecolor": "white",
            "showbackground": true,
            "ticks": "",
            "zerolinecolor": "white"
           },
           "yaxis": {
            "backgroundcolor": "#E5ECF6",
            "gridcolor": "white",
            "gridwidth": 2,
            "linecolor": "white",
            "showbackground": true,
            "ticks": "",
            "zerolinecolor": "white"
           },
           "zaxis": {
            "backgroundcolor": "#E5ECF6",
            "gridcolor": "white",
            "gridwidth": 2,
            "linecolor": "white",
            "showbackground": true,
            "ticks": "",
            "zerolinecolor": "white"
           }
          },
          "shapedefaults": {
           "line": {
            "color": "#2a3f5f"
           }
          },
          "ternary": {
           "aaxis": {
            "gridcolor": "white",
            "linecolor": "white",
            "ticks": ""
           },
           "baxis": {
            "gridcolor": "white",
            "linecolor": "white",
            "ticks": ""
           },
           "bgcolor": "#E5ECF6",
           "caxis": {
            "gridcolor": "white",
            "linecolor": "white",
            "ticks": ""
           }
          },
          "title": {
           "x": 0.05
          },
          "xaxis": {
           "automargin": true,
           "gridcolor": "white",
           "linecolor": "white",
           "ticks": "",
           "title": {
            "standoff": 15
           },
           "zerolinecolor": "white",
           "zerolinewidth": 2
          },
          "yaxis": {
           "automargin": true,
           "gridcolor": "white",
           "linecolor": "white",
           "ticks": "",
           "title": {
            "standoff": 15
           },
           "zerolinecolor": "white",
           "zerolinewidth": 2
          }
         }
        },
        "title": {
         "font": {
          "color": "#4D5663"
         },
         "text": "Распределение квартир по этажу"
        },
        "xaxis": {
         "gridcolor": "#E1E5ED",
         "showgrid": true,
         "tickfont": {
          "color": "#4D5663"
         },
         "title": {
          "font": {
           "color": "#4D5663"
          },
          "text": "Этаж квартиры"
         },
         "zerolinecolor": "#E1E5ED"
        },
        "yaxis": {
         "gridcolor": "#E1E5ED",
         "showgrid": true,
         "tickfont": {
          "color": "#4D5663"
         },
         "title": {
          "font": {
           "color": "#4D5663"
          },
          "text": "Количество квартир"
         },
         "zerolinecolor": "#E1E5ED"
        }
       }
      },
      "text/html": [
       "<div>                            <div id=\"c692af58-1405-482f-9bab-1a1f954b661d\" class=\"plotly-graph-div\" style=\"height:525px; width:100%;\"></div>            <script type=\"text/javascript\">                require([\"plotly\"], function(Plotly) {                    window.PLOTLYENV=window.PLOTLYENV || {};\n",
       "                    window.PLOTLYENV.BASE_URL='https://plot.ly';                                    if (document.getElementById(\"c692af58-1405-482f-9bab-1a1f954b661d\")) {                    Plotly.newPlot(                        \"c692af58-1405-482f-9bab-1a1f954b661d\",                        [{\"histfunc\": \"count\", \"histnorm\": \"\", \"marker\": {\"color\": \"rgba(255, 153, 51, 1.0)\", \"line\": {\"color\": \"#4D5663\", \"width\": 1.3}}, \"name\": \"\\u042d\\u0442\\u0430\\u0436 \\u043a\\u0432\\u0430\\u0440\\u0442\\u0438\\u0440\\u044b\", \"opacity\": 0.8, \"orientation\": \"v\", \"type\": \"histogram\", \"x\": [4, 6, 3, 15, 8, 5, 6, 2, 5, 5, 4, 9, 1, 24, 2, 5, 7, 4, 5, 3, 8, 12, 2, 5, 5, 2, 4, 8, 3, 6, 12, 10, 2, 16, 3, 3, 18, 3, 5, 4, 9, 9, 17, 2, 8, 5, 7, 3, 7, 2, 7, 7, 8, 7, 8, 17, 8, 6, 2, 3, 10, 7, 4, 3, 5, 3, 5, 2, 18, 3, 53, 25, 24, 3, 23, 10, 4, 23, 6, 7, 14, 10, 3, 8, 2, 8, 10, 6, 14, 11, 8, 13, 3, 4, 3, 6, 13, 6, 7, 3, 10, 14, 20, 5, 8, 45, 13, 11, 14, 3, 3, 3, 35, 2, 8, 3, 3, 7, 9, 37, 6, 5, 7, 8, 2, 25, 3, 14, 2, 11, 4, 4, 10, 6, 7, 29, 4, 4, 25, 6, 3, 3, 19, 19, 48, 52, 2, 35, 43, 8, 31, 3, 2, 3, 4, 14, 3, 11, 2, 5, 2, 14, 3, 14, 26, 5, 26, 4, 7, 16, 8, 7, 1, 7, 6, 14, 5, 22, 4, 13, 27, 8, 2, 14, 11, 10, 10, 43, 3, 12, 12, 4, 3, 36, 43, 7, 6, 7, 7, 16, 24, 1, 5, 9, 6, 13, 6, 8, 3, 7, 7, 14, 11, 4, 3, 3, 12, 6, 6, 2, 1, 6, 17, 14, 2, 6, 3, 17, 3, 4, 4, 12, 7, 7, 9, 13, 7, 3, 19, 10, 39, 9, 8, 3, 22, 3, 2, 4, 2, 2, 8, 6, 6, 23, 22, 3, 31, 3, 14, 5, 4, 78, 9, 5, 8, 5, 2, 6, 8, 26, 14, 9, 18, 3, 5, 2, 2, 4, 9, 3, 25, 10, 4, 29, 4, 23, 11, 20, 5, 2, 2, 2, 1, 3, 4, 7, 3, 6, 17, 9, 4, 10, 7, 3, 14, 10, 10, 7, 12, 5, 17, 9, 1, 11, 2, 6, 5, 20, 2, 3, 6, 2, 18, 6, 10, 6, 5, 10, 7, 1, 3, 17, 12, 24, 3, 12, 9, 5, 4, 8, 14, 25, 14, 3, 8, 8, 7, 2, 10, 10, 3, 2, 8, 5, 8, 21, 3, 24, 3, 4, 4, 7, 6, 4, 31, 5, 9, 7, 22, 9, 3, 7, 2, 3, 3, 5, 5, 8, 6, 2, 11, 37, 6, 2, 11, 16, 8, 3, 21, 5, 6, 11, 8, 2, 23, 22, 8, 6, 3, 5, 11, 34, 20, 9, 9, 7, 10, 9, 4, 5, 15, 11, 18, 5, 16, 7, 13, 2, 11, 5, 29, 10, 25, 9, 2, 3, 2, 3, 5, 3, 2, 2, 3, 9, 3, 3, 7, 2, 14, 3, 2, 14, 3, 8, 2, 1, 9, 3, 6, 11, 5, 7, 5, 11, 4, 2, 14, 2, 5, 7, 1, 9, 9, 4, 1, 1, 6, 5, 4, 14, 7, 10, 10, 4, 3, 7, 25, 40, 5, 6, 10, 43, 5, 41, 10, 2, 12, 14, 10, 10, 25, 15, 9, 12, 8, 8, 7, 6, 9, 3, 7, 8, 22, 5, 5, 33, 4, 7, 10, 3, 24, 13, 72, 3, 12, 6, 6, 3, 17, 43, 2, 26, 7, 12, 3, 3, 2, 3, 7, 22, 29, 11, 5, 8, 5, 3, 5, 6, 2, 2, 12, 20, 2, 21, 3, 2, 20, 2, 4, 5, 11, 13, 3, 35, 6, 18, 2, 2, 12, 3, 24, 5, 14, 7, 12, 2, 8, 1, 2, 7, 9, 35, 7, 5, 15, 13, 3, 6, 4, 3, 24, 5, 38, 5, 5, 7, 3, 9, 12, 8, 11, 6, 24, 9, 17, 5, 4, 3, 10, 4, 2, 7, 5, 22, 4, 4, 13, 7, 47, 40, 66, 27, 2, 5, 2, 16, 8, 7, 27, 3, 50, 31, 7, 7, 5, 6, 15, 3, 5, 3, 2, 11, 5, 10, 8, 3, 3, 11, 6, 8, 4, 9, 5, 3, 7, 10, 8, 5, 8, 8, 7, 5, 3, 3, 2, 3, 22, 14, 4, 16, 14, 29, 4, 6, 65, 8, 3, 3, 37, 28, 5, 5, 12, 56, 12, 15, 5, 2, 1, 9, 2, 4, 5, 2, 7, 3, 10, 6, 6, 8, 7, 40, 10, 4, 7, 7, 13, 6, 11, 5, 2, 45, 58, 7, 11, 8, 11, 3, 2, 7, 1, 8, 7, 6, 8, 21, 1, 2, 11, 3, 6, 7, 2, 7, 5, 3, 12, 7, 9, 9, 7, 5, 5, 11, 2, 3, 9, 4, 7, 33, 33, 40, 40, 10, 10, 26, 3, 7, 12, 14, 19, 19, 18, 5, 9, 10, 10, 3, 5, 7, 13, 34, 6, 2, 14, 24, 11, 4, 22, 22]}],                        {\"barmode\": \"overlay\", \"legend\": {\"bgcolor\": \"#F5F6F9\", \"font\": {\"color\": \"#4D5663\"}}, \"paper_bgcolor\": \"#F5F6F9\", \"plot_bgcolor\": \"#F5F6F9\", \"template\": {\"data\": {\"bar\": [{\"error_x\": {\"color\": \"#2a3f5f\"}, \"error_y\": {\"color\": \"#2a3f5f\"}, \"marker\": {\"line\": {\"color\": \"#E5ECF6\", \"width\": 0.5}}, \"type\": \"bar\"}], \"barpolar\": [{\"marker\": {\"line\": {\"color\": \"#E5ECF6\", \"width\": 0.5}}, \"type\": \"barpolar\"}], \"carpet\": [{\"aaxis\": {\"endlinecolor\": \"#2a3f5f\", \"gridcolor\": \"white\", \"linecolor\": \"white\", \"minorgridcolor\": \"white\", \"startlinecolor\": \"#2a3f5f\"}, \"baxis\": {\"endlinecolor\": \"#2a3f5f\", \"gridcolor\": \"white\", \"linecolor\": \"white\", \"minorgridcolor\": \"white\", \"startlinecolor\": \"#2a3f5f\"}, \"type\": \"carpet\"}], \"choropleth\": [{\"colorbar\": {\"outlinewidth\": 0, \"ticks\": \"\"}, \"type\": \"choropleth\"}], \"contour\": [{\"colorbar\": {\"outlinewidth\": 0, \"ticks\": \"\"}, \"colorscale\": [[0.0, \"#0d0887\"], [0.1111111111111111, \"#46039f\"], [0.2222222222222222, \"#7201a8\"], [0.3333333333333333, \"#9c179e\"], [0.4444444444444444, \"#bd3786\"], [0.5555555555555556, \"#d8576b\"], [0.6666666666666666, \"#ed7953\"], [0.7777777777777778, \"#fb9f3a\"], [0.8888888888888888, \"#fdca26\"], [1.0, \"#f0f921\"]], \"type\": \"contour\"}], \"contourcarpet\": [{\"colorbar\": {\"outlinewidth\": 0, \"ticks\": \"\"}, \"type\": \"contourcarpet\"}], \"heatmap\": [{\"colorbar\": {\"outlinewidth\": 0, \"ticks\": \"\"}, \"colorscale\": [[0.0, \"#0d0887\"], [0.1111111111111111, \"#46039f\"], [0.2222222222222222, \"#7201a8\"], [0.3333333333333333, \"#9c179e\"], [0.4444444444444444, \"#bd3786\"], [0.5555555555555556, \"#d8576b\"], [0.6666666666666666, \"#ed7953\"], [0.7777777777777778, \"#fb9f3a\"], [0.8888888888888888, \"#fdca26\"], [1.0, \"#f0f921\"]], \"type\": \"heatmap\"}], \"heatmapgl\": [{\"colorbar\": {\"outlinewidth\": 0, \"ticks\": \"\"}, \"colorscale\": [[0.0, \"#0d0887\"], [0.1111111111111111, \"#46039f\"], [0.2222222222222222, \"#7201a8\"], [0.3333333333333333, \"#9c179e\"], [0.4444444444444444, \"#bd3786\"], [0.5555555555555556, \"#d8576b\"], [0.6666666666666666, \"#ed7953\"], [0.7777777777777778, \"#fb9f3a\"], [0.8888888888888888, \"#fdca26\"], [1.0, \"#f0f921\"]], \"type\": \"heatmapgl\"}], \"histogram\": [{\"marker\": {\"colorbar\": {\"outlinewidth\": 0, \"ticks\": \"\"}}, \"type\": \"histogram\"}], \"histogram2d\": [{\"colorbar\": {\"outlinewidth\": 0, \"ticks\": \"\"}, \"colorscale\": [[0.0, \"#0d0887\"], [0.1111111111111111, \"#46039f\"], [0.2222222222222222, \"#7201a8\"], [0.3333333333333333, \"#9c179e\"], [0.4444444444444444, \"#bd3786\"], [0.5555555555555556, \"#d8576b\"], [0.6666666666666666, \"#ed7953\"], [0.7777777777777778, \"#fb9f3a\"], [0.8888888888888888, \"#fdca26\"], [1.0, \"#f0f921\"]], \"type\": \"histogram2d\"}], \"histogram2dcontour\": [{\"colorbar\": {\"outlinewidth\": 0, \"ticks\": \"\"}, \"colorscale\": [[0.0, \"#0d0887\"], [0.1111111111111111, \"#46039f\"], [0.2222222222222222, \"#7201a8\"], [0.3333333333333333, \"#9c179e\"], [0.4444444444444444, \"#bd3786\"], [0.5555555555555556, \"#d8576b\"], [0.6666666666666666, \"#ed7953\"], [0.7777777777777778, \"#fb9f3a\"], [0.8888888888888888, \"#fdca26\"], [1.0, \"#f0f921\"]], \"type\": \"histogram2dcontour\"}], \"mesh3d\": [{\"colorbar\": {\"outlinewidth\": 0, \"ticks\": \"\"}, \"type\": \"mesh3d\"}], \"parcoords\": [{\"line\": {\"colorbar\": {\"outlinewidth\": 0, \"ticks\": \"\"}}, \"type\": \"parcoords\"}], \"pie\": [{\"automargin\": true, \"type\": \"pie\"}], \"scatter\": [{\"marker\": {\"colorbar\": {\"outlinewidth\": 0, \"ticks\": \"\"}}, \"type\": \"scatter\"}], \"scatter3d\": [{\"line\": {\"colorbar\": {\"outlinewidth\": 0, \"ticks\": \"\"}}, \"marker\": {\"colorbar\": {\"outlinewidth\": 0, \"ticks\": \"\"}}, \"type\": \"scatter3d\"}], \"scattercarpet\": [{\"marker\": {\"colorbar\": {\"outlinewidth\": 0, \"ticks\": \"\"}}, \"type\": \"scattercarpet\"}], \"scattergeo\": [{\"marker\": {\"colorbar\": {\"outlinewidth\": 0, \"ticks\": \"\"}}, \"type\": \"scattergeo\"}], \"scattergl\": [{\"marker\": {\"colorbar\": {\"outlinewidth\": 0, \"ticks\": \"\"}}, \"type\": \"scattergl\"}], \"scattermapbox\": [{\"marker\": {\"colorbar\": {\"outlinewidth\": 0, \"ticks\": \"\"}}, \"type\": \"scattermapbox\"}], \"scatterpolar\": [{\"marker\": {\"colorbar\": {\"outlinewidth\": 0, \"ticks\": \"\"}}, \"type\": \"scatterpolar\"}], \"scatterpolargl\": [{\"marker\": {\"colorbar\": {\"outlinewidth\": 0, \"ticks\": \"\"}}, \"type\": \"scatterpolargl\"}], \"scatterternary\": [{\"marker\": {\"colorbar\": {\"outlinewidth\": 0, \"ticks\": \"\"}}, \"type\": \"scatterternary\"}], \"surface\": [{\"colorbar\": {\"outlinewidth\": 0, \"ticks\": \"\"}, \"colorscale\": [[0.0, \"#0d0887\"], [0.1111111111111111, \"#46039f\"], [0.2222222222222222, \"#7201a8\"], [0.3333333333333333, \"#9c179e\"], [0.4444444444444444, \"#bd3786\"], [0.5555555555555556, \"#d8576b\"], [0.6666666666666666, \"#ed7953\"], [0.7777777777777778, \"#fb9f3a\"], [0.8888888888888888, \"#fdca26\"], [1.0, \"#f0f921\"]], \"type\": \"surface\"}], \"table\": [{\"cells\": {\"fill\": {\"color\": \"#EBF0F8\"}, \"line\": {\"color\": \"white\"}}, \"header\": {\"fill\": {\"color\": \"#C8D4E3\"}, \"line\": {\"color\": \"white\"}}, \"type\": \"table\"}]}, \"layout\": {\"annotationdefaults\": {\"arrowcolor\": \"#2a3f5f\", \"arrowhead\": 0, \"arrowwidth\": 1}, \"autotypenumbers\": \"strict\", \"coloraxis\": {\"colorbar\": {\"outlinewidth\": 0, \"ticks\": \"\"}}, \"colorscale\": {\"diverging\": [[0, \"#8e0152\"], [0.1, \"#c51b7d\"], [0.2, \"#de77ae\"], [0.3, \"#f1b6da\"], [0.4, \"#fde0ef\"], [0.5, \"#f7f7f7\"], [0.6, \"#e6f5d0\"], [0.7, \"#b8e186\"], [0.8, \"#7fbc41\"], [0.9, \"#4d9221\"], [1, \"#276419\"]], \"sequential\": [[0.0, \"#0d0887\"], [0.1111111111111111, \"#46039f\"], [0.2222222222222222, \"#7201a8\"], [0.3333333333333333, \"#9c179e\"], [0.4444444444444444, \"#bd3786\"], [0.5555555555555556, \"#d8576b\"], [0.6666666666666666, \"#ed7953\"], [0.7777777777777778, \"#fb9f3a\"], [0.8888888888888888, \"#fdca26\"], [1.0, \"#f0f921\"]], \"sequentialminus\": [[0.0, \"#0d0887\"], [0.1111111111111111, \"#46039f\"], [0.2222222222222222, \"#7201a8\"], [0.3333333333333333, \"#9c179e\"], [0.4444444444444444, \"#bd3786\"], [0.5555555555555556, \"#d8576b\"], [0.6666666666666666, \"#ed7953\"], [0.7777777777777778, \"#fb9f3a\"], [0.8888888888888888, \"#fdca26\"], [1.0, \"#f0f921\"]]}, \"colorway\": [\"#636efa\", \"#EF553B\", \"#00cc96\", \"#ab63fa\", \"#FFA15A\", \"#19d3f3\", \"#FF6692\", \"#B6E880\", \"#FF97FF\", \"#FECB52\"], \"font\": {\"color\": \"#2a3f5f\"}, \"geo\": {\"bgcolor\": \"white\", \"lakecolor\": \"white\", \"landcolor\": \"#E5ECF6\", \"showlakes\": true, \"showland\": true, \"subunitcolor\": \"white\"}, \"hoverlabel\": {\"align\": \"left\"}, \"hovermode\": \"closest\", \"mapbox\": {\"style\": \"light\"}, \"paper_bgcolor\": \"white\", \"plot_bgcolor\": \"#E5ECF6\", \"polar\": {\"angularaxis\": {\"gridcolor\": \"white\", \"linecolor\": \"white\", \"ticks\": \"\"}, \"bgcolor\": \"#E5ECF6\", \"radialaxis\": {\"gridcolor\": \"white\", \"linecolor\": \"white\", \"ticks\": \"\"}}, \"scene\": {\"xaxis\": {\"backgroundcolor\": \"#E5ECF6\", \"gridcolor\": \"white\", \"gridwidth\": 2, \"linecolor\": \"white\", \"showbackground\": true, \"ticks\": \"\", \"zerolinecolor\": \"white\"}, \"yaxis\": {\"backgroundcolor\": \"#E5ECF6\", \"gridcolor\": \"white\", \"gridwidth\": 2, \"linecolor\": \"white\", \"showbackground\": true, \"ticks\": \"\", \"zerolinecolor\": \"white\"}, \"zaxis\": {\"backgroundcolor\": \"#E5ECF6\", \"gridcolor\": \"white\", \"gridwidth\": 2, \"linecolor\": \"white\", \"showbackground\": true, \"ticks\": \"\", \"zerolinecolor\": \"white\"}}, \"shapedefaults\": {\"line\": {\"color\": \"#2a3f5f\"}}, \"ternary\": {\"aaxis\": {\"gridcolor\": \"white\", \"linecolor\": \"white\", \"ticks\": \"\"}, \"baxis\": {\"gridcolor\": \"white\", \"linecolor\": \"white\", \"ticks\": \"\"}, \"bgcolor\": \"#E5ECF6\", \"caxis\": {\"gridcolor\": \"white\", \"linecolor\": \"white\", \"ticks\": \"\"}}, \"title\": {\"x\": 0.05}, \"xaxis\": {\"automargin\": true, \"gridcolor\": \"white\", \"linecolor\": \"white\", \"ticks\": \"\", \"title\": {\"standoff\": 15}, \"zerolinecolor\": \"white\", \"zerolinewidth\": 2}, \"yaxis\": {\"automargin\": true, \"gridcolor\": \"white\", \"linecolor\": \"white\", \"ticks\": \"\", \"title\": {\"standoff\": 15}, \"zerolinecolor\": \"white\", \"zerolinewidth\": 2}}}, \"title\": {\"font\": {\"color\": \"#4D5663\"}, \"text\": \"\\u0420\\u0430\\u0441\\u043f\\u0440\\u0435\\u0434\\u0435\\u043b\\u0435\\u043d\\u0438\\u0435 \\u043a\\u0432\\u0430\\u0440\\u0442\\u0438\\u0440 \\u043f\\u043e \\u044d\\u0442\\u0430\\u0436\\u0443\"}, \"xaxis\": {\"gridcolor\": \"#E1E5ED\", \"showgrid\": true, \"tickfont\": {\"color\": \"#4D5663\"}, \"title\": {\"font\": {\"color\": \"#4D5663\"}, \"text\": \"\\u042d\\u0442\\u0430\\u0436 \\u043a\\u0432\\u0430\\u0440\\u0442\\u0438\\u0440\\u044b\"}, \"zerolinecolor\": \"#E1E5ED\"}, \"yaxis\": {\"gridcolor\": \"#E1E5ED\", \"showgrid\": true, \"tickfont\": {\"color\": \"#4D5663\"}, \"title\": {\"font\": {\"color\": \"#4D5663\"}, \"text\": \"\\u041a\\u043e\\u043b\\u0438\\u0447\\u0435\\u0441\\u0442\\u0432\\u043e \\u043a\\u0432\\u0430\\u0440\\u0442\\u0438\\u0440\"}, \"zerolinecolor\": \"#E1E5ED\"}},                        {\"showLink\": true, \"linkText\": \"Export to plot.ly\", \"plotlyServerURL\": \"https://plot.ly\", \"responsive\": true}                    ).then(function(){\n",
       "                            \n",
       "var gd = document.getElementById('c692af58-1405-482f-9bab-1a1f954b661d');\n",
       "var x = new MutationObserver(function (mutations, observer) {{\n",
       "        var display = window.getComputedStyle(gd).display;\n",
       "        if (!display || display === 'none') {{\n",
       "            console.log([gd, 'removed!']);\n",
       "            Plotly.purge(gd);\n",
       "            observer.disconnect();\n",
       "        }}\n",
       "}});\n",
       "\n",
       "// Listen for the removal of the full notebook cells\n",
       "var notebookContainer = gd.closest('#notebook-container');\n",
       "if (notebookContainer) {{\n",
       "    x.observe(notebookContainer, {childList: true});\n",
       "}}\n",
       "\n",
       "// Listen for the clearing of the current output cell\n",
       "var outputEl = gd.closest('.output');\n",
       "if (outputEl) {{\n",
       "    x.observe(outputEl, {childList: true});\n",
       "}}\n",
       "\n",
       "                        })                };                });            </script>        </div>"
      ]
     },
     "metadata": {},
     "output_type": "display_data"
    },
    {
     "data": {
      "application/vnd.plotly.v1+json": {
       "config": {
        "linkText": "Export to plot.ly",
        "plotlyServerURL": "https://plot.ly",
        "showLink": true
       },
       "data": [
        {
         "histfunc": "count",
         "histnorm": "",
         "marker": {
          "color": "rgba(255, 153, 51, 1.0)",
          "line": {
           "color": "#4D5663",
           "width": 1.3
          }
         },
         "name": "Этажей в доме",
         "opacity": 0.8,
         "orientation": "v",
         "type": "histogram",
         "x": [
          5,
          15,
          6,
          29,
          12,
          8,
          13,
          8,
          7,
          6,
          16,
          38,
          5,
          44,
          19,
          7,
          7,
          9,
          16,
          4,
          8,
          14,
          5,
          8,
          8,
          5,
          22,
          17,
          6,
          51,
          23,
          32,
          15,
          24,
          3,
          4,
          21,
          6,
          37,
          25,
          12,
          9,
          44,
          26,
          8,
          14,
          8,
          9,
          23,
          16,
          16,
          33,
          16,
          9,
          17,
          18,
          9,
          17,
          10,
          23,
          17,
          7,
          25,
          5,
          10,
          9,
          11,
          11,
          22,
          5,
          95,
          44,
          75,
          6,
          75,
          34,
          5,
          23,
          13,
          14,
          39,
          17,
          6,
          16,
          7,
          9,
          17,
          16,
          19,
          12,
          14,
          18,
          31,
          9,
          6,
          21,
          22,
          7,
          14,
          6,
          14,
          22,
          23,
          6,
          16,
          75,
          22,
          35,
          17,
          5,
          17,
          5,
          47,
          5,
          22,
          22,
          3,
          11,
          10,
          44,
          14,
          5,
          26,
          16,
          9,
          34,
          31,
          15,
          10,
          22,
          4,
          4,
          18,
          7,
          7,
          30,
          17,
          5,
          75,
          10,
          10,
          11,
          75,
          75,
          73,
          95,
          6,
          65,
          73,
          15,
          75,
          5,
          8,
          10,
          7,
          22,
          8,
          23,
          5,
          16,
          5,
          16,
          5,
          24,
          26,
          8,
          30,
          25,
          17,
          22,
          15,
          16,
          3,
          18,
          11,
          17,
          8,
          23,
          6,
          17,
          34,
          22,
          5,
          20,
          30,
          12,
          22,
          53,
          5,
          33,
          14,
          19,
          25,
          36,
          47,
          8,
          14,
          7,
          9,
          17,
          26,
          5,
          14,
          9,
          12,
          14,
          8,
          9,
          5,
          9,
          14,
          14,
          27,
          31,
          13,
          7,
          53,
          9,
          17,
          10,
          5,
          6,
          26,
          24,
          4,
          6,
          44,
          21,
          11,
          16,
          8,
          25,
          14,
          8,
          38,
          34,
          16,
          6,
          75,
          13,
          75,
          9,
          16,
          10,
          22,
          8,
          7,
          7,
          13,
          11,
          10,
          7,
          8,
          27,
          23,
          11,
          31,
          6,
          24,
          16,
          8,
          95,
          12,
          16,
          28,
          13,
          5,
          15,
          22,
          29,
          31,
          48,
          22,
          5,
          5,
          16,
          8,
          6,
          49,
          7,
          34,
          44,
          5,
          32,
          8,
          27,
          12,
          22,
          12,
          6,
          9,
          9,
          9,
          5,
          18,
          17,
          5,
          9,
          22,
          14,
          16,
          14,
          9,
          5,
          22,
          17,
          17,
          18,
          17,
          20,
          22,
          25,
          21,
          16,
          21,
          8,
          6,
          23,
          9,
          12,
          9,
          7,
          19,
          22,
          16,
          23,
          22,
          17,
          23,
          6,
          11,
          32,
          17,
          38,
          8,
          22,
          26,
          5,
          6,
          16,
          20,
          32,
          14,
          7,
          18,
          10,
          7,
          9,
          22,
          19,
          7,
          8,
          26,
          6,
          10,
          24,
          31,
          39,
          11,
          16,
          5,
          7,
          7,
          5,
          47,
          5,
          17,
          9,
          25,
          53,
          11,
          7,
          5,
          7,
          8,
          19,
          21,
          19,
          11,
          5,
          32,
          43,
          33,
          26,
          15,
          40,
          8,
          25,
          26,
          6,
          18,
          11,
          9,
          23,
          31,
          22,
          10,
          19,
          44,
          16,
          37,
          35,
          23,
          11,
          9,
          17,
          12,
          25,
          8,
          8,
          29,
          21,
          33,
          7,
          16,
          14,
          16,
          6,
          21,
          7,
          31,
          16,
          53,
          53,
          13,
          6,
          15,
          6,
          7,
          44,
          7,
          13,
          5,
          18,
          44,
          5,
          22,
          17,
          20,
          4,
          5,
          16,
          5,
          9,
          5,
          5,
          9,
          5,
          14,
          14,
          5,
          10,
          10,
          15,
          10,
          5,
          17,
          12,
          22,
          9,
          12,
          9,
          9,
          17,
          10,
          14,
          9,
          12,
          9,
          16,
          22,
          11,
          12,
          6,
          13,
          10,
          53,
          79,
          7,
          29,
          11,
          85,
          8,
          75,
          18,
          8,
          40,
          30,
          27,
          40,
          34,
          19,
          17,
          57,
          10,
          11,
          8,
          11,
          20,
          8,
          16,
          19,
          57,
          11,
          6,
          38,
          9,
          8,
          20,
          6,
          38,
          16,
          95,
          5,
          17,
          12,
          12,
          14,
          21,
          85,
          6,
          32,
          10,
          14,
          6,
          5,
          6,
          7,
          7,
          66,
          33,
          18,
          9,
          19,
          10,
          6,
          8,
          7,
          4,
          5,
          22,
          39,
          5,
          24,
          12,
          6,
          23,
          6,
          11,
          24,
          35,
          15,
          15,
          47,
          17,
          19,
          7,
          8,
          22,
          4,
          44,
          13,
          17,
          17,
          22,
          7,
          10,
          5,
          17,
          7,
          17,
          47,
          14,
          9,
          21,
          16,
          8,
          8,
          7,
          5,
          26,
          5,
          47,
          8,
          5,
          9,
          7,
          9,
          25,
          22,
          21,
          34,
          25,
          16,
          19,
          24,
          11,
          4,
          32,
          6,
          8,
          18,
          16,
          23,
          23,
          8,
          24,
          9,
          75,
          75,
          75,
          75,
          14,
          7,
          13,
          37,
          9,
          15,
          27,
          5,
          79,
          36,
          16,
          17,
          9,
          17,
          17,
          15,
          9,
          11,
          5,
          11,
          7,
          35,
          10,
          9,
          8,
          37,
          12,
          10,
          9,
          25,
          12,
          10,
          23,
          39,
          8,
          5,
          19,
          10,
          9,
          7,
          6,
          5,
          7,
          8,
          31,
          25,
          22,
          16,
          22,
          32,
          23,
          18,
          75,
          14,
          4,
          6,
          41,
          85,
          23,
          12,
          14,
          63,
          24,
          57,
          18,
          14,
          7,
          13,
          8,
          6,
          30,
          9,
          14,
          9,
          15,
          12,
          57,
          12,
          17,
          44,
          17,
          57,
          15,
          17,
          16,
          10,
          18,
          9,
          5,
          75,
          73,
          9,
          11,
          9,
          35,
          10,
          5,
          17,
          9,
          9,
          9,
          9,
          9,
          22,
          17,
          9,
          35,
          10,
          17,
          7,
          9,
          12,
          7,
          9,
          19,
          16,
          21,
          12,
          8,
          6,
          23,
          16,
          6,
          23,
          13,
          5,
          17,
          38,
          38,
          75,
          75,
          39,
          39,
          37,
          6,
          11,
          18,
          16,
          75,
          35,
          31,
          23,
          9,
          32,
          18,
          16,
          25,
          7,
          22,
          85,
          14,
          4,
          17,
          44,
          40,
          14,
          57,
          57
         ]
        }
       ],
       "layout": {
        "barmode": "overlay",
        "legend": {
         "bgcolor": "#F5F6F9",
         "font": {
          "color": "#4D5663"
         }
        },
        "paper_bgcolor": "#F5F6F9",
        "plot_bgcolor": "#F5F6F9",
        "template": {
         "data": {
          "bar": [
           {
            "error_x": {
             "color": "#2a3f5f"
            },
            "error_y": {
             "color": "#2a3f5f"
            },
            "marker": {
             "line": {
              "color": "#E5ECF6",
              "width": 0.5
             }
            },
            "type": "bar"
           }
          ],
          "barpolar": [
           {
            "marker": {
             "line": {
              "color": "#E5ECF6",
              "width": 0.5
             }
            },
            "type": "barpolar"
           }
          ],
          "carpet": [
           {
            "aaxis": {
             "endlinecolor": "#2a3f5f",
             "gridcolor": "white",
             "linecolor": "white",
             "minorgridcolor": "white",
             "startlinecolor": "#2a3f5f"
            },
            "baxis": {
             "endlinecolor": "#2a3f5f",
             "gridcolor": "white",
             "linecolor": "white",
             "minorgridcolor": "white",
             "startlinecolor": "#2a3f5f"
            },
            "type": "carpet"
           }
          ],
          "choropleth": [
           {
            "colorbar": {
             "outlinewidth": 0,
             "ticks": ""
            },
            "type": "choropleth"
           }
          ],
          "contour": [
           {
            "colorbar": {
             "outlinewidth": 0,
             "ticks": ""
            },
            "colorscale": [
             [
              0,
              "#0d0887"
             ],
             [
              0.1111111111111111,
              "#46039f"
             ],
             [
              0.2222222222222222,
              "#7201a8"
             ],
             [
              0.3333333333333333,
              "#9c179e"
             ],
             [
              0.4444444444444444,
              "#bd3786"
             ],
             [
              0.5555555555555556,
              "#d8576b"
             ],
             [
              0.6666666666666666,
              "#ed7953"
             ],
             [
              0.7777777777777778,
              "#fb9f3a"
             ],
             [
              0.8888888888888888,
              "#fdca26"
             ],
             [
              1,
              "#f0f921"
             ]
            ],
            "type": "contour"
           }
          ],
          "contourcarpet": [
           {
            "colorbar": {
             "outlinewidth": 0,
             "ticks": ""
            },
            "type": "contourcarpet"
           }
          ],
          "heatmap": [
           {
            "colorbar": {
             "outlinewidth": 0,
             "ticks": ""
            },
            "colorscale": [
             [
              0,
              "#0d0887"
             ],
             [
              0.1111111111111111,
              "#46039f"
             ],
             [
              0.2222222222222222,
              "#7201a8"
             ],
             [
              0.3333333333333333,
              "#9c179e"
             ],
             [
              0.4444444444444444,
              "#bd3786"
             ],
             [
              0.5555555555555556,
              "#d8576b"
             ],
             [
              0.6666666666666666,
              "#ed7953"
             ],
             [
              0.7777777777777778,
              "#fb9f3a"
             ],
             [
              0.8888888888888888,
              "#fdca26"
             ],
             [
              1,
              "#f0f921"
             ]
            ],
            "type": "heatmap"
           }
          ],
          "heatmapgl": [
           {
            "colorbar": {
             "outlinewidth": 0,
             "ticks": ""
            },
            "colorscale": [
             [
              0,
              "#0d0887"
             ],
             [
              0.1111111111111111,
              "#46039f"
             ],
             [
              0.2222222222222222,
              "#7201a8"
             ],
             [
              0.3333333333333333,
              "#9c179e"
             ],
             [
              0.4444444444444444,
              "#bd3786"
             ],
             [
              0.5555555555555556,
              "#d8576b"
             ],
             [
              0.6666666666666666,
              "#ed7953"
             ],
             [
              0.7777777777777778,
              "#fb9f3a"
             ],
             [
              0.8888888888888888,
              "#fdca26"
             ],
             [
              1,
              "#f0f921"
             ]
            ],
            "type": "heatmapgl"
           }
          ],
          "histogram": [
           {
            "marker": {
             "colorbar": {
              "outlinewidth": 0,
              "ticks": ""
             }
            },
            "type": "histogram"
           }
          ],
          "histogram2d": [
           {
            "colorbar": {
             "outlinewidth": 0,
             "ticks": ""
            },
            "colorscale": [
             [
              0,
              "#0d0887"
             ],
             [
              0.1111111111111111,
              "#46039f"
             ],
             [
              0.2222222222222222,
              "#7201a8"
             ],
             [
              0.3333333333333333,
              "#9c179e"
             ],
             [
              0.4444444444444444,
              "#bd3786"
             ],
             [
              0.5555555555555556,
              "#d8576b"
             ],
             [
              0.6666666666666666,
              "#ed7953"
             ],
             [
              0.7777777777777778,
              "#fb9f3a"
             ],
             [
              0.8888888888888888,
              "#fdca26"
             ],
             [
              1,
              "#f0f921"
             ]
            ],
            "type": "histogram2d"
           }
          ],
          "histogram2dcontour": [
           {
            "colorbar": {
             "outlinewidth": 0,
             "ticks": ""
            },
            "colorscale": [
             [
              0,
              "#0d0887"
             ],
             [
              0.1111111111111111,
              "#46039f"
             ],
             [
              0.2222222222222222,
              "#7201a8"
             ],
             [
              0.3333333333333333,
              "#9c179e"
             ],
             [
              0.4444444444444444,
              "#bd3786"
             ],
             [
              0.5555555555555556,
              "#d8576b"
             ],
             [
              0.6666666666666666,
              "#ed7953"
             ],
             [
              0.7777777777777778,
              "#fb9f3a"
             ],
             [
              0.8888888888888888,
              "#fdca26"
             ],
             [
              1,
              "#f0f921"
             ]
            ],
            "type": "histogram2dcontour"
           }
          ],
          "mesh3d": [
           {
            "colorbar": {
             "outlinewidth": 0,
             "ticks": ""
            },
            "type": "mesh3d"
           }
          ],
          "parcoords": [
           {
            "line": {
             "colorbar": {
              "outlinewidth": 0,
              "ticks": ""
             }
            },
            "type": "parcoords"
           }
          ],
          "pie": [
           {
            "automargin": true,
            "type": "pie"
           }
          ],
          "scatter": [
           {
            "marker": {
             "colorbar": {
              "outlinewidth": 0,
              "ticks": ""
             }
            },
            "type": "scatter"
           }
          ],
          "scatter3d": [
           {
            "line": {
             "colorbar": {
              "outlinewidth": 0,
              "ticks": ""
             }
            },
            "marker": {
             "colorbar": {
              "outlinewidth": 0,
              "ticks": ""
             }
            },
            "type": "scatter3d"
           }
          ],
          "scattercarpet": [
           {
            "marker": {
             "colorbar": {
              "outlinewidth": 0,
              "ticks": ""
             }
            },
            "type": "scattercarpet"
           }
          ],
          "scattergeo": [
           {
            "marker": {
             "colorbar": {
              "outlinewidth": 0,
              "ticks": ""
             }
            },
            "type": "scattergeo"
           }
          ],
          "scattergl": [
           {
            "marker": {
             "colorbar": {
              "outlinewidth": 0,
              "ticks": ""
             }
            },
            "type": "scattergl"
           }
          ],
          "scattermapbox": [
           {
            "marker": {
             "colorbar": {
              "outlinewidth": 0,
              "ticks": ""
             }
            },
            "type": "scattermapbox"
           }
          ],
          "scatterpolar": [
           {
            "marker": {
             "colorbar": {
              "outlinewidth": 0,
              "ticks": ""
             }
            },
            "type": "scatterpolar"
           }
          ],
          "scatterpolargl": [
           {
            "marker": {
             "colorbar": {
              "outlinewidth": 0,
              "ticks": ""
             }
            },
            "type": "scatterpolargl"
           }
          ],
          "scatterternary": [
           {
            "marker": {
             "colorbar": {
              "outlinewidth": 0,
              "ticks": ""
             }
            },
            "type": "scatterternary"
           }
          ],
          "surface": [
           {
            "colorbar": {
             "outlinewidth": 0,
             "ticks": ""
            },
            "colorscale": [
             [
              0,
              "#0d0887"
             ],
             [
              0.1111111111111111,
              "#46039f"
             ],
             [
              0.2222222222222222,
              "#7201a8"
             ],
             [
              0.3333333333333333,
              "#9c179e"
             ],
             [
              0.4444444444444444,
              "#bd3786"
             ],
             [
              0.5555555555555556,
              "#d8576b"
             ],
             [
              0.6666666666666666,
              "#ed7953"
             ],
             [
              0.7777777777777778,
              "#fb9f3a"
             ],
             [
              0.8888888888888888,
              "#fdca26"
             ],
             [
              1,
              "#f0f921"
             ]
            ],
            "type": "surface"
           }
          ],
          "table": [
           {
            "cells": {
             "fill": {
              "color": "#EBF0F8"
             },
             "line": {
              "color": "white"
             }
            },
            "header": {
             "fill": {
              "color": "#C8D4E3"
             },
             "line": {
              "color": "white"
             }
            },
            "type": "table"
           }
          ]
         },
         "layout": {
          "annotationdefaults": {
           "arrowcolor": "#2a3f5f",
           "arrowhead": 0,
           "arrowwidth": 1
          },
          "autotypenumbers": "strict",
          "coloraxis": {
           "colorbar": {
            "outlinewidth": 0,
            "ticks": ""
           }
          },
          "colorscale": {
           "diverging": [
            [
             0,
             "#8e0152"
            ],
            [
             0.1,
             "#c51b7d"
            ],
            [
             0.2,
             "#de77ae"
            ],
            [
             0.3,
             "#f1b6da"
            ],
            [
             0.4,
             "#fde0ef"
            ],
            [
             0.5,
             "#f7f7f7"
            ],
            [
             0.6,
             "#e6f5d0"
            ],
            [
             0.7,
             "#b8e186"
            ],
            [
             0.8,
             "#7fbc41"
            ],
            [
             0.9,
             "#4d9221"
            ],
            [
             1,
             "#276419"
            ]
           ],
           "sequential": [
            [
             0,
             "#0d0887"
            ],
            [
             0.1111111111111111,
             "#46039f"
            ],
            [
             0.2222222222222222,
             "#7201a8"
            ],
            [
             0.3333333333333333,
             "#9c179e"
            ],
            [
             0.4444444444444444,
             "#bd3786"
            ],
            [
             0.5555555555555556,
             "#d8576b"
            ],
            [
             0.6666666666666666,
             "#ed7953"
            ],
            [
             0.7777777777777778,
             "#fb9f3a"
            ],
            [
             0.8888888888888888,
             "#fdca26"
            ],
            [
             1,
             "#f0f921"
            ]
           ],
           "sequentialminus": [
            [
             0,
             "#0d0887"
            ],
            [
             0.1111111111111111,
             "#46039f"
            ],
            [
             0.2222222222222222,
             "#7201a8"
            ],
            [
             0.3333333333333333,
             "#9c179e"
            ],
            [
             0.4444444444444444,
             "#bd3786"
            ],
            [
             0.5555555555555556,
             "#d8576b"
            ],
            [
             0.6666666666666666,
             "#ed7953"
            ],
            [
             0.7777777777777778,
             "#fb9f3a"
            ],
            [
             0.8888888888888888,
             "#fdca26"
            ],
            [
             1,
             "#f0f921"
            ]
           ]
          },
          "colorway": [
           "#636efa",
           "#EF553B",
           "#00cc96",
           "#ab63fa",
           "#FFA15A",
           "#19d3f3",
           "#FF6692",
           "#B6E880",
           "#FF97FF",
           "#FECB52"
          ],
          "font": {
           "color": "#2a3f5f"
          },
          "geo": {
           "bgcolor": "white",
           "lakecolor": "white",
           "landcolor": "#E5ECF6",
           "showlakes": true,
           "showland": true,
           "subunitcolor": "white"
          },
          "hoverlabel": {
           "align": "left"
          },
          "hovermode": "closest",
          "mapbox": {
           "style": "light"
          },
          "paper_bgcolor": "white",
          "plot_bgcolor": "#E5ECF6",
          "polar": {
           "angularaxis": {
            "gridcolor": "white",
            "linecolor": "white",
            "ticks": ""
           },
           "bgcolor": "#E5ECF6",
           "radialaxis": {
            "gridcolor": "white",
            "linecolor": "white",
            "ticks": ""
           }
          },
          "scene": {
           "xaxis": {
            "backgroundcolor": "#E5ECF6",
            "gridcolor": "white",
            "gridwidth": 2,
            "linecolor": "white",
            "showbackground": true,
            "ticks": "",
            "zerolinecolor": "white"
           },
           "yaxis": {
            "backgroundcolor": "#E5ECF6",
            "gridcolor": "white",
            "gridwidth": 2,
            "linecolor": "white",
            "showbackground": true,
            "ticks": "",
            "zerolinecolor": "white"
           },
           "zaxis": {
            "backgroundcolor": "#E5ECF6",
            "gridcolor": "white",
            "gridwidth": 2,
            "linecolor": "white",
            "showbackground": true,
            "ticks": "",
            "zerolinecolor": "white"
           }
          },
          "shapedefaults": {
           "line": {
            "color": "#2a3f5f"
           }
          },
          "ternary": {
           "aaxis": {
            "gridcolor": "white",
            "linecolor": "white",
            "ticks": ""
           },
           "baxis": {
            "gridcolor": "white",
            "linecolor": "white",
            "ticks": ""
           },
           "bgcolor": "#E5ECF6",
           "caxis": {
            "gridcolor": "white",
            "linecolor": "white",
            "ticks": ""
           }
          },
          "title": {
           "x": 0.05
          },
          "xaxis": {
           "automargin": true,
           "gridcolor": "white",
           "linecolor": "white",
           "ticks": "",
           "title": {
            "standoff": 15
           },
           "zerolinecolor": "white",
           "zerolinewidth": 2
          },
          "yaxis": {
           "automargin": true,
           "gridcolor": "white",
           "linecolor": "white",
           "ticks": "",
           "title": {
            "standoff": 15
           },
           "zerolinecolor": "white",
           "zerolinewidth": 2
          }
         }
        },
        "title": {
         "font": {
          "color": "#4D5663"
         },
         "text": "Распределение квартир по количеству этажей в доме"
        },
        "xaxis": {
         "gridcolor": "#E1E5ED",
         "showgrid": true,
         "tickfont": {
          "color": "#4D5663"
         },
         "title": {
          "font": {
           "color": "#4D5663"
          },
          "text": "Этажей в доме"
         },
         "zerolinecolor": "#E1E5ED"
        },
        "yaxis": {
         "gridcolor": "#E1E5ED",
         "showgrid": true,
         "tickfont": {
          "color": "#4D5663"
         },
         "title": {
          "font": {
           "color": "#4D5663"
          },
          "text": "Количество квартир"
         },
         "zerolinecolor": "#E1E5ED"
        }
       }
      },
      "text/html": [
       "<div>                            <div id=\"a92ed2d8-c214-4f5c-bc52-894285f55259\" class=\"plotly-graph-div\" style=\"height:525px; width:100%;\"></div>            <script type=\"text/javascript\">                require([\"plotly\"], function(Plotly) {                    window.PLOTLYENV=window.PLOTLYENV || {};\n",
       "                    window.PLOTLYENV.BASE_URL='https://plot.ly';                                    if (document.getElementById(\"a92ed2d8-c214-4f5c-bc52-894285f55259\")) {                    Plotly.newPlot(                        \"a92ed2d8-c214-4f5c-bc52-894285f55259\",                        [{\"histfunc\": \"count\", \"histnorm\": \"\", \"marker\": {\"color\": \"rgba(255, 153, 51, 1.0)\", \"line\": {\"color\": \"#4D5663\", \"width\": 1.3}}, \"name\": \"\\u042d\\u0442\\u0430\\u0436\\u0435\\u0439 \\u0432 \\u0434\\u043e\\u043c\\u0435\", \"opacity\": 0.8, \"orientation\": \"v\", \"type\": \"histogram\", \"x\": [5, 15, 6, 29, 12, 8, 13, 8, 7, 6, 16, 38, 5, 44, 19, 7, 7, 9, 16, 4, 8, 14, 5, 8, 8, 5, 22, 17, 6, 51, 23, 32, 15, 24, 3, 4, 21, 6, 37, 25, 12, 9, 44, 26, 8, 14, 8, 9, 23, 16, 16, 33, 16, 9, 17, 18, 9, 17, 10, 23, 17, 7, 25, 5, 10, 9, 11, 11, 22, 5, 95, 44, 75, 6, 75, 34, 5, 23, 13, 14, 39, 17, 6, 16, 7, 9, 17, 16, 19, 12, 14, 18, 31, 9, 6, 21, 22, 7, 14, 6, 14, 22, 23, 6, 16, 75, 22, 35, 17, 5, 17, 5, 47, 5, 22, 22, 3, 11, 10, 44, 14, 5, 26, 16, 9, 34, 31, 15, 10, 22, 4, 4, 18, 7, 7, 30, 17, 5, 75, 10, 10, 11, 75, 75, 73, 95, 6, 65, 73, 15, 75, 5, 8, 10, 7, 22, 8, 23, 5, 16, 5, 16, 5, 24, 26, 8, 30, 25, 17, 22, 15, 16, 3, 18, 11, 17, 8, 23, 6, 17, 34, 22, 5, 20, 30, 12, 22, 53, 5, 33, 14, 19, 25, 36, 47, 8, 14, 7, 9, 17, 26, 5, 14, 9, 12, 14, 8, 9, 5, 9, 14, 14, 27, 31, 13, 7, 53, 9, 17, 10, 5, 6, 26, 24, 4, 6, 44, 21, 11, 16, 8, 25, 14, 8, 38, 34, 16, 6, 75, 13, 75, 9, 16, 10, 22, 8, 7, 7, 13, 11, 10, 7, 8, 27, 23, 11, 31, 6, 24, 16, 8, 95, 12, 16, 28, 13, 5, 15, 22, 29, 31, 48, 22, 5, 5, 16, 8, 6, 49, 7, 34, 44, 5, 32, 8, 27, 12, 22, 12, 6, 9, 9, 9, 5, 18, 17, 5, 9, 22, 14, 16, 14, 9, 5, 22, 17, 17, 18, 17, 20, 22, 25, 21, 16, 21, 8, 6, 23, 9, 12, 9, 7, 19, 22, 16, 23, 22, 17, 23, 6, 11, 32, 17, 38, 8, 22, 26, 5, 6, 16, 20, 32, 14, 7, 18, 10, 7, 9, 22, 19, 7, 8, 26, 6, 10, 24, 31, 39, 11, 16, 5, 7, 7, 5, 47, 5, 17, 9, 25, 53, 11, 7, 5, 7, 8, 19, 21, 19, 11, 5, 32, 43, 33, 26, 15, 40, 8, 25, 26, 6, 18, 11, 9, 23, 31, 22, 10, 19, 44, 16, 37, 35, 23, 11, 9, 17, 12, 25, 8, 8, 29, 21, 33, 7, 16, 14, 16, 6, 21, 7, 31, 16, 53, 53, 13, 6, 15, 6, 7, 44, 7, 13, 5, 18, 44, 5, 22, 17, 20, 4, 5, 16, 5, 9, 5, 5, 9, 5, 14, 14, 5, 10, 10, 15, 10, 5, 17, 12, 22, 9, 12, 9, 9, 17, 10, 14, 9, 12, 9, 16, 22, 11, 12, 6, 13, 10, 53, 79, 7, 29, 11, 85, 8, 75, 18, 8, 40, 30, 27, 40, 34, 19, 17, 57, 10, 11, 8, 11, 20, 8, 16, 19, 57, 11, 6, 38, 9, 8, 20, 6, 38, 16, 95, 5, 17, 12, 12, 14, 21, 85, 6, 32, 10, 14, 6, 5, 6, 7, 7, 66, 33, 18, 9, 19, 10, 6, 8, 7, 4, 5, 22, 39, 5, 24, 12, 6, 23, 6, 11, 24, 35, 15, 15, 47, 17, 19, 7, 8, 22, 4, 44, 13, 17, 17, 22, 7, 10, 5, 17, 7, 17, 47, 14, 9, 21, 16, 8, 8, 7, 5, 26, 5, 47, 8, 5, 9, 7, 9, 25, 22, 21, 34, 25, 16, 19, 24, 11, 4, 32, 6, 8, 18, 16, 23, 23, 8, 24, 9, 75, 75, 75, 75, 14, 7, 13, 37, 9, 15, 27, 5, 79, 36, 16, 17, 9, 17, 17, 15, 9, 11, 5, 11, 7, 35, 10, 9, 8, 37, 12, 10, 9, 25, 12, 10, 23, 39, 8, 5, 19, 10, 9, 7, 6, 5, 7, 8, 31, 25, 22, 16, 22, 32, 23, 18, 75, 14, 4, 6, 41, 85, 23, 12, 14, 63, 24, 57, 18, 14, 7, 13, 8, 6, 30, 9, 14, 9, 15, 12, 57, 12, 17, 44, 17, 57, 15, 17, 16, 10, 18, 9, 5, 75, 73, 9, 11, 9, 35, 10, 5, 17, 9, 9, 9, 9, 9, 22, 17, 9, 35, 10, 17, 7, 9, 12, 7, 9, 19, 16, 21, 12, 8, 6, 23, 16, 6, 23, 13, 5, 17, 38, 38, 75, 75, 39, 39, 37, 6, 11, 18, 16, 75, 35, 31, 23, 9, 32, 18, 16, 25, 7, 22, 85, 14, 4, 17, 44, 40, 14, 57, 57]}],                        {\"barmode\": \"overlay\", \"legend\": {\"bgcolor\": \"#F5F6F9\", \"font\": {\"color\": \"#4D5663\"}}, \"paper_bgcolor\": \"#F5F6F9\", \"plot_bgcolor\": \"#F5F6F9\", \"template\": {\"data\": {\"bar\": [{\"error_x\": {\"color\": \"#2a3f5f\"}, \"error_y\": {\"color\": \"#2a3f5f\"}, \"marker\": {\"line\": {\"color\": \"#E5ECF6\", \"width\": 0.5}}, \"type\": \"bar\"}], \"barpolar\": [{\"marker\": {\"line\": {\"color\": \"#E5ECF6\", \"width\": 0.5}}, \"type\": \"barpolar\"}], \"carpet\": [{\"aaxis\": {\"endlinecolor\": \"#2a3f5f\", \"gridcolor\": \"white\", \"linecolor\": \"white\", \"minorgridcolor\": \"white\", \"startlinecolor\": \"#2a3f5f\"}, \"baxis\": {\"endlinecolor\": \"#2a3f5f\", \"gridcolor\": \"white\", \"linecolor\": \"white\", \"minorgridcolor\": \"white\", \"startlinecolor\": \"#2a3f5f\"}, \"type\": \"carpet\"}], \"choropleth\": [{\"colorbar\": {\"outlinewidth\": 0, \"ticks\": \"\"}, \"type\": \"choropleth\"}], \"contour\": [{\"colorbar\": {\"outlinewidth\": 0, \"ticks\": \"\"}, \"colorscale\": [[0.0, \"#0d0887\"], [0.1111111111111111, \"#46039f\"], [0.2222222222222222, \"#7201a8\"], [0.3333333333333333, \"#9c179e\"], [0.4444444444444444, \"#bd3786\"], [0.5555555555555556, \"#d8576b\"], [0.6666666666666666, \"#ed7953\"], [0.7777777777777778, \"#fb9f3a\"], [0.8888888888888888, \"#fdca26\"], [1.0, \"#f0f921\"]], \"type\": \"contour\"}], \"contourcarpet\": [{\"colorbar\": {\"outlinewidth\": 0, \"ticks\": \"\"}, \"type\": \"contourcarpet\"}], \"heatmap\": [{\"colorbar\": {\"outlinewidth\": 0, \"ticks\": \"\"}, \"colorscale\": [[0.0, \"#0d0887\"], [0.1111111111111111, \"#46039f\"], [0.2222222222222222, \"#7201a8\"], [0.3333333333333333, \"#9c179e\"], [0.4444444444444444, \"#bd3786\"], [0.5555555555555556, \"#d8576b\"], [0.6666666666666666, \"#ed7953\"], [0.7777777777777778, \"#fb9f3a\"], [0.8888888888888888, \"#fdca26\"], [1.0, \"#f0f921\"]], \"type\": \"heatmap\"}], \"heatmapgl\": [{\"colorbar\": {\"outlinewidth\": 0, \"ticks\": \"\"}, \"colorscale\": [[0.0, \"#0d0887\"], [0.1111111111111111, \"#46039f\"], [0.2222222222222222, \"#7201a8\"], [0.3333333333333333, \"#9c179e\"], [0.4444444444444444, \"#bd3786\"], [0.5555555555555556, \"#d8576b\"], [0.6666666666666666, \"#ed7953\"], [0.7777777777777778, \"#fb9f3a\"], [0.8888888888888888, \"#fdca26\"], [1.0, \"#f0f921\"]], \"type\": \"heatmapgl\"}], \"histogram\": [{\"marker\": {\"colorbar\": {\"outlinewidth\": 0, \"ticks\": \"\"}}, \"type\": \"histogram\"}], \"histogram2d\": [{\"colorbar\": {\"outlinewidth\": 0, \"ticks\": \"\"}, \"colorscale\": [[0.0, \"#0d0887\"], [0.1111111111111111, \"#46039f\"], [0.2222222222222222, \"#7201a8\"], [0.3333333333333333, \"#9c179e\"], [0.4444444444444444, \"#bd3786\"], [0.5555555555555556, \"#d8576b\"], [0.6666666666666666, \"#ed7953\"], [0.7777777777777778, \"#fb9f3a\"], [0.8888888888888888, \"#fdca26\"], [1.0, \"#f0f921\"]], \"type\": \"histogram2d\"}], \"histogram2dcontour\": [{\"colorbar\": {\"outlinewidth\": 0, \"ticks\": \"\"}, \"colorscale\": [[0.0, \"#0d0887\"], [0.1111111111111111, \"#46039f\"], [0.2222222222222222, \"#7201a8\"], [0.3333333333333333, \"#9c179e\"], [0.4444444444444444, \"#bd3786\"], [0.5555555555555556, \"#d8576b\"], [0.6666666666666666, \"#ed7953\"], [0.7777777777777778, \"#fb9f3a\"], [0.8888888888888888, \"#fdca26\"], [1.0, \"#f0f921\"]], \"type\": \"histogram2dcontour\"}], \"mesh3d\": [{\"colorbar\": {\"outlinewidth\": 0, \"ticks\": \"\"}, \"type\": \"mesh3d\"}], \"parcoords\": [{\"line\": {\"colorbar\": {\"outlinewidth\": 0, \"ticks\": \"\"}}, \"type\": \"parcoords\"}], \"pie\": [{\"automargin\": true, \"type\": \"pie\"}], \"scatter\": [{\"marker\": {\"colorbar\": {\"outlinewidth\": 0, \"ticks\": \"\"}}, \"type\": \"scatter\"}], \"scatter3d\": [{\"line\": {\"colorbar\": {\"outlinewidth\": 0, \"ticks\": \"\"}}, \"marker\": {\"colorbar\": {\"outlinewidth\": 0, \"ticks\": \"\"}}, \"type\": \"scatter3d\"}], \"scattercarpet\": [{\"marker\": {\"colorbar\": {\"outlinewidth\": 0, \"ticks\": \"\"}}, \"type\": \"scattercarpet\"}], \"scattergeo\": [{\"marker\": {\"colorbar\": {\"outlinewidth\": 0, \"ticks\": \"\"}}, \"type\": \"scattergeo\"}], \"scattergl\": [{\"marker\": {\"colorbar\": {\"outlinewidth\": 0, \"ticks\": \"\"}}, \"type\": \"scattergl\"}], \"scattermapbox\": [{\"marker\": {\"colorbar\": {\"outlinewidth\": 0, \"ticks\": \"\"}}, \"type\": \"scattermapbox\"}], \"scatterpolar\": [{\"marker\": {\"colorbar\": {\"outlinewidth\": 0, \"ticks\": \"\"}}, \"type\": \"scatterpolar\"}], \"scatterpolargl\": [{\"marker\": {\"colorbar\": {\"outlinewidth\": 0, \"ticks\": \"\"}}, \"type\": \"scatterpolargl\"}], \"scatterternary\": [{\"marker\": {\"colorbar\": {\"outlinewidth\": 0, \"ticks\": \"\"}}, \"type\": \"scatterternary\"}], \"surface\": [{\"colorbar\": {\"outlinewidth\": 0, \"ticks\": \"\"}, \"colorscale\": [[0.0, \"#0d0887\"], [0.1111111111111111, \"#46039f\"], [0.2222222222222222, \"#7201a8\"], [0.3333333333333333, \"#9c179e\"], [0.4444444444444444, \"#bd3786\"], [0.5555555555555556, \"#d8576b\"], [0.6666666666666666, \"#ed7953\"], [0.7777777777777778, \"#fb9f3a\"], [0.8888888888888888, \"#fdca26\"], [1.0, \"#f0f921\"]], \"type\": \"surface\"}], \"table\": [{\"cells\": {\"fill\": {\"color\": \"#EBF0F8\"}, \"line\": {\"color\": \"white\"}}, \"header\": {\"fill\": {\"color\": \"#C8D4E3\"}, \"line\": {\"color\": \"white\"}}, \"type\": \"table\"}]}, \"layout\": {\"annotationdefaults\": {\"arrowcolor\": \"#2a3f5f\", \"arrowhead\": 0, \"arrowwidth\": 1}, \"autotypenumbers\": \"strict\", \"coloraxis\": {\"colorbar\": {\"outlinewidth\": 0, \"ticks\": \"\"}}, \"colorscale\": {\"diverging\": [[0, \"#8e0152\"], [0.1, \"#c51b7d\"], [0.2, \"#de77ae\"], [0.3, \"#f1b6da\"], [0.4, \"#fde0ef\"], [0.5, \"#f7f7f7\"], [0.6, \"#e6f5d0\"], [0.7, \"#b8e186\"], [0.8, \"#7fbc41\"], [0.9, \"#4d9221\"], [1, \"#276419\"]], \"sequential\": [[0.0, \"#0d0887\"], [0.1111111111111111, \"#46039f\"], [0.2222222222222222, \"#7201a8\"], [0.3333333333333333, \"#9c179e\"], [0.4444444444444444, \"#bd3786\"], [0.5555555555555556, \"#d8576b\"], [0.6666666666666666, \"#ed7953\"], [0.7777777777777778, \"#fb9f3a\"], [0.8888888888888888, \"#fdca26\"], [1.0, \"#f0f921\"]], \"sequentialminus\": [[0.0, \"#0d0887\"], [0.1111111111111111, \"#46039f\"], [0.2222222222222222, \"#7201a8\"], [0.3333333333333333, \"#9c179e\"], [0.4444444444444444, \"#bd3786\"], [0.5555555555555556, \"#d8576b\"], [0.6666666666666666, \"#ed7953\"], [0.7777777777777778, \"#fb9f3a\"], [0.8888888888888888, \"#fdca26\"], [1.0, \"#f0f921\"]]}, \"colorway\": [\"#636efa\", \"#EF553B\", \"#00cc96\", \"#ab63fa\", \"#FFA15A\", \"#19d3f3\", \"#FF6692\", \"#B6E880\", \"#FF97FF\", \"#FECB52\"], \"font\": {\"color\": \"#2a3f5f\"}, \"geo\": {\"bgcolor\": \"white\", \"lakecolor\": \"white\", \"landcolor\": \"#E5ECF6\", \"showlakes\": true, \"showland\": true, \"subunitcolor\": \"white\"}, \"hoverlabel\": {\"align\": \"left\"}, \"hovermode\": \"closest\", \"mapbox\": {\"style\": \"light\"}, \"paper_bgcolor\": \"white\", \"plot_bgcolor\": \"#E5ECF6\", \"polar\": {\"angularaxis\": {\"gridcolor\": \"white\", \"linecolor\": \"white\", \"ticks\": \"\"}, \"bgcolor\": \"#E5ECF6\", \"radialaxis\": {\"gridcolor\": \"white\", \"linecolor\": \"white\", \"ticks\": \"\"}}, \"scene\": {\"xaxis\": {\"backgroundcolor\": \"#E5ECF6\", \"gridcolor\": \"white\", \"gridwidth\": 2, \"linecolor\": \"white\", \"showbackground\": true, \"ticks\": \"\", \"zerolinecolor\": \"white\"}, \"yaxis\": {\"backgroundcolor\": \"#E5ECF6\", \"gridcolor\": \"white\", \"gridwidth\": 2, \"linecolor\": \"white\", \"showbackground\": true, \"ticks\": \"\", \"zerolinecolor\": \"white\"}, \"zaxis\": {\"backgroundcolor\": \"#E5ECF6\", \"gridcolor\": \"white\", \"gridwidth\": 2, \"linecolor\": \"white\", \"showbackground\": true, \"ticks\": \"\", \"zerolinecolor\": \"white\"}}, \"shapedefaults\": {\"line\": {\"color\": \"#2a3f5f\"}}, \"ternary\": {\"aaxis\": {\"gridcolor\": \"white\", \"linecolor\": \"white\", \"ticks\": \"\"}, \"baxis\": {\"gridcolor\": \"white\", \"linecolor\": \"white\", \"ticks\": \"\"}, \"bgcolor\": \"#E5ECF6\", \"caxis\": {\"gridcolor\": \"white\", \"linecolor\": \"white\", \"ticks\": \"\"}}, \"title\": {\"x\": 0.05}, \"xaxis\": {\"automargin\": true, \"gridcolor\": \"white\", \"linecolor\": \"white\", \"ticks\": \"\", \"title\": {\"standoff\": 15}, \"zerolinecolor\": \"white\", \"zerolinewidth\": 2}, \"yaxis\": {\"automargin\": true, \"gridcolor\": \"white\", \"linecolor\": \"white\", \"ticks\": \"\", \"title\": {\"standoff\": 15}, \"zerolinecolor\": \"white\", \"zerolinewidth\": 2}}}, \"title\": {\"font\": {\"color\": \"#4D5663\"}, \"text\": \"\\u0420\\u0430\\u0441\\u043f\\u0440\\u0435\\u0434\\u0435\\u043b\\u0435\\u043d\\u0438\\u0435 \\u043a\\u0432\\u0430\\u0440\\u0442\\u0438\\u0440 \\u043f\\u043e \\u043a\\u043e\\u043b\\u0438\\u0447\\u0435\\u0441\\u0442\\u0432\\u0443 \\u044d\\u0442\\u0430\\u0436\\u0435\\u0439 \\u0432 \\u0434\\u043e\\u043c\\u0435\"}, \"xaxis\": {\"gridcolor\": \"#E1E5ED\", \"showgrid\": true, \"tickfont\": {\"color\": \"#4D5663\"}, \"title\": {\"font\": {\"color\": \"#4D5663\"}, \"text\": \"\\u042d\\u0442\\u0430\\u0436\\u0435\\u0439 \\u0432 \\u0434\\u043e\\u043c\\u0435\"}, \"zerolinecolor\": \"#E1E5ED\"}, \"yaxis\": {\"gridcolor\": \"#E1E5ED\", \"showgrid\": true, \"tickfont\": {\"color\": \"#4D5663\"}, \"title\": {\"font\": {\"color\": \"#4D5663\"}, \"text\": \"\\u041a\\u043e\\u043b\\u0438\\u0447\\u0435\\u0441\\u0442\\u0432\\u043e \\u043a\\u0432\\u0430\\u0440\\u0442\\u0438\\u0440\"}, \"zerolinecolor\": \"#E1E5ED\"}},                        {\"showLink\": true, \"linkText\": \"Export to plot.ly\", \"plotlyServerURL\": \"https://plot.ly\", \"responsive\": true}                    ).then(function(){\n",
       "                            \n",
       "var gd = document.getElementById('a92ed2d8-c214-4f5c-bc52-894285f55259');\n",
       "var x = new MutationObserver(function (mutations, observer) {{\n",
       "        var display = window.getComputedStyle(gd).display;\n",
       "        if (!display || display === 'none') {{\n",
       "            console.log([gd, 'removed!']);\n",
       "            Plotly.purge(gd);\n",
       "            observer.disconnect();\n",
       "        }}\n",
       "}});\n",
       "\n",
       "// Listen for the removal of the full notebook cells\n",
       "var notebookContainer = gd.closest('#notebook-container');\n",
       "if (notebookContainer) {{\n",
       "    x.observe(notebookContainer, {childList: true});\n",
       "}}\n",
       "\n",
       "// Listen for the clearing of the current output cell\n",
       "var outputEl = gd.closest('.output');\n",
       "if (outputEl) {{\n",
       "    x.observe(outputEl, {childList: true});\n",
       "}}\n",
       "\n",
       "                        })                };                });            </script>        </div>"
      ]
     },
     "metadata": {},
     "output_type": "display_data"
    },
    {
     "data": {
      "image/png": "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\n",
      "text/plain": [
       "<Figure size 432x432 with 3 Axes>"
      ]
     },
     "metadata": {
      "needs_background": "light"
     },
     "output_type": "display_data"
    }
   ],
   "source": [
    "from plotly.offline import iplot\n",
    "import cufflinks as cf\n",
    "cf.go_offline()\n",
    "cf.set_config_file(offline=False, world_readable = True)\n",
    "\n",
    "plot = df3['Год постройки'].iplot(kind = 'hist', xTitle = 'Год постройки', yTitle = 'Количество квартир', title = 'Распределение квартир по году постройки дома')\n",
    "plt.show()\n",
    "\n",
    "\n",
    "plot = df3[\"Этаж квартиры\"].iplot(kind = 'hist', xTitle = \"Этаж квартиры\", yTitle = 'Количество квартир', title = 'Распределение квартир по этажу')\n",
    "plt.show()\n",
    "\n",
    "plot = df3[\"Этажей в доме\"].iplot(kind = 'hist', xTitle = \"Этажей в доме\", yTitle = 'Количество квартир', title = 'Распределение квартир по количеству этажей в доме')\n",
    "plt.show()\n",
    "\n",
    "sns_plot = sns.jointplot(x = 'Этаж квартиры', y = 'Этажей в доме', data = df3[['Этаж квартиры', 'Этажей в доме']], kind = 'hex')\n",
    "plt.show()"
   ]
  },
  {
   "cell_type": "markdown",
   "id": "c6c1b30a",
   "metadata": {},
   "source": [
    "Напрашивается гипотеза, что большинство квартир находится в пяти-девятиэтажных домах 2005-2009 гг. постройки, на втром или третьем этаже. Докажем её с помощью методов pandas."
   ]
  },
  {
   "cell_type": "code",
   "execution_count": 177,
   "id": "bdc7dc9e",
   "metadata": {},
   "outputs": [
    {
     "name": "stdout",
     "output_type": "stream",
     "text": [
      "2008 - самый частый год постройки\n",
      "9 - самое частое количество этажей в доме\n",
      "3 - самый частый этаж квартиры\n"
     ]
    }
   ],
   "source": [
    "from collections import Counter\n",
    "\n",
    "year = Counter(df3['Год постройки']).most_common(1)[0][0]\n",
    "print(str(year)+' - самый частый год постройки')\n",
    "\n",
    "floorst = Counter(df3['Этажей в доме']).most_common(1)[0][0]\n",
    "print(str(floorst)+' - самое частое количество этажей в доме')\n",
    "\n",
    "floormx = Counter(df3['Этаж квартиры']).most_common(1)[0][0]\n",
    "print(str(floormx)+' - самый частый этаж квартиры')"
   ]
  },
  {
   "cell_type": "markdown",
   "id": "2c930a26",
   "metadata": {},
   "source": [
    "Таким образом, самое частое предложение - это квартира на третьем этаже девятиэтажного дома 2008 г. постройки."
   ]
  },
  {
   "cell_type": "markdown",
   "id": "bdd9a6bf",
   "metadata": {},
   "source": [
    "2. Сравнение информативности описаний у собственника и агенства недвижимости."
   ]
  },
  {
   "cell_type": "markdown",
   "id": "94eb1586",
   "metadata": {},
   "source": [
    "Функция для подсчёта: количества собственников (в таблице указаны как Собственник, ID***** или Имя Фамилия/Фамилия Имя). Данные по имена и фамилиям взяты отсюда: https://mydata.biz/ru/catalog/databases/names_db"
   ]
  },
  {
   "cell_type": "code",
   "execution_count": 213,
   "id": "c3a51def",
   "metadata": {},
   "outputs": [],
   "source": [
    "y = []\n",
    "with open(\"russtian_names/russian_names.json\", 'r', encoding='utf-8-sig') as f:\n",
    "    y = json.load(f)\n",
    "df_names = pd.DataFrame(y)\n",
    "a = set(df_names['Name'])\n",
    "\n",
    "x = []\n",
    "with open(\"russtian_names/russian_surnames.json\", 'r', encoding='utf-8-sig') as f:\n",
    "    x = json.load(f)\n",
    "df_surnames = pd.DataFrame(x)\n",
    "b = set(df_surnames['Surname'])\n",
    "\n",
    "#зачем она нужна: посчитать значения по какой-то колонке, разделяя арендодателей-собственников на три группы\n",
    "def counting_agents (df, column): #датасет, колонка\n",
    "    df_help = df.T\n",
    "    sobstv =0\n",
    "    sobstv_op = 0\n",
    "    i_d = 0\n",
    "    i_d_op = 0\n",
    "    imya = 0\n",
    "    imya_op = 0\n",
    "    for elem in (df_help.columns):\n",
    "        if df_help[elem][0] == 'Собственник':\n",
    "            sobstv +=1\n",
    "            if type(df_help[elem][column]) == str:\n",
    "                sobstv_op += len(df_help[elem][column].split())\n",
    "            else:\n",
    "                sobstv_op += df_help[elem][column]\n",
    "        elif df_help[elem][0][:2]== 'ID':\n",
    "            i_d +=1\n",
    "            if type(df_help[elem][column]) == str:\n",
    "                i_d_op += len(df_help[elem][column].split())\n",
    "            else:\n",
    "                i_d_op += df_help[elem][column]\n",
    "        if len(df_help[elem][0].split()) > 1:\n",
    "            if df_help[elem][0].split()[0] in a or df_help[elem][0].split()[1] in b or df_help[elem][0].split()[0] in b or df_help[elem][0].split()[1] in a :\n",
    "                imya +=1\n",
    "                if type(df_help[elem][column]) == str:\n",
    "                    imya_op += len(df_help[elem][column].split())\n",
    "                else:\n",
    "                    imya_op += df_help[elem][column]\n",
    "    return sobstv, sobstv_op, i_d, i_d_op, imya, imya_op\n",
    "# df_help = df.T\n",
    "# df_help['https://www.cian.ru/rent/flat/245900199/']['Количество незаполненных полей, шт.']"
   ]
  },
  {
   "cell_type": "code",
   "execution_count": 132,
   "id": "03f3a928",
   "metadata": {},
   "outputs": [],
   "source": [
    "cm = sns.light_palette('blue', as_cmap=True)\n",
    "s = df[['Число слов в описании']].style.background_gradient(cmap=cm)\n",
    "s"
=======
=======
>>>>>>> parent of a440497 (Merge branch 'main' of https://github.com/hse-econ-data-science/hw4_project-aksenov-loginov-zaharova-bec204 into main)
   "id": "123c78ee",
   "metadata": {},
   "outputs": [],
   "source": [
    "График i. код + комментарий (описание графика). Нужно выдвинуть гипотезу на основе графика."
<<<<<<< HEAD
>>>>>>> parent of a440497 (Merge branch 'main' of https://github.com/hse-econ-data-science/hw4_project-aksenov-loginov-zaharova-bec204 into main)
=======
>>>>>>> parent of a440497 (Merge branch 'main' of https://github.com/hse-econ-data-science/hw4_project-aksenov-loginov-zaharova-bec204 into main)
   ]
  },
  {
   "cell_type": "markdown",
<<<<<<< HEAD
<<<<<<< HEAD
   "id": "7f0e57c1",
   "metadata": {},
   "source": [
    "Чем бледнее цвет, тем меньше символов."
=======
=======
>>>>>>> parent of a440497 (Merge branch 'main' of https://github.com/hse-econ-data-science/hw4_project-aksenov-loginov-zaharova-bec204 into main)
   "id": "f8086ba7",
   "metadata": {},
   "source": [
    "# Шаг 5. Работа с pandas"
<<<<<<< HEAD
>>>>>>> parent of a440497 (Merge branch 'main' of https://github.com/hse-econ-data-science/hw4_project-aksenov-loginov-zaharova-bec204 into main)
   ]
  },
  {
   "cell_type": "code",
<<<<<<< HEAD
   "execution_count": 75,
   "id": "0a132c72",
   "metadata": {},
   "outputs": [
    {
     "name": "stdout",
     "output_type": "stream",
     "text": [
      "437 - самое большое число символов в объявлении.\n",
      "437 число символов в объявлении у \"Собственник\"\n"
     ]
    }
   ],
   "source": [
    "a = df[['Число слов в описании']].style.highlight_max(axis=0)\n",
    "a\n",
    "maximum = max(list(df['Число слов в описании']))\n",
    "df_help = df.loc[df['Число слов в описании'] == maximum]['Агенство недвижимости']\n",
    "df_help = df_help.iloc[0]\n",
    "\n",
    "print(str(maximum)+' - самое большое число слов в объявлении.')\n",
    "print(str(maximum) +' число слов в объявлении у \"'+ df_help +'\"')"
   ]
  },
  {
   "cell_type": "code",
   "execution_count": 131,
   "id": "bf6a94cb",
   "metadata": {},
   "outputs": [],
   "source": [
    "cm = sns.light_palette('blue', as_cmap=True)\n",
    "s = df[['Количество незаполненных полей, шт.']].style.background_gradient(cmap=cm)\n",
    "s"
   ]
  },
  {
   "cell_type": "code",
   "execution_count": 41,
   "id": "383b0ba8",
   "metadata": {},
   "outputs": [],
   "source": [
    "a = df[['Количество незаполненных полей, шт.']].style.highlight_min(axis=0)\n",
    "b = df[['Количество незаполненных полей, %']].style.highlight_min(axis=0)"
   ]
  },
  {
   "cell_type": "code",
   "execution_count": 130,
   "id": "e0b73917",
   "metadata": {},
   "outputs": [],
   "source": [
    "a"
   ]
  },
  {
   "cell_type": "code",
   "execution_count": 129,
   "id": "a9c11681",
   "metadata": {},
   "outputs": [],
   "source": [
    "b"
   ]
  },
  {
   "cell_type": "code",
   "execution_count": 149,
   "id": "0a5ffa15",
   "metadata": {},
   "outputs": [
    {
     "name": "stdout",
     "output_type": "stream",
     "text": [
      "0 - это минимальное количество пропусков в объявлениях.\n",
      "0 пропусков в объявлении у 104 сдающих. При этом 31 из них - собственники, которые составляют 29.808% от этой массы.\n"
     ]
    }
   ],
   "source": [
    "minimum = min(list(df['Количество незаполненных полей, шт.']))\n",
    "\n",
    "df_help = df.loc[df['Количество незаполненных полей, шт.'] == minimum][['Агенство недвижимости', 'Описание']]\n",
    "sobstv, sobstv_op, i_d, i_d_op, imya, imya_op = counting_agents(df_help, 'Описание')\n",
    "all_of_them = len(df_help)\n",
    "\n",
    "print(str(minimum) + ' - это минимальное количество пропусков в объявлениях.')\n",
    "print(str(minimum) + ' пропусков в объявлении у ' +str(all_of_them) + ' сдающих. При этом ' + str(sobstv + i_d + imya) + ' из них - собственники, которые составляют '+ str(round((sobstv + i_d + imya)/count, 5)*100)+'% от этой массы.')\n"
   ]
  },
  {
   "cell_type": "markdown",
   "id": "4cf86555",
   "metadata": {},
   "source": [
    "Как видно, больше всего слов в объявлении от собственника, но в деле недопущения пропусков собственники занимают далеко не лидирующие позиции (если чётко не указано, что квартира сдаётся собственником, то считаем, что указано агентсов недвижимости или риелтор)."
   ]
  },
  {
   "cell_type": "markdown",
   "id": "5de3fedd",
   "metadata": {},
   "source": [
    "Рассмотрим ситуацию с \"другого конца\""
   ]
  },
  {
   "cell_type": "code",
   "execution_count": 77,
   "id": "f32f3d22",
   "metadata": {},
   "outputs": [
    {
     "name": "stdout",
     "output_type": "stream",
     "text": [
      "7 - самое маленькое число символов в объявлении.\n",
      "7 число символов в объявлении у \"ID 66982795\"\n"
     ]
    }
   ],
   "source": [
    "a = df[['Число слов в описании']].style.highlight_min(axis=0)\n",
    "a"
   ]
  },
  {
   "cell_type": "code",
   "execution_count": 143,
   "id": "47666180",
   "metadata": {},
   "outputs": [
    {
     "name": "stdout",
     "output_type": "stream",
     "text": [
      "7 - самое маленькое число слов в описании объявления.\n",
      "7 число слов в описании объявления у \"ID 66982795\"\n"
     ]
    }
   ],
   "source": [
    "minimum = min(list(df['Число слов в описании']))\n",
    "df_help = df.loc[df['Число слов в описании'] == minimum]['Агенство недвижимости']\n",
    "df_help = df_help.iloc[0]\n",
    "\n",
    "print(str(minimum)+' - самое маленькое число слов в описании объявления.')\n",
    "print(str(minimum) +' число слов в описании объявления у \"'+ df_help +'\"')"
   ]
  },
  {
   "cell_type": "code",
   "execution_count": 195,
   "id": "6045b4fd",
   "metadata": {},
   "outputs": [
    {
     "name": "stdout",
     "output_type": "stream",
     "text": [
      "16 - это максимальное количество пропусков в объявлениях.\n",
      "16 пропусков в объявлении у 1 сдающих. При этом 0 из них - собственники, которые составляют 0.0% от этой массы.\n"
     ]
    },
    {
     "data": {
      "text/html": [
       "<div>\n",
       "<style scoped>\n",
       "    .dataframe tbody tr th:only-of-type {\n",
       "        vertical-align: middle;\n",
       "    }\n",
       "\n",
       "    .dataframe tbody tr th {\n",
       "        vertical-align: top;\n",
       "    }\n",
       "\n",
       "    .dataframe thead th {\n",
       "        text-align: right;\n",
       "    }\n",
       "</style>\n",
       "<table border=\"1\" class=\"dataframe\">\n",
       "  <thead>\n",
       "    <tr style=\"text-align: right;\">\n",
       "      <th></th>\n",
       "      <th>Агенство недвижимости</th>\n",
       "      <th>Количество незаполненных полей, шт.</th>\n",
       "    </tr>\n",
       "  </thead>\n",
       "  <tbody>\n",
       "    <tr>\n",
       "      <th>https://www.cian.ru/rent/flat/251266263/</th>\n",
       "      <td>Knight Frank</td>\n",
       "      <td>16</td>\n",
       "    </tr>\n",
       "  </tbody>\n",
       "</table>\n",
       "</div>"
      ],
      "text/plain": [
       "                                         Агенство недвижимости  \\\n",
       "https://www.cian.ru/rent/flat/251266263/          Knight Frank   \n",
       "\n",
       "                                          Количество незаполненных полей, шт.  \n",
       "https://www.cian.ru/rent/flat/251266263/                                   16  "
      ]
     },
     "execution_count": 195,
     "metadata": {},
     "output_type": "execute_result"
    }
   ],
   "source": [
    "maximum = max(list(df['Количество незаполненных полей, шт.']))\n",
    "\n",
    "df_help = df.loc[df['Количество незаполненных полей, шт.'] == maximum][['Агенство недвижимости', 'Количество незаполненных полей, шт.']]\n",
    "sobstv, sobstv_op, i_d, i_d_op, imya, imya_op = counting_agents(df_help, 'Количество незаполненных полей, шт.')\n",
    "all_of_them = len(df_help)\n",
    "\n",
    "print(str(maximum) + ' - это максимальное количество пропусков в объявлениях.')\n",
    "print(str(maximum) + ' пропусков в объявлении у ' +str(all_of_them) + ' сдающих. При этом ' + str(sobstv + i_d + imya) + ' из них - собственники, которые составляют '+ str(round((sobstv + i_d + imya)/count, 5)*100)+'% от этой массы.')"
   ]
  },
  {
   "cell_type": "markdown",
   "id": "3df371bf",
   "metadata": {},
   "source": [
    "Таким образом, самое короткое объявление также у собственника, но максимальное число пропусков в объявлении от агенства."
   ]
  },
  {
   "cell_type": "code",
   "execution_count": 182,
   "id": "042c2e3c",
   "metadata": {},
   "outputs": [],
   "source": [
    "data = df['Число слов в описании']\n",
    "\n",
    "sobstv, sobstv_op, i_d, i_d_op, imya, imya_op = counting_agents(df, \"Описание\")\n",
    "average_lenght_sobstv = sum([sobstv_op, i_d_op, imya_op])/sum([sobstv, i_d,imya,])\n",
    "\n",
    "#Тут считаем слова в описании для не-собственников\n",
    "symbols = []\n",
    "for elem in df['Описание']:\n",
    "    symbols.append(len(elem.split()))\n",
    "\n",
    "\n",
    "average_lenght_agents = (sum(symbols)-sum([sobstv_op, i_d_op, imya_op]))/(len(df['Агенство недвижимости'])-sum([sobstv, i_d,imya]))"
   ]
  },
  {
   "cell_type": "code",
   "execution_count": 188,
   "id": "6fd220ed",
   "metadata": {},
   "outputs": [
    {
     "data": {
      "application/vnd.plotly.v1+json": {
       "config": {
        "plotlyServerURL": "https://plot.ly"
       },
       "data": [
        {
         "type": "bar",
         "x": [
          "Собственники",
          "Агенства"
         ],
         "y": [
          328.01557632398755,
          26.765106382978722
         ]
        }
       ],
       "layout": {
        "template": {
         "data": {
          "bar": [
           {
            "error_x": {
             "color": "#2a3f5f"
            },
            "error_y": {
             "color": "#2a3f5f"
            },
            "marker": {
             "line": {
              "color": "#E5ECF6",
              "width": 0.5
             }
            },
            "type": "bar"
           }
          ],
          "barpolar": [
           {
            "marker": {
             "line": {
              "color": "#E5ECF6",
              "width": 0.5
             }
            },
            "type": "barpolar"
           }
          ],
          "carpet": [
           {
            "aaxis": {
             "endlinecolor": "#2a3f5f",
             "gridcolor": "white",
             "linecolor": "white",
             "minorgridcolor": "white",
             "startlinecolor": "#2a3f5f"
            },
            "baxis": {
             "endlinecolor": "#2a3f5f",
             "gridcolor": "white",
             "linecolor": "white",
             "minorgridcolor": "white",
             "startlinecolor": "#2a3f5f"
            },
            "type": "carpet"
           }
          ],
          "choropleth": [
           {
            "colorbar": {
             "outlinewidth": 0,
             "ticks": ""
            },
            "type": "choropleth"
           }
          ],
          "contour": [
           {
            "colorbar": {
             "outlinewidth": 0,
             "ticks": ""
            },
            "colorscale": [
             [
              0,
              "#0d0887"
             ],
             [
              0.1111111111111111,
              "#46039f"
             ],
             [
              0.2222222222222222,
              "#7201a8"
             ],
             [
              0.3333333333333333,
              "#9c179e"
             ],
             [
              0.4444444444444444,
              "#bd3786"
             ],
             [
              0.5555555555555556,
              "#d8576b"
             ],
             [
              0.6666666666666666,
              "#ed7953"
             ],
             [
              0.7777777777777778,
              "#fb9f3a"
             ],
             [
              0.8888888888888888,
              "#fdca26"
             ],
             [
              1,
              "#f0f921"
             ]
            ],
            "type": "contour"
           }
          ],
          "contourcarpet": [
           {
            "colorbar": {
             "outlinewidth": 0,
             "ticks": ""
            },
            "type": "contourcarpet"
           }
          ],
          "heatmap": [
           {
            "colorbar": {
             "outlinewidth": 0,
             "ticks": ""
            },
            "colorscale": [
             [
              0,
              "#0d0887"
             ],
             [
              0.1111111111111111,
              "#46039f"
             ],
             [
              0.2222222222222222,
              "#7201a8"
             ],
             [
              0.3333333333333333,
              "#9c179e"
             ],
             [
              0.4444444444444444,
              "#bd3786"
             ],
             [
              0.5555555555555556,
              "#d8576b"
             ],
             [
              0.6666666666666666,
              "#ed7953"
             ],
             [
              0.7777777777777778,
              "#fb9f3a"
             ],
             [
              0.8888888888888888,
              "#fdca26"
             ],
             [
              1,
              "#f0f921"
             ]
            ],
            "type": "heatmap"
           }
          ],
          "heatmapgl": [
           {
            "colorbar": {
             "outlinewidth": 0,
             "ticks": ""
            },
            "colorscale": [
             [
              0,
              "#0d0887"
             ],
             [
              0.1111111111111111,
              "#46039f"
             ],
             [
              0.2222222222222222,
              "#7201a8"
             ],
             [
              0.3333333333333333,
              "#9c179e"
             ],
             [
              0.4444444444444444,
              "#bd3786"
             ],
             [
              0.5555555555555556,
              "#d8576b"
             ],
             [
              0.6666666666666666,
              "#ed7953"
             ],
             [
              0.7777777777777778,
              "#fb9f3a"
             ],
             [
              0.8888888888888888,
              "#fdca26"
             ],
             [
              1,
              "#f0f921"
             ]
            ],
            "type": "heatmapgl"
           }
          ],
          "histogram": [
           {
            "marker": {
             "colorbar": {
              "outlinewidth": 0,
              "ticks": ""
             }
            },
            "type": "histogram"
           }
          ],
          "histogram2d": [
           {
            "colorbar": {
             "outlinewidth": 0,
             "ticks": ""
            },
            "colorscale": [
             [
              0,
              "#0d0887"
             ],
             [
              0.1111111111111111,
              "#46039f"
             ],
             [
              0.2222222222222222,
              "#7201a8"
             ],
             [
              0.3333333333333333,
              "#9c179e"
             ],
             [
              0.4444444444444444,
              "#bd3786"
             ],
             [
              0.5555555555555556,
              "#d8576b"
             ],
             [
              0.6666666666666666,
              "#ed7953"
             ],
             [
              0.7777777777777778,
              "#fb9f3a"
             ],
             [
              0.8888888888888888,
              "#fdca26"
             ],
             [
              1,
              "#f0f921"
             ]
            ],
            "type": "histogram2d"
           }
          ],
          "histogram2dcontour": [
           {
            "colorbar": {
             "outlinewidth": 0,
             "ticks": ""
            },
            "colorscale": [
             [
              0,
              "#0d0887"
             ],
             [
              0.1111111111111111,
              "#46039f"
             ],
             [
              0.2222222222222222,
              "#7201a8"
             ],
             [
              0.3333333333333333,
              "#9c179e"
             ],
             [
              0.4444444444444444,
              "#bd3786"
             ],
             [
              0.5555555555555556,
              "#d8576b"
             ],
             [
              0.6666666666666666,
              "#ed7953"
             ],
             [
              0.7777777777777778,
              "#fb9f3a"
             ],
             [
              0.8888888888888888,
              "#fdca26"
             ],
             [
              1,
              "#f0f921"
             ]
            ],
            "type": "histogram2dcontour"
           }
          ],
          "mesh3d": [
           {
            "colorbar": {
             "outlinewidth": 0,
             "ticks": ""
            },
            "type": "mesh3d"
           }
          ],
          "parcoords": [
           {
            "line": {
             "colorbar": {
              "outlinewidth": 0,
              "ticks": ""
             }
            },
            "type": "parcoords"
           }
          ],
          "pie": [
           {
            "automargin": true,
            "type": "pie"
           }
          ],
          "scatter": [
           {
            "marker": {
             "colorbar": {
              "outlinewidth": 0,
              "ticks": ""
             }
            },
            "type": "scatter"
           }
          ],
          "scatter3d": [
           {
            "line": {
             "colorbar": {
              "outlinewidth": 0,
              "ticks": ""
             }
            },
            "marker": {
             "colorbar": {
              "outlinewidth": 0,
              "ticks": ""
             }
            },
            "type": "scatter3d"
           }
          ],
          "scattercarpet": [
           {
            "marker": {
             "colorbar": {
              "outlinewidth": 0,
              "ticks": ""
             }
            },
            "type": "scattercarpet"
           }
          ],
          "scattergeo": [
           {
            "marker": {
             "colorbar": {
              "outlinewidth": 0,
              "ticks": ""
             }
            },
            "type": "scattergeo"
           }
          ],
          "scattergl": [
           {
            "marker": {
             "colorbar": {
              "outlinewidth": 0,
              "ticks": ""
             }
            },
            "type": "scattergl"
           }
          ],
          "scattermapbox": [
           {
            "marker": {
             "colorbar": {
              "outlinewidth": 0,
              "ticks": ""
             }
            },
            "type": "scattermapbox"
           }
          ],
          "scatterpolar": [
           {
            "marker": {
             "colorbar": {
              "outlinewidth": 0,
              "ticks": ""
             }
            },
            "type": "scatterpolar"
           }
          ],
          "scatterpolargl": [
           {
            "marker": {
             "colorbar": {
              "outlinewidth": 0,
              "ticks": ""
             }
            },
            "type": "scatterpolargl"
           }
          ],
          "scatterternary": [
           {
            "marker": {
             "colorbar": {
              "outlinewidth": 0,
              "ticks": ""
             }
            },
            "type": "scatterternary"
           }
          ],
          "surface": [
           {
            "colorbar": {
             "outlinewidth": 0,
             "ticks": ""
            },
            "colorscale": [
             [
              0,
              "#0d0887"
             ],
             [
              0.1111111111111111,
              "#46039f"
             ],
             [
              0.2222222222222222,
              "#7201a8"
             ],
             [
              0.3333333333333333,
              "#9c179e"
             ],
             [
              0.4444444444444444,
              "#bd3786"
             ],
             [
              0.5555555555555556,
              "#d8576b"
             ],
             [
              0.6666666666666666,
              "#ed7953"
             ],
             [
              0.7777777777777778,
              "#fb9f3a"
             ],
             [
              0.8888888888888888,
              "#fdca26"
             ],
             [
              1,
              "#f0f921"
             ]
            ],
            "type": "surface"
           }
          ],
          "table": [
           {
            "cells": {
             "fill": {
              "color": "#EBF0F8"
             },
             "line": {
              "color": "white"
             }
            },
            "header": {
             "fill": {
              "color": "#C8D4E3"
             },
             "line": {
              "color": "white"
             }
            },
            "type": "table"
           }
          ]
         },
         "layout": {
          "annotationdefaults": {
           "arrowcolor": "#2a3f5f",
           "arrowhead": 0,
           "arrowwidth": 1
          },
          "autotypenumbers": "strict",
          "coloraxis": {
           "colorbar": {
            "outlinewidth": 0,
            "ticks": ""
           }
          },
          "colorscale": {
           "diverging": [
            [
             0,
             "#8e0152"
            ],
            [
             0.1,
             "#c51b7d"
            ],
            [
             0.2,
             "#de77ae"
            ],
            [
             0.3,
             "#f1b6da"
            ],
            [
             0.4,
             "#fde0ef"
            ],
            [
             0.5,
             "#f7f7f7"
            ],
            [
             0.6,
             "#e6f5d0"
            ],
            [
             0.7,
             "#b8e186"
            ],
            [
             0.8,
             "#7fbc41"
            ],
            [
             0.9,
             "#4d9221"
            ],
            [
             1,
             "#276419"
            ]
           ],
           "sequential": [
            [
             0,
             "#0d0887"
            ],
            [
             0.1111111111111111,
             "#46039f"
            ],
            [
             0.2222222222222222,
             "#7201a8"
            ],
            [
             0.3333333333333333,
             "#9c179e"
            ],
            [
             0.4444444444444444,
             "#bd3786"
            ],
            [
             0.5555555555555556,
             "#d8576b"
            ],
            [
             0.6666666666666666,
             "#ed7953"
            ],
            [
             0.7777777777777778,
             "#fb9f3a"
            ],
            [
             0.8888888888888888,
             "#fdca26"
            ],
            [
             1,
             "#f0f921"
            ]
           ],
           "sequentialminus": [
            [
             0,
             "#0d0887"
            ],
            [
             0.1111111111111111,
             "#46039f"
            ],
            [
             0.2222222222222222,
             "#7201a8"
            ],
            [
             0.3333333333333333,
             "#9c179e"
            ],
            [
             0.4444444444444444,
             "#bd3786"
            ],
            [
             0.5555555555555556,
             "#d8576b"
            ],
            [
             0.6666666666666666,
             "#ed7953"
            ],
            [
             0.7777777777777778,
             "#fb9f3a"
            ],
            [
             0.8888888888888888,
             "#fdca26"
            ],
            [
             1,
             "#f0f921"
            ]
           ]
          },
          "colorway": [
           "#636efa",
           "#EF553B",
           "#00cc96",
           "#ab63fa",
           "#FFA15A",
           "#19d3f3",
           "#FF6692",
           "#B6E880",
           "#FF97FF",
           "#FECB52"
          ],
          "font": {
           "color": "#2a3f5f"
          },
          "geo": {
           "bgcolor": "white",
           "lakecolor": "white",
           "landcolor": "#E5ECF6",
           "showlakes": true,
           "showland": true,
           "subunitcolor": "white"
          },
          "hoverlabel": {
           "align": "left"
          },
          "hovermode": "closest",
          "mapbox": {
           "style": "light"
          },
          "paper_bgcolor": "white",
          "plot_bgcolor": "#E5ECF6",
          "polar": {
           "angularaxis": {
            "gridcolor": "white",
            "linecolor": "white",
            "ticks": ""
           },
           "bgcolor": "#E5ECF6",
           "radialaxis": {
            "gridcolor": "white",
            "linecolor": "white",
            "ticks": ""
           }
          },
          "scene": {
           "xaxis": {
            "backgroundcolor": "#E5ECF6",
            "gridcolor": "white",
            "gridwidth": 2,
            "linecolor": "white",
            "showbackground": true,
            "ticks": "",
            "zerolinecolor": "white"
           },
           "yaxis": {
            "backgroundcolor": "#E5ECF6",
            "gridcolor": "white",
            "gridwidth": 2,
            "linecolor": "white",
            "showbackground": true,
            "ticks": "",
            "zerolinecolor": "white"
           },
           "zaxis": {
            "backgroundcolor": "#E5ECF6",
            "gridcolor": "white",
            "gridwidth": 2,
            "linecolor": "white",
            "showbackground": true,
            "ticks": "",
            "zerolinecolor": "white"
           }
          },
          "shapedefaults": {
           "line": {
            "color": "#2a3f5f"
           }
          },
          "ternary": {
           "aaxis": {
            "gridcolor": "white",
            "linecolor": "white",
            "ticks": ""
           },
           "baxis": {
            "gridcolor": "white",
            "linecolor": "white",
            "ticks": ""
           },
           "bgcolor": "#E5ECF6",
           "caxis": {
            "gridcolor": "white",
            "linecolor": "white",
            "ticks": ""
           }
          },
          "title": {
           "x": 0.05
          },
          "xaxis": {
           "automargin": true,
           "gridcolor": "white",
           "linecolor": "white",
           "ticks": "",
           "title": {
            "standoff": 15
           },
           "zerolinecolor": "white",
           "zerolinewidth": 2
          },
          "yaxis": {
           "automargin": true,
           "gridcolor": "white",
           "linecolor": "white",
           "ticks": "",
           "title": {
            "standoff": 15
           },
           "zerolinecolor": "white",
           "zerolinewidth": 2
          }
         }
        },
        "title": {
         "text": "Средняя длина объявления по типу арендодателя, слов"
        }
       }
      },
      "text/html": [
       "<div>                            <div id=\"a0e371f9-61e1-4254-881a-8e4f5f864fe1\" class=\"plotly-graph-div\" style=\"height:525px; width:100%;\"></div>            <script type=\"text/javascript\">                require([\"plotly\"], function(Plotly) {                    window.PLOTLYENV=window.PLOTLYENV || {};                                    if (document.getElementById(\"a0e371f9-61e1-4254-881a-8e4f5f864fe1\")) {                    Plotly.newPlot(                        \"a0e371f9-61e1-4254-881a-8e4f5f864fe1\",                        [{\"type\": \"bar\", \"x\": [\"\\u0421\\u043e\\u0431\\u0441\\u0442\\u0432\\u0435\\u043d\\u043d\\u0438\\u043a\\u0438\", \"\\u0410\\u0433\\u0435\\u043d\\u0441\\u0442\\u0432\\u0430\"], \"y\": [328.01557632398755, 26.765106382978722]}],                        {\"template\": {\"data\": {\"bar\": [{\"error_x\": {\"color\": \"#2a3f5f\"}, \"error_y\": {\"color\": \"#2a3f5f\"}, \"marker\": {\"line\": {\"color\": \"#E5ECF6\", \"width\": 0.5}}, \"type\": \"bar\"}], \"barpolar\": [{\"marker\": {\"line\": {\"color\": \"#E5ECF6\", \"width\": 0.5}}, \"type\": \"barpolar\"}], \"carpet\": [{\"aaxis\": {\"endlinecolor\": \"#2a3f5f\", \"gridcolor\": \"white\", \"linecolor\": \"white\", \"minorgridcolor\": \"white\", \"startlinecolor\": \"#2a3f5f\"}, \"baxis\": {\"endlinecolor\": \"#2a3f5f\", \"gridcolor\": \"white\", \"linecolor\": \"white\", \"minorgridcolor\": \"white\", \"startlinecolor\": \"#2a3f5f\"}, \"type\": \"carpet\"}], \"choropleth\": [{\"colorbar\": {\"outlinewidth\": 0, \"ticks\": \"\"}, \"type\": \"choropleth\"}], \"contour\": [{\"colorbar\": {\"outlinewidth\": 0, \"ticks\": \"\"}, \"colorscale\": [[0.0, \"#0d0887\"], [0.1111111111111111, \"#46039f\"], [0.2222222222222222, \"#7201a8\"], [0.3333333333333333, \"#9c179e\"], [0.4444444444444444, \"#bd3786\"], [0.5555555555555556, \"#d8576b\"], [0.6666666666666666, \"#ed7953\"], [0.7777777777777778, \"#fb9f3a\"], [0.8888888888888888, \"#fdca26\"], [1.0, \"#f0f921\"]], \"type\": \"contour\"}], \"contourcarpet\": [{\"colorbar\": {\"outlinewidth\": 0, \"ticks\": \"\"}, \"type\": \"contourcarpet\"}], \"heatmap\": [{\"colorbar\": {\"outlinewidth\": 0, \"ticks\": \"\"}, \"colorscale\": [[0.0, \"#0d0887\"], [0.1111111111111111, \"#46039f\"], [0.2222222222222222, \"#7201a8\"], [0.3333333333333333, \"#9c179e\"], [0.4444444444444444, \"#bd3786\"], [0.5555555555555556, \"#d8576b\"], [0.6666666666666666, \"#ed7953\"], [0.7777777777777778, \"#fb9f3a\"], [0.8888888888888888, \"#fdca26\"], [1.0, \"#f0f921\"]], \"type\": \"heatmap\"}], \"heatmapgl\": [{\"colorbar\": {\"outlinewidth\": 0, \"ticks\": \"\"}, \"colorscale\": [[0.0, \"#0d0887\"], [0.1111111111111111, \"#46039f\"], [0.2222222222222222, \"#7201a8\"], [0.3333333333333333, \"#9c179e\"], [0.4444444444444444, \"#bd3786\"], [0.5555555555555556, \"#d8576b\"], [0.6666666666666666, \"#ed7953\"], [0.7777777777777778, \"#fb9f3a\"], [0.8888888888888888, \"#fdca26\"], [1.0, \"#f0f921\"]], \"type\": \"heatmapgl\"}], \"histogram\": [{\"marker\": {\"colorbar\": {\"outlinewidth\": 0, \"ticks\": \"\"}}, \"type\": \"histogram\"}], \"histogram2d\": [{\"colorbar\": {\"outlinewidth\": 0, \"ticks\": \"\"}, \"colorscale\": [[0.0, \"#0d0887\"], [0.1111111111111111, \"#46039f\"], [0.2222222222222222, \"#7201a8\"], [0.3333333333333333, \"#9c179e\"], [0.4444444444444444, \"#bd3786\"], [0.5555555555555556, \"#d8576b\"], [0.6666666666666666, \"#ed7953\"], [0.7777777777777778, \"#fb9f3a\"], [0.8888888888888888, \"#fdca26\"], [1.0, \"#f0f921\"]], \"type\": \"histogram2d\"}], \"histogram2dcontour\": [{\"colorbar\": {\"outlinewidth\": 0, \"ticks\": \"\"}, \"colorscale\": [[0.0, \"#0d0887\"], [0.1111111111111111, \"#46039f\"], [0.2222222222222222, \"#7201a8\"], [0.3333333333333333, \"#9c179e\"], [0.4444444444444444, \"#bd3786\"], [0.5555555555555556, \"#d8576b\"], [0.6666666666666666, \"#ed7953\"], [0.7777777777777778, \"#fb9f3a\"], [0.8888888888888888, \"#fdca26\"], [1.0, \"#f0f921\"]], \"type\": \"histogram2dcontour\"}], \"mesh3d\": [{\"colorbar\": {\"outlinewidth\": 0, \"ticks\": \"\"}, \"type\": \"mesh3d\"}], \"parcoords\": [{\"line\": {\"colorbar\": {\"outlinewidth\": 0, \"ticks\": \"\"}}, \"type\": \"parcoords\"}], \"pie\": [{\"automargin\": true, \"type\": \"pie\"}], \"scatter\": [{\"marker\": {\"colorbar\": {\"outlinewidth\": 0, \"ticks\": \"\"}}, \"type\": \"scatter\"}], \"scatter3d\": [{\"line\": {\"colorbar\": {\"outlinewidth\": 0, \"ticks\": \"\"}}, \"marker\": {\"colorbar\": {\"outlinewidth\": 0, \"ticks\": \"\"}}, \"type\": \"scatter3d\"}], \"scattercarpet\": [{\"marker\": {\"colorbar\": {\"outlinewidth\": 0, \"ticks\": \"\"}}, \"type\": \"scattercarpet\"}], \"scattergeo\": [{\"marker\": {\"colorbar\": {\"outlinewidth\": 0, \"ticks\": \"\"}}, \"type\": \"scattergeo\"}], \"scattergl\": [{\"marker\": {\"colorbar\": {\"outlinewidth\": 0, \"ticks\": \"\"}}, \"type\": \"scattergl\"}], \"scattermapbox\": [{\"marker\": {\"colorbar\": {\"outlinewidth\": 0, \"ticks\": \"\"}}, \"type\": \"scattermapbox\"}], \"scatterpolar\": [{\"marker\": {\"colorbar\": {\"outlinewidth\": 0, \"ticks\": \"\"}}, \"type\": \"scatterpolar\"}], \"scatterpolargl\": [{\"marker\": {\"colorbar\": {\"outlinewidth\": 0, \"ticks\": \"\"}}, \"type\": \"scatterpolargl\"}], \"scatterternary\": [{\"marker\": {\"colorbar\": {\"outlinewidth\": 0, \"ticks\": \"\"}}, \"type\": \"scatterternary\"}], \"surface\": [{\"colorbar\": {\"outlinewidth\": 0, \"ticks\": \"\"}, \"colorscale\": [[0.0, \"#0d0887\"], [0.1111111111111111, \"#46039f\"], [0.2222222222222222, \"#7201a8\"], [0.3333333333333333, \"#9c179e\"], [0.4444444444444444, \"#bd3786\"], [0.5555555555555556, \"#d8576b\"], [0.6666666666666666, \"#ed7953\"], [0.7777777777777778, \"#fb9f3a\"], [0.8888888888888888, \"#fdca26\"], [1.0, \"#f0f921\"]], \"type\": \"surface\"}], \"table\": [{\"cells\": {\"fill\": {\"color\": \"#EBF0F8\"}, \"line\": {\"color\": \"white\"}}, \"header\": {\"fill\": {\"color\": \"#C8D4E3\"}, \"line\": {\"color\": \"white\"}}, \"type\": \"table\"}]}, \"layout\": {\"annotationdefaults\": {\"arrowcolor\": \"#2a3f5f\", \"arrowhead\": 0, \"arrowwidth\": 1}, \"autotypenumbers\": \"strict\", \"coloraxis\": {\"colorbar\": {\"outlinewidth\": 0, \"ticks\": \"\"}}, \"colorscale\": {\"diverging\": [[0, \"#8e0152\"], [0.1, \"#c51b7d\"], [0.2, \"#de77ae\"], [0.3, \"#f1b6da\"], [0.4, \"#fde0ef\"], [0.5, \"#f7f7f7\"], [0.6, \"#e6f5d0\"], [0.7, \"#b8e186\"], [0.8, \"#7fbc41\"], [0.9, \"#4d9221\"], [1, \"#276419\"]], \"sequential\": [[0.0, \"#0d0887\"], [0.1111111111111111, \"#46039f\"], [0.2222222222222222, \"#7201a8\"], [0.3333333333333333, \"#9c179e\"], [0.4444444444444444, \"#bd3786\"], [0.5555555555555556, \"#d8576b\"], [0.6666666666666666, \"#ed7953\"], [0.7777777777777778, \"#fb9f3a\"], [0.8888888888888888, \"#fdca26\"], [1.0, \"#f0f921\"]], \"sequentialminus\": [[0.0, \"#0d0887\"], [0.1111111111111111, \"#46039f\"], [0.2222222222222222, \"#7201a8\"], [0.3333333333333333, \"#9c179e\"], [0.4444444444444444, \"#bd3786\"], [0.5555555555555556, \"#d8576b\"], [0.6666666666666666, \"#ed7953\"], [0.7777777777777778, \"#fb9f3a\"], [0.8888888888888888, \"#fdca26\"], [1.0, \"#f0f921\"]]}, \"colorway\": [\"#636efa\", \"#EF553B\", \"#00cc96\", \"#ab63fa\", \"#FFA15A\", \"#19d3f3\", \"#FF6692\", \"#B6E880\", \"#FF97FF\", \"#FECB52\"], \"font\": {\"color\": \"#2a3f5f\"}, \"geo\": {\"bgcolor\": \"white\", \"lakecolor\": \"white\", \"landcolor\": \"#E5ECF6\", \"showlakes\": true, \"showland\": true, \"subunitcolor\": \"white\"}, \"hoverlabel\": {\"align\": \"left\"}, \"hovermode\": \"closest\", \"mapbox\": {\"style\": \"light\"}, \"paper_bgcolor\": \"white\", \"plot_bgcolor\": \"#E5ECF6\", \"polar\": {\"angularaxis\": {\"gridcolor\": \"white\", \"linecolor\": \"white\", \"ticks\": \"\"}, \"bgcolor\": \"#E5ECF6\", \"radialaxis\": {\"gridcolor\": \"white\", \"linecolor\": \"white\", \"ticks\": \"\"}}, \"scene\": {\"xaxis\": {\"backgroundcolor\": \"#E5ECF6\", \"gridcolor\": \"white\", \"gridwidth\": 2, \"linecolor\": \"white\", \"showbackground\": true, \"ticks\": \"\", \"zerolinecolor\": \"white\"}, \"yaxis\": {\"backgroundcolor\": \"#E5ECF6\", \"gridcolor\": \"white\", \"gridwidth\": 2, \"linecolor\": \"white\", \"showbackground\": true, \"ticks\": \"\", \"zerolinecolor\": \"white\"}, \"zaxis\": {\"backgroundcolor\": \"#E5ECF6\", \"gridcolor\": \"white\", \"gridwidth\": 2, \"linecolor\": \"white\", \"showbackground\": true, \"ticks\": \"\", \"zerolinecolor\": \"white\"}}, \"shapedefaults\": {\"line\": {\"color\": \"#2a3f5f\"}}, \"ternary\": {\"aaxis\": {\"gridcolor\": \"white\", \"linecolor\": \"white\", \"ticks\": \"\"}, \"baxis\": {\"gridcolor\": \"white\", \"linecolor\": \"white\", \"ticks\": \"\"}, \"bgcolor\": \"#E5ECF6\", \"caxis\": {\"gridcolor\": \"white\", \"linecolor\": \"white\", \"ticks\": \"\"}}, \"title\": {\"x\": 0.05}, \"xaxis\": {\"automargin\": true, \"gridcolor\": \"white\", \"linecolor\": \"white\", \"ticks\": \"\", \"title\": {\"standoff\": 15}, \"zerolinecolor\": \"white\", \"zerolinewidth\": 2}, \"yaxis\": {\"automargin\": true, \"gridcolor\": \"white\", \"linecolor\": \"white\", \"ticks\": \"\", \"title\": {\"standoff\": 15}, \"zerolinecolor\": \"white\", \"zerolinewidth\": 2}}}, \"title\": {\"text\": \"\\u0421\\u0440\\u0435\\u0434\\u043d\\u044f\\u044f \\u0434\\u043b\\u0438\\u043d\\u0430 \\u043e\\u0431\\u044a\\u044f\\u0432\\u043b\\u0435\\u043d\\u0438\\u044f \\u043f\\u043e \\u0442\\u0438\\u043f\\u0443 \\u0430\\u0440\\u0435\\u043d\\u0434\\u043e\\u0434\\u0430\\u0442\\u0435\\u043b\\u044f, \\u0441\\u043b\\u043e\\u0432\"}},                        {\"responsive\": true}                    ).then(function(){\n",
       "                            \n",
       "var gd = document.getElementById('a0e371f9-61e1-4254-881a-8e4f5f864fe1');\n",
       "var x = new MutationObserver(function (mutations, observer) {{\n",
       "        var display = window.getComputedStyle(gd).display;\n",
       "        if (!display || display === 'none') {{\n",
       "            console.log([gd, 'removed!']);\n",
       "            Plotly.purge(gd);\n",
       "            observer.disconnect();\n",
       "        }}\n",
       "}});\n",
       "\n",
       "// Listen for the removal of the full notebook cells\n",
       "var notebookContainer = gd.closest('#notebook-container');\n",
       "if (notebookContainer) {{\n",
       "    x.observe(notebookContainer, {childList: true});\n",
       "}}\n",
       "\n",
       "// Listen for the clearing of the current output cell\n",
       "var outputEl = gd.closest('.output');\n",
       "if (outputEl) {{\n",
       "    x.observe(outputEl, {childList: true});\n",
       "}}\n",
       "\n",
       "                        })                };                });            </script>        </div>"
      ]
     },
     "metadata": {},
     "output_type": "display_data"
    }
   ],
   "source": [
    "import plotly.graph_objects as go\n",
    "fig = go.Figure(data = [go.Bar(x = ['Собственники', 'Агенства'], y = [average_lenght_sobstv, average_lenght_agents])], layout_title_text = 'Средняя длина объявления по типу арендодателя, слов')\n",
    "fig.show()"
   ]
  },
  {
   "cell_type": "markdown",
   "id": "bf74288a",
   "metadata": {},
   "source": [
    "Как видно, среднее количество слов в объявлениях от собственников больше, что может говорить в пользу их информативности."
=======
>>>>>>> parent of a440497 (Merge branch 'main' of https://github.com/hse-econ-data-science/hw4_project-aksenov-loginov-zaharova-bec204 into main)
   ]
  },
  {
   "cell_type": "code",
<<<<<<< HEAD
   "execution_count": 224,
   "id": "2a8b0b0a",
   "metadata": {},
   "outputs": [
    {
     "data": {
      "text/plain": [
       "5726"
      ]
     },
     "execution_count": 224,
     "metadata": {},
     "output_type": "execute_result"
    }
   ],
   "source": [
    "df_help = df[['Агенство недвижимости', 'Количество незаполненных полей, шт.']]\n",
    "sobstv, sobstv_op, i_d, i_d_op, imya, imya_op = counting_agents(df_help, 'Количество незаполненных полей, шт.')\n",
    "average_ommissions_sobstv = sum([sobstv_op, i_d_op, imya_op])/sum([sobstv, i_d,imya])\n",
    "average_ommissions_agents = (df['Количество незаполненных полей, шт.'].sum()-sum([sobstv_op, i_d_op, imya_op]))/(len(df['Количество незаполненных полей, шт.'])-sum([sobstv, i_d,imya]))\n",
    "\n",
    "sobstv, sobstv_op, i_d, i_d_op, imya, imya_op\n",
    "df['Количество незаполненных полей, шт.'].sum()"
   ]
  },
  {
   "cell_type": "code",
   "execution_count": 225,
   "id": "250a4251",
   "metadata": {},
   "outputs": [
    {
     "data": {
      "application/vnd.plotly.v1+json": {
       "config": {
        "plotlyServerURL": "https://plot.ly"
       },
       "data": [
        {
         "type": "bar",
         "x": [
          "Собственники",
          "Агенства"
         ],
         "y": [
          4.211838006230529,
          3.7225531914893617
         ]
        }
       ],
       "layout": {
        "template": {
         "data": {
          "bar": [
           {
            "error_x": {
             "color": "#2a3f5f"
            },
            "error_y": {
             "color": "#2a3f5f"
            },
            "marker": {
             "line": {
              "color": "#E5ECF6",
              "width": 0.5
             }
            },
            "type": "bar"
           }
          ],
          "barpolar": [
           {
            "marker": {
             "line": {
              "color": "#E5ECF6",
              "width": 0.5
             }
            },
            "type": "barpolar"
           }
          ],
          "carpet": [
           {
            "aaxis": {
             "endlinecolor": "#2a3f5f",
             "gridcolor": "white",
             "linecolor": "white",
             "minorgridcolor": "white",
             "startlinecolor": "#2a3f5f"
            },
            "baxis": {
             "endlinecolor": "#2a3f5f",
             "gridcolor": "white",
             "linecolor": "white",
             "minorgridcolor": "white",
             "startlinecolor": "#2a3f5f"
            },
            "type": "carpet"
           }
          ],
          "choropleth": [
           {
            "colorbar": {
             "outlinewidth": 0,
             "ticks": ""
            },
            "type": "choropleth"
           }
          ],
          "contour": [
           {
            "colorbar": {
             "outlinewidth": 0,
             "ticks": ""
            },
            "colorscale": [
             [
              0,
              "#0d0887"
             ],
             [
              0.1111111111111111,
              "#46039f"
             ],
             [
              0.2222222222222222,
              "#7201a8"
             ],
             [
              0.3333333333333333,
              "#9c179e"
             ],
             [
              0.4444444444444444,
              "#bd3786"
             ],
             [
              0.5555555555555556,
              "#d8576b"
             ],
             [
              0.6666666666666666,
              "#ed7953"
             ],
             [
              0.7777777777777778,
              "#fb9f3a"
             ],
             [
              0.8888888888888888,
              "#fdca26"
             ],
             [
              1,
              "#f0f921"
             ]
            ],
            "type": "contour"
           }
          ],
          "contourcarpet": [
           {
            "colorbar": {
             "outlinewidth": 0,
             "ticks": ""
            },
            "type": "contourcarpet"
           }
          ],
          "heatmap": [
           {
            "colorbar": {
             "outlinewidth": 0,
             "ticks": ""
            },
            "colorscale": [
             [
              0,
              "#0d0887"
             ],
             [
              0.1111111111111111,
              "#46039f"
             ],
             [
              0.2222222222222222,
              "#7201a8"
             ],
             [
              0.3333333333333333,
              "#9c179e"
             ],
             [
              0.4444444444444444,
              "#bd3786"
             ],
             [
              0.5555555555555556,
              "#d8576b"
             ],
             [
              0.6666666666666666,
              "#ed7953"
             ],
             [
              0.7777777777777778,
              "#fb9f3a"
             ],
             [
              0.8888888888888888,
              "#fdca26"
             ],
             [
              1,
              "#f0f921"
             ]
            ],
            "type": "heatmap"
           }
          ],
          "heatmapgl": [
           {
            "colorbar": {
             "outlinewidth": 0,
             "ticks": ""
            },
            "colorscale": [
             [
              0,
              "#0d0887"
             ],
             [
              0.1111111111111111,
              "#46039f"
             ],
             [
              0.2222222222222222,
              "#7201a8"
             ],
             [
              0.3333333333333333,
              "#9c179e"
             ],
             [
              0.4444444444444444,
              "#bd3786"
             ],
             [
              0.5555555555555556,
              "#d8576b"
             ],
             [
              0.6666666666666666,
              "#ed7953"
             ],
             [
              0.7777777777777778,
              "#fb9f3a"
             ],
             [
              0.8888888888888888,
              "#fdca26"
             ],
             [
              1,
              "#f0f921"
             ]
            ],
            "type": "heatmapgl"
           }
          ],
          "histogram": [
           {
            "marker": {
             "colorbar": {
              "outlinewidth": 0,
              "ticks": ""
             }
            },
            "type": "histogram"
           }
          ],
          "histogram2d": [
           {
            "colorbar": {
             "outlinewidth": 0,
             "ticks": ""
            },
            "colorscale": [
             [
              0,
              "#0d0887"
             ],
             [
              0.1111111111111111,
              "#46039f"
             ],
             [
              0.2222222222222222,
              "#7201a8"
             ],
             [
              0.3333333333333333,
              "#9c179e"
             ],
             [
              0.4444444444444444,
              "#bd3786"
             ],
             [
              0.5555555555555556,
              "#d8576b"
             ],
             [
              0.6666666666666666,
              "#ed7953"
             ],
             [
              0.7777777777777778,
              "#fb9f3a"
             ],
             [
              0.8888888888888888,
              "#fdca26"
             ],
             [
              1,
              "#f0f921"
             ]
            ],
            "type": "histogram2d"
           }
          ],
          "histogram2dcontour": [
           {
            "colorbar": {
             "outlinewidth": 0,
             "ticks": ""
            },
            "colorscale": [
             [
              0,
              "#0d0887"
             ],
             [
              0.1111111111111111,
              "#46039f"
             ],
             [
              0.2222222222222222,
              "#7201a8"
             ],
             [
              0.3333333333333333,
              "#9c179e"
             ],
             [
              0.4444444444444444,
              "#bd3786"
             ],
             [
              0.5555555555555556,
              "#d8576b"
             ],
             [
              0.6666666666666666,
              "#ed7953"
             ],
             [
              0.7777777777777778,
              "#fb9f3a"
             ],
             [
              0.8888888888888888,
              "#fdca26"
             ],
             [
              1,
              "#f0f921"
             ]
            ],
            "type": "histogram2dcontour"
           }
          ],
          "mesh3d": [
           {
            "colorbar": {
             "outlinewidth": 0,
             "ticks": ""
            },
            "type": "mesh3d"
           }
          ],
          "parcoords": [
           {
            "line": {
             "colorbar": {
              "outlinewidth": 0,
              "ticks": ""
             }
            },
            "type": "parcoords"
           }
          ],
          "pie": [
           {
            "automargin": true,
            "type": "pie"
           }
          ],
          "scatter": [
           {
            "marker": {
             "colorbar": {
              "outlinewidth": 0,
              "ticks": ""
             }
            },
            "type": "scatter"
           }
          ],
          "scatter3d": [
           {
            "line": {
             "colorbar": {
              "outlinewidth": 0,
              "ticks": ""
             }
            },
            "marker": {
             "colorbar": {
              "outlinewidth": 0,
              "ticks": ""
             }
            },
            "type": "scatter3d"
           }
          ],
          "scattercarpet": [
           {
            "marker": {
             "colorbar": {
              "outlinewidth": 0,
              "ticks": ""
             }
            },
            "type": "scattercarpet"
           }
          ],
          "scattergeo": [
           {
            "marker": {
             "colorbar": {
              "outlinewidth": 0,
              "ticks": ""
             }
            },
            "type": "scattergeo"
           }
          ],
          "scattergl": [
           {
            "marker": {
             "colorbar": {
              "outlinewidth": 0,
              "ticks": ""
             }
            },
            "type": "scattergl"
           }
          ],
          "scattermapbox": [
           {
            "marker": {
             "colorbar": {
              "outlinewidth": 0,
              "ticks": ""
             }
            },
            "type": "scattermapbox"
           }
          ],
          "scatterpolar": [
           {
            "marker": {
             "colorbar": {
              "outlinewidth": 0,
              "ticks": ""
             }
            },
            "type": "scatterpolar"
           }
          ],
          "scatterpolargl": [
           {
            "marker": {
             "colorbar": {
              "outlinewidth": 0,
              "ticks": ""
             }
            },
            "type": "scatterpolargl"
           }
          ],
          "scatterternary": [
           {
            "marker": {
             "colorbar": {
              "outlinewidth": 0,
              "ticks": ""
             }
            },
            "type": "scatterternary"
           }
          ],
          "surface": [
           {
            "colorbar": {
             "outlinewidth": 0,
             "ticks": ""
            },
            "colorscale": [
             [
              0,
              "#0d0887"
             ],
             [
              0.1111111111111111,
              "#46039f"
             ],
             [
              0.2222222222222222,
              "#7201a8"
             ],
             [
              0.3333333333333333,
              "#9c179e"
             ],
             [
              0.4444444444444444,
              "#bd3786"
             ],
             [
              0.5555555555555556,
              "#d8576b"
             ],
             [
              0.6666666666666666,
              "#ed7953"
             ],
             [
              0.7777777777777778,
              "#fb9f3a"
             ],
             [
              0.8888888888888888,
              "#fdca26"
             ],
             [
              1,
              "#f0f921"
             ]
            ],
            "type": "surface"
           }
          ],
          "table": [
           {
            "cells": {
             "fill": {
              "color": "#EBF0F8"
             },
             "line": {
              "color": "white"
             }
            },
            "header": {
             "fill": {
              "color": "#C8D4E3"
             },
             "line": {
              "color": "white"
             }
            },
            "type": "table"
           }
          ]
         },
         "layout": {
          "annotationdefaults": {
           "arrowcolor": "#2a3f5f",
           "arrowhead": 0,
           "arrowwidth": 1
          },
          "autotypenumbers": "strict",
          "coloraxis": {
           "colorbar": {
            "outlinewidth": 0,
            "ticks": ""
           }
          },
          "colorscale": {
           "diverging": [
            [
             0,
             "#8e0152"
            ],
            [
             0.1,
             "#c51b7d"
            ],
            [
             0.2,
             "#de77ae"
            ],
            [
             0.3,
             "#f1b6da"
            ],
            [
             0.4,
             "#fde0ef"
            ],
            [
             0.5,
             "#f7f7f7"
            ],
            [
             0.6,
             "#e6f5d0"
            ],
            [
             0.7,
             "#b8e186"
            ],
            [
             0.8,
             "#7fbc41"
            ],
            [
             0.9,
             "#4d9221"
            ],
            [
             1,
             "#276419"
            ]
           ],
           "sequential": [
            [
             0,
             "#0d0887"
            ],
            [
             0.1111111111111111,
             "#46039f"
            ],
            [
             0.2222222222222222,
             "#7201a8"
            ],
            [
             0.3333333333333333,
             "#9c179e"
            ],
            [
             0.4444444444444444,
             "#bd3786"
            ],
            [
             0.5555555555555556,
             "#d8576b"
            ],
            [
             0.6666666666666666,
             "#ed7953"
            ],
            [
             0.7777777777777778,
             "#fb9f3a"
            ],
            [
             0.8888888888888888,
             "#fdca26"
            ],
            [
             1,
             "#f0f921"
            ]
           ],
           "sequentialminus": [
            [
             0,
             "#0d0887"
            ],
            [
             0.1111111111111111,
             "#46039f"
            ],
            [
             0.2222222222222222,
             "#7201a8"
            ],
            [
             0.3333333333333333,
             "#9c179e"
            ],
            [
             0.4444444444444444,
             "#bd3786"
            ],
            [
             0.5555555555555556,
             "#d8576b"
            ],
            [
             0.6666666666666666,
             "#ed7953"
            ],
            [
             0.7777777777777778,
             "#fb9f3a"
            ],
            [
             0.8888888888888888,
             "#fdca26"
            ],
            [
             1,
             "#f0f921"
            ]
           ]
          },
          "colorway": [
           "#636efa",
           "#EF553B",
           "#00cc96",
           "#ab63fa",
           "#FFA15A",
           "#19d3f3",
           "#FF6692",
           "#B6E880",
           "#FF97FF",
           "#FECB52"
          ],
          "font": {
           "color": "#2a3f5f"
          },
          "geo": {
           "bgcolor": "white",
           "lakecolor": "white",
           "landcolor": "#E5ECF6",
           "showlakes": true,
           "showland": true,
           "subunitcolor": "white"
          },
          "hoverlabel": {
           "align": "left"
          },
          "hovermode": "closest",
          "mapbox": {
           "style": "light"
          },
          "paper_bgcolor": "white",
          "plot_bgcolor": "#E5ECF6",
          "polar": {
           "angularaxis": {
            "gridcolor": "white",
            "linecolor": "white",
            "ticks": ""
           },
           "bgcolor": "#E5ECF6",
           "radialaxis": {
            "gridcolor": "white",
            "linecolor": "white",
            "ticks": ""
           }
          },
          "scene": {
           "xaxis": {
            "backgroundcolor": "#E5ECF6",
            "gridcolor": "white",
            "gridwidth": 2,
            "linecolor": "white",
            "showbackground": true,
            "ticks": "",
            "zerolinecolor": "white"
           },
           "yaxis": {
            "backgroundcolor": "#E5ECF6",
            "gridcolor": "white",
            "gridwidth": 2,
            "linecolor": "white",
            "showbackground": true,
            "ticks": "",
            "zerolinecolor": "white"
           },
           "zaxis": {
            "backgroundcolor": "#E5ECF6",
            "gridcolor": "white",
            "gridwidth": 2,
            "linecolor": "white",
            "showbackground": true,
            "ticks": "",
            "zerolinecolor": "white"
           }
          },
          "shapedefaults": {
           "line": {
            "color": "#2a3f5f"
           }
          },
          "ternary": {
           "aaxis": {
            "gridcolor": "white",
            "linecolor": "white",
            "ticks": ""
           },
           "baxis": {
            "gridcolor": "white",
            "linecolor": "white",
            "ticks": ""
           },
           "bgcolor": "#E5ECF6",
           "caxis": {
            "gridcolor": "white",
            "linecolor": "white",
            "ticks": ""
           }
          },
          "title": {
           "x": 0.05
          },
          "xaxis": {
           "automargin": true,
           "gridcolor": "white",
           "linecolor": "white",
           "ticks": "",
           "title": {
            "standoff": 15
           },
           "zerolinecolor": "white",
           "zerolinewidth": 2
          },
          "yaxis": {
           "automargin": true,
           "gridcolor": "white",
           "linecolor": "white",
           "ticks": "",
           "title": {
            "standoff": 15
           },
           "zerolinecolor": "white",
           "zerolinewidth": 2
          }
         }
        },
        "title": {
         "text": "Средняя длина объявления по типу арендодателя, слов"
        }
       }
      },
      "text/html": [
       "<div>                            <div id=\"8f1faae6-de67-4213-b798-4178347b52d3\" class=\"plotly-graph-div\" style=\"height:525px; width:100%;\"></div>            <script type=\"text/javascript\">                require([\"plotly\"], function(Plotly) {                    window.PLOTLYENV=window.PLOTLYENV || {};                                    if (document.getElementById(\"8f1faae6-de67-4213-b798-4178347b52d3\")) {                    Plotly.newPlot(                        \"8f1faae6-de67-4213-b798-4178347b52d3\",                        [{\"type\": \"bar\", \"x\": [\"\\u0421\\u043e\\u0431\\u0441\\u0442\\u0432\\u0435\\u043d\\u043d\\u0438\\u043a\\u0438\", \"\\u0410\\u0433\\u0435\\u043d\\u0441\\u0442\\u0432\\u0430\"], \"y\": [4.211838006230529, 3.7225531914893617]}],                        {\"template\": {\"data\": {\"bar\": [{\"error_x\": {\"color\": \"#2a3f5f\"}, \"error_y\": {\"color\": \"#2a3f5f\"}, \"marker\": {\"line\": {\"color\": \"#E5ECF6\", \"width\": 0.5}}, \"type\": \"bar\"}], \"barpolar\": [{\"marker\": {\"line\": {\"color\": \"#E5ECF6\", \"width\": 0.5}}, \"type\": \"barpolar\"}], \"carpet\": [{\"aaxis\": {\"endlinecolor\": \"#2a3f5f\", \"gridcolor\": \"white\", \"linecolor\": \"white\", \"minorgridcolor\": \"white\", \"startlinecolor\": \"#2a3f5f\"}, \"baxis\": {\"endlinecolor\": \"#2a3f5f\", \"gridcolor\": \"white\", \"linecolor\": \"white\", \"minorgridcolor\": \"white\", \"startlinecolor\": \"#2a3f5f\"}, \"type\": \"carpet\"}], \"choropleth\": [{\"colorbar\": {\"outlinewidth\": 0, \"ticks\": \"\"}, \"type\": \"choropleth\"}], \"contour\": [{\"colorbar\": {\"outlinewidth\": 0, \"ticks\": \"\"}, \"colorscale\": [[0.0, \"#0d0887\"], [0.1111111111111111, \"#46039f\"], [0.2222222222222222, \"#7201a8\"], [0.3333333333333333, \"#9c179e\"], [0.4444444444444444, \"#bd3786\"], [0.5555555555555556, \"#d8576b\"], [0.6666666666666666, \"#ed7953\"], [0.7777777777777778, \"#fb9f3a\"], [0.8888888888888888, \"#fdca26\"], [1.0, \"#f0f921\"]], \"type\": \"contour\"}], \"contourcarpet\": [{\"colorbar\": {\"outlinewidth\": 0, \"ticks\": \"\"}, \"type\": \"contourcarpet\"}], \"heatmap\": [{\"colorbar\": {\"outlinewidth\": 0, \"ticks\": \"\"}, \"colorscale\": [[0.0, \"#0d0887\"], [0.1111111111111111, \"#46039f\"], [0.2222222222222222, \"#7201a8\"], [0.3333333333333333, \"#9c179e\"], [0.4444444444444444, \"#bd3786\"], [0.5555555555555556, \"#d8576b\"], [0.6666666666666666, \"#ed7953\"], [0.7777777777777778, \"#fb9f3a\"], [0.8888888888888888, \"#fdca26\"], [1.0, \"#f0f921\"]], \"type\": \"heatmap\"}], \"heatmapgl\": [{\"colorbar\": {\"outlinewidth\": 0, \"ticks\": \"\"}, \"colorscale\": [[0.0, \"#0d0887\"], [0.1111111111111111, \"#46039f\"], [0.2222222222222222, \"#7201a8\"], [0.3333333333333333, \"#9c179e\"], [0.4444444444444444, \"#bd3786\"], [0.5555555555555556, \"#d8576b\"], [0.6666666666666666, \"#ed7953\"], [0.7777777777777778, \"#fb9f3a\"], [0.8888888888888888, \"#fdca26\"], [1.0, \"#f0f921\"]], \"type\": \"heatmapgl\"}], \"histogram\": [{\"marker\": {\"colorbar\": {\"outlinewidth\": 0, \"ticks\": \"\"}}, \"type\": \"histogram\"}], \"histogram2d\": [{\"colorbar\": {\"outlinewidth\": 0, \"ticks\": \"\"}, \"colorscale\": [[0.0, \"#0d0887\"], [0.1111111111111111, \"#46039f\"], [0.2222222222222222, \"#7201a8\"], [0.3333333333333333, \"#9c179e\"], [0.4444444444444444, \"#bd3786\"], [0.5555555555555556, \"#d8576b\"], [0.6666666666666666, \"#ed7953\"], [0.7777777777777778, \"#fb9f3a\"], [0.8888888888888888, \"#fdca26\"], [1.0, \"#f0f921\"]], \"type\": \"histogram2d\"}], \"histogram2dcontour\": [{\"colorbar\": {\"outlinewidth\": 0, \"ticks\": \"\"}, \"colorscale\": [[0.0, \"#0d0887\"], [0.1111111111111111, \"#46039f\"], [0.2222222222222222, \"#7201a8\"], [0.3333333333333333, \"#9c179e\"], [0.4444444444444444, \"#bd3786\"], [0.5555555555555556, \"#d8576b\"], [0.6666666666666666, \"#ed7953\"], [0.7777777777777778, \"#fb9f3a\"], [0.8888888888888888, \"#fdca26\"], [1.0, \"#f0f921\"]], \"type\": \"histogram2dcontour\"}], \"mesh3d\": [{\"colorbar\": {\"outlinewidth\": 0, \"ticks\": \"\"}, \"type\": \"mesh3d\"}], \"parcoords\": [{\"line\": {\"colorbar\": {\"outlinewidth\": 0, \"ticks\": \"\"}}, \"type\": \"parcoords\"}], \"pie\": [{\"automargin\": true, \"type\": \"pie\"}], \"scatter\": [{\"marker\": {\"colorbar\": {\"outlinewidth\": 0, \"ticks\": \"\"}}, \"type\": \"scatter\"}], \"scatter3d\": [{\"line\": {\"colorbar\": {\"outlinewidth\": 0, \"ticks\": \"\"}}, \"marker\": {\"colorbar\": {\"outlinewidth\": 0, \"ticks\": \"\"}}, \"type\": \"scatter3d\"}], \"scattercarpet\": [{\"marker\": {\"colorbar\": {\"outlinewidth\": 0, \"ticks\": \"\"}}, \"type\": \"scattercarpet\"}], \"scattergeo\": [{\"marker\": {\"colorbar\": {\"outlinewidth\": 0, \"ticks\": \"\"}}, \"type\": \"scattergeo\"}], \"scattergl\": [{\"marker\": {\"colorbar\": {\"outlinewidth\": 0, \"ticks\": \"\"}}, \"type\": \"scattergl\"}], \"scattermapbox\": [{\"marker\": {\"colorbar\": {\"outlinewidth\": 0, \"ticks\": \"\"}}, \"type\": \"scattermapbox\"}], \"scatterpolar\": [{\"marker\": {\"colorbar\": {\"outlinewidth\": 0, \"ticks\": \"\"}}, \"type\": \"scatterpolar\"}], \"scatterpolargl\": [{\"marker\": {\"colorbar\": {\"outlinewidth\": 0, \"ticks\": \"\"}}, \"type\": \"scatterpolargl\"}], \"scatterternary\": [{\"marker\": {\"colorbar\": {\"outlinewidth\": 0, \"ticks\": \"\"}}, \"type\": \"scatterternary\"}], \"surface\": [{\"colorbar\": {\"outlinewidth\": 0, \"ticks\": \"\"}, \"colorscale\": [[0.0, \"#0d0887\"], [0.1111111111111111, \"#46039f\"], [0.2222222222222222, \"#7201a8\"], [0.3333333333333333, \"#9c179e\"], [0.4444444444444444, \"#bd3786\"], [0.5555555555555556, \"#d8576b\"], [0.6666666666666666, \"#ed7953\"], [0.7777777777777778, \"#fb9f3a\"], [0.8888888888888888, \"#fdca26\"], [1.0, \"#f0f921\"]], \"type\": \"surface\"}], \"table\": [{\"cells\": {\"fill\": {\"color\": \"#EBF0F8\"}, \"line\": {\"color\": \"white\"}}, \"header\": {\"fill\": {\"color\": \"#C8D4E3\"}, \"line\": {\"color\": \"white\"}}, \"type\": \"table\"}]}, \"layout\": {\"annotationdefaults\": {\"arrowcolor\": \"#2a3f5f\", \"arrowhead\": 0, \"arrowwidth\": 1}, \"autotypenumbers\": \"strict\", \"coloraxis\": {\"colorbar\": {\"outlinewidth\": 0, \"ticks\": \"\"}}, \"colorscale\": {\"diverging\": [[0, \"#8e0152\"], [0.1, \"#c51b7d\"], [0.2, \"#de77ae\"], [0.3, \"#f1b6da\"], [0.4, \"#fde0ef\"], [0.5, \"#f7f7f7\"], [0.6, \"#e6f5d0\"], [0.7, \"#b8e186\"], [0.8, \"#7fbc41\"], [0.9, \"#4d9221\"], [1, \"#276419\"]], \"sequential\": [[0.0, \"#0d0887\"], [0.1111111111111111, \"#46039f\"], [0.2222222222222222, \"#7201a8\"], [0.3333333333333333, \"#9c179e\"], [0.4444444444444444, \"#bd3786\"], [0.5555555555555556, \"#d8576b\"], [0.6666666666666666, \"#ed7953\"], [0.7777777777777778, \"#fb9f3a\"], [0.8888888888888888, \"#fdca26\"], [1.0, \"#f0f921\"]], \"sequentialminus\": [[0.0, \"#0d0887\"], [0.1111111111111111, \"#46039f\"], [0.2222222222222222, \"#7201a8\"], [0.3333333333333333, \"#9c179e\"], [0.4444444444444444, \"#bd3786\"], [0.5555555555555556, \"#d8576b\"], [0.6666666666666666, \"#ed7953\"], [0.7777777777777778, \"#fb9f3a\"], [0.8888888888888888, \"#fdca26\"], [1.0, \"#f0f921\"]]}, \"colorway\": [\"#636efa\", \"#EF553B\", \"#00cc96\", \"#ab63fa\", \"#FFA15A\", \"#19d3f3\", \"#FF6692\", \"#B6E880\", \"#FF97FF\", \"#FECB52\"], \"font\": {\"color\": \"#2a3f5f\"}, \"geo\": {\"bgcolor\": \"white\", \"lakecolor\": \"white\", \"landcolor\": \"#E5ECF6\", \"showlakes\": true, \"showland\": true, \"subunitcolor\": \"white\"}, \"hoverlabel\": {\"align\": \"left\"}, \"hovermode\": \"closest\", \"mapbox\": {\"style\": \"light\"}, \"paper_bgcolor\": \"white\", \"plot_bgcolor\": \"#E5ECF6\", \"polar\": {\"angularaxis\": {\"gridcolor\": \"white\", \"linecolor\": \"white\", \"ticks\": \"\"}, \"bgcolor\": \"#E5ECF6\", \"radialaxis\": {\"gridcolor\": \"white\", \"linecolor\": \"white\", \"ticks\": \"\"}}, \"scene\": {\"xaxis\": {\"backgroundcolor\": \"#E5ECF6\", \"gridcolor\": \"white\", \"gridwidth\": 2, \"linecolor\": \"white\", \"showbackground\": true, \"ticks\": \"\", \"zerolinecolor\": \"white\"}, \"yaxis\": {\"backgroundcolor\": \"#E5ECF6\", \"gridcolor\": \"white\", \"gridwidth\": 2, \"linecolor\": \"white\", \"showbackground\": true, \"ticks\": \"\", \"zerolinecolor\": \"white\"}, \"zaxis\": {\"backgroundcolor\": \"#E5ECF6\", \"gridcolor\": \"white\", \"gridwidth\": 2, \"linecolor\": \"white\", \"showbackground\": true, \"ticks\": \"\", \"zerolinecolor\": \"white\"}}, \"shapedefaults\": {\"line\": {\"color\": \"#2a3f5f\"}}, \"ternary\": {\"aaxis\": {\"gridcolor\": \"white\", \"linecolor\": \"white\", \"ticks\": \"\"}, \"baxis\": {\"gridcolor\": \"white\", \"linecolor\": \"white\", \"ticks\": \"\"}, \"bgcolor\": \"#E5ECF6\", \"caxis\": {\"gridcolor\": \"white\", \"linecolor\": \"white\", \"ticks\": \"\"}}, \"title\": {\"x\": 0.05}, \"xaxis\": {\"automargin\": true, \"gridcolor\": \"white\", \"linecolor\": \"white\", \"ticks\": \"\", \"title\": {\"standoff\": 15}, \"zerolinecolor\": \"white\", \"zerolinewidth\": 2}, \"yaxis\": {\"automargin\": true, \"gridcolor\": \"white\", \"linecolor\": \"white\", \"ticks\": \"\", \"title\": {\"standoff\": 15}, \"zerolinecolor\": \"white\", \"zerolinewidth\": 2}}}, \"title\": {\"text\": \"\\u0421\\u0440\\u0435\\u0434\\u043d\\u044f\\u044f \\u0434\\u043b\\u0438\\u043d\\u0430 \\u043e\\u0431\\u044a\\u044f\\u0432\\u043b\\u0435\\u043d\\u0438\\u044f \\u043f\\u043e \\u0442\\u0438\\u043f\\u0443 \\u0430\\u0440\\u0435\\u043d\\u0434\\u043e\\u0434\\u0430\\u0442\\u0435\\u043b\\u044f, \\u0441\\u043b\\u043e\\u0432\"}},                        {\"responsive\": true}                    ).then(function(){\n",
       "                            \n",
       "var gd = document.getElementById('8f1faae6-de67-4213-b798-4178347b52d3');\n",
       "var x = new MutationObserver(function (mutations, observer) {{\n",
       "        var display = window.getComputedStyle(gd).display;\n",
       "        if (!display || display === 'none') {{\n",
       "            console.log([gd, 'removed!']);\n",
       "            Plotly.purge(gd);\n",
       "            observer.disconnect();\n",
       "        }}\n",
       "}});\n",
       "\n",
       "// Listen for the removal of the full notebook cells\n",
       "var notebookContainer = gd.closest('#notebook-container');\n",
       "if (notebookContainer) {{\n",
       "    x.observe(notebookContainer, {childList: true});\n",
       "}}\n",
       "\n",
       "// Listen for the clearing of the current output cell\n",
       "var outputEl = gd.closest('.output');\n",
       "if (outputEl) {{\n",
       "    x.observe(outputEl, {childList: true});\n",
       "}}\n",
       "\n",
       "                        })                };                });            </script>        </div>"
      ]
     },
     "metadata": {},
     "output_type": "display_data"
    }
   ],
   "source": [
    "fig = go.Figure(data = [go.Bar(x = ['Собственники', 'Агенства'], y = [average_ommissions_sobstv, average_ommissions_agents])], layout_title_text = 'Среднее количество пропусков в объявлении, признаков')\n",
    "fig.show()"
   ]
  },
  {
   "cell_type": "markdown",
   "id": "179f8238",
   "metadata": {},
   "source": [
    "Очевидно, что в среднем пропусков практически равное количество, но в объявлениях немного больше."
   ]
  },
  {
   "cell_type": "markdown",
   "id": "5a626597",
   "metadata": {},
   "source": [
    "3. Анализ \"престижности\" квартиры на основе сделанного в ней ремонта, престижности района и её цены"
   ]
  },
  {
   "cell_type": "markdown",
   "id": "433f8518",
   "metadata": {},
   "source": [
    "Для начала посмотрим, какому району чаще всего соответствует какой ремонт."
   ]
  },
  {
   "cell_type": "code",
   "execution_count": 95,
   "id": "c436fa46",
   "metadata": {},
   "outputs": [
    {
     "name": "stdout",
     "output_type": "stream",
     "text": [
      "Collecting chord\n",
      "  Downloading chord-1.0.1-py3-none-any.whl (19 kB)\n",
      "Installing collected packages: chord\n",
      "Successfully installed chord-1.0.1\n"
     ]
    }
   ],
   "source": [
    "df1 = df[df['Тип ремонта'] != 'Нет данных']\n"
   ]
  },
  {
   "cell_type": "code",
   "execution_count": null,
   "id": "162f2937",
   "metadata": {},
   "outputs": [],
   "source": []
=======
=======
>>>>>>> parent of a440497 (Merge branch 'main' of https://github.com/hse-econ-data-science/hw4_project-aksenov-loginov-zaharova-bec204 into main)
   "execution_count": null,
   "id": "0dd9099c",
   "metadata": {},
   "outputs": [],
   "source": [
    "Проверка гипотезы из пункта 5 с помощью группировки данных."
   ]
<<<<<<< HEAD
>>>>>>> parent of a440497 (Merge branch 'main' of https://github.com/hse-econ-data-science/hw4_project-aksenov-loginov-zaharova-bec204 into main)
=======
>>>>>>> parent of a440497 (Merge branch 'main' of https://github.com/hse-econ-data-science/hw4_project-aksenov-loginov-zaharova-bec204 into main)
  }
 ],
 "metadata": {
  "kernelspec": {
   "display_name": "Python 3",
   "language": "python",
   "name": "python3"
  },
  "language_info": {
   "codemirror_mode": {
    "name": "ipython",
    "version": 3
   },
   "file_extension": ".py",
   "mimetype": "text/x-python",
   "name": "python",
   "nbconvert_exporter": "python",
   "pygments_lexer": "ipython3",
<<<<<<< HEAD
<<<<<<< HEAD
   "version": "3.8.8"
=======
   "version": "3.9.5"
>>>>>>> parent of a440497 (Merge branch 'main' of https://github.com/hse-econ-data-science/hw4_project-aksenov-loginov-zaharova-bec204 into main)
=======
   "version": "3.9.5"
>>>>>>> parent of a440497 (Merge branch 'main' of https://github.com/hse-econ-data-science/hw4_project-aksenov-loginov-zaharova-bec204 into main)
  }
 },
 "nbformat": 4,
 "nbformat_minor": 5
}
