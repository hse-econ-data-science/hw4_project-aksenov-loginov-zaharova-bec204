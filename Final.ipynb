{
 "cells": [
  {
   "cell_type": "markdown",
   "id": "7432a84d",
   "metadata": {},
   "source": [
    "# Шаг 1. Парсинг"
   ]
  },
  {
   "cell_type": "code",
   "execution_count": null,
   "id": "7e842116",
   "metadata": {},
   "outputs": [],
   "source": [
    "тут офигенная история о том, что вы делали, чтобы добыть нам данные + код (будем считать, что мы не склеивали из кусков, а сразу всё в один док засунули (?))"
   ]
  },
  {
   "cell_type": "markdown",
   "id": "9f431d07",
   "metadata": {},
   "source": [
    "# Шаг 2. Предварителная обработка"
   ]
  },
  {
   "cell_type": "code",
   "execution_count": null,
   "id": "de876a6c",
   "metadata": {},
   "outputs": [],
   "source": [
    "тут офигенная история о том, как обработали столбцы и что с ними сделали (сделаю завтра утром на основе omissions)"
   ]
  },
  {
   "cell_type": "markdown",
   "id": "82f98a9f",
   "metadata": {},
   "source": [
    "# Шаг 3. Создание новых признаков"
   ]
  },
  {
   "cell_type": "code",
   "execution_count": null,
   "id": "530b0b99",
   "metadata": {},
   "outputs": [],
   "source": [
    "С ходу придумываются только новостройка/относительно старое здание (нужно договориться о годе постройки),\n",
    "находится ли район в центре,\n",
    "сколько квартир у данного собственника\n"
   ]
  },
  {
   "cell_type": "markdown",
   "id": "f7d515de",
   "metadata": {},
   "source": [
    "# Шаг 4. Визуализация"
   ]
  },
  {
   "cell_type": "code",
   "execution_count": null,
   "id": "9d9b2667",
   "metadata": {},
   "outputs": [],
   "source": [
    "График i. код + комментарий (описание графика). Нужно выдвинуть гипотезу на основе графика."
   ]
  },
  {
   "cell_type": "markdown",
   "id": "0c99cb6c",
   "metadata": {},
   "source": [
    "# Шаг 5. Работа с pandas"
   ]
  },
  {
   "cell_type": "code",
   "execution_count": null,
   "id": "a83dc058",
   "metadata": {},
   "outputs": [],
   "source": [
    "Проверка гипотезы из пункта 5 с помощью группировки данных."
   ]
  }
 ],
 "metadata": {
  "kernelspec": {
   "display_name": "Python 3",
   "language": "python",
   "name": "python3"
  },
  "language_info": {
   "codemirror_mode": {
    "name": "ipython",
    "version": 3
   },
   "file_extension": ".py",
   "mimetype": "text/x-python",
   "name": "python",
   "nbconvert_exporter": "python",
   "pygments_lexer": "ipython3",
   "version": "3.8.8"
  }
 },
 "nbformat": 4,
 "nbformat_minor": 5
}
